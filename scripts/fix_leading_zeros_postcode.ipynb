{
 "cells": [
  {
   "cell_type": "code",
   "execution_count": 1,
   "metadata": {
    "collapsed": true,
    "pycharm": {
     "name": "#%%\n"
    }
   },
   "outputs": [
    {
     "name": "stderr",
     "output_type": "stream",
     "text": [
      "22/09/29 15:53:52 WARN Utils: Your hostname, LAPTOP-VAB0S7AL resolves to a loopback address: 127.0.1.1; using 172.25.148.245 instead (on interface eth0)\n",
      "22/09/29 15:53:52 WARN Utils: Set SPARK_LOCAL_IP if you need to bind to another address\n",
      "WARNING: An illegal reflective access operation has occurred\n",
      "WARNING: Illegal reflective access by org.apache.spark.unsafe.Platform (file:/home/noahs/miniconda3/lib/python3.8/site-packages/pyspark/jars/spark-unsafe_2.12-3.1.2.jar) to constructor java.nio.DirectByteBuffer(long,int)\n",
      "WARNING: Please consider reporting this to the maintainers of org.apache.spark.unsafe.Platform\n",
      "WARNING: Use --illegal-access=warn to enable warnings of further illegal reflective access operations\n",
      "WARNING: All illegal access operations will be denied in a future release\n",
      "22/09/29 15:53:53 WARN NativeCodeLoader: Unable to load native-hadoop library for your platform... using builtin-java classes where applicable\n",
      "Using Spark's default log4j profile: org/apache/spark/log4j-defaults.properties\n",
      "Setting default log level to \"WARN\".\n",
      "To adjust logging level use sc.setLogLevel(newLevel). For SparkR, use setLogLevel(newLevel).\n"
     ]
    }
   ],
   "source": [
    "import matplotlib.pyplot as plt\n",
    "from pyspark.sql import SparkSession, functions as F\n",
    "\n",
    "# Create a spark session\n",
    "spark = (\n",
    "    SparkSession.builder.appName(\"BNPL Project\")\n",
    "    .config(\"spark.sql.repl.eagerEval.enabled\", True)\n",
    "    .config(\"spark.sql.parquet.cacheMetadata\", \"true\")\n",
    "    .config(\"spark.driver.memory\", \"4g\")\n",
    "    .config(\"spark.sql.session.timeZone\", \"Etc/UTC\")\n",
    "    .getOrCreate()\n",
    ")"
   ]
  },
  {
   "cell_type": "code",
   "execution_count": 2,
   "outputs": [],
   "source": [
    "from etl_ext_datasets_funcs import etl_population, etl_income, join_ext_with_master"
   ],
   "metadata": {
    "collapsed": false,
    "pycharm": {
     "name": "#%%\n"
    }
   }
  },
  {
   "cell_type": "code",
   "execution_count": 3,
   "outputs": [],
   "source": [
    "etl_pop = etl_population()"
   ],
   "metadata": {
    "collapsed": false,
    "pycharm": {
     "name": "#%%\n"
    }
   }
  },
  {
   "cell_type": "code",
   "execution_count": 5,
   "outputs": [
    {
     "name": "stderr",
     "output_type": "stream",
     "text": [
      "                                                                                \r"
     ]
    },
    {
     "data": {
      "text/plain": "+--------+------------------------------------+\n|postcode|estimated_region_population_2021_sum|\n+--------+------------------------------------+\n|    0200|                                2161|\n|    0800|                                7088|\n|    0801|                                7088|\n|    0804|                                2827|\n|    0810|                               35007|\n+--------+------------------------------------+",
      "text/html": "<table border='1'>\n<tr><th>postcode</th><th>estimated_region_population_2021_sum</th></tr>\n<tr><td>0200</td><td>2161</td></tr>\n<tr><td>0800</td><td>7088</td></tr>\n<tr><td>0801</td><td>7088</td></tr>\n<tr><td>0804</td><td>2827</td></tr>\n<tr><td>0810</td><td>35007</td></tr>\n</table>\n"
     },
     "execution_count": 5,
     "metadata": {},
     "output_type": "execute_result"
    }
   ],
   "source": [
    "etl_pop.limit(5)"
   ],
   "metadata": {
    "collapsed": false,
    "pycharm": {
     "name": "#%%\n"
    }
   }
  },
  {
   "cell_type": "code",
   "execution_count": 4,
   "outputs": [
    {
     "name": "stderr",
     "output_type": "stream",
     "text": [
      "                                                                                \r"
     ]
    },
    {
     "data": {
      "text/plain": "+--------+------------------------------------+\n|postcode|estimated_region_population_2021_sum|\n+--------+------------------------------------+\n|    0200|                                2161|\n|    0800|                                7088|\n|    0801|                                7088|\n|    0804|                                2827|\n|    0810|                               35007|\n|    0811|                                3154|\n|    0812|                               18442|\n|    0813|                                2848|\n|    0814|                                3719|\n|    0815|                                3154|\n|    0820|                               33109|\n|    0821|                                2664|\n|    0822|                               69914|\n|    0828|                                1357|\n|    0829|                                4735|\n|    0830|                               29047|\n|    0831|                                4406|\n|    0832|                               29824|\n|    0834|                                3614|\n|    0835|                               11259|\n+--------+------------------------------------+\nonly showing top 20 rows",
      "text/html": "<table border='1'>\n<tr><th>postcode</th><th>estimated_region_population_2021_sum</th></tr>\n<tr><td>0200</td><td>2161</td></tr>\n<tr><td>0800</td><td>7088</td></tr>\n<tr><td>0801</td><td>7088</td></tr>\n<tr><td>0804</td><td>2827</td></tr>\n<tr><td>0810</td><td>35007</td></tr>\n<tr><td>0811</td><td>3154</td></tr>\n<tr><td>0812</td><td>18442</td></tr>\n<tr><td>0813</td><td>2848</td></tr>\n<tr><td>0814</td><td>3719</td></tr>\n<tr><td>0815</td><td>3154</td></tr>\n<tr><td>0820</td><td>33109</td></tr>\n<tr><td>0821</td><td>2664</td></tr>\n<tr><td>0822</td><td>69914</td></tr>\n<tr><td>0828</td><td>1357</td></tr>\n<tr><td>0829</td><td>4735</td></tr>\n<tr><td>0830</td><td>29047</td></tr>\n<tr><td>0831</td><td>4406</td></tr>\n<tr><td>0832</td><td>29824</td></tr>\n<tr><td>0834</td><td>3614</td></tr>\n<tr><td>0835</td><td>11259</td></tr>\n</table>\nonly showing top 20 rows\n"
     },
     "execution_count": 4,
     "metadata": {},
     "output_type": "execute_result"
    }
   ],
   "source": [
    "etl_pop.orderBy('postcode')"
   ],
   "metadata": {
    "collapsed": false,
    "pycharm": {
     "name": "#%%\n"
    }
   }
  },
  {
   "cell_type": "code",
   "execution_count": 14,
   "outputs": [
    {
     "name": "stdout",
     "output_type": "stream",
     "text": [
      "root\n",
      " |-- postcode: string (nullable = true)\n",
      " |-- estimated_region_population_2021_sum: long (nullable = true)\n",
      "\n"
     ]
    }
   ],
   "source": [
    "etl_pop.printSchema()"
   ],
   "metadata": {
    "collapsed": false,
    "pycharm": {
     "name": "#%%\n"
    }
   }
  },
  {
   "cell_type": "code",
   "execution_count": 5,
   "outputs": [],
   "source": [
    "sdf = spark.read.parquet(\"../data/curated/process_data.parquet/\").select('postcode', 'mean_earnings_2018-19_avg')"
   ],
   "metadata": {
    "collapsed": false,
    "pycharm": {
     "name": "#%%\n"
    }
   }
  },
  {
   "cell_type": "code",
   "execution_count": 13,
   "outputs": [
    {
     "name": "stdout",
     "output_type": "stream",
     "text": [
      "root\n",
      " |-- merchant_abn: long (nullable = true)\n",
      " |-- consumer_id: long (nullable = true)\n",
      " |-- user_id: long (nullable = true)\n",
      " |-- dollar_value: double (nullable = true)\n",
      " |-- order_id: string (nullable = true)\n",
      " |-- order_datetime: date (nullable = true)\n",
      " |-- state: string (nullable = true)\n",
      " |-- postcode: string (nullable = true)\n",
      " |-- gender: string (nullable = true)\n",
      " |-- merchant_name: string (nullable = true)\n",
      " |-- tag: string (nullable = true)\n",
      " |-- revenue: string (nullable = true)\n",
      " |-- rate: double (nullable = true)\n",
      " |-- category: string (nullable = true)\n",
      " |-- subcategory: string (nullable = true)\n",
      " |-- merchant_fraud_probability: double (nullable = true)\n",
      " |-- user_fraud_probability: double (nullable = true)\n",
      " |-- estimated_region_population_2021_sum: long (nullable = true)\n",
      " |-- persons_earners_2018-19_sum: double (nullable = true)\n",
      " |-- mean_earnings_2018-19_avg: double (nullable = true)\n",
      " |-- sum_earnings_2018-19_sum: double (nullable = true)\n",
      " |-- median_earnings_2018-19_avg: double (nullable = true)\n",
      " |-- med_age_earners_2018-19_avg: double (nullable = true)\n",
      "\n"
     ]
    }
   ],
   "source": [
    "spark.read.parquet(\"../data/curated/process_data.parquet/\").printSchema()\n",
    "#all."
   ],
   "metadata": {
    "collapsed": false,
    "pycharm": {
     "name": "#%%\n"
    }
   }
  },
  {
   "cell_type": "code",
   "execution_count": 16,
   "outputs": [
    {
     "name": "stderr",
     "output_type": "stream",
     "text": [
      "                                                                                \r"
     ]
    },
    {
     "data": {
      "text/plain": "+--------+-------------------------+\n|postcode|mean_earnings_2018-19_avg|\n+--------+-------------------------+\n|     801|                  74682.0|\n|     804|                  88303.0|\n|     810|        69868.83333333333|\n|     811|                  67459.0|\n|     812|                  70373.0|\n|     813|                  44246.0|\n|     814|                  83448.0|\n|     815|                  67459.0|\n|     820|        77045.90909090909|\n|     821|                  73384.0|\n|     822|                57779.125|\n|     828|                  76836.0|\n|     829|                  80226.0|\n|     830|                69863.875|\n|     831|                  76254.0|\n|     832|                  74344.0|\n|     834|                  70984.0|\n|     835|                  72946.0|\n|     836|                  74693.0|\n|     837|                  69353.0|\n+--------+-------------------------+",
      "text/html": "<table border='1'>\n<tr><th>postcode</th><th>mean_earnings_2018-19_avg</th></tr>\n<tr><td>801</td><td>74682.0</td></tr>\n<tr><td>804</td><td>88303.0</td></tr>\n<tr><td>810</td><td>69868.83333333333</td></tr>\n<tr><td>811</td><td>67459.0</td></tr>\n<tr><td>812</td><td>70373.0</td></tr>\n<tr><td>813</td><td>44246.0</td></tr>\n<tr><td>814</td><td>83448.0</td></tr>\n<tr><td>815</td><td>67459.0</td></tr>\n<tr><td>820</td><td>77045.90909090909</td></tr>\n<tr><td>821</td><td>73384.0</td></tr>\n<tr><td>822</td><td>57779.125</td></tr>\n<tr><td>828</td><td>76836.0</td></tr>\n<tr><td>829</td><td>80226.0</td></tr>\n<tr><td>830</td><td>69863.875</td></tr>\n<tr><td>831</td><td>76254.0</td></tr>\n<tr><td>832</td><td>74344.0</td></tr>\n<tr><td>834</td><td>70984.0</td></tr>\n<tr><td>835</td><td>72946.0</td></tr>\n<tr><td>836</td><td>74693.0</td></tr>\n<tr><td>837</td><td>69353.0</td></tr>\n</table>\n"
     },
     "execution_count": 16,
     "metadata": {},
     "output_type": "execute_result"
    }
   ],
   "source": [
    "sdf.where((sdf['postcode'] <= 860) & (sdf['postcode'] > 800)).distinct().orderBy('postcode').limit(20)"
   ],
   "metadata": {
    "collapsed": false,
    "pycharm": {
     "name": "#%%\n"
    }
   }
  },
  {
   "cell_type": "code",
   "execution_count": 6,
   "outputs": [
    {
     "name": "stderr",
     "output_type": "stream",
     "text": [
      "                                                                                \r"
     ]
    },
    {
     "data": {
      "text/plain": "+--------+-------------------------+\n|postcode|mean_earnings_2018-19_avg|\n+--------+-------------------------+\n|     200|                  19479.0|\n|     200|                  19479.0|\n|     200|                  19479.0|\n|     200|                  19479.0|\n|     200|                  19479.0|\n|     200|                  19479.0|\n|     200|                  19479.0|\n|     200|                  19479.0|\n|     200|                  19479.0|\n|     200|                  19479.0|\n|     200|                  19479.0|\n|     200|                  19479.0|\n|     200|                  19479.0|\n|     200|                  19479.0|\n|     200|                  19479.0|\n|     200|                  19479.0|\n|     200|                  19479.0|\n|     200|                  19479.0|\n|     200|                  19479.0|\n|     200|                  19479.0|\n+--------+-------------------------+\nonly showing top 20 rows",
      "text/html": "<table border='1'>\n<tr><th>postcode</th><th>mean_earnings_2018-19_avg</th></tr>\n<tr><td>200</td><td>19479.0</td></tr>\n<tr><td>200</td><td>19479.0</td></tr>\n<tr><td>200</td><td>19479.0</td></tr>\n<tr><td>200</td><td>19479.0</td></tr>\n<tr><td>200</td><td>19479.0</td></tr>\n<tr><td>200</td><td>19479.0</td></tr>\n<tr><td>200</td><td>19479.0</td></tr>\n<tr><td>200</td><td>19479.0</td></tr>\n<tr><td>200</td><td>19479.0</td></tr>\n<tr><td>200</td><td>19479.0</td></tr>\n<tr><td>200</td><td>19479.0</td></tr>\n<tr><td>200</td><td>19479.0</td></tr>\n<tr><td>200</td><td>19479.0</td></tr>\n<tr><td>200</td><td>19479.0</td></tr>\n<tr><td>200</td><td>19479.0</td></tr>\n<tr><td>200</td><td>19479.0</td></tr>\n<tr><td>200</td><td>19479.0</td></tr>\n<tr><td>200</td><td>19479.0</td></tr>\n<tr><td>200</td><td>19479.0</td></tr>\n<tr><td>200</td><td>19479.0</td></tr>\n</table>\nonly showing top 20 rows\n"
     },
     "execution_count": 6,
     "metadata": {},
     "output_type": "execute_result"
    }
   ],
   "source": [
    "sdf.orderBy('postcode')\n",
    "# postcode still considered a string lmao\n",
    "# so why wouldnt it join?"
   ],
   "metadata": {
    "collapsed": false,
    "pycharm": {
     "name": "#%%\n"
    }
   }
  },
  {
   "cell_type": "code",
   "execution_count": 11,
   "outputs": [],
   "source": [
    "sdf = sdf.withColumn('postcode', sdf['postcode'].cast('int'))"
   ],
   "metadata": {
    "collapsed": false,
    "pycharm": {
     "name": "#%%\n"
    }
   }
  },
  {
   "cell_type": "code",
   "execution_count": 12,
   "outputs": [
    {
     "name": "stderr",
     "output_type": "stream",
     "text": [
      "                                                                                \r"
     ]
    },
    {
     "data": {
      "text/plain": "+--------+\n|postcode|\n+--------+\n|     200|\n|     200|\n|     200|\n|     200|\n|     200|\n|     200|\n|     200|\n|     200|\n|     200|\n|     200|\n|     200|\n|     200|\n|     200|\n|     200|\n|     200|\n|     200|\n|     200|\n|     200|\n|     200|\n|     200|\n+--------+\nonly showing top 20 rows",
      "text/html": "<table border='1'>\n<tr><th>postcode</th></tr>\n<tr><td>200</td></tr>\n<tr><td>200</td></tr>\n<tr><td>200</td></tr>\n<tr><td>200</td></tr>\n<tr><td>200</td></tr>\n<tr><td>200</td></tr>\n<tr><td>200</td></tr>\n<tr><td>200</td></tr>\n<tr><td>200</td></tr>\n<tr><td>200</td></tr>\n<tr><td>200</td></tr>\n<tr><td>200</td></tr>\n<tr><td>200</td></tr>\n<tr><td>200</td></tr>\n<tr><td>200</td></tr>\n<tr><td>200</td></tr>\n<tr><td>200</td></tr>\n<tr><td>200</td></tr>\n<tr><td>200</td></tr>\n<tr><td>200</td></tr>\n</table>\nonly showing top 20 rows\n"
     },
     "execution_count": 12,
     "metadata": {},
     "output_type": "execute_result"
    }
   ],
   "source": [
    "sdf.orderBy('postcode')"
   ],
   "metadata": {
    "collapsed": false,
    "pycharm": {
     "name": "#%%\n"
    }
   }
  },
  {
   "cell_type": "code",
   "execution_count": null,
   "outputs": [],
   "source": [
    "# what we got -> we have proccessed_data parquet that is a string format or some shit\n"
   ],
   "metadata": {
    "collapsed": false,
    "pycharm": {
     "name": "#%%\n"
    }
   }
  },
  {
   "cell_type": "code",
   "execution_count": 19,
   "outputs": [],
   "source": [
    "inc = etl_income()"
   ],
   "metadata": {
    "collapsed": false,
    "pycharm": {
     "name": "#%%\n"
    }
   }
  },
  {
   "cell_type": "code",
   "execution_count": 20,
   "outputs": [],
   "source": [
    "pop = etl_population()"
   ],
   "metadata": {
    "collapsed": false,
    "pycharm": {
     "name": "#%%\n"
    }
   }
  },
  {
   "cell_type": "code",
   "execution_count": 22,
   "outputs": [
    {
     "name": "stderr",
     "output_type": "stream",
     "text": [
      "                                                                                \r"
     ]
    },
    {
     "data": {
      "text/plain": "+--------+------------------------------------+\n|postcode|estimated_region_population_2021_sum|\n+--------+------------------------------------+\n|    0200|                                2161|\n|    0800|                                7088|\n|    0801|                                7088|\n|    0804|                                2827|\n|    0810|                               35007|\n+--------+------------------------------------+",
      "text/html": "<table border='1'>\n<tr><th>postcode</th><th>estimated_region_population_2021_sum</th></tr>\n<tr><td>0200</td><td>2161</td></tr>\n<tr><td>0800</td><td>7088</td></tr>\n<tr><td>0801</td><td>7088</td></tr>\n<tr><td>0804</td><td>2827</td></tr>\n<tr><td>0810</td><td>35007</td></tr>\n</table>\n"
     },
     "execution_count": 22,
     "metadata": {},
     "output_type": "execute_result"
    }
   ],
   "source": [
    "pop.orderBy('postcode').limit(5)"
   ],
   "metadata": {
    "collapsed": false,
    "pycharm": {
     "name": "#%%\n"
    }
   }
  },
  {
   "cell_type": "code",
   "execution_count": 23,
   "outputs": [
    {
     "name": "stderr",
     "output_type": "stream",
     "text": [
      "                                                                                \r"
     ]
    },
    {
     "data": {
      "text/plain": "+--------+---------------------------+-------------------------+------------------------+---------------------------+---------------------------+\n|postcode|persons_earners_2018-19_sum|mean_earnings_2018-19_avg|sum_earnings_2018-19_sum|median_earnings_2018-19_avg|med_age_earners_2018-19_avg|\n+--------+---------------------------+-------------------------+------------------------+---------------------------+---------------------------+\n|    0200|                      552.0|                  19479.0|             1.0752338E7|                    10433.0|                       23.0|\n|    0800|                     5632.0|                  74682.0|            4.20609031E8|                    57789.0|                       33.0|\n|    0801|                     5632.0|                  74682.0|            4.20609031E8|                    57789.0|                       33.0|\n|    0804|                     1810.0|                  88303.0|            1.59828824E8|                    71724.0|                       40.0|\n|    0810|                    21932.0|        69868.83333333333|           1.574969237E9|         60190.166666666664|         39.583333333333336|\n+--------+---------------------------+-------------------------+------------------------+---------------------------+---------------------------+",
      "text/html": "<table border='1'>\n<tr><th>postcode</th><th>persons_earners_2018-19_sum</th><th>mean_earnings_2018-19_avg</th><th>sum_earnings_2018-19_sum</th><th>median_earnings_2018-19_avg</th><th>med_age_earners_2018-19_avg</th></tr>\n<tr><td>0200</td><td>552.0</td><td>19479.0</td><td>1.0752338E7</td><td>10433.0</td><td>23.0</td></tr>\n<tr><td>0800</td><td>5632.0</td><td>74682.0</td><td>4.20609031E8</td><td>57789.0</td><td>33.0</td></tr>\n<tr><td>0801</td><td>5632.0</td><td>74682.0</td><td>4.20609031E8</td><td>57789.0</td><td>33.0</td></tr>\n<tr><td>0804</td><td>1810.0</td><td>88303.0</td><td>1.59828824E8</td><td>71724.0</td><td>40.0</td></tr>\n<tr><td>0810</td><td>21932.0</td><td>69868.83333333333</td><td>1.574969237E9</td><td>60190.166666666664</td><td>39.583333333333336</td></tr>\n</table>\n"
     },
     "execution_count": 23,
     "metadata": {},
     "output_type": "execute_result"
    }
   ],
   "source": [
    "inc.orderBy('postcode').limit(5)"
   ],
   "metadata": {
    "collapsed": false,
    "pycharm": {
     "name": "#%%\n"
    }
   }
  },
  {
   "cell_type": "code",
   "execution_count": 10,
   "outputs": [
    {
     "name": "stderr",
     "output_type": "stream",
     "text": [
      "                                                                                \r"
     ]
    },
    {
     "data": {
      "text/plain": "+--------+-------------------------+\n|postcode|mean_earnings_2018-19_avg|\n+--------+-------------------------+\n|     200|                  19479.0|\n|     200|                  19479.0|\n|     200|                  19479.0|\n|     200|                  19479.0|\n|     200|                  19479.0|\n|     200|                  19479.0|\n|     200|                  19479.0|\n|     200|                  19479.0|\n|     200|                  19479.0|\n|     200|                  19479.0|\n|     200|                  19479.0|\n|     200|                  19479.0|\n|     200|                  19479.0|\n|     200|                  19479.0|\n|     200|                  19479.0|\n|     200|                  19479.0|\n|     200|                  19479.0|\n|     200|                  19479.0|\n|     200|                  19479.0|\n|     200|                  19479.0|\n+--------+-------------------------+\nonly showing top 20 rows",
      "text/html": "<table border='1'>\n<tr><th>postcode</th><th>mean_earnings_2018-19_avg</th></tr>\n<tr><td>200</td><td>19479.0</td></tr>\n<tr><td>200</td><td>19479.0</td></tr>\n<tr><td>200</td><td>19479.0</td></tr>\n<tr><td>200</td><td>19479.0</td></tr>\n<tr><td>200</td><td>19479.0</td></tr>\n<tr><td>200</td><td>19479.0</td></tr>\n<tr><td>200</td><td>19479.0</td></tr>\n<tr><td>200</td><td>19479.0</td></tr>\n<tr><td>200</td><td>19479.0</td></tr>\n<tr><td>200</td><td>19479.0</td></tr>\n<tr><td>200</td><td>19479.0</td></tr>\n<tr><td>200</td><td>19479.0</td></tr>\n<tr><td>200</td><td>19479.0</td></tr>\n<tr><td>200</td><td>19479.0</td></tr>\n<tr><td>200</td><td>19479.0</td></tr>\n<tr><td>200</td><td>19479.0</td></tr>\n<tr><td>200</td><td>19479.0</td></tr>\n<tr><td>200</td><td>19479.0</td></tr>\n<tr><td>200</td><td>19479.0</td></tr>\n<tr><td>200</td><td>19479.0</td></tr>\n</table>\nonly showing top 20 rows\n"
     },
     "execution_count": 10,
     "metadata": {},
     "output_type": "execute_result"
    }
   ],
   "source": [
    "sdf.orderBy('postcode')"
   ],
   "metadata": {
    "collapsed": false,
    "pycharm": {
     "name": "#%%\n"
    }
   }
  },
  {
   "cell_type": "code",
   "execution_count": null,
   "outputs": [],
   "source": [],
   "metadata": {
    "collapsed": false,
    "pycharm": {
     "name": "#%%\n"
    }
   }
  }
 ],
 "metadata": {
  "kernelspec": {
   "display_name": "Python 3",
   "language": "python",
   "name": "python3"
  },
  "language_info": {
   "codemirror_mode": {
    "name": "ipython",
    "version": 2
   },
   "file_extension": ".py",
   "mimetype": "text/x-python",
   "name": "python",
   "nbconvert_exporter": "python",
   "pygments_lexer": "ipython2",
   "version": "2.7.6"
  }
 },
 "nbformat": 4,
 "nbformat_minor": 0
}