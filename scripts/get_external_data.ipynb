{
 "cells": [
  {
   "cell_type": "code",
   "execution_count": 2,
   "metadata": {},
   "outputs": [],
   "source": [
    "import geopandas\n",
    "import folium\n",
    "import io\n",
    "import os\n",
    "import requests\n",
    "import zipfile\n",
    "import pandas as pd\n",
    "\n",
    "from pyspark.sql import SparkSession, functions as F\n",
    "from urllib.request import urlretrieve\n",
    "from owslib.wfs import WebFeatureService"
   ]
  },
  {
   "cell_type": "code",
   "execution_count": 3,
   "metadata": {},
   "outputs": [
    {
     "name": "stdout",
     "output_type": "stream",
     "text": [
      "22/09/19 17:39:38 WARN Utils: Your hostname, DESKTOP-1ML24G5 resolves to a loopback address: 127.0.1.1; using 172.30.22.43 instead (on interface eth0)\n",
      "22/09/19 17:39:38 WARN Utils: Set SPARK_LOCAL_IP if you need to bind to another address\n"
     ]
    },
    {
     "name": "stderr",
     "output_type": "stream",
     "text": [
      "Setting default log level to \"WARN\".\n",
      "To adjust logging level use sc.setLogLevel(newLevel). For SparkR, use setLogLevel(newLevel).\n"
     ]
    },
    {
     "name": "stdout",
     "output_type": "stream",
     "text": [
      "22/09/19 17:39:42 WARN NativeCodeLoader: Unable to load native-hadoop library for your platform... using builtin-java classes where applicable\n"
     ]
    }
   ],
   "source": [
    "# Create a spark session\n",
    "spark = (\n",
    "    SparkSession.builder.appName(\"BNPL Get external data\")\n",
    "    .config(\"spark.sql.repl.eagerEval.enabled\", True)\n",
    "    .config(\"spark.sql.parquet.cacheMetadata\", \"true\")\n",
    "    .config(\"spark.driver.memory\", \"4g\")\n",
    "    .config(\"spark.sql.session.timeZone\", \"Etc/UTC\")\n",
    "    .getOrCreate()\n",
    ")"
   ]
  },
  {
   "cell_type": "code",
   "execution_count": 4,
   "metadata": {},
   "outputs": [],
   "source": [
    "# Location of root directory.\n",
    "\n",
    "root_dir = '../data/tables/'"
   ]
  },
  {
   "cell_type": "code",
   "execution_count": 8,
   "metadata": {},
   "outputs": [],
   "source": [
    "# Create \"external_datasets\" folder under the root directory where all the external data will be stored.\n",
    "\n",
    "external_data_dir = 'test_external_datasets'\n",
    "\n",
    "if not os.path.exists(root_dir + external_data_dir):\n",
    "    os.makedirs(root_dir + external_data_dir)"
   ]
  },
  {
   "cell_type": "code",
   "execution_count": 9,
   "metadata": {},
   "outputs": [],
   "source": [
    "path = root_dir + external_data_dir + '/'"
   ]
  },
  {
   "cell_type": "markdown",
   "metadata": {},
   "source": [
    "**Getting external datasets**<br>\n",
    "1) URL retrieve:<br>\n",
    "a) Postcode and SA2 data csv file.<br>\n",
    "b) Total income 2014-2019 excel file.<br>\n",
    "c) Shapefile for states.<br>\n",
    "d) Shapefile for post-codes.<br>\n",
    "2) API call:<br>\n",
    "Population data 2001-2021 csv file."
   ]
  },
  {
   "cell_type": "code",
   "execution_count": 17,
   "metadata": {},
   "outputs": [],
   "source": [
    "# 1a) Postcode and SA2 data:\n",
    "\n",
    "url = \"https://www.matthewproctor.com/Content/postcodes/australian_postcodes.csv\"\n",
    "r = requests.get(url)\n",
    "target_dir = path + 'postcode_SA2_data.csv'\n",
    "\n",
    "with open(target_dir, 'wb') as outfile:\n",
    "    outfile.write(r.content)\n",
    "    outfile.close()"
   ]
  },
  {
   "cell_type": "code",
   "execution_count": 16,
   "metadata": {},
   "outputs": [],
   "source": [
    "# 1b) Total income 2014-2019 excel file:\n",
    "\n",
    "url = 'https://www.abs.gov.au/statistics/labour/earnings-and-working-conditions/personal-income-australia/2014-15-2018-19/6524055002_DO001.xlsx'\n",
    "r = requests.get(url)\n",
    "target_dir = path + 'income_data.xlsx'\n",
    "\n",
    "with open(target_dir, 'wb') as outfile:\n",
    "    outfile.write(r.content)\n",
    "    outfile.close()\n",
    "\n",
    "# GO THROUGH WITH NOAH ***********************************************************************\n",
    "# Convert needed sheet from excel file to csv format, and then delete the excel file.\n",
    "\n",
    "# read_file = pd.read_excel(target_dir, sheet_name='Table 1.4')\n",
    "# os.remove(target_dir)\n",
    "\n",
    "# target_dir = path + 'income_data_raw.csv'\n",
    "# read_file.to_csv(target_dir, index = None)"
   ]
  },
  {
   "cell_type": "code",
   "execution_count": 12,
   "metadata": {},
   "outputs": [],
   "source": [
    "# 1c) Australian state shapefiles:\n",
    "\n",
    "url = \"https://www.abs.gov.au/statistics/standards/australian-statistical-geography-standard-asgs-edition-3/jul2021-jun2026/access-and-downloads/digital-boundary-files/STE_2021_AUST_SHP_GDA2020.zip\"\n",
    "target_dir = path + 'state_data.zip'\n",
    "urlretrieve(url, target_dir)\n",
    "\n",
    "# unzip state_data.zip\n",
    "with zipfile.ZipFile(target_dir,\"r\") as zip_ref:\n",
    "    zip_ref.extractall(path + \"state_data\")"
   ]
  },
  {
   "cell_type": "code",
   "execution_count": 13,
   "metadata": {},
   "outputs": [],
   "source": [
    "# 1d) Australian post-code shapefiles:\n",
    "\n",
    "url = \"https://www.abs.gov.au/statistics/standards/australian-statistical-geography-standard-asgs-edition-3/jul2021-jun2026/access-and-downloads/digital-boundary-files/POA_2021_AUST_GDA94_SHP.zip\"\n",
    "target_dir = path + 'postcode_data.zip'\n",
    "urlretrieve(url, target_dir)\n",
    "\n",
    "# unzip state_data.zip\n",
    "with zipfile.ZipFile(target_dir,\"r\") as zip_ref:\n",
    "    zip_ref.extractall(path + \"postcode_data\")"
   ]
  },
  {
   "cell_type": "code",
   "execution_count": 14,
   "metadata": {},
   "outputs": [],
   "source": [
    "# 2) API call:\n",
    "\n",
    "# Set up API connection.\n",
    "\n",
    "WFS_USERNAME = 'xrjps'\n",
    "WFS_PASSWORD= 'Jmf16l4TcswU3Or7'\n",
    "WFS_URL='https://adp.aurin.org.au/geoserver/wfs'\n",
    "\n",
    "adp_client = WebFeatureService(url=WFS_URL,username=WFS_USERNAME, password=WFS_PASSWORD, version='2.0.0')"
   ]
  },
  {
   "cell_type": "code",
   "execution_count": 18,
   "metadata": {},
   "outputs": [
    {
     "data": {
      "text/plain": [
       "<function BufferedWriter.close>"
      ]
     },
     "execution_count": 18,
     "metadata": {},
     "output_type": "execute_result"
    }
   ],
   "source": [
    "# Extract files and store into external dataset folder directory.\n",
    "\n",
    "response = adp_client.getfeature(typename='datasource-AU_Govt_ABS-UoM_AURIN_DB_3:abs_regional_population_sa2_2001_2021', outputFormat='csv')\n",
    "target_dir = path + 'population_data.csv'\n",
    "\n",
    "out = open(target_dir, 'wb')\n",
    "out.write(response.read())\n",
    "out.close"
   ]
  }
 ],
 "metadata": {
  "kernelspec": {
   "display_name": "Python 3.8.10 64-bit",
   "language": "python",
   "name": "python3"
  },
  "language_info": {
   "codemirror_mode": {
    "name": "ipython",
    "version": 3
   },
   "file_extension": ".py",
   "mimetype": "text/x-python",
   "name": "python",
   "nbconvert_exporter": "python",
   "pygments_lexer": "ipython3",
   "version": "3.8.10"
  },
  "orig_nbformat": 4,
  "vscode": {
   "interpreter": {
    "hash": "916dbcbb3f70747c44a77c7bcd40155683ae19c65e1c03b4aa3499c5328201f1"
   }
  }
 },
 "nbformat": 4,
 "nbformat_minor": 2
}
