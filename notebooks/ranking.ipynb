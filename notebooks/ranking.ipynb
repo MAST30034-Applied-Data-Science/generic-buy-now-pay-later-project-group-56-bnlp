{
 "cells": [
  {
   "cell_type": "code",
   "execution_count": 40,
   "metadata": {},
   "outputs": [],
   "source": [
    "from pyspark.sql import SparkSession, functions as F\n",
    "import pandas as pd\n",
    "\n",
    "# Create a spark session\n",
    "spark = (\n",
    "    SparkSession.builder.appName(\"BNPL Project\")\n",
    "    .config(\"spark.sql.repl.eagerEval.enabled\", True) \n",
    "    .config(\"spark.sql.parquet.cacheMetadata\", \"true\")\n",
    "    .config(\"spark.driver.memory\", \"4g\")\n",
    "    .config(\"spark.sql.session.timeZone\", \"Etc/UTC\")\n",
    "    .getOrCreate()\n",
    ")\n",
    "\n",
    "sdf = spark.read.parquet(\"../data/curated/process_data.parquet/\")\n",
    "\n",
    "cols = ['merchant_abn', 'user_id', 'dollar_value', 'order_datetime', 'rate', 'category', 'subcategory', 'estimated_region_population_2021_sum',\t'persons_earners_2018-19_sum', 'mean_earnings_2018-19_avg', 'sum_earnings_2018-19_sum',\t'median_earnings_2018-19_avg', 'med_age_earners_2018-19_avg']\n",
    "sdf = sdf.select(cols)\n",
    "\n",
    "sdf = sdf.withColumn('rate', F.col('rate') / 100)\n",
    "\n",
    "sdf.limit(10)"
   ]
  },
  {
   "cell_type": "code",
   "execution_count": 14,
   "metadata": {},
   "outputs": [
    {
     "data": {
      "text/html": [
       "<table border='1'>\n",
       "<tr><th>merchant_abn</th><th>user_id</th><th>dollar_value</th><th>order_datetime</th><th>rate</th><th>category</th><th>subcategory</th><th>estimated_region_population_2021_sum</th><th>persons_earners_2018-19_sum</th><th>mean_earnings_2018-19_avg</th><th>sum_earnings_2018-19_sum</th><th>median_earnings_2018-19_avg</th><th>med_age_earners_2018-19_avg</th></tr>\n",
       "<tr><td>27093785141</td><td>1</td><td>366.23</td><td>2021-11-17</td><td>0.0273</td><td>retail_and_wholes...</td><td>others_retailing</td><td>10636</td><td>5795.0</td><td>62144.0</td><td>3.60125906E8</td><td>52618.0</td><td>41.0</td></tr>\n",
       "<tr><td>49125619545</td><td>1</td><td>113.59</td><td>2022-06-28</td><td>0.056600000000000004</td><td>info_media_and_te...</td><td>null</td><td>10636</td><td>5795.0</td><td>62144.0</td><td>3.60125906E8</td><td>52618.0</td><td>41.0</td></tr>\n",
       "<tr><td>28510201393</td><td>1</td><td>587.4</td><td>2021-09-24</td><td>0.018600000000000002</td><td>retail_and_wholes...</td><td>department_stores</td><td>10636</td><td>5795.0</td><td>62144.0</td><td>3.60125906E8</td><td>52618.0</td><td>41.0</td></tr>\n",
       "<tr><td>49167531725</td><td>1</td><td>51.58</td><td>2021-11-26</td><td>0.0642</td><td>retail_and_wholes...</td><td>household_goods_r...</td><td>10636</td><td>5795.0</td><td>62144.0</td><td>3.60125906E8</td><td>52618.0</td><td>41.0</td></tr>\n",
       "<tr><td>43719937438</td><td>1</td><td>196.41</td><td>2022-05-22</td><td>0.0501</td><td>info_media_and_te...</td><td>null</td><td>10636</td><td>5795.0</td><td>62144.0</td><td>3.60125906E8</td><td>52618.0</td><td>41.0</td></tr>\n",
       "<tr><td>49278214714</td><td>1</td><td>7.84</td><td>2022-08-10</td><td>0.0599</td><td>retail_and_wholes...</td><td>household_goods_r...</td><td>10636</td><td>5795.0</td><td>62144.0</td><td>3.60125906E8</td><td>52618.0</td><td>41.0</td></tr>\n",
       "<tr><td>46007761675</td><td>1</td><td>100.22</td><td>2022-10-24</td><td>0.0572</td><td>retail_and_wholes...</td><td>household_goods_r...</td><td>10636</td><td>5795.0</td><td>62144.0</td><td>3.60125906E8</td><td>52618.0</td><td>41.0</td></tr>\n",
       "<tr><td>50315283629</td><td>1</td><td>115.82</td><td>2021-11-13</td><td>0.0176</td><td>retail_and_wholes...</td><td>food_retailing</td><td>10636</td><td>5795.0</td><td>62144.0</td><td>3.60125906E8</td><td>52618.0</td><td>41.0</td></tr>\n",
       "<tr><td>46654841462</td><td>1</td><td>18.5</td><td>2022-09-03</td><td>0.0381</td><td>rental_hiring_and...</td><td>null</td><td>10636</td><td>5795.0</td><td>62144.0</td><td>3.60125906E8</td><td>52618.0</td><td>41.0</td></tr>\n",
       "<tr><td>50315283629</td><td>1</td><td>63.88</td><td>2022-10-13</td><td>0.0176</td><td>retail_and_wholes...</td><td>food_retailing</td><td>10636</td><td>5795.0</td><td>62144.0</td><td>3.60125906E8</td><td>52618.0</td><td>41.0</td></tr>\n",
       "</table>\n"
      ],
      "text/plain": [
       "+------------+-------+------------+--------------+--------------------+--------------------+--------------------+------------------------------------+---------------------------+-------------------------+------------------------+---------------------------+---------------------------+\n",
       "|merchant_abn|user_id|dollar_value|order_datetime|                rate|            category|         subcategory|estimated_region_population_2021_sum|persons_earners_2018-19_sum|mean_earnings_2018-19_avg|sum_earnings_2018-19_sum|median_earnings_2018-19_avg|med_age_earners_2018-19_avg|\n",
       "+------------+-------+------------+--------------+--------------------+--------------------+--------------------+------------------------------------+---------------------------+-------------------------+------------------------+---------------------------+---------------------------+\n",
       "| 27093785141|      1|      366.23|    2021-11-17|              0.0273|retail_and_wholes...|    others_retailing|                               10636|                     5795.0|                  62144.0|            3.60125906E8|                    52618.0|                       41.0|\n",
       "| 49125619545|      1|      113.59|    2022-06-28|0.056600000000000004|info_media_and_te...|                null|                               10636|                     5795.0|                  62144.0|            3.60125906E8|                    52618.0|                       41.0|\n",
       "| 28510201393|      1|       587.4|    2021-09-24|0.018600000000000002|retail_and_wholes...|   department_stores|                               10636|                     5795.0|                  62144.0|            3.60125906E8|                    52618.0|                       41.0|\n",
       "| 49167531725|      1|       51.58|    2021-11-26|              0.0642|retail_and_wholes...|household_goods_r...|                               10636|                     5795.0|                  62144.0|            3.60125906E8|                    52618.0|                       41.0|\n",
       "| 43719937438|      1|      196.41|    2022-05-22|              0.0501|info_media_and_te...|                null|                               10636|                     5795.0|                  62144.0|            3.60125906E8|                    52618.0|                       41.0|\n",
       "| 49278214714|      1|        7.84|    2022-08-10|              0.0599|retail_and_wholes...|household_goods_r...|                               10636|                     5795.0|                  62144.0|            3.60125906E8|                    52618.0|                       41.0|\n",
       "| 46007761675|      1|      100.22|    2022-10-24|              0.0572|retail_and_wholes...|household_goods_r...|                               10636|                     5795.0|                  62144.0|            3.60125906E8|                    52618.0|                       41.0|\n",
       "| 50315283629|      1|      115.82|    2021-11-13|              0.0176|retail_and_wholes...|      food_retailing|                               10636|                     5795.0|                  62144.0|            3.60125906E8|                    52618.0|                       41.0|\n",
       "| 46654841462|      1|        18.5|    2022-09-03|              0.0381|rental_hiring_and...|                null|                               10636|                     5795.0|                  62144.0|            3.60125906E8|                    52618.0|                       41.0|\n",
       "| 50315283629|      1|       63.88|    2022-10-13|              0.0176|retail_and_wholes...|      food_retailing|                               10636|                     5795.0|                  62144.0|            3.60125906E8|                    52618.0|                       41.0|\n",
       "+------------+-------+------------+--------------+--------------------+--------------------+--------------------+------------------------------------+---------------------------+-------------------------+------------------------+---------------------------+---------------------------+"
      ]
     },
     "execution_count": 14,
     "metadata": {},
     "output_type": "execute_result"
    }
   ],
   "source": [
    "cols = ['merchant_abn', 'user_id', 'dollar_value', 'order_datetime', 'rate', 'category', 'subcategory', 'estimated_region_population_2021_sum',\t'persons_earners_2018-19_sum', 'mean_earnings_2018-19_avg', 'sum_earnings_2018-19_sum',\t'median_earnings_2018-19_avg', 'med_age_earners_2018-19_avg']\n",
    "sdf = sdf.select(cols)\n",
    "\n",
    "sdf = sdf.withColumn('rate', F.col('rate') / 100)\n",
    "\n",
    "sdf.limit(10)"
   ]
  },
  {
   "cell_type": "markdown",
   "metadata": {},
   "source": [
    "### 1. **Identify** Merchants with the greatest gross and lowest volatility in income"
   ]
  },
  {
   "cell_type": "code",
   "execution_count": 39,
   "metadata": {},
   "outputs": [
    {
     "data": {
      "text/html": [
       "<table border='1'>\n",
       "<tr><th>merchant_abn</th><th>income_total</th><th>income_deviation</th><th>rate</th><th>count_merchant</th></tr>\n",
       "<tr><td>24852446429</td><td>255744.12288606438</td><td>21.178693915107022</td><td>0.02940000000000741</td><td>289513</td></tr>\n",
       "<tr><td>86578477987</td><td>613410.4864420284</td><td>24.776256575329793</td><td>0.06430000000000283</td><td>272674</td></tr>\n",
       "<tr><td>64203420245</td><td>215914.12099394575</td><td>15.025235382946878</td><td>0.028599999999992777</td><td>260780</td></tr>\n",
       "<tr><td>49891706470</td><td>415952.53725995746</td><td>15.014902745150149</td><td>0.057999999999993966</td><td>247526</td></tr>\n",
       "<tr><td>46804135891</td><td>206349.62331796187</td><td>30.04859263484707</td><td>0.02929999999999459</td><td>234397</td></tr>\n",
       "<tr><td>45629217853</td><td>585975.3666878993</td><td>36.721188382863424</td><td>0.06979999999998802</td><td>228219</td></tr>\n",
       "<tr><td>89726005175</td><td>535420.1324840862</td><td>23.79102051654588</td><td>0.0601000000000097</td><td>215963</td></tr>\n",
       "<tr><td>43186523025</td><td>404176.7518500293</td><td>25.948689819226168</td><td>0.04470000000000324</td><td>200913</td></tr>\n",
       "<tr><td>80324045558</td><td>106133.55576602292</td><td>36.808440403202795</td><td>0.01470000000000318</td><td>196816</td></tr>\n",
       "<tr><td>63290521567</td><td>285260.53175996797</td><td>24.296439621551322</td><td>0.06479999999999268</td><td>181841</td></tr>\n",
       "<tr><td>68216911708</td><td>212449.64405003362</td><td>31.33660534936397</td><td>0.030500000000004825</td><td>180824</td></tr>\n",
       "<tr><td>21439773999</td><td>575026.00928998</td><td>55.00119725987816</td><td>0.06099999999999786</td><td>120624</td></tr>\n",
       "<tr><td>64403598239</td><td>559913.8027660295</td><td>41.59224197272673</td><td>0.06310000000000332</td><td>113541</td></tr>\n",
       "<tr><td>72472909171</td><td>451904.94644408615</td><td>49.646449657300636</td><td>0.0633000000000121</td><td>101791</td></tr>\n",
       "<tr><td>79417999332</td><td>451756.97028004884</td><td>57.95433317958703</td><td>0.0495000000000053</td><td>99226</td></tr>\n",
       "<tr><td>94493496784</td><td>515033.41648510523</td><td>58.28892823918883</td><td>0.05650000000001151</td><td>99176</td></tr>\n",
       "<tr><td>60956456424</td><td>376464.8723639602</td><td>33.82524424397393</td><td>0.04689999999999509</td><td>90705</td></tr>\n",
       "<tr><td>32361057556</td><td>623617.3677570465</td><td>63.59768615318932</td><td>0.06610000000000485</td><td>85780</td></tr>\n",
       "<tr><td>91923722701</td><td>54714.834029999496</td><td>13.903133045968037</td><td>0.050499999999999566</td><td>78335</td></tr>\n",
       "<tr><td>49505931725</td><td>337488.9689199836</td><td>60.7701935870577</td><td>0.046999999999997766</td><td>68240</td></tr>\n",
       "</table>\n",
       "only showing top 20 rows\n"
      ],
      "text/plain": [
       "+------------+------------------+------------------+--------------------+--------------+\n",
       "|merchant_abn|      income_total|  income_deviation|                rate|count_merchant|\n",
       "+------------+------------------+------------------+--------------------+--------------+\n",
       "| 24852446429|255744.12288606438|21.178693915107022| 0.02940000000000741|        289513|\n",
       "| 86578477987| 613410.4864420284|24.776256575329793| 0.06430000000000283|        272674|\n",
       "| 64203420245|215914.12099394575|15.025235382946878|0.028599999999992777|        260780|\n",
       "| 49891706470|415952.53725995746|15.014902745150149|0.057999999999993966|        247526|\n",
       "| 46804135891|206349.62331796187| 30.04859263484707| 0.02929999999999459|        234397|\n",
       "| 45629217853| 585975.3666878993|36.721188382863424| 0.06979999999998802|        228219|\n",
       "| 89726005175| 535420.1324840862| 23.79102051654588|  0.0601000000000097|        215963|\n",
       "| 43186523025| 404176.7518500293|25.948689819226168| 0.04470000000000324|        200913|\n",
       "| 80324045558|106133.55576602292|36.808440403202795| 0.01470000000000318|        196816|\n",
       "| 63290521567|285260.53175996797|24.296439621551322| 0.06479999999999268|        181841|\n",
       "| 68216911708|212449.64405003362| 31.33660534936397|0.030500000000004825|        180824|\n",
       "| 21439773999|   575026.00928998| 55.00119725987816| 0.06099999999999786|        120624|\n",
       "| 64403598239| 559913.8027660295| 41.59224197272673| 0.06310000000000332|        113541|\n",
       "| 72472909171|451904.94644408615|49.646449657300636|  0.0633000000000121|        101791|\n",
       "| 79417999332|451756.97028004884| 57.95433317958703|  0.0495000000000053|         99226|\n",
       "| 94493496784|515033.41648510523| 58.28892823918883| 0.05650000000001151|         99176|\n",
       "| 60956456424| 376464.8723639602| 33.82524424397393| 0.04689999999999509|         90705|\n",
       "| 32361057556| 623617.3677570465| 63.59768615318932| 0.06610000000000485|         85780|\n",
       "| 91923722701|54714.834029999496|13.903133045968037|0.050499999999999566|         78335|\n",
       "| 49505931725| 337488.9689199836|  60.7701935870577|0.046999999999997766|         68240|\n",
       "+------------+------------------+------------------+--------------------+--------------+\n",
       "only showing top 20 rows"
      ]
     },
     "execution_count": 39,
     "metadata": {},
     "output_type": "execute_result"
    }
   ],
   "source": [
    "sdf.groupBy('merchant_abn').agg(\n",
    "        F.sum('dollar_value').alias('income_total'),\n",
    "        F.stddev('dollar_value').alias('income_deviation'),\n",
    "        F.mean('rate').alias('rate'),\n",
    "        F.count('merchant_abn').alias('count_merchant'))\\\n",
    "    .withColumn('income_total', F.col('income_total') * F.col('rate'))\\\n",
    "    \\\n",
    "    .orderBy(F.col('count_merchant').desc(), F.col('income_total').desc(), F.col('income_deviation').asc())"
   ]
  },
  {
   "cell_type": "code",
   "execution_count": 30,
   "metadata": {},
   "outputs": [
    {
     "data": {
      "text/plain": [
       "4798"
      ]
     },
     "execution_count": 30,
     "metadata": {},
     "output_type": "execute_result"
    }
   ],
   "source": [
    "sdf.where(F.col('merchant_abn') == 79827781481).count()"
   ]
  }
 ],
 "metadata": {
  "kernelspec": {
   "display_name": "Python 3.9.7 64-bit",
   "language": "python",
   "name": "python3"
  },
  "language_info": {
   "codemirror_mode": {
    "name": "ipython",
    "version": 3
   },
   "file_extension": ".py",
   "mimetype": "text/x-python",
   "name": "python",
   "nbconvert_exporter": "python",
   "pygments_lexer": "ipython3",
   "version": "3.9.7"
  },
  "orig_nbformat": 4,
  "vscode": {
   "interpreter": {
    "hash": "aee8b7b246df8f9039afb4144a1f6fd8d2ca17a180786b69acc140d282b71a49"
   }
  }
 },
 "nbformat": 4,
 "nbformat_minor": 2
}
