{
 "cells": [
  {
   "cell_type": "markdown",
   "metadata": {},
   "source": [
    "Start spark session."
   ]
  },
  {
   "cell_type": "code",
   "execution_count": 1,
   "metadata": {},
   "outputs": [
    {
     "name": "stdout",
     "output_type": "stream",
     "text": [
      "22/09/03 16:41:59 WARN Utils: Your hostname, DESKTOP-1ML24G5 resolves to a loopback address: 127.0.1.1; using 172.26.94.46 instead (on interface eth0)\n",
      "22/09/03 16:41:59 WARN Utils: Set SPARK_LOCAL_IP if you need to bind to another address\n"
     ]
    },
    {
     "name": "stderr",
     "output_type": "stream",
     "text": [
      "Setting default log level to \"WARN\".\n",
      "To adjust logging level use sc.setLogLevel(newLevel). For SparkR, use setLogLevel(newLevel).\n"
     ]
    },
    {
     "name": "stdout",
     "output_type": "stream",
     "text": [
      "22/09/03 16:42:11 WARN NativeCodeLoader: Unable to load native-hadoop library for your platform... using builtin-java classes where applicable\n"
     ]
    }
   ],
   "source": [
    "from pyspark.sql import SparkSession\n",
    "\n",
    "# Create a spark session\n",
    "spark = (\n",
    "    SparkSession.builder.appName(\"MAST30034 Project2 Pre_process\")\n",
    "    .config(\"spark.sql.repl.eagerEval.enabled\", True) \n",
    "    .config(\"spark.sql.parquet.cacheMetadata\", \"true\")\n",
    "    .config(\"spark.driver.memory\", \"4g\")\n",
    "    .config(\"spark.sql.session.timeZone\", \"Etc/UTC\")\n",
    "    .getOrCreate()\n",
    ")"
   ]
  },
  {
   "cell_type": "markdown",
   "metadata": {},
   "source": [
    "Merchants data:"
   ]
  },
  {
   "cell_type": "code",
   "execution_count": 2,
   "metadata": {},
   "outputs": [
    {
     "name": "stderr",
     "output_type": "stream",
     "text": [
      "                                                                                \r"
     ]
    },
    {
     "name": "stdout",
     "output_type": "stream",
     "text": [
      "-RECORD 0-----------------------------\n",
      " merchant_name | Felis Limited        \n",
      " tags          | ((furniture, home... \n",
      " merchant_abn  | 10023283211          \n",
      "-RECORD 1-----------------------------\n",
      " merchant_name | Arcu Ac Orci Corp... \n",
      " tags          | ([cable, satellit... \n",
      " merchant_abn  | 10142254217          \n",
      "only showing top 2 rows\n",
      "\n"
     ]
    },
    {
     "data": {
      "text/plain": [
       "4026"
      ]
     },
     "execution_count": 2,
     "metadata": {},
     "output_type": "execute_result"
    }
   ],
   "source": [
    "merchants = spark.read.parquet(\"../data/tables/tbl_merchants.parquet\")\n",
    "merchants = merchants.withColumnRenamed(\"name\", \"merchant_name\")\n",
    "merchants.show(2, vertical=True)\n",
    "merchants.count()"
   ]
  },
  {
   "cell_type": "markdown",
   "metadata": {},
   "source": [
    "An example of an instance of the \"tag\" column."
   ]
  },
  {
   "cell_type": "code",
   "execution_count": 3,
   "metadata": {},
   "outputs": [
    {
     "name": "stderr",
     "output_type": "stream",
     "text": [
      "\r",
      "[Stage 5:>                                                          (0 + 1) / 1]\r",
      "\r",
      "                                                                                \r"
     ]
    },
    {
     "data": {
      "text/plain": [
       "'((furniture, home furnishings and equipment shops, and manufacturers, except appliances), (e), (take rate: 0.18))'"
      ]
     },
     "execution_count": 3,
     "metadata": {},
     "output_type": "execute_result"
    }
   ],
   "source": [
    "merchants.collect()[0][1]"
   ]
  },
  {
   "cell_type": "markdown",
   "metadata": {},
   "source": [
    "Extract revenue level and take rate from the \"tags\" column."
   ]
  },
  {
   "cell_type": "code",
   "execution_count": 42,
   "metadata": {},
   "outputs": [
    {
     "name": "stdout",
     "output_type": "stream",
     "text": [
      "-RECORD 0----------------------------------------------------------------------------------------------------------------------------------------------\n",
      " merchant_name                     | Felis Limited                                                                                                     \n",
      " tags                              | ((furniture, home furnishings and equipment shops, and manufacturers, except appliances), (e), (take rate: 0.18)) \n",
      " merchant_abn                      | 10023283211                                                                                                       \n",
      " tag                               | furniture, home furnishings and equipment shops, and manufacturers, except appliances                             \n",
      " revenue_level                     | e                                                                                                                 \n",
      " take_rate                         | 0.18                                                                                                              \n",
      " industry_category                 | retail_and_wholesale_trade                                                                                        \n",
      " agriculture                       | 0                                                                                                                 \n",
      " arts_and_recreation               | 0                                                                                                                 \n",
      " info_media_and_telecommunications | 0                                                                                                                 \n",
      " rental_hiring_and_real_estate     | 0                                                                                                                 \n",
      " retail_and_wholesale_trade        | 1                                                                                                                 \n",
      "-RECORD 1----------------------------------------------------------------------------------------------------------------------------------------------\n",
      " merchant_name                     | Arcu Ac Orci Corporation                                                                                          \n",
      " tags                              | ([cable, satellite, and otHer pay television and radio services], [b], [take rate: 4.22])                         \n",
      " merchant_abn                      | 10142254217                                                                                                       \n",
      " tag                               | cable, satellite, and otHer pay television and radio services                                                     \n",
      " revenue_level                     | b                                                                                                                 \n",
      " take_rate                         | 4.22                                                                                                              \n",
      " industry_category                 | info_media_and_telecommunications                                                                                 \n",
      " agriculture                       | 0                                                                                                                 \n",
      " arts_and_recreation               | 0                                                                                                                 \n",
      " info_media_and_telecommunications | 1                                                                                                                 \n",
      " rental_hiring_and_real_estate     | 0                                                                                                                 \n",
      " retail_and_wholesale_trade        | 0                                                                                                                 \n",
      "-RECORD 2----------------------------------------------------------------------------------------------------------------------------------------------\n",
      " merchant_name                     | Nunc Sed Company                                                                                                  \n",
      " tags                              | ([jewelry, watch, clock, and silverware shops], [b], [take rate: 4.40])                                           \n",
      " merchant_abn                      | 10165489824                                                                                                       \n",
      " tag                               | jewelry, watch, clock, and silverware shops                                                                       \n",
      " revenue_level                     | b                                                                                                                 \n",
      " take_rate                         | 4.40                                                                                                              \n",
      " industry_category                 | retail_and_wholesale_trade                                                                                        \n",
      " agriculture                       | 0                                                                                                                 \n",
      " arts_and_recreation               | 0                                                                                                                 \n",
      " info_media_and_telecommunications | 0                                                                                                                 \n",
      " rental_hiring_and_real_estate     | 0                                                                                                                 \n",
      " retail_and_wholesale_trade        | 1                                                                                                                 \n",
      "-RECORD 3----------------------------------------------------------------------------------------------------------------------------------------------\n",
      " merchant_name                     | Ultricies Dignissim Lacus Foundation                                                                              \n",
      " tags                              | ([wAtch, clock, and jewelry repair shops], [b], [take rate: 3.29])                                                \n",
      " merchant_abn                      | 10187291046                                                                                                       \n",
      " tag                               | wAtch, clock, and jewelry repair shops                                                                            \n",
      " revenue_level                     | b                                                                                                                 \n",
      " take_rate                         | 3.29                                                                                                              \n",
      " industry_category                 | retail_and_wholesale_trade                                                                                        \n",
      " agriculture                       | 0                                                                                                                 \n",
      " arts_and_recreation               | 0                                                                                                                 \n",
      " info_media_and_telecommunications | 0                                                                                                                 \n",
      " rental_hiring_and_real_estate     | 0                                                                                                                 \n",
      " retail_and_wholesale_trade        | 1                                                                                                                 \n",
      "-RECORD 4----------------------------------------------------------------------------------------------------------------------------------------------\n",
      " merchant_name                     | Enim Condimentum PC                                                                                               \n",
      " tags                              | ([music shops - musical instruments, pianos, and sheet music], [a], [take rate: 6.33])                            \n",
      " merchant_abn                      | 10192359162                                                                                                       \n",
      " tag                               | music shops - musical instruments, pianos, and sheet music                                                        \n",
      " revenue_level                     | a                                                                                                                 \n",
      " take_rate                         | 6.33                                                                                                              \n",
      " industry_category                 | retail_and_wholesale_trade                                                                                        \n",
      " agriculture                       | 0                                                                                                                 \n",
      " arts_and_recreation               | 0                                                                                                                 \n",
      " info_media_and_telecommunications | 0                                                                                                                 \n",
      " rental_hiring_and_real_estate     | 0                                                                                                                 \n",
      " retail_and_wholesale_trade        | 1                                                                                                                 \n",
      "-RECORD 5----------------------------------------------------------------------------------------------------------------------------------------------\n",
      " merchant_name                     | Fusce Company                                                                                                     \n",
      " tags                              | [(gift, card, novelty, and souvenir shops), (a), (take rate: 6.34)]                                               \n",
      " merchant_abn                      | 10206519221                                                                                                       \n",
      " tag                               | gift, card, novelty, and souvenir shops                                                                           \n",
      " revenue_level                     | a                                                                                                                 \n",
      " take_rate                         | 6.34                                                                                                              \n",
      " industry_category                 | retail_and_wholesale_trade                                                                                        \n",
      " agriculture                       | 0                                                                                                                 \n",
      " arts_and_recreation               | 0                                                                                                                 \n",
      " info_media_and_telecommunications | 0                                                                                                                 \n",
      " rental_hiring_and_real_estate     | 0                                                                                                                 \n",
      " retail_and_wholesale_trade        | 1                                                                                                                 \n",
      "-RECORD 6----------------------------------------------------------------------------------------------------------------------------------------------\n",
      " merchant_name                     | Aliquam Enim Incorporated                                                                                         \n",
      " tags                              | [(computers, comPUter peripheral equipment, and softwAre), (b), (take rate: 4.32)]                                \n",
      " merchant_abn                      | 10255988167                                                                                                       \n",
      " tag                               | computers, comPUter peripheral equipment, and softwAre                                                            \n",
      " revenue_level                     | b                                                                                                                 \n",
      " take_rate                         | 4.32                                                                                                              \n",
      " industry_category                 | retail_and_wholesale_trade                                                                                        \n",
      " agriculture                       | 0                                                                                                                 \n",
      " arts_and_recreation               | 0                                                                                                                 \n",
      " info_media_and_telecommunications | 0                                                                                                                 \n",
      " rental_hiring_and_real_estate     | 0                                                                                                                 \n",
      " retail_and_wholesale_trade        | 1                                                                                                                 \n",
      "-RECORD 7----------------------------------------------------------------------------------------------------------------------------------------------\n",
      " merchant_name                     | Ipsum Primis Ltd                                                                                                  \n",
      " tags                              | [[watch, clock, and jewelry repair shops], [c], [take rate: 2.39]]                                                \n",
      " merchant_abn                      | 10264435225                                                                                                       \n",
      " tag                               | watch, clock, and jewelry repair shops                                                                            \n",
      " revenue_level                     | c                                                                                                                 \n",
      " take_rate                         | 2.39                                                                                                              \n",
      " industry_category                 | retail_and_wholesale_trade                                                                                        \n",
      " agriculture                       | 0                                                                                                                 \n",
      " arts_and_recreation               | 0                                                                                                                 \n",
      " info_media_and_telecommunications | 0                                                                                                                 \n",
      " rental_hiring_and_real_estate     | 0                                                                                                                 \n",
      " retail_and_wholesale_trade        | 1                                                                                                                 \n",
      "-RECORD 8----------------------------------------------------------------------------------------------------------------------------------------------\n",
      " merchant_name                     | Pede Ultrices Industries                                                                                          \n",
      " tags                              | ([computer programming , data processing, and integrated systems design services], [a], [take rate: 5.71])        \n",
      " merchant_abn                      | 10279061213                                                                                                       \n",
      " tag                               | computer programming , data processing, and integrated systems design services                                    \n",
      " revenue_level                     | a                                                                                                                 \n",
      " take_rate                         | 5.71                                                                                                              \n",
      " industry_category                 | info_media_and_telecommunications                                                                                 \n",
      " agriculture                       | 0                                                                                                                 \n",
      " arts_and_recreation               | 0                                                                                                                 \n",
      " info_media_and_telecommunications | 1                                                                                                                 \n",
      " rental_hiring_and_real_estate     | 0                                                                                                                 \n",
      " retail_and_wholesale_trade        | 0                                                                                                                 \n",
      "-RECORD 9----------------------------------------------------------------------------------------------------------------------------------------------\n",
      " merchant_name                     | Nunc Inc.                                                                                                         \n",
      " tags                              | [(furniture, home furnishings and equipment shopS, and manufacturers, except appliances), (a), (take rate: 6.61)] \n",
      " merchant_abn                      | 10323485998                                                                                                       \n",
      " tag                               | furniture, home furnishings and equipment shopS, and manufacturers, except appliances                             \n",
      " revenue_level                     | a                                                                                                                 \n",
      " take_rate                         | 6.61                                                                                                              \n",
      " industry_category                 | retail_and_wholesale_trade                                                                                        \n",
      " agriculture                       | 0                                                                                                                 \n",
      " arts_and_recreation               | 0                                                                                                                 \n",
      " info_media_and_telecommunications | 0                                                                                                                 \n",
      " rental_hiring_and_real_estate     | 0                                                                                                                 \n",
      " retail_and_wholesale_trade        | 1                                                                                                                 \n",
      "-RECORD 10---------------------------------------------------------------------------------------------------------------------------------------------\n",
      " merchant_name                     | Facilisis Facilisis Corp.                                                                                         \n",
      " tags                              | ([computers, computer peripheral equipment, and software], [a], [take rate: 6.34])                                \n",
      " merchant_abn                      | 10342410215                                                                                                       \n",
      " tag                               | computers, computer peripheral equipment, and software                                                            \n",
      " revenue_level                     | a                                                                                                                 \n",
      " take_rate                         | 6.34                                                                                                              \n",
      " industry_category                 | retail_and_wholesale_trade                                                                                        \n",
      " agriculture                       | 0                                                                                                                 \n",
      " arts_and_recreation               | 0                                                                                                                 \n",
      " info_media_and_telecommunications | 0                                                                                                                 \n",
      " rental_hiring_and_real_estate     | 0                                                                                                                 \n",
      " retail_and_wholesale_trade        | 1                                                                                                                 \n",
      "-RECORD 11---------------------------------------------------------------------------------------------------------------------------------------------\n",
      " merchant_name                     | Odio Institute                                                                                                    \n",
      " tags                              | ((equipment, tool, furniture, and appliance  rent al and leAsing), (b), (take rate: 3.57))                        \n",
      " merchant_abn                      | 10346855916                                                                                                       \n",
      " tag                               | equipment, tool, furniture, and appliance  rent al and leAsing                                                    \n",
      " revenue_level                     | b                                                                                                                 \n",
      " take_rate                         | 3.57                                                                                                              \n",
      " industry_category                 | rental_hiring_and_real_estate                                                                                     \n",
      " agriculture                       | 0                                                                                                                 \n",
      " arts_and_recreation               | 0                                                                                                                 \n",
      " info_media_and_telecommunications | 0                                                                                                                 \n",
      " rental_hiring_and_real_estate     | 1                                                                                                                 \n",
      " retail_and_wholesale_trade        | 0                                                                                                                 \n",
      "-RECORD 12---------------------------------------------------------------------------------------------------------------------------------------------\n",
      " merchant_name                     | Rutrum Justo Ltd                                                                                                  \n",
      " tags                              | ([music shops - musical instruments, pianos, and sheet music], [b], [take rate: 3.63])                            \n",
      " merchant_abn                      | 10364012396                                                                                                       \n",
      " tag                               | music shops - musical instruments, pianos, and sheet music                                                        \n",
      " revenue_level                     | b                                                                                                                 \n",
      " take_rate                         | 3.63                                                                                                              \n",
      " industry_category                 | retail_and_wholesale_trade                                                                                        \n",
      " agriculture                       | 0                                                                                                                 \n",
      " arts_and_recreation               | 0                                                                                                                 \n",
      " info_media_and_telecommunications | 0                                                                                                                 \n",
      " rental_hiring_and_real_estate     | 0                                                                                                                 \n",
      " retail_and_wholesale_trade        | 1                                                                                                                 \n",
      "-RECORD 13---------------------------------------------------------------------------------------------------------------------------------------------\n",
      " merchant_name                     | Tellus Foundation                                                                                                 \n",
      " tags                              | [[artist supply and craft  shops], [b], [take rate: 3.17]]                                                        \n",
      " merchant_abn                      | 10385011947                                                                                                       \n",
      " tag                               | artist supply and craft  shops                                                                                    \n",
      " revenue_level                     | b                                                                                                                 \n",
      " take_rate                         | 3.17                                                                                                              \n",
      " industry_category                 | retail_and_wholesale_trade                                                                                        \n",
      " agriculture                       | 0                                                                                                                 \n",
      " arts_and_recreation               | 0                                                                                                                 \n",
      " info_media_and_telecommunications | 0                                                                                                                 \n",
      " rental_hiring_and_real_estate     | 0                                                                                                                 \n",
      " retail_and_wholesale_trade        | 1                                                                                                                 \n",
      "-RECORD 14---------------------------------------------------------------------------------------------------------------------------------------------\n",
      " merchant_name                     | Sed Et Company                                                                                                    \n",
      " tags                              | ([florists supplies, nursery stock, and flowers], [a], [take rate: 6.61])                                         \n",
      " merchant_abn                      | 10385163239                                                                                                       \n",
      " tag                               | florists supplies, nursery stock, and flowers                                                                     \n",
      " revenue_level                     | a                                                                                                                 \n",
      " take_rate                         | 6.61                                                                                                              \n",
      " industry_category                 | agriculture                                                                                                       \n",
      " agriculture                       | 1                                                                                                                 \n",
      " arts_and_recreation               | 0                                                                                                                 \n",
      " info_media_and_telecommunications | 0                                                                                                                 \n",
      " rental_hiring_and_real_estate     | 0                                                                                                                 \n",
      " retail_and_wholesale_trade        | 0                                                                                                                 \n",
      "-RECORD 15---------------------------------------------------------------------------------------------------------------------------------------------\n",
      " merchant_name                     | Id Ltd                                                                                                            \n",
      " tags                              | ([computers, computer peripheral  equipment, and software], [a], [take rate: 5.54])                               \n",
      " merchant_abn                      | 10385250025                                                                                                       \n",
      " tag                               | computers, computer peripheral  equipment, and software                                                           \n",
      " revenue_level                     | a                                                                                                                 \n",
      " take_rate                         | 5.54                                                                                                              \n",
      " industry_category                 | retail_and_wholesale_trade                                                                                        \n",
      " agriculture                       | 0                                                                                                                 \n",
      " arts_and_recreation               | 0                                                                                                                 \n",
      " info_media_and_telecommunications | 0                                                                                                                 \n",
      " rental_hiring_and_real_estate     | 0                                                                                                                 \n",
      " retail_and_wholesale_trade        | 1                                                                                                                 \n",
      "-RECORD 16---------------------------------------------------------------------------------------------------------------------------------------------\n",
      " merchant_name                     | Consequat Foundation                                                                                              \n",
      " tags                              | [[antique shops - sales, repairs, and restoration serVices], [a], [take rate: 6.93]]                              \n",
      " merchant_abn                      | 10404542215                                                                                                       \n",
      " tag                               | antique shops - sales, repairs, and restoration serVices                                                          \n",
      " revenue_level                     | a                                                                                                                 \n",
      " take_rate                         | 6.93                                                                                                              \n",
      " industry_category                 | retail_and_wholesale_trade                                                                                        \n",
      " agriculture                       | 0                                                                                                                 \n",
      " arts_and_recreation               | 0                                                                                                                 \n",
      " info_media_and_telecommunications | 0                                                                                                                 \n",
      " rental_hiring_and_real_estate     | 0                                                                                                                 \n",
      " retail_and_wholesale_trade        | 1                                                                                                                 \n",
      "-RECORD 17---------------------------------------------------------------------------------------------------------------------------------------------\n",
      " merchant_name                     | Sit Amet Nulla Corp.                                                                                              \n",
      " tags                              | [[motor vehicle supplies and new parts], [b], [take rate: 4.97]]                                                  \n",
      " merchant_abn                      | 10430380319                                                                                                       \n",
      " tag                               | motor vehicle supplies and new parts                                                                              \n",
      " revenue_level                     | b                                                                                                                 \n",
      " take_rate                         | 4.97                                                                                                              \n",
      " industry_category                 | retail_and_wholesale_trade                                                                                        \n",
      " agriculture                       | 0                                                                                                                 \n",
      " arts_and_recreation               | 0                                                                                                                 \n",
      " info_media_and_telecommunications | 0                                                                                                                 \n",
      " rental_hiring_and_real_estate     | 0                                                                                                                 \n",
      " retail_and_wholesale_trade        | 1                                                                                                                 \n",
      "-RECORD 18---------------------------------------------------------------------------------------------------------------------------------------------\n",
      " merchant_name                     | Massa Vestibulum Foundation                                                                                       \n",
      " tags                              | [(moTor vehicle supplies and new parts), (a), (take rate: 5.77)]                                                  \n",
      " merchant_abn                      | 10441711491                                                                                                       \n",
      " tag                               | moTor vehicle supplies and new parts                                                                              \n",
      " revenue_level                     | a                                                                                                                 \n",
      " take_rate                         | 5.77                                                                                                              \n",
      " industry_category                 | retail_and_wholesale_trade                                                                                        \n",
      " agriculture                       | 0                                                                                                                 \n",
      " arts_and_recreation               | 0                                                                                                                 \n",
      " info_media_and_telecommunications | 0                                                                                                                 \n",
      " rental_hiring_and_real_estate     | 0                                                                                                                 \n",
      " retail_and_wholesale_trade        | 1                                                                                                                 \n",
      "-RECORD 19---------------------------------------------------------------------------------------------------------------------------------------------\n",
      " merchant_name                     | Ut Consulting                                                                                                     \n",
      " tags                              | ([gift, card, novelty, and souvenir shops], [c], [take rate: 2.95])                                               \n",
      " merchant_abn                      | 10462560289                                                                                                       \n",
      " tag                               | gift, card, novelty, and souvenir shops                                                                           \n",
      " revenue_level                     | c                                                                                                                 \n",
      " take_rate                         | 2.95                                                                                                              \n",
      " industry_category                 | retail_and_wholesale_trade                                                                                        \n",
      " agriculture                       | 0                                                                                                                 \n",
      " arts_and_recreation               | 0                                                                                                                 \n",
      " info_media_and_telecommunications | 0                                                                                                                 \n",
      " rental_hiring_and_real_estate     | 0                                                                                                                 \n",
      " retail_and_wholesale_trade        | 1                                                                                                                 \n",
      "only showing top 20 rows\n",
      "\n"
     ]
    }
   ],
   "source": [
    "from pyspark.sql import functions as F\n",
    "\n",
    "merchants = merchants.withColumn(\"tag\", F.split(\"tags\", pattern = \"(\\],\\s\\[)|(\\),\\s\\()\").getItem(0))\n",
    "merchants = merchants.withColumn(\"tag\", F.expr(\"substring(tag, 3, length(tag)-2)\"))\n",
    "merchants = merchants.withColumn(\"revenue_level\", F.split(\"tags\", pattern = \"(\\],\\s\\[)|(\\),\\s\\()\").getItem(1))\n",
    "merchants = merchants.withColumn(\"take_rate\", F.split(\"tags\", pattern = \"(\\],\\s\\[)|(\\),\\s\\()\").getItem(2))\n",
    "merchants = merchants.withColumn(\"take_rate\", F.substring(\"take_rate\", 12, 4))\n",
    "merchants.show(20, vertical=True, truncate = False)"
   ]
  },
  {
   "cell_type": "code",
   "execution_count": 9,
   "metadata": {},
   "outputs": [],
   "source": [
    "# Convert all tags to lower for grammatical consistency.\n",
    "merchants = merchants.withColumn(\"tag\", F.lower(F.col(\"tag\")))\n",
    "\n",
    "# Replace unneccessary (multiple) spaces with single space for grammatical consistency.\n",
    "merchants = merchants.withColumn(\"tag\", F.regexp_replace(F.col(\"tag\"), \" +\", \" \"))"
   ]
  },
  {
   "cell_type": "code",
   "execution_count": 10,
   "metadata": {},
   "outputs": [
    {
     "name": "stdout",
     "output_type": "stream",
     "text": [
      "-RECORD 0--------------------------------------------------------------------------------------------------------------------------\n",
      " merchant_name | Felis Limited                                                                                                     \n",
      " tags          | ((furniture, home furnishings and equipment shops, and manufacturers, except appliances), (e), (take rate: 0.18)) \n",
      " merchant_abn  | 10023283211                                                                                                       \n",
      " tag           | furniture, home furnishings and equipment shops, and manufacturers, except appliances                             \n",
      " revenue_level | e                                                                                                                 \n",
      " take_rate     | 0.18                                                                                                              \n",
      "-RECORD 1--------------------------------------------------------------------------------------------------------------------------\n",
      " merchant_name | Arcu Ac Orci Corporation                                                                                          \n",
      " tags          | ([cable, satellite, and otHer pay television and radio services], [b], [take rate: 4.22])                         \n",
      " merchant_abn  | 10142254217                                                                                                       \n",
      " tag           | cable, satellite, and other pay television and radio services                                                     \n",
      " revenue_level | b                                                                                                                 \n",
      " take_rate     | 4.22                                                                                                              \n",
      "-RECORD 2--------------------------------------------------------------------------------------------------------------------------\n",
      " merchant_name | Nunc Sed Company                                                                                                  \n",
      " tags          | ([jewelry, watch, clock, and silverware shops], [b], [take rate: 4.40])                                           \n",
      " merchant_abn  | 10165489824                                                                                                       \n",
      " tag           | jewelry, watch, clock, and silverware shops                                                                       \n",
      " revenue_level | b                                                                                                                 \n",
      " take_rate     | 4.40                                                                                                              \n",
      "-RECORD 3--------------------------------------------------------------------------------------------------------------------------\n",
      " merchant_name | Ultricies Dignissim Lacus Foundation                                                                              \n",
      " tags          | ([wAtch, clock, and jewelry repair shops], [b], [take rate: 3.29])                                                \n",
      " merchant_abn  | 10187291046                                                                                                       \n",
      " tag           | watch, clock, and jewelry repair shops                                                                            \n",
      " revenue_level | b                                                                                                                 \n",
      " take_rate     | 3.29                                                                                                              \n",
      "-RECORD 4--------------------------------------------------------------------------------------------------------------------------\n",
      " merchant_name | Enim Condimentum PC                                                                                               \n",
      " tags          | ([music shops - musical instruments, pianos, and sheet music], [a], [take rate: 6.33])                            \n",
      " merchant_abn  | 10192359162                                                                                                       \n",
      " tag           | music shops - musical instruments, pianos, and sheet music                                                        \n",
      " revenue_level | a                                                                                                                 \n",
      " take_rate     | 6.33                                                                                                              \n",
      "-RECORD 5--------------------------------------------------------------------------------------------------------------------------\n",
      " merchant_name | Fusce Company                                                                                                     \n",
      " tags          | [(gift, card, novelty, and souvenir shops), (a), (take rate: 6.34)]                                               \n",
      " merchant_abn  | 10206519221                                                                                                       \n",
      " tag           | gift, card, novelty, and souvenir shops                                                                           \n",
      " revenue_level | a                                                                                                                 \n",
      " take_rate     | 6.34                                                                                                              \n",
      "-RECORD 6--------------------------------------------------------------------------------------------------------------------------\n",
      " merchant_name | Aliquam Enim Incorporated                                                                                         \n",
      " tags          | [(computers, comPUter peripheral equipment, and softwAre), (b), (take rate: 4.32)]                                \n",
      " merchant_abn  | 10255988167                                                                                                       \n",
      " tag           | computers, computer peripheral equipment, and software                                                            \n",
      " revenue_level | b                                                                                                                 \n",
      " take_rate     | 4.32                                                                                                              \n",
      "-RECORD 7--------------------------------------------------------------------------------------------------------------------------\n",
      " merchant_name | Ipsum Primis Ltd                                                                                                  \n",
      " tags          | [[watch, clock, and jewelry repair shops], [c], [take rate: 2.39]]                                                \n",
      " merchant_abn  | 10264435225                                                                                                       \n",
      " tag           | watch, clock, and jewelry repair shops                                                                            \n",
      " revenue_level | c                                                                                                                 \n",
      " take_rate     | 2.39                                                                                                              \n",
      "-RECORD 8--------------------------------------------------------------------------------------------------------------------------\n",
      " merchant_name | Pede Ultrices Industries                                                                                          \n",
      " tags          | ([computer programming , data processing, and integrated systems design services], [a], [take rate: 5.71])        \n",
      " merchant_abn  | 10279061213                                                                                                       \n",
      " tag           | computer programming , data processing, and integrated systems design services                                    \n",
      " revenue_level | a                                                                                                                 \n",
      " take_rate     | 5.71                                                                                                              \n",
      "-RECORD 9--------------------------------------------------------------------------------------------------------------------------\n",
      " merchant_name | Nunc Inc.                                                                                                         \n",
      " tags          | [(furniture, home furnishings and equipment shopS, and manufacturers, except appliances), (a), (take rate: 6.61)] \n",
      " merchant_abn  | 10323485998                                                                                                       \n",
      " tag           | furniture, home furnishings and equipment shops, and manufacturers, except appliances                             \n",
      " revenue_level | a                                                                                                                 \n",
      " take_rate     | 6.61                                                                                                              \n",
      "-RECORD 10-------------------------------------------------------------------------------------------------------------------------\n",
      " merchant_name | Facilisis Facilisis Corp.                                                                                         \n",
      " tags          | ([computers, computer peripheral equipment, and software], [a], [take rate: 6.34])                                \n",
      " merchant_abn  | 10342410215                                                                                                       \n",
      " tag           | computers, computer peripheral equipment, and software                                                            \n",
      " revenue_level | a                                                                                                                 \n",
      " take_rate     | 6.34                                                                                                              \n",
      "-RECORD 11-------------------------------------------------------------------------------------------------------------------------\n",
      " merchant_name | Odio Institute                                                                                                    \n",
      " tags          | ((equipment, tool, furniture, and appliance  rent al and leAsing), (b), (take rate: 3.57))                        \n",
      " merchant_abn  | 10346855916                                                                                                       \n",
      " tag           | equipment, tool, furniture, and appliance rent al and leasing                                                     \n",
      " revenue_level | b                                                                                                                 \n",
      " take_rate     | 3.57                                                                                                              \n",
      "-RECORD 12-------------------------------------------------------------------------------------------------------------------------\n",
      " merchant_name | Rutrum Justo Ltd                                                                                                  \n",
      " tags          | ([music shops - musical instruments, pianos, and sheet music], [b], [take rate: 3.63])                            \n",
      " merchant_abn  | 10364012396                                                                                                       \n",
      " tag           | music shops - musical instruments, pianos, and sheet music                                                        \n",
      " revenue_level | b                                                                                                                 \n",
      " take_rate     | 3.63                                                                                                              \n",
      "-RECORD 13-------------------------------------------------------------------------------------------------------------------------\n",
      " merchant_name | Tellus Foundation                                                                                                 \n",
      " tags          | [[artist supply and craft  shops], [b], [take rate: 3.17]]                                                        \n",
      " merchant_abn  | 10385011947                                                                                                       \n",
      " tag           | artist supply and craft shops                                                                                     \n",
      " revenue_level | b                                                                                                                 \n",
      " take_rate     | 3.17                                                                                                              \n",
      "-RECORD 14-------------------------------------------------------------------------------------------------------------------------\n",
      " merchant_name | Sed Et Company                                                                                                    \n",
      " tags          | ([florists supplies, nursery stock, and flowers], [a], [take rate: 6.61])                                         \n",
      " merchant_abn  | 10385163239                                                                                                       \n",
      " tag           | florists supplies, nursery stock, and flowers                                                                     \n",
      " revenue_level | a                                                                                                                 \n",
      " take_rate     | 6.61                                                                                                              \n",
      "-RECORD 15-------------------------------------------------------------------------------------------------------------------------\n",
      " merchant_name | Id Ltd                                                                                                            \n",
      " tags          | ([computers, computer peripheral  equipment, and software], [a], [take rate: 5.54])                               \n",
      " merchant_abn  | 10385250025                                                                                                       \n",
      " tag           | computers, computer peripheral equipment, and software                                                            \n",
      " revenue_level | a                                                                                                                 \n",
      " take_rate     | 5.54                                                                                                              \n",
      "-RECORD 16-------------------------------------------------------------------------------------------------------------------------\n",
      " merchant_name | Consequat Foundation                                                                                              \n",
      " tags          | [[antique shops - sales, repairs, and restoration serVices], [a], [take rate: 6.93]]                              \n",
      " merchant_abn  | 10404542215                                                                                                       \n",
      " tag           | antique shops - sales, repairs, and restoration services                                                          \n",
      " revenue_level | a                                                                                                                 \n",
      " take_rate     | 6.93                                                                                                              \n",
      "-RECORD 17-------------------------------------------------------------------------------------------------------------------------\n",
      " merchant_name | Sit Amet Nulla Corp.                                                                                              \n",
      " tags          | [[motor vehicle supplies and new parts], [b], [take rate: 4.97]]                                                  \n",
      " merchant_abn  | 10430380319                                                                                                       \n",
      " tag           | motor vehicle supplies and new parts                                                                              \n",
      " revenue_level | b                                                                                                                 \n",
      " take_rate     | 4.97                                                                                                              \n",
      "-RECORD 18-------------------------------------------------------------------------------------------------------------------------\n",
      " merchant_name | Massa Vestibulum Foundation                                                                                       \n",
      " tags          | [(moTor vehicle supplies and new parts), (a), (take rate: 5.77)]                                                  \n",
      " merchant_abn  | 10441711491                                                                                                       \n",
      " tag           | motor vehicle supplies and new parts                                                                              \n",
      " revenue_level | a                                                                                                                 \n",
      " take_rate     | 5.77                                                                                                              \n",
      "-RECORD 19-------------------------------------------------------------------------------------------------------------------------\n",
      " merchant_name | Ut Consulting                                                                                                     \n",
      " tags          | ([gift, card, novelty, and souvenir shops], [c], [take rate: 2.95])                                               \n",
      " merchant_abn  | 10462560289                                                                                                       \n",
      " tag           | gift, card, novelty, and souvenir shops                                                                           \n",
      " revenue_level | c                                                                                                                 \n",
      " take_rate     | 2.95                                                                                                              \n",
      "only showing top 20 rows\n",
      "\n"
     ]
    }
   ],
   "source": [
    "# Check modified 'tag' column to compare changes to original data frame above.\n",
    "\n",
    "merchants.show(20, vertical=True, truncate=False)"
   ]
  },
  {
   "cell_type": "code",
   "execution_count": 17,
   "metadata": {},
   "outputs": [
    {
     "name": "stdout",
     "output_type": "stream",
     "text": [
      "+-------------------------------------------------------------------------------------+-----------------+\n",
      "|tag                                                                                  |no_of_occurrences|\n",
      "+-------------------------------------------------------------------------------------+-----------------+\n",
      "|digital goods: books, movies, music                                                  |195              |\n",
      "|artist supply and craft shops                                                        |193              |\n",
      "|computer programming , data processing, and integrated systems design services       |191              |\n",
      "|shoe shops                                                                           |185              |\n",
      "|gift, card, novelty, and souvenir shops                                              |182              |\n",
      "|furniture, home furnishings and equipment shops, and manufacturers, except appliances|182              |\n",
      "|computers, computer peripheral equipment, and software                               |181              |\n",
      "|florists supplies, nursery stock, and flowers                                        |180              |\n",
      "|tent and awning shops                                                                |178              |\n",
      "|cable, satellite, and other pay television and radio services                        |175              |\n",
      "|watch, clock, and jewelry repair shops                                               |170              |\n",
      "|bicycle shops - sales and service                                                    |170              |\n",
      "|music shops - musical instruments, pianos, and sheet music                           |167              |\n",
      "|health and beauty spas                                                               |164              |\n",
      "|books, periodicals, and newspapers                                                   |164              |\n",
      "|stationery, office supplies and printing and writing paper                           |161              |\n",
      "|lawn and garden supply outlets, including nurseries                                  |153              |\n",
      "|motor vehicle supplies and new parts                                                 |151              |\n",
      "|opticians, optical goods, and eyeglasses                                             |151              |\n",
      "|hobby, toy and game shops                                                            |142              |\n",
      "|equipment, tool, furniture, and appliance rent al and leasing                        |134              |\n",
      "|antique shops - sales, repairs, and restoration services                             |129              |\n",
      "|telecom                                                                              |125              |\n",
      "|art dealers and galleries                                                            |112              |\n",
      "|jewelry, watch, clock, and silverware shops                                          |91               |\n",
      "+-------------------------------------------------------------------------------------+-----------------+\n",
      "\n"
     ]
    }
   ],
   "source": [
    "# Check distinct tags and number of occurrences from all the merchants.\n",
    "\n",
    "tag_occurrences = merchants \\\n",
    "                .groupby(\"tag\") \\\n",
    "                .agg(\n",
    "                    F.count(\"tag\").alias(\"no_of_occurrences\"), \\\n",
    "                ).orderBy(F.count(\"tag\"), ascending=False)\n",
    "\n",
    "tag_occurrences.show(50, truncate = False)"
   ]
  },
  {
   "cell_type": "code",
   "execution_count": 18,
   "metadata": {
    "scrolled": true
   },
   "outputs": [
    {
     "name": "stdout",
     "output_type": "stream",
     "text": [
      "22/09/03 16:53:18 WARN WindowExec: No Partition Defined for Window operation! Moving all data to a single partition, this can cause serious performance degradation.\n",
      "22/09/03 16:53:18 WARN WindowExec: No Partition Defined for Window operation! Moving all data to a single partition, this can cause serious performance degradation.\n",
      "22/09/03 16:53:18 WARN WindowExec: No Partition Defined for Window operation! Moving all data to a single partition, this can cause serious performance degradation.\n",
      "22/09/03 16:53:19 WARN WindowExec: No Partition Defined for Window operation! Moving all data to a single partition, this can cause serious performance degradation.\n",
      "22/09/03 16:53:19 WARN WindowExec: No Partition Defined for Window operation! Moving all data to a single partition, this can cause serious performance degradation.\n",
      "22/09/03 16:53:19 WARN WindowExec: No Partition Defined for Window operation! Moving all data to a single partition, this can cause serious performance degradation.\n",
      "22/09/03 16:53:19 WARN WindowExec: No Partition Defined for Window operation! Moving all data to a single partition, this can cause serious performance degradation.\n",
      "22/09/03 16:53:19 WARN WindowExec: No Partition Defined for Window operation! Moving all data to a single partition, this can cause serious performance degradation.\n",
      "22/09/03 16:53:19 WARN WindowExec: No Partition Defined for Window operation! Moving all data to a single partition, this can cause serious performance degradation.\n"
     ]
    },
    {
     "data": {
      "text/html": [
       "<div>\n",
       "<style scoped>\n",
       "    .dataframe tbody tr th:only-of-type {\n",
       "        vertical-align: middle;\n",
       "    }\n",
       "\n",
       "    .dataframe tbody tr th {\n",
       "        vertical-align: top;\n",
       "    }\n",
       "\n",
       "    .dataframe thead th {\n",
       "        text-align: right;\n",
       "    }\n",
       "</style>\n",
       "<table border=\"1\" class=\"dataframe\">\n",
       "  <thead>\n",
       "    <tr style=\"text-align: right;\">\n",
       "      <th></th>\n",
       "      <th>tag</th>\n",
       "      <th>no_of_occurrences</th>\n",
       "      <th>row_num</th>\n",
       "    </tr>\n",
       "  </thead>\n",
       "  <tbody>\n",
       "    <tr>\n",
       "      <th>0</th>\n",
       "      <td>jewelry, watch, clock, and silverware shops</td>\n",
       "      <td>91</td>\n",
       "      <td>1</td>\n",
       "    </tr>\n",
       "    <tr>\n",
       "      <th>1</th>\n",
       "      <td>art dealers and galleries</td>\n",
       "      <td>112</td>\n",
       "      <td>2</td>\n",
       "    </tr>\n",
       "    <tr>\n",
       "      <th>2</th>\n",
       "      <td>telecom</td>\n",
       "      <td>125</td>\n",
       "      <td>3</td>\n",
       "    </tr>\n",
       "    <tr>\n",
       "      <th>3</th>\n",
       "      <td>antique shops - sales, repairs, and restoratio...</td>\n",
       "      <td>129</td>\n",
       "      <td>4</td>\n",
       "    </tr>\n",
       "    <tr>\n",
       "      <th>4</th>\n",
       "      <td>equipment, tool, furniture, and appliance rent...</td>\n",
       "      <td>134</td>\n",
       "      <td>5</td>\n",
       "    </tr>\n",
       "  </tbody>\n",
       "</table>\n",
       "</div>"
      ],
      "text/plain": [
       "                                                 tag  no_of_occurrences  \\\n",
       "0        jewelry, watch, clock, and silverware shops                 91   \n",
       "1                          art dealers and galleries                112   \n",
       "2                                            telecom                125   \n",
       "3  antique shops - sales, repairs, and restoratio...                129   \n",
       "4  equipment, tool, furniture, and appliance rent...                134   \n",
       "\n",
       "   row_num  \n",
       "0        1  \n",
       "1        2  \n",
       "2        3  \n",
       "3        4  \n",
       "4        5  "
      ]
     },
     "execution_count": 18,
     "metadata": {},
     "output_type": "execute_result"
    }
   ],
   "source": [
    "# Add row number column to aggregate table and convert to pandas data frame for easier data manipulation.\n",
    "\n",
    "from pyspark.sql.window import Window\n",
    "\n",
    "tag_occurrences = tag_occurrences.select(\"tag\", \"no_of_occurrences\", F.row_number().over(Window.partitionBy(). \\\n",
    "                                          orderBy(tag_occurrences['no_of_occurrences'])).alias(\"row_num\"))\n",
    "\n",
    "tag_pdf = tag_occurrences.toPandas()\n",
    "tag_pdf.head()"
   ]
  },
  {
   "cell_type": "code",
   "execution_count": 20,
   "metadata": {},
   "outputs": [
    {
     "data": {
      "text/html": [
       "<div>\n",
       "<style scoped>\n",
       "    .dataframe tbody tr th:only-of-type {\n",
       "        vertical-align: middle;\n",
       "    }\n",
       "\n",
       "    .dataframe tbody tr th {\n",
       "        vertical-align: top;\n",
       "    }\n",
       "\n",
       "    .dataframe thead th {\n",
       "        text-align: right;\n",
       "    }\n",
       "</style>\n",
       "<table border=\"1\" class=\"dataframe\">\n",
       "  <thead>\n",
       "    <tr style=\"text-align: right;\">\n",
       "      <th></th>\n",
       "      <th>merchant_name</th>\n",
       "      <th>tags</th>\n",
       "      <th>merchant_abn</th>\n",
       "      <th>tag</th>\n",
       "      <th>revenue_level</th>\n",
       "      <th>take_rate</th>\n",
       "    </tr>\n",
       "  </thead>\n",
       "  <tbody>\n",
       "    <tr>\n",
       "      <th>0</th>\n",
       "      <td>Felis Limited</td>\n",
       "      <td>((furniture, home furnishings and equipment sh...</td>\n",
       "      <td>10023283211</td>\n",
       "      <td>furniture, home furnishings and equipment shop...</td>\n",
       "      <td>e</td>\n",
       "      <td>0.18</td>\n",
       "    </tr>\n",
       "    <tr>\n",
       "      <th>1</th>\n",
       "      <td>Arcu Ac Orci Corporation</td>\n",
       "      <td>([cable, satellite, and otHer pay television a...</td>\n",
       "      <td>10142254217</td>\n",
       "      <td>cable, satellite, and other pay television and...</td>\n",
       "      <td>b</td>\n",
       "      <td>4.22</td>\n",
       "    </tr>\n",
       "    <tr>\n",
       "      <th>2</th>\n",
       "      <td>Nunc Sed Company</td>\n",
       "      <td>([jewelry, watch, clock, and silverware shops]...</td>\n",
       "      <td>10165489824</td>\n",
       "      <td>jewelry, watch, clock, and silverware shops</td>\n",
       "      <td>b</td>\n",
       "      <td>4.40</td>\n",
       "    </tr>\n",
       "    <tr>\n",
       "      <th>3</th>\n",
       "      <td>Ultricies Dignissim Lacus Foundation</td>\n",
       "      <td>([wAtch, clock, and jewelry repair shops], [b]...</td>\n",
       "      <td>10187291046</td>\n",
       "      <td>watch, clock, and jewelry repair shops</td>\n",
       "      <td>b</td>\n",
       "      <td>3.29</td>\n",
       "    </tr>\n",
       "    <tr>\n",
       "      <th>4</th>\n",
       "      <td>Enim Condimentum PC</td>\n",
       "      <td>([music shops - musical instruments, pianos, a...</td>\n",
       "      <td>10192359162</td>\n",
       "      <td>music shops - musical instruments, pianos, and...</td>\n",
       "      <td>a</td>\n",
       "      <td>6.33</td>\n",
       "    </tr>\n",
       "  </tbody>\n",
       "</table>\n",
       "</div>"
      ],
      "text/plain": [
       "                          merchant_name  \\\n",
       "0                         Felis Limited   \n",
       "1              Arcu Ac Orci Corporation   \n",
       "2                      Nunc Sed Company   \n",
       "3  Ultricies Dignissim Lacus Foundation   \n",
       "4                   Enim Condimentum PC   \n",
       "\n",
       "                                                tags  merchant_abn  \\\n",
       "0  ((furniture, home furnishings and equipment sh...   10023283211   \n",
       "1  ([cable, satellite, and otHer pay television a...   10142254217   \n",
       "2  ([jewelry, watch, clock, and silverware shops]...   10165489824   \n",
       "3  ([wAtch, clock, and jewelry repair shops], [b]...   10187291046   \n",
       "4  ([music shops - musical instruments, pianos, a...   10192359162   \n",
       "\n",
       "                                                 tag revenue_level take_rate  \n",
       "0  furniture, home furnishings and equipment shop...             e      0.18  \n",
       "1  cable, satellite, and other pay television and...             b      4.22  \n",
       "2        jewelry, watch, clock, and silverware shops             b      4.40  \n",
       "3             watch, clock, and jewelry repair shops             b      3.29  \n",
       "4  music shops - musical instruments, pianos, and...             a      6.33  "
      ]
     },
     "execution_count": 20,
     "metadata": {},
     "output_type": "execute_result"
    }
   ],
   "source": [
    "# Convert merchants pyspark data frame to pandas data frame for easier data manipulation.\n",
    "\n",
    "merchants_pdf = merchants.toPandas()\n",
    "merchants_pdf.head()"
   ]
  },
  {
   "cell_type": "markdown",
   "metadata": {},
   "source": [
    "https://business.gov.au/planning/industry-information <br>\n",
    "Using the above link as a reference, we are able to pick out five industry segments that accommodated all the distinct tags above. The five categories are: <br>\n",
    "1) AGRICULTURE <br>\n",
    "2) ARTS AND RECREATION <br>\n",
    "3) INFORMATION MEDIA AND TELECOMMUNICATIONS INDUSTRY <br>\n",
    "4) RENTAL, HIRING AND REAL ESTATE SERVICES INDUSTRY <br>\n",
    "5) RETAIL AND WHOLESALE TRADE INDUSTRY"
   ]
  },
  {
   "cell_type": "code",
   "execution_count": 21,
   "metadata": {},
   "outputs": [],
   "source": [
    "# Convert numbers to their respective tag labels based on their row number from tag_pdf.\n",
    "\n",
    "def assign_tags(arr_of_numbers):\n",
    "    tags = []\n",
    "    for num in arr_of_numbers:\n",
    "        tags.append(tag_pdf['tag'][num-1])\n",
    "    return tags"
   ]
  },
  {
   "cell_type": "code",
   "execution_count": 22,
   "metadata": {},
   "outputs": [],
   "source": [
    "# Populate tag labels for each category.\n",
    "\n",
    "agriculture = assign_tags([9, 18])\n",
    "arts_and_recreation = assign_tags([2])\n",
    "info_media_and_telecommunications = assign_tags([3, 11, 16, 23, 25])\n",
    "rental_hiring_and_real_estate = assign_tags([5])\n",
    "retail_and_wholesale_trade = assign_tags([1, 4, 6, 7, 8, 9, 10, 12, 13, 14, 15, 17, 19, 20, 21, 22, 24])"
   ]
  },
  {
   "cell_type": "code",
   "execution_count": 23,
   "metadata": {},
   "outputs": [
    {
     "name": "stdout",
     "output_type": "stream",
     "text": [
      "['jewelry, watch, clock, and silverware shops', 'antique shops - sales, repairs, and restoration services', 'hobby, toy and game shops', 'opticians, optical goods, and eyeglasses', 'motor vehicle supplies and new parts', 'lawn and garden supply outlets, including nurseries', 'stationery, office supplies and printing and writing paper', 'health and beauty spas', 'music shops - musical instruments, pianos, and sheet music', 'watch, clock, and jewelry repair shops', 'bicycle shops - sales and service', 'tent and awning shops', 'computers, computer peripheral equipment, and software', 'gift, card, novelty, and souvenir shops', 'furniture, home furnishings and equipment shops, and manufacturers, except appliances', 'shoe shops', 'artist supply and craft shops']\n"
     ]
    }
   ],
   "source": [
    "# Example of tag labels for the retail and wholesale trade industry.\n",
    "\n",
    "print(retail_and_wholesale_trade)"
   ]
  },
  {
   "cell_type": "code",
   "execution_count": 24,
   "metadata": {},
   "outputs": [],
   "source": [
    "# Insert new column 'industry_category' to capture which industry a merchant belongs to and intialise\n",
    "# five new columns to 0 (one for each category) to start the one-hot encode process.\n",
    "\n",
    "new_col_names = ['industry_category' ,'agriculture', 'arts_and_recreation', 'info_media_and_telecommunications',\n",
    "                 'rental_hiring_and_real_estate', 'retail_and_wholesale_trade']\n",
    "\n",
    "for i in range(len(new_col_names)):\n",
    "    if i == 0:\n",
    "        merchants_pdf[new_col_names[i]] = \"\"\n",
    "    else:\n",
    "        merchants_pdf[new_col_names[i]] = 0"
   ]
  },
  {
   "cell_type": "code",
   "execution_count": 25,
   "metadata": {},
   "outputs": [
    {
     "data": {
      "text/html": [
       "<div>\n",
       "<style scoped>\n",
       "    .dataframe tbody tr th:only-of-type {\n",
       "        vertical-align: middle;\n",
       "    }\n",
       "\n",
       "    .dataframe tbody tr th {\n",
       "        vertical-align: top;\n",
       "    }\n",
       "\n",
       "    .dataframe thead th {\n",
       "        text-align: right;\n",
       "    }\n",
       "</style>\n",
       "<table border=\"1\" class=\"dataframe\">\n",
       "  <thead>\n",
       "    <tr style=\"text-align: right;\">\n",
       "      <th></th>\n",
       "      <th>merchant_name</th>\n",
       "      <th>tags</th>\n",
       "      <th>merchant_abn</th>\n",
       "      <th>tag</th>\n",
       "      <th>revenue_level</th>\n",
       "      <th>take_rate</th>\n",
       "      <th>industry_category</th>\n",
       "      <th>agriculture</th>\n",
       "      <th>arts_and_recreation</th>\n",
       "      <th>info_media_and_telecommunications</th>\n",
       "      <th>rental_hiring_and_real_estate</th>\n",
       "      <th>retail_and_wholesale_trade</th>\n",
       "    </tr>\n",
       "  </thead>\n",
       "  <tbody>\n",
       "    <tr>\n",
       "      <th>0</th>\n",
       "      <td>Felis Limited</td>\n",
       "      <td>((furniture, home furnishings and equipment sh...</td>\n",
       "      <td>10023283211</td>\n",
       "      <td>furniture, home furnishings and equipment shop...</td>\n",
       "      <td>e</td>\n",
       "      <td>0.18</td>\n",
       "      <td></td>\n",
       "      <td>0</td>\n",
       "      <td>0</td>\n",
       "      <td>0</td>\n",
       "      <td>0</td>\n",
       "      <td>0</td>\n",
       "    </tr>\n",
       "    <tr>\n",
       "      <th>1</th>\n",
       "      <td>Arcu Ac Orci Corporation</td>\n",
       "      <td>([cable, satellite, and otHer pay television a...</td>\n",
       "      <td>10142254217</td>\n",
       "      <td>cable, satellite, and other pay television and...</td>\n",
       "      <td>b</td>\n",
       "      <td>4.22</td>\n",
       "      <td></td>\n",
       "      <td>0</td>\n",
       "      <td>0</td>\n",
       "      <td>0</td>\n",
       "      <td>0</td>\n",
       "      <td>0</td>\n",
       "    </tr>\n",
       "    <tr>\n",
       "      <th>2</th>\n",
       "      <td>Nunc Sed Company</td>\n",
       "      <td>([jewelry, watch, clock, and silverware shops]...</td>\n",
       "      <td>10165489824</td>\n",
       "      <td>jewelry, watch, clock, and silverware shops</td>\n",
       "      <td>b</td>\n",
       "      <td>4.40</td>\n",
       "      <td></td>\n",
       "      <td>0</td>\n",
       "      <td>0</td>\n",
       "      <td>0</td>\n",
       "      <td>0</td>\n",
       "      <td>0</td>\n",
       "    </tr>\n",
       "  </tbody>\n",
       "</table>\n",
       "</div>"
      ],
      "text/plain": [
       "              merchant_name  \\\n",
       "0             Felis Limited   \n",
       "1  Arcu Ac Orci Corporation   \n",
       "2          Nunc Sed Company   \n",
       "\n",
       "                                                tags  merchant_abn  \\\n",
       "0  ((furniture, home furnishings and equipment sh...   10023283211   \n",
       "1  ([cable, satellite, and otHer pay television a...   10142254217   \n",
       "2  ([jewelry, watch, clock, and silverware shops]...   10165489824   \n",
       "\n",
       "                                                 tag revenue_level take_rate  \\\n",
       "0  furniture, home furnishings and equipment shop...             e      0.18   \n",
       "1  cable, satellite, and other pay television and...             b      4.22   \n",
       "2        jewelry, watch, clock, and silverware shops             b      4.40   \n",
       "\n",
       "  industry_category  agriculture  arts_and_recreation  \\\n",
       "0                              0                    0   \n",
       "1                              0                    0   \n",
       "2                              0                    0   \n",
       "\n",
       "   info_media_and_telecommunications  rental_hiring_and_real_estate  \\\n",
       "0                                  0                              0   \n",
       "1                                  0                              0   \n",
       "2                                  0                              0   \n",
       "\n",
       "   retail_and_wholesale_trade  \n",
       "0                           0  \n",
       "1                           0  \n",
       "2                           0  "
      ]
     },
     "execution_count": 25,
     "metadata": {},
     "output_type": "execute_result"
    }
   ],
   "source": [
    "# Check newly inserted columns.\n",
    "\n",
    "merchants_pdf.head(3)"
   ]
  },
  {
   "cell_type": "code",
   "execution_count": 26,
   "metadata": {},
   "outputs": [],
   "source": [
    "# Assign an industry category to each merchant entry and one-hot encode.\n",
    "\n",
    "for i in range(len(merchants_pdf)):\n",
    "    if merchants_pdf.loc[i, 'tag'] in agriculture:\n",
    "        merchants_pdf.loc[i, 'industry_category'] = 'agriculture'\n",
    "        merchants_pdf.loc[i, 'agriculture'] = 1\n",
    "    elif merchants_pdf.loc[i, 'tag'] in arts_and_recreation:\n",
    "        merchants_pdf.loc[i, 'industry_category'] = 'arts_and_recreation'\n",
    "        merchants_pdf.loc[i, 'arts_and_recreation'] = 1\n",
    "    elif merchants_pdf.loc[i, 'tag'] in info_media_and_telecommunications:\n",
    "        merchants_pdf.loc[i, 'industry_category'] = 'info_media_and_telecommunications'\n",
    "        merchants_pdf.loc[i, 'info_media_and_telecommunications'] = 1\n",
    "    elif merchants_pdf.loc[i, 'tag'] in rental_hiring_and_real_estate:\n",
    "        merchants_pdf.loc[i, 'industry_category'] = 'rental_hiring_and_real_estate'\n",
    "        merchants_pdf.loc[i, 'rental_hiring_and_real_estate'] = 1\n",
    "    else:\n",
    "        merchants_pdf.loc[i, 'industry_category'] = 'retail_and_wholesale_trade'\n",
    "        merchants_pdf.loc[i, 'retail_and_wholesale_trade'] = 1"
   ]
  },
  {
   "cell_type": "code",
   "execution_count": 27,
   "metadata": {
    "scrolled": true
   },
   "outputs": [
    {
     "data": {
      "text/html": [
       "<div>\n",
       "<style scoped>\n",
       "    .dataframe tbody tr th:only-of-type {\n",
       "        vertical-align: middle;\n",
       "    }\n",
       "\n",
       "    .dataframe tbody tr th {\n",
       "        vertical-align: top;\n",
       "    }\n",
       "\n",
       "    .dataframe thead th {\n",
       "        text-align: right;\n",
       "    }\n",
       "</style>\n",
       "<table border=\"1\" class=\"dataframe\">\n",
       "  <thead>\n",
       "    <tr style=\"text-align: right;\">\n",
       "      <th></th>\n",
       "      <th>merchant_name</th>\n",
       "      <th>tags</th>\n",
       "      <th>merchant_abn</th>\n",
       "      <th>tag</th>\n",
       "      <th>revenue_level</th>\n",
       "      <th>take_rate</th>\n",
       "      <th>industry_category</th>\n",
       "      <th>agriculture</th>\n",
       "      <th>arts_and_recreation</th>\n",
       "      <th>info_media_and_telecommunications</th>\n",
       "      <th>rental_hiring_and_real_estate</th>\n",
       "      <th>retail_and_wholesale_trade</th>\n",
       "    </tr>\n",
       "  </thead>\n",
       "  <tbody>\n",
       "    <tr>\n",
       "      <th>0</th>\n",
       "      <td>Felis Limited</td>\n",
       "      <td>((furniture, home furnishings and equipment sh...</td>\n",
       "      <td>10023283211</td>\n",
       "      <td>furniture, home furnishings and equipment shop...</td>\n",
       "      <td>e</td>\n",
       "      <td>0.18</td>\n",
       "      <td>retail_and_wholesale_trade</td>\n",
       "      <td>0</td>\n",
       "      <td>0</td>\n",
       "      <td>0</td>\n",
       "      <td>0</td>\n",
       "      <td>1</td>\n",
       "    </tr>\n",
       "    <tr>\n",
       "      <th>1</th>\n",
       "      <td>Arcu Ac Orci Corporation</td>\n",
       "      <td>([cable, satellite, and otHer pay television a...</td>\n",
       "      <td>10142254217</td>\n",
       "      <td>cable, satellite, and other pay television and...</td>\n",
       "      <td>b</td>\n",
       "      <td>4.22</td>\n",
       "      <td>info_media_and_telecommunications</td>\n",
       "      <td>0</td>\n",
       "      <td>0</td>\n",
       "      <td>1</td>\n",
       "      <td>0</td>\n",
       "      <td>0</td>\n",
       "    </tr>\n",
       "    <tr>\n",
       "      <th>2</th>\n",
       "      <td>Nunc Sed Company</td>\n",
       "      <td>([jewelry, watch, clock, and silverware shops]...</td>\n",
       "      <td>10165489824</td>\n",
       "      <td>jewelry, watch, clock, and silverware shops</td>\n",
       "      <td>b</td>\n",
       "      <td>4.40</td>\n",
       "      <td>retail_and_wholesale_trade</td>\n",
       "      <td>0</td>\n",
       "      <td>0</td>\n",
       "      <td>0</td>\n",
       "      <td>0</td>\n",
       "      <td>1</td>\n",
       "    </tr>\n",
       "  </tbody>\n",
       "</table>\n",
       "</div>"
      ],
      "text/plain": [
       "              merchant_name  \\\n",
       "0             Felis Limited   \n",
       "1  Arcu Ac Orci Corporation   \n",
       "2          Nunc Sed Company   \n",
       "\n",
       "                                                tags  merchant_abn  \\\n",
       "0  ((furniture, home furnishings and equipment sh...   10023283211   \n",
       "1  ([cable, satellite, and otHer pay television a...   10142254217   \n",
       "2  ([jewelry, watch, clock, and silverware shops]...   10165489824   \n",
       "\n",
       "                                                 tag revenue_level take_rate  \\\n",
       "0  furniture, home furnishings and equipment shop...             e      0.18   \n",
       "1  cable, satellite, and other pay television and...             b      4.22   \n",
       "2        jewelry, watch, clock, and silverware shops             b      4.40   \n",
       "\n",
       "                   industry_category  agriculture  arts_and_recreation  \\\n",
       "0         retail_and_wholesale_trade            0                    0   \n",
       "1  info_media_and_telecommunications            0                    0   \n",
       "2         retail_and_wholesale_trade            0                    0   \n",
       "\n",
       "   info_media_and_telecommunications  rental_hiring_and_real_estate  \\\n",
       "0                                  0                              0   \n",
       "1                                  1                              0   \n",
       "2                                  0                              0   \n",
       "\n",
       "   retail_and_wholesale_trade  \n",
       "0                           1  \n",
       "1                           0  \n",
       "2                           1  "
      ]
     },
     "execution_count": 27,
     "metadata": {},
     "output_type": "execute_result"
    }
   ],
   "source": [
    "# Check newly inserted values for industry category and their respective one-hot encoded columns.\n",
    "\n",
    "merchants_pdf.head(3)"
   ]
  },
  {
   "cell_type": "markdown",
   "metadata": {},
   "source": [
    "Compare the number of merchants and number of unique ABN values. If different, further investigation would be required as <br>\n",
    "every merchant should have their own unique ABN. In this case, no further investigation is required as every merchant has <br>\n",
    "their own unique ABN."
   ]
  },
  {
   "cell_type": "code",
   "execution_count": 33,
   "metadata": {},
   "outputs": [
    {
     "name": "stdout",
     "output_type": "stream",
     "text": [
      "4026\n",
      "4026\n"
     ]
    }
   ],
   "source": [
    "print(len(merchants_pdf))\n",
    "print(merchants_pdf['merchant_abn'].nunique())"
   ]
  },
  {
   "cell_type": "code",
   "execution_count": 34,
   "metadata": {},
   "outputs": [],
   "source": [
    "# Convert modified merchants pandas data frame to pyspark dataframe.\n",
    "\n",
    "merchants=spark.createDataFrame(merchants_pdf)"
   ]
  },
  {
   "cell_type": "markdown",
   "metadata": {},
   "source": [
    "Consumer data:"
   ]
  },
  {
   "cell_type": "code",
   "execution_count": 35,
   "metadata": {},
   "outputs": [
    {
     "name": "stdout",
     "output_type": "stream",
     "text": [
      "-RECORD 0-----------------------------\n",
      " consumer_name | Yolanda Williams     \n",
      " address       | 413 Haney Gardens... \n",
      " state         | WA                   \n",
      " postcode      | 6935                 \n",
      " gender        | Female               \n",
      " consumer_id   | 1195503              \n",
      "-RECORD 1-----------------------------\n",
      " consumer_name | Mary Smith           \n",
      " address       | 3764 Amber Oval      \n",
      " state         | NSW                  \n",
      " postcode      | 2782                 \n",
      " gender        | Female               \n",
      " consumer_id   | 179208               \n",
      "-RECORD 2-----------------------------\n",
      " consumer_name | Jill Jones MD        \n",
      " address       | 40693 Henry Greens   \n",
      " state         | NT                   \n",
      " postcode      | 862                  \n",
      " gender        | Female               \n",
      " consumer_id   | 1194530              \n",
      "only showing top 3 rows\n",
      "\n"
     ]
    },
    {
     "name": "stderr",
     "output_type": "stream",
     "text": [
      "                                                                                \r"
     ]
    },
    {
     "data": {
      "text/plain": [
       "499999"
      ]
     },
     "execution_count": 35,
     "metadata": {},
     "output_type": "execute_result"
    }
   ],
   "source": [
    "consumer = spark.read.option(\"delimiter\", \"|\").option(\"header\", \"true\").csv(\"../data/tables/tbl_consumer.csv\")\n",
    "consumer = consumer.withColumnRenamed(\"name\", \"consumer_name\")\n",
    "consumer.show(3, vertical=True)\n",
    "consumer.count()"
   ]
  },
  {
   "cell_type": "markdown",
   "metadata": {},
   "source": [
    "Consumer user details:"
   ]
  },
  {
   "cell_type": "code",
   "execution_count": 36,
   "metadata": {},
   "outputs": [
    {
     "name": "stdout",
     "output_type": "stream",
     "text": [
      "-RECORD 0--------------\n",
      " user_id     | 1       \n",
      " consumer_id | 1195503 \n",
      "only showing top 1 row\n",
      "\n"
     ]
    }
   ],
   "source": [
    "userdetails = spark.read.parquet(\"../data/tables/consumer_user_details.parquet\")\n",
    "userdetails.show(1, vertical=True)"
   ]
  },
  {
   "cell_type": "markdown",
   "metadata": {},
   "source": [
    "Transactions:"
   ]
  },
  {
   "cell_type": "code",
   "execution_count": 37,
   "metadata": {},
   "outputs": [
    {
     "name": "stderr",
     "output_type": "stream",
     "text": [
      "                                                                                \r"
     ]
    },
    {
     "name": "stdout",
     "output_type": "stream",
     "text": [
      "-RECORD 0------------------------------\n",
      " user_id        | 18478                \n",
      " merchant_abn   | 62191208634          \n",
      " dollar_value   | 63.255848959735246   \n",
      " order_id       | 949a63c8-29f7-4ab... \n",
      " order_datetime | 2021-08-20           \n",
      "-RECORD 1------------------------------\n",
      " user_id        | 2                    \n",
      " merchant_abn   | 15549624934          \n",
      " dollar_value   | 130.3505283105634    \n",
      " order_id       | 6a84c3cf-612a-457... \n",
      " order_datetime | 2021-08-20           \n",
      "only showing top 2 rows\n",
      "\n"
     ]
    },
    {
     "name": "stderr",
     "output_type": "stream",
     "text": [
      "                                                                                \r"
     ]
    },
    {
     "data": {
      "text/plain": [
       "3643266"
      ]
     },
     "execution_count": 37,
     "metadata": {},
     "output_type": "execute_result"
    }
   ],
   "source": [
    "transactions = spark.read.parquet(\"../data/tables/transactions_20210228_20210827_snapshot/\")\n",
    "transactions.show(2, vertical = True)\n",
    "transactions.count()"
   ]
  },
  {
   "cell_type": "markdown",
   "metadata": {},
   "source": [
    "1. Use consumer user details to find the consumer_id for each transaction.\n",
    "2. Use consumer_id to join transaction data and consumer data.\n",
    "3. Use merchant_abn to join transaction data and merchant data."
   ]
  },
  {
   "cell_type": "code",
   "execution_count": 38,
   "metadata": {},
   "outputs": [
    {
     "name": "stderr",
     "output_type": "stream",
     "text": [
      "                                                                                \r"
     ]
    },
    {
     "name": "stdout",
     "output_type": "stream",
     "text": [
      "-RECORD 0-------------------------------------------------\n",
      " merchant_abn                      | 56946407125          \n",
      " consumer_id                       | 1398491              \n",
      " user_id                           | 18480                \n",
      " dollar_value                      | 26.106408993894117   \n",
      " order_id                          | 04357bc2-0a50-400... \n",
      " order_datetime                    | 2021-06-29           \n",
      " consumer_name                     | John Fischer         \n",
      " address                           | 4770 Mayer Passag... \n",
      " state                             | QLD                  \n",
      " postcode                          | 4887                 \n",
      " gender                            | Male                 \n",
      " merchant_name                     | Quisque Fringilla... \n",
      " tags                              | ([computers, comp... \n",
      " tag                               | computers, comput... \n",
      " revenue_level                     | a                    \n",
      " take_rate                         | 5.80                 \n",
      " industry_category                 | retail_and_wholes... \n",
      " agriculture                       | 0                    \n",
      " arts_and_recreation               | 0                    \n",
      " info_media_and_telecommunications | 0                    \n",
      " rental_hiring_and_real_estate     | 0                    \n",
      " retail_and_wholesale_trade        | 1                    \n",
      "-RECORD 1-------------------------------------------------\n",
      " merchant_abn                      | 82065156333          \n",
      " consumer_id                       | 1398491              \n",
      " user_id                           | 18480                \n",
      " dollar_value                      | 28.828739074034164   \n",
      " order_id                          | 8a4def4a-2be5-422... \n",
      " order_datetime                    | 2021-05-18           \n",
      " consumer_name                     | John Fischer         \n",
      " address                           | 4770 Mayer Passag... \n",
      " state                             | QLD                  \n",
      " postcode                          | 4887                 \n",
      " gender                            | Male                 \n",
      " merchant_name                     | Nascetur Ridiculu... \n",
      " tags                              | ([tent and awning... \n",
      " tag                               | tent and awning s... \n",
      " revenue_level                     | a                    \n",
      " take_rate                         | 5.88                 \n",
      " industry_category                 | retail_and_wholes... \n",
      " agriculture                       | 0                    \n",
      " arts_and_recreation               | 0                    \n",
      " info_media_and_telecommunications | 0                    \n",
      " rental_hiring_and_real_estate     | 0                    \n",
      " retail_and_wholesale_trade        | 1                    \n",
      "only showing top 2 rows\n",
      "\n"
     ]
    },
    {
     "name": "stderr",
     "output_type": "stream",
     "text": [
      "                                                                                \r"
     ]
    },
    {
     "data": {
      "text/plain": [
       "3643266"
      ]
     },
     "execution_count": 38,
     "metadata": {},
     "output_type": "execute_result"
    }
   ],
   "source": [
    "transactions = transactions.join(userdetails, on=\"user_id\", how=\"left\")\n",
    "transactions = transactions.join(consumer, on=\"consumer_id\", how=\"left\")\n",
    "transactions = transactions.join(merchants, on=\"merchant_abn\", how=\"left\")\n",
    "transactions.show(2, vertical = True)\n",
    "transactions.count()"
   ]
  },
  {
   "cell_type": "markdown",
   "metadata": {},
   "source": [
    "Group transactions by merchant name, and show merchants with highest and lowest total sales."
   ]
  },
  {
   "cell_type": "code",
   "execution_count": 39,
   "metadata": {},
   "outputs": [
    {
     "name": "stderr",
     "output_type": "stream",
     "text": [
      "                                                                                \r"
     ]
    },
    {
     "data": {
      "text/html": [
       "<div>\n",
       "<style scoped>\n",
       "    .dataframe tbody tr th:only-of-type {\n",
       "        vertical-align: middle;\n",
       "    }\n",
       "\n",
       "    .dataframe tbody tr th {\n",
       "        vertical-align: top;\n",
       "    }\n",
       "\n",
       "    .dataframe thead th {\n",
       "        text-align: right;\n",
       "    }\n",
       "</style>\n",
       "<table border=\"1\" class=\"dataframe\">\n",
       "  <thead>\n",
       "    <tr style=\"text-align: right;\">\n",
       "      <th></th>\n",
       "      <th>merchant_name</th>\n",
       "      <th>sum(dollar_value)</th>\n",
       "    </tr>\n",
       "  </thead>\n",
       "  <tbody>\n",
       "    <tr>\n",
       "      <th>807</th>\n",
       "      <td>None</td>\n",
       "      <td>5.162072e+07</td>\n",
       "    </tr>\n",
       "    <tr>\n",
       "      <th>2769</th>\n",
       "      <td>Arcu Morbi Institute</td>\n",
       "      <td>2.586773e+06</td>\n",
       "    </tr>\n",
       "    <tr>\n",
       "      <th>1083</th>\n",
       "      <td>Amet Risus Inc.</td>\n",
       "      <td>2.569946e+06</td>\n",
       "    </tr>\n",
       "    <tr>\n",
       "      <th>1828</th>\n",
       "      <td>Lacus Aliquam Corporation</td>\n",
       "      <td>2.506652e+06</td>\n",
       "    </tr>\n",
       "    <tr>\n",
       "      <th>2556</th>\n",
       "      <td>Placerat Orci Institute</td>\n",
       "      <td>2.505284e+06</td>\n",
       "    </tr>\n",
       "    <tr>\n",
       "      <th>...</th>\n",
       "      <td>...</td>\n",
       "      <td>...</td>\n",
       "    </tr>\n",
       "    <tr>\n",
       "      <th>338</th>\n",
       "      <td>Malesuada Fames Limited</td>\n",
       "      <td>4.010094e+02</td>\n",
       "    </tr>\n",
       "    <tr>\n",
       "      <th>828</th>\n",
       "      <td>Ac Orci Ut Foundation</td>\n",
       "      <td>3.840798e+02</td>\n",
       "    </tr>\n",
       "    <tr>\n",
       "      <th>3977</th>\n",
       "      <td>Magna Praesent Interdum Industries</td>\n",
       "      <td>3.396543e+02</td>\n",
       "    </tr>\n",
       "    <tr>\n",
       "      <th>3936</th>\n",
       "      <td>Fringilla Mi Lacinia Incorporated</td>\n",
       "      <td>3.296614e+02</td>\n",
       "    </tr>\n",
       "    <tr>\n",
       "      <th>3969</th>\n",
       "      <td>Massa Vestibulum Ltd</td>\n",
       "      <td>3.197081e+02</td>\n",
       "    </tr>\n",
       "  </tbody>\n",
       "</table>\n",
       "<p>3982 rows × 2 columns</p>\n",
       "</div>"
      ],
      "text/plain": [
       "                           merchant_name  sum(dollar_value)\n",
       "807                                 None       5.162072e+07\n",
       "2769                Arcu Morbi Institute       2.586773e+06\n",
       "1083                     Amet Risus Inc.       2.569946e+06\n",
       "1828           Lacus Aliquam Corporation       2.506652e+06\n",
       "2556             Placerat Orci Institute       2.505284e+06\n",
       "...                                  ...                ...\n",
       "338              Malesuada Fames Limited       4.010094e+02\n",
       "828                Ac Orci Ut Foundation       3.840798e+02\n",
       "3977  Magna Praesent Interdum Industries       3.396543e+02\n",
       "3936   Fringilla Mi Lacinia Incorporated       3.296614e+02\n",
       "3969                Massa Vestibulum Ltd       3.197081e+02\n",
       "\n",
       "[3982 rows x 2 columns]"
      ]
     },
     "execution_count": 39,
     "metadata": {},
     "output_type": "execute_result"
    }
   ],
   "source": [
    "import pandas as pd\n",
    "\n",
    "df = transactions.groupBy(\"merchant_name\").sum(\"dollar_value\").toPandas()\n",
    "df = df.sort_values(by = \"sum(dollar_value)\", ascending = False)\n",
    "df"
   ]
  },
  {
   "cell_type": "markdown",
   "metadata": {},
   "source": [
    "Save data as a parquet file in the curated data folder"
   ]
  },
  {
   "cell_type": "code",
   "execution_count": 40,
   "metadata": {},
   "outputs": [
    {
     "name": "stderr",
     "output_type": "stream",
     "text": [
      "                                                                                \r"
     ]
    }
   ],
   "source": [
    "transactions.write.mode('overwrite').parquet('../data/curated/rawdata.parquet')"
   ]
  }
 ],
 "metadata": {
  "kernelspec": {
   "display_name": "Python 3 (ipykernel)",
   "language": "python",
   "name": "python3"
  },
  "language_info": {
   "codemirror_mode": {
    "name": "ipython",
    "version": 3
   },
   "file_extension": ".py",
   "mimetype": "text/x-python",
   "name": "python",
   "nbconvert_exporter": "python",
   "pygments_lexer": "ipython3",
   "version": "3.8.10"
  },
  "vscode": {
   "interpreter": {
    "hash": "916dbcbb3f70747c44a77c7bcd40155683ae19c65e1c03b4aa3499c5328201f1"
   }
  }
 },
 "nbformat": 4,
 "nbformat_minor": 2
}
