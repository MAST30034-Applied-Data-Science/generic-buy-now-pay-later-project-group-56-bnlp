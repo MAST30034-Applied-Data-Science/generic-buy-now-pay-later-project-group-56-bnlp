{
 "cells": [
  {
   "cell_type": "code",
   "execution_count": 1,
   "outputs": [
    {
     "name": "stderr",
     "output_type": "stream",
     "text": [
      "22/09/04 16:25:48 WARN Utils: Your hostname, LAPTOP-VAB0S7AL resolves to a loopback address: 127.0.1.1; using 172.19.195.48 instead (on interface eth0)\n",
      "22/09/04 16:25:48 WARN Utils: Set SPARK_LOCAL_IP if you need to bind to another address\n",
      "WARNING: An illegal reflective access operation has occurred\n",
      "WARNING: Illegal reflective access by org.apache.spark.unsafe.Platform (file:/home/noahs/miniconda3/lib/python3.8/site-packages/pyspark/jars/spark-unsafe_2.12-3.1.2.jar) to constructor java.nio.DirectByteBuffer(long,int)\n",
      "WARNING: Please consider reporting this to the maintainers of org.apache.spark.unsafe.Platform\n",
      "WARNING: Use --illegal-access=warn to enable warnings of further illegal reflective access operations\n",
      "WARNING: All illegal access operations will be denied in a future release\n",
      "22/09/04 16:25:49 WARN NativeCodeLoader: Unable to load native-hadoop library for your platform... using builtin-java classes where applicable\n",
      "Using Spark's default log4j profile: org/apache/spark/log4j-defaults.properties\n",
      "Setting default log level to \"WARN\".\n",
      "To adjust logging level use sc.setLogLevel(newLevel). For SparkR, use setLogLevel(newLevel).\n",
      "22/09/04 16:25:50 WARN Utils: Service 'SparkUI' could not bind on port 4040. Attempting port 4041.\n",
      "22/09/04 16:25:50 WARN Utils: Service 'SparkUI' could not bind on port 4041. Attempting port 4042.\n",
      "22/09/04 16:25:50 WARN Utils: Service 'SparkUI' could not bind on port 4042. Attempting port 4043.\n",
      "22/09/04 16:25:50 WARN Utils: Service 'SparkUI' could not bind on port 4043. Attempting port 4044.\n"
     ]
    }
   ],
   "source": [
    "from pyspark.sql import SparkSession\n",
    "\n",
    "# Create a spark session\n",
    "spark = (\n",
    "    SparkSession.builder.appName(\"BNPL Link-Geo\")\n",
    "    .config(\"spark.sql.repl.eagerEval.enabled\", True)\n",
    "    .config(\"spark.sql.parquet.cacheMetadata\", \"true\")\n",
    "    .config(\"spark.driver.memory\", \"4g\")\n",
    "    .config(\"spark.sql.session.timeZone\", \"Etc/UTC\")\n",
    "    .getOrCreate()\n",
    ")"
   ],
   "metadata": {
    "collapsed": false,
    "pycharm": {
     "name": "#%%\n"
    }
   }
  },
  {
   "cell_type": "markdown",
   "source": [
    "\n",
    "Removing duplicate postcode entries"
   ],
   "metadata": {
    "collapsed": false,
    "pycharm": {
     "name": "#%% md\n"
    }
   }
  },
  {
   "cell_type": "markdown",
   "source": [
    "Postcode linking file from : https://www.matthewproctor.com/australian_postcodes"
   ],
   "metadata": {
    "collapsed": false,
    "pycharm": {
     "name": "#%% md\n"
    }
   }
  },
  {
   "cell_type": "code",
   "execution_count": 2,
   "outputs": [],
   "source": [
    "aus_postcodes = spark.read.option('header', True).csv('../data/tables/postcode_data.csv')"
   ],
   "metadata": {
    "collapsed": false,
    "pycharm": {
     "name": "#%%\n"
    }
   }
  },
  {
   "cell_type": "code",
   "execution_count": 3,
   "outputs": [
    {
     "name": "stderr",
     "output_type": "stream",
     "text": [
      "                                                                                \r"
     ]
    },
    {
     "data": {
      "text/plain": "+-------+------------------+\n|summary|          postcode|\n+-------+------------------+\n|  count|              3167|\n|   mean|4036.5857278181243|\n| stddev|1792.7031469578917|\n|    min|              0200|\n|    max|              9999|\n+-------+------------------+",
      "text/html": "<table border='1'>\n<tr><th>summary</th><th>postcode</th></tr>\n<tr><td>count</td><td>3167</td></tr>\n<tr><td>mean</td><td>4036.5857278181243</td></tr>\n<tr><td>stddev</td><td>1792.7031469578917</td></tr>\n<tr><td>min</td><td>0200</td></tr>\n<tr><td>max</td><td>9999</td></tr>\n</table>\n"
     },
     "execution_count": 3,
     "metadata": {},
     "output_type": "execute_result"
    }
   ],
   "source": [
    "# Drop duplicate postcode entries -> This should be discussed, as the current aggregation is just keeping the first..\n",
    "aus_postcodes = aus_postcodes.dropDuplicates(['postcode'])\n",
    "aus_postcodes.select('postcode').describe()\n",
    "#aus_postcodes.describe()"
   ],
   "metadata": {
    "collapsed": false,
    "pycharm": {
     "name": "#%%\n"
    }
   }
  },
  {
   "cell_type": "code",
   "execution_count": 4,
   "outputs": [
    {
     "data": {
      "text/plain": "+--------+-----------------+-------------+-------------+-----------+----------+----------+------------------+\n|postcode|SA2_MAINCODE_2016|SA3_CODE_2016|SA4_CODE_2016|   LOCALITY|       LAT|      LONG|  electoraterating|\n+--------+-----------------+-------------+-------------+-----------+----------+----------+------------------+\n|    0851|        702051067|        70205|          702|  KATHERINE|-15.711424|137.050719|             Rural|\n|    1159|        117031337|        11703|          117|     SYDNEY|-33.794883|151.268071|              null|\n|    2069|        121011402|        12101|          121|CASTLE COVE|-33.780246|151.195368|Inner Metropolitan|\n+--------+-----------------+-------------+-------------+-----------+----------+----------+------------------+",
      "text/html": "<table border='1'>\n<tr><th>postcode</th><th>SA2_MAINCODE_2016</th><th>SA3_CODE_2016</th><th>SA4_CODE_2016</th><th>LOCALITY</th><th>LAT</th><th>LONG</th><th>electoraterating</th></tr>\n<tr><td>0851</td><td>702051067</td><td>70205</td><td>702</td><td>KATHERINE</td><td>-15.711424</td><td>137.050719</td><td>Rural</td></tr>\n<tr><td>1159</td><td>117031337</td><td>11703</td><td>117</td><td>SYDNEY</td><td>-33.794883</td><td>151.268071</td><td>null</td></tr>\n<tr><td>2069</td><td>121011402</td><td>12101</td><td>121</td><td>CASTLE COVE</td><td>-33.780246</td><td>151.195368</td><td>Inner Metropolitan</td></tr>\n</table>\n"
     },
     "execution_count": 4,
     "metadata": {},
     "output_type": "execute_result"
    }
   ],
   "source": [
    "# Subset of useful features\n",
    "aus_postcodes_subset = aus_postcodes.select(['postcode', 'SA2_MAINCODE_2016', 'SA3_CODE_2016', 'SA4_CODE_2016', 'LOCALITY', 'LAT', 'LONG', 'electoraterating'])\n",
    "aus_postcodes_subset.limit(3)"
   ],
   "metadata": {
    "collapsed": false,
    "pycharm": {
     "name": "#%%\n"
    }
   }
  },
  {
   "cell_type": "code",
   "execution_count": 5,
   "outputs": [],
   "source": [
    "transactions = spark.read.parquet('../data/curated/rawdata.parquet')"
   ],
   "metadata": {
    "collapsed": false,
    "pycharm": {
     "name": "#%%\n"
    }
   }
  },
  {
   "cell_type": "code",
   "execution_count": 6,
   "outputs": [
    {
     "name": "stderr",
     "output_type": "stream",
     "text": [
      "22/09/04 16:26:02 WARN package: Truncated the string representation of a plan since it was too large. This behavior can be adjusted by setting 'spark.sql.debug.maxToStringFields'.\n",
      "                                                                                \r"
     ]
    },
    {
     "data": {
      "text/plain": "+--------+------------+-----------+-------+------------------+--------------------+--------------+-----------------+--------------------+-----+------+--------------------+--------------------+----------+-------------+---------+--------------------+-----------+-------------------+---------------------------------+-----------------------------+--------------------------+-----------------+-------------+-------------+-----------+----------+----------+------------------+\n|postcode|merchant_abn|consumer_id|user_id|      dollar_value|            order_id|order_datetime|    consumer_name|             address|state|gender|       merchant_name|                tags|       tag|revenue_level|take_rate|   industry_category|agriculture|arts_and_recreation|info_media_and_telecommunications|rental_hiring_and_real_estate|retail_and_wholesale_trade|SA2_MAINCODE_2016|SA3_CODE_2016|SA4_CODE_2016|   LOCALITY|       LAT|      LONG|  electoraterating|\n+--------+------------+-----------+-------+------------------+--------------------+--------------+-----------------+--------------------+-----+------+--------------------+--------------------+----------+-------------+---------+--------------------+-----------+-------------------+---------------------------------+-----------------------------+--------------------------+-----------------+-------------+-------------+-----------+----------+----------+------------------+\n|    2212| 15912561882|      36103|  18983|235.75679877020391|3fdd2acd-3b77-4c2...|    2021-06-18|   Lawrence Tyler|3511 Victoria Meadow|  NSW|  Male|Nullam Nisl Insti...|[[shoe shops], [b...|shoe shops|            b|     3.72|retail_and_wholes...|          0|                  0|                                0|                            0|                         1|        119011360|        11901|          119|    REVESBY|-33.947286|151.014547|Inner Metropolitan|\n|    3053| 15912561882|     147322|   9248|213.64355235308224|4b193807-a752-4f6...|    2021-07-26|Alexander Skinner|35694 Kimberly Co...|  VIC|  Male|Nullam Nisl Insti...|[[shoe shops], [b...|shoe shops|            b|     3.72|retail_and_wholes...|          0|                  0|                                0|                            0|                         1|        206041117|        20604|          206|    CARLTON|-37.803569|144.966112|Inner Metropolitan|\n|    3354| 15912561882|     218510|  23629| 157.5666353970244|227da7f6-c6c5-445...|    2021-04-27|     Amanda Brown|4946 Veronica Lak...|  VIC|Female|Nullam Nisl Insti...|[[shoe shops], [b...|shoe shops|            b|     3.72|retail_and_wholes...|          0|                  0|                                0|                            0|                         1|        201011002|        20101|          201|BAKERY HILL|-37.560917|143.867158|              null|\n+--------+------------+-----------+-------+------------------+--------------------+--------------+-----------------+--------------------+-----+------+--------------------+--------------------+----------+-------------+---------+--------------------+-----------+-------------------+---------------------------------+-----------------------------+--------------------------+-----------------+-------------+-------------+-----------+----------+----------+------------------+",
      "text/html": "<table border='1'>\n<tr><th>postcode</th><th>merchant_abn</th><th>consumer_id</th><th>user_id</th><th>dollar_value</th><th>order_id</th><th>order_datetime</th><th>consumer_name</th><th>address</th><th>state</th><th>gender</th><th>merchant_name</th><th>tags</th><th>tag</th><th>revenue_level</th><th>take_rate</th><th>industry_category</th><th>agriculture</th><th>arts_and_recreation</th><th>info_media_and_telecommunications</th><th>rental_hiring_and_real_estate</th><th>retail_and_wholesale_trade</th><th>SA2_MAINCODE_2016</th><th>SA3_CODE_2016</th><th>SA4_CODE_2016</th><th>LOCALITY</th><th>LAT</th><th>LONG</th><th>electoraterating</th></tr>\n<tr><td>2212</td><td>15912561882</td><td>36103</td><td>18983</td><td>235.75679877020391</td><td>3fdd2acd-3b77-4c2...</td><td>2021-06-18</td><td>Lawrence Tyler</td><td>3511 Victoria Meadow</td><td>NSW</td><td>Male</td><td>Nullam Nisl Insti...</td><td>[[shoe shops], [b...</td><td>shoe shops</td><td>b</td><td>3.72</td><td>retail_and_wholes...</td><td>0</td><td>0</td><td>0</td><td>0</td><td>1</td><td>119011360</td><td>11901</td><td>119</td><td>REVESBY</td><td>-33.947286</td><td>151.014547</td><td>Inner Metropolitan</td></tr>\n<tr><td>3053</td><td>15912561882</td><td>147322</td><td>9248</td><td>213.64355235308224</td><td>4b193807-a752-4f6...</td><td>2021-07-26</td><td>Alexander Skinner</td><td>35694 Kimberly Co...</td><td>VIC</td><td>Male</td><td>Nullam Nisl Insti...</td><td>[[shoe shops], [b...</td><td>shoe shops</td><td>b</td><td>3.72</td><td>retail_and_wholes...</td><td>0</td><td>0</td><td>0</td><td>0</td><td>1</td><td>206041117</td><td>20604</td><td>206</td><td>CARLTON</td><td>-37.803569</td><td>144.966112</td><td>Inner Metropolitan</td></tr>\n<tr><td>3354</td><td>15912561882</td><td>218510</td><td>23629</td><td>157.5666353970244</td><td>227da7f6-c6c5-445...</td><td>2021-04-27</td><td>Amanda Brown</td><td>4946 Veronica Lak...</td><td>VIC</td><td>Female</td><td>Nullam Nisl Insti...</td><td>[[shoe shops], [b...</td><td>shoe shops</td><td>b</td><td>3.72</td><td>retail_and_wholes...</td><td>0</td><td>0</td><td>0</td><td>0</td><td>1</td><td>201011002</td><td>20101</td><td>201</td><td>BAKERY HILL</td><td>-37.560917</td><td>143.867158</td><td>null</td></tr>\n</table>\n"
     },
     "execution_count": 6,
     "metadata": {},
     "output_type": "execute_result"
    }
   ],
   "source": [
    "# Join the datasets on postcode\n",
    "transactions = transactions.join(aus_postcodes_subset, on=\"postcode\", how=\"left\")\n",
    "#transactions = transactions.join(aus_postcodes_subset, on=\"postcode\", how=\"inner\")\n",
    "transactions.limit(3)"
   ],
   "metadata": {
    "collapsed": false,
    "pycharm": {
     "name": "#%%\n"
    }
   }
  },
  {
   "cell_type": "markdown",
   "source": [
    "Notes:\n",
    "- Might not need to keep SA3,4; They are just a subset of SA2\n",
    "- Currently duplicate postcodes are dropped -> the first entry is kept\n",
    "- This might not be the best practice, but is done in order to get a distinct SA2 region as postcodes sometimes contain more than one region?\n",
    "- => will most likely need aggregation for when looking at further external datasets e.g. ABS income data\n"
   ],
   "metadata": {
    "collapsed": false,
    "pycharm": {
     "name": "#%% md\n"
    }
   }
  },
  {
   "cell_type": "code",
   "execution_count": 7,
   "outputs": [
    {
     "name": "stderr",
     "output_type": "stream",
     "text": [
      "                                                                                \r"
     ]
    }
   ],
   "source": [
    "#transactions.write.mode('overwrite').parquet('../data/curated/rawdata.parquet')\n",
    "transactions.write.mode('overwrite').parquet('../data/curated/rawdata_w-geoinfo.parquet')"
   ],
   "metadata": {
    "collapsed": false,
    "pycharm": {
     "name": "#%%\n"
    }
   }
  },
  {
   "cell_type": "code",
   "execution_count": null,
   "outputs": [],
   "source": [],
   "metadata": {
    "collapsed": false,
    "pycharm": {
     "name": "#%%\n"
    }
   }
  }
 ],
 "metadata": {
  "kernelspec": {
   "display_name": "Python 3",
   "language": "python",
   "name": "python3"
  },
  "language_info": {
   "codemirror_mode": {
    "name": "ipython",
    "version": 2
   },
   "file_extension": ".py",
   "mimetype": "text/x-python",
   "name": "python",
   "nbconvert_exporter": "python",
   "pygments_lexer": "ipython2",
   "version": "2.7.6"
  }
 },
 "nbformat": 4,
 "nbformat_minor": 0
}