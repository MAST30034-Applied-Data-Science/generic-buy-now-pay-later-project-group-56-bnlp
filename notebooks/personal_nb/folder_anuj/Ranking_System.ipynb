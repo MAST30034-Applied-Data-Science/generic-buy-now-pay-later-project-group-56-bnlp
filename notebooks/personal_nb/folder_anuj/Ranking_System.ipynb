{
 "cells": [
  {
   "cell_type": "code",
   "execution_count": 1,
   "metadata": {},
   "outputs": [],
   "source": [
    "from pyspark.sql import SparkSession, functions as F"
   ]
  },
  {
   "cell_type": "code",
   "execution_count": 2,
   "metadata": {},
   "outputs": [
    {
     "name": "stdout",
     "output_type": "stream",
     "text": [
      "22/10/03 20:46:00 WARN Utils: Your hostname, DESKTOP-1ML24G5 resolves to a loopback address: 127.0.1.1; using 172.24.125.18 instead (on interface eth0)\n",
      "22/10/03 20:46:00 WARN Utils: Set SPARK_LOCAL_IP if you need to bind to another address\n"
     ]
    },
    {
     "name": "stderr",
     "output_type": "stream",
     "text": [
      "Setting default log level to \"WARN\".\n",
      "To adjust logging level use sc.setLogLevel(newLevel). For SparkR, use setLogLevel(newLevel).\n"
     ]
    },
    {
     "name": "stdout",
     "output_type": "stream",
     "text": [
      "22/10/03 20:46:05 WARN NativeCodeLoader: Unable to load native-hadoop library for your platform... using builtin-java classes where applicable\n"
     ]
    }
   ],
   "source": [
    "# Create a spark session\n",
    "spark = (\n",
    "    SparkSession.builder.appName(\"BNPL Project\")\n",
    "    .config(\"spark.sql.repl.eagerEval.enabled\", True) \n",
    "    .config(\"spark.sql.parquet.cacheMetadata\", \"true\")\n",
    "    .config(\"spark.driver.memory\", \"4g\")\n",
    "    .config(\"spark.sql.session.timeZone\", \"Etc/UTC\")\n",
    "    .getOrCreate()\n",
    ")"
   ]
  },
  {
   "cell_type": "code",
   "execution_count": 18,
   "metadata": {},
   "outputs": [],
   "source": [
    "dataset = spark.read.parquet(\"./../data/curated/process_data.parquet\")"
   ]
  },
  {
   "cell_type": "markdown",
   "metadata": {},
   "source": [
    "### To confirm the number of distinct merchants and whether each merchant has a unique name and ABN."
   ]
  },
  {
   "cell_type": "code",
   "execution_count": 20,
   "metadata": {},
   "outputs": [],
   "source": [
    "# Unprocessed merchant file load in:\n",
    "\n",
    "merchants = spark.read.parquet(\"../data/tables/tbl_merchants.parquet\")"
   ]
  },
  {
   "cell_type": "code",
   "execution_count": 21,
   "metadata": {},
   "outputs": [
    {
     "data": {
      "text/plain": [
       "4026"
      ]
     },
     "execution_count": 21,
     "metadata": {},
     "output_type": "execute_result"
    }
   ],
   "source": [
    "# Number of rows present:\n",
    "\n",
    "merchants.count()"
   ]
  },
  {
   "cell_type": "code",
   "execution_count": 76,
   "metadata": {},
   "outputs": [
    {
     "name": "stderr",
     "output_type": "stream",
     "text": [
      "[Stage 164:========================================>                (5 + 2) / 7]\r"
     ]
    },
    {
     "name": "stdout",
     "output_type": "stream",
     "text": [
      "+-----------------------------+\n",
      "|count(DISTINCT merchant_name)|\n",
      "+-----------------------------+\n",
      "|                         4026|\n",
      "+-----------------------------+\n",
      "\n"
     ]
    },
    {
     "name": "stderr",
     "output_type": "stream",
     "text": [
      "                                                                                \r"
     ]
    }
   ],
   "source": [
    "# Number of distinct merchants (name).\n",
    "\n",
    "noDistinctMerchants = dataset.select(F.countDistinct(\"merchant_name\"))\n",
    "noDistinctMerchants.show()"
   ]
  },
  {
   "cell_type": "code",
   "execution_count": 77,
   "metadata": {},
   "outputs": [
    {
     "name": "stderr",
     "output_type": "stream",
     "text": [
      "[Stage 170:================================================>        (6 + 1) / 7]\r"
     ]
    },
    {
     "name": "stdout",
     "output_type": "stream",
     "text": [
      "+----------------------------+\n",
      "|count(DISTINCT merchant_abn)|\n",
      "+----------------------------+\n",
      "|                        4026|\n",
      "+----------------------------+\n",
      "\n"
     ]
    },
    {
     "name": "stderr",
     "output_type": "stream",
     "text": [
      "                                                                                \r"
     ]
    }
   ],
   "source": [
    "# Number of distinct merchants (ABN).\n",
    "\n",
    "noDistinctMerchantABNs = dataset.select(F.countDistinct(\"merchant_abn\"))\n",
    "noDistinctMerchantABNs.show()"
   ]
  },
  {
   "cell_type": "markdown",
   "metadata": {},
   "source": [
    "### TOP 100 MERCHANT FUNCTION:<br>\n",
    "\n",
    "INPUT: file without fraudelent transactions (according to model used).<br>\n",
    "\n",
    "OUTPUT: top hundred merchants.<br>\n",
    "\n",
    "This function groups PRIMARILY by \"merchant_name\" and the sum of each of their sales. A new column (\"total_merchant_earning_dollar\") is then created by multiplying the<br>\n",
    "\"total_sale_dollars\" and the \"rate\" from each merchant. This gives the amount the BNPL earns from each merchant. The top hundred merchants will then simply be the merchants<br>\n",
    "that the BNPL firm earns the most from."
   ]
  },
  {
   "cell_type": "code",
   "execution_count": 78,
   "metadata": {},
   "outputs": [],
   "source": [
    "def top100_merchants(file):\n",
    "\n",
    "\n",
    "    TWO = 2\n",
    "    HUNDRED = 100\n",
    "\n",
    "    no_of_decimal_places = 2\n",
    "\n",
    "    # Aggregate:\n",
    "    merchants_total_sales = file \\\n",
    "        .groupBy(\"merchant_name\", \"merchant_abn\", \"category\", \"subcategory\",\"revenue\", \"rate\") \\\n",
    "        .agg(\n",
    "                F.round(F.sum(\"dollar_value\"), no_of_decimal_places).alias(\"total_sale_dollars\")\n",
    "        )\n",
    "\n",
    "    # Formation of new column by multiplying the \"rate\" and \"total_sale_dollars\". This tells us the amount of money the BNPL firm recieves from each merchant.\n",
    "    merchants_total_sales = merchants_total_sales.withColumn(\"total_merchant_earning_dollars\", F.round((F.col(\"rate\") * F.col(\"total_sale_dollars\")), TWO))\n",
    "\n",
    "    # Sort in descending order to get the top hundred merchants that the BNPL firm earns the most from. \n",
    "    top100 = merchants_total_sales.orderBy(\"total_merchant_earning_dollars\", ascending = False).limit(HUNDRED)\n",
    "\n",
    "    return top100"
   ]
  },
  {
   "cell_type": "code",
   "execution_count": 80,
   "metadata": {},
   "outputs": [
    {
     "name": "stderr",
     "output_type": "stream",
     "text": [
      "[Stage 184:================================================>        (6 + 1) / 7]\r"
     ]
    },
    {
     "name": "stdout",
     "output_type": "stream",
     "text": [
      "+-----------------------------+------------+---------------------------------+-----------------------------------------------+-------+------+------------------+------------------------------+\n",
      "|merchant_name                |merchant_abn|category                         |subcategory                                    |revenue|rate  |total_sale_dollars|total_merchant_earning_dollars|\n",
      "+-----------------------------+------------+---------------------------------+-----------------------------------------------+-------+------+------------------+------------------------------+\n",
      "|Amet Risus Inc.              |79827781481 |retail_and_wholesale_trade       |household_goods_retailing                      |a      |0.0682|9734168.57        |663870.3                      |\n",
      "|Dignissim Maecenas Foundation|48534649627 |retail_and_wholesale_trade       |others_retailing                               |a      |0.0664|9408958.04        |624754.81                     |\n",
      "|Orci In Consequat Corporation|32361057556 |retail_and_wholesale_trade       |department_stores                              |a      |0.0661|9434453.37        |623617.37                     |\n",
      "|Leo In Consulting            |86578477987 |retail_and_wholesale_trade       |clothing_footwear__personal_accessory_retailing|a      |0.0643|9539820.94        |613410.49                     |\n",
      "|Etiam Bibendum Industries    |38700038932 |retail_and_wholesale_trade       |department_stores                              |a      |0.0631|9546185.25        |602364.29                     |\n",
      "|Lacus Consulting             |45629217853 |retail_and_wholesale_trade       |department_stores                              |a      |0.0698|8395062.56        |585975.37                     |\n",
      "|Ornare Limited               |96680767841 |retail_and_wholesale_trade       |others_retailing                               |a      |0.0591|9806730.51        |579577.77                     |\n",
      "|Mauris Non Institute         |21439773999 |info_media_and_telecommunications|null                                           |a      |0.061 |9426655.89        |575026.01                     |\n",
      "|Odio Phasellus Institute     |63123845164 |retail_and_wholesale_trade       |department_stores                              |a      |0.0659|8630515.33        |568750.96                     |\n",
      "|Lobortis Ultrices Company    |64403598239 |retail_and_wholesale_trade       |department_stores                              |a      |0.0631|8873435.86        |559913.8                      |\n",
      "|Nec Incorporated             |82368304209 |info_media_and_telecommunications|null                                           |a      |0.0555|9753247.83        |541305.25                     |\n",
      "|Est Nunc Consulting          |89726005175 |retail_and_wholesale_trade       |department_stores                              |a      |0.0601|8908820.84        |535420.13                     |\n",
      "|Dictum Phasellus In Institute|94493496784 |retail_and_wholesale_trade       |department_stores                              |a      |0.0565|9115635.69        |515033.42                     |\n",
      "|Gravida Mauris Incorporated  |49322182190 |retail_and_wholesale_trade       |clothing_footwear__personal_accessory_retailing|a      |0.0635|7854984.74        |498791.53                     |\n",
      "|Elit Sed Consequat Associates|40515428545 |retail_and_wholesale_trade       |department_stores                              |a      |0.0589|7780712.71        |458283.98                     |\n",
      "|Arcu Sed Eu Incorporated     |35909341340 |info_media_and_telecommunications|null                                           |b      |0.048 |9528213.99        |457354.27                     |\n",
      "|Nullam Consulting            |72472909171 |retail_and_wholesale_trade       |household_goods_retailing                      |a      |0.0633|7139098.68        |451904.95                     |\n",
      "|Phasellus At Company         |79417999332 |retail_and_wholesale_trade       |department_stores                              |b      |0.0495|9126403.44        |451756.97                     |\n",
      "|Magna Malesuada Corp.        |67978471888 |retail_and_wholesale_trade       |department_stores                              |a      |0.0556|8056017.05        |447914.55                     |\n",
      "|Magna Sed Industries         |98166254020 |arts_and_recreation              |null                                           |a      |0.0596|7475497.13        |445539.63                     |\n",
      "+-----------------------------+------------+---------------------------------+-----------------------------------------------+-------+------+------------------+------------------------------+\n",
      "only showing top 20 rows\n",
      "\n"
     ]
    },
    {
     "name": "stderr",
     "output_type": "stream",
     "text": [
      "                                                                                \r"
     ]
    }
   ],
   "source": [
    "top100 = top100_merchants(dataset)\n",
    "top100.show(truncate = False)"
   ]
  },
  {
   "cell_type": "markdown",
   "metadata": {},
   "source": [
    "### TOP 10 MERCHANT FROM EACH CATEGORY FUNCTION:<br>\n",
    "\n",
    "INPUT: file without fraudelent transactions (according to model used).<br>\n",
    "\n",
    "OUTPUT: top ten merchants from each category.<br>\n",
    "\n",
    "This function is very similar to the top 100 merchant function, but the only difference is that it partitions the aggregation by \"category\". This allows to find the top ten merchant from each category."
   ]
  },
  {
   "cell_type": "code",
   "execution_count": 81,
   "metadata": {},
   "outputs": [],
   "source": [
    "# CODE ATTRIBUTE:\n",
    "# https://sparkbyexamples.com/pyspark/pyspark-retrieve-top-n-from-each-group-of-dataframe/#:~:text=Conclusion,get%20the%20top%20n%20records.\n",
    "\n",
    "\n",
    "from pyspark.sql.window import Window\n",
    "\n",
    "def top10_eachCategory(file):\n",
    "\n",
    "    TWO = 2\n",
    "    TEN = 10\n",
    "\n",
    "    no_of_decimal_places = 2\n",
    "\n",
    "    # Aggregate:\n",
    "    merchants_total_sales = file \\\n",
    "        .groupBy(\"merchant_name\", \"merchant_abn\", \"category\", \"subcategory\",\"revenue\", \"rate\") \\\n",
    "        .agg(\n",
    "                F.round(F.sum(\"dollar_value\"), no_of_decimal_places).alias(\"total_sale_dollars\")\n",
    "        )\n",
    "\n",
    "    # Formation of new column by multiplying the \"rate\" and \"total_sale_dollars\". This tells us the amount of money the BNPL firm recieves from each merchant.\n",
    "    merchants_total_sales = merchants_total_sales.withColumn(\"total_merchant_earning_dollars\", F.round((F.col(\"rate\") * F.col(\"total_sale_dollars\")), TWO))\n",
    "    \n",
    "    # Partition by \"category\" and \"total_merchant_earning_dollars\" rather than group by in descending order.\n",
    "    windowDept = Window.partitionBy(\"category\").orderBy(F.col(\"total_merchant_earning_dollars\").desc())\n",
    "\n",
    "    # Get the top ten categories from each catgeory.\n",
    "    top10_eachCategory = merchants_total_sales.withColumn(\"row\", F.row_number().over(windowDept)).filter(F.col(\"row\") <= TEN)\n",
    "\n",
    "    return top10_eachCategory\n"
   ]
  },
  {
   "cell_type": "code",
   "execution_count": 82,
   "metadata": {},
   "outputs": [
    {
     "name": "stderr",
     "output_type": "stream",
     "text": [
      "[Stage 188:================================================>        (6 + 1) / 7]\r"
     ]
    },
    {
     "name": "stdout",
     "output_type": "stream",
     "text": [
      "+----------------------------+------------+---------------------------------+-----------+-------+------+------------------+------------------------------+---+\n",
      "|merchant_name               |merchant_abn|category                         |subcategory|revenue|rate  |total_sale_dollars|total_merchant_earning_dollars|row|\n",
      "+----------------------------+------------+---------------------------------+-----------+-------+------+------------------+------------------------------+---+\n",
      "|Magna Sed Industries        |98166254020 |arts_and_recreation              |null       |a      |0.0596|7475497.13        |445539.63                     |1  |\n",
      "|Ac Urna Consulting          |86710922099 |arts_and_recreation              |null       |b      |0.0425|4997242.44        |212382.8                      |2  |\n",
      "|Nullam Scelerisque Ltd      |37106509177 |arts_and_recreation              |null       |a      |0.0654|866872.15         |56693.44                      |3  |\n",
      "|Et Arcu Limited             |11149063370 |arts_and_recreation              |null       |b      |0.0484|1150434.88        |55681.05                      |4  |\n",
      "|Ligula Tortor Incorporated  |41305045812 |arts_and_recreation              |null       |a      |0.0581|904797.15         |52568.71                      |5  |\n",
      "|Suspendisse Industries      |31471844679 |arts_and_recreation              |null       |a      |0.0637|745794.47         |47507.11                      |6  |\n",
      "|Malesuada Augue Incorporated|98253764162 |arts_and_recreation              |null       |b      |0.0452|1009877.93        |45646.48                      |7  |\n",
      "|Lorem LLP                   |34564250941 |arts_and_recreation              |null       |b      |0.0393|1112996.19        |43740.75                      |8  |\n",
      "|Mi Consulting               |48624093501 |arts_and_recreation              |null       |b      |0.0384|1122370.6         |43099.03                      |9  |\n",
      "|Massa LLP                   |18905299698 |arts_and_recreation              |null       |b      |0.0393|876358.97         |34440.91                      |10 |\n",
      "|Mauris Non Institute        |21439773999 |info_media_and_telecommunications|null       |a      |0.061 |9426655.89        |575026.01                     |1  |\n",
      "|Nec Incorporated            |82368304209 |info_media_and_telecommunications|null       |a      |0.0555|9753247.83        |541305.25                     |2  |\n",
      "|Arcu Sed Eu Incorporated    |35909341340 |info_media_and_telecommunications|null       |b      |0.048 |9528213.99        |457354.27                     |3  |\n",
      "|Diam At Foundation          |58454491168 |info_media_and_telecommunications|null       |a      |0.0601|6671812.43        |400975.93                     |4  |\n",
      "|Eleifend PC                 |67400260923 |info_media_and_telecommunications|null       |a      |0.0597|5629514.28        |336082.0                      |5  |\n",
      "|Euismod In Corp.            |35223308778 |info_media_and_telecommunications|null       |b      |0.0419|7298182.12        |305793.83                     |6  |\n",
      "|Pede Cras Vulputate Ltd     |93260930990 |info_media_and_telecommunications|null       |b      |0.0315|8955888.23        |282110.48                     |7  |\n",
      "|Rutrum Magna Cras LLC       |99291944648 |info_media_and_telecommunications|null       |b      |0.0373|7549516.09        |281596.95                     |8  |\n",
      "|Sed Diam Foundation         |77590625261 |info_media_and_telecommunications|null       |b      |0.0324|7607429.34        |246480.71                     |9  |\n",
      "|Dolor Dolor Industries      |26169574842 |info_media_and_telecommunications|null       |a      |0.0658|3206616.06        |210995.34                     |10 |\n",
      "+----------------------------+------------+---------------------------------+-----------+-------+------+------------------+------------------------------+---+\n",
      "only showing top 20 rows\n",
      "\n"
     ]
    },
    {
     "name": "stderr",
     "output_type": "stream",
     "text": [
      "                                                                                \r"
     ]
    }
   ],
   "source": [
    "top10 = top10_eachCategory(dataset)\n",
    "top10.show(truncate = False)"
   ]
  }
 ],
 "metadata": {
  "kernelspec": {
   "display_name": "Python 3.9.7 64-bit",
   "language": "python",
   "name": "python3"
  },
  "language_info": {
   "codemirror_mode": {
    "name": "ipython",
    "version": 3
   },
   "file_extension": ".py",
   "mimetype": "text/x-python",
   "name": "python",
   "nbconvert_exporter": "python",
   "pygments_lexer": "ipython3",
   "version": "3.9.7"
  },
  "orig_nbformat": 4,
  "vscode": {
   "interpreter": {
    "hash": "aee8b7b246df8f9039afb4144a1f6fd8d2ca17a180786b69acc140d282b71a49"
   }
  }
 },
 "nbformat": 4,
 "nbformat_minor": 2
}
