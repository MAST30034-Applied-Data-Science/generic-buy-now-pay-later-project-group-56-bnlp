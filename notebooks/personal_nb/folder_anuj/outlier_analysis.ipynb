{
 "cells": [
  {
   "cell_type": "code",
   "execution_count": 1,
   "metadata": {},
   "outputs": [
    {
     "name": "stdout",
     "output_type": "stream",
     "text": [
      "22/09/07 23:06:30 WARN Utils: Your hostname, DESKTOP-1ML24G5 resolves to a loopback address: 127.0.1.1; using 172.26.82.170 instead (on interface eth0)\n",
      "22/09/07 23:06:30 WARN Utils: Set SPARK_LOCAL_IP if you need to bind to another address\n"
     ]
    },
    {
     "name": "stderr",
     "output_type": "stream",
     "text": [
      "Setting default log level to \"WARN\".\n",
      "To adjust logging level use sc.setLogLevel(newLevel). For SparkR, use setLogLevel(newLevel).\n"
     ]
    },
    {
     "name": "stdout",
     "output_type": "stream",
     "text": [
      "22/09/07 23:06:34 WARN NativeCodeLoader: Unable to load native-hadoop library for your platform... using builtin-java classes where applicable\n",
      "22/09/07 23:06:38 WARN Utils: Service 'SparkUI' could not bind on port 4040. Attempting port 4041.\n"
     ]
    }
   ],
   "source": [
    "from pyspark.sql import SparkSession, functions as F\n",
    "\n",
    "# Create a spark session\n",
    "spark = (\n",
    "    SparkSession.builder.appName(\"BNPL External Data-set\")\n",
    "    .config(\"spark.sql.repl.eagerEval.enabled\", True)\n",
    "    .config(\"spark.sql.parquet.cacheMetadata\", \"true\")\n",
    "    .config(\"spark.driver.memory\", \"4g\")\n",
    "    .config(\"spark.sql.session.timeZone\", \"Etc/UTC\")\n",
    "    .getOrCreate()\n",
    ")"
   ]
  },
  {
   "cell_type": "code",
   "execution_count": 62,
   "metadata": {},
   "outputs": [],
   "source": [
    "income = spark.read.parquet(\"../../../data/tables/income_by_sa2.parquet/\")"
   ]
  },
  {
   "cell_type": "code",
   "execution_count": 49,
   "metadata": {},
   "outputs": [
    {
     "name": "stderr",
     "output_type": "stream",
     "text": [
      "[Stage 65:>                                                         (0 + 1) / 1]\r"
     ]
    },
    {
     "name": "stdout",
     "output_type": "stream",
     "text": [
      "-RECORD 0----------------------------\n",
      " SA2                     | 101021007 \n",
      " SA2_NAME                | Braidwood \n",
      " persons_earners_2014-15 | 2133      \n",
      " persons_earners_2015-16 | 2153      \n",
      " persons_earners_2016-17 | 2262      \n",
      " persons_earners_2017-18 | 2315      \n",
      " persons_earners_2018-19 | 2361      \n",
      " med_age_earners_2014-15 | 50        \n",
      " med_age_earners_2015-16 | 50        \n",
      " med_age_earners_2016-17 | 50        \n",
      " med_age_earners_2017-18 | 51        \n",
      " med_age_earners_2018-19 | 51        \n",
      " sum_earnings_2014-15    | 101830606 \n",
      " sum_earnings_2015-16    | 109961530 \n",
      " sum_earnings_2016-17    | 115564780 \n",
      " sum_earnings_2017-18    | 119439615 \n",
      " sum_earnings_2018-19    | 120763285 \n",
      " median_earnings_2014-15 | 38093     \n",
      " median_earnings_2015-16 | 39716     \n",
      " median_earnings_2016-17 | 41288     \n",
      " median_earnings_2017-18 | 42003     \n",
      " median_earnings_2018-19 | 41593     \n",
      " mean_earnings_2014-15   | 47741     \n",
      " mean_earnings_2015-16   | 51074     \n",
      " mean_earnings_2016-17   | 51090     \n",
      " mean_earnings_2017-18   | 51594     \n",
      " mean_earnings_2018-19   | 51149     \n",
      "only showing top 1 row\n",
      "\n"
     ]
    },
    {
     "name": "stderr",
     "output_type": "stream",
     "text": [
      "                                                                                \r"
     ]
    }
   ],
   "source": [
    "income.show(1, truncate = False, vertical = True)"
   ]
  },
  {
   "cell_type": "code",
   "execution_count": 63,
   "metadata": {},
   "outputs": [
    {
     "name": "stderr",
     "output_type": "stream",
     "text": [
      "                                                                                \r"
     ]
    },
    {
     "data": {
      "text/html": [
       "<table border='1'>\n",
       "<tr><th>SA2</th><th>SA2_NAME</th><th>median_earnings_2018-19</th><th>mean_earnings_2018-19</th></tr>\n",
       "<tr><td>101021007</td><td>Braidwood</td><td>41593</td><td>51149</td></tr>\n",
       "<tr><td>101021008</td><td>Karabar</td><td>61777</td><td>66335</td></tr>\n",
       "<tr><td>101021009</td><td>Queanbeyan</td><td>60119</td><td>65874</td></tr>\n",
       "</table>\n"
      ],
      "text/plain": [
       "+---------+----------+-----------------------+---------------------+\n",
       "|      SA2|  SA2_NAME|median_earnings_2018-19|mean_earnings_2018-19|\n",
       "+---------+----------+-----------------------+---------------------+\n",
       "|101021007| Braidwood|                  41593|                51149|\n",
       "|101021008|   Karabar|                  61777|                66335|\n",
       "|101021009|Queanbeyan|                  60119|                65874|\n",
       "+---------+----------+-----------------------+---------------------+"
      ]
     },
     "execution_count": 63,
     "metadata": {},
     "output_type": "execute_result"
    }
   ],
   "source": [
    "# Select subset important attributes, ignore the rest:\n",
    "cols_to_keep = ['SA2', 'SA2_NAME', 'median_earnings_2018-19', 'mean_earnings_2018-19']\n",
    "income = income.select(*cols_to_keep)\n",
    "income.limit(3)"
   ]
  },
  {
   "cell_type": "code",
   "execution_count": 51,
   "metadata": {},
   "outputs": [
    {
     "name": "stdout",
     "output_type": "stream",
     "text": [
      "root\n",
      " |-- SA2: string (nullable = true)\n",
      " |-- SA2_NAME: string (nullable = true)\n",
      " |-- median_earnings_2018-19: string (nullable = true)\n",
      " |-- mean_earnings_2018-19: string (nullable = true)\n",
      "\n"
     ]
    }
   ],
   "source": [
    "income.printSchema()"
   ]
  },
  {
   "cell_type": "code",
   "execution_count": 64,
   "metadata": {},
   "outputs": [
    {
     "name": "stdout",
     "output_type": "stream",
     "text": [
      "root\n",
      " |-- SA2: string (nullable = true)\n",
      " |-- SA2_NAME: string (nullable = true)\n",
      " |-- median_earnings_2018-19: integer (nullable = true)\n",
      " |-- mean_earnings_2018-19: integer (nullable = true)\n",
      "\n"
     ]
    }
   ],
   "source": [
    "from pyspark.sql.types import IntegerType\n",
    "\n",
    "income = income \\\n",
    "        .withColumn('median_earnings_2018-19', F.col('median_earnings_2018-19').cast(IntegerType())) \\\n",
    "        .withColumn('mean_earnings_2018-19', F.col('mean_earnings_2018-19').cast(IntegerType()))\n",
    "\n",
    "income.printSchema()"
   ]
  },
  {
   "cell_type": "code",
   "execution_count": 53,
   "metadata": {},
   "outputs": [
    {
     "name": "stderr",
     "output_type": "stream",
     "text": [
      "                                                                                \r"
     ]
    },
    {
     "data": {
      "text/html": [
       "<table border='1'>\n",
       "<tr><th>SA2</th><th>SA2_NAME</th><th>median_earnings_2018-19</th><th>mean_earnings_2018-19</th></tr>\n",
       "<tr><td>101021007</td><td>Braidwood</td><td>41593</td><td>51149</td></tr>\n",
       "<tr><td>101021008</td><td>Karabar</td><td>61777</td><td>66335</td></tr>\n",
       "<tr><td>101021009</td><td>Queanbeyan</td><td>60119</td><td>65874</td></tr>\n",
       "</table>\n"
      ],
      "text/plain": [
       "+---------+----------+-----------------------+---------------------+\n",
       "|      SA2|  SA2_NAME|median_earnings_2018-19|mean_earnings_2018-19|\n",
       "+---------+----------+-----------------------+---------------------+\n",
       "|101021007| Braidwood|                  41593|                51149|\n",
       "|101021008|   Karabar|                  61777|                66335|\n",
       "|101021009|Queanbeyan|                  60119|                65874|\n",
       "+---------+----------+-----------------------+---------------------+"
      ]
     },
     "execution_count": 53,
     "metadata": {},
     "output_type": "execute_result"
    }
   ],
   "source": [
    "income.limit(3)"
   ]
  },
  {
   "cell_type": "markdown",
   "metadata": {},
   "source": [
    " # Column analysis: <br>\n",
    " 1) SA2 should ONLY be 9 numbers long. <br>\n",
    " 2) Median earnings for 2018-2019 should be greater than 0. <br>\n",
    " 3) Mean earnings for 2018-2019 should be greater than 0. <br>\n",
    " 4) Check for any NULL values in the columns. <br>\n",
    " 5) Check for missing values. <br>"
   ]
  },
  {
   "cell_type": "code",
   "execution_count": 65,
   "metadata": {},
   "outputs": [
    {
     "name": "stderr",
     "output_type": "stream",
     "text": [
      "                                                                                \r"
     ]
    }
   ],
   "source": [
    "initial = income.count()"
   ]
  },
  {
   "cell_type": "code",
   "execution_count": 66,
   "metadata": {},
   "outputs": [],
   "source": [
    "#1\n",
    "filter1 = income.filter(F.length(F.col('SA2')) == 9)\n",
    "f1 = filter1.count()\n",
    "#2\n",
    "filter2 = filter1.filter(F.col('median_earnings_2018-19') > 0)\n",
    "f2 = filter2.count()\n",
    "#3\n",
    "filter3 = filter2.filter(F.col('mean_earnings_2018-19') > 0)\n",
    "f3 = filter3.count()"
   ]
  },
  {
   "cell_type": "code",
   "execution_count": 83,
   "metadata": {},
   "outputs": [
    {
     "name": "stderr",
     "output_type": "stream",
     "text": [
      "                                                                                \r"
     ]
    }
   ],
   "source": [
    "#4\n",
    "filter4 = filter3.filter(F.col('SA2').isNotNull())\n",
    "f4 = filter4.count()\n",
    "filter5 = filter4.filter(F.col('median_earnings_2018-19').isNotNull())\n",
    "f5 = filter5.count()\n",
    "filter6 = filter5.filter(F.col('mean_earnings_2018-19').isNotNull())\n",
    "f6 = filter6.count()\n",
    "\n",
    "income = filter6"
   ]
  },
  {
   "cell_type": "code",
   "execution_count": 84,
   "metadata": {},
   "outputs": [
    {
     "name": "stdout",
     "output_type": "stream",
     "text": [
      "Number of intial entries: 2288\n",
      "Number of entries after applying filter 1: 2288\n",
      "Number of entries after applying filter 2: 2244\n",
      "Number of entries after applying filter 3: 2243\n",
      "Number of entries after applying filter 4: 2243\n",
      "Number of entries after applying filter 5: 2243\n",
      "Number of entries after applying filter 6: 2243\n",
      "Number of entries removed: 45\n"
     ]
    }
   ],
   "source": [
    "print(\"Number of intial entries:\", initial)\n",
    "print(\"Number of entries after applying filter 1:\", f1)\n",
    "print(\"Number of entries after applying filter 2:\", f2)\n",
    "print(\"Number of entries after applying filter 3:\", f3)\n",
    "print(\"Number of entries after applying filter 4:\", f4)\n",
    "print(\"Number of entries after applying filter 5:\", f5)\n",
    "print(\"Number of entries after applying filter 6:\", f6)\n",
    "print(\"Number of entries removed:\", initial-f6)"
   ]
  },
  {
   "cell_type": "code",
   "execution_count": 85,
   "metadata": {},
   "outputs": [
    {
     "name": "stdout",
     "output_type": "stream",
     "text": [
      "0\n",
      "0\n",
      "0\n"
     ]
    }
   ],
   "source": [
    "# 5\n",
    "print(income.filter(F.col('SA2') == \"\").count())\n",
    "print(income.filter(F.col('median_earnings_2018-19') == \"\").count())\n",
    "print(income.filter(F.col('mean_earnings_2018-19') == \"\").count())"
   ]
  },
  {
   "cell_type": "markdown",
   "metadata": {},
   "source": [
    "# OUTLIERS"
   ]
  },
  {
   "cell_type": "markdown",
   "metadata": {},
   "source": [
    "## Median income ##"
   ]
  },
  {
   "cell_type": "code",
   "execution_count": 92,
   "metadata": {},
   "outputs": [
    {
     "name": "stderr",
     "output_type": "stream",
     "text": [
      "                                                                                \r"
     ]
    },
    {
     "data": {
      "text/html": [
       "<table border='1'>\n",
       "<tr><th>summary</th><th>median_earnings_2018-19</th></tr>\n",
       "<tr><td>count</td><td>2243</td></tr>\n",
       "<tr><td>mean</td><td>52082.994650022294</td></tr>\n",
       "<tr><td>stddev</td><td>10521.823660544445</td></tr>\n",
       "<tr><td>min</td><td>10433</td></tr>\n",
       "<tr><td>max</td><td>171110</td></tr>\n",
       "</table>\n"
      ],
      "text/plain": [
       "+-------+-----------------------+\n",
       "|summary|median_earnings_2018-19|\n",
       "+-------+-----------------------+\n",
       "|  count|                   2243|\n",
       "|   mean|     52082.994650022294|\n",
       "| stddev|     10521.823660544445|\n",
       "|    min|                  10433|\n",
       "|    max|                 171110|\n",
       "+-------+-----------------------+"
      ]
     },
     "execution_count": 92,
     "metadata": {},
     "output_type": "execute_result"
    }
   ],
   "source": [
    "stat1 = income.describe('median_earnings_2018-19')\n",
    "stat1"
   ]
  },
  {
   "cell_type": "code",
   "execution_count": 96,
   "metadata": {},
   "outputs": [
    {
     "name": "stdout",
     "output_type": "stream",
     "text": [
      "18\n"
     ]
    }
   ],
   "source": [
    "print(income.filter(F.col('median_earnings_2018-19') > (52082.994650022294 + 3 * 10521.823660544445)).count())"
   ]
  },
  {
   "cell_type": "markdown",
   "metadata": {},
   "source": [
    "18 entries are outliers from the median earnings column. These can be removed, but first let's see the distribution of the median income before removing them:"
   ]
  },
  {
   "cell_type": "code",
   "execution_count": 124,
   "metadata": {},
   "outputs": [
    {
     "name": "stderr",
     "output_type": "stream",
     "text": [
      "                                                                                \r"
     ]
    },
    {
     "data": {
      "text/plain": [
       "[Text(0.5, 1.0, 'Median Earnings($) 2018-19 (BEFORE OUTLIER REMOVAL)')]"
      ]
     },
     "execution_count": 124,
     "metadata": {},
     "output_type": "execute_result"
    },
    {
     "data": {
      "image/png": "[encoded data removed]",
      "text/plain": [
       "<Figure size 432x288 with 1 Axes>"
      ]
     },
     "metadata": {
      "needs_background": "light"
     },
     "output_type": "display_data"
    }
   ],
   "source": [
    "# Distribution of median earnings in all SA2 Districts BEFORE outlier removal.\n",
    "\n",
    "import pandas as pd\n",
    "import matplotlib.pyplot as plt\n",
    "import seaborn as sns\n",
    "\n",
    "before_outlier_median = income.toPandas()\n",
    "sns.histplot(before_outlier_median['median_earnings_2018-19'], kde=True, bins=40).set(title='Median Earnings($) 2018-19 (BEFORE OUTLIER REMOVAL)')"
   ]
  },
  {
   "cell_type": "markdown",
   "metadata": {},
   "source": [
    "Let's remove the 18 outliers and see the impact it has on the median income distribution:"
   ]
  },
  {
   "cell_type": "code",
   "execution_count": 125,
   "metadata": {},
   "outputs": [
    {
     "name": "stderr",
     "output_type": "stream",
     "text": [
      "                                                                                \r"
     ]
    },
    {
     "data": {
      "text/plain": [
       "[Text(0.5, 1.0, 'Median Earnings($) 2018-19 (AFTER OUTLIER REMOVAL)')]"
      ]
     },
     "execution_count": 125,
     "metadata": {},
     "output_type": "execute_result"
    },
    {
     "data": {
      "image/png": "[encoded data removed]",
      "text/plain": [
       "<Figure size 432x288 with 1 Axes>"
      ]
     },
     "metadata": {
      "needs_background": "light"
     },
     "output_type": "display_data"
    }
   ],
   "source": [
    "# Distribution of median earnings in all SA2 Districts AFTER outlier removal.\n",
    "\n",
    "income_median_outlier_removal = income.filter(F.col('median_earnings_2018-19') <= (52082.994650022294 + 3 * 10521.823660544445))\n",
    "\n",
    "after_outlier_median = income_median_outlier_removal.toPandas()\n",
    "sns.histplot(after_outlier_median['median_earnings_2018-19'], kde=True, bins=40).set(title='Median Earnings($) 2018-19 (AFTER OUTLIER REMOVAL)')"
   ]
  },
  {
   "cell_type": "markdown",
   "metadata": {},
   "source": [
    "After the removal of the outliers, the distribution of the median income has shifted towards the right whilst still maintainig its shape. It is more symmetrically distributed and balanced, compared to the distribution before outlier removal."
   ]
  },
  {
   "cell_type": "markdown",
   "metadata": {},
   "source": [
    "## Mean Income ##"
   ]
  },
  {
   "cell_type": "code",
   "execution_count": 87,
   "metadata": {},
   "outputs": [
    {
     "name": "stderr",
     "output_type": "stream",
     "text": [
      "                                                                                \r"
     ]
    },
    {
     "data": {
      "text/html": [
       "<table border='1'>\n",
       "<tr><th>summary</th><th>mean_earnings_2018-19</th></tr>\n",
       "<tr><td>count</td><td>2243</td></tr>\n",
       "<tr><td>mean</td><td>64405.34016941596</td></tr>\n",
       "<tr><td>stddev</td><td>18774.790884914793</td></tr>\n",
       "<tr><td>min</td><td>19479</td></tr>\n",
       "<tr><td>max</td><td>281099</td></tr>\n",
       "</table>\n"
      ],
      "text/plain": [
       "+-------+---------------------+\n",
       "|summary|mean_earnings_2018-19|\n",
       "+-------+---------------------+\n",
       "|  count|                 2243|\n",
       "|   mean|    64405.34016941596|\n",
       "| stddev|   18774.790884914793|\n",
       "|    min|                19479|\n",
       "|    max|               281099|\n",
       "+-------+---------------------+"
      ]
     },
     "execution_count": 87,
     "metadata": {},
     "output_type": "execute_result"
    }
   ],
   "source": [
    "income.describe('mean_earnings_2018-19')"
   ]
  },
  {
   "cell_type": "code",
   "execution_count": 111,
   "metadata": {},
   "outputs": [
    {
     "name": "stdout",
     "output_type": "stream",
     "text": [
      "2\n"
     ]
    }
   ],
   "source": [
    "print(income.filter(F.col('mean_earnings_2018-19') > (64405.34016941596 + 3 * 64405.34016941596)).count())"
   ]
  },
  {
   "cell_type": "markdown",
   "metadata": {},
   "source": [
    "2 entries are outliers from the mean earnings column. These can be removed, but first let's see the distribution of the mean income before removing them:"
   ]
  },
  {
   "cell_type": "code",
   "execution_count": 126,
   "metadata": {},
   "outputs": [
    {
     "name": "stderr",
     "output_type": "stream",
     "text": [
      "                                                                                \r"
     ]
    },
    {
     "data": {
      "text/plain": [
       "[Text(0.5, 1.0, 'Mean Earnings($) 2018-19 (BEFORE OUTLIER REMOVAL)')]"
      ]
     },
     "execution_count": 126,
     "metadata": {},
     "output_type": "execute_result"
    },
    {
     "data": {
      "image/png": "[encoded data removed]",
      "text/plain": [
       "<Figure size 432x288 with 1 Axes>"
      ]
     },
     "metadata": {
      "needs_background": "light"
     },
     "output_type": "display_data"
    }
   ],
   "source": [
    "# Distribution of average earnings in all SA2 Districts BEFORE outlier removal.\n",
    "\n",
    "before_outlier = income.toPandas()\n",
    "sns.histplot(before_outlier['mean_earnings_2018-19'], kde=True, bins=40).set(title='Mean Earnings($) 2018-19 (BEFORE OUTLIER REMOVAL)')"
   ]
  },
  {
   "cell_type": "markdown",
   "metadata": {},
   "source": [
    "Let's remove the 2 outliers and see the impact it has on the mean income distribution:"
   ]
  },
  {
   "cell_type": "code",
   "execution_count": 127,
   "metadata": {},
   "outputs": [
    {
     "name": "stderr",
     "output_type": "stream",
     "text": [
      "                                                                                \r"
     ]
    },
    {
     "data": {
      "text/plain": [
       "[Text(0.5, 1.0, 'Mean Earnings($) 2018-19 (AFTER OUTLIER REMOVAL)')]"
      ]
     },
     "execution_count": 127,
     "metadata": {},
     "output_type": "execute_result"
    },
    {
     "data": {
      "image/png": "[encoded data removed]",
      "text/plain": [
       "<Figure size 432x288 with 1 Axes>"
      ]
     },
     "metadata": {
      "needs_background": "light"
     },
     "output_type": "display_data"
    }
   ],
   "source": [
    "# Distribution of average earnings in all SA2 Districts AFTER outlier removal.\n",
    "\n",
    "income_mean_outlier_removal = income.filter(F.col('mean_earnings_2018-19') <= (64405.34016941596 + 3 * 64405.34016941596))\n",
    "\n",
    "after_outlier_mean = income_mean_outlier_removal.toPandas()\n",
    "sns.histplot(after_outlier_mean['mean_earnings_2018-19'], kde=True, bins=40).set(title='Mean Earnings($) 2018-19 (AFTER OUTLIER REMOVAL)')"
   ]
  },
  {
   "cell_type": "markdown",
   "metadata": {},
   "source": [
    "After the removal of the outliers, the distribution of the mean income is essentially identical as only two outliers were removed. It still maintains it shape and is positivley skewed."
   ]
  }
 ],
 "metadata": {
  "kernelspec": {
   "display_name": "Python 3.8.10 64-bit",
   "language": "python",
   "name": "python3"
  },
  "language_info": {
   "codemirror_mode": {
    "name": "ipython",
    "version": 3
   },
   "file_extension": ".py",
   "mimetype": "text/x-python",
   "name": "python",
   "nbconvert_exporter": "python",
   "pygments_lexer": "ipython3",
   "version": "3.8.10"
  },
  "orig_nbformat": 4,
  "vscode": {
   "interpreter": {
    "hash": "916dbcbb3f70747c44a77c7bcd40155683ae19c65e1c03b4aa3499c5328201f1"
   }
  }
 },
 "nbformat": 4,
 "nbformat_minor": 2
}
