{
 "cells": [
  {
   "cell_type": "code",
   "execution_count": 7,
   "metadata": {},
   "outputs": [],
   "source": [
    "from pyspark.sql import SparkSession, functions as F\n",
    "\n",
    "# Create a spark session\n",
    "spark = (\n",
    "    SparkSession.builder.appName(\"BNPL External Data-set\")\n",
    "    .config(\"spark.sql.repl.eagerEval.enabled\", True)\n",
    "    .config(\"spark.sql.parquet.cacheMetadata\", \"true\")\n",
    "    .config(\"spark.driver.memory\", \"4g\")\n",
    "    .config(\"spark.sql.session.timeZone\", \"Etc/UTC\")\n",
    "    .getOrCreate()\n",
    ")"
   ]
  },
  {
   "cell_type": "code",
   "execution_count": 95,
   "metadata": {},
   "outputs": [],
   "source": [
    "# Store data in pyspark data frame:\n",
    "population_df = spark.read.option(\"header\", True).csv('../../../data/tables/population_data.csv')"
   ]
  },
  {
   "cell_type": "code",
   "execution_count": 62,
   "metadata": {},
   "outputs": [
    {
     "name": "stderr",
     "output_type": "stream",
     "text": [
      "                                                                                \r"
     ]
    },
    {
     "data": {
      "text/html": [
       "<table border='1'>\n",
       "<tr><th>FID</th><th>primaryindex</th><th>state_code_2016</th><th>state_name_2016</th><th>gccsa_code_2016</th><th>gccsa_name_2016</th><th>sa4_code_2016</th><th>sa4_name_2016</th><th>sa3_code_2016</th><th>sa3_name_2016</th><th>sa2_maincode_2016</th><th>sa2_name_2016</th><th>erp_2001</th><th>erp_2002</th><th>erp_2003</th><th>erp_2004</th><th>erp_2005</th><th>erp_2006</th><th>erp_2007</th><th>erp_2008</th><th>erp_2009</th><th>erp_2010</th><th>erp_2011</th><th>erp_2012</th><th>erp_2013</th><th>erp_2014</th><th>erp_2015</th><th>erp_2016</th><th>erp_2017</th><th>erp_2018</th><th>erp_2019</th><th>erp_2020</th><th>erp_2021</th><th>erp_change_number_2020_21</th><th>erp_change_per_cent_2020_21</th><th>area_km2</th><th>pop_density_2021_people_per_km2</th><th>births_2016_17</th><th>deaths_2016_17</th><th>natural_increase_2016_17</th><th>internal_arrivals_2016_17</th><th>internal_departures_2016_17</th><th>net_internal_migration_2016_17</th><th>overseas_arrivals_2016_17</th><th>overseas_departures_2016_17</th><th>net_overseas_migration_2016_17</th><th>births_2017_18</th><th>deaths_2017_18</th><th>natural_increase_2017_18</th><th>internal_arrivals_2017_18</th><th>internal_departures_2017_18</th><th>net_internal_migration_2017_18</th><th>overseas_arrivals_2017_18</th><th>overseas_departures_2017_18</th><th>net_overseas_migration_2017_18</th><th>births_2018_19</th><th>deaths_2018_19</th><th>natural_increase_2018_19</th><th>internal_arrivals_2018_19</th><th>internal_departures_2018_19</th><th>net_internal_migration_2018_19</th><th>overseas_arrivals_2018_19</th><th>overseas_departures_2018_19</th><th>net_overseas_migration_2018_19</th><th>births_2019_20</th><th>deaths_2019_20</th><th>natural_increase_2019_20</th><th>internal_arrivals_2019_20</th><th>internal_departures_2019_20</th><th>net_internal_migration_2019_20</th><th>overseas_arrivals_2019_20</th><th>overseas_departures_2019_20</th><th>net_overseas_migration_2019_20</th><th>births_2020_21</th><th>deaths_2020_21</th><th>natural_increase_2020_21</th><th>internal_arrivals_2020_21</th><th>internal_departures_2020_21</th><th>net_internal_migration_2020_21</th><th>overseas_arrivals_2020_21</th><th>overseas_departures_2020_21</th><th>net_overseas_migration_2020_21</th><th>geom</th></tr>\n",
       "<tr><td>abs_regional_popu...</td><td>1</td><td>1</td><td>New South Wales</td><td>1RNSW</td><td>Rest of NSW</td><td>101</td><td>Capital Region</td><td>10102</td><td>Queanbeyan</td><td>101021007</td><td>Braidwood</td><td>2760</td><td>2811</td><td>2835</td><td>2844</td><td>2847</td><td>2965</td><td>3102</td><td>3181</td><td>3308</td><td>3429</td><td>3458</td><td>3590</td><td>3685</td><td>3762</td><td>3849</td><td>3950</td><td>4041</td><td>4145</td><td>4222</td><td>4292</td><td>4360</td><td>68</td><td>1.5843</td><td>3418.3525</td><td>1.2755</td><td>43</td><td>24</td><td>19</td><td>276</td><td>215</td><td>61</td><td>18</td><td>7</td><td>11</td><td>32</td><td>31</td><td>1</td><td>386</td><td>293</td><td>93</td><td>18</td><td>8</td><td>10</td><td>39</td><td>30</td><td>9</td><td>389</td><td>331</td><td>58</td><td>18</td><td>8</td><td>10</td><td>35</td><td>30</td><td>5</td><td>394</td><td>337</td><td>57</td><td>17</td><td>9</td><td>8</td><td>37</td><td>26</td><td>11</td><td>375</td><td>319</td><td>56</td><td>7</td><td>6</td><td>1</td><td>MULTIPOLYGON (((-...</td></tr>\n",
       "<tr><td>abs_regional_popu...</td><td>2</td><td>1</td><td>New South Wales</td><td>1RNSW</td><td>Rest of NSW</td><td>101</td><td>Capital Region</td><td>10102</td><td>Queanbeyan</td><td>101021008</td><td>Karabar</td><td>9129</td><td>9199</td><td>9263</td><td>9277</td><td>9209</td><td>9212</td><td>9033</td><td>8994</td><td>9030</td><td>9101</td><td>9092</td><td>9012</td><td>8848</td><td>8731</td><td>8603</td><td>8531</td><td>8484</td><td>8424</td><td>8370</td><td>8371</td><td>8374</td><td>3</td><td>0.0358</td><td>6.9825</td><td>1199.2839</td><td>119</td><td>25</td><td>94</td><td>708</td><td>896</td><td>-188</td><td>75</td><td>28</td><td>47</td><td>100</td><td>58</td><td>42</td><td>908</td><td>1051</td><td>-143</td><td>72</td><td>31</td><td>41</td><td>125</td><td>37</td><td>88</td><td>872</td><td>1051</td><td>-179</td><td>72</td><td>35</td><td>37</td><td>123</td><td>45</td><td>78</td><td>848</td><td>951</td><td>-103</td><td>65</td><td>39</td><td>26</td><td>114</td><td>41</td><td>73</td><td>871</td><td>946</td><td>-75</td><td>28</td><td>23</td><td>5</td><td>MULTIPOLYGON (((-...</td></tr>\n",
       "<tr><td>abs_regional_popu...</td><td>3</td><td>1</td><td>New South Wales</td><td>1RNSW</td><td>Rest of NSW</td><td>101</td><td>Capital Region</td><td>10102</td><td>Queanbeyan</td><td>101021009</td><td>Queanbeyan</td><td>9717</td><td>9513</td><td>9522</td><td>9400</td><td>9595</td><td>9682</td><td>9793</td><td>10074</td><td>10288</td><td>10584</td><td>10715</td><td>10870</td><td>11050</td><td>11199</td><td>11213</td><td>11230</td><td>11351</td><td>11441</td><td>11449</td><td>11449</td><td>11401</td><td>-48</td><td>-0.4193</td><td>4.7634</td><td>2393.4585</td><td>174</td><td>119</td><td>55</td><td>1217</td><td>1315</td><td>-98</td><td>264</td><td>100</td><td>164</td><td>191</td><td>99</td><td>92</td><td>1557</td><td>1703</td><td>-146</td><td>254</td><td>110</td><td>144</td><td>182</td><td>103</td><td>79</td><td>1494</td><td>1702</td><td>-208</td><td>259</td><td>122</td><td>137</td><td>177</td><td>122</td><td>55</td><td>1416</td><td>1564</td><td>-148</td><td>230</td><td>137</td><td>93</td><td>149</td><td>104</td><td>45</td><td>1486</td><td>1662</td><td>-176</td><td>165</td><td>82</td><td>83</td><td>MULTIPOLYGON (((-...</td></tr>\n",
       "<tr><td>abs_regional_popu...</td><td>7</td><td>1</td><td>New South Wales</td><td>1RNSW</td><td>Rest of NSW</td><td>101</td><td>Capital Region</td><td>10103</td><td>Snowy Mountains</td><td>101031013</td><td>Bombala</td><td>2622</td><td>2617</td><td>2590</td><td>2576</td><td>2577</td><td>2589</td><td>2567</td><td>2534</td><td>2516</td><td>2503</td><td>2484</td><td>2462</td><td>2451</td><td>2437</td><td>2428</td><td>2420</td><td>2414</td><td>2412</td><td>2423</td><td>2421</td><td>2411</td><td>-10</td><td>-0.4131</td><td>3989.3618</td><td>0.6044</td><td>24</td><td>36</td><td>-12</td><td>122</td><td>118</td><td>4</td><td>4</td><td>2</td><td>2</td><td>22</td><td>33</td><td>-11</td><td>176</td><td>169</td><td>7</td><td>4</td><td>2</td><td>2</td><td>23</td><td>20</td><td>3</td><td>150</td><td>144</td><td>6</td><td>4</td><td>2</td><td>2</td><td>26</td><td>17</td><td>9</td><td>117</td><td>130</td><td>-13</td><td>4</td><td>2</td><td>2</td><td>19</td><td>41</td><td>-22</td><td>163</td><td>152</td><td>11</td><td>2</td><td>1</td><td>1</td><td>MULTIPOLYGON (((-...</td></tr>\n",
       "<tr><td>abs_regional_popu...</td><td>14</td><td>1</td><td>New South Wales</td><td>1RNSW</td><td>Rest of NSW</td><td>101</td><td>Capital Region</td><td>10104</td><td>South Coast</td><td>101041020</td><td>Bega-Eden Hinterland</td><td>8429</td><td>8504</td><td>8549</td><td>8658</td><td>8741</td><td>8798</td><td>8826</td><td>8883</td><td>8993</td><td>9090</td><td>9073</td><td>9039</td><td>9014</td><td>8996</td><td>8971</td><td>8952</td><td>8928</td><td>8914</td><td>8893</td><td>8879</td><td>8996</td><td>117</td><td>1.3177</td><td>4710.207</td><td>1.9099</td><td>65</td><td>45</td><td>20</td><td>562</td><td>620</td><td>-58</td><td>23</td><td>9</td><td>14</td><td>82</td><td>52</td><td>30</td><td>758</td><td>814</td><td>-56</td><td>22</td><td>10</td><td>12</td><td>80</td><td>61</td><td>19</td><td>615</td><td>667</td><td>-52</td><td>22</td><td>10</td><td>12</td><td>82</td><td>63</td><td>19</td><td>645</td><td>686</td><td>-41</td><td>20</td><td>12</td><td>8</td><td>83</td><td>67</td><td>16</td><td>738</td><td>639</td><td>99</td><td>9</td><td>7</td><td>2</td><td>MULTIPOLYGON (((-...</td></tr>\n",
       "</table>\n"
      ],
      "text/plain": [
       "+--------------------+------------+---------------+---------------+---------------+---------------+-------------+--------------+-------------+---------------+-----------------+--------------------+--------+--------+--------+--------+--------+--------+--------+--------+--------+--------+--------+--------+--------+--------+--------+--------+--------+--------+--------+--------+--------+-------------------------+---------------------------+---------+-------------------------------+--------------+--------------+------------------------+-------------------------+---------------------------+------------------------------+-------------------------+---------------------------+------------------------------+--------------+--------------+------------------------+-------------------------+---------------------------+------------------------------+-------------------------+---------------------------+------------------------------+--------------+--------------+------------------------+-------------------------+---------------------------+------------------------------+-------------------------+---------------------------+------------------------------+--------------+--------------+------------------------+-------------------------+---------------------------+------------------------------+-------------------------+---------------------------+------------------------------+--------------+--------------+------------------------+-------------------------+---------------------------+------------------------------+-------------------------+---------------------------+------------------------------+--------------------+\n",
       "|                 FID|primaryindex|state_code_2016|state_name_2016|gccsa_code_2016|gccsa_name_2016|sa4_code_2016| sa4_name_2016|sa3_code_2016|  sa3_name_2016|sa2_maincode_2016|       sa2_name_2016|erp_2001|erp_2002|erp_2003|erp_2004|erp_2005|erp_2006|erp_2007|erp_2008|erp_2009|erp_2010|erp_2011|erp_2012|erp_2013|erp_2014|erp_2015|erp_2016|erp_2017|erp_2018|erp_2019|erp_2020|erp_2021|erp_change_number_2020_21|erp_change_per_cent_2020_21| area_km2|pop_density_2021_people_per_km2|births_2016_17|deaths_2016_17|natural_increase_2016_17|internal_arrivals_2016_17|internal_departures_2016_17|net_internal_migration_2016_17|overseas_arrivals_2016_17|overseas_departures_2016_17|net_overseas_migration_2016_17|births_2017_18|deaths_2017_18|natural_increase_2017_18|internal_arrivals_2017_18|internal_departures_2017_18|net_internal_migration_2017_18|overseas_arrivals_2017_18|overseas_departures_2017_18|net_overseas_migration_2017_18|births_2018_19|deaths_2018_19|natural_increase_2018_19|internal_arrivals_2018_19|internal_departures_2018_19|net_internal_migration_2018_19|overseas_arrivals_2018_19|overseas_departures_2018_19|net_overseas_migration_2018_19|births_2019_20|deaths_2019_20|natural_increase_2019_20|internal_arrivals_2019_20|internal_departures_2019_20|net_internal_migration_2019_20|overseas_arrivals_2019_20|overseas_departures_2019_20|net_overseas_migration_2019_20|births_2020_21|deaths_2020_21|natural_increase_2020_21|internal_arrivals_2020_21|internal_departures_2020_21|net_internal_migration_2020_21|overseas_arrivals_2020_21|overseas_departures_2020_21|net_overseas_migration_2020_21|                geom|\n",
       "+--------------------+------------+---------------+---------------+---------------+---------------+-------------+--------------+-------------+---------------+-----------------+--------------------+--------+--------+--------+--------+--------+--------+--------+--------+--------+--------+--------+--------+--------+--------+--------+--------+--------+--------+--------+--------+--------+-------------------------+---------------------------+---------+-------------------------------+--------------+--------------+------------------------+-------------------------+---------------------------+------------------------------+-------------------------+---------------------------+------------------------------+--------------+--------------+------------------------+-------------------------+---------------------------+------------------------------+-------------------------+---------------------------+------------------------------+--------------+--------------+------------------------+-------------------------+---------------------------+------------------------------+-------------------------+---------------------------+------------------------------+--------------+--------------+------------------------+-------------------------+---------------------------+------------------------------+-------------------------+---------------------------+------------------------------+--------------+--------------+------------------------+-------------------------+---------------------------+------------------------------+-------------------------+---------------------------+------------------------------+--------------------+\n",
       "|abs_regional_popu...|           1|              1|New South Wales|          1RNSW|    Rest of NSW|          101|Capital Region|        10102|     Queanbeyan|        101021007|           Braidwood|    2760|    2811|    2835|    2844|    2847|    2965|    3102|    3181|    3308|    3429|    3458|    3590|    3685|    3762|    3849|    3950|    4041|    4145|    4222|    4292|    4360|                       68|                     1.5843|3418.3525|                         1.2755|            43|            24|                      19|                      276|                        215|                            61|                       18|                          7|                            11|            32|            31|                       1|                      386|                        293|                            93|                       18|                          8|                            10|            39|            30|                       9|                      389|                        331|                            58|                       18|                          8|                            10|            35|            30|                       5|                      394|                        337|                            57|                       17|                          9|                             8|            37|            26|                      11|                      375|                        319|                            56|                        7|                          6|                             1|MULTIPOLYGON (((-...|\n",
       "|abs_regional_popu...|           2|              1|New South Wales|          1RNSW|    Rest of NSW|          101|Capital Region|        10102|     Queanbeyan|        101021008|             Karabar|    9129|    9199|    9263|    9277|    9209|    9212|    9033|    8994|    9030|    9101|    9092|    9012|    8848|    8731|    8603|    8531|    8484|    8424|    8370|    8371|    8374|                        3|                     0.0358|   6.9825|                      1199.2839|           119|            25|                      94|                      708|                        896|                          -188|                       75|                         28|                            47|           100|            58|                      42|                      908|                       1051|                          -143|                       72|                         31|                            41|           125|            37|                      88|                      872|                       1051|                          -179|                       72|                         35|                            37|           123|            45|                      78|                      848|                        951|                          -103|                       65|                         39|                            26|           114|            41|                      73|                      871|                        946|                           -75|                       28|                         23|                             5|MULTIPOLYGON (((-...|\n",
       "|abs_regional_popu...|           3|              1|New South Wales|          1RNSW|    Rest of NSW|          101|Capital Region|        10102|     Queanbeyan|        101021009|          Queanbeyan|    9717|    9513|    9522|    9400|    9595|    9682|    9793|   10074|   10288|   10584|   10715|   10870|   11050|   11199|   11213|   11230|   11351|   11441|   11449|   11449|   11401|                      -48|                    -0.4193|   4.7634|                      2393.4585|           174|           119|                      55|                     1217|                       1315|                           -98|                      264|                        100|                           164|           191|            99|                      92|                     1557|                       1703|                          -146|                      254|                        110|                           144|           182|           103|                      79|                     1494|                       1702|                          -208|                      259|                        122|                           137|           177|           122|                      55|                     1416|                       1564|                          -148|                      230|                        137|                            93|           149|           104|                      45|                     1486|                       1662|                          -176|                      165|                         82|                            83|MULTIPOLYGON (((-...|\n",
       "|abs_regional_popu...|           7|              1|New South Wales|          1RNSW|    Rest of NSW|          101|Capital Region|        10103|Snowy Mountains|        101031013|             Bombala|    2622|    2617|    2590|    2576|    2577|    2589|    2567|    2534|    2516|    2503|    2484|    2462|    2451|    2437|    2428|    2420|    2414|    2412|    2423|    2421|    2411|                      -10|                    -0.4131|3989.3618|                         0.6044|            24|            36|                     -12|                      122|                        118|                             4|                        4|                          2|                             2|            22|            33|                     -11|                      176|                        169|                             7|                        4|                          2|                             2|            23|            20|                       3|                      150|                        144|                             6|                        4|                          2|                             2|            26|            17|                       9|                      117|                        130|                           -13|                        4|                          2|                             2|            19|            41|                     -22|                      163|                        152|                            11|                        2|                          1|                             1|MULTIPOLYGON (((-...|\n",
       "|abs_regional_popu...|          14|              1|New South Wales|          1RNSW|    Rest of NSW|          101|Capital Region|        10104|    South Coast|        101041020|Bega-Eden Hinterland|    8429|    8504|    8549|    8658|    8741|    8798|    8826|    8883|    8993|    9090|    9073|    9039|    9014|    8996|    8971|    8952|    8928|    8914|    8893|    8879|    8996|                      117|                     1.3177| 4710.207|                         1.9099|            65|            45|                      20|                      562|                        620|                           -58|                       23|                          9|                            14|            82|            52|                      30|                      758|                        814|                           -56|                       22|                         10|                            12|            80|            61|                      19|                      615|                        667|                           -52|                       22|                         10|                            12|            82|            63|                      19|                      645|                        686|                           -41|                       20|                         12|                             8|            83|            67|                      16|                      738|                        639|                            99|                        9|                          7|                             2|MULTIPOLYGON (((-...|\n",
       "+--------------------+------------+---------------+---------------+---------------+---------------+-------------+--------------+-------------+---------------+-----------------+--------------------+--------+--------+--------+--------+--------+--------+--------+--------+--------+--------+--------+--------+--------+--------+--------+--------+--------+--------+--------+--------+--------+-------------------------+---------------------------+---------+-------------------------------+--------------+--------------+------------------------+-------------------------+---------------------------+------------------------------+-------------------------+---------------------------+------------------------------+--------------+--------------+------------------------+-------------------------+---------------------------+------------------------------+-------------------------+---------------------------+------------------------------+--------------+--------------+------------------------+-------------------------+---------------------------+------------------------------+-------------------------+---------------------------+------------------------------+--------------+--------------+------------------------+-------------------------+---------------------------+------------------------------+-------------------------+---------------------------+------------------------------+--------------+--------------+------------------------+-------------------------+---------------------------+------------------------------+-------------------------+---------------------------+------------------------------+--------------------+"
      ]
     },
     "execution_count": 62,
     "metadata": {},
     "output_type": "execute_result"
    }
   ],
   "source": [
    "# Inspect data frame:\n",
    "population_df.limit(5)"
   ]
  },
  {
   "cell_type": "code",
   "execution_count": 63,
   "metadata": {},
   "outputs": [],
   "source": [
    "# Select subset important attributes, ignore the rest:\n",
    "cols_to_keep = ['sa2_maincode_2016', 'sa2_name_2016', 'erp_2021']\n",
    "population_df = population_df.select(*cols_to_keep)"
   ]
  },
  {
   "cell_type": "code",
   "execution_count": 64,
   "metadata": {},
   "outputs": [
    {
     "data": {
      "text/html": [
       "<table border='1'>\n",
       "<tr><th>sa2_maincode_2016</th><th>sa2_name_2016</th><th>erp_2021</th></tr>\n",
       "<tr><td>101021007</td><td>Braidwood</td><td>4360</td></tr>\n",
       "<tr><td>101021008</td><td>Karabar</td><td>8374</td></tr>\n",
       "<tr><td>101021009</td><td>Queanbeyan</td><td>11401</td></tr>\n",
       "</table>\n"
      ],
      "text/plain": [
       "+-----------------+-------------+--------+\n",
       "|sa2_maincode_2016|sa2_name_2016|erp_2021|\n",
       "+-----------------+-------------+--------+\n",
       "|        101021007|    Braidwood|    4360|\n",
       "|        101021008|      Karabar|    8374|\n",
       "|        101021009|   Queanbeyan|   11401|\n",
       "+-----------------+-------------+--------+"
      ]
     },
     "execution_count": 64,
     "metadata": {},
     "output_type": "execute_result"
    }
   ],
   "source": [
    "# Inspect subset:\n",
    "population_df.limit(3)"
   ]
  },
  {
   "cell_type": "code",
   "execution_count": 65,
   "metadata": {},
   "outputs": [
    {
     "name": "stdout",
     "output_type": "stream",
     "text": [
      "root\n",
      " |-- sa2_maincode_2016: string (nullable = true)\n",
      " |-- sa2_name_2016: string (nullable = true)\n",
      " |-- erp_2021: string (nullable = true)\n",
      "\n"
     ]
    }
   ],
   "source": [
    "# Check attribute types:\n",
    "population_df.printSchema()"
   ]
  },
  {
   "cell_type": "code",
   "execution_count": 66,
   "metadata": {},
   "outputs": [
    {
     "name": "stdout",
     "output_type": "stream",
     "text": [
      "root\n",
      " |-- sa2_maincode_2016: long (nullable = true)\n",
      " |-- sa2_name_2016: string (nullable = true)\n",
      " |-- erp_2021: integer (nullable = true)\n",
      "\n"
     ]
    }
   ],
   "source": [
    "# Assign correct attribute types from previous:\n",
    "from pyspark.sql.types import IntegerType, LongType\n",
    "\n",
    "population_df = population_df \\\n",
    "                .withColumn(\"sa2_maincode_2016\", F.col(\"sa2_maincode_2016\").cast(LongType())) \\\n",
    "                .withColumn(\"erp_2021\", F.col('erp_2021').cast(IntegerType()))\n",
    "\n",
    "population_df.printSchema()"
   ]
  },
  {
   "cell_type": "code",
   "execution_count": 67,
   "metadata": {},
   "outputs": [],
   "source": [
    "# Rename columns:\n",
    "population_df = population_df \\\n",
    "                .withColumnRenamed('sa2_name_2016', 'suburb') \\\n",
    "                .withColumnRenamed('erp_2021', 'estimated_region_population_2021')"
   ]
  },
  {
   "cell_type": "code",
   "execution_count": 96,
   "metadata": {},
   "outputs": [],
   "source": [
    "# Function to be added to ETL:\n",
    "\n",
    "from pyspark.sql.types import IntegerType, LongType\n",
    "\n",
    "def population_preprocess(data):\n",
    "\n",
    "    cols_to_keep = ['sa2_maincode_2016', 'sa2_name_2016', 'erp_2021']\n",
    "    population_df = data.select(*cols_to_keep)\n",
    "\n",
    "    population_df = population_df \\\n",
    "                    .withColumn(\"sa2_maincode_2016\", F.col(\"sa2_maincode_2016\").cast(LongType())) \\\n",
    "                    .withColumn(\"erp_2021\", F.col('erp_2021').cast(IntegerType()))\n",
    "\n",
    "    population_df = population_df \\\n",
    "                    .withColumnRenamed('sa2_name_2016', 'suburb') \\\n",
    "                    .withColumnRenamed('erp_2021', 'estimated_region_population_2021')\n",
    "                    \n",
    "    return population_df\n"
   ]
  },
  {
   "cell_type": "code",
   "execution_count": 97,
   "metadata": {},
   "outputs": [
    {
     "data": {
      "text/html": [
       "<table border='1'>\n",
       "<tr><th>sa2_maincode_2016</th><th>suburb</th><th>estimated_region_population_2021</th></tr>\n",
       "<tr><td>101021007</td><td>Braidwood</td><td>4360</td></tr>\n",
       "<tr><td>101021008</td><td>Karabar</td><td>8374</td></tr>\n",
       "<tr><td>101021009</td><td>Queanbeyan</td><td>11401</td></tr>\n",
       "<tr><td>101031013</td><td>Bombala</td><td>2411</td></tr>\n",
       "<tr><td>101041020</td><td>Bega-Eden Hinterland</td><td>8996</td></tr>\n",
       "</table>\n"
      ],
      "text/plain": [
       "+-----------------+--------------------+--------------------------------+\n",
       "|sa2_maincode_2016|              suburb|estimated_region_population_2021|\n",
       "+-----------------+--------------------+--------------------------------+\n",
       "|        101021007|           Braidwood|                            4360|\n",
       "|        101021008|             Karabar|                            8374|\n",
       "|        101021009|          Queanbeyan|                           11401|\n",
       "|        101031013|             Bombala|                            2411|\n",
       "|        101041020|Bega-Eden Hinterland|                            8996|\n",
       "+-----------------+--------------------+--------------------------------+"
      ]
     },
     "execution_count": 97,
     "metadata": {},
     "output_type": "execute_result"
    }
   ],
   "source": [
    "# Testing if above function works ^^^:\n",
    "test = population_preprocess(population_df)\n",
    "test.limit(5)"
   ]
  },
  {
   "cell_type": "code",
   "execution_count": 89,
   "metadata": {},
   "outputs": [
    {
     "name": "stderr",
     "output_type": "stream",
     "text": [
      "                                                                                \r"
     ]
    },
    {
     "data": {
      "text/plain": [
       "2292"
      ]
     },
     "execution_count": 89,
     "metadata": {},
     "output_type": "execute_result"
    }
   ],
   "source": [
    "# Check number of entries:\n",
    "test.count()"
   ]
  },
  {
   "cell_type": "markdown",
   "metadata": {},
   "source": [
    "According to:<br>\n",
    "abs.gov.au/ausstats/abs@.nsf/lookup/by%20subject/1270.0.55.001~july%202016~main%20features~statistical%20area%20level%202%20(sa2)~10014 <br>\n",
    "\n",
    "There are 2310 distinct SA2 codes, but the population data above only has 2292. Further discussion may be necessary."
   ]
  }
 ],
 "metadata": {
  "kernelspec": {
   "display_name": "Python 3.8.10 64-bit",
   "language": "python",
   "name": "python3"
  },
  "language_info": {
   "codemirror_mode": {
    "name": "ipython",
    "version": 3
   },
   "file_extension": ".py",
   "mimetype": "text/x-python",
   "name": "python",
   "nbconvert_exporter": "python",
   "pygments_lexer": "ipython3",
   "version": "3.8.10"
  },
  "orig_nbformat": 4,
  "vscode": {
   "interpreter": {
    "hash": "916dbcbb3f70747c44a77c7bcd40155683ae19c65e1c03b4aa3499c5328201f1"
   }
  }
 },
 "nbformat": 4,
 "nbformat_minor": 2
}
