{
 "cells": [
  {
   "cell_type": "code",
   "execution_count": 171,
   "metadata": {},
   "outputs": [],
   "source": [
    "from pyspark.sql import SparkSession, Window, functions as F\n",
    "import pandas as pd\n",
    "import numpy as np\n",
    "import seaborn as sns\n",
    "import math\n",
    "\n",
    "# Create a spark session\n",
    "spark = (\n",
    "    SparkSession.builder.appName(\"BNPL Project\")\n",
    "    .config(\"spark.sql.repl.eagerEval.enabled\", True) \n",
    "    .config(\"spark.sql.parquet.cacheMetadata\", \"true\")\n",
    "    .config(\"spark.driver.memory\", \"8g\")\n",
    "    .config(\"spark.driver.executor\", \"8g\")\n",
    "    .config(\"spark.sql.session.timeZone\", \"Etc/UTC\")\n",
    "    .getOrCreate()\n",
    ")\n",
    "\n",
    "p = lambda x,type : f'../../data/{type}/{x}'\n",
    "\n",
    "sdf = spark.read.parquet(p('process_data.parquet', 'curated'), header=True)\n",
    "consumer = pd.read_csv(p('consumer_fraud_probability.csv', 'tables'))\n",
    "merchant = pd.read_csv(p('merchant_fraud_probability.csv', 'tables'))\n",
    "\n",
    "consumer['fraud_probability'] = consumer['fraud_probability'] / 100\n",
    "merchant['fraud_probability'] = merchant['fraud_probability'] / 100\n",
    "\n",
    "# merchant['order_datetime'] = pd.to_datetime(merchant['order_datetime'])\n",
    "# consumer['order_datetime'] = pd.to_datetime(consumer['order_datetime'])"
   ]
  },
  {
   "cell_type": "code",
   "execution_count": 172,
   "metadata": {},
   "outputs": [],
   "source": [
    "m = 31334588839"
   ]
  },
  {
   "cell_type": "code",
   "execution_count": 173,
   "metadata": {},
   "outputs": [
    {
     "data": {
      "text/plain": [
       "<AxesSubplot:>"
      ]
     },
     "execution_count": 173,
     "metadata": {},
     "output_type": "execute_result"
    },
    {
     "data": {
      "image/png": "[encoded data removed]",
      "text/plain": [
       "<Figure size 432x288 with 1 Axes>"
      ]
     },
     "metadata": {
      "needs_background": "light"
     },
     "output_type": "display_data"
    }
   ],
   "source": [
    "consumer['fraud_probability'].hist()"
   ]
  },
  {
   "cell_type": "code",
   "execution_count": 174,
   "metadata": {},
   "outputs": [
    {
     "data": {
      "text/plain": [
       "<AxesSubplot:>"
      ]
     },
     "execution_count": 174,
     "metadata": {},
     "output_type": "execute_result"
    },
    {
     "data": {
      "image/png": "[encoded data removed]",
      "text/plain": [
       "<Figure size 432x288 with 1 Axes>"
      ]
     },
     "metadata": {
      "needs_background": "light"
     },
     "output_type": "display_data"
    }
   ],
   "source": [
    "consumer['fraud_probability'].map(math.log).hist()"
   ]
  },
  {
   "cell_type": "code",
   "execution_count": 175,
   "metadata": {},
   "outputs": [],
   "source": [
    "consumer['fraud_log_prob'] = consumer['fraud_probability'].map(math.log)"
   ]
  },
  {
   "cell_type": "code",
   "execution_count": 176,
   "metadata": {},
   "outputs": [
    {
     "data": {
      "text/html": [
       "<div>\n",
       "<style scoped>\n",
       "    .dataframe tbody tr th:only-of-type {\n",
       "        vertical-align: middle;\n",
       "    }\n",
       "\n",
       "    .dataframe tbody tr th {\n",
       "        vertical-align: top;\n",
       "    }\n",
       "\n",
       "    .dataframe thead th {\n",
       "        text-align: right;\n",
       "    }\n",
       "</style>\n",
       "<table border=\"1\" class=\"dataframe\">\n",
       "  <thead>\n",
       "    <tr style=\"text-align: right;\">\n",
       "      <th></th>\n",
       "      <th>user_id</th>\n",
       "      <th>order_datetime</th>\n",
       "      <th>fraud_probability</th>\n",
       "      <th>fraud_log_prob</th>\n",
       "      <th>log_prob_bin</th>\n",
       "    </tr>\n",
       "  </thead>\n",
       "  <tbody>\n",
       "    <tr>\n",
       "      <th>0</th>\n",
       "      <td>6228</td>\n",
       "      <td>2021-12-19</td>\n",
       "      <td>0.976298</td>\n",
       "      <td>-0.023987</td>\n",
       "      <td>(-0.256, -0.00755]</td>\n",
       "    </tr>\n",
       "    <tr>\n",
       "      <th>1</th>\n",
       "      <td>21419</td>\n",
       "      <td>2021-12-10</td>\n",
       "      <td>0.992474</td>\n",
       "      <td>-0.007555</td>\n",
       "      <td>(-0.256, -0.00755]</td>\n",
       "    </tr>\n",
       "    <tr>\n",
       "      <th>2</th>\n",
       "      <td>5606</td>\n",
       "      <td>2021-10-17</td>\n",
       "      <td>0.840583</td>\n",
       "      <td>-0.173660</td>\n",
       "      <td>(-0.256, -0.00755]</td>\n",
       "    </tr>\n",
       "    <tr>\n",
       "      <th>3</th>\n",
       "      <td>3101</td>\n",
       "      <td>2021-04-17</td>\n",
       "      <td>0.914219</td>\n",
       "      <td>-0.089685</td>\n",
       "      <td>(-0.256, -0.00755]</td>\n",
       "    </tr>\n",
       "    <tr>\n",
       "      <th>4</th>\n",
       "      <td>22239</td>\n",
       "      <td>2021-10-19</td>\n",
       "      <td>0.947034</td>\n",
       "      <td>-0.054420</td>\n",
       "      <td>(-0.256, -0.00755]</td>\n",
       "    </tr>\n",
       "    <tr>\n",
       "      <th>...</th>\n",
       "      <td>...</td>\n",
       "      <td>...</td>\n",
       "      <td>...</td>\n",
       "      <td>...</td>\n",
       "      <td>...</td>\n",
       "    </tr>\n",
       "    <tr>\n",
       "      <th>34859</th>\n",
       "      <td>18466</td>\n",
       "      <td>2022-02-22</td>\n",
       "      <td>0.086799</td>\n",
       "      <td>-2.444163</td>\n",
       "      <td>(-2.493, -2.242]</td>\n",
       "    </tr>\n",
       "    <tr>\n",
       "      <th>34860</th>\n",
       "      <td>17552</td>\n",
       "      <td>2021-12-26</td>\n",
       "      <td>0.083495</td>\n",
       "      <td>-2.482973</td>\n",
       "      <td>(-2.493, -2.242]</td>\n",
       "    </tr>\n",
       "    <tr>\n",
       "      <th>34861</th>\n",
       "      <td>17875</td>\n",
       "      <td>2021-06-27</td>\n",
       "      <td>0.082888</td>\n",
       "      <td>-2.490259</td>\n",
       "      <td>(-2.493, -2.242]</td>\n",
       "    </tr>\n",
       "    <tr>\n",
       "      <th>34862</th>\n",
       "      <td>10401</td>\n",
       "      <td>2021-09-18</td>\n",
       "      <td>0.088422</td>\n",
       "      <td>-2.425633</td>\n",
       "      <td>(-2.493, -2.242]</td>\n",
       "    </tr>\n",
       "    <tr>\n",
       "      <th>34863</th>\n",
       "      <td>18076</td>\n",
       "      <td>2021-11-30</td>\n",
       "      <td>0.085420</td>\n",
       "      <td>-2.460172</td>\n",
       "      <td>(-2.493, -2.242]</td>\n",
       "    </tr>\n",
       "  </tbody>\n",
       "</table>\n",
       "<p>34864 rows × 5 columns</p>\n",
       "</div>"
      ],
      "text/plain": [
       "       user_id order_datetime  fraud_probability  fraud_log_prob  \\\n",
       "0         6228     2021-12-19           0.976298       -0.023987   \n",
       "1        21419     2021-12-10           0.992474       -0.007555   \n",
       "2         5606     2021-10-17           0.840583       -0.173660   \n",
       "3         3101     2021-04-17           0.914219       -0.089685   \n",
       "4        22239     2021-10-19           0.947034       -0.054420   \n",
       "...        ...            ...                ...             ...   \n",
       "34859    18466     2022-02-22           0.086799       -2.444163   \n",
       "34860    17552     2021-12-26           0.083495       -2.482973   \n",
       "34861    17875     2021-06-27           0.082888       -2.490259   \n",
       "34862    10401     2021-09-18           0.088422       -2.425633   \n",
       "34863    18076     2021-11-30           0.085420       -2.460172   \n",
       "\n",
       "             log_prob_bin  \n",
       "0      (-0.256, -0.00755]  \n",
       "1      (-0.256, -0.00755]  \n",
       "2      (-0.256, -0.00755]  \n",
       "3      (-0.256, -0.00755]  \n",
       "4      (-0.256, -0.00755]  \n",
       "...                   ...  \n",
       "34859    (-2.493, -2.242]  \n",
       "34860    (-2.493, -2.242]  \n",
       "34861    (-2.493, -2.242]  \n",
       "34862    (-2.493, -2.242]  \n",
       "34863    (-2.493, -2.242]  \n",
       "\n",
       "[34864 rows x 5 columns]"
      ]
     },
     "execution_count": 176,
     "metadata": {},
     "output_type": "execute_result"
    }
   ],
   "source": [
    "consumer['log_prob_bin'] = pd.cut(consumer['fraud_log_prob'], 10)\n",
    "consumer"
   ]
  },
  {
   "cell_type": "code",
   "execution_count": 187,
   "metadata": {},
   "outputs": [
    {
     "name": "stdout",
     "output_type": "stream",
     "text": [
      "22/10/05 13:08:44 WARN HeartbeatReceiver: Removing executor driver with no recent heartbeats: 5027915 ms exceeds timeout 120000 ms\n",
      "22/10/05 13:08:44 WARN SparkContext: Killing executors is not supported by current scheduler.\n"
     ]
    }
   ],
   "source": [
    "y = consumer.groupby('log_prob_bin').count()['fraud_log_prob'].to_list()\n",
    "x = range(10)"
   ]
  }
 ],
 "metadata": {
  "kernelspec": {
   "display_name": "Python 3.9.7 64-bit",
   "language": "python",
   "name": "python3"
  },
  "language_info": {
   "codemirror_mode": {
    "name": "ipython",
    "version": 3
   },
   "file_extension": ".py",
   "mimetype": "text/x-python",
   "name": "python",
   "nbconvert_exporter": "python",
   "pygments_lexer": "ipython3",
   "version": "3.9.7"
  },
  "orig_nbformat": 4,
  "vscode": {
   "interpreter": {
    "hash": "aee8b7b246df8f9039afb4144a1f6fd8d2ca17a180786b69acc140d282b71a49"
   }
  }
 },
 "nbformat": 4,
 "nbformat_minor": 2
}
