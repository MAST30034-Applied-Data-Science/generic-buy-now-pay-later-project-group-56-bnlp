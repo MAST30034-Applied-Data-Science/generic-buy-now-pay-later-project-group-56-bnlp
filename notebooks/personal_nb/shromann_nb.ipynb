{
 "cells": [
  {
   "cell_type": "markdown",
   "metadata": {},
   "source": [
    "# Fraudulent Transaction Classifier\n",
    "---\n",
    "We try to use 3 weeks of fraud probability data to build a Machine Learning model and classify all fraudulent transactions."
   ]
  },
  {
   "cell_type": "markdown",
   "metadata": {},
   "source": [
    "### 1. Datasets\n",
    "We begin by loading our dataset onto the Jupyter Notebook"
   ]
  },
  {
   "cell_type": "code",
   "execution_count": 34,
   "metadata": {},
   "outputs": [],
   "source": [
    "from pyspark.sql import SparkSession, Window, functions as F\n",
    "\n",
    "# Create a spark session\n",
    "spark = (\n",
    "    SparkSession.builder.appName(\"BNPL Project\")\n",
    "    .config(\"spark.sql.repl.eagerEval.enabled\", True) \n",
    "    .config(\"spark.sql.parquet.cacheMetadata\", \"true\")\n",
    "    .config(\"spark.driver.memory\", \"4g\")\n",
    "    .config(\"spark.sql.session.timeZone\", \"Etc/UTC\")\n",
    "    .getOrCreate()\n",
    ")\n",
    "\n",
    "p = lambda x,type : f'../../data/{type}/{x}'"
   ]
  },
  {
   "cell_type": "code",
   "execution_count": 36,
   "metadata": {},
   "outputs": [
    {
     "data": {
      "text/html": [
       "<table border='1'>\n",
       "<tr><th>merchant_abn</th><th>consumer_id</th><th>user_id</th><th>dollar_value</th><th>order_id</th><th>order_datetime</th><th>state</th><th>postcode</th><th>gender</th><th>merchant_name</th><th>tag</th><th>revenue</th><th>rate</th><th>category</th><th>subcategory</th><th>merchant_fraud_probability</th><th>user_fraud_probability</th><th>estimated_region_population_2021_sum</th><th>persons_earners_2018-19_sum</th><th>mean_earnings_2018-19_avg</th><th>sum_earnings_2018-19_sum</th><th>median_earnings_2018-19_avg</th><th>med_age_earners_2018-19_avg</th></tr>\n",
       "<tr><td>31585975447</td><td>1656</td><td>8913</td><td>51.28</td><td>00001f53-b987-4b4...</td><td>2021-07-24</td><td>NSW</td><td>1163</td><td>Male</td><td>Dolor Dapibus Gra...</td><td>digital goods: bo...</td><td>b</td><td>3.12</td><td>retail_and_wholes...</td><td>household_goods_r...</td><td>null</td><td>null</td><td>31499</td><td>28552.0</td><td>70738.0</td><td>2.01971729E9</td><td>28339.0</td><td>31.0</td></tr>\n",
       "</table>\n"
      ],
      "text/plain": [
       "+------------+-----------+-------+------------+--------------------+--------------+-----+--------+------+--------------------+--------------------+-------+----+--------------------+--------------------+--------------------------+----------------------+------------------------------------+---------------------------+-------------------------+------------------------+---------------------------+---------------------------+\n",
       "|merchant_abn|consumer_id|user_id|dollar_value|            order_id|order_datetime|state|postcode|gender|       merchant_name|                 tag|revenue|rate|            category|         subcategory|merchant_fraud_probability|user_fraud_probability|estimated_region_population_2021_sum|persons_earners_2018-19_sum|mean_earnings_2018-19_avg|sum_earnings_2018-19_sum|median_earnings_2018-19_avg|med_age_earners_2018-19_avg|\n",
       "+------------+-----------+-------+------------+--------------------+--------------+-----+--------+------+--------------------+--------------------+-------+----+--------------------+--------------------+--------------------------+----------------------+------------------------------------+---------------------------+-------------------------+------------------------+---------------------------+---------------------------+\n",
       "| 31585975447|       1656|   8913|       51.28|00001f53-b987-4b4...|    2021-07-24|  NSW|    1163|  Male|Dolor Dapibus Gra...|digital goods: bo...|      b|3.12|retail_and_wholes...|household_goods_r...|                      null|                  null|                               31499|                    28552.0|                  70738.0|            2.01971729E9|                    28339.0|                       31.0|\n",
       "+------------+-----------+-------+------------+--------------------+--------------+-----+--------+------+--------------------+--------------------+-------+----+--------------------+--------------------+--------------------------+----------------------+------------------------------------+---------------------------+-------------------------+------------------------+---------------------------+---------------------------+"
      ]
     },
     "execution_count": 36,
     "metadata": {},
     "output_type": "execute_result"
    }
   ],
   "source": [
    "sdf = spark.read.parquet(p('process_data.parquet', 'curated'), header=True)\n",
    "sdf.limit(1)"
   ]
  },
  {
   "cell_type": "code",
   "execution_count": 37,
   "metadata": {},
   "outputs": [
    {
     "name": "stdout",
     "output_type": "stream",
     "text": [
      "existing user_fraud_probability count: 71636\n",
      "existing merchant_fraud_probability count: 4003\n"
     ]
    }
   ],
   "source": [
    "print('existing user_fraud_probability count:', sdf.where(F.col('user_fraud_probability').isNotNull()).count())\n",
    "print('existing merchant_fraud_probability count:', sdf.where(F.col('merchant_fraud_probability').isNotNull()).count())"
   ]
  },
  {
   "cell_type": "markdown",
   "metadata": {},
   "source": [
    "### 2. Visualisations"
   ]
  },
  {
   "cell_type": "markdown",
   "metadata": {},
   "source": [
    "## **Testings**"
   ]
  },
  {
   "cell_type": "markdown",
   "metadata": {},
   "source": [
    "1. Impute Missing Values (Probabily Mean??)\n",
    "   if merchant_fraud_probs is null, look for its mean in other transactions, do the same for user_fraud_probability"
   ]
  },
  {
   "cell_type": "code",
   "execution_count": 38,
   "metadata": {},
   "outputs": [],
   "source": [
    "merchant_window = Window.partitionBy([\"merchant_abn\"])\n",
    "user_window = Window.partitionBy([\"user_id\"])\n",
    "\n",
    "# 1. Impute `merchant_fraud_probability` Null Values \n",
    "sdf = sdf.withColumn('merchant_fraud_probability',\n",
    "    F.when(F.col('merchant_fraud_probability').isNull(), \n",
    "    F.avg(F.col('merchant_fraud_probability')).over(merchant_window))\\\n",
    "        .otherwise(F.col('merchant_fraud_probability')))\n",
    "\n",
    "# 2. Impute `user_fraud_probability` Null Values \n",
    "sdf = sdf.withColumn('user_fraud_probability',\n",
    "    F.when(F.col('user_fraud_probability').isNull(), \n",
    "    F.avg(F.col('user_fraud_probability')).over(user_window))\\\n",
    "        .otherwise(F.col('user_fraud_probability')))"
   ]
  },
  {
   "cell_type": "code",
   "execution_count": 28,
   "metadata": {},
   "outputs": [
    {
     "name": "stderr",
     "output_type": "stream",
     "text": [
      "                                                                                \r"
     ]
    },
    {
     "data": {
      "text/plain": [
       "11032855"
      ]
     },
     "execution_count": 28,
     "metadata": {},
     "output_type": "execute_result"
    }
   ],
   "source": [
    "print('existing user_fraud_probability count:', sdf.where(F.col('user_fraud_probability').isNotNull()).count())\n",
    "print('existing merchant_fraud_probability count:', sdf.where(F.col('merchant_fraud_probability').isNotNull()).count())"
   ]
  },
  {
   "cell_type": "code",
   "execution_count": 29,
   "metadata": {},
   "outputs": [
    {
     "name": "stderr",
     "output_type": "stream",
     "text": [
      "                                                                                \r"
     ]
    },
    {
     "data": {
      "text/plain": [
       "583545"
      ]
     },
     "execution_count": 29,
     "metadata": {},
     "output_type": "execute_result"
    }
   ],
   "source": [
    "sdf.where(F.col('merchant_fraud_probability').isNotNull()).count()"
   ]
  },
  {
   "cell_type": "markdown",
   "metadata": {},
   "source": [
    "We will impute the final missing probabilities to 0.5 as we don't know their probabilties. So just 0.5 means they can be either one of them exclusivley. "
   ]
  },
  {
   "cell_type": "code",
   "execution_count": 32,
   "metadata": {},
   "outputs": [],
   "source": [
    "sdf = sdf.fillna(0.5, ['merchant_fraud_probability', 'user_fraud_probability'])"
   ]
  },
  {
   "cell_type": "code",
   "execution_count": 33,
   "metadata": {},
   "outputs": [
    {
     "name": "stderr",
     "output_type": "stream",
     "text": [
      "                                                                                \r"
     ]
    },
    {
     "data": {
      "text/html": [
       "<table border='1'>\n",
       "<tr><th>merchant_abn</th><th>consumer_id</th><th>user_id</th><th>dollar_value</th><th>order_id</th><th>order_datetime</th><th>state</th><th>postcode</th><th>gender</th><th>merchant_name</th><th>tag</th><th>revenue</th><th>rate</th><th>category</th><th>subcategory</th><th>merchant_fraud_probability</th><th>user_fraud_probability</th><th>estimated_region_population_2021_sum</th><th>persons_earners_2018-19_sum</th><th>mean_earnings_2018-19_avg</th><th>sum_earnings_2018-19_sum</th><th>median_earnings_2018-19_avg</th><th>med_age_earners_2018-19_avg</th></tr>\n",
       "<tr><td>10023283211</td><td>1226530</td><td>19</td><td>291.32</td><td>526a2ebc-5203-44e...</td><td>2022-01-13</td><td>TAS</td><td>7276</td><td>Female</td><td>Felis Limited</td><td>furniture, home f...</td><td>e</td><td>0.18</td><td>retail_and_wholes...</td><td>household_goods_r...</td><td>0.5</td><td>0.14</td><td>6086</td><td>3337.0</td><td>52656.0</td><td>1.75714684E8</td><td>43673.0</td><td>50.0</td></tr>\n",
       "<tr><td>10648956813</td><td>1226530</td><td>19</td><td>27.93</td><td>87813983-3c53-49e...</td><td>2021-06-15</td><td>TAS</td><td>7276</td><td>Female</td><td>Proin Nisl Institute</td><td>computers, comput...</td><td>a</td><td>6.66</td><td>retail_and_wholes...</td><td>household_goods_r...</td><td>0.5</td><td>0.14</td><td>6086</td><td>3337.0</td><td>52656.0</td><td>1.75714684E8</td><td>43673.0</td><td>50.0</td></tr>\n",
       "<tr><td>15253672771</td><td>1226530</td><td>19</td><td>143.84</td><td>8dcbac1c-f0ab-4fe...</td><td>2021-12-11</td><td>TAS</td><td>7276</td><td>Female</td><td>Nascetur Ridiculu...</td><td>gift, card, novel...</td><td>b</td><td>3.26</td><td>retail_and_wholes...</td><td>department_stores</td><td>0.5</td><td>0.14</td><td>6086</td><td>3337.0</td><td>52656.0</td><td>1.75714684E8</td><td>43673.0</td><td>50.0</td></tr>\n",
       "<tr><td>35927874515</td><td>1226530</td><td>19</td><td>101.24</td><td>58fd2b2c-4e48-48e...</td><td>2021-10-24</td><td>TAS</td><td>7276</td><td>Female</td><td>Ac Orci Ut Indust...</td><td>shoe shops</td><td>a</td><td>5.85</td><td>retail_and_wholes...</td><td>department_stores</td><td>0.5</td><td>0.14</td><td>6086</td><td>3337.0</td><td>52656.0</td><td>1.75714684E8</td><td>43673.0</td><td>50.0</td></tr>\n",
       "<tr><td>39759375662</td><td>1226530</td><td>19</td><td>448.74</td><td>43bfa43f-9f00-446...</td><td>2021-11-29</td><td>TAS</td><td>7276</td><td>Female</td><td>Elit Aliquam Auct...</td><td>books, periodical...</td><td>a</td><td>6.96</td><td>info_media_and_te...</td><td>null</td><td>0.5</td><td>0.14</td><td>6086</td><td>3337.0</td><td>52656.0</td><td>1.75714684E8</td><td>43673.0</td><td>50.0</td></tr>\n",
       "<tr><td>43127814599</td><td>1226530</td><td>19</td><td>987.99</td><td>b815e072-7d31-4d9...</td><td>2021-07-18</td><td>TAS</td><td>7276</td><td>Female</td><td>Nam Ligula Elit F...</td><td>lawn and garden s...</td><td>b</td><td>3.58</td><td>retail_and_wholes...</td><td>food_retailing</td><td>0.5</td><td>0.14</td><td>6086</td><td>3337.0</td><td>52656.0</td><td>1.75714684E8</td><td>43673.0</td><td>50.0</td></tr>\n",
       "<tr><td>45899477665</td><td>1226530</td><td>19</td><td>33.18</td><td>bcc502c4-54e4-4c8...</td><td>2021-10-24</td><td>TAS</td><td>7276</td><td>Female</td><td>At Incorporated</td><td>books, periodical...</td><td>a</td><td>5.87</td><td>info_media_and_te...</td><td>null</td><td>0.5</td><td>0.14</td><td>6086</td><td>3337.0</td><td>52656.0</td><td>1.75714684E8</td><td>43673.0</td><td>50.0</td></tr>\n",
       "<tr><td>51561881468</td><td>1226530</td><td>19</td><td>122.88</td><td>6c2a1d46-cde5-47c...</td><td>2022-01-10</td><td>TAS</td><td>7276</td><td>Female</td><td>Tristique Pellent...</td><td>cable, satellite,...</td><td>c</td><td>2.0</td><td>info_media_and_te...</td><td>null</td><td>0.5</td><td>0.14</td><td>6086</td><td>3337.0</td><td>52656.0</td><td>1.75714684E8</td><td>43673.0</td><td>50.0</td></tr>\n",
       "<tr><td>62170730910</td><td>1226530</td><td>19</td><td>51.47</td><td>2ab1cbbd-de4b-462...</td><td>2021-06-07</td><td>TAS</td><td>7276</td><td>Female</td><td>Volutpat Nunc Sit...</td><td>gift, card, novel...</td><td>b</td><td>3.8</td><td>retail_and_wholes...</td><td>department_stores</td><td>0.5</td><td>0.14</td><td>6086</td><td>3337.0</td><td>52656.0</td><td>1.75714684E8</td><td>43673.0</td><td>50.0</td></tr>\n",
       "<tr><td>62981771325</td><td>1226530</td><td>19</td><td>27.34</td><td>5dd90513-1ac2-41b...</td><td>2022-01-24</td><td>TAS</td><td>7276</td><td>Female</td><td>Eu Neque Pellente...</td><td>motor vehicle sup...</td><td>b</td><td>4.0</td><td>retail_and_wholes...</td><td>others_retailing</td><td>0.5</td><td>0.14</td><td>6086</td><td>3337.0</td><td>52656.0</td><td>1.75714684E8</td><td>43673.0</td><td>50.0</td></tr>\n",
       "<tr><td>81583941068</td><td>1226530</td><td>19</td><td>185.31</td><td>eadc26ee-40e0-418...</td><td>2021-12-24</td><td>TAS</td><td>7276</td><td>Female</td><td>Aliquam Vulputate...</td><td>computer programm...</td><td>c</td><td>3.04</td><td>info_media_and_te...</td><td>null</td><td>0.5</td><td>0.14</td><td>6086</td><td>3337.0</td><td>52656.0</td><td>1.75714684E8</td><td>43673.0</td><td>50.0</td></tr>\n",
       "<tr><td>86662713230</td><td>1226530</td><td>19</td><td>37.42</td><td>f76541b3-b3aa-4c5...</td><td>2022-08-25</td><td>TAS</td><td>7276</td><td>Female</td><td>Vestibulum Accums...</td><td>watch, clock, and...</td><td>a</td><td>6.41</td><td>retail_and_wholes...</td><td>clothing_footwear...</td><td>0.5</td><td>0.14</td><td>6086</td><td>3337.0</td><td>52656.0</td><td>1.75714684E8</td><td>43673.0</td><td>50.0</td></tr>\n",
       "<tr><td>16587082018</td><td>1226530</td><td>19</td><td>237.43</td><td>9ddb087b-c71e-4f7...</td><td>2022-07-14</td><td>TAS</td><td>7276</td><td>Female</td><td>Laoreet Ipsum Ltd</td><td>cable, satellite,...</td><td>a</td><td>6.29</td><td>info_media_and_te...</td><td>null</td><td>0.5</td><td>0.14</td><td>6086</td><td>3337.0</td><td>52656.0</td><td>1.75714684E8</td><td>43673.0</td><td>50.0</td></tr>\n",
       "<tr><td>22470136913</td><td>1226530</td><td>19</td><td>58.56</td><td>fced1cf5-d555-447...</td><td>2021-06-02</td><td>TAS</td><td>7276</td><td>Female</td><td>Adipiscing Elit I...</td><td>bicycle shops - s...</td><td>b</td><td>4.44</td><td>retail_and_wholes...</td><td>department_stores</td><td>0.5</td><td>0.14</td><td>6086</td><td>3337.0</td><td>52656.0</td><td>1.75714684E8</td><td>43673.0</td><td>50.0</td></tr>\n",
       "<tr><td>31969420866</td><td>1226530</td><td>19</td><td>105.91</td><td>c257bc49-d59d-42e...</td><td>2021-06-03</td><td>TAS</td><td>7276</td><td>Female</td><td>Sed Leo Cras Inco...</td><td>computer programm...</td><td>c</td><td>2.69</td><td>info_media_and_te...</td><td>null</td><td>0.5</td><td>0.14</td><td>6086</td><td>3337.0</td><td>52656.0</td><td>1.75714684E8</td><td>43673.0</td><td>50.0</td></tr>\n",
       "<tr><td>40507108040</td><td>1226530</td><td>19</td><td>2.98</td><td>6cbc42bc-5ddb-438...</td><td>2021-09-11</td><td>TAS</td><td>7276</td><td>Female</td><td>Lacinia At Institute</td><td>tent and awning s...</td><td>a</td><td>6.24</td><td>retail_and_wholes...</td><td>department_stores</td><td>0.5</td><td>0.14</td><td>6086</td><td>3337.0</td><td>52656.0</td><td>1.75714684E8</td><td>43673.0</td><td>50.0</td></tr>\n",
       "<tr><td>49891706470</td><td>1226530</td><td>19</td><td>54.07</td><td>75f63f6f-043e-420...</td><td>2022-05-12</td><td>TAS</td><td>7276</td><td>Female</td><td>Non Vestibulum In...</td><td>tent and awning s...</td><td>a</td><td>5.8</td><td>retail_and_wholes...</td><td>department_stores</td><td>0.5</td><td>0.14</td><td>6086</td><td>3337.0</td><td>52656.0</td><td>1.75714684E8</td><td>43673.0</td><td>50.0</td></tr>\n",
       "<tr><td>49891706470</td><td>1226530</td><td>19</td><td>31.81</td><td>88e92ed4-e133-45c...</td><td>2021-05-28</td><td>TAS</td><td>7276</td><td>Female</td><td>Non Vestibulum In...</td><td>tent and awning s...</td><td>a</td><td>5.8</td><td>retail_and_wholes...</td><td>department_stores</td><td>0.5</td><td>0.14</td><td>6086</td><td>3337.0</td><td>52656.0</td><td>1.75714684E8</td><td>43673.0</td><td>50.0</td></tr>\n",
       "<tr><td>49891706470</td><td>1226530</td><td>19</td><td>31.1</td><td>bba99b27-6ef5-4f5...</td><td>2021-11-25</td><td>TAS</td><td>7276</td><td>Female</td><td>Non Vestibulum In...</td><td>tent and awning s...</td><td>a</td><td>5.8</td><td>retail_and_wholes...</td><td>department_stores</td><td>0.5</td><td>0.14</td><td>6086</td><td>3337.0</td><td>52656.0</td><td>1.75714684E8</td><td>43673.0</td><td>50.0</td></tr>\n",
       "<tr><td>49891706470</td><td>1226530</td><td>19</td><td>45.57</td><td>b03db26e-2655-499...</td><td>2021-05-17</td><td>TAS</td><td>7276</td><td>Female</td><td>Non Vestibulum In...</td><td>tent and awning s...</td><td>a</td><td>5.8</td><td>retail_and_wholes...</td><td>department_stores</td><td>0.5</td><td>0.14</td><td>6086</td><td>3337.0</td><td>52656.0</td><td>1.75714684E8</td><td>43673.0</td><td>50.0</td></tr>\n",
       "</table>\n",
       "only showing top 20 rows\n"
      ],
      "text/plain": [
       "+------------+-----------+-------+------------+--------------------+--------------+-----+--------+------+--------------------+--------------------+-------+----+--------------------+--------------------+--------------------------+----------------------+------------------------------------+---------------------------+-------------------------+------------------------+---------------------------+---------------------------+\n",
       "|merchant_abn|consumer_id|user_id|dollar_value|            order_id|order_datetime|state|postcode|gender|       merchant_name|                 tag|revenue|rate|            category|         subcategory|merchant_fraud_probability|user_fraud_probability|estimated_region_population_2021_sum|persons_earners_2018-19_sum|mean_earnings_2018-19_avg|sum_earnings_2018-19_sum|median_earnings_2018-19_avg|med_age_earners_2018-19_avg|\n",
       "+------------+-----------+-------+------------+--------------------+--------------+-----+--------+------+--------------------+--------------------+-------+----+--------------------+--------------------+--------------------------+----------------------+------------------------------------+---------------------------+-------------------------+------------------------+---------------------------+---------------------------+\n",
       "| 10023283211|    1226530|     19|      291.32|526a2ebc-5203-44e...|    2022-01-13|  TAS|    7276|Female|       Felis Limited|furniture, home f...|      e|0.18|retail_and_wholes...|household_goods_r...|                       0.5|                  0.14|                                6086|                     3337.0|                  52656.0|            1.75714684E8|                    43673.0|                       50.0|\n",
       "| 10648956813|    1226530|     19|       27.93|87813983-3c53-49e...|    2021-06-15|  TAS|    7276|Female|Proin Nisl Institute|computers, comput...|      a|6.66|retail_and_wholes...|household_goods_r...|                       0.5|                  0.14|                                6086|                     3337.0|                  52656.0|            1.75714684E8|                    43673.0|                       50.0|\n",
       "| 15253672771|    1226530|     19|      143.84|8dcbac1c-f0ab-4fe...|    2021-12-11|  TAS|    7276|Female|Nascetur Ridiculu...|gift, card, novel...|      b|3.26|retail_and_wholes...|   department_stores|                       0.5|                  0.14|                                6086|                     3337.0|                  52656.0|            1.75714684E8|                    43673.0|                       50.0|\n",
       "| 35927874515|    1226530|     19|      101.24|58fd2b2c-4e48-48e...|    2021-10-24|  TAS|    7276|Female|Ac Orci Ut Indust...|          shoe shops|      a|5.85|retail_and_wholes...|   department_stores|                       0.5|                  0.14|                                6086|                     3337.0|                  52656.0|            1.75714684E8|                    43673.0|                       50.0|\n",
       "| 39759375662|    1226530|     19|      448.74|43bfa43f-9f00-446...|    2021-11-29|  TAS|    7276|Female|Elit Aliquam Auct...|books, periodical...|      a|6.96|info_media_and_te...|                null|                       0.5|                  0.14|                                6086|                     3337.0|                  52656.0|            1.75714684E8|                    43673.0|                       50.0|\n",
       "| 43127814599|    1226530|     19|      987.99|b815e072-7d31-4d9...|    2021-07-18|  TAS|    7276|Female|Nam Ligula Elit F...|lawn and garden s...|      b|3.58|retail_and_wholes...|      food_retailing|                       0.5|                  0.14|                                6086|                     3337.0|                  52656.0|            1.75714684E8|                    43673.0|                       50.0|\n",
       "| 45899477665|    1226530|     19|       33.18|bcc502c4-54e4-4c8...|    2021-10-24|  TAS|    7276|Female|     At Incorporated|books, periodical...|      a|5.87|info_media_and_te...|                null|                       0.5|                  0.14|                                6086|                     3337.0|                  52656.0|            1.75714684E8|                    43673.0|                       50.0|\n",
       "| 51561881468|    1226530|     19|      122.88|6c2a1d46-cde5-47c...|    2022-01-10|  TAS|    7276|Female|Tristique Pellent...|cable, satellite,...|      c| 2.0|info_media_and_te...|                null|                       0.5|                  0.14|                                6086|                     3337.0|                  52656.0|            1.75714684E8|                    43673.0|                       50.0|\n",
       "| 62170730910|    1226530|     19|       51.47|2ab1cbbd-de4b-462...|    2021-06-07|  TAS|    7276|Female|Volutpat Nunc Sit...|gift, card, novel...|      b| 3.8|retail_and_wholes...|   department_stores|                       0.5|                  0.14|                                6086|                     3337.0|                  52656.0|            1.75714684E8|                    43673.0|                       50.0|\n",
       "| 62981771325|    1226530|     19|       27.34|5dd90513-1ac2-41b...|    2022-01-24|  TAS|    7276|Female|Eu Neque Pellente...|motor vehicle sup...|      b| 4.0|retail_and_wholes...|    others_retailing|                       0.5|                  0.14|                                6086|                     3337.0|                  52656.0|            1.75714684E8|                    43673.0|                       50.0|\n",
       "| 81583941068|    1226530|     19|      185.31|eadc26ee-40e0-418...|    2021-12-24|  TAS|    7276|Female|Aliquam Vulputate...|computer programm...|      c|3.04|info_media_and_te...|                null|                       0.5|                  0.14|                                6086|                     3337.0|                  52656.0|            1.75714684E8|                    43673.0|                       50.0|\n",
       "| 86662713230|    1226530|     19|       37.42|f76541b3-b3aa-4c5...|    2022-08-25|  TAS|    7276|Female|Vestibulum Accums...|watch, clock, and...|      a|6.41|retail_and_wholes...|clothing_footwear...|                       0.5|                  0.14|                                6086|                     3337.0|                  52656.0|            1.75714684E8|                    43673.0|                       50.0|\n",
       "| 16587082018|    1226530|     19|      237.43|9ddb087b-c71e-4f7...|    2022-07-14|  TAS|    7276|Female|   Laoreet Ipsum Ltd|cable, satellite,...|      a|6.29|info_media_and_te...|                null|                       0.5|                  0.14|                                6086|                     3337.0|                  52656.0|            1.75714684E8|                    43673.0|                       50.0|\n",
       "| 22470136913|    1226530|     19|       58.56|fced1cf5-d555-447...|    2021-06-02|  TAS|    7276|Female|Adipiscing Elit I...|bicycle shops - s...|      b|4.44|retail_and_wholes...|   department_stores|                       0.5|                  0.14|                                6086|                     3337.0|                  52656.0|            1.75714684E8|                    43673.0|                       50.0|\n",
       "| 31969420866|    1226530|     19|      105.91|c257bc49-d59d-42e...|    2021-06-03|  TAS|    7276|Female|Sed Leo Cras Inco...|computer programm...|      c|2.69|info_media_and_te...|                null|                       0.5|                  0.14|                                6086|                     3337.0|                  52656.0|            1.75714684E8|                    43673.0|                       50.0|\n",
       "| 40507108040|    1226530|     19|        2.98|6cbc42bc-5ddb-438...|    2021-09-11|  TAS|    7276|Female|Lacinia At Institute|tent and awning s...|      a|6.24|retail_and_wholes...|   department_stores|                       0.5|                  0.14|                                6086|                     3337.0|                  52656.0|            1.75714684E8|                    43673.0|                       50.0|\n",
       "| 49891706470|    1226530|     19|       54.07|75f63f6f-043e-420...|    2022-05-12|  TAS|    7276|Female|Non Vestibulum In...|tent and awning s...|      a| 5.8|retail_and_wholes...|   department_stores|                       0.5|                  0.14|                                6086|                     3337.0|                  52656.0|            1.75714684E8|                    43673.0|                       50.0|\n",
       "| 49891706470|    1226530|     19|       31.81|88e92ed4-e133-45c...|    2021-05-28|  TAS|    7276|Female|Non Vestibulum In...|tent and awning s...|      a| 5.8|retail_and_wholes...|   department_stores|                       0.5|                  0.14|                                6086|                     3337.0|                  52656.0|            1.75714684E8|                    43673.0|                       50.0|\n",
       "| 49891706470|    1226530|     19|        31.1|bba99b27-6ef5-4f5...|    2021-11-25|  TAS|    7276|Female|Non Vestibulum In...|tent and awning s...|      a| 5.8|retail_and_wholes...|   department_stores|                       0.5|                  0.14|                                6086|                     3337.0|                  52656.0|            1.75714684E8|                    43673.0|                       50.0|\n",
       "| 49891706470|    1226530|     19|       45.57|b03db26e-2655-499...|    2021-05-17|  TAS|    7276|Female|Non Vestibulum In...|tent and awning s...|      a| 5.8|retail_and_wholes...|   department_stores|                       0.5|                  0.14|                                6086|                     3337.0|                  52656.0|            1.75714684E8|                    43673.0|                       50.0|\n",
       "+------------+-----------+-------+------------+--------------------+--------------+-----+--------+------+--------------------+--------------------+-------+----+--------------------+--------------------+--------------------------+----------------------+------------------------------------+---------------------------+-------------------------+------------------------+---------------------------+---------------------------+\n",
       "only showing top 20 rows"
      ]
     },
     "execution_count": 33,
     "metadata": {},
     "output_type": "execute_result"
    }
   ],
   "source": [
    "sdf"
   ]
  }
 ],
 "metadata": {
  "kernelspec": {
   "display_name": "Python 3.9.7 64-bit",
   "language": "python",
   "name": "python3"
  },
  "language_info": {
   "codemirror_mode": {
    "name": "ipython",
    "version": 3
   },
   "file_extension": ".py",
   "mimetype": "text/x-python",
   "name": "python",
   "nbconvert_exporter": "python",
   "pygments_lexer": "ipython3",
   "version": "3.9.7"
  },
  "orig_nbformat": 4,
  "vscode": {
   "interpreter": {
    "hash": "aee8b7b246df8f9039afb4144a1f6fd8d2ca17a180786b69acc140d282b71a49"
   }
  }
 },
 "nbformat": 4,
 "nbformat_minor": 2
}
