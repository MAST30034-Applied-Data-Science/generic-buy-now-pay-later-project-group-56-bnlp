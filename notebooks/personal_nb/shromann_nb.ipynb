{
 "cells": [
  {
   "cell_type": "markdown",
   "metadata": {},
   "source": [
    "### 1. Datasets"
   ]
  },
  {
   "cell_type": "code",
   "execution_count": 7,
   "metadata": {},
   "outputs": [],
   "source": [
    "from pyspark.sql import SparkSession, functions as F\n",
    "\n",
    "# Create a spark session\n",
    "spark = (\n",
    "    SparkSession.builder.appName(\"BNPL Project\")\n",
    "    .config(\"spark.sql.repl.eagerEval.enabled\", True) \n",
    "    .config(\"spark.sql.parquet.cacheMetadata\", \"true\")\n",
    "    .config(\"spark.driver.memory\", \"4g\")\n",
    "    .config(\"spark.sql.session.timeZone\", \"Etc/UTC\")\n",
    "    .getOrCreate()\n",
    ")\n",
    "\n",
    "p = lambda x : f'../../data/tables/{x}'"
   ]
  },
  {
   "cell_type": "markdown",
   "metadata": {},
   "source": [
    "Firslty we name the datasets as the following,\n",
    "1. CFP = Consumer Fraud Probability\n",
    "2. MFP = Merchant Fraud Probability\n",
    "\n",
    "Finally we construct the full `transact` dataset by joining all `transactions` dataset with `CFP` and `MFP`"
   ]
  },
  {
   "cell_type": "code",
   "execution_count": 8,
   "metadata": {},
   "outputs": [
    {
     "name": "stderr",
     "output_type": "stream",
     "text": [
      "                                                                                \r"
     ]
    },
    {
     "name": "stdout",
     "output_type": "stream",
     "text": [
      "count: 440\n"
     ]
    },
    {
     "name": "stderr",
     "output_type": "stream",
     "text": [
      "                                                                                \r"
     ]
    },
    {
     "data": {
      "text/html": [
       "<table border='1'>\n",
       "<tr><th>merchant_abn</th><th>order_datetime</th><th>user_id</th><th>dollar_value</th><th>consumer_fraud_probability</th><th>merchant_fraud_probability</th></tr>\n",
       "<tr><td>91880575299</td><td>2021-04-17</td><td>3101</td><td>105193.88578925544</td><td>0.9142192091901348</td><td>0.3299497823665355</td></tr>\n",
       "<tr><td>83199298021</td><td>2021-03-25</td><td>19453</td><td>13887.358607198637</td><td>0.24695211222609117</td><td>0.6908556869902988</td></tr>\n",
       "<tr><td>83199298021</td><td>2021-03-25</td><td>2550</td><td>37808.99908305577</td><td>0.5587683298736464</td><td>0.6908556869902988</td></tr>\n",
       "<tr><td>90568944804</td><td>2021-11-26</td><td>15062</td><td>1808.2390827390088</td><td>0.1331248894047707</td><td>0.28583030842180734</td></tr>\n",
       "<tr><td>39649557865</td><td>2021-11-26</td><td>161</td><td>1523.9317579642068</td><td>0.08575688231609879</td><td>0.28690204286050613</td></tr>\n",
       "</table>\n"
      ],
      "text/plain": [
       "+------------+--------------+-------+------------------+--------------------------+--------------------------+\n",
       "|merchant_abn|order_datetime|user_id|      dollar_value|consumer_fraud_probability|merchant_fraud_probability|\n",
       "+------------+--------------+-------+------------------+--------------------------+--------------------------+\n",
       "| 91880575299|    2021-04-17|   3101|105193.88578925544|        0.9142192091901348|        0.3299497823665355|\n",
       "| 83199298021|    2021-03-25|  19453|13887.358607198637|       0.24695211222609117|        0.6908556869902988|\n",
       "| 83199298021|    2021-03-25|   2550| 37808.99908305577|        0.5587683298736464|        0.6908556869902988|\n",
       "| 90568944804|    2021-11-26|  15062|1808.2390827390088|        0.1331248894047707|       0.28583030842180734|\n",
       "| 39649557865|    2021-11-26|    161|1523.9317579642068|       0.08575688231609879|       0.28690204286050613|\n",
       "+------------+--------------+-------+------------------+--------------------------+--------------------------+"
      ]
     },
     "execution_count": 8,
     "metadata": {},
     "output_type": "execute_result"
    }
   ],
   "source": [
    "CFP = spark.read.csv(p('consumer_fraud_probability.csv'), header=True)\n",
    "MFP = spark.read.csv(p('merchant_fraud_probability.csv'), header=True)\n",
    "# merchants = spark.read.parquet(p('tbl_merchants.parquet'), header=True)\n",
    "# consumers = spark.read.parquet(p('consumer_user_details.parquet'), header=True)\n",
    "\n",
    "transactions = ['transactions_20210228_20210827_snapshot', \n",
    "    'transactions_20210828_20220227_snapshot',\n",
    "    'transactions_20220228_20220828_snapshot']\n",
    "\n",
    "transacts = None\n",
    "for t in transactions:\n",
    "    print(t)\n",
    "    # if transacts is None:\n",
    "    #     transacts = spark.read.parquet(p(t), header=True) \n",
    "    # else:\n",
    "    #     transacts = transacts.union(spark.read.parquet(p(t), header=True))\n",
    "\n",
    "# 1. Join Consumer Fraud Data\n",
    "transacts = transacts.join(CFP, ['user_id', 'order_datetime'])\\\n",
    "    .withColumn('fraud_probability', F.col('fraud_probability')/100)\\\n",
    "    .withColumnRenamed('fraud_probability', 'consumer_fraud_probability')\n",
    "\n",
    "# 2. Join Consumer Fraud Data \n",
    "transacts = transacts.join(MFP, ['merchant_abn', 'order_datetime'])\\\n",
    "    .withColumn('fraud_probability', F.col('fraud_probability')/100)\\\n",
    "    .withColumnRenamed('fraud_probability', 'merchant_fraud_probability')\n",
    "\n",
    "# 3. Drop irrelavent `order_id`\n",
    "transacts = transacts.drop('order_id')\n",
    "\n",
    "print('count:', transacts.count())\n",
    "transacts.limit(5)"
   ]
  },
  {
   "cell_type": "markdown",
   "metadata": {},
   "source": [
    "We do not know which `user` transacted with which `merchant`. Thus we the fraud probabilities describe **prior distribution**.\n",
    "Lets use the prior probabilities to calculate the `expected_fraud_transactions` for both `user` and `merchant`."
   ]
  },
  {
   "cell_type": "code",
   "execution_count": 9,
   "metadata": {},
   "outputs": [
    {
     "name": "stderr",
     "output_type": "stream",
     "text": [
      "                                                                                \r"
     ]
    },
    {
     "data": {
      "text/html": [
       "<table border='1'>\n",
       "<tr><th>merchant_abn</th><th>order_datetime</th><th>user_id</th><th>dollar_value</th><th>consumer_fraud_probability</th><th>merchant_fraud_probability</th><th>E[consumer_fraud_transaction]</th></tr>\n",
       "<tr><td>91880575299</td><td>2021-04-17</td><td>3101</td><td>105193.88578925544</td><td>0.9142192091901348</td><td>0.3299497823665355</td><td>96170.27107789046</td></tr>\n",
       "<tr><td>83199298021</td><td>2021-03-25</td><td>19453</td><td>13887.358607198637</td><td>0.24695211222609117</td><td>0.6908556869902988</td><td>3429.512541288891</td></tr>\n",
       "<tr><td>83199298021</td><td>2021-03-25</td><td>2550</td><td>37808.99908305577</td><td>0.5587683298736464</td><td>0.6908556869902988</td><td>21126.471271833303</td></tr>\n",
       "<tr><td>90568944804</td><td>2021-11-26</td><td>15062</td><td>1808.2390827390088</td><td>0.1331248894047707</td><td>0.28583030842180734</td><td>240.72162790701458</td></tr>\n",
       "<tr><td>39649557865</td><td>2021-11-26</td><td>161</td><td>1523.9317579642068</td><td>0.08575688231609879</td><td>0.28690204286050613</td><td>130.68763642550203</td></tr>\n",
       "<tr><td>27093785141</td><td>2021-11-26</td><td>382</td><td>382.02632601680403</td><td>0.14593111223510344</td><td>0.2758235777292768</td><td>55.749526658722445</td></tr>\n",
       "<tr><td>82368304209</td><td>2021-11-26</td><td>15335</td><td>2922.5523638703216</td><td>0.09352974283066866</td><td>0.33494431270060276</td><td>273.34557100195394</td></tr>\n",
       "<tr><td>82368304209</td><td>2021-11-26</td><td>15426</td><td>3372.9140889161067</td><td>0.12590473225618234</td><td>0.33494431270060276</td><td>424.6658452880876</td></tr>\n",
       "<tr><td>21439773999</td><td>2021-11-26</td><td>575</td><td>101.23273218573273</td><td>0.20182166627670511</td><td>0.28504479048104586</td><td>20.430958691468014</td></tr>\n",
       "<tr><td>21439773999</td><td>2021-11-26</td><td>948</td><td>320.76153584457956</td><td>0.16332171185676703</td><td>0.28504479048104586</td><td>52.38732313194247</td></tr>\n",
       "</table>\n"
      ],
      "text/plain": [
       "+------------+--------------+-------+------------------+--------------------------+--------------------------+-----------------------------+\n",
       "|merchant_abn|order_datetime|user_id|      dollar_value|consumer_fraud_probability|merchant_fraud_probability|E[consumer_fraud_transaction]|\n",
       "+------------+--------------+-------+------------------+--------------------------+--------------------------+-----------------------------+\n",
       "| 91880575299|    2021-04-17|   3101|105193.88578925544|        0.9142192091901348|        0.3299497823665355|            96170.27107789046|\n",
       "| 83199298021|    2021-03-25|  19453|13887.358607198637|       0.24695211222609117|        0.6908556869902988|            3429.512541288891|\n",
       "| 83199298021|    2021-03-25|   2550| 37808.99908305577|        0.5587683298736464|        0.6908556869902988|           21126.471271833303|\n",
       "| 90568944804|    2021-11-26|  15062|1808.2390827390088|        0.1331248894047707|       0.28583030842180734|           240.72162790701458|\n",
       "| 39649557865|    2021-11-26|    161|1523.9317579642068|       0.08575688231609879|       0.28690204286050613|           130.68763642550203|\n",
       "| 27093785141|    2021-11-26|    382|382.02632601680403|       0.14593111223510344|        0.2758235777292768|           55.749526658722445|\n",
       "| 82368304209|    2021-11-26|  15335|2922.5523638703216|       0.09352974283066866|       0.33494431270060276|           273.34557100195394|\n",
       "| 82368304209|    2021-11-26|  15426|3372.9140889161067|       0.12590473225618234|       0.33494431270060276|            424.6658452880876|\n",
       "| 21439773999|    2021-11-26|    575|101.23273218573273|       0.20182166627670511|       0.28504479048104586|           20.430958691468014|\n",
       "| 21439773999|    2021-11-26|    948|320.76153584457956|       0.16332171185676703|       0.28504479048104586|            52.38732313194247|\n",
       "+------------+--------------+-------+------------------+--------------------------+--------------------------+-----------------------------+"
      ]
     },
     "execution_count": 9,
     "metadata": {},
     "output_type": "execute_result"
    }
   ],
   "source": [
    "transacts = transacts.withColumn('E[consumer_fraud_transaction]', F.col('consumer_fraud_probability') * F.col('dollar_value'))\n",
    "# transacts = transacts.withColumn('E[merchant_fraud_transaction]', F.col('merchant_fraud_probability') * F.col('dollar_value'))\n",
    "\n",
    "# tdf = transacts.toPandas()\n",
    "transacts.limit(10)"
   ]
  },
  {
   "cell_type": "code",
   "execution_count": 10,
   "metadata": {},
   "outputs": [
    {
     "data": {
      "text/html": [
       "<table border='1'>\n",
       "<tr><th>merchant_abn</th><th>order_datetime</th><th>user_id</th><th>dollar_value</th><th>consumer_fraud_probability</th><th>merchant_fraud_probability</th><th>E[consumer_fraud_transaction]</th></tr>\n",
       "<tr><td>11149063370</td><td>2021-11-14</td><td>5965</td><td>43965.46355720679</td><td>0.6937164467869052</td><td>0.5240780332276477</td><td>30499.565160244667</td></tr>\n",
       "<tr><td>11149063370</td><td>2021-11-14</td><td>5965</td><td>43965.46355720679</td><td>0.6937164467869052</td><td>0.5240780332276477</td><td>30499.565160244667</td></tr>\n",
       "<tr><td>11149063370</td><td>2021-08-28</td><td>230</td><td>47346.113374357374</td><td>0.8628328808934151</td><td>0.5643761254995139</td><td>40851.78340190303</td></tr>\n",
       "<tr><td>11149063370</td><td>2021-08-28</td><td>230</td><td>47346.113374357374</td><td>0.8628328808934151</td><td>0.5643761254995139</td><td>40851.78340190303</td></tr>\n",
       "<tr><td>11149063370</td><td>2022-02-25</td><td>17900</td><td>42797.34835914282</td><td>0.9273262811161372</td><td>0.5101538421455242</td><td>39687.105895515735</td></tr>\n",
       "<tr><td>11149063370</td><td>2022-02-25</td><td>17900</td><td>42797.34835914282</td><td>0.9273262811161372</td><td>0.5101538421455242</td><td>39687.105895515735</td></tr>\n",
       "</table>\n"
      ],
      "text/plain": [
       "+------------+--------------+-------+------------------+--------------------------+--------------------------+-----------------------------+\n",
       "|merchant_abn|order_datetime|user_id|      dollar_value|consumer_fraud_probability|merchant_fraud_probability|E[consumer_fraud_transaction]|\n",
       "+------------+--------------+-------+------------------+--------------------------+--------------------------+-----------------------------+\n",
       "| 11149063370|    2021-11-14|   5965| 43965.46355720679|        0.6937164467869052|        0.5240780332276477|           30499.565160244667|\n",
       "| 11149063370|    2021-11-14|   5965| 43965.46355720679|        0.6937164467869052|        0.5240780332276477|           30499.565160244667|\n",
       "| 11149063370|    2021-08-28|    230|47346.113374357374|        0.8628328808934151|        0.5643761254995139|            40851.78340190303|\n",
       "| 11149063370|    2021-08-28|    230|47346.113374357374|        0.8628328808934151|        0.5643761254995139|            40851.78340190303|\n",
       "| 11149063370|    2022-02-25|  17900| 42797.34835914282|        0.9273262811161372|        0.5101538421455242|           39687.105895515735|\n",
       "| 11149063370|    2022-02-25|  17900| 42797.34835914282|        0.9273262811161372|        0.5101538421455242|           39687.105895515735|\n",
       "+------------+--------------+-------+------------------+--------------------------+--------------------------+-----------------------------+"
      ]
     },
     "execution_count": 10,
     "metadata": {},
     "output_type": "execute_result"
    }
   ],
   "source": [
    "transacts.where(F.col('merchant_abn') == 11149063370)"
   ]
  },
  {
   "cell_type": "markdown",
   "metadata": {},
   "source": [
    "### 2. Visualisations\n",
    "We aim to understand the distribution of `E[consumer_fraud_transaction]` and `E[merchant_fraud_transaction]`, along with\n",
    "`consumer_fraud_probability` and `merchant_fraud_probability`; as then we can identify which transactions are statistically significant, ultimately removing eliminating those merchants."
   ]
  },
  {
   "cell_type": "code",
   "execution_count": 5,
   "metadata": {},
   "outputs": [
    {
     "data": {
      "image/png": "[encoded data removed]",
      "text/plain": [
       "<Figure size 432x288 with 1 Axes>"
      ]
     },
     "metadata": {
      "needs_background": "light"
     },
     "output_type": "display_data"
    }
   ],
   "source": [
    "import seaborn as sns\n",
    "\n",
    "counts = tdf.groupby('merchant_abn').count()['merchant_fraud_probability']\n",
    "abn = counts[counts > 10].keys()\n",
    "\n",
    "plot = sns.boxplot(data=tdf[tdf['merchant_abn'].isin(abn)], x = 'merchant_abn', y = 'E[consumer_fraud_transaction]', showfliers = False)\n",
    "plot.get_figure().clf() # this clears the figure\n",
    "plot = sns.boxplot(data=tdf[tdf['merchant_abn'].isin(abn)], x = 'merchant_abn', y = 'E[merchant_fraud_transaction]', showfliers = False)"
   ]
  },
  {
   "cell_type": "code",
   "execution_count": 6,
   "metadata": {},
   "outputs": [
    {
     "data": {
      "text/plain": [
       "merchant_abn  order_datetime\n",
       "11149063370   2021-08-28         94692.226749\n",
       "              2021-11-14         87930.927114\n",
       "              2022-02-25         85594.696718\n",
       "11590404675   2021-12-21         51807.721862\n",
       "14530561097   2021-09-15         92002.278039\n",
       "                                    ...      \n",
       "94493496784   2021-11-26          1097.371480\n",
       "96680767841   2021-11-26          2040.441937\n",
       "97217894162   2022-01-21         90532.204439\n",
       "97884414539   2021-10-19         89230.045042\n",
       "99989036621   2021-10-17        113104.788886\n",
       "Name: dollar_value, Length: 102, dtype: float64"
      ]
     },
     "execution_count": 6,
     "metadata": {},
     "output_type": "execute_result"
    }
   ],
   "source": [
    "# money = \n",
    "tdf.groupby(['merchant_abn', 'order_datetime'])['dollar_value'].sum()"
   ]
  },
  {
   "cell_type": "code",
   "execution_count": null,
   "metadata": {},
   "outputs": [],
   "source": []
  }
 ],
 "metadata": {
  "kernelspec": {
   "display_name": "Python 3.9.7 64-bit",
   "language": "python",
   "name": "python3"
  },
  "language_info": {
   "codemirror_mode": {
    "name": "ipython",
    "version": 3
   },
   "file_extension": ".py",
   "mimetype": "text/x-python",
   "name": "python",
   "nbconvert_exporter": "python",
   "pygments_lexer": "ipython3",
   "version": "3.9.7"
  },
  "orig_nbformat": 4,
  "vscode": {
   "interpreter": {
    "hash": "aee8b7b246df8f9039afb4144a1f6fd8d2ca17a180786b69acc140d282b71a49"
   }
  }
 },
 "nbformat": 4,
 "nbformat_minor": 2
}
