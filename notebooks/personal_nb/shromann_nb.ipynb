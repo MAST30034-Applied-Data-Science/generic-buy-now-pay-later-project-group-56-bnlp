{
 "cells": [
  {
   "cell_type": "markdown",
   "metadata": {},
   "source": [
    "# Fraudulent Transaction Classifier\n",
    "---\n",
    "We try to use 3 weeks of fraud probability data to build a Machine Learning model and classify all fraudulent transactions."
   ]
  },
  {
   "cell_type": "markdown",
   "metadata": {},
   "source": [
    "### 1. Datasets\n",
    "We begin by loading our dataset onto the Jupyter Notebook and make our `fraud_probability` column"
   ]
  },
  {
   "cell_type": "code",
   "execution_count": 22,
   "metadata": {},
   "outputs": [],
   "source": [
    "from pyspark.sql import SparkSession, Window, functions as F\n",
    "\n",
    "# Create a spark session\n",
    "spark = (\n",
    "    SparkSession.builder.appName(\"BNPL Project\")\n",
    "    .config(\"spark.sql.repl.eagerEval.enabled\", True) \n",
    "    .config(\"spark.sql.parquet.cacheMetadata\", \"true\")\n",
    "    .config(\"spark.driver.memory\", \"8g\")\n",
    "    .config(\"spark.driver.executor\", \"8g\")\n",
    "    .config(\"spark.sql.session.timeZone\", \"Etc/UTC\")\n",
    "    .getOrCreate()\n",
    ")\n",
    "\n",
    "p = lambda x,type : f'../../data/{type}/{x}'"
   ]
  },
  {
   "cell_type": "code",
   "execution_count": 23,
   "metadata": {},
   "outputs": [
    {
     "data": {
      "text/html": [
       "<table border='1'>\n",
       "<tr><th>merchant_abn</th><th>consumer_id</th><th>user_id</th><th>dollar_value</th><th>order_id</th><th>order_datetime</th><th>state</th><th>postcode</th><th>gender</th><th>merchant_name</th><th>tag</th><th>revenue</th><th>rate</th><th>category</th><th>subcategory</th><th>merchant_fraud_probability</th><th>user_fraud_probability</th><th>estimated_region_population_2021_sum</th><th>persons_earners_2018-19_sum</th><th>mean_earnings_2018-19_avg</th><th>sum_earnings_2018-19_sum</th><th>median_earnings_2018-19_avg</th><th>med_age_earners_2018-19_avg</th><th>fraud_probability</th></tr>\n",
       "<tr><td>27093785141</td><td>1195503</td><td>1</td><td>366.23</td><td>a8514aae-18fb-454...</td><td>2021-11-17</td><td>WA</td><td>6935</td><td>Female</td><td>Placerat Orci Ins...</td><td>stationery, offic...</td><td>c</td><td>2.73</td><td>retail_and_wholes...</td><td>others_retailing</td><td>0.29407407407407304</td><td>0.1</td><td>10636</td><td>5795.0</td><td>62144.0</td><td>3.60125906E8</td><td>52618.0</td><td>41.0</td><td>0.029407407407407306</td></tr>\n",
       "<tr><td>49125619545</td><td>1195503</td><td>1</td><td>113.59</td><td>8dce56c3-1138-45b...</td><td>2022-06-28</td><td>WA</td><td>6935</td><td>Female</td><td>Adipiscing Elit C...</td><td>cable, satellite,...</td><td>a</td><td>5.66</td><td>info_media_and_te...</td><td>null</td><td>null</td><td>0.1</td><td>10636</td><td>5795.0</td><td>62144.0</td><td>3.60125906E8</td><td>52618.0</td><td>41.0</td><td>null</td></tr>\n",
       "<tr><td>28510201393</td><td>1195503</td><td>1</td><td>587.4</td><td>32fcbb45-ae51-42f...</td><td>2021-09-24</td><td>WA</td><td>6935</td><td>Female</td><td>Quam Curabitur Co...</td><td>bicycle shops - s...</td><td>c</td><td>1.86</td><td>retail_and_wholes...</td><td>department_stores</td><td>null</td><td>0.1</td><td>10636</td><td>5795.0</td><td>62144.0</td><td>3.60125906E8</td><td>52618.0</td><td>41.0</td><td>null</td></tr>\n",
       "<tr><td>49167531725</td><td>1195503</td><td>1</td><td>51.58</td><td>7080c274-17f7-4cc...</td><td>2021-11-26</td><td>WA</td><td>6935</td><td>Female</td><td>Felis Institute</td><td>digital goods: bo...</td><td>a</td><td>6.42</td><td>retail_and_wholes...</td><td>household_goods_r...</td><td>null</td><td>0.1</td><td>10636</td><td>5795.0</td><td>62144.0</td><td>3.60125906E8</td><td>52618.0</td><td>41.0</td><td>null</td></tr>\n",
       "<tr><td>43719937438</td><td>1195503</td><td>1</td><td>196.41</td><td>7f2a0fc6-6255-4f5...</td><td>2022-05-22</td><td>WA</td><td>6935</td><td>Female</td><td>Class Aptent Taci...</td><td>cable, satellite,...</td><td>b</td><td>5.01</td><td>info_media_and_te...</td><td>null</td><td>null</td><td>0.1</td><td>10636</td><td>5795.0</td><td>62144.0</td><td>3.60125906E8</td><td>52618.0</td><td>41.0</td><td>null</td></tr>\n",
       "<tr><td>49278214714</td><td>1195503</td><td>1</td><td>7.84</td><td>624a43e1-e583-47e...</td><td>2022-08-10</td><td>WA</td><td>6935</td><td>Female</td><td>Augue Malesuada LLP</td><td>digital goods: bo...</td><td>a</td><td>5.99</td><td>retail_and_wholes...</td><td>household_goods_r...</td><td>null</td><td>0.1</td><td>10636</td><td>5795.0</td><td>62144.0</td><td>3.60125906E8</td><td>52618.0</td><td>41.0</td><td>null</td></tr>\n",
       "<tr><td>46007761675</td><td>1195503</td><td>1</td><td>100.22</td><td>036e4012-7e3b-4cf...</td><td>2022-10-24</td><td>WA</td><td>6935</td><td>Female</td><td>Est Nunc Ullamcor...</td><td>computers, comput...</td><td>a</td><td>5.72</td><td>retail_and_wholes...</td><td>household_goods_r...</td><td>null</td><td>0.1</td><td>10636</td><td>5795.0</td><td>62144.0</td><td>3.60125906E8</td><td>52618.0</td><td>41.0</td><td>null</td></tr>\n",
       "<tr><td>50315283629</td><td>1195503</td><td>1</td><td>115.82</td><td>15aa1064-944f-4e5...</td><td>2021-11-13</td><td>WA</td><td>6935</td><td>Female</td><td>Iaculis Aliquet D...</td><td>lawn and garden s...</td><td>c</td><td>1.76</td><td>retail_and_wholes...</td><td>food_retailing</td><td>0.28488372093023295</td><td>0.1</td><td>10636</td><td>5795.0</td><td>62144.0</td><td>3.60125906E8</td><td>52618.0</td><td>41.0</td><td>0.028488372093023295</td></tr>\n",
       "<tr><td>46654841462</td><td>1195503</td><td>1</td><td>18.5</td><td>b661e2cb-0796-444...</td><td>2022-09-03</td><td>WA</td><td>6935</td><td>Female</td><td>Iaculis Enim Corp.</td><td>equipment, tool, ...</td><td>b</td><td>3.81</td><td>rental_hiring_and...</td><td>null</td><td>null</td><td>0.1</td><td>10636</td><td>5795.0</td><td>62144.0</td><td>3.60125906E8</td><td>52618.0</td><td>41.0</td><td>null</td></tr>\n",
       "<tr><td>50315283629</td><td>1195503</td><td>1</td><td>63.88</td><td>c4e1da7a-39b5-49d...</td><td>2022-10-13</td><td>WA</td><td>6935</td><td>Female</td><td>Iaculis Aliquet D...</td><td>lawn and garden s...</td><td>c</td><td>1.76</td><td>retail_and_wholes...</td><td>food_retailing</td><td>0.28488372093023295</td><td>0.1</td><td>10636</td><td>5795.0</td><td>62144.0</td><td>3.60125906E8</td><td>52618.0</td><td>41.0</td><td>0.028488372093023295</td></tr>\n",
       "</table>\n"
      ],
      "text/plain": [
       "+------------+-----------+-------+------------+--------------------+--------------+-----+--------+------+--------------------+--------------------+-------+----+--------------------+--------------------+--------------------------+----------------------+------------------------------------+---------------------------+-------------------------+------------------------+---------------------------+---------------------------+--------------------+\n",
       "|merchant_abn|consumer_id|user_id|dollar_value|            order_id|order_datetime|state|postcode|gender|       merchant_name|                 tag|revenue|rate|            category|         subcategory|merchant_fraud_probability|user_fraud_probability|estimated_region_population_2021_sum|persons_earners_2018-19_sum|mean_earnings_2018-19_avg|sum_earnings_2018-19_sum|median_earnings_2018-19_avg|med_age_earners_2018-19_avg|   fraud_probability|\n",
       "+------------+-----------+-------+------------+--------------------+--------------+-----+--------+------+--------------------+--------------------+-------+----+--------------------+--------------------+--------------------------+----------------------+------------------------------------+---------------------------+-------------------------+------------------------+---------------------------+---------------------------+--------------------+\n",
       "| 27093785141|    1195503|      1|      366.23|a8514aae-18fb-454...|    2021-11-17|   WA|    6935|Female|Placerat Orci Ins...|stationery, offic...|      c|2.73|retail_and_wholes...|    others_retailing|       0.29407407407407304|                   0.1|                               10636|                     5795.0|                  62144.0|            3.60125906E8|                    52618.0|                       41.0|0.029407407407407306|\n",
       "| 49125619545|    1195503|      1|      113.59|8dce56c3-1138-45b...|    2022-06-28|   WA|    6935|Female|Adipiscing Elit C...|cable, satellite,...|      a|5.66|info_media_and_te...|                null|                      null|                   0.1|                               10636|                     5795.0|                  62144.0|            3.60125906E8|                    52618.0|                       41.0|                null|\n",
       "| 28510201393|    1195503|      1|       587.4|32fcbb45-ae51-42f...|    2021-09-24|   WA|    6935|Female|Quam Curabitur Co...|bicycle shops - s...|      c|1.86|retail_and_wholes...|   department_stores|                      null|                   0.1|                               10636|                     5795.0|                  62144.0|            3.60125906E8|                    52618.0|                       41.0|                null|\n",
       "| 49167531725|    1195503|      1|       51.58|7080c274-17f7-4cc...|    2021-11-26|   WA|    6935|Female|     Felis Institute|digital goods: bo...|      a|6.42|retail_and_wholes...|household_goods_r...|                      null|                   0.1|                               10636|                     5795.0|                  62144.0|            3.60125906E8|                    52618.0|                       41.0|                null|\n",
       "| 43719937438|    1195503|      1|      196.41|7f2a0fc6-6255-4f5...|    2022-05-22|   WA|    6935|Female|Class Aptent Taci...|cable, satellite,...|      b|5.01|info_media_and_te...|                null|                      null|                   0.1|                               10636|                     5795.0|                  62144.0|            3.60125906E8|                    52618.0|                       41.0|                null|\n",
       "| 49278214714|    1195503|      1|        7.84|624a43e1-e583-47e...|    2022-08-10|   WA|    6935|Female| Augue Malesuada LLP|digital goods: bo...|      a|5.99|retail_and_wholes...|household_goods_r...|                      null|                   0.1|                               10636|                     5795.0|                  62144.0|            3.60125906E8|                    52618.0|                       41.0|                null|\n",
       "| 46007761675|    1195503|      1|      100.22|036e4012-7e3b-4cf...|    2022-10-24|   WA|    6935|Female|Est Nunc Ullamcor...|computers, comput...|      a|5.72|retail_and_wholes...|household_goods_r...|                      null|                   0.1|                               10636|                     5795.0|                  62144.0|            3.60125906E8|                    52618.0|                       41.0|                null|\n",
       "| 50315283629|    1195503|      1|      115.82|15aa1064-944f-4e5...|    2021-11-13|   WA|    6935|Female|Iaculis Aliquet D...|lawn and garden s...|      c|1.76|retail_and_wholes...|      food_retailing|       0.28488372093023295|                   0.1|                               10636|                     5795.0|                  62144.0|            3.60125906E8|                    52618.0|                       41.0|0.028488372093023295|\n",
       "| 46654841462|    1195503|      1|        18.5|b661e2cb-0796-444...|    2022-09-03|   WA|    6935|Female|  Iaculis Enim Corp.|equipment, tool, ...|      b|3.81|rental_hiring_and...|                null|                      null|                   0.1|                               10636|                     5795.0|                  62144.0|            3.60125906E8|                    52618.0|                       41.0|                null|\n",
       "| 50315283629|    1195503|      1|       63.88|c4e1da7a-39b5-49d...|    2022-10-13|   WA|    6935|Female|Iaculis Aliquet D...|lawn and garden s...|      c|1.76|retail_and_wholes...|      food_retailing|       0.28488372093023295|                   0.1|                               10636|                     5795.0|                  62144.0|            3.60125906E8|                    52618.0|                       41.0|0.028488372093023295|\n",
       "+------------+-----------+-------+------------+--------------------+--------------+-----+--------+------+--------------------+--------------------+-------+----+--------------------+--------------------+--------------------------+----------------------+------------------------------------+---------------------------+-------------------------+------------------------+---------------------------+---------------------------+--------------------+"
      ]
     },
     "execution_count": 23,
     "metadata": {},
     "output_type": "execute_result"
    }
   ],
   "source": [
    "sdf = spark.read.parquet(p('process_data.parquet', 'curated'), header=True)\n",
    "\n",
    "# Create Joint Probability of Fraud Transactions\n",
    "sdf = sdf.withColumn('fraud_probability', F.col('user_fraud_probability') * F.col('merchant_fraud_probability'))\n",
    "sdf.limit(10)"
   ]
  },
  {
   "cell_type": "code",
   "execution_count": 24,
   "metadata": {},
   "outputs": [
    {
     "name": "stdout",
     "output_type": "stream",
     "text": [
      "missing user_fraud_probability count: 2581301\n",
      "missing merchant_fraud_probability count: 13030611\n"
     ]
    }
   ],
   "source": [
    "print('missing user_fraud_probability count:', sdf.where(F.col('user_fraud_probability').isNull()).count())\n",
    "print('missing merchant_fraud_probability count:', sdf.where(F.col('merchant_fraud_probability').isNull()).count())"
   ]
  },
  {
   "cell_type": "code",
   "execution_count": 25,
   "metadata": {},
   "outputs": [
    {
     "data": {
      "text/plain": [
       "array([[<AxesSubplot:title={'center':'user_fraud_probability'}>]],\n",
       "      dtype=object)"
      ]
     },
     "execution_count": 25,
     "metadata": {},
     "output_type": "execute_result"
    },
    {
     "data": {
      "image/png": "[encoded data removed]",
      "text/plain": [
       "<Figure size 432x288 with 1 Axes>"
      ]
     },
     "metadata": {
      "needs_background": "light"
     },
     "output_type": "display_data"
    }
   ],
   "source": [
    "sdf.select(F.col('user_fraud_probability')).sample(0.1).toPandas().hist()"
   ]
  },
  {
   "cell_type": "code",
   "execution_count": 26,
   "metadata": {},
   "outputs": [
    {
     "data": {
      "text/plain": [
       "array([[<AxesSubplot:title={'center':'merchant_fraud_probability'}>]],\n",
       "      dtype=object)"
      ]
     },
     "execution_count": 26,
     "metadata": {},
     "output_type": "execute_result"
    },
    {
     "data": {
      "image/png": "[encoded data removed]",
      "text/plain": [
       "<Figure size 432x288 with 1 Axes>"
      ]
     },
     "metadata": {
      "needs_background": "light"
     },
     "output_type": "display_data"
    }
   ],
   "source": [
    "sdf.select(F.col('merchant_fraud_probability')).sample(0.1).toPandas().hist()"
   ]
  },
  {
   "cell_type": "code",
   "execution_count": 27,
   "metadata": {},
   "outputs": [
    {
     "data": {
      "text/plain": [
       "array([[<AxesSubplot:title={'center':'fraud_probability'}>]], dtype=object)"
      ]
     },
     "execution_count": 27,
     "metadata": {},
     "output_type": "execute_result"
    },
    {
     "data": {
      "image/png": "[encoded data removed]",
      "text/plain": [
       "<Figure size 432x288 with 1 Axes>"
      ]
     },
     "metadata": {
      "needs_background": "light"
     },
     "output_type": "display_data"
    }
   ],
   "source": [
    "sdf.select(F.col('fraud_probability')).sample(0.1).toPandas().hist()"
   ]
  },
  {
   "cell_type": "code",
   "execution_count": 28,
   "metadata": {},
   "outputs": [
    {
     "data": {
      "text/plain": [
       "<AxesSubplot:ylabel='Frequency'>"
      ]
     },
     "execution_count": 28,
     "metadata": {},
     "output_type": "execute_result"
    },
    {
     "data": {
      "image/png": "[encoded data removed]",
      "text/plain": [
       "<Figure size 432x288 with 1 Axes>"
      ]
     },
     "metadata": {
      "needs_background": "light"
     },
     "output_type": "display_data"
    },
    {
     "data": {
      "image/png": "[encoded data removed]",
      "text/plain": [
       "<Figure size 432x288 with 1 Axes>"
      ]
     },
     "metadata": {
      "needs_background": "light"
     },
     "output_type": "display_data"
    }
   ],
   "source": [
    "from math import log\n",
    "\n",
    "sdf.select(F.col('fraud_probability')).sample(0.1).toPandas().plot(kind='hist')\n",
    "sdf.select(F.col('fraud_probability')).sample(0.1).toPandas()\\\n",
    "    .applymap(log)\\\n",
    "    .rename({'fraud_probability': 'log-fraud_probability'}, axis=1)\\\n",
    "    .plot(kind='hist')"
   ]
  },
  {
   "cell_type": "markdown",
   "metadata": {},
   "source": [
    "### 2. Modelling\n",
    "We will use a specific predictors to help train the fraud detector."
   ]
  },
  {
   "cell_type": "code",
   "execution_count": 29,
   "metadata": {},
   "outputs": [],
   "source": [
    "from pyspark.ml.classification import LogisticRegression\n",
    "from pyspark.ml.feature import VectorAssembler, StringIndexer"
   ]
  },
  {
   "cell_type": "code",
   "execution_count": 30,
   "metadata": {},
   "outputs": [],
   "source": [
    "features = ['merchant_abn',\n",
    "    'user_id',\n",
    "    'dollar_value',\n",
    "    'postcode',\n",
    "    'gender',\n",
    "    'tag',\n",
    "    'revenue',\n",
    "    'rate',\n",
    "    'category',\n",
    "    'subcategory',\n",
    "    'merchant_fraud_probability',\n",
    "    'user_fraud_probability',\n",
    "    'estimated_region_population_2021_sum',\n",
    "    'persons_earners_2018-19_sum',\n",
    "    'mean_earnings_2018-19_avg',\n",
    "    'sum_earnings_2018-19_sum',\n",
    "    'median_earnings_2018-19_avg',\n",
    "    'med_age_earners_2018-19_avg']\n",
    "\n",
    "label = 'fraud_probability'"
   ]
  },
  {
   "cell_type": "code",
   "execution_count": 31,
   "metadata": {},
   "outputs": [
    {
     "name": "stderr",
     "output_type": "stream",
     "text": [
      "                                                                                \r"
     ]
    },
    {
     "name": "stdout",
     "output_type": "stream",
     "text": [
      "22/09/25 17:30:23 WARN DAGScheduler: Broadcasting large task binary with size 1007.6 KiB\n"
     ]
    },
    {
     "name": "stderr",
     "output_type": "stream",
     "text": [
      "[Stage 118:==================================================>    (12 + 1) / 13]\r"
     ]
    },
    {
     "name": "stdout",
     "output_type": "stream",
     "text": [
      "22/09/25 17:30:25 WARN DAGScheduler: Broadcasting large task binary with size 1001.5 KiB\n",
      "22/09/25 17:30:25 WARN DAGScheduler: Broadcasting large task binary with size 1011.9 KiB\n"
     ]
    },
    {
     "name": "stderr",
     "output_type": "stream",
     "text": [
      "[Stage 121:==================================================>    (12 + 1) / 13]\r"
     ]
    },
    {
     "name": "stdout",
     "output_type": "stream",
     "text": [
      "22/09/25 17:30:28 WARN DAGScheduler: Broadcasting large task binary with size 1004.6 KiB\n",
      "22/09/25 17:30:28 WARN DAGScheduler: Broadcasting large task binary with size 1016.2 KiB\n"
     ]
    },
    {
     "name": "stderr",
     "output_type": "stream",
     "text": [
      "[Stage 124:==================================================>    (12 + 1) / 13]\r"
     ]
    },
    {
     "name": "stdout",
     "output_type": "stream",
     "text": [
      "22/09/25 17:30:31 WARN DAGScheduler: Broadcasting large task binary with size 1007.8 KiB\n"
     ]
    },
    {
     "name": "stderr",
     "output_type": "stream",
     "text": [
      "                                                                                \r"
     ]
    },
    {
     "name": "stdout",
     "output_type": "stream",
     "text": [
      "22/09/25 17:30:32 WARN DAGScheduler: Broadcasting large task binary with size 1022.0 KiB\n"
     ]
    },
    {
     "name": "stderr",
     "output_type": "stream",
     "text": [
      "[Stage 127:==================================================>    (12 + 1) / 13]\r"
     ]
    },
    {
     "name": "stdout",
     "output_type": "stream",
     "text": [
      "22/09/25 17:30:35 WARN DAGScheduler: Broadcasting large task binary with size 1012.4 KiB\n",
      "22/09/25 17:30:35 WARN DAGScheduler: Broadcasting large task binary with size 1026.4 KiB\n"
     ]
    },
    {
     "name": "stderr",
     "output_type": "stream",
     "text": [
      "[Stage 130:==================================================>    (12 + 1) / 13]\r"
     ]
    },
    {
     "name": "stdout",
     "output_type": "stream",
     "text": [
      "22/09/25 17:30:39 WARN DAGScheduler: Broadcasting large task binary with size 1015.7 KiB\n"
     ]
    },
    {
     "name": "stderr",
     "output_type": "stream",
     "text": [
      "                                                                                \r"
     ]
    }
   ],
   "source": [
    "categorical = ['postcode', 'state', 'merchant_abn', 'user_id', 'revenue', 'gender', 'tag', 'category', 'subcategory']\n",
    "\n",
    "for c in categorical:\n",
    "    v = StringIndexer(inputCol=c, outputCol=f'{c}_i', handleInvalid='skip')\n",
    "    model = v.fit(sdf)\n",
    "    sdf = model.transform(sdf).drop(c).withColumnRenamed(f'{c}_i', c)\n"
   ]
  },
  {
   "cell_type": "code",
   "execution_count": 32,
   "metadata": {},
   "outputs": [],
   "source": [
    "features_model = VectorAssembler(inputCols=features, outputCol='features', handleInvalid='skip')\n",
    "sdf = features_model.transform(sdf)"
   ]
  },
  {
   "cell_type": "code",
   "execution_count": 33,
   "metadata": {},
   "outputs": [
    {
     "name": "stdout",
     "output_type": "stream",
     "text": [
      "22/09/25 17:30:40 WARN DAGScheduler: Broadcasting large task binary with size 1223.6 KiB\n",
      "22/09/25 17:30:40 WARN DAGScheduler: Broadcasting large task binary with size 1223.6 KiB\n"
     ]
    },
    {
     "data": {
      "text/html": [
       "<table border='1'>\n",
       "<tr><th>consumer_id</th><th>dollar_value</th><th>order_id</th><th>order_datetime</th><th>merchant_name</th><th>rate</th><th>merchant_fraud_probability</th><th>user_fraud_probability</th><th>estimated_region_population_2021_sum</th><th>persons_earners_2018-19_sum</th><th>mean_earnings_2018-19_avg</th><th>sum_earnings_2018-19_sum</th><th>median_earnings_2018-19_avg</th><th>med_age_earners_2018-19_avg</th><th>fraud_probability</th><th>postcode</th><th>state</th><th>merchant_abn</th><th>user_id</th><th>revenue</th><th>gender</th><th>tag</th><th>category</th><th>subcategory</th><th>features</th><th>label</th></tr>\n",
       "<tr><td>1195503</td><td>366.23</td><td>a8514aae-18fb-454...</td><td>2021-11-17</td><td>Placerat Orci Ins...</td><td>2.73</td><td>0.29407407407407304</td><td>0.1</td><td>10636</td><td>5795.0</td><td>62144.0</td><td>3.60125906E8</td><td>52618.0</td><td>41.0</td><td>0.029407407407407306</td><td>169.0</td><td>2.0</td><td>87.0</td><td>20960.0</td><td>2.0</td><td>1.0</td><td>20.0</td><td>0.0</td><td>2.0</td><td>[87.0,20960.0,366...</td><td>0</td></tr>\n",
       "<tr><td>1195503</td><td>115.82</td><td>15aa1064-944f-4e5...</td><td>2021-11-13</td><td>Iaculis Aliquet D...</td><td>1.76</td><td>0.28488372093023295</td><td>0.1</td><td>10636</td><td>5795.0</td><td>62144.0</td><td>3.60125906E8</td><td>52618.0</td><td>41.0</td><td>0.028488372093023295</td><td>169.0</td><td>2.0</td><td>67.0</td><td>20960.0</td><td>2.0</td><td>1.0</td><td>13.0</td><td>0.0</td><td>4.0</td><td>[67.0,20960.0,115...</td><td>0</td></tr>\n",
       "<tr><td>1195503</td><td>63.88</td><td>c4e1da7a-39b5-49d...</td><td>2022-10-13</td><td>Iaculis Aliquet D...</td><td>1.76</td><td>0.28488372093023295</td><td>0.1</td><td>10636</td><td>5795.0</td><td>62144.0</td><td>3.60125906E8</td><td>52618.0</td><td>41.0</td><td>0.028488372093023295</td><td>169.0</td><td>2.0</td><td>67.0</td><td>20960.0</td><td>2.0</td><td>1.0</td><td>13.0</td><td>0.0</td><td>4.0</td><td>[67.0,20960.0,63....</td><td>0</td></tr>\n",
       "<tr><td>1195503</td><td>811.42</td><td>a43c190e-2cce-431...</td><td>2022-02-24</td><td>Diam Eu Dolor LLC</td><td>4.1</td><td>0.30671428571428505</td><td>0.1</td><td>10636</td><td>5795.0</td><td>62144.0</td><td>3.60125906E8</td><td>52618.0</td><td>41.0</td><td>0.030671428571428506</td><td>169.0</td><td>2.0</td><td>275.0</td><td>20960.0</td><td>1.0</td><td>1.0</td><td>0.0</td><td>0.0</td><td>0.0</td><td>[275.0,20960.0,81...</td><td>0</td></tr>\n",
       "<tr><td>1195503</td><td>99.75</td><td>bd6a0f3b-3eb7-494...</td><td>2022-05-09</td><td>Dictum Phasellus ...</td><td>5.65</td><td>0.3100000000000016</td><td>0.1</td><td>10636</td><td>5795.0</td><td>62144.0</td><td>3.60125906E8</td><td>52618.0</td><td>41.0</td><td>0.031000000000000163</td><td>169.0</td><td>2.0</td><td>15.0</td><td>20960.0</td><td>0.0</td><td>1.0</td><td>1.0</td><td>0.0</td><td>0.0</td><td>[15.0,20960.0,99....</td><td>0</td></tr>\n",
       "<tr><td>1195503</td><td>123.96</td><td>43d9d3b7-2643-4a9...</td><td>2021-09-26</td><td>Dictum Phasellus ...</td><td>5.65</td><td>0.3100000000000016</td><td>0.1</td><td>10636</td><td>5795.0</td><td>62144.0</td><td>3.60125906E8</td><td>52618.0</td><td>41.0</td><td>0.031000000000000163</td><td>169.0</td><td>2.0</td><td>15.0</td><td>20960.0</td><td>0.0</td><td>1.0</td><td>1.0</td><td>0.0</td><td>0.0</td><td>[15.0,20960.0,123...</td><td>0</td></tr>\n",
       "<tr><td>1195503</td><td>78.66</td><td>40267701-a76c-46f...</td><td>2022-06-08</td><td>Dictum Phasellus ...</td><td>5.65</td><td>0.3100000000000016</td><td>0.1</td><td>10636</td><td>5795.0</td><td>62144.0</td><td>3.60125906E8</td><td>52618.0</td><td>41.0</td><td>0.031000000000000163</td><td>169.0</td><td>2.0</td><td>15.0</td><td>20960.0</td><td>0.0</td><td>1.0</td><td>1.0</td><td>0.0</td><td>0.0</td><td>[15.0,20960.0,78....</td><td>0</td></tr>\n",
       "<tr><td>1195503</td><td>227.45</td><td>10f2882e-d871-407...</td><td>2021-05-23</td><td>Dictum Phasellus ...</td><td>5.65</td><td>0.3100000000000016</td><td>0.1</td><td>10636</td><td>5795.0</td><td>62144.0</td><td>3.60125906E8</td><td>52618.0</td><td>41.0</td><td>0.031000000000000163</td><td>169.0</td><td>2.0</td><td>15.0</td><td>20960.0</td><td>0.0</td><td>1.0</td><td>1.0</td><td>0.0</td><td>0.0</td><td>[15.0,20960.0,227...</td><td>0</td></tr>\n",
       "<tr><td>1195503</td><td>173.33</td><td>1d0805b4-d4ca-451...</td><td>2022-10-15</td><td>Dictum Phasellus ...</td><td>5.65</td><td>0.3100000000000016</td><td>0.1</td><td>10636</td><td>5795.0</td><td>62144.0</td><td>3.60125906E8</td><td>52618.0</td><td>41.0</td><td>0.031000000000000163</td><td>169.0</td><td>2.0</td><td>15.0</td><td>20960.0</td><td>0.0</td><td>1.0</td><td>1.0</td><td>0.0</td><td>0.0</td><td>[15.0,20960.0,173...</td><td>0</td></tr>\n",
       "<tr><td>1195503</td><td>44.53</td><td>2b537e37-66e9-4d3...</td><td>2022-02-06</td><td>Phasellus At Limited</td><td>4.65</td><td>0.2999999999999989</td><td>0.1</td><td>10636</td><td>5795.0</td><td>62144.0</td><td>3.60125906E8</td><td>52618.0</td><td>41.0</td><td>0.029999999999999888</td><td>169.0</td><td>2.0</td><td>38.0</td><td>20960.0</td><td>1.0</td><td>1.0</td><td>9.0</td><td>0.0</td><td>1.0</td><td>[38.0,20960.0,44....</td><td>0</td></tr>\n",
       "<tr><td>1195503</td><td>514.46</td><td>eb47c4e5-d4d4-439...</td><td>2021-10-17</td><td>Phasellus At Limited</td><td>4.65</td><td>0.2999999999999989</td><td>0.1</td><td>10636</td><td>5795.0</td><td>62144.0</td><td>3.60125906E8</td><td>52618.0</td><td>41.0</td><td>0.029999999999999888</td><td>169.0</td><td>2.0</td><td>38.0</td><td>20960.0</td><td>1.0</td><td>1.0</td><td>9.0</td><td>0.0</td><td>1.0</td><td>[38.0,20960.0,514...</td><td>0</td></tr>\n",
       "<tr><td>1195503</td><td>301.68</td><td>5b6c059c-6831-471...</td><td>2021-03-02</td><td>Ornare Limited</td><td>5.91</td><td>0.29999999999999954</td><td>0.1</td><td>10636</td><td>5795.0</td><td>62144.0</td><td>3.60125906E8</td><td>52618.0</td><td>41.0</td><td>0.029999999999999957</td><td>169.0</td><td>2.0</td><td>63.0</td><td>20960.0</td><td>0.0</td><td>1.0</td><td>15.0</td><td>0.0</td><td>2.0</td><td>[63.0,20960.0,301...</td><td>0</td></tr>\n",
       "<tr><td>1195503</td><td>140.21</td><td>61bf6859-1b10-4f0...</td><td>2021-04-16</td><td>Ornare Limited</td><td>5.91</td><td>0.29999999999999954</td><td>0.1</td><td>10636</td><td>5795.0</td><td>62144.0</td><td>3.60125906E8</td><td>52618.0</td><td>41.0</td><td>0.029999999999999957</td><td>169.0</td><td>2.0</td><td>63.0</td><td>20960.0</td><td>0.0</td><td>1.0</td><td>15.0</td><td>0.0</td><td>2.0</td><td>[63.0,20960.0,140...</td><td>0</td></tr>\n",
       "<tr><td>1195503</td><td>677.35</td><td>04045910-2ef6-4f4...</td><td>2021-04-29</td><td>Ornare Limited</td><td>5.91</td><td>0.29999999999999954</td><td>0.1</td><td>10636</td><td>5795.0</td><td>62144.0</td><td>3.60125906E8</td><td>52618.0</td><td>41.0</td><td>0.029999999999999957</td><td>169.0</td><td>2.0</td><td>63.0</td><td>20960.0</td><td>0.0</td><td>1.0</td><td>15.0</td><td>0.0</td><td>2.0</td><td>[63.0,20960.0,677...</td><td>0</td></tr>\n",
       "<tr><td>1195503</td><td>356.32</td><td>3d2f427f-1878-453...</td><td>2021-06-18</td><td>Arcu Morbi Institute</td><td>1.47</td><td>0.2899999999999994</td><td>0.1</td><td>10636</td><td>5795.0</td><td>62144.0</td><td>3.60125906E8</td><td>52618.0</td><td>41.0</td><td>0.028999999999999942</td><td>169.0</td><td>2.0</td><td>107.0</td><td>20960.0</td><td>2.0</td><td>1.0</td><td>10.0</td><td>0.0</td><td>0.0</td><td>[107.0,20960.0,35...</td><td>0</td></tr>\n",
       "<tr><td>1195503</td><td>409.08</td><td>6192794e-80e9-49c...</td><td>2022-04-27</td><td>Arcu Morbi Institute</td><td>1.47</td><td>0.2899999999999994</td><td>0.1</td><td>10636</td><td>5795.0</td><td>62144.0</td><td>3.60125906E8</td><td>52618.0</td><td>41.0</td><td>0.028999999999999942</td><td>169.0</td><td>2.0</td><td>107.0</td><td>20960.0</td><td>2.0</td><td>1.0</td><td>10.0</td><td>0.0</td><td>0.0</td><td>[107.0,20960.0,40...</td><td>0</td></tr>\n",
       "<tr><td>1195503</td><td>663.06</td><td>b5cbd28d-b176-4fa...</td><td>2021-08-11</td><td>Arcu Morbi Institute</td><td>1.47</td><td>0.2899999999999994</td><td>0.1</td><td>10636</td><td>5795.0</td><td>62144.0</td><td>3.60125906E8</td><td>52618.0</td><td>41.0</td><td>0.028999999999999942</td><td>169.0</td><td>2.0</td><td>107.0</td><td>20960.0</td><td>2.0</td><td>1.0</td><td>10.0</td><td>0.0</td><td>0.0</td><td>[107.0,20960.0,66...</td><td>0</td></tr>\n",
       "<tr><td>1195503</td><td>265.4</td><td>b4073bbc-5213-46e...</td><td>2021-08-11</td><td>Dignissim Maecena...</td><td>6.64</td><td>0.28347239263803686</td><td>0.1</td><td>10636</td><td>5795.0</td><td>62144.0</td><td>3.60125906E8</td><td>52618.0</td><td>41.0</td><td>0.028347239263803687</td><td>169.0</td><td>2.0</td><td>23.0</td><td>20960.0</td><td>0.0</td><td>1.0</td><td>6.0</td><td>0.0</td><td>2.0</td><td>[23.0,20960.0,265...</td><td>0</td></tr>\n",
       "<tr><td>712975</td><td>197.99</td><td>c61025aa-f92c-483...</td><td>2022-05-01</td><td>Placerat Orci Ins...</td><td>2.73</td><td>0.29407407407407304</td><td>0.16599999999999998</td><td>4293</td><td>2976.0</td><td>75131.0</td><td>2.2358944E8</td><td>58036.0</td><td>46.0</td><td>0.04881629629629612</td><td>1167.0</td><td>2.0</td><td>87.0</td><td>1000.0</td><td>2.0</td><td>1.0</td><td>20.0</td><td>0.0</td><td>2.0</td><td>[87.0,1000.0,197....</td><td>0</td></tr>\n",
       "<tr><td>712975</td><td>63.67</td><td>13738333-519e-424...</td><td>2021-11-16</td><td>Dictum Phasellus ...</td><td>5.65</td><td>0.3100000000000016</td><td>0.16599999999999998</td><td>4293</td><td>2976.0</td><td>75131.0</td><td>2.2358944E8</td><td>58036.0</td><td>46.0</td><td>0.05146000000000026</td><td>1167.0</td><td>2.0</td><td>15.0</td><td>1000.0</td><td>0.0</td><td>1.0</td><td>1.0</td><td>0.0</td><td>0.0</td><td>[15.0,1000.0,63.6...</td><td>0</td></tr>\n",
       "</table>\n",
       "only showing top 20 rows\n"
      ],
      "text/plain": [
       "+-----------+------------+--------------------+--------------+--------------------+----+--------------------------+----------------------+------------------------------------+---------------------------+-------------------------+------------------------+---------------------------+---------------------------+--------------------+--------+-----+------------+-------+-------+------+----+--------+-----------+--------------------+-----+\n",
       "|consumer_id|dollar_value|            order_id|order_datetime|       merchant_name|rate|merchant_fraud_probability|user_fraud_probability|estimated_region_population_2021_sum|persons_earners_2018-19_sum|mean_earnings_2018-19_avg|sum_earnings_2018-19_sum|median_earnings_2018-19_avg|med_age_earners_2018-19_avg|   fraud_probability|postcode|state|merchant_abn|user_id|revenue|gender| tag|category|subcategory|            features|label|\n",
       "+-----------+------------+--------------------+--------------+--------------------+----+--------------------------+----------------------+------------------------------------+---------------------------+-------------------------+------------------------+---------------------------+---------------------------+--------------------+--------+-----+------------+-------+-------+------+----+--------+-----------+--------------------+-----+\n",
       "|    1195503|      366.23|a8514aae-18fb-454...|    2021-11-17|Placerat Orci Ins...|2.73|       0.29407407407407304|                   0.1|                               10636|                     5795.0|                  62144.0|            3.60125906E8|                    52618.0|                       41.0|0.029407407407407306|   169.0|  2.0|        87.0|20960.0|    2.0|   1.0|20.0|     0.0|        2.0|[87.0,20960.0,366...|    0|\n",
       "|    1195503|      115.82|15aa1064-944f-4e5...|    2021-11-13|Iaculis Aliquet D...|1.76|       0.28488372093023295|                   0.1|                               10636|                     5795.0|                  62144.0|            3.60125906E8|                    52618.0|                       41.0|0.028488372093023295|   169.0|  2.0|        67.0|20960.0|    2.0|   1.0|13.0|     0.0|        4.0|[67.0,20960.0,115...|    0|\n",
       "|    1195503|       63.88|c4e1da7a-39b5-49d...|    2022-10-13|Iaculis Aliquet D...|1.76|       0.28488372093023295|                   0.1|                               10636|                     5795.0|                  62144.0|            3.60125906E8|                    52618.0|                       41.0|0.028488372093023295|   169.0|  2.0|        67.0|20960.0|    2.0|   1.0|13.0|     0.0|        4.0|[67.0,20960.0,63....|    0|\n",
       "|    1195503|      811.42|a43c190e-2cce-431...|    2022-02-24|   Diam Eu Dolor LLC| 4.1|       0.30671428571428505|                   0.1|                               10636|                     5795.0|                  62144.0|            3.60125906E8|                    52618.0|                       41.0|0.030671428571428506|   169.0|  2.0|       275.0|20960.0|    1.0|   1.0| 0.0|     0.0|        0.0|[275.0,20960.0,81...|    0|\n",
       "|    1195503|       99.75|bd6a0f3b-3eb7-494...|    2022-05-09|Dictum Phasellus ...|5.65|        0.3100000000000016|                   0.1|                               10636|                     5795.0|                  62144.0|            3.60125906E8|                    52618.0|                       41.0|0.031000000000000163|   169.0|  2.0|        15.0|20960.0|    0.0|   1.0| 1.0|     0.0|        0.0|[15.0,20960.0,99....|    0|\n",
       "|    1195503|      123.96|43d9d3b7-2643-4a9...|    2021-09-26|Dictum Phasellus ...|5.65|        0.3100000000000016|                   0.1|                               10636|                     5795.0|                  62144.0|            3.60125906E8|                    52618.0|                       41.0|0.031000000000000163|   169.0|  2.0|        15.0|20960.0|    0.0|   1.0| 1.0|     0.0|        0.0|[15.0,20960.0,123...|    0|\n",
       "|    1195503|       78.66|40267701-a76c-46f...|    2022-06-08|Dictum Phasellus ...|5.65|        0.3100000000000016|                   0.1|                               10636|                     5795.0|                  62144.0|            3.60125906E8|                    52618.0|                       41.0|0.031000000000000163|   169.0|  2.0|        15.0|20960.0|    0.0|   1.0| 1.0|     0.0|        0.0|[15.0,20960.0,78....|    0|\n",
       "|    1195503|      227.45|10f2882e-d871-407...|    2021-05-23|Dictum Phasellus ...|5.65|        0.3100000000000016|                   0.1|                               10636|                     5795.0|                  62144.0|            3.60125906E8|                    52618.0|                       41.0|0.031000000000000163|   169.0|  2.0|        15.0|20960.0|    0.0|   1.0| 1.0|     0.0|        0.0|[15.0,20960.0,227...|    0|\n",
       "|    1195503|      173.33|1d0805b4-d4ca-451...|    2022-10-15|Dictum Phasellus ...|5.65|        0.3100000000000016|                   0.1|                               10636|                     5795.0|                  62144.0|            3.60125906E8|                    52618.0|                       41.0|0.031000000000000163|   169.0|  2.0|        15.0|20960.0|    0.0|   1.0| 1.0|     0.0|        0.0|[15.0,20960.0,173...|    0|\n",
       "|    1195503|       44.53|2b537e37-66e9-4d3...|    2022-02-06|Phasellus At Limited|4.65|        0.2999999999999989|                   0.1|                               10636|                     5795.0|                  62144.0|            3.60125906E8|                    52618.0|                       41.0|0.029999999999999888|   169.0|  2.0|        38.0|20960.0|    1.0|   1.0| 9.0|     0.0|        1.0|[38.0,20960.0,44....|    0|\n",
       "|    1195503|      514.46|eb47c4e5-d4d4-439...|    2021-10-17|Phasellus At Limited|4.65|        0.2999999999999989|                   0.1|                               10636|                     5795.0|                  62144.0|            3.60125906E8|                    52618.0|                       41.0|0.029999999999999888|   169.0|  2.0|        38.0|20960.0|    1.0|   1.0| 9.0|     0.0|        1.0|[38.0,20960.0,514...|    0|\n",
       "|    1195503|      301.68|5b6c059c-6831-471...|    2021-03-02|      Ornare Limited|5.91|       0.29999999999999954|                   0.1|                               10636|                     5795.0|                  62144.0|            3.60125906E8|                    52618.0|                       41.0|0.029999999999999957|   169.0|  2.0|        63.0|20960.0|    0.0|   1.0|15.0|     0.0|        2.0|[63.0,20960.0,301...|    0|\n",
       "|    1195503|      140.21|61bf6859-1b10-4f0...|    2021-04-16|      Ornare Limited|5.91|       0.29999999999999954|                   0.1|                               10636|                     5795.0|                  62144.0|            3.60125906E8|                    52618.0|                       41.0|0.029999999999999957|   169.0|  2.0|        63.0|20960.0|    0.0|   1.0|15.0|     0.0|        2.0|[63.0,20960.0,140...|    0|\n",
       "|    1195503|      677.35|04045910-2ef6-4f4...|    2021-04-29|      Ornare Limited|5.91|       0.29999999999999954|                   0.1|                               10636|                     5795.0|                  62144.0|            3.60125906E8|                    52618.0|                       41.0|0.029999999999999957|   169.0|  2.0|        63.0|20960.0|    0.0|   1.0|15.0|     0.0|        2.0|[63.0,20960.0,677...|    0|\n",
       "|    1195503|      356.32|3d2f427f-1878-453...|    2021-06-18|Arcu Morbi Institute|1.47|        0.2899999999999994|                   0.1|                               10636|                     5795.0|                  62144.0|            3.60125906E8|                    52618.0|                       41.0|0.028999999999999942|   169.0|  2.0|       107.0|20960.0|    2.0|   1.0|10.0|     0.0|        0.0|[107.0,20960.0,35...|    0|\n",
       "|    1195503|      409.08|6192794e-80e9-49c...|    2022-04-27|Arcu Morbi Institute|1.47|        0.2899999999999994|                   0.1|                               10636|                     5795.0|                  62144.0|            3.60125906E8|                    52618.0|                       41.0|0.028999999999999942|   169.0|  2.0|       107.0|20960.0|    2.0|   1.0|10.0|     0.0|        0.0|[107.0,20960.0,40...|    0|\n",
       "|    1195503|      663.06|b5cbd28d-b176-4fa...|    2021-08-11|Arcu Morbi Institute|1.47|        0.2899999999999994|                   0.1|                               10636|                     5795.0|                  62144.0|            3.60125906E8|                    52618.0|                       41.0|0.028999999999999942|   169.0|  2.0|       107.0|20960.0|    2.0|   1.0|10.0|     0.0|        0.0|[107.0,20960.0,66...|    0|\n",
       "|    1195503|       265.4|b4073bbc-5213-46e...|    2021-08-11|Dignissim Maecena...|6.64|       0.28347239263803686|                   0.1|                               10636|                     5795.0|                  62144.0|            3.60125906E8|                    52618.0|                       41.0|0.028347239263803687|   169.0|  2.0|        23.0|20960.0|    0.0|   1.0| 6.0|     0.0|        2.0|[23.0,20960.0,265...|    0|\n",
       "|     712975|      197.99|c61025aa-f92c-483...|    2022-05-01|Placerat Orci Ins...|2.73|       0.29407407407407304|   0.16599999999999998|                                4293|                     2976.0|                  75131.0|             2.2358944E8|                    58036.0|                       46.0| 0.04881629629629612|  1167.0|  2.0|        87.0| 1000.0|    2.0|   1.0|20.0|     0.0|        2.0|[87.0,1000.0,197....|    0|\n",
       "|     712975|       63.67|13738333-519e-424...|    2021-11-16|Dictum Phasellus ...|5.65|        0.3100000000000016|   0.16599999999999998|                                4293|                     2976.0|                  75131.0|             2.2358944E8|                    58036.0|                       46.0| 0.05146000000000026|  1167.0|  2.0|        15.0| 1000.0|    0.0|   1.0| 1.0|     0.0|        0.0|[15.0,1000.0,63.6...|    0|\n",
       "+-----------+------------+--------------------+--------------+--------------------+----+--------------------------+----------------------+------------------------------------+---------------------------+-------------------------+------------------------+---------------------------+---------------------------+--------------------+--------+-----+------------+-------+-------+------+----+--------+-----------+--------------------+-----+\n",
       "only showing top 20 rows"
      ]
     },
     "execution_count": 33,
     "metadata": {},
     "output_type": "execute_result"
    }
   ],
   "source": [
    "sdf = sdf.withColumn('label', F.when(F.col('fraud_probability') > 0.25, 1).otherwise(0))\n",
    "sdf"
   ]
  },
  {
   "cell_type": "markdown",
   "metadata": {},
   "source": [
    "We will train the model on both label 1 and label 2"
   ]
  },
  {
   "cell_type": "code",
   "execution_count": 34,
   "metadata": {},
   "outputs": [
    {
     "name": "stdout",
     "output_type": "stream",
     "text": [
      "22/09/25 17:30:41 WARN DAGScheduler: Broadcasting large task binary with size 1231.7 KiB\n",
      "22/09/25 17:30:41 WARN DAGScheduler: Broadcasting large task binary with size 1231.7 KiB\n"
     ]
    },
    {
     "data": {
      "text/html": [
       "<table border='1'>\n",
       "<tr><th>consumer_id</th><th>dollar_value</th><th>order_id</th><th>order_datetime</th><th>merchant_name</th><th>rate</th><th>merchant_fraud_probability</th><th>user_fraud_probability</th><th>estimated_region_population_2021_sum</th><th>persons_earners_2018-19_sum</th><th>mean_earnings_2018-19_avg</th><th>sum_earnings_2018-19_sum</th><th>median_earnings_2018-19_avg</th><th>med_age_earners_2018-19_avg</th><th>fraud_probability</th><th>postcode</th><th>state</th><th>merchant_abn</th><th>user_id</th><th>revenue</th><th>gender</th><th>tag</th><th>category</th><th>subcategory</th><th>features</th><th>label</th></tr>\n",
       "<tr><td>1195503</td><td>366.23</td><td>a8514aae-18fb-454...</td><td>2021-11-17</td><td>Placerat Orci Ins...</td><td>2.73</td><td>0.29407407407407304</td><td>0.1</td><td>10636</td><td>5795.0</td><td>62144.0</td><td>3.60125906E8</td><td>52618.0</td><td>41.0</td><td>0.029407407407407306</td><td>169.0</td><td>2.0</td><td>87.0</td><td>20960.0</td><td>2.0</td><td>1.0</td><td>20.0</td><td>0.0</td><td>2.0</td><td>[87.0,20960.0,366...</td><td>0</td></tr>\n",
       "</table>\n"
      ],
      "text/plain": [
       "+-----------+------------+--------------------+--------------+--------------------+----+--------------------------+----------------------+------------------------------------+---------------------------+-------------------------+------------------------+---------------------------+---------------------------+--------------------+--------+-----+------------+-------+-------+------+----+--------+-----------+--------------------+-----+\n",
       "|consumer_id|dollar_value|            order_id|order_datetime|       merchant_name|rate|merchant_fraud_probability|user_fraud_probability|estimated_region_population_2021_sum|persons_earners_2018-19_sum|mean_earnings_2018-19_avg|sum_earnings_2018-19_sum|median_earnings_2018-19_avg|med_age_earners_2018-19_avg|   fraud_probability|postcode|state|merchant_abn|user_id|revenue|gender| tag|category|subcategory|            features|label|\n",
       "+-----------+------------+--------------------+--------------+--------------------+----+--------------------------+----------------------+------------------------------------+---------------------------+-------------------------+------------------------+---------------------------+---------------------------+--------------------+--------+-----+------------+-------+-------+------+----+--------+-----------+--------------------+-----+\n",
       "|    1195503|      366.23|a8514aae-18fb-454...|    2021-11-17|Placerat Orci Ins...|2.73|       0.29407407407407304|                   0.1|                               10636|                     5795.0|                  62144.0|            3.60125906E8|                    52618.0|                       41.0|0.029407407407407306|   169.0|  2.0|        87.0|20960.0|    2.0|   1.0|20.0|     0.0|        2.0|[87.0,20960.0,366...|    0|\n",
       "+-----------+------------+--------------------+--------------+--------------------+----+--------------------------+----------------------+------------------------------------+---------------------------+-------------------------+------------------------+---------------------------+---------------------------+--------------------+--------+-----+------------+-------+-------+------+----+--------+-----------+--------------------+-----+"
      ]
     },
     "execution_count": 34,
     "metadata": {},
     "output_type": "execute_result"
    }
   ],
   "source": [
    "sdf.limit(1)"
   ]
  },
  {
   "cell_type": "code",
   "execution_count": 35,
   "metadata": {},
   "outputs": [
    {
     "name": "stdout",
     "output_type": "stream",
     "text": [
      "22/09/25 17:30:42 WARN DAGScheduler: Broadcasting large task binary with size 1251.6 KiB\n"
     ]
    },
    {
     "name": "stderr",
     "output_type": "stream",
     "text": [
      "[Stage 141:==================================================>    (12 + 1) / 13]\r"
     ]
    },
    {
     "name": "stdout",
     "output_type": "stream",
     "text": [
      "22/09/25 17:30:53 WARN DAGScheduler: Broadcasting large task binary with size 1252.7 KiB\n",
      "22/09/25 17:30:53 WARN DAGScheduler: Broadcasting large task binary with size 1253.1 KiB\n"
     ]
    },
    {
     "name": "stderr",
     "output_type": "stream",
     "text": [
      "[Stage 143:==================================================>    (12 + 1) / 13]\r"
     ]
    },
    {
     "name": "stdout",
     "output_type": "stream",
     "text": [
      "22/09/25 17:31:01 WARN DAGScheduler: Broadcasting large task binary with size 1254.3 KiB\n",
      "22/09/25 17:31:01 WARN DAGScheduler: Broadcasting large task binary with size 1253.1 KiB\n",
      "22/09/25 17:31:01 WARN DAGScheduler: Broadcasting large task binary with size 1254.3 KiB\n"
     ]
    },
    {
     "name": "stderr",
     "output_type": "stream",
     "text": [
      "                                                                                \r"
     ]
    },
    {
     "name": "stdout",
     "output_type": "stream",
     "text": [
      "22/09/25 17:31:02 WARN DAGScheduler: Broadcasting large task binary with size 1253.1 KiB\n",
      "22/09/25 17:31:02 WARN DAGScheduler: Broadcasting large task binary with size 1254.3 KiB\n",
      "22/09/25 17:31:02 WARN DAGScheduler: Broadcasting large task binary with size 1253.1 KiB\n",
      "22/09/25 17:31:02 WARN DAGScheduler: Broadcasting large task binary with size 1254.3 KiB\n",
      "22/09/25 17:31:02 WARN DAGScheduler: Broadcasting large task binary with size 1253.1 KiB\n",
      "22/09/25 17:31:02 WARN DAGScheduler: Broadcasting large task binary with size 1254.3 KiB\n",
      "22/09/25 17:31:02 WARN DAGScheduler: Broadcasting large task binary with size 1253.1 KiB\n",
      "22/09/25 17:31:02 WARN DAGScheduler: Broadcasting large task binary with size 1254.3 KiB\n",
      "22/09/25 17:31:02 WARN DAGScheduler: Broadcasting large task binary with size 1253.1 KiB\n",
      "22/09/25 17:31:02 WARN DAGScheduler: Broadcasting large task binary with size 1254.3 KiB\n",
      "22/09/25 17:31:02 WARN DAGScheduler: Broadcasting large task binary with size 1253.1 KiB\n",
      "22/09/25 17:31:02 WARN DAGScheduler: Broadcasting large task binary with size 1254.3 KiB\n",
      "22/09/25 17:31:02 WARN DAGScheduler: Broadcasting large task binary with size 1253.1 KiB\n",
      "22/09/25 17:31:02 WARN DAGScheduler: Broadcasting large task binary with size 1254.3 KiB\n",
      "22/09/25 17:31:02 WARN DAGScheduler: Broadcasting large task binary with size 1253.1 KiB\n",
      "22/09/25 17:31:03 WARN DAGScheduler: Broadcasting large task binary with size 1254.3 KiB\n",
      "22/09/25 17:31:03 WARN DAGScheduler: Broadcasting large task binary with size 1253.1 KiB\n",
      "22/09/25 17:31:03 WARN DAGScheduler: Broadcasting large task binary with size 1254.3 KiB\n",
      "22/09/25 17:31:03 WARN DAGScheduler: Broadcasting large task binary with size 1253.1 KiB\n",
      "22/09/25 17:31:03 WARN DAGScheduler: Broadcasting large task binary with size 1254.3 KiB\n",
      "22/09/25 17:31:03 WARN DAGScheduler: Broadcasting large task binary with size 1253.1 KiB\n",
      "22/09/25 17:31:03 WARN DAGScheduler: Broadcasting large task binary with size 1254.3 KiB\n",
      "22/09/25 17:31:03 WARN DAGScheduler: Broadcasting large task binary with size 1253.1 KiB\n",
      "22/09/25 17:31:03 WARN DAGScheduler: Broadcasting large task binary with size 1254.3 KiB\n",
      "22/09/25 17:31:03 WARN DAGScheduler: Broadcasting large task binary with size 1253.1 KiB\n",
      "22/09/25 17:31:03 WARN DAGScheduler: Broadcasting large task binary with size 1254.3 KiB\n",
      "22/09/25 17:31:03 WARN DAGScheduler: Broadcasting large task binary with size 1253.1 KiB\n",
      "22/09/25 17:31:03 WARN DAGScheduler: Broadcasting large task binary with size 1254.3 KiB\n",
      "22/09/25 17:31:03 WARN DAGScheduler: Broadcasting large task binary with size 1253.1 KiB\n",
      "22/09/25 17:31:04 WARN DAGScheduler: Broadcasting large task binary with size 1254.3 KiB\n",
      "22/09/25 17:31:04 WARN DAGScheduler: Broadcasting large task binary with size 1253.1 KiB\n",
      "22/09/25 17:31:04 WARN DAGScheduler: Broadcasting large task binary with size 1254.3 KiB\n",
      "22/09/25 17:31:04 WARN DAGScheduler: Broadcasting large task binary with size 1253.1 KiB\n",
      "22/09/25 17:31:04 WARN DAGScheduler: Broadcasting large task binary with size 1254.3 KiB\n",
      "22/09/25 17:31:04 WARN DAGScheduler: Broadcasting large task binary with size 1253.1 KiB\n",
      "22/09/25 17:31:04 WARN DAGScheduler: Broadcasting large task binary with size 1254.3 KiB\n",
      "22/09/25 17:31:04 WARN DAGScheduler: Broadcasting large task binary with size 1253.1 KiB\n",
      "22/09/25 17:31:04 WARN DAGScheduler: Broadcasting large task binary with size 1254.3 KiB\n",
      "22/09/25 17:31:04 WARN DAGScheduler: Broadcasting large task binary with size 1253.1 KiB\n",
      "22/09/25 17:31:04 WARN DAGScheduler: Broadcasting large task binary with size 1254.3 KiB\n",
      "22/09/25 17:31:04 WARN DAGScheduler: Broadcasting large task binary with size 1253.1 KiB\n",
      "22/09/25 17:31:04 WARN DAGScheduler: Broadcasting large task binary with size 1254.3 KiB\n",
      "22/09/25 17:31:04 WARN DAGScheduler: Broadcasting large task binary with size 1253.1 KiB\n",
      "22/09/25 17:31:04 WARN DAGScheduler: Broadcasting large task binary with size 1254.3 KiB\n",
      "22/09/25 17:31:05 WARN DAGScheduler: Broadcasting large task binary with size 1253.1 KiB\n",
      "22/09/25 17:31:05 WARN DAGScheduler: Broadcasting large task binary with size 1254.3 KiB\n",
      "22/09/25 17:31:05 WARN DAGScheduler: Broadcasting large task binary with size 1253.1 KiB\n",
      "22/09/25 17:31:05 WARN DAGScheduler: Broadcasting large task binary with size 1254.3 KiB\n",
      "22/09/25 17:31:05 WARN DAGScheduler: Broadcasting large task binary with size 1253.1 KiB\n",
      "22/09/25 17:31:05 WARN DAGScheduler: Broadcasting large task binary with size 1254.3 KiB\n",
      "22/09/25 17:31:05 WARN DAGScheduler: Broadcasting large task binary with size 1253.1 KiB\n",
      "22/09/25 17:31:05 WARN DAGScheduler: Broadcasting large task binary with size 1254.3 KiB\n",
      "22/09/25 17:31:05 WARN DAGScheduler: Broadcasting large task binary with size 1253.1 KiB\n",
      "22/09/25 17:31:05 WARN DAGScheduler: Broadcasting large task binary with size 1254.3 KiB\n",
      "22/09/25 17:31:05 WARN DAGScheduler: Broadcasting large task binary with size 1253.1 KiB\n",
      "22/09/25 17:31:05 WARN DAGScheduler: Broadcasting large task binary with size 1254.3 KiB\n",
      "22/09/25 17:31:05 WARN DAGScheduler: Broadcasting large task binary with size 1253.1 KiB\n",
      "22/09/25 17:31:05 WARN DAGScheduler: Broadcasting large task binary with size 1254.3 KiB\n",
      "22/09/25 17:31:05 WARN DAGScheduler: Broadcasting large task binary with size 1253.1 KiB\n",
      "22/09/25 17:31:06 WARN DAGScheduler: Broadcasting large task binary with size 1254.3 KiB\n",
      "22/09/25 17:31:06 WARN DAGScheduler: Broadcasting large task binary with size 1253.1 KiB\n",
      "22/09/25 17:31:06 WARN DAGScheduler: Broadcasting large task binary with size 1254.3 KiB\n",
      "22/09/25 17:31:06 WARN DAGScheduler: Broadcasting large task binary with size 1253.1 KiB\n",
      "22/09/25 17:31:06 WARN DAGScheduler: Broadcasting large task binary with size 1254.3 KiB\n",
      "22/09/25 17:31:06 WARN DAGScheduler: Broadcasting large task binary with size 1253.1 KiB\n",
      "22/09/25 17:31:06 WARN DAGScheduler: Broadcasting large task binary with size 1254.3 KiB\n",
      "22/09/25 17:31:06 WARN DAGScheduler: Broadcasting large task binary with size 1253.1 KiB\n",
      "22/09/25 17:31:06 WARN DAGScheduler: Broadcasting large task binary with size 1254.3 KiB\n",
      "22/09/25 17:31:06 WARN DAGScheduler: Broadcasting large task binary with size 1253.1 KiB\n",
      "22/09/25 17:31:06 WARN DAGScheduler: Broadcasting large task binary with size 1254.3 KiB\n",
      "22/09/25 17:31:06 WARN DAGScheduler: Broadcasting large task binary with size 1253.1 KiB\n",
      "22/09/25 17:31:06 WARN DAGScheduler: Broadcasting large task binary with size 1254.3 KiB\n",
      "22/09/25 17:31:06 WARN DAGScheduler: Broadcasting large task binary with size 1253.1 KiB\n",
      "22/09/25 17:31:06 WARN DAGScheduler: Broadcasting large task binary with size 1254.3 KiB\n",
      "22/09/25 17:31:07 WARN DAGScheduler: Broadcasting large task binary with size 1253.1 KiB\n",
      "22/09/25 17:31:07 WARN DAGScheduler: Broadcasting large task binary with size 1254.3 KiB\n",
      "22/09/25 17:31:07 WARN DAGScheduler: Broadcasting large task binary with size 1253.1 KiB\n",
      "22/09/25 17:31:07 WARN DAGScheduler: Broadcasting large task binary with size 1254.3 KiB\n",
      "22/09/25 17:31:07 WARN DAGScheduler: Broadcasting large task binary with size 1253.1 KiB\n",
      "22/09/25 17:31:07 WARN DAGScheduler: Broadcasting large task binary with size 1254.3 KiB\n",
      "22/09/25 17:31:07 WARN DAGScheduler: Broadcasting large task binary with size 1253.1 KiB\n",
      "22/09/25 17:31:07 WARN DAGScheduler: Broadcasting large task binary with size 1254.3 KiB\n",
      "22/09/25 17:31:07 WARN DAGScheduler: Broadcasting large task binary with size 1253.1 KiB\n",
      "22/09/25 17:31:07 WARN DAGScheduler: Broadcasting large task binary with size 1254.3 KiB\n",
      "22/09/25 17:31:07 WARN DAGScheduler: Broadcasting large task binary with size 1253.1 KiB\n",
      "22/09/25 17:31:07 WARN DAGScheduler: Broadcasting large task binary with size 1254.3 KiB\n",
      "22/09/25 17:31:07 WARN DAGScheduler: Broadcasting large task binary with size 1253.1 KiB\n",
      "22/09/25 17:31:07 WARN DAGScheduler: Broadcasting large task binary with size 1254.3 KiB\n",
      "22/09/25 17:31:07 WARN DAGScheduler: Broadcasting large task binary with size 1253.1 KiB\n",
      "22/09/25 17:31:08 WARN DAGScheduler: Broadcasting large task binary with size 1254.3 KiB\n",
      "22/09/25 17:31:08 WARN DAGScheduler: Broadcasting large task binary with size 1253.1 KiB\n",
      "22/09/25 17:31:08 WARN DAGScheduler: Broadcasting large task binary with size 1254.3 KiB\n",
      "22/09/25 17:31:08 WARN DAGScheduler: Broadcasting large task binary with size 1253.1 KiB\n",
      "22/09/25 17:31:08 WARN DAGScheduler: Broadcasting large task binary with size 1254.3 KiB\n",
      "22/09/25 17:31:08 WARN DAGScheduler: Broadcasting large task binary with size 1253.1 KiB\n",
      "22/09/25 17:31:08 WARN DAGScheduler: Broadcasting large task binary with size 1254.3 KiB\n",
      "22/09/25 17:31:08 WARN DAGScheduler: Broadcasting large task binary with size 1253.1 KiB\n",
      "22/09/25 17:31:08 WARN DAGScheduler: Broadcasting large task binary with size 1254.3 KiB\n",
      "22/09/25 17:31:08 WARN DAGScheduler: Broadcasting large task binary with size 1253.1 KiB\n",
      "22/09/25 17:31:08 WARN DAGScheduler: Broadcasting large task binary with size 1254.3 KiB\n",
      "22/09/25 17:31:08 WARN DAGScheduler: Broadcasting large task binary with size 1253.1 KiB\n",
      "22/09/25 17:31:08 WARN DAGScheduler: Broadcasting large task binary with size 1254.3 KiB\n",
      "22/09/25 17:31:08 WARN DAGScheduler: Broadcasting large task binary with size 1253.1 KiB\n",
      "22/09/25 17:31:08 WARN DAGScheduler: Broadcasting large task binary with size 1254.3 KiB\n",
      "22/09/25 17:31:08 WARN DAGScheduler: Broadcasting large task binary with size 1253.1 KiB\n",
      "22/09/25 17:31:09 WARN DAGScheduler: Broadcasting large task binary with size 1254.3 KiB\n",
      "22/09/25 17:31:09 WARN DAGScheduler: Broadcasting large task binary with size 1253.1 KiB\n",
      "22/09/25 17:31:09 WARN DAGScheduler: Broadcasting large task binary with size 1254.3 KiB\n",
      "22/09/25 17:31:09 WARN DAGScheduler: Broadcasting large task binary with size 1253.1 KiB\n",
      "22/09/25 17:31:09 WARN DAGScheduler: Broadcasting large task binary with size 1254.3 KiB\n",
      "22/09/25 17:31:09 WARN DAGScheduler: Broadcasting large task binary with size 1253.1 KiB\n",
      "22/09/25 17:31:09 WARN DAGScheduler: Broadcasting large task binary with size 1254.3 KiB\n",
      "22/09/25 17:31:09 WARN DAGScheduler: Broadcasting large task binary with size 1253.1 KiB\n",
      "22/09/25 17:31:09 WARN DAGScheduler: Broadcasting large task binary with size 1254.3 KiB\n",
      "22/09/25 17:31:09 WARN DAGScheduler: Broadcasting large task binary with size 1253.1 KiB\n",
      "22/09/25 17:31:09 WARN DAGScheduler: Broadcasting large task binary with size 1254.3 KiB\n",
      "22/09/25 17:31:09 WARN DAGScheduler: Broadcasting large task binary with size 1253.1 KiB\n",
      "22/09/25 17:31:09 WARN DAGScheduler: Broadcasting large task binary with size 1254.3 KiB\n",
      "22/09/25 17:31:09 WARN DAGScheduler: Broadcasting large task binary with size 1253.1 KiB\n",
      "22/09/25 17:31:10 WARN DAGScheduler: Broadcasting large task binary with size 1254.3 KiB\n",
      "22/09/25 17:31:10 WARN DAGScheduler: Broadcasting large task binary with size 1253.1 KiB\n",
      "22/09/25 17:31:10 WARN DAGScheduler: Broadcasting large task binary with size 1254.3 KiB\n",
      "22/09/25 17:31:10 WARN DAGScheduler: Broadcasting large task binary with size 1253.1 KiB\n",
      "22/09/25 17:31:10 WARN DAGScheduler: Broadcasting large task binary with size 1254.3 KiB\n",
      "22/09/25 17:31:10 WARN DAGScheduler: Broadcasting large task binary with size 1253.1 KiB\n",
      "22/09/25 17:31:10 WARN DAGScheduler: Broadcasting large task binary with size 1254.3 KiB\n",
      "22/09/25 17:31:10 WARN DAGScheduler: Broadcasting large task binary with size 1253.1 KiB\n",
      "22/09/25 17:31:10 WARN DAGScheduler: Broadcasting large task binary with size 1254.3 KiB\n",
      "22/09/25 17:31:10 WARN DAGScheduler: Broadcasting large task binary with size 1253.1 KiB\n",
      "22/09/25 17:31:10 WARN DAGScheduler: Broadcasting large task binary with size 1254.3 KiB\n",
      "22/09/25 17:31:10 WARN DAGScheduler: Broadcasting large task binary with size 1253.1 KiB\n",
      "22/09/25 17:31:10 WARN DAGScheduler: Broadcasting large task binary with size 1254.3 KiB\n",
      "22/09/25 17:31:10 WARN DAGScheduler: Broadcasting large task binary with size 1253.1 KiB\n",
      "22/09/25 17:31:10 WARN DAGScheduler: Broadcasting large task binary with size 1254.3 KiB\n",
      "22/09/25 17:31:11 WARN DAGScheduler: Broadcasting large task binary with size 1253.1 KiB\n",
      "22/09/25 17:31:11 WARN DAGScheduler: Broadcasting large task binary with size 1254.3 KiB\n",
      "22/09/25 17:31:11 WARN DAGScheduler: Broadcasting large task binary with size 1253.1 KiB\n",
      "22/09/25 17:31:11 WARN DAGScheduler: Broadcasting large task binary with size 1254.3 KiB\n",
      "22/09/25 17:31:11 WARN DAGScheduler: Broadcasting large task binary with size 1253.1 KiB\n",
      "22/09/25 17:31:11 WARN DAGScheduler: Broadcasting large task binary with size 1254.3 KiB\n",
      "22/09/25 17:31:11 WARN DAGScheduler: Broadcasting large task binary with size 1253.1 KiB\n",
      "22/09/25 17:31:11 WARN DAGScheduler: Broadcasting large task binary with size 1254.3 KiB\n",
      "22/09/25 17:31:11 WARN DAGScheduler: Broadcasting large task binary with size 1253.1 KiB\n",
      "22/09/25 17:31:11 WARN DAGScheduler: Broadcasting large task binary with size 1254.3 KiB\n",
      "22/09/25 17:31:11 WARN DAGScheduler: Broadcasting large task binary with size 1253.1 KiB\n",
      "22/09/25 17:31:11 WARN DAGScheduler: Broadcasting large task binary with size 1254.3 KiB\n",
      "22/09/25 17:31:11 WARN DAGScheduler: Broadcasting large task binary with size 1253.1 KiB\n",
      "22/09/25 17:31:11 WARN DAGScheduler: Broadcasting large task binary with size 1254.3 KiB\n",
      "22/09/25 17:31:12 WARN DAGScheduler: Broadcasting large task binary with size 1253.1 KiB\n",
      "22/09/25 17:31:12 WARN DAGScheduler: Broadcasting large task binary with size 1254.3 KiB\n",
      "22/09/25 17:31:12 WARN DAGScheduler: Broadcasting large task binary with size 1253.1 KiB\n",
      "22/09/25 17:31:12 WARN DAGScheduler: Broadcasting large task binary with size 1254.3 KiB\n",
      "22/09/25 17:31:12 WARN DAGScheduler: Broadcasting large task binary with size 1253.1 KiB\n",
      "22/09/25 17:31:12 WARN DAGScheduler: Broadcasting large task binary with size 1254.3 KiB\n",
      "22/09/25 17:31:12 WARN DAGScheduler: Broadcasting large task binary with size 1253.1 KiB\n",
      "22/09/25 17:31:12 WARN DAGScheduler: Broadcasting large task binary with size 1254.3 KiB\n",
      "22/09/25 17:31:12 WARN DAGScheduler: Broadcasting large task binary with size 1253.1 KiB\n",
      "22/09/25 17:31:12 WARN DAGScheduler: Broadcasting large task binary with size 1254.3 KiB\n",
      "22/09/25 17:31:12 WARN DAGScheduler: Broadcasting large task binary with size 1253.1 KiB\n",
      "22/09/25 17:31:12 WARN DAGScheduler: Broadcasting large task binary with size 1254.3 KiB\n",
      "22/09/25 17:31:12 WARN DAGScheduler: Broadcasting large task binary with size 1253.1 KiB\n",
      "22/09/25 17:31:12 WARN DAGScheduler: Broadcasting large task binary with size 1254.3 KiB\n",
      "22/09/25 17:31:12 WARN DAGScheduler: Broadcasting large task binary with size 1253.1 KiB\n",
      "22/09/25 17:31:13 WARN DAGScheduler: Broadcasting large task binary with size 1254.3 KiB\n",
      "22/09/25 17:31:13 WARN DAGScheduler: Broadcasting large task binary with size 1253.1 KiB\n",
      "22/09/25 17:31:13 WARN DAGScheduler: Broadcasting large task binary with size 1254.3 KiB\n",
      "22/09/25 17:31:13 WARN DAGScheduler: Broadcasting large task binary with size 1253.1 KiB\n",
      "22/09/25 17:31:13 WARN DAGScheduler: Broadcasting large task binary with size 1254.3 KiB\n",
      "22/09/25 17:31:13 WARN DAGScheduler: Broadcasting large task binary with size 1253.1 KiB\n",
      "22/09/25 17:31:13 WARN DAGScheduler: Broadcasting large task binary with size 1254.3 KiB\n",
      "22/09/25 17:31:13 WARN DAGScheduler: Broadcasting large task binary with size 1253.1 KiB\n",
      "22/09/25 17:31:13 WARN DAGScheduler: Broadcasting large task binary with size 1254.3 KiB\n",
      "22/09/25 17:31:13 WARN DAGScheduler: Broadcasting large task binary with size 1253.1 KiB\n",
      "22/09/25 17:31:13 WARN DAGScheduler: Broadcasting large task binary with size 1254.3 KiB\n",
      "22/09/25 17:31:13 WARN DAGScheduler: Broadcasting large task binary with size 1253.1 KiB\n",
      "22/09/25 17:31:13 WARN DAGScheduler: Broadcasting large task binary with size 1254.3 KiB\n",
      "22/09/25 17:31:13 WARN DAGScheduler: Broadcasting large task binary with size 1253.1 KiB\n",
      "22/09/25 17:31:14 WARN DAGScheduler: Broadcasting large task binary with size 1254.3 KiB\n",
      "22/09/25 17:31:14 WARN DAGScheduler: Broadcasting large task binary with size 1253.1 KiB\n",
      "22/09/25 17:31:14 WARN DAGScheduler: Broadcasting large task binary with size 1254.3 KiB\n",
      "22/09/25 17:31:14 WARN DAGScheduler: Broadcasting large task binary with size 1253.1 KiB\n",
      "22/09/25 17:31:14 WARN DAGScheduler: Broadcasting large task binary with size 1254.3 KiB\n",
      "22/09/25 17:31:14 WARN DAGScheduler: Broadcasting large task binary with size 1253.1 KiB\n",
      "22/09/25 17:31:14 WARN DAGScheduler: Broadcasting large task binary with size 1254.3 KiB\n",
      "22/09/25 17:31:14 WARN DAGScheduler: Broadcasting large task binary with size 1253.1 KiB\n",
      "22/09/25 17:31:14 WARN DAGScheduler: Broadcasting large task binary with size 1254.3 KiB\n",
      "22/09/25 17:31:14 WARN DAGScheduler: Broadcasting large task binary with size 1253.1 KiB\n",
      "22/09/25 17:31:14 WARN DAGScheduler: Broadcasting large task binary with size 1254.3 KiB\n",
      "22/09/25 17:31:14 WARN DAGScheduler: Broadcasting large task binary with size 1253.1 KiB\n",
      "22/09/25 17:31:14 WARN DAGScheduler: Broadcasting large task binary with size 1254.3 KiB\n",
      "22/09/25 17:31:14 WARN DAGScheduler: Broadcasting large task binary with size 1253.1 KiB\n",
      "22/09/25 17:31:14 WARN DAGScheduler: Broadcasting large task binary with size 1254.3 KiB\n",
      "22/09/25 17:31:14 WARN DAGScheduler: Broadcasting large task binary with size 1253.1 KiB\n",
      "22/09/25 17:31:15 WARN DAGScheduler: Broadcasting large task binary with size 1254.3 KiB\n",
      "22/09/25 17:31:15 WARN DAGScheduler: Broadcasting large task binary with size 1253.1 KiB\n",
      "22/09/25 17:31:15 WARN DAGScheduler: Broadcasting large task binary with size 1254.3 KiB\n",
      "22/09/25 17:31:15 WARN DAGScheduler: Broadcasting large task binary with size 1253.1 KiB\n",
      "22/09/25 17:31:15 WARN DAGScheduler: Broadcasting large task binary with size 1254.3 KiB\n",
      "22/09/25 17:31:15 WARN DAGScheduler: Broadcasting large task binary with size 1253.1 KiB\n",
      "22/09/25 17:31:15 WARN DAGScheduler: Broadcasting large task binary with size 1254.3 KiB\n",
      "22/09/25 17:31:15 WARN DAGScheduler: Broadcasting large task binary with size 1253.1 KiB\n",
      "22/09/25 17:31:15 WARN DAGScheduler: Broadcasting large task binary with size 1254.3 KiB\n",
      "22/09/25 17:31:15 WARN DAGScheduler: Broadcasting large task binary with size 1253.1 KiB\n",
      "22/09/25 17:31:15 WARN DAGScheduler: Broadcasting large task binary with size 1254.3 KiB\n",
      "22/09/25 17:31:15 WARN DAGScheduler: Broadcasting large task binary with size 1253.1 KiB\n",
      "22/09/25 17:31:15 WARN DAGScheduler: Broadcasting large task binary with size 1254.3 KiB\n",
      "22/09/25 17:31:15 WARN DAGScheduler: Broadcasting large task binary with size 1253.1 KiB\n",
      "22/09/25 17:31:16 WARN DAGScheduler: Broadcasting large task binary with size 1254.3 KiB\n",
      "22/09/25 17:31:16 WARN DAGScheduler: Broadcasting large task binary with size 1253.1 KiB\n",
      "22/09/25 17:31:16 WARN DAGScheduler: Broadcasting large task binary with size 1254.3 KiB\n",
      "22/09/25 17:31:16 WARN DAGScheduler: Broadcasting large task binary with size 1253.1 KiB\n",
      "22/09/25 17:31:16 WARN DAGScheduler: Broadcasting large task binary with size 1254.3 KiB\n",
      "22/09/25 17:31:16 WARN DAGScheduler: Broadcasting large task binary with size 1253.1 KiB\n",
      "22/09/25 17:31:16 WARN DAGScheduler: Broadcasting large task binary with size 1254.3 KiB\n",
      "22/09/25 17:31:16 WARN DAGScheduler: Broadcasting large task binary with size 1253.1 KiB\n",
      "22/09/25 17:31:16 WARN DAGScheduler: Broadcasting large task binary with size 1254.3 KiB\n",
      "22/09/25 17:31:16 WARN DAGScheduler: Broadcasting large task binary with size 1253.1 KiB\n",
      "22/09/25 17:31:16 WARN DAGScheduler: Broadcasting large task binary with size 1254.3 KiB\n",
      "22/09/25 17:31:17 WARN DAGScheduler: Broadcasting large task binary with size 1252.5 KiB\n",
      "22/09/25 17:31:17 WARN DAGScheduler: Broadcasting large task binary with size 1252.5 KiB\n"
     ]
    },
    {
     "data": {
      "text/html": [
       "<table border='1'>\n",
       "<tr><th>consumer_id</th><th>dollar_value</th><th>order_id</th><th>order_datetime</th><th>merchant_name</th><th>rate</th><th>merchant_fraud_probability</th><th>user_fraud_probability</th><th>estimated_region_population_2021_sum</th><th>persons_earners_2018-19_sum</th><th>mean_earnings_2018-19_avg</th><th>sum_earnings_2018-19_sum</th><th>median_earnings_2018-19_avg</th><th>med_age_earners_2018-19_avg</th><th>fraud_probability</th><th>postcode</th><th>state</th><th>merchant_abn</th><th>user_id</th><th>revenue</th><th>gender</th><th>tag</th><th>category</th><th>subcategory</th><th>features</th><th>label</th><th>rawPrediction</th><th>probability</th><th>prediction</th></tr>\n",
       "<tr><td>1195503</td><td>366.23</td><td>a8514aae-18fb-454...</td><td>2021-11-17</td><td>Placerat Orci Ins...</td><td>2.73</td><td>0.29407407407407304</td><td>0.1</td><td>10636</td><td>5795.0</td><td>62144.0</td><td>3.60125906E8</td><td>52618.0</td><td>41.0</td><td>0.029407407407407306</td><td>169.0</td><td>2.0</td><td>87.0</td><td>20960.0</td><td>2.0</td><td>1.0</td><td>20.0</td><td>0.0</td><td>2.0</td><td>[87.0,20960.0,366...</td><td>0</td><td>[39.2370028256852...</td><td>[1.0,0.0]</td><td>0.0</td></tr>\n",
       "<tr><td>1195503</td><td>115.82</td><td>15aa1064-944f-4e5...</td><td>2021-11-13</td><td>Iaculis Aliquet D...</td><td>1.76</td><td>0.28488372093023295</td><td>0.1</td><td>10636</td><td>5795.0</td><td>62144.0</td><td>3.60125906E8</td><td>52618.0</td><td>41.0</td><td>0.028488372093023295</td><td>169.0</td><td>2.0</td><td>67.0</td><td>20960.0</td><td>2.0</td><td>1.0</td><td>13.0</td><td>0.0</td><td>4.0</td><td>[67.0,20960.0,115...</td><td>0</td><td>[39.8176952637696...</td><td>[1.0,0.0]</td><td>0.0</td></tr>\n",
       "<tr><td>1195503</td><td>63.88</td><td>c4e1da7a-39b5-49d...</td><td>2022-10-13</td><td>Iaculis Aliquet D...</td><td>1.76</td><td>0.28488372093023295</td><td>0.1</td><td>10636</td><td>5795.0</td><td>62144.0</td><td>3.60125906E8</td><td>52618.0</td><td>41.0</td><td>0.028488372093023295</td><td>169.0</td><td>2.0</td><td>67.0</td><td>20960.0</td><td>2.0</td><td>1.0</td><td>13.0</td><td>0.0</td><td>4.0</td><td>[67.0,20960.0,63....</td><td>0</td><td>[39.8177473078125...</td><td>[1.0,0.0]</td><td>0.0</td></tr>\n",
       "<tr><td>1195503</td><td>811.42</td><td>a43c190e-2cce-431...</td><td>2022-02-24</td><td>Diam Eu Dolor LLC</td><td>4.1</td><td>0.30671428571428505</td><td>0.1</td><td>10636</td><td>5795.0</td><td>62144.0</td><td>3.60125906E8</td><td>52618.0</td><td>41.0</td><td>0.030671428571428506</td><td>169.0</td><td>2.0</td><td>275.0</td><td>20960.0</td><td>1.0</td><td>1.0</td><td>0.0</td><td>0.0</td><td>0.0</td><td>[275.0,20960.0,81...</td><td>0</td><td>[36.3534493852252...</td><td>[0.99999999999999...</td><td>0.0</td></tr>\n",
       "<tr><td>1195503</td><td>99.75</td><td>bd6a0f3b-3eb7-494...</td><td>2022-05-09</td><td>Dictum Phasellus ...</td><td>5.65</td><td>0.3100000000000016</td><td>0.1</td><td>10636</td><td>5795.0</td><td>62144.0</td><td>3.60125906E8</td><td>52618.0</td><td>41.0</td><td>0.031000000000000163</td><td>169.0</td><td>2.0</td><td>15.0</td><td>20960.0</td><td>0.0</td><td>1.0</td><td>1.0</td><td>0.0</td><td>0.0</td><td>[15.0,20960.0,99....</td><td>0</td><td>[37.3860899731927...</td><td>[1.0,0.0]</td><td>0.0</td></tr>\n",
       "<tr><td>1195503</td><td>123.96</td><td>43d9d3b7-2643-4a9...</td><td>2021-09-26</td><td>Dictum Phasellus ...</td><td>5.65</td><td>0.3100000000000016</td><td>0.1</td><td>10636</td><td>5795.0</td><td>62144.0</td><td>3.60125906E8</td><td>52618.0</td><td>41.0</td><td>0.031000000000000163</td><td>169.0</td><td>2.0</td><td>15.0</td><td>20960.0</td><td>0.0</td><td>1.0</td><td>1.0</td><td>0.0</td><td>0.0</td><td>[15.0,20960.0,123...</td><td>0</td><td>[37.3860657146968...</td><td>[1.0,0.0]</td><td>0.0</td></tr>\n",
       "<tr><td>1195503</td><td>78.66</td><td>40267701-a76c-46f...</td><td>2022-06-08</td><td>Dictum Phasellus ...</td><td>5.65</td><td>0.3100000000000016</td><td>0.1</td><td>10636</td><td>5795.0</td><td>62144.0</td><td>3.60125906E8</td><td>52618.0</td><td>41.0</td><td>0.031000000000000163</td><td>169.0</td><td>2.0</td><td>15.0</td><td>20960.0</td><td>0.0</td><td>1.0</td><td>1.0</td><td>0.0</td><td>0.0</td><td>[15.0,20960.0,78....</td><td>0</td><td>[37.3861111054389...</td><td>[1.0,0.0]</td><td>0.0</td></tr>\n",
       "<tr><td>1195503</td><td>227.45</td><td>10f2882e-d871-407...</td><td>2021-05-23</td><td>Dictum Phasellus ...</td><td>5.65</td><td>0.3100000000000016</td><td>0.1</td><td>10636</td><td>5795.0</td><td>62144.0</td><td>3.60125906E8</td><td>52618.0</td><td>41.0</td><td>0.031000000000000163</td><td>169.0</td><td>2.0</td><td>15.0</td><td>20960.0</td><td>0.0</td><td>1.0</td><td>1.0</td><td>0.0</td><td>0.0</td><td>[15.0,20960.0,227...</td><td>0</td><td>[37.3859620173921...</td><td>[1.0,0.0]</td><td>0.0</td></tr>\n",
       "<tr><td>1195503</td><td>173.33</td><td>1d0805b4-d4ca-451...</td><td>2022-10-15</td><td>Dictum Phasellus ...</td><td>5.65</td><td>0.3100000000000016</td><td>0.1</td><td>10636</td><td>5795.0</td><td>62144.0</td><td>3.60125906E8</td><td>52618.0</td><td>41.0</td><td>0.031000000000000163</td><td>169.0</td><td>2.0</td><td>15.0</td><td>20960.0</td><td>0.0</td><td>1.0</td><td>1.0</td><td>0.0</td><td>0.0</td><td>[15.0,20960.0,173...</td><td>0</td><td>[37.3860162458019...</td><td>[1.0,0.0]</td><td>0.0</td></tr>\n",
       "<tr><td>1195503</td><td>44.53</td><td>2b537e37-66e9-4d3...</td><td>2022-02-06</td><td>Phasellus At Limited</td><td>4.65</td><td>0.2999999999999989</td><td>0.1</td><td>10636</td><td>5795.0</td><td>62144.0</td><td>3.60125906E8</td><td>52618.0</td><td>41.0</td><td>0.029999999999999888</td><td>169.0</td><td>2.0</td><td>38.0</td><td>20960.0</td><td>1.0</td><td>1.0</td><td>9.0</td><td>0.0</td><td>1.0</td><td>[38.0,20960.0,44....</td><td>0</td><td>[38.1455309530746...</td><td>[1.0,0.0]</td><td>0.0</td></tr>\n",
       "<tr><td>1195503</td><td>514.46</td><td>eb47c4e5-d4d4-439...</td><td>2021-10-17</td><td>Phasellus At Limited</td><td>4.65</td><td>0.2999999999999989</td><td>0.1</td><td>10636</td><td>5795.0</td><td>62144.0</td><td>3.60125906E8</td><td>52618.0</td><td>41.0</td><td>0.029999999999999888</td><td>169.0</td><td>2.0</td><td>38.0</td><td>20960.0</td><td>1.0</td><td>1.0</td><td>9.0</td><td>0.0</td><td>1.0</td><td>[38.0,20960.0,514...</td><td>0</td><td>[38.1450600817404...</td><td>[1.0,0.0]</td><td>0.0</td></tr>\n",
       "<tr><td>1195503</td><td>301.68</td><td>5b6c059c-6831-471...</td><td>2021-03-02</td><td>Ornare Limited</td><td>5.91</td><td>0.29999999999999954</td><td>0.1</td><td>10636</td><td>5795.0</td><td>62144.0</td><td>3.60125906E8</td><td>52618.0</td><td>41.0</td><td>0.029999999999999957</td><td>169.0</td><td>2.0</td><td>63.0</td><td>20960.0</td><td>0.0</td><td>1.0</td><td>15.0</td><td>0.0</td><td>2.0</td><td>[63.0,20960.0,301...</td><td>0</td><td>[39.7098779582610...</td><td>[1.0,0.0]</td><td>0.0</td></tr>\n",
       "<tr><td>1195503</td><td>140.21</td><td>61bf6859-1b10-4f0...</td><td>2021-04-16</td><td>Ornare Limited</td><td>5.91</td><td>0.29999999999999954</td><td>0.1</td><td>10636</td><td>5795.0</td><td>62144.0</td><td>3.60125906E8</td><td>52618.0</td><td>41.0</td><td>0.029999999999999957</td><td>169.0</td><td>2.0</td><td>63.0</td><td>20960.0</td><td>0.0</td><td>1.0</td><td>15.0</td><td>0.0</td><td>2.0</td><td>[63.0,20960.0,140...</td><td>0</td><td>[39.7100397517076...</td><td>[1.0,0.0]</td><td>0.0</td></tr>\n",
       "<tr><td>1195503</td><td>677.35</td><td>04045910-2ef6-4f4...</td><td>2021-04-29</td><td>Ornare Limited</td><td>5.91</td><td>0.29999999999999954</td><td>0.1</td><td>10636</td><td>5795.0</td><td>62144.0</td><td>3.60125906E8</td><td>52618.0</td><td>41.0</td><td>0.029999999999999957</td><td>169.0</td><td>2.0</td><td>63.0</td><td>20960.0</td><td>0.0</td><td>1.0</td><td>15.0</td><td>0.0</td><td>2.0</td><td>[63.0,20960.0,677...</td><td>0</td><td>[39.7095015357425...</td><td>[1.0,0.0]</td><td>0.0</td></tr>\n",
       "<tr><td>1195503</td><td>356.32</td><td>3d2f427f-1878-453...</td><td>2021-06-18</td><td>Arcu Morbi Institute</td><td>1.47</td><td>0.2899999999999994</td><td>0.1</td><td>10636</td><td>5795.0</td><td>62144.0</td><td>3.60125906E8</td><td>52618.0</td><td>41.0</td><td>0.028999999999999942</td><td>169.0</td><td>2.0</td><td>107.0</td><td>20960.0</td><td>2.0</td><td>1.0</td><td>10.0</td><td>0.0</td><td>0.0</td><td>[107.0,20960.0,35...</td><td>0</td><td>[38.2096793546530...</td><td>[1.0,0.0]</td><td>0.0</td></tr>\n",
       "<tr><td>1195503</td><td>409.08</td><td>6192794e-80e9-49c...</td><td>2022-04-27</td><td>Arcu Morbi Institute</td><td>1.47</td><td>0.2899999999999994</td><td>0.1</td><td>10636</td><td>5795.0</td><td>62144.0</td><td>3.60125906E8</td><td>52618.0</td><td>41.0</td><td>0.028999999999999942</td><td>169.0</td><td>2.0</td><td>107.0</td><td>20960.0</td><td>2.0</td><td>1.0</td><td>10.0</td><td>0.0</td><td>0.0</td><td>[107.0,20960.0,40...</td><td>0</td><td>[38.2096264889675...</td><td>[1.0,0.0]</td><td>0.0</td></tr>\n",
       "<tr><td>1195503</td><td>663.06</td><td>b5cbd28d-b176-4fa...</td><td>2021-08-11</td><td>Arcu Morbi Institute</td><td>1.47</td><td>0.2899999999999994</td><td>0.1</td><td>10636</td><td>5795.0</td><td>62144.0</td><td>3.60125906E8</td><td>52618.0</td><td>41.0</td><td>0.028999999999999942</td><td>169.0</td><td>2.0</td><td>107.0</td><td>20960.0</td><td>2.0</td><td>1.0</td><td>10.0</td><td>0.0</td><td>0.0</td><td>[107.0,20960.0,66...</td><td>0</td><td>[38.2093720002107...</td><td>[1.0,0.0]</td><td>0.0</td></tr>\n",
       "<tr><td>1195503</td><td>265.4</td><td>b4073bbc-5213-46e...</td><td>2021-08-11</td><td>Dignissim Maecena...</td><td>6.64</td><td>0.28347239263803686</td><td>0.1</td><td>10636</td><td>5795.0</td><td>62144.0</td><td>3.60125906E8</td><td>52618.0</td><td>41.0</td><td>0.028347239263803687</td><td>169.0</td><td>2.0</td><td>23.0</td><td>20960.0</td><td>0.0</td><td>1.0</td><td>6.0</td><td>0.0</td><td>2.0</td><td>[23.0,20960.0,265...</td><td>0</td><td>[39.4587810257582...</td><td>[1.0,0.0]</td><td>0.0</td></tr>\n",
       "<tr><td>712975</td><td>197.99</td><td>c61025aa-f92c-483...</td><td>2022-05-01</td><td>Placerat Orci Ins...</td><td>2.73</td><td>0.29407407407407304</td><td>0.16599999999999998</td><td>4293</td><td>2976.0</td><td>75131.0</td><td>2.2358944E8</td><td>58036.0</td><td>46.0</td><td>0.04881629629629612</td><td>1167.0</td><td>2.0</td><td>87.0</td><td>1000.0</td><td>2.0</td><td>1.0</td><td>20.0</td><td>0.0</td><td>2.0</td><td>[87.0,1000.0,197....</td><td>0</td><td>[35.6899917483671...</td><td>[0.99999999999999...</td><td>0.0</td></tr>\n",
       "<tr><td>712975</td><td>63.67</td><td>13738333-519e-424...</td><td>2021-11-16</td><td>Dictum Phasellus ...</td><td>5.65</td><td>0.3100000000000016</td><td>0.16599999999999998</td><td>4293</td><td>2976.0</td><td>75131.0</td><td>2.2358944E8</td><td>58036.0</td><td>46.0</td><td>0.05146000000000026</td><td>1167.0</td><td>2.0</td><td>15.0</td><td>1000.0</td><td>0.0</td><td>1.0</td><td>1.0</td><td>0.0</td><td>0.0</td><td>[15.0,1000.0,63.6...</td><td>0</td><td>[33.8389464711400...</td><td>[0.99999999999999...</td><td>0.0</td></tr>\n",
       "</table>\n",
       "only showing top 20 rows\n"
      ],
      "text/plain": [
       "+-----------+------------+--------------------+--------------+--------------------+----+--------------------------+----------------------+------------------------------------+---------------------------+-------------------------+------------------------+---------------------------+---------------------------+--------------------+--------+-----+------------+-------+-------+------+----+--------+-----------+--------------------+-----+--------------------+--------------------+----------+\n",
       "|consumer_id|dollar_value|            order_id|order_datetime|       merchant_name|rate|merchant_fraud_probability|user_fraud_probability|estimated_region_population_2021_sum|persons_earners_2018-19_sum|mean_earnings_2018-19_avg|sum_earnings_2018-19_sum|median_earnings_2018-19_avg|med_age_earners_2018-19_avg|   fraud_probability|postcode|state|merchant_abn|user_id|revenue|gender| tag|category|subcategory|            features|label|       rawPrediction|         probability|prediction|\n",
       "+-----------+------------+--------------------+--------------+--------------------+----+--------------------------+----------------------+------------------------------------+---------------------------+-------------------------+------------------------+---------------------------+---------------------------+--------------------+--------+-----+------------+-------+-------+------+----+--------+-----------+--------------------+-----+--------------------+--------------------+----------+\n",
       "|    1195503|      366.23|a8514aae-18fb-454...|    2021-11-17|Placerat Orci Ins...|2.73|       0.29407407407407304|                   0.1|                               10636|                     5795.0|                  62144.0|            3.60125906E8|                    52618.0|                       41.0|0.029407407407407306|   169.0|  2.0|        87.0|20960.0|    2.0|   1.0|20.0|     0.0|        2.0|[87.0,20960.0,366...|    0|[39.2370028256852...|           [1.0,0.0]|       0.0|\n",
       "|    1195503|      115.82|15aa1064-944f-4e5...|    2021-11-13|Iaculis Aliquet D...|1.76|       0.28488372093023295|                   0.1|                               10636|                     5795.0|                  62144.0|            3.60125906E8|                    52618.0|                       41.0|0.028488372093023295|   169.0|  2.0|        67.0|20960.0|    2.0|   1.0|13.0|     0.0|        4.0|[67.0,20960.0,115...|    0|[39.8176952637696...|           [1.0,0.0]|       0.0|\n",
       "|    1195503|       63.88|c4e1da7a-39b5-49d...|    2022-10-13|Iaculis Aliquet D...|1.76|       0.28488372093023295|                   0.1|                               10636|                     5795.0|                  62144.0|            3.60125906E8|                    52618.0|                       41.0|0.028488372093023295|   169.0|  2.0|        67.0|20960.0|    2.0|   1.0|13.0|     0.0|        4.0|[67.0,20960.0,63....|    0|[39.8177473078125...|           [1.0,0.0]|       0.0|\n",
       "|    1195503|      811.42|a43c190e-2cce-431...|    2022-02-24|   Diam Eu Dolor LLC| 4.1|       0.30671428571428505|                   0.1|                               10636|                     5795.0|                  62144.0|            3.60125906E8|                    52618.0|                       41.0|0.030671428571428506|   169.0|  2.0|       275.0|20960.0|    1.0|   1.0| 0.0|     0.0|        0.0|[275.0,20960.0,81...|    0|[36.3534493852252...|[0.99999999999999...|       0.0|\n",
       "|    1195503|       99.75|bd6a0f3b-3eb7-494...|    2022-05-09|Dictum Phasellus ...|5.65|        0.3100000000000016|                   0.1|                               10636|                     5795.0|                  62144.0|            3.60125906E8|                    52618.0|                       41.0|0.031000000000000163|   169.0|  2.0|        15.0|20960.0|    0.0|   1.0| 1.0|     0.0|        0.0|[15.0,20960.0,99....|    0|[37.3860899731927...|           [1.0,0.0]|       0.0|\n",
       "|    1195503|      123.96|43d9d3b7-2643-4a9...|    2021-09-26|Dictum Phasellus ...|5.65|        0.3100000000000016|                   0.1|                               10636|                     5795.0|                  62144.0|            3.60125906E8|                    52618.0|                       41.0|0.031000000000000163|   169.0|  2.0|        15.0|20960.0|    0.0|   1.0| 1.0|     0.0|        0.0|[15.0,20960.0,123...|    0|[37.3860657146968...|           [1.0,0.0]|       0.0|\n",
       "|    1195503|       78.66|40267701-a76c-46f...|    2022-06-08|Dictum Phasellus ...|5.65|        0.3100000000000016|                   0.1|                               10636|                     5795.0|                  62144.0|            3.60125906E8|                    52618.0|                       41.0|0.031000000000000163|   169.0|  2.0|        15.0|20960.0|    0.0|   1.0| 1.0|     0.0|        0.0|[15.0,20960.0,78....|    0|[37.3861111054389...|           [1.0,0.0]|       0.0|\n",
       "|    1195503|      227.45|10f2882e-d871-407...|    2021-05-23|Dictum Phasellus ...|5.65|        0.3100000000000016|                   0.1|                               10636|                     5795.0|                  62144.0|            3.60125906E8|                    52618.0|                       41.0|0.031000000000000163|   169.0|  2.0|        15.0|20960.0|    0.0|   1.0| 1.0|     0.0|        0.0|[15.0,20960.0,227...|    0|[37.3859620173921...|           [1.0,0.0]|       0.0|\n",
       "|    1195503|      173.33|1d0805b4-d4ca-451...|    2022-10-15|Dictum Phasellus ...|5.65|        0.3100000000000016|                   0.1|                               10636|                     5795.0|                  62144.0|            3.60125906E8|                    52618.0|                       41.0|0.031000000000000163|   169.0|  2.0|        15.0|20960.0|    0.0|   1.0| 1.0|     0.0|        0.0|[15.0,20960.0,173...|    0|[37.3860162458019...|           [1.0,0.0]|       0.0|\n",
       "|    1195503|       44.53|2b537e37-66e9-4d3...|    2022-02-06|Phasellus At Limited|4.65|        0.2999999999999989|                   0.1|                               10636|                     5795.0|                  62144.0|            3.60125906E8|                    52618.0|                       41.0|0.029999999999999888|   169.0|  2.0|        38.0|20960.0|    1.0|   1.0| 9.0|     0.0|        1.0|[38.0,20960.0,44....|    0|[38.1455309530746...|           [1.0,0.0]|       0.0|\n",
       "|    1195503|      514.46|eb47c4e5-d4d4-439...|    2021-10-17|Phasellus At Limited|4.65|        0.2999999999999989|                   0.1|                               10636|                     5795.0|                  62144.0|            3.60125906E8|                    52618.0|                       41.0|0.029999999999999888|   169.0|  2.0|        38.0|20960.0|    1.0|   1.0| 9.0|     0.0|        1.0|[38.0,20960.0,514...|    0|[38.1450600817404...|           [1.0,0.0]|       0.0|\n",
       "|    1195503|      301.68|5b6c059c-6831-471...|    2021-03-02|      Ornare Limited|5.91|       0.29999999999999954|                   0.1|                               10636|                     5795.0|                  62144.0|            3.60125906E8|                    52618.0|                       41.0|0.029999999999999957|   169.0|  2.0|        63.0|20960.0|    0.0|   1.0|15.0|     0.0|        2.0|[63.0,20960.0,301...|    0|[39.7098779582610...|           [1.0,0.0]|       0.0|\n",
       "|    1195503|      140.21|61bf6859-1b10-4f0...|    2021-04-16|      Ornare Limited|5.91|       0.29999999999999954|                   0.1|                               10636|                     5795.0|                  62144.0|            3.60125906E8|                    52618.0|                       41.0|0.029999999999999957|   169.0|  2.0|        63.0|20960.0|    0.0|   1.0|15.0|     0.0|        2.0|[63.0,20960.0,140...|    0|[39.7100397517076...|           [1.0,0.0]|       0.0|\n",
       "|    1195503|      677.35|04045910-2ef6-4f4...|    2021-04-29|      Ornare Limited|5.91|       0.29999999999999954|                   0.1|                               10636|                     5795.0|                  62144.0|            3.60125906E8|                    52618.0|                       41.0|0.029999999999999957|   169.0|  2.0|        63.0|20960.0|    0.0|   1.0|15.0|     0.0|        2.0|[63.0,20960.0,677...|    0|[39.7095015357425...|           [1.0,0.0]|       0.0|\n",
       "|    1195503|      356.32|3d2f427f-1878-453...|    2021-06-18|Arcu Morbi Institute|1.47|        0.2899999999999994|                   0.1|                               10636|                     5795.0|                  62144.0|            3.60125906E8|                    52618.0|                       41.0|0.028999999999999942|   169.0|  2.0|       107.0|20960.0|    2.0|   1.0|10.0|     0.0|        0.0|[107.0,20960.0,35...|    0|[38.2096793546530...|           [1.0,0.0]|       0.0|\n",
       "|    1195503|      409.08|6192794e-80e9-49c...|    2022-04-27|Arcu Morbi Institute|1.47|        0.2899999999999994|                   0.1|                               10636|                     5795.0|                  62144.0|            3.60125906E8|                    52618.0|                       41.0|0.028999999999999942|   169.0|  2.0|       107.0|20960.0|    2.0|   1.0|10.0|     0.0|        0.0|[107.0,20960.0,40...|    0|[38.2096264889675...|           [1.0,0.0]|       0.0|\n",
       "|    1195503|      663.06|b5cbd28d-b176-4fa...|    2021-08-11|Arcu Morbi Institute|1.47|        0.2899999999999994|                   0.1|                               10636|                     5795.0|                  62144.0|            3.60125906E8|                    52618.0|                       41.0|0.028999999999999942|   169.0|  2.0|       107.0|20960.0|    2.0|   1.0|10.0|     0.0|        0.0|[107.0,20960.0,66...|    0|[38.2093720002107...|           [1.0,0.0]|       0.0|\n",
       "|    1195503|       265.4|b4073bbc-5213-46e...|    2021-08-11|Dignissim Maecena...|6.64|       0.28347239263803686|                   0.1|                               10636|                     5795.0|                  62144.0|            3.60125906E8|                    52618.0|                       41.0|0.028347239263803687|   169.0|  2.0|        23.0|20960.0|    0.0|   1.0| 6.0|     0.0|        2.0|[23.0,20960.0,265...|    0|[39.4587810257582...|           [1.0,0.0]|       0.0|\n",
       "|     712975|      197.99|c61025aa-f92c-483...|    2022-05-01|Placerat Orci Ins...|2.73|       0.29407407407407304|   0.16599999999999998|                                4293|                     2976.0|                  75131.0|             2.2358944E8|                    58036.0|                       46.0| 0.04881629629629612|  1167.0|  2.0|        87.0| 1000.0|    2.0|   1.0|20.0|     0.0|        2.0|[87.0,1000.0,197....|    0|[35.6899917483671...|[0.99999999999999...|       0.0|\n",
       "|     712975|       63.67|13738333-519e-424...|    2021-11-16|Dictum Phasellus ...|5.65|        0.3100000000000016|   0.16599999999999998|                                4293|                     2976.0|                  75131.0|             2.2358944E8|                    58036.0|                       46.0| 0.05146000000000026|  1167.0|  2.0|        15.0| 1000.0|    0.0|   1.0| 1.0|     0.0|        0.0|[15.0,1000.0,63.6...|    0|[33.8389464711400...|[0.99999999999999...|       0.0|\n",
       "+-----------+------------+--------------------+--------------+--------------------+----+--------------------------+----------------------+------------------------------------+---------------------------+-------------------------+------------------------+---------------------------+---------------------------+--------------------+--------+-----+------------+-------+-------+------+----+--------+-----------+--------------------+-----+--------------------+--------------------+----------+\n",
       "only showing top 20 rows"
      ]
     },
     "execution_count": 35,
     "metadata": {},
     "output_type": "execute_result"
    }
   ],
   "source": [
    "LR = LogisticRegression(featuresCol='features', labelCol='label', predictionCol='prediction')\n",
    "model = LR.fit(sdf)\n",
    "sdf = model.transform(sdf)\n",
    "sdf "
   ]
  }
 ],
 "metadata": {
  "kernelspec": {
   "display_name": "Python 3.9.7 64-bit",
   "language": "python",
   "name": "python3"
  },
  "language_info": {
   "codemirror_mode": {
    "name": "ipython",
    "version": 3
   },
   "file_extension": ".py",
   "mimetype": "text/x-python",
   "name": "python",
   "nbconvert_exporter": "python",
   "pygments_lexer": "ipython3",
   "version": "3.9.7"
  },
  "orig_nbformat": 4,
  "vscode": {
   "interpreter": {
    "hash": "aee8b7b246df8f9039afb4144a1f6fd8d2ca17a180786b69acc140d282b71a49"
   }
  }
 },
 "nbformat": 4,
 "nbformat_minor": 2
}
