{
 "cells": [
  {
   "cell_type": "markdown",
   "metadata": {},
   "source": [
    "# Fraudulent Transaction Classifier\n",
    "---\n",
    "We try to use 3 weeks of fraud probability data to build a Machine Learning model and classify all fraudulent transactions."
   ]
  },
  {
   "cell_type": "markdown",
   "metadata": {},
   "source": [
    "### 1. Datasets\n",
    "We begin by loading our dataset onto the Jupyter Notebook and make our `fraud_probability` column"
   ]
  },
  {
   "cell_type": "code",
   "execution_count": 75,
   "metadata": {},
   "outputs": [],
   "source": [
    "from pyspark.sql import SparkSession, Window, functions as F\n",
    "\n",
    "# Create a spark session\n",
    "spark = (\n",
    "    SparkSession.builder.appName(\"BNPL Project\")\n",
    "    .config(\"spark.sql.repl.eagerEval.enabled\", True) \n",
    "    .config(\"spark.sql.parquet.cacheMetadata\", \"true\")\n",
    "    .config(\"spark.driver.memory\", \"8g\")\n",
    "    .config(\"spark.driver.executor\", \"8g\")\n",
    "    .config(\"spark.sql.session.timeZone\", \"Etc/UTC\")\n",
    "    .getOrCreate()\n",
    ")\n",
    "\n",
    "p = lambda x,type : f'../../data/{type}/{x}'"
   ]
  },
  {
   "cell_type": "code",
   "execution_count": 76,
   "metadata": {},
   "outputs": [
    {
     "data": {
      "text/html": [
       "<table border='1'>\n",
       "<tr><th>merchant_abn</th><th>consumer_id</th><th>user_id</th><th>dollar_value</th><th>order_id</th><th>order_datetime</th><th>state</th><th>postcode</th><th>gender</th><th>merchant_name</th><th>tag</th><th>revenue</th><th>rate</th><th>category</th><th>subcategory</th><th>merchant_fraud_probability</th><th>user_fraud_probability</th><th>estimated_region_population_2021_sum</th><th>persons_earners_2018-19_sum</th><th>mean_earnings_2018-19_avg</th><th>sum_earnings_2018-19_sum</th><th>median_earnings_2018-19_avg</th><th>med_age_earners_2018-19_avg</th><th>fraud_probability</th></tr>\n",
       "<tr><td>27093785141</td><td>1195503</td><td>1</td><td>366.23</td><td>a8514aae-18fb-454...</td><td>2021-11-17</td><td>WA</td><td>6935</td><td>Female</td><td>Placerat Orci Ins...</td><td>stationery, offic...</td><td>c</td><td>2.73</td><td>retail_and_wholes...</td><td>others_retailing</td><td>0.29407407407407304</td><td>0.1</td><td>10636</td><td>5795.0</td><td>62144.0</td><td>3.60125906E8</td><td>52618.0</td><td>41.0</td><td>0.029407407407407306</td></tr>\n",
       "<tr><td>49125619545</td><td>1195503</td><td>1</td><td>113.59</td><td>8dce56c3-1138-45b...</td><td>2022-06-28</td><td>WA</td><td>6935</td><td>Female</td><td>Adipiscing Elit C...</td><td>cable, satellite,...</td><td>a</td><td>5.66</td><td>info_media_and_te...</td><td>null</td><td>null</td><td>0.1</td><td>10636</td><td>5795.0</td><td>62144.0</td><td>3.60125906E8</td><td>52618.0</td><td>41.0</td><td>null</td></tr>\n",
       "<tr><td>28510201393</td><td>1195503</td><td>1</td><td>587.4</td><td>32fcbb45-ae51-42f...</td><td>2021-09-24</td><td>WA</td><td>6935</td><td>Female</td><td>Quam Curabitur Co...</td><td>bicycle shops - s...</td><td>c</td><td>1.86</td><td>retail_and_wholes...</td><td>department_stores</td><td>null</td><td>0.1</td><td>10636</td><td>5795.0</td><td>62144.0</td><td>3.60125906E8</td><td>52618.0</td><td>41.0</td><td>null</td></tr>\n",
       "<tr><td>49167531725</td><td>1195503</td><td>1</td><td>51.58</td><td>7080c274-17f7-4cc...</td><td>2021-11-26</td><td>WA</td><td>6935</td><td>Female</td><td>Felis Institute</td><td>digital goods: bo...</td><td>a</td><td>6.42</td><td>retail_and_wholes...</td><td>household_goods_r...</td><td>null</td><td>0.1</td><td>10636</td><td>5795.0</td><td>62144.0</td><td>3.60125906E8</td><td>52618.0</td><td>41.0</td><td>null</td></tr>\n",
       "<tr><td>43719937438</td><td>1195503</td><td>1</td><td>196.41</td><td>7f2a0fc6-6255-4f5...</td><td>2022-05-22</td><td>WA</td><td>6935</td><td>Female</td><td>Class Aptent Taci...</td><td>cable, satellite,...</td><td>b</td><td>5.01</td><td>info_media_and_te...</td><td>null</td><td>null</td><td>0.1</td><td>10636</td><td>5795.0</td><td>62144.0</td><td>3.60125906E8</td><td>52618.0</td><td>41.0</td><td>null</td></tr>\n",
       "<tr><td>49278214714</td><td>1195503</td><td>1</td><td>7.84</td><td>624a43e1-e583-47e...</td><td>2022-08-10</td><td>WA</td><td>6935</td><td>Female</td><td>Augue Malesuada LLP</td><td>digital goods: bo...</td><td>a</td><td>5.99</td><td>retail_and_wholes...</td><td>household_goods_r...</td><td>null</td><td>0.1</td><td>10636</td><td>5795.0</td><td>62144.0</td><td>3.60125906E8</td><td>52618.0</td><td>41.0</td><td>null</td></tr>\n",
       "<tr><td>46007761675</td><td>1195503</td><td>1</td><td>100.22</td><td>036e4012-7e3b-4cf...</td><td>2022-10-24</td><td>WA</td><td>6935</td><td>Female</td><td>Est Nunc Ullamcor...</td><td>computers, comput...</td><td>a</td><td>5.72</td><td>retail_and_wholes...</td><td>household_goods_r...</td><td>null</td><td>0.1</td><td>10636</td><td>5795.0</td><td>62144.0</td><td>3.60125906E8</td><td>52618.0</td><td>41.0</td><td>null</td></tr>\n",
       "<tr><td>50315283629</td><td>1195503</td><td>1</td><td>115.82</td><td>15aa1064-944f-4e5...</td><td>2021-11-13</td><td>WA</td><td>6935</td><td>Female</td><td>Iaculis Aliquet D...</td><td>lawn and garden s...</td><td>c</td><td>1.76</td><td>retail_and_wholes...</td><td>food_retailing</td><td>0.28488372093023295</td><td>0.1</td><td>10636</td><td>5795.0</td><td>62144.0</td><td>3.60125906E8</td><td>52618.0</td><td>41.0</td><td>0.028488372093023295</td></tr>\n",
       "<tr><td>46654841462</td><td>1195503</td><td>1</td><td>18.5</td><td>b661e2cb-0796-444...</td><td>2022-09-03</td><td>WA</td><td>6935</td><td>Female</td><td>Iaculis Enim Corp.</td><td>equipment, tool, ...</td><td>b</td><td>3.81</td><td>rental_hiring_and...</td><td>null</td><td>null</td><td>0.1</td><td>10636</td><td>5795.0</td><td>62144.0</td><td>3.60125906E8</td><td>52618.0</td><td>41.0</td><td>null</td></tr>\n",
       "<tr><td>50315283629</td><td>1195503</td><td>1</td><td>63.88</td><td>c4e1da7a-39b5-49d...</td><td>2022-10-13</td><td>WA</td><td>6935</td><td>Female</td><td>Iaculis Aliquet D...</td><td>lawn and garden s...</td><td>c</td><td>1.76</td><td>retail_and_wholes...</td><td>food_retailing</td><td>0.28488372093023295</td><td>0.1</td><td>10636</td><td>5795.0</td><td>62144.0</td><td>3.60125906E8</td><td>52618.0</td><td>41.0</td><td>0.028488372093023295</td></tr>\n",
       "</table>\n"
      ],
      "text/plain": [
       "+------------+-----------+-------+------------+--------------------+--------------+-----+--------+------+--------------------+--------------------+-------+----+--------------------+--------------------+--------------------------+----------------------+------------------------------------+---------------------------+-------------------------+------------------------+---------------------------+---------------------------+--------------------+\n",
       "|merchant_abn|consumer_id|user_id|dollar_value|            order_id|order_datetime|state|postcode|gender|       merchant_name|                 tag|revenue|rate|            category|         subcategory|merchant_fraud_probability|user_fraud_probability|estimated_region_population_2021_sum|persons_earners_2018-19_sum|mean_earnings_2018-19_avg|sum_earnings_2018-19_sum|median_earnings_2018-19_avg|med_age_earners_2018-19_avg|   fraud_probability|\n",
       "+------------+-----------+-------+------------+--------------------+--------------+-----+--------+------+--------------------+--------------------+-------+----+--------------------+--------------------+--------------------------+----------------------+------------------------------------+---------------------------+-------------------------+------------------------+---------------------------+---------------------------+--------------------+\n",
       "| 27093785141|    1195503|      1|      366.23|a8514aae-18fb-454...|    2021-11-17|   WA|    6935|Female|Placerat Orci Ins...|stationery, offic...|      c|2.73|retail_and_wholes...|    others_retailing|       0.29407407407407304|                   0.1|                               10636|                     5795.0|                  62144.0|            3.60125906E8|                    52618.0|                       41.0|0.029407407407407306|\n",
       "| 49125619545|    1195503|      1|      113.59|8dce56c3-1138-45b...|    2022-06-28|   WA|    6935|Female|Adipiscing Elit C...|cable, satellite,...|      a|5.66|info_media_and_te...|                null|                      null|                   0.1|                               10636|                     5795.0|                  62144.0|            3.60125906E8|                    52618.0|                       41.0|                null|\n",
       "| 28510201393|    1195503|      1|       587.4|32fcbb45-ae51-42f...|    2021-09-24|   WA|    6935|Female|Quam Curabitur Co...|bicycle shops - s...|      c|1.86|retail_and_wholes...|   department_stores|                      null|                   0.1|                               10636|                     5795.0|                  62144.0|            3.60125906E8|                    52618.0|                       41.0|                null|\n",
       "| 49167531725|    1195503|      1|       51.58|7080c274-17f7-4cc...|    2021-11-26|   WA|    6935|Female|     Felis Institute|digital goods: bo...|      a|6.42|retail_and_wholes...|household_goods_r...|                      null|                   0.1|                               10636|                     5795.0|                  62144.0|            3.60125906E8|                    52618.0|                       41.0|                null|\n",
       "| 43719937438|    1195503|      1|      196.41|7f2a0fc6-6255-4f5...|    2022-05-22|   WA|    6935|Female|Class Aptent Taci...|cable, satellite,...|      b|5.01|info_media_and_te...|                null|                      null|                   0.1|                               10636|                     5795.0|                  62144.0|            3.60125906E8|                    52618.0|                       41.0|                null|\n",
       "| 49278214714|    1195503|      1|        7.84|624a43e1-e583-47e...|    2022-08-10|   WA|    6935|Female| Augue Malesuada LLP|digital goods: bo...|      a|5.99|retail_and_wholes...|household_goods_r...|                      null|                   0.1|                               10636|                     5795.0|                  62144.0|            3.60125906E8|                    52618.0|                       41.0|                null|\n",
       "| 46007761675|    1195503|      1|      100.22|036e4012-7e3b-4cf...|    2022-10-24|   WA|    6935|Female|Est Nunc Ullamcor...|computers, comput...|      a|5.72|retail_and_wholes...|household_goods_r...|                      null|                   0.1|                               10636|                     5795.0|                  62144.0|            3.60125906E8|                    52618.0|                       41.0|                null|\n",
       "| 50315283629|    1195503|      1|      115.82|15aa1064-944f-4e5...|    2021-11-13|   WA|    6935|Female|Iaculis Aliquet D...|lawn and garden s...|      c|1.76|retail_and_wholes...|      food_retailing|       0.28488372093023295|                   0.1|                               10636|                     5795.0|                  62144.0|            3.60125906E8|                    52618.0|                       41.0|0.028488372093023295|\n",
       "| 46654841462|    1195503|      1|        18.5|b661e2cb-0796-444...|    2022-09-03|   WA|    6935|Female|  Iaculis Enim Corp.|equipment, tool, ...|      b|3.81|rental_hiring_and...|                null|                      null|                   0.1|                               10636|                     5795.0|                  62144.0|            3.60125906E8|                    52618.0|                       41.0|                null|\n",
       "| 50315283629|    1195503|      1|       63.88|c4e1da7a-39b5-49d...|    2022-10-13|   WA|    6935|Female|Iaculis Aliquet D...|lawn and garden s...|      c|1.76|retail_and_wholes...|      food_retailing|       0.28488372093023295|                   0.1|                               10636|                     5795.0|                  62144.0|            3.60125906E8|                    52618.0|                       41.0|0.028488372093023295|\n",
       "+------------+-----------+-------+------------+--------------------+--------------+-----+--------+------+--------------------+--------------------+-------+----+--------------------+--------------------+--------------------------+----------------------+------------------------------------+---------------------------+-------------------------+------------------------+---------------------------+---------------------------+--------------------+"
      ]
     },
     "execution_count": 76,
     "metadata": {},
     "output_type": "execute_result"
    }
   ],
   "source": [
    "sdf = spark.read.parquet(p('process_data.parquet', 'curated'), header=True)\n",
    "\n",
    "# Create Joint Probability of Fraud Transactions\n",
    "sdf = sdf.withColumn('fraud_probability', F.col('user_fraud_probability') * F.col('merchant_fraud_probability'))\n",
    "sdf.limit(10)"
   ]
  },
  {
   "cell_type": "code",
   "execution_count": 77,
   "metadata": {},
   "outputs": [
    {
     "name": "stdout",
     "output_type": "stream",
     "text": [
      "missing user_fraud_probability count: 2581301\n",
      "missing merchant_fraud_probability count: 13030611\n"
     ]
    }
   ],
   "source": [
    "print('missing user_fraud_probability count:', sdf.where(F.col('user_fraud_probability').isNull()).count())\n",
    "print('missing merchant_fraud_probability count:', sdf.where(F.col('merchant_fraud_probability').isNull()).count())"
   ]
  },
  {
   "cell_type": "code",
   "execution_count": 78,
   "metadata": {},
   "outputs": [
    {
     "data": {
      "text/plain": [
       "array([[<AxesSubplot:title={'center':'user_fraud_probability'}>]],\n",
       "      dtype=object)"
      ]
     },
     "execution_count": 78,
     "metadata": {},
     "output_type": "execute_result"
    },
    {
     "data": {
      "image/png": "[encoded data removed]",
      "text/plain": [
       "<Figure size 432x288 with 1 Axes>"
      ]
     },
     "metadata": {
      "needs_background": "light"
     },
     "output_type": "display_data"
    }
   ],
   "source": [
    "sdf.select(F.col('user_fraud_probability')).sample(0.1).toPandas().hist()"
   ]
  },
  {
   "cell_type": "code",
   "execution_count": 79,
   "metadata": {},
   "outputs": [
    {
     "data": {
      "text/plain": [
       "array([[<AxesSubplot:title={'center':'merchant_fraud_probability'}>]],\n",
       "      dtype=object)"
      ]
     },
     "execution_count": 79,
     "metadata": {},
     "output_type": "execute_result"
    },
    {
     "data": {
      "image/png": "[encoded data removed]",
      "text/plain": [
       "<Figure size 432x288 with 1 Axes>"
      ]
     },
     "metadata": {
      "needs_background": "light"
     },
     "output_type": "display_data"
    }
   ],
   "source": [
    "sdf.select(F.col('merchant_fraud_probability')).sample(0.1).toPandas().hist()"
   ]
  },
  {
   "cell_type": "code",
   "execution_count": 80,
   "metadata": {},
   "outputs": [
    {
     "data": {
      "text/plain": [
       "array([[<AxesSubplot:title={'center':'fraud_probability'}>]], dtype=object)"
      ]
     },
     "execution_count": 80,
     "metadata": {},
     "output_type": "execute_result"
    },
    {
     "data": {
      "image/png": "[encoded data removed]",
      "text/plain": [
       "<Figure size 432x288 with 1 Axes>"
      ]
     },
     "metadata": {
      "needs_background": "light"
     },
     "output_type": "display_data"
    }
   ],
   "source": [
    "sdf.select(F.col('fraud_probability')).sample(0.1).toPandas().hist()"
   ]
  },
  {
   "cell_type": "code",
   "execution_count": 81,
   "metadata": {},
   "outputs": [
    {
     "data": {
      "text/plain": [
       "<AxesSubplot:ylabel='Frequency'>"
      ]
     },
     "execution_count": 81,
     "metadata": {},
     "output_type": "execute_result"
    },
    {
     "data": {
      "image/png": "[encoded data removed]",
      "text/plain": [
       "<Figure size 432x288 with 1 Axes>"
      ]
     },
     "metadata": {
      "needs_background": "light"
     },
     "output_type": "display_data"
    },
    {
     "data": {
      "image/png": "[encoded data removed]",
      "text/plain": [
       "<Figure size 432x288 with 1 Axes>"
      ]
     },
     "metadata": {
      "needs_background": "light"
     },
     "output_type": "display_data"
    }
   ],
   "source": [
    "from math import log\n",
    "\n",
    "sdf.select(F.col('fraud_probability')).sample(0.1).toPandas().plot(kind='hist')\n",
    "sdf.select(F.col('fraud_probability')).sample(0.1).toPandas()\\\n",
    "    .applymap(log)\\\n",
    "    .rename({'fraud_probability': 'log-fraud_probability'}, axis=1)\\\n",
    "    .plot(kind='hist')"
   ]
  },
  {
   "cell_type": "markdown",
   "metadata": {},
   "source": [
    "### 2. Modelling\n",
    "We will use a specific predictors to help train the fraud detector."
   ]
  },
  {
   "cell_type": "code",
   "execution_count": 82,
   "metadata": {},
   "outputs": [],
   "source": [
    "from pyspark.ml.classification import LogisticRegression\n",
    "from pyspark.ml.feature import VectorAssembler, StringIndexer"
   ]
  },
  {
   "cell_type": "code",
   "execution_count": 83,
   "metadata": {},
   "outputs": [],
   "source": [
    "features = ['merchant_abn',\n",
    "    'user_id',\n",
    "    'dollar_value',\n",
    "    'state',\n",
    "    'postcode',\n",
    "    'gender',\n",
    "    'tag',\n",
    "    'revenue',\n",
    "    'rate',\n",
    "    'category',\n",
    "    'subcategory',\n",
    "    'merchant_fraud_probability',\n",
    "    'user_fraud_probability',\n",
    "    'estimated_region_population_2021_sum',\n",
    "    'persons_earners_2018-19_sum',\n",
    "    'mean_earnings_2018-19_avg',\n",
    "    'sum_earnings_2018-19_sum',\n",
    "    'median_earnings_2018-19_avg',\n",
    "    'med_age_earners_2018-19_avg']\n",
    "\n",
    "label = 'fraud_probability'"
   ]
  },
  {
   "cell_type": "code",
   "execution_count": 84,
   "metadata": {},
   "outputs": [
    {
     "name": "stderr",
     "output_type": "stream",
     "text": [
      "                                                                                \r"
     ]
    },
    {
     "name": "stdout",
     "output_type": "stream",
     "text": [
      "22/09/22 13:10:02 WARN DAGScheduler: Broadcasting large task binary with size 1007.6 KiB\n"
     ]
    },
    {
     "name": "stderr",
     "output_type": "stream",
     "text": [
      "[Stage 476:==================================================>    (12 + 1) / 13]\r"
     ]
    },
    {
     "name": "stdout",
     "output_type": "stream",
     "text": [
      "22/09/22 13:10:05 WARN DAGScheduler: Broadcasting large task binary with size 1001.5 KiB\n",
      "22/09/22 13:10:05 WARN DAGScheduler: Broadcasting large task binary with size 1011.9 KiB\n"
     ]
    },
    {
     "name": "stderr",
     "output_type": "stream",
     "text": [
      "[Stage 479:==================================================>    (12 + 1) / 13]\r"
     ]
    },
    {
     "name": "stdout",
     "output_type": "stream",
     "text": [
      "22/09/22 13:10:08 WARN DAGScheduler: Broadcasting large task binary with size 1004.7 KiB\n",
      "22/09/22 13:10:08 WARN DAGScheduler: Broadcasting large task binary with size 1016.2 KiB\n"
     ]
    },
    {
     "name": "stderr",
     "output_type": "stream",
     "text": [
      "[Stage 482:==================================================>    (12 + 1) / 13]\r"
     ]
    },
    {
     "name": "stdout",
     "output_type": "stream",
     "text": [
      "22/09/22 13:10:12 WARN DAGScheduler: Broadcasting large task binary with size 1007.8 KiB\n",
      "22/09/22 13:10:12 WARN DAGScheduler: Broadcasting large task binary with size 1022.0 KiB\n"
     ]
    },
    {
     "name": "stderr",
     "output_type": "stream",
     "text": [
      "[Stage 485:==================================================>    (12 + 1) / 13]\r"
     ]
    },
    {
     "name": "stdout",
     "output_type": "stream",
     "text": [
      "22/09/22 13:10:16 WARN DAGScheduler: Broadcasting large task binary with size 1012.4 KiB\n",
      "22/09/22 13:10:16 WARN DAGScheduler: Broadcasting large task binary with size 1026.4 KiB\n"
     ]
    },
    {
     "name": "stderr",
     "output_type": "stream",
     "text": [
      "[Stage 488:==================================================>    (12 + 1) / 13]\r"
     ]
    },
    {
     "name": "stdout",
     "output_type": "stream",
     "text": [
      "22/09/22 13:10:20 WARN DAGScheduler: Broadcasting large task binary with size 1015.7 KiB\n"
     ]
    },
    {
     "name": "stderr",
     "output_type": "stream",
     "text": [
      "                                                                                \r"
     ]
    }
   ],
   "source": [
    "categorical = ['postcode', 'state', 'merchant_abn', 'user_id', 'revenue', 'gender', 'tag', 'category', 'subcategory']\n",
    "\n",
    "for c in categorical:\n",
    "    v = StringIndexer(inputCol=c, outputCol=f'{c}_i', handleInvalid='skip')\n",
    "    model = v.fit(sdf)\n",
    "    sdf = model.transform(sdf).drop(c).withColumnRenamed(f'{c}_i', c)\n"
   ]
  },
  {
   "cell_type": "code",
   "execution_count": 85,
   "metadata": {},
   "outputs": [],
   "source": [
    "features_model = VectorAssembler(inputCols=features, outputCol='features', handleInvalid='keep')\n",
    "sdf = features_model.transform(sdf)"
   ]
  },
  {
   "cell_type": "code",
   "execution_count": 88,
   "metadata": {},
   "outputs": [
    {
     "name": "stdout",
     "output_type": "stream",
     "text": [
      "22/09/22 13:12:38 WARN DAGScheduler: Broadcasting large task binary with size 1220.5 KiB\n",
      "22/09/22 13:12:38 WARN DAGScheduler: Broadcasting large task binary with size 1220.5 KiB\n"
     ]
    },
    {
     "data": {
      "text/html": [
       "<table border='1'>\n",
       "<tr><th>consumer_id</th><th>dollar_value</th><th>order_id</th><th>order_datetime</th><th>merchant_name</th><th>rate</th><th>merchant_fraud_probability</th><th>user_fraud_probability</th><th>estimated_region_population_2021_sum</th><th>persons_earners_2018-19_sum</th><th>mean_earnings_2018-19_avg</th><th>sum_earnings_2018-19_sum</th><th>median_earnings_2018-19_avg</th><th>med_age_earners_2018-19_avg</th><th>fraud_probability</th><th>postcode</th><th>state</th><th>merchant_abn</th><th>user_id</th><th>revenue</th><th>gender</th><th>tag</th><th>category</th><th>subcategory</th><th>features</th><th>label</th></tr>\n",
       "<tr><td>1195503</td><td>366.23</td><td>a8514aae-18fb-454...</td><td>2021-11-17</td><td>Placerat Orci Ins...</td><td>2.73</td><td>0.29407407407407304</td><td>0.1</td><td>10636</td><td>5795.0</td><td>62144.0</td><td>3.60125906E8</td><td>52618.0</td><td>41.0</td><td>0.029407407407407306</td><td>169.0</td><td>2.0</td><td>87.0</td><td>20960.0</td><td>2.0</td><td>1.0</td><td>20.0</td><td>0.0</td><td>2.0</td><td>[87.0,20960.0,366...</td><td>0</td></tr>\n",
       "<tr><td>1195503</td><td>587.4</td><td>32fcbb45-ae51-42f...</td><td>2021-09-24</td><td>Quam Curabitur Co...</td><td>1.86</td><td>null</td><td>0.1</td><td>10636</td><td>5795.0</td><td>62144.0</td><td>3.60125906E8</td><td>52618.0</td><td>41.0</td><td>null</td><td>169.0</td><td>2.0</td><td>1365.0</td><td>20960.0</td><td>2.0</td><td>1.0</td><td>18.0</td><td>0.0</td><td>0.0</td><td>[1365.0,20960.0,5...</td><td>0</td></tr>\n",
       "<tr><td>1195503</td><td>51.58</td><td>7080c274-17f7-4cc...</td><td>2021-11-26</td><td>Felis Institute</td><td>6.42</td><td>null</td><td>0.1</td><td>10636</td><td>5795.0</td><td>62144.0</td><td>3.60125906E8</td><td>52618.0</td><td>41.0</td><td>null</td><td>169.0</td><td>2.0</td><td>800.0</td><td>20960.0</td><td>0.0</td><td>1.0</td><td>2.0</td><td>0.0</td><td>1.0</td><td>[800.0,20960.0,51...</td><td>0</td></tr>\n",
       "<tr><td>1195503</td><td>7.84</td><td>624a43e1-e583-47e...</td><td>2022-08-10</td><td>Augue Malesuada LLP</td><td>5.99</td><td>null</td><td>0.1</td><td>10636</td><td>5795.0</td><td>62144.0</td><td>3.60125906E8</td><td>52618.0</td><td>41.0</td><td>null</td><td>169.0</td><td>2.0</td><td>368.0</td><td>20960.0</td><td>0.0</td><td>1.0</td><td>2.0</td><td>0.0</td><td>1.0</td><td>[368.0,20960.0,7....</td><td>0</td></tr>\n",
       "<tr><td>1195503</td><td>100.22</td><td>036e4012-7e3b-4cf...</td><td>2022-10-24</td><td>Est Nunc Ullamcor...</td><td>5.72</td><td>null</td><td>0.1</td><td>10636</td><td>5795.0</td><td>62144.0</td><td>3.60125906E8</td><td>52618.0</td><td>41.0</td><td>null</td><td>169.0</td><td>2.0</td><td>1716.0</td><td>20960.0</td><td>0.0</td><td>1.0</td><td>7.0</td><td>0.0</td><td>1.0</td><td>[1716.0,20960.0,1...</td><td>0</td></tr>\n",
       "<tr><td>1195503</td><td>115.82</td><td>15aa1064-944f-4e5...</td><td>2021-11-13</td><td>Iaculis Aliquet D...</td><td>1.76</td><td>0.28488372093023295</td><td>0.1</td><td>10636</td><td>5795.0</td><td>62144.0</td><td>3.60125906E8</td><td>52618.0</td><td>41.0</td><td>0.028488372093023295</td><td>169.0</td><td>2.0</td><td>67.0</td><td>20960.0</td><td>2.0</td><td>1.0</td><td>13.0</td><td>0.0</td><td>4.0</td><td>[67.0,20960.0,115...</td><td>0</td></tr>\n",
       "<tr><td>1195503</td><td>63.88</td><td>c4e1da7a-39b5-49d...</td><td>2022-10-13</td><td>Iaculis Aliquet D...</td><td>1.76</td><td>0.28488372093023295</td><td>0.1</td><td>10636</td><td>5795.0</td><td>62144.0</td><td>3.60125906E8</td><td>52618.0</td><td>41.0</td><td>0.028488372093023295</td><td>169.0</td><td>2.0</td><td>67.0</td><td>20960.0</td><td>2.0</td><td>1.0</td><td>13.0</td><td>0.0</td><td>4.0</td><td>[67.0,20960.0,63....</td><td>0</td></tr>\n",
       "<tr><td>1195503</td><td>75.96</td><td>2acb5626-c669-42f...</td><td>2021-09-24</td><td>Ut Tincidunt Foun...</td><td>6.3</td><td>null</td><td>0.1</td><td>10636</td><td>5795.0</td><td>62144.0</td><td>3.60125906E8</td><td>52618.0</td><td>41.0</td><td>null</td><td>169.0</td><td>2.0</td><td>430.0</td><td>20960.0</td><td>0.0</td><td>1.0</td><td>6.0</td><td>0.0</td><td>2.0</td><td>[430.0,20960.0,75...</td><td>0</td></tr>\n",
       "<tr><td>1195503</td><td>22.37</td><td>6bf06960-078c-410...</td><td>2021-10-02</td><td>Dis Parturient Mo...</td><td>6.26</td><td>null</td><td>0.1</td><td>10636</td><td>5795.0</td><td>62144.0</td><td>3.60125906E8</td><td>52618.0</td><td>41.0</td><td>null</td><td>169.0</td><td>2.0</td><td>788.0</td><td>20960.0</td><td>0.0</td><td>1.0</td><td>19.0</td><td>0.0</td><td>0.0</td><td>[788.0,20960.0,22...</td><td>0</td></tr>\n",
       "<tr><td>1195503</td><td>49.1</td><td>fe9ad64b-9ab5-48b...</td><td>2022-04-27</td><td>Lacus Quisque Imp...</td><td>3.52</td><td>null</td><td>0.1</td><td>10636</td><td>5795.0</td><td>62144.0</td><td>3.60125906E8</td><td>52618.0</td><td>41.0</td><td>null</td><td>169.0</td><td>2.0</td><td>2519.0</td><td>20960.0</td><td>1.0</td><td>1.0</td><td>2.0</td><td>0.0</td><td>1.0</td><td>[2519.0,20960.0,4...</td><td>0</td></tr>\n",
       "<tr><td>1195503</td><td>94.67</td><td>8ef0025d-67d8-456...</td><td>2022-09-09</td><td>Dis Parturient Mo...</td><td>6.26</td><td>null</td><td>0.1</td><td>10636</td><td>5795.0</td><td>62144.0</td><td>3.60125906E8</td><td>52618.0</td><td>41.0</td><td>null</td><td>169.0</td><td>2.0</td><td>788.0</td><td>20960.0</td><td>0.0</td><td>1.0</td><td>19.0</td><td>0.0</td><td>0.0</td><td>[788.0,20960.0,94...</td><td>0</td></tr>\n",
       "<tr><td>1195503</td><td>100.93</td><td>4fe7b08f-72bd-42f...</td><td>2021-10-19</td><td>Volutpat Nunc Sit...</td><td>3.8</td><td>null</td><td>0.1</td><td>10636</td><td>5795.0</td><td>62144.0</td><td>3.60125906E8</td><td>52618.0</td><td>41.0</td><td>null</td><td>169.0</td><td>2.0</td><td>499.0</td><td>20960.0</td><td>1.0</td><td>1.0</td><td>1.0</td><td>0.0</td><td>0.0</td><td>[499.0,20960.0,10...</td><td>0</td></tr>\n",
       "<tr><td>1195503</td><td>326.15</td><td>ff1304f4-c2ae-41b...</td><td>2021-10-08</td><td>Hendrerit A Corpo...</td><td>6.64</td><td>null</td><td>0.1</td><td>10636</td><td>5795.0</td><td>62144.0</td><td>3.60125906E8</td><td>52618.0</td><td>41.0</td><td>null</td><td>169.0</td><td>2.0</td><td>127.0</td><td>20960.0</td><td>0.0</td><td>1.0</td><td>3.0</td><td>0.0</td><td>3.0</td><td>[127.0,20960.0,32...</td><td>0</td></tr>\n",
       "<tr><td>1195503</td><td>216.25</td><td>80764319-2fac-4b0...</td><td>2022-02-17</td><td>Hendrerit A Corpo...</td><td>6.64</td><td>null</td><td>0.1</td><td>10636</td><td>5795.0</td><td>62144.0</td><td>3.60125906E8</td><td>52618.0</td><td>41.0</td><td>null</td><td>169.0</td><td>2.0</td><td>127.0</td><td>20960.0</td><td>0.0</td><td>1.0</td><td>3.0</td><td>0.0</td><td>3.0</td><td>[127.0,20960.0,21...</td><td>0</td></tr>\n",
       "<tr><td>1195503</td><td>11.16</td><td>5bcd771f-8bc5-490...</td><td>2021-10-29</td><td>Nisi Aenean Company</td><td>5.87</td><td>null</td><td>0.1</td><td>10636</td><td>5795.0</td><td>62144.0</td><td>3.60125906E8</td><td>52618.0</td><td>41.0</td><td>null</td><td>169.0</td><td>2.0</td><td>1050.0</td><td>20960.0</td><td>0.0</td><td>1.0</td><td>3.0</td><td>0.0</td><td>3.0</td><td>[1050.0,20960.0,1...</td><td>0</td></tr>\n",
       "<tr><td>1195503</td><td>251.3</td><td>9ef8729c-371e-4ce...</td><td>2021-10-07</td><td>Sollicitudin A In...</td><td>5.74</td><td>null</td><td>0.1</td><td>10636</td><td>5795.0</td><td>62144.0</td><td>3.60125906E8</td><td>52618.0</td><td>41.0</td><td>null</td><td>169.0</td><td>2.0</td><td>1637.0</td><td>20960.0</td><td>0.0</td><td>1.0</td><td>0.0</td><td>0.0</td><td>0.0</td><td>[1637.0,20960.0,2...</td><td>0</td></tr>\n",
       "<tr><td>1195503</td><td>52.77</td><td>8702ae7d-e635-419...</td><td>2021-09-09</td><td>Vestibulum Accums...</td><td>6.41</td><td>null</td><td>0.1</td><td>10636</td><td>5795.0</td><td>62144.0</td><td>3.60125906E8</td><td>52618.0</td><td>41.0</td><td>null</td><td>169.0</td><td>2.0</td><td>110.0</td><td>20960.0</td><td>0.0</td><td>1.0</td><td>3.0</td><td>0.0</td><td>3.0</td><td>[110.0,20960.0,52...</td><td>0</td></tr>\n",
       "<tr><td>1195503</td><td>2025.48</td><td>4d4fdd57-eeff-4f9...</td><td>2022-10-26</td><td>Sollicitudin A In...</td><td>5.74</td><td>null</td><td>0.1</td><td>10636</td><td>5795.0</td><td>62144.0</td><td>3.60125906E8</td><td>52618.0</td><td>41.0</td><td>null</td><td>169.0</td><td>2.0</td><td>1637.0</td><td>20960.0</td><td>0.0</td><td>1.0</td><td>0.0</td><td>0.0</td><td>0.0</td><td>[1637.0,20960.0,2...</td><td>0</td></tr>\n",
       "<tr><td>1195503</td><td>91.22</td><td>0bd44095-5836-479...</td><td>2022-04-12</td><td>Vestibulum Accums...</td><td>6.41</td><td>null</td><td>0.1</td><td>10636</td><td>5795.0</td><td>62144.0</td><td>3.60125906E8</td><td>52618.0</td><td>41.0</td><td>null</td><td>169.0</td><td>2.0</td><td>110.0</td><td>20960.0</td><td>0.0</td><td>1.0</td><td>3.0</td><td>0.0</td><td>3.0</td><td>[110.0,20960.0,91...</td><td>0</td></tr>\n",
       "<tr><td>1195503</td><td>811.42</td><td>a43c190e-2cce-431...</td><td>2022-02-24</td><td>Diam Eu Dolor LLC</td><td>4.1</td><td>0.30671428571428505</td><td>0.1</td><td>10636</td><td>5795.0</td><td>62144.0</td><td>3.60125906E8</td><td>52618.0</td><td>41.0</td><td>0.030671428571428506</td><td>169.0</td><td>2.0</td><td>275.0</td><td>20960.0</td><td>1.0</td><td>1.0</td><td>0.0</td><td>0.0</td><td>0.0</td><td>[275.0,20960.0,81...</td><td>0</td></tr>\n",
       "</table>\n",
       "only showing top 20 rows\n"
      ],
      "text/plain": [
       "+-----------+------------+--------------------+--------------+--------------------+----+--------------------------+----------------------+------------------------------------+---------------------------+-------------------------+------------------------+---------------------------+---------------------------+--------------------+--------+-----+------------+-------+-------+------+----+--------+-----------+--------------------+-----+\n",
       "|consumer_id|dollar_value|            order_id|order_datetime|       merchant_name|rate|merchant_fraud_probability|user_fraud_probability|estimated_region_population_2021_sum|persons_earners_2018-19_sum|mean_earnings_2018-19_avg|sum_earnings_2018-19_sum|median_earnings_2018-19_avg|med_age_earners_2018-19_avg|   fraud_probability|postcode|state|merchant_abn|user_id|revenue|gender| tag|category|subcategory|            features|label|\n",
       "+-----------+------------+--------------------+--------------+--------------------+----+--------------------------+----------------------+------------------------------------+---------------------------+-------------------------+------------------------+---------------------------+---------------------------+--------------------+--------+-----+------------+-------+-------+------+----+--------+-----------+--------------------+-----+\n",
       "|    1195503|      366.23|a8514aae-18fb-454...|    2021-11-17|Placerat Orci Ins...|2.73|       0.29407407407407304|                   0.1|                               10636|                     5795.0|                  62144.0|            3.60125906E8|                    52618.0|                       41.0|0.029407407407407306|   169.0|  2.0|        87.0|20960.0|    2.0|   1.0|20.0|     0.0|        2.0|[87.0,20960.0,366...|    0|\n",
       "|    1195503|       587.4|32fcbb45-ae51-42f...|    2021-09-24|Quam Curabitur Co...|1.86|                      null|                   0.1|                               10636|                     5795.0|                  62144.0|            3.60125906E8|                    52618.0|                       41.0|                null|   169.0|  2.0|      1365.0|20960.0|    2.0|   1.0|18.0|     0.0|        0.0|[1365.0,20960.0,5...|    0|\n",
       "|    1195503|       51.58|7080c274-17f7-4cc...|    2021-11-26|     Felis Institute|6.42|                      null|                   0.1|                               10636|                     5795.0|                  62144.0|            3.60125906E8|                    52618.0|                       41.0|                null|   169.0|  2.0|       800.0|20960.0|    0.0|   1.0| 2.0|     0.0|        1.0|[800.0,20960.0,51...|    0|\n",
       "|    1195503|        7.84|624a43e1-e583-47e...|    2022-08-10| Augue Malesuada LLP|5.99|                      null|                   0.1|                               10636|                     5795.0|                  62144.0|            3.60125906E8|                    52618.0|                       41.0|                null|   169.0|  2.0|       368.0|20960.0|    0.0|   1.0| 2.0|     0.0|        1.0|[368.0,20960.0,7....|    0|\n",
       "|    1195503|      100.22|036e4012-7e3b-4cf...|    2022-10-24|Est Nunc Ullamcor...|5.72|                      null|                   0.1|                               10636|                     5795.0|                  62144.0|            3.60125906E8|                    52618.0|                       41.0|                null|   169.0|  2.0|      1716.0|20960.0|    0.0|   1.0| 7.0|     0.0|        1.0|[1716.0,20960.0,1...|    0|\n",
       "|    1195503|      115.82|15aa1064-944f-4e5...|    2021-11-13|Iaculis Aliquet D...|1.76|       0.28488372093023295|                   0.1|                               10636|                     5795.0|                  62144.0|            3.60125906E8|                    52618.0|                       41.0|0.028488372093023295|   169.0|  2.0|        67.0|20960.0|    2.0|   1.0|13.0|     0.0|        4.0|[67.0,20960.0,115...|    0|\n",
       "|    1195503|       63.88|c4e1da7a-39b5-49d...|    2022-10-13|Iaculis Aliquet D...|1.76|       0.28488372093023295|                   0.1|                               10636|                     5795.0|                  62144.0|            3.60125906E8|                    52618.0|                       41.0|0.028488372093023295|   169.0|  2.0|        67.0|20960.0|    2.0|   1.0|13.0|     0.0|        4.0|[67.0,20960.0,63....|    0|\n",
       "|    1195503|       75.96|2acb5626-c669-42f...|    2021-09-24|Ut Tincidunt Foun...| 6.3|                      null|                   0.1|                               10636|                     5795.0|                  62144.0|            3.60125906E8|                    52618.0|                       41.0|                null|   169.0|  2.0|       430.0|20960.0|    0.0|   1.0| 6.0|     0.0|        2.0|[430.0,20960.0,75...|    0|\n",
       "|    1195503|       22.37|6bf06960-078c-410...|    2021-10-02|Dis Parturient Mo...|6.26|                      null|                   0.1|                               10636|                     5795.0|                  62144.0|            3.60125906E8|                    52618.0|                       41.0|                null|   169.0|  2.0|       788.0|20960.0|    0.0|   1.0|19.0|     0.0|        0.0|[788.0,20960.0,22...|    0|\n",
       "|    1195503|        49.1|fe9ad64b-9ab5-48b...|    2022-04-27|Lacus Quisque Imp...|3.52|                      null|                   0.1|                               10636|                     5795.0|                  62144.0|            3.60125906E8|                    52618.0|                       41.0|                null|   169.0|  2.0|      2519.0|20960.0|    1.0|   1.0| 2.0|     0.0|        1.0|[2519.0,20960.0,4...|    0|\n",
       "|    1195503|       94.67|8ef0025d-67d8-456...|    2022-09-09|Dis Parturient Mo...|6.26|                      null|                   0.1|                               10636|                     5795.0|                  62144.0|            3.60125906E8|                    52618.0|                       41.0|                null|   169.0|  2.0|       788.0|20960.0|    0.0|   1.0|19.0|     0.0|        0.0|[788.0,20960.0,94...|    0|\n",
       "|    1195503|      100.93|4fe7b08f-72bd-42f...|    2021-10-19|Volutpat Nunc Sit...| 3.8|                      null|                   0.1|                               10636|                     5795.0|                  62144.0|            3.60125906E8|                    52618.0|                       41.0|                null|   169.0|  2.0|       499.0|20960.0|    1.0|   1.0| 1.0|     0.0|        0.0|[499.0,20960.0,10...|    0|\n",
       "|    1195503|      326.15|ff1304f4-c2ae-41b...|    2021-10-08|Hendrerit A Corpo...|6.64|                      null|                   0.1|                               10636|                     5795.0|                  62144.0|            3.60125906E8|                    52618.0|                       41.0|                null|   169.0|  2.0|       127.0|20960.0|    0.0|   1.0| 3.0|     0.0|        3.0|[127.0,20960.0,32...|    0|\n",
       "|    1195503|      216.25|80764319-2fac-4b0...|    2022-02-17|Hendrerit A Corpo...|6.64|                      null|                   0.1|                               10636|                     5795.0|                  62144.0|            3.60125906E8|                    52618.0|                       41.0|                null|   169.0|  2.0|       127.0|20960.0|    0.0|   1.0| 3.0|     0.0|        3.0|[127.0,20960.0,21...|    0|\n",
       "|    1195503|       11.16|5bcd771f-8bc5-490...|    2021-10-29| Nisi Aenean Company|5.87|                      null|                   0.1|                               10636|                     5795.0|                  62144.0|            3.60125906E8|                    52618.0|                       41.0|                null|   169.0|  2.0|      1050.0|20960.0|    0.0|   1.0| 3.0|     0.0|        3.0|[1050.0,20960.0,1...|    0|\n",
       "|    1195503|       251.3|9ef8729c-371e-4ce...|    2021-10-07|Sollicitudin A In...|5.74|                      null|                   0.1|                               10636|                     5795.0|                  62144.0|            3.60125906E8|                    52618.0|                       41.0|                null|   169.0|  2.0|      1637.0|20960.0|    0.0|   1.0| 0.0|     0.0|        0.0|[1637.0,20960.0,2...|    0|\n",
       "|    1195503|       52.77|8702ae7d-e635-419...|    2021-09-09|Vestibulum Accums...|6.41|                      null|                   0.1|                               10636|                     5795.0|                  62144.0|            3.60125906E8|                    52618.0|                       41.0|                null|   169.0|  2.0|       110.0|20960.0|    0.0|   1.0| 3.0|     0.0|        3.0|[110.0,20960.0,52...|    0|\n",
       "|    1195503|     2025.48|4d4fdd57-eeff-4f9...|    2022-10-26|Sollicitudin A In...|5.74|                      null|                   0.1|                               10636|                     5795.0|                  62144.0|            3.60125906E8|                    52618.0|                       41.0|                null|   169.0|  2.0|      1637.0|20960.0|    0.0|   1.0| 0.0|     0.0|        0.0|[1637.0,20960.0,2...|    0|\n",
       "|    1195503|       91.22|0bd44095-5836-479...|    2022-04-12|Vestibulum Accums...|6.41|                      null|                   0.1|                               10636|                     5795.0|                  62144.0|            3.60125906E8|                    52618.0|                       41.0|                null|   169.0|  2.0|       110.0|20960.0|    0.0|   1.0| 3.0|     0.0|        3.0|[110.0,20960.0,91...|    0|\n",
       "|    1195503|      811.42|a43c190e-2cce-431...|    2022-02-24|   Diam Eu Dolor LLC| 4.1|       0.30671428571428505|                   0.1|                               10636|                     5795.0|                  62144.0|            3.60125906E8|                    52618.0|                       41.0|0.030671428571428506|   169.0|  2.0|       275.0|20960.0|    1.0|   1.0| 0.0|     0.0|        0.0|[275.0,20960.0,81...|    0|\n",
       "+-----------+------------+--------------------+--------------+--------------------+----+--------------------------+----------------------+------------------------------------+---------------------------+-------------------------+------------------------+---------------------------+---------------------------+--------------------+--------+-----+------------+-------+-------+------+----+--------+-----------+--------------------+-----+\n",
       "only showing top 20 rows"
      ]
     },
     "execution_count": 88,
     "metadata": {},
     "output_type": "execute_result"
    }
   ],
   "source": [
    "sdf = sdf.withColumn('label', F.when(F.col('fraud_probability') > 0.25, 1).otherwise(0))\n",
    "sdf"
   ]
  },
  {
   "cell_type": "markdown",
   "metadata": {},
   "source": [
    "We will train the model on both label 1 and label 2"
   ]
  },
  {
   "cell_type": "code",
   "execution_count": 92,
   "metadata": {},
   "outputs": [
    {
     "name": "stdout",
     "output_type": "stream",
     "text": [
      "22/09/22 13:14:41 WARN DAGScheduler: Broadcasting large task binary with size 1228.2 KiB\n",
      "22/09/22 13:14:41 WARN DAGScheduler: Broadcasting large task binary with size 1228.2 KiB\n"
     ]
    },
    {
     "data": {
      "text/html": [
       "<table border='1'>\n",
       "<tr><th>consumer_id</th><th>dollar_value</th><th>order_id</th><th>order_datetime</th><th>merchant_name</th><th>rate</th><th>merchant_fraud_probability</th><th>user_fraud_probability</th><th>estimated_region_population_2021_sum</th><th>persons_earners_2018-19_sum</th><th>mean_earnings_2018-19_avg</th><th>sum_earnings_2018-19_sum</th><th>median_earnings_2018-19_avg</th><th>med_age_earners_2018-19_avg</th><th>fraud_probability</th><th>postcode</th><th>state</th><th>merchant_abn</th><th>user_id</th><th>revenue</th><th>gender</th><th>tag</th><th>category</th><th>subcategory</th><th>features</th><th>label</th></tr>\n",
       "<tr><td>1195503</td><td>366.23</td><td>a8514aae-18fb-454...</td><td>2021-11-17</td><td>Placerat Orci Ins...</td><td>2.73</td><td>0.29407407407407304</td><td>0.1</td><td>10636</td><td>5795.0</td><td>62144.0</td><td>3.60125906E8</td><td>52618.0</td><td>41.0</td><td>0.029407407407407306</td><td>169.0</td><td>2.0</td><td>87.0</td><td>20960.0</td><td>2.0</td><td>1.0</td><td>20.0</td><td>0.0</td><td>2.0</td><td>[87.0,20960.0,366...</td><td>0</td></tr>\n",
       "</table>\n"
      ],
      "text/plain": [
       "+-----------+------------+--------------------+--------------+--------------------+----+--------------------------+----------------------+------------------------------------+---------------------------+-------------------------+------------------------+---------------------------+---------------------------+--------------------+--------+-----+------------+-------+-------+------+----+--------+-----------+--------------------+-----+\n",
       "|consumer_id|dollar_value|            order_id|order_datetime|       merchant_name|rate|merchant_fraud_probability|user_fraud_probability|estimated_region_population_2021_sum|persons_earners_2018-19_sum|mean_earnings_2018-19_avg|sum_earnings_2018-19_sum|median_earnings_2018-19_avg|med_age_earners_2018-19_avg|   fraud_probability|postcode|state|merchant_abn|user_id|revenue|gender| tag|category|subcategory|            features|label|\n",
       "+-----------+------------+--------------------+--------------+--------------------+----+--------------------------+----------------------+------------------------------------+---------------------------+-------------------------+------------------------+---------------------------+---------------------------+--------------------+--------+-----+------------+-------+-------+------+----+--------+-----------+--------------------+-----+\n",
       "|    1195503|      366.23|a8514aae-18fb-454...|    2021-11-17|Placerat Orci Ins...|2.73|       0.29407407407407304|                   0.1|                               10636|                     5795.0|                  62144.0|            3.60125906E8|                    52618.0|                       41.0|0.029407407407407306|   169.0|  2.0|        87.0|20960.0|    2.0|   1.0|20.0|     0.0|        2.0|[87.0,20960.0,366...|    0|\n",
       "+-----------+------------+--------------------+--------------+--------------------+----+--------------------------+----------------------+------------------------------------+---------------------------+-------------------------+------------------------+---------------------------+---------------------------+--------------------+--------+-----+------------+-------+-------+------+----+--------+-----------+--------------------+-----+"
      ]
     },
     "execution_count": 92,
     "metadata": {},
     "output_type": "execute_result"
    }
   ],
   "source": [
    "sdf.limit(1)"
   ]
  },
  {
   "cell_type": "code",
   "execution_count": 93,
   "metadata": {},
   "outputs": [
    {
     "name": "stdout",
     "output_type": "stream",
     "text": [
      "22/09/22 13:15:30 WARN DAGScheduler: Broadcasting large task binary with size 1247.6 KiB\n"
     ]
    },
    {
     "name": "stderr",
     "output_type": "stream",
     "text": [
      "[Stage 509:==================================================>    (12 + 1) / 13]\r"
     ]
    },
    {
     "name": "stdout",
     "output_type": "stream",
     "text": [
      "22/09/22 13:15:47 WARN DAGScheduler: Broadcasting large task binary with size 1248.8 KiB\n",
      "22/09/22 13:15:47 WARN DAGScheduler: Broadcasting large task binary with size 1249.2 KiB\n"
     ]
    },
    {
     "name": "stderr",
     "output_type": "stream",
     "text": [
      "[Stage 511:==================================================>    (12 + 1) / 13]\r"
     ]
    },
    {
     "name": "stdout",
     "output_type": "stream",
     "text": [
      "22/09/22 13:16:04 WARN DAGScheduler: Broadcasting large task binary with size 1250.3 KiB\n",
      "22/09/22 13:16:04 ERROR Instrumentation: java.lang.IllegalArgumentException: requirement failed: init value should <= bound\n",
      "\tat scala.Predef$.require(Predef.scala:281)\n",
      "\tat breeze.optimize.StrongWolfeLineSearch.minimizeWithBound(StrongWolfe.scala:73)\n",
      "\tat breeze.optimize.StrongWolfeLineSearch.minimize(StrongWolfe.scala:62)\n",
      "\tat breeze.optimize.LBFGS.determineStepSize(LBFGS.scala:82)\n",
      "\tat breeze.optimize.LBFGS.determineStepSize(LBFGS.scala:38)\n",
      "\tat breeze.optimize.FirstOrderMinimizer.$anonfun$infiniteIterations$1(FirstOrderMinimizer.scala:60)\n",
      "\tat scala.collection.Iterator$$anon$7.next(Iterator.scala:140)\n",
      "\tat breeze.util.IteratorImplicits$RichIterator$$anon$2.next(Implicits.scala:74)\n",
      "\tat org.apache.spark.ml.classification.LogisticRegression.trainImpl(LogisticRegression.scala:1010)\n",
      "\tat org.apache.spark.ml.classification.LogisticRegression.$anonfun$train$1(LogisticRegression.scala:629)\n",
      "\tat org.apache.spark.ml.util.Instrumentation$.$anonfun$instrumented$1(Instrumentation.scala:191)\n",
      "\tat scala.util.Try$.apply(Try.scala:213)\n",
      "\tat org.apache.spark.ml.util.Instrumentation$.instrumented(Instrumentation.scala:191)\n",
      "\tat org.apache.spark.ml.classification.LogisticRegression.train(LogisticRegression.scala:496)\n",
      "\tat org.apache.spark.ml.classification.LogisticRegression.train(LogisticRegression.scala:286)\n",
      "\tat org.apache.spark.ml.Predictor.fit(Predictor.scala:151)\n",
      "\tat org.apache.spark.ml.Predictor.fit(Predictor.scala:115)\n",
      "\tat java.base/jdk.internal.reflect.NativeMethodAccessorImpl.invoke0(Native Method)\n",
      "\tat java.base/jdk.internal.reflect.NativeMethodAccessorImpl.invoke(NativeMethodAccessorImpl.java:78)\n",
      "\tat java.base/jdk.internal.reflect.DelegatingMethodAccessorImpl.invoke(DelegatingMethodAccessorImpl.java:43)\n",
      "\tat java.base/java.lang.reflect.Method.invoke(Method.java:567)\n",
      "\tat py4j.reflection.MethodInvoker.invoke(MethodInvoker.java:244)\n",
      "\tat py4j.reflection.ReflectionEngine.invoke(ReflectionEngine.java:357)\n",
      "\tat py4j.Gateway.invoke(Gateway.java:282)\n",
      "\tat py4j.commands.AbstractCommand.invokeMethod(AbstractCommand.java:132)\n",
      "\tat py4j.commands.CallCommand.execute(CallCommand.java:79)\n",
      "\tat py4j.ClientServerConnection.waitForCommands(ClientServerConnection.java:182)\n",
      "\tat py4j.ClientServerConnection.run(ClientServerConnection.java:106)\n",
      "\tat java.base/java.lang.Thread.run(Thread.java:831)\n",
      "\n"
     ]
    },
    {
     "name": "stderr",
     "output_type": "stream",
     "text": [
      "                                                                                \r"
     ]
    },
    {
     "ename": "IllegalArgumentException",
     "evalue": "requirement failed: init value should <= bound",
     "output_type": "error",
     "traceback": [
      "\u001b[0;31m---------------------------------------------------------------------------\u001b[0m",
      "\u001b[0;31mIllegalArgumentException\u001b[0m                  Traceback (most recent call last)",
      "\u001b[0;32m/var/folders/4b/ktzlv7s51cj18fqc3hscsqz80000gn/T/ipykernel_24353/1536326070.py\u001b[0m in \u001b[0;36m<module>\u001b[0;34m\u001b[0m\n\u001b[1;32m      1\u001b[0m \u001b[0mLR\u001b[0m \u001b[0;34m=\u001b[0m \u001b[0mLogisticRegression\u001b[0m\u001b[0;34m(\u001b[0m\u001b[0mfeaturesCol\u001b[0m\u001b[0;34m=\u001b[0m\u001b[0;34m'features'\u001b[0m\u001b[0;34m,\u001b[0m \u001b[0mlabelCol\u001b[0m\u001b[0;34m=\u001b[0m\u001b[0;34m'label'\u001b[0m\u001b[0;34m,\u001b[0m \u001b[0mpredictionCol\u001b[0m\u001b[0;34m=\u001b[0m\u001b[0;34m'prediction'\u001b[0m\u001b[0;34m)\u001b[0m\u001b[0;34m\u001b[0m\u001b[0;34m\u001b[0m\u001b[0m\n\u001b[0;32m----> 2\u001b[0;31m \u001b[0mmodel\u001b[0m \u001b[0;34m=\u001b[0m \u001b[0mLR\u001b[0m\u001b[0;34m.\u001b[0m\u001b[0mfit\u001b[0m\u001b[0;34m(\u001b[0m\u001b[0msdf\u001b[0m\u001b[0;34m)\u001b[0m\u001b[0;34m\u001b[0m\u001b[0;34m\u001b[0m\u001b[0m\n\u001b[0m\u001b[1;32m      3\u001b[0m \u001b[0msdf\u001b[0m \u001b[0;34m=\u001b[0m \u001b[0mmodel\u001b[0m\u001b[0;34m.\u001b[0m\u001b[0mtransform\u001b[0m\u001b[0;34m(\u001b[0m\u001b[0msdf\u001b[0m\u001b[0;34m)\u001b[0m\u001b[0;34m\u001b[0m\u001b[0;34m\u001b[0m\u001b[0m\n\u001b[1;32m      4\u001b[0m \u001b[0msdf\u001b[0m\u001b[0;34m\u001b[0m\u001b[0;34m\u001b[0m\u001b[0m\n",
      "\u001b[0;32m/usr/local/lib/python3.9/site-packages/pyspark/ml/base.py\u001b[0m in \u001b[0;36mfit\u001b[0;34m(self, dataset, params)\u001b[0m\n\u001b[1;32m    203\u001b[0m                 \u001b[0;32mreturn\u001b[0m \u001b[0mself\u001b[0m\u001b[0;34m.\u001b[0m\u001b[0mcopy\u001b[0m\u001b[0;34m(\u001b[0m\u001b[0mparams\u001b[0m\u001b[0;34m)\u001b[0m\u001b[0;34m.\u001b[0m\u001b[0m_fit\u001b[0m\u001b[0;34m(\u001b[0m\u001b[0mdataset\u001b[0m\u001b[0;34m)\u001b[0m\u001b[0;34m\u001b[0m\u001b[0;34m\u001b[0m\u001b[0m\n\u001b[1;32m    204\u001b[0m             \u001b[0;32melse\u001b[0m\u001b[0;34m:\u001b[0m\u001b[0;34m\u001b[0m\u001b[0;34m\u001b[0m\u001b[0m\n\u001b[0;32m--> 205\u001b[0;31m                 \u001b[0;32mreturn\u001b[0m \u001b[0mself\u001b[0m\u001b[0;34m.\u001b[0m\u001b[0m_fit\u001b[0m\u001b[0;34m(\u001b[0m\u001b[0mdataset\u001b[0m\u001b[0;34m)\u001b[0m\u001b[0;34m\u001b[0m\u001b[0;34m\u001b[0m\u001b[0m\n\u001b[0m\u001b[1;32m    206\u001b[0m         \u001b[0;32melse\u001b[0m\u001b[0;34m:\u001b[0m\u001b[0;34m\u001b[0m\u001b[0;34m\u001b[0m\u001b[0m\n\u001b[1;32m    207\u001b[0m             raise TypeError(\n",
      "\u001b[0;32m/usr/local/lib/python3.9/site-packages/pyspark/ml/wrapper.py\u001b[0m in \u001b[0;36m_fit\u001b[0;34m(self, dataset)\u001b[0m\n\u001b[1;32m    377\u001b[0m \u001b[0;34m\u001b[0m\u001b[0m\n\u001b[1;32m    378\u001b[0m     \u001b[0;32mdef\u001b[0m \u001b[0m_fit\u001b[0m\u001b[0;34m(\u001b[0m\u001b[0mself\u001b[0m\u001b[0;34m,\u001b[0m \u001b[0mdataset\u001b[0m\u001b[0;34m:\u001b[0m \u001b[0mDataFrame\u001b[0m\u001b[0;34m)\u001b[0m \u001b[0;34m->\u001b[0m \u001b[0mJM\u001b[0m\u001b[0;34m:\u001b[0m\u001b[0;34m\u001b[0m\u001b[0;34m\u001b[0m\u001b[0m\n\u001b[0;32m--> 379\u001b[0;31m         \u001b[0mjava_model\u001b[0m \u001b[0;34m=\u001b[0m \u001b[0mself\u001b[0m\u001b[0;34m.\u001b[0m\u001b[0m_fit_java\u001b[0m\u001b[0;34m(\u001b[0m\u001b[0mdataset\u001b[0m\u001b[0;34m)\u001b[0m\u001b[0;34m\u001b[0m\u001b[0;34m\u001b[0m\u001b[0m\n\u001b[0m\u001b[1;32m    380\u001b[0m         \u001b[0mmodel\u001b[0m \u001b[0;34m=\u001b[0m \u001b[0mself\u001b[0m\u001b[0;34m.\u001b[0m\u001b[0m_create_model\u001b[0m\u001b[0;34m(\u001b[0m\u001b[0mjava_model\u001b[0m\u001b[0;34m)\u001b[0m\u001b[0;34m\u001b[0m\u001b[0;34m\u001b[0m\u001b[0m\n\u001b[1;32m    381\u001b[0m         \u001b[0;32mreturn\u001b[0m \u001b[0mself\u001b[0m\u001b[0;34m.\u001b[0m\u001b[0m_copyValues\u001b[0m\u001b[0;34m(\u001b[0m\u001b[0mmodel\u001b[0m\u001b[0;34m)\u001b[0m\u001b[0;34m\u001b[0m\u001b[0;34m\u001b[0m\u001b[0m\n",
      "\u001b[0;32m/usr/local/lib/python3.9/site-packages/pyspark/ml/wrapper.py\u001b[0m in \u001b[0;36m_fit_java\u001b[0;34m(self, dataset)\u001b[0m\n\u001b[1;32m    374\u001b[0m \u001b[0;34m\u001b[0m\u001b[0m\n\u001b[1;32m    375\u001b[0m         \u001b[0mself\u001b[0m\u001b[0;34m.\u001b[0m\u001b[0m_transfer_params_to_java\u001b[0m\u001b[0;34m(\u001b[0m\u001b[0;34m)\u001b[0m\u001b[0;34m\u001b[0m\u001b[0;34m\u001b[0m\u001b[0m\n\u001b[0;32m--> 376\u001b[0;31m         \u001b[0;32mreturn\u001b[0m \u001b[0mself\u001b[0m\u001b[0;34m.\u001b[0m\u001b[0m_java_obj\u001b[0m\u001b[0;34m.\u001b[0m\u001b[0mfit\u001b[0m\u001b[0;34m(\u001b[0m\u001b[0mdataset\u001b[0m\u001b[0;34m.\u001b[0m\u001b[0m_jdf\u001b[0m\u001b[0;34m)\u001b[0m\u001b[0;34m\u001b[0m\u001b[0;34m\u001b[0m\u001b[0m\n\u001b[0m\u001b[1;32m    377\u001b[0m \u001b[0;34m\u001b[0m\u001b[0m\n\u001b[1;32m    378\u001b[0m     \u001b[0;32mdef\u001b[0m \u001b[0m_fit\u001b[0m\u001b[0;34m(\u001b[0m\u001b[0mself\u001b[0m\u001b[0;34m,\u001b[0m \u001b[0mdataset\u001b[0m\u001b[0;34m:\u001b[0m \u001b[0mDataFrame\u001b[0m\u001b[0;34m)\u001b[0m \u001b[0;34m->\u001b[0m \u001b[0mJM\u001b[0m\u001b[0;34m:\u001b[0m\u001b[0;34m\u001b[0m\u001b[0;34m\u001b[0m\u001b[0m\n",
      "\u001b[0;32m/usr/local/lib/python3.9/site-packages/py4j/java_gateway.py\u001b[0m in \u001b[0;36m__call__\u001b[0;34m(self, *args)\u001b[0m\n\u001b[1;32m   1319\u001b[0m \u001b[0;34m\u001b[0m\u001b[0m\n\u001b[1;32m   1320\u001b[0m         \u001b[0manswer\u001b[0m \u001b[0;34m=\u001b[0m \u001b[0mself\u001b[0m\u001b[0;34m.\u001b[0m\u001b[0mgateway_client\u001b[0m\u001b[0;34m.\u001b[0m\u001b[0msend_command\u001b[0m\u001b[0;34m(\u001b[0m\u001b[0mcommand\u001b[0m\u001b[0;34m)\u001b[0m\u001b[0;34m\u001b[0m\u001b[0;34m\u001b[0m\u001b[0m\n\u001b[0;32m-> 1321\u001b[0;31m         return_value = get_return_value(\n\u001b[0m\u001b[1;32m   1322\u001b[0m             answer, self.gateway_client, self.target_id, self.name)\n\u001b[1;32m   1323\u001b[0m \u001b[0;34m\u001b[0m\u001b[0m\n",
      "\u001b[0;32m/usr/local/lib/python3.9/site-packages/pyspark/sql/utils.py\u001b[0m in \u001b[0;36mdeco\u001b[0;34m(*a, **kw)\u001b[0m\n\u001b[1;32m    194\u001b[0m                 \u001b[0;31m# Hide where the exception came from that shows a non-Pythonic\u001b[0m\u001b[0;34m\u001b[0m\u001b[0;34m\u001b[0m\u001b[0m\n\u001b[1;32m    195\u001b[0m                 \u001b[0;31m# JVM exception message.\u001b[0m\u001b[0;34m\u001b[0m\u001b[0;34m\u001b[0m\u001b[0m\n\u001b[0;32m--> 196\u001b[0;31m                 \u001b[0;32mraise\u001b[0m \u001b[0mconverted\u001b[0m \u001b[0;32mfrom\u001b[0m \u001b[0;32mNone\u001b[0m\u001b[0;34m\u001b[0m\u001b[0;34m\u001b[0m\u001b[0m\n\u001b[0m\u001b[1;32m    197\u001b[0m             \u001b[0;32melse\u001b[0m\u001b[0;34m:\u001b[0m\u001b[0;34m\u001b[0m\u001b[0;34m\u001b[0m\u001b[0m\n\u001b[1;32m    198\u001b[0m                 \u001b[0;32mraise\u001b[0m\u001b[0;34m\u001b[0m\u001b[0;34m\u001b[0m\u001b[0m\n",
      "\u001b[0;31mIllegalArgumentException\u001b[0m: requirement failed: init value should <= bound"
     ]
    }
   ],
   "source": [
    "LR = LogisticRegression(featuresCol='features', labelCol='label', predictionCol='prediction')\n",
    "model = LR.fit(sdf)\n",
    "sdf = model.transform(sdf)\n",
    "sdf "
   ]
  }
 ],
 "metadata": {
  "kernelspec": {
   "display_name": "Python 3.9.7 64-bit",
   "language": "python",
   "name": "python3"
  },
  "language_info": {
   "codemirror_mode": {
    "name": "ipython",
    "version": 3
   },
   "file_extension": ".py",
   "mimetype": "text/x-python",
   "name": "python",
   "nbconvert_exporter": "python",
   "pygments_lexer": "ipython3",
   "version": "3.9.7"
  },
  "orig_nbformat": 4,
  "vscode": {
   "interpreter": {
    "hash": "aee8b7b246df8f9039afb4144a1f6fd8d2ca17a180786b69acc140d282b71a49"
   }
  }
 },
 "nbformat": 4,
 "nbformat_minor": 2
}
