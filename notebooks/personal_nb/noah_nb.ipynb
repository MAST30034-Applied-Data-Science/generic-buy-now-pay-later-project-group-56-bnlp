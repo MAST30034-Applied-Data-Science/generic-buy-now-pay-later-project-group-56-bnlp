{
 "cells": [
  {
   "cell_type": "code",
   "execution_count": 1,
   "metadata": {
    "collapsed": true,
    "pycharm": {
     "name": "#%%\n"
    }
   },
   "outputs": [
    {
     "name": "stdout",
     "output_type": "stream",
     "text": [
      "22/09/08 21:55:02 WARN Utils: Your hostname, DESKTOP-85B961I resolves to a loopback address: 127.0.1.1; using 172.17.194.172 instead (on interface eth0)\n",
      "22/09/08 21:55:02 WARN Utils: Set SPARK_LOCAL_IP if you need to bind to another address\n"
     ]
    },
    {
     "name": "stderr",
     "output_type": "stream",
     "text": [
      "Setting default log level to \"WARN\".\n",
      "To adjust logging level use sc.setLogLevel(newLevel). For SparkR, use setLogLevel(newLevel).\n"
     ]
    },
    {
     "name": "stdout",
     "output_type": "stream",
     "text": [
      "22/09/08 21:55:04 WARN NativeCodeLoader: Unable to load native-hadoop library for your platform... using builtin-java classes where applicable\n"
     ]
    }
   ],
   "source": [
    "from pyspark.sql import SparkSession, functions as F\n",
    "\n",
    "# Create a spark session\n",
    "spark = (\n",
    "    SparkSession.builder.appName(\"BNPL External Data-set\")\n",
    "    .config(\"spark.sql.repl.eagerEval.enabled\", True)\n",
    "    .config(\"spark.sql.parquet.cacheMetadata\", \"true\")\n",
    "    .config(\"spark.driver.memory\", \"4g\")\n",
    "    .config(\"spark.sql.session.timeZone\", \"Etc/UTC\")\n",
    "    .getOrCreate()\n",
    ")"
   ]
  },
  {
   "cell_type": "code",
   "execution_count": 2,
   "outputs": [
    {
     "name": "stderr",
     "output_type": "stream",
     "text": [
      "                                                                                \r"
     ]
    }
   ],
   "source": [
    "# Load income by SA2 df\n",
    "income_by_sa2 = spark.read.parquet('../../data/tables/income_by_sa2.parquet')"
   ],
   "metadata": {
    "collapsed": false,
    "pycharm": {
     "name": "#%%\n"
    }
   }
  },
  {
   "cell_type": "code",
   "execution_count": 4,
   "outputs": [
    {
     "ename": "AnalysisException",
     "evalue": "Path does not exist: file:/mnt/d/.2022sem2/ADS/.assignments/working_dir/generic-buy-now-pay-later-project-group-56-bnlp/data/curated/process_data.parquet",
     "output_type": "error",
     "traceback": [
      "\u001B[0;31m---------------------------------------------------------------------------\u001B[0m",
      "\u001B[0;31mAnalysisException\u001B[0m                         Traceback (most recent call last)",
      "Input \u001B[0;32mIn [4]\u001B[0m, in \u001B[0;36m<cell line: 1>\u001B[0;34m()\u001B[0m\n\u001B[0;32m----> 1\u001B[0m transactions \u001B[38;5;241m=\u001B[39m \u001B[43mspark\u001B[49m\u001B[38;5;241;43m.\u001B[39;49m\u001B[43mread\u001B[49m\u001B[38;5;241;43m.\u001B[39;49m\u001B[43mparquet\u001B[49m\u001B[43m(\u001B[49m\u001B[38;5;124;43m'\u001B[39;49m\u001B[38;5;124;43m../../data/curated/process_data.parquet\u001B[39;49m\u001B[38;5;124;43m'\u001B[39;49m\u001B[43m)\u001B[49m\n",
      "File \u001B[0;32m~/.local/lib/python3.8/site-packages/pyspark/sql/readwriter.py:364\u001B[0m, in \u001B[0;36mDataFrameReader.parquet\u001B[0;34m(self, *paths, **options)\u001B[0m\n\u001B[1;32m    353\u001B[0m int96RebaseMode \u001B[38;5;241m=\u001B[39m options\u001B[38;5;241m.\u001B[39mget(\u001B[38;5;124m\"\u001B[39m\u001B[38;5;124mint96RebaseMode\u001B[39m\u001B[38;5;124m\"\u001B[39m, \u001B[38;5;28;01mNone\u001B[39;00m)\n\u001B[1;32m    354\u001B[0m \u001B[38;5;28mself\u001B[39m\u001B[38;5;241m.\u001B[39m_set_opts(\n\u001B[1;32m    355\u001B[0m     mergeSchema\u001B[38;5;241m=\u001B[39mmergeSchema,\n\u001B[1;32m    356\u001B[0m     pathGlobFilter\u001B[38;5;241m=\u001B[39mpathGlobFilter,\n\u001B[0;32m   (...)\u001B[0m\n\u001B[1;32m    361\u001B[0m     int96RebaseMode\u001B[38;5;241m=\u001B[39mint96RebaseMode,\n\u001B[1;32m    362\u001B[0m )\n\u001B[0;32m--> 364\u001B[0m \u001B[38;5;28;01mreturn\u001B[39;00m \u001B[38;5;28mself\u001B[39m\u001B[38;5;241m.\u001B[39m_df(\u001B[38;5;28;43mself\u001B[39;49m\u001B[38;5;241;43m.\u001B[39;49m\u001B[43m_jreader\u001B[49m\u001B[38;5;241;43m.\u001B[39;49m\u001B[43mparquet\u001B[49m\u001B[43m(\u001B[49m\u001B[43m_to_seq\u001B[49m\u001B[43m(\u001B[49m\u001B[38;5;28;43mself\u001B[39;49m\u001B[38;5;241;43m.\u001B[39;49m\u001B[43m_spark\u001B[49m\u001B[38;5;241;43m.\u001B[39;49m\u001B[43m_sc\u001B[49m\u001B[43m,\u001B[49m\u001B[43m \u001B[49m\u001B[43mpaths\u001B[49m\u001B[43m)\u001B[49m\u001B[43m)\u001B[49m)\n",
      "File \u001B[0;32m/usr/local/lib/python3.8/dist-packages/py4j/java_gateway.py:1321\u001B[0m, in \u001B[0;36mJavaMember.__call__\u001B[0;34m(self, *args)\u001B[0m\n\u001B[1;32m   1315\u001B[0m command \u001B[38;5;241m=\u001B[39m proto\u001B[38;5;241m.\u001B[39mCALL_COMMAND_NAME \u001B[38;5;241m+\u001B[39m\\\n\u001B[1;32m   1316\u001B[0m     \u001B[38;5;28mself\u001B[39m\u001B[38;5;241m.\u001B[39mcommand_header \u001B[38;5;241m+\u001B[39m\\\n\u001B[1;32m   1317\u001B[0m     args_command \u001B[38;5;241m+\u001B[39m\\\n\u001B[1;32m   1318\u001B[0m     proto\u001B[38;5;241m.\u001B[39mEND_COMMAND_PART\n\u001B[1;32m   1320\u001B[0m answer \u001B[38;5;241m=\u001B[39m \u001B[38;5;28mself\u001B[39m\u001B[38;5;241m.\u001B[39mgateway_client\u001B[38;5;241m.\u001B[39msend_command(command)\n\u001B[0;32m-> 1321\u001B[0m return_value \u001B[38;5;241m=\u001B[39m \u001B[43mget_return_value\u001B[49m\u001B[43m(\u001B[49m\n\u001B[1;32m   1322\u001B[0m \u001B[43m    \u001B[49m\u001B[43manswer\u001B[49m\u001B[43m,\u001B[49m\u001B[43m \u001B[49m\u001B[38;5;28;43mself\u001B[39;49m\u001B[38;5;241;43m.\u001B[39;49m\u001B[43mgateway_client\u001B[49m\u001B[43m,\u001B[49m\u001B[43m \u001B[49m\u001B[38;5;28;43mself\u001B[39;49m\u001B[38;5;241;43m.\u001B[39;49m\u001B[43mtarget_id\u001B[49m\u001B[43m,\u001B[49m\u001B[43m \u001B[49m\u001B[38;5;28;43mself\u001B[39;49m\u001B[38;5;241;43m.\u001B[39;49m\u001B[43mname\u001B[49m\u001B[43m)\u001B[49m\n\u001B[1;32m   1324\u001B[0m \u001B[38;5;28;01mfor\u001B[39;00m temp_arg \u001B[38;5;129;01min\u001B[39;00m temp_args:\n\u001B[1;32m   1325\u001B[0m     temp_arg\u001B[38;5;241m.\u001B[39m_detach()\n",
      "File \u001B[0;32m~/.local/lib/python3.8/site-packages/pyspark/sql/utils.py:196\u001B[0m, in \u001B[0;36mcapture_sql_exception.<locals>.deco\u001B[0;34m(*a, **kw)\u001B[0m\n\u001B[1;32m    192\u001B[0m converted \u001B[38;5;241m=\u001B[39m convert_exception(e\u001B[38;5;241m.\u001B[39mjava_exception)\n\u001B[1;32m    193\u001B[0m \u001B[38;5;28;01mif\u001B[39;00m \u001B[38;5;129;01mnot\u001B[39;00m \u001B[38;5;28misinstance\u001B[39m(converted, UnknownException):\n\u001B[1;32m    194\u001B[0m     \u001B[38;5;66;03m# Hide where the exception came from that shows a non-Pythonic\u001B[39;00m\n\u001B[1;32m    195\u001B[0m     \u001B[38;5;66;03m# JVM exception message.\u001B[39;00m\n\u001B[0;32m--> 196\u001B[0m     \u001B[38;5;28;01mraise\u001B[39;00m converted \u001B[38;5;28;01mfrom\u001B[39;00m \u001B[38;5;28mNone\u001B[39m\n\u001B[1;32m    197\u001B[0m \u001B[38;5;28;01melse\u001B[39;00m:\n\u001B[1;32m    198\u001B[0m     \u001B[38;5;28;01mraise\u001B[39;00m\n",
      "\u001B[0;31mAnalysisException\u001B[0m: Path does not exist: file:/mnt/d/.2022sem2/ADS/.assignments/working_dir/generic-buy-now-pay-later-project-group-56-bnlp/data/curated/process_data.parquet"
     ]
    }
   ],
   "source": [
    "transactions = spark.read.parquet('../../data/curated/process_data.parquet')"
   ],
   "metadata": {
    "collapsed": false,
    "pycharm": {
     "name": "#%%\n"
    }
   }
  },
  {
   "cell_type": "code",
   "execution_count": 3,
   "outputs": [
    {
     "name": "stderr",
     "output_type": "stream",
     "text": [
      "                                                                                \r"
     ]
    },
    {
     "data": {
      "text/plain": "2288"
     },
     "execution_count": 3,
     "metadata": {},
     "output_type": "execute_result"
    }
   ],
   "source": [
    "income_by_sa2.select('SA2').distinct().count()\n",
    "#income_by_sa2.columns"
   ],
   "metadata": {
    "collapsed": false,
    "pycharm": {
     "name": "#%%\n"
    }
   }
  },
  {
   "cell_type": "markdown",
   "source": [
    "Only getting 2288 distinct SA2 district's from the ABS data set -> some must be missing?"
   ],
   "metadata": {
    "collapsed": false,
    "pycharm": {
     "name": "#%% md\n"
    }
   }
  },
  {
   "cell_type": "code",
   "execution_count": 5,
   "outputs": [],
   "source": [
    "# read in postcode linking file\n",
    "postcodes = spark.read.options(header=True).csv('../../data/tables/postcode_sa2_linking_file.csv')"
   ],
   "metadata": {
    "collapsed": false,
    "pycharm": {
     "name": "#%%\n"
    }
   }
  },
  {
   "cell_type": "code",
   "execution_count": 6,
   "outputs": [
    {
     "name": "stdout",
     "output_type": "stream",
     "text": [
      "18442\n"
     ]
    }
   ],
   "source": [
    "print(postcodes.count())\n",
    "postcodes_feature_subset = ['postcode', 'SA2_MAINCODE_2016', 'locality', 'lat', 'long', 'electoraterating']\n",
    "postcodes = postcodes.select(*postcodes_feature_subset)"
   ],
   "metadata": {
    "collapsed": false,
    "pycharm": {
     "name": "#%%\n"
    }
   }
  },
  {
   "cell_type": "code",
   "execution_count": 7,
   "outputs": [
    {
     "data": {
      "text/plain": "+--------+-----------------+--------------------+----------+---------+------------------+\n|postcode|SA2_MAINCODE_2016|            locality|       lat|     long|  electoraterating|\n+--------+-----------------+--------------------+----------+---------+------------------+\n|    0200|        801051049|                 ANU|  -35.2777|  149.119|              null|\n|    0200|        801051049|Australian Nation...|  -35.2777| 149.1189|              null|\n|    0800|        701011002|              DARWIN|-12.458684|130.83668|Inner Metropolitan|\n+--------+-----------------+--------------------+----------+---------+------------------+",
      "text/html": "<table border='1'>\n<tr><th>postcode</th><th>SA2_MAINCODE_2016</th><th>locality</th><th>lat</th><th>long</th><th>electoraterating</th></tr>\n<tr><td>0200</td><td>801051049</td><td>ANU</td><td>-35.2777</td><td>149.119</td><td>null</td></tr>\n<tr><td>0200</td><td>801051049</td><td>Australian Nation...</td><td>-35.2777</td><td>149.1189</td><td>null</td></tr>\n<tr><td>0800</td><td>701011002</td><td>DARWIN</td><td>-12.458684</td><td>130.83668</td><td>Inner Metropolitan</td></tr>\n</table>\n"
     },
     "execution_count": 7,
     "metadata": {},
     "output_type": "execute_result"
    }
   ],
   "source": [
    "postcodes.limit(3)"
   ],
   "metadata": {
    "collapsed": false,
    "pycharm": {
     "name": "#%%\n"
    }
   }
  },
  {
   "cell_type": "markdown",
   "source": [
    "Make a subset just for linking + piece of mind"
   ],
   "metadata": {
    "collapsed": false,
    "pycharm": {
     "name": "#%% md\n"
    }
   }
  },
  {
   "cell_type": "code",
   "execution_count": 8,
   "outputs": [
    {
     "data": {
      "text/plain": "+--------+-----------------+\n|postcode|SA2_MAINCODE_2016|\n+--------+-----------------+\n|    0200|        801051049|\n|    0200|        801051049|\n|    0800|        701011002|\n+--------+-----------------+",
      "text/html": "<table border='1'>\n<tr><th>postcode</th><th>SA2_MAINCODE_2016</th></tr>\n<tr><td>0200</td><td>801051049</td></tr>\n<tr><td>0200</td><td>801051049</td></tr>\n<tr><td>0800</td><td>701011002</td></tr>\n</table>\n"
     },
     "execution_count": 8,
     "metadata": {},
     "output_type": "execute_result"
    }
   ],
   "source": [
    "link_set =  ['postcode', 'SA2_MAINCODE_2016']\n",
    "link = postcodes.select(*link_set)\n",
    "link.limit(3)"
   ],
   "metadata": {
    "collapsed": false,
    "pycharm": {
     "name": "#%%\n"
    }
   }
  },
  {
   "cell_type": "code",
   "execution_count": 9,
   "outputs": [
    {
     "name": "stdout",
     "output_type": "stream",
     "text": [
      "Distinct postcodes:  3167\n",
      "Distinct SA2 regions:  2222\n"
     ]
    }
   ],
   "source": [
    "# descriptive statistics\n",
    "print(\"Distinct postcodes: \", link.select('postcode').distinct().count())\n",
    "print(\"Distinct SA2 regions: \", link.select('SA2_MAINCODE_2016').distinct().count())"
   ],
   "metadata": {
    "collapsed": false,
    "pycharm": {
     "name": "#%%\n"
    }
   }
  },
  {
   "cell_type": "markdown",
   "source": [
    "Again -> this is less than the officially reported number of ~ 2310, might have to look into using geopandas and closest centroids..."
   ],
   "metadata": {
    "collapsed": false,
    "pycharm": {
     "name": "#%% md\n"
    }
   }
  },
  {
   "cell_type": "markdown",
   "source": [
    "#### Take the income dataset; match sa2 to postcodes; aggregate across postcodes for final set"
   ],
   "metadata": {
    "collapsed": false,
    "pycharm": {
     "name": "#%% md\n"
    }
   }
  },
  {
   "cell_type": "code",
   "execution_count": 31,
   "outputs": [
    {
     "name": "stdout",
     "output_type": "stream",
     "text": [
      "root\n",
      " |-- postcode: string (nullable = true)\n",
      " |-- SA2_MAINCODE_2016: string (nullable = true)\n",
      "\n"
     ]
    }
   ],
   "source": [
    "link.printSchema()"
   ],
   "metadata": {
    "collapsed": false,
    "pycharm": {
     "name": "#%%\n"
    }
   }
  },
  {
   "cell_type": "code",
   "execution_count": 32,
   "outputs": [
    {
     "name": "stdout",
     "output_type": "stream",
     "text": [
      "root\n",
      " |-- SA2: string (nullable = true)\n",
      " |-- SA2_NAME: string (nullable = true)\n",
      " |-- persons_earners_2014-15: string (nullable = true)\n",
      " |-- persons_earners_2015-16: string (nullable = true)\n",
      " |-- persons_earners_2016-17: string (nullable = true)\n",
      " |-- persons_earners_2017-18: string (nullable = true)\n",
      " |-- persons_earners_2018-19: string (nullable = true)\n",
      " |-- med_age_earners_2014-15: string (nullable = true)\n",
      " |-- med_age_earners_2015-16: string (nullable = true)\n",
      " |-- med_age_earners_2016-17: string (nullable = true)\n",
      " |-- med_age_earners_2017-18: string (nullable = true)\n",
      " |-- med_age_earners_2018-19: string (nullable = true)\n",
      " |-- sum_earnings_2014-15: string (nullable = true)\n",
      " |-- sum_earnings_2015-16: string (nullable = true)\n",
      " |-- sum_earnings_2016-17: string (nullable = true)\n",
      " |-- sum_earnings_2017-18: string (nullable = true)\n",
      " |-- sum_earnings_2018-19: string (nullable = true)\n",
      " |-- median_earnings_2014-15: string (nullable = true)\n",
      " |-- median_earnings_2015-16: string (nullable = true)\n",
      " |-- median_earnings_2016-17: string (nullable = true)\n",
      " |-- median_earnings_2017-18: string (nullable = true)\n",
      " |-- median_earnings_2018-19: string (nullable = true)\n",
      " |-- mean_earnings_2014-15: string (nullable = true)\n",
      " |-- mean_earnings_2015-16: string (nullable = true)\n",
      " |-- mean_earnings_2016-17: string (nullable = true)\n",
      " |-- mean_earnings_2017-18: string (nullable = true)\n",
      " |-- mean_earnings_2018-19: string (nullable = true)\n",
      "\n"
     ]
    }
   ],
   "source": [
    "income_by_sa2.printSchema()"
   ],
   "metadata": {
    "collapsed": false,
    "pycharm": {
     "name": "#%%\n"
    }
   }
  },
  {
   "cell_type": "code",
   "execution_count": 13,
   "outputs": [
    {
     "name": "stdout",
     "output_type": "stream",
     "text": [
      "22/09/08 17:18:46 WARN package: Truncated the string representation of a plan since it was too large. This behavior can be adjusted by setting 'spark.sql.debug.maxToStringFields'.\n"
     ]
    },
    {
     "data": {
      "text/plain": "+---------+----------+-----------------------+-----------------------+-----------------------+-----------------------+-----------------------+-----------------------+-----------------------+-----------------------+-----------------------+-----------------------+--------------------+--------------------+--------------------+--------------------+--------------------+-----------------------+-----------------------+-----------------------+-----------------------+-----------------------+---------------------+---------------------+---------------------+---------------------+---------------------+\n|      SA2|  SA2_NAME|persons_earners_2014-15|persons_earners_2015-16|persons_earners_2016-17|persons_earners_2017-18|persons_earners_2018-19|med_age_earners_2014-15|med_age_earners_2015-16|med_age_earners_2016-17|med_age_earners_2017-18|med_age_earners_2018-19|sum_earnings_2014-15|sum_earnings_2015-16|sum_earnings_2016-17|sum_earnings_2017-18|sum_earnings_2018-19|median_earnings_2014-15|median_earnings_2015-16|median_earnings_2016-17|median_earnings_2017-18|median_earnings_2018-19|mean_earnings_2014-15|mean_earnings_2015-16|mean_earnings_2016-17|mean_earnings_2017-18|mean_earnings_2018-19|\n+---------+----------+-----------------------+-----------------------+-----------------------+-----------------------+-----------------------+-----------------------+-----------------------+-----------------------+-----------------------+-----------------------+--------------------+--------------------+--------------------+--------------------+--------------------+-----------------------+-----------------------+-----------------------+-----------------------+-----------------------+---------------------+---------------------+---------------------+---------------------+---------------------+\n|101021007| Braidwood|                   2133|                   2153|                   2262|                   2315|                   2361|                     50|                     50|                     50|                     51|                     51|           101830606|           109961530|           115564780|           119439615|           120763285|                  38093|                  39716|                  41288|                  42003|                  41593|                47741|                51074|                51090|                51594|                51149|\n|101021008|   Karabar|                   4866|                   4937|                   4988|                   5059|                   5100|                     43|                     42|                     42|                     42|                     42|           289762288|           301618607|           311923113|           322715297|           338308979|                  54942|                  55870|                  57880|                  59295|                  61777|                59548|                61093|                62535|                63790|                66335|\n|101021009|Queanbeyan|                   6194|                   6419|                   6486|                   6595|                   6697|                     40|                     39|                     39|                     39|                     39|           367366063|           390044004|           395374979|           414579067|           441160946|                  54716|                  54999|                  55376|                  57848|                  60119|                59310|                60764|                60958|                62863|                65874|\n+---------+----------+-----------------------+-----------------------+-----------------------+-----------------------+-----------------------+-----------------------+-----------------------+-----------------------+-----------------------+-----------------------+--------------------+--------------------+--------------------+--------------------+--------------------+-----------------------+-----------------------+-----------------------+-----------------------+-----------------------+---------------------+---------------------+---------------------+---------------------+---------------------+",
      "text/html": "<table border='1'>\n<tr><th>SA2</th><th>SA2_NAME</th><th>persons_earners_2014-15</th><th>persons_earners_2015-16</th><th>persons_earners_2016-17</th><th>persons_earners_2017-18</th><th>persons_earners_2018-19</th><th>med_age_earners_2014-15</th><th>med_age_earners_2015-16</th><th>med_age_earners_2016-17</th><th>med_age_earners_2017-18</th><th>med_age_earners_2018-19</th><th>sum_earnings_2014-15</th><th>sum_earnings_2015-16</th><th>sum_earnings_2016-17</th><th>sum_earnings_2017-18</th><th>sum_earnings_2018-19</th><th>median_earnings_2014-15</th><th>median_earnings_2015-16</th><th>median_earnings_2016-17</th><th>median_earnings_2017-18</th><th>median_earnings_2018-19</th><th>mean_earnings_2014-15</th><th>mean_earnings_2015-16</th><th>mean_earnings_2016-17</th><th>mean_earnings_2017-18</th><th>mean_earnings_2018-19</th></tr>\n<tr><td>101021007</td><td>Braidwood</td><td>2133</td><td>2153</td><td>2262</td><td>2315</td><td>2361</td><td>50</td><td>50</td><td>50</td><td>51</td><td>51</td><td>101830606</td><td>109961530</td><td>115564780</td><td>119439615</td><td>120763285</td><td>38093</td><td>39716</td><td>41288</td><td>42003</td><td>41593</td><td>47741</td><td>51074</td><td>51090</td><td>51594</td><td>51149</td></tr>\n<tr><td>101021008</td><td>Karabar</td><td>4866</td><td>4937</td><td>4988</td><td>5059</td><td>5100</td><td>43</td><td>42</td><td>42</td><td>42</td><td>42</td><td>289762288</td><td>301618607</td><td>311923113</td><td>322715297</td><td>338308979</td><td>54942</td><td>55870</td><td>57880</td><td>59295</td><td>61777</td><td>59548</td><td>61093</td><td>62535</td><td>63790</td><td>66335</td></tr>\n<tr><td>101021009</td><td>Queanbeyan</td><td>6194</td><td>6419</td><td>6486</td><td>6595</td><td>6697</td><td>40</td><td>39</td><td>39</td><td>39</td><td>39</td><td>367366063</td><td>390044004</td><td>395374979</td><td>414579067</td><td>441160946</td><td>54716</td><td>54999</td><td>55376</td><td>57848</td><td>60119</td><td>59310</td><td>60764</td><td>60958</td><td>62863</td><td>65874</td></tr>\n</table>\n"
     },
     "execution_count": 13,
     "metadata": {},
     "output_type": "execute_result"
    }
   ],
   "source": [
    "income_by_sa2.limit(3)"
   ],
   "metadata": {
    "collapsed": false,
    "pycharm": {
     "name": "#%%\n"
    }
   }
  },
  {
   "cell_type": "code",
   "execution_count": 14,
   "outputs": [
    {
     "data": {
      "text/plain": "+--------+-----------------+\n|postcode|SA2_MAINCODE_2016|\n+--------+-----------------+\n|    0200|        801051049|\n|    0200|        801051049|\n|    0800|        701011002|\n+--------+-----------------+",
      "text/html": "<table border='1'>\n<tr><th>postcode</th><th>SA2_MAINCODE_2016</th></tr>\n<tr><td>0200</td><td>801051049</td></tr>\n<tr><td>0200</td><td>801051049</td></tr>\n<tr><td>0800</td><td>701011002</td></tr>\n</table>\n"
     },
     "execution_count": 14,
     "metadata": {},
     "output_type": "execute_result"
    }
   ],
   "source": [
    "link.limit(3)"
   ],
   "metadata": {
    "collapsed": false,
    "pycharm": {
     "name": "#%%\n"
    }
   }
  },
  {
   "cell_type": "code",
   "execution_count": 167,
   "outputs": [
    {
     "name": "stdout",
     "output_type": "stream",
     "text": [
      "5488\n"
     ]
    },
    {
     "data": {
      "text/plain": "+--------+---------+\n|postcode| sa2_code|\n+--------+---------+\n|    0200|801051049|\n|    0800|701011002|\n|    0801|701011002|\n|    0804|701011007|\n|    0810|701021013|\n+--------+---------+",
      "text/html": "<table border='1'>\n<tr><th>postcode</th><th>sa2_code</th></tr>\n<tr><td>0200</td><td>801051049</td></tr>\n<tr><td>0800</td><td>701011002</td></tr>\n<tr><td>0801</td><td>701011002</td></tr>\n<tr><td>0804</td><td>701011007</td></tr>\n<tr><td>0810</td><td>701021013</td></tr>\n</table>\n"
     },
     "execution_count": 167,
     "metadata": {},
     "output_type": "execute_result"
    }
   ],
   "source": [
    "inc_joined = link.join(income_by_sa2, link.sa2_code == income_by_sa2.SA2, \"inner\").distinct()\n",
    "#inc_joined = link.join(income_by_sa2, link.SA2_MAINCODE_2016 == income_by_sa2.SA2, \"left\").distinct()\n",
    "print(inc_joined.count())\n",
    "inc_joined.select(['postcode', 'sa2_code']).orderBy('postcode').limit(5)\n",
    "#inc_joined = inc_joined.drop('SA2_MAINCODE_2016')\n",
    "\n",
    "# end up with 5488 rows\n",
    "# therefore there a lot of postcodes with SA2's > 1 || SA2's with postcodes > 1"
   ],
   "metadata": {
    "collapsed": false,
    "pycharm": {
     "name": "#%%\n"
    }
   }
  },
  {
   "cell_type": "code",
   "execution_count": 170,
   "outputs": [
    {
     "data": {
      "text/plain": "2217"
     },
     "execution_count": 170,
     "metadata": {},
     "output_type": "execute_result"
    }
   ],
   "source": [
    "inc_joined.select('SA2').distinct().count()\n",
    "#inc_joined.select('postcode').distinct().count()"
   ],
   "metadata": {
    "collapsed": false,
    "pycharm": {
     "name": "#%%\n"
    }
   }
  },
  {
   "cell_type": "code",
   "execution_count": 17,
   "outputs": [],
   "source": [
    "from pyspark.sql import functions as F"
   ],
   "metadata": {
    "collapsed": false,
    "pycharm": {
     "name": "#%%\n"
    }
   }
  },
  {
   "cell_type": "code",
   "execution_count": 18,
   "outputs": [],
   "source": [
    "inc_cols = inc_joined.columns"
   ],
   "metadata": {
    "collapsed": false,
    "pycharm": {
     "name": "#%%\n"
    }
   }
  },
  {
   "cell_type": "code",
   "execution_count": 19,
   "outputs": [
    {
     "data": {
      "text/plain": "3167"
     },
     "execution_count": 19,
     "metadata": {},
     "output_type": "execute_result"
    }
   ],
   "source": [
    "inc_joined.select('postcode').distinct().count()"
   ],
   "metadata": {
    "collapsed": false,
    "pycharm": {
     "name": "#%%\n"
    }
   }
  },
  {
   "cell_type": "code",
   "execution_count": 171,
   "outputs": [],
   "source": [
    "agg_by_postcode_income = inc_joined \\\n",
    "    .groupBy('postcode') \\\n",
    "    .agg(\n",
    "    F.sum('persons_earners_2018-19').alias('persons_earners_2018-19_sum'),\n",
    "    F.mean('mean_earnings_2018-19').alias('mean_earnings_2018-19_avg'),\n",
    "    F.sum('sum_earnings_2018-19').alias('sum_earnings_2018-19_sum'),\n",
    "    F.mean('median_earnings_2018-19').alias('median_earnings_2018-19_avg'),\n",
    "    F.mean('med_age_earners_2018-19').alias('med_age_earners_2018-19_avg')\n",
    "    #F.percentile_approx('median_earnings_2018-19', 0.5).alias('median_earnings_2018-19_med'),\n",
    "    #F.percentile_approx('med_age_earners_2018-19', 0.5).alias('med_age_earners_2018-19_med')\n",
    ") \\\n",
    "    .orderBy('postcode')"
   ],
   "metadata": {
    "collapsed": false,
    "pycharm": {
     "name": "#%%\n"
    }
   }
  },
  {
   "cell_type": "code",
   "execution_count": 172,
   "outputs": [
    {
     "name": "stdout",
     "output_type": "stream",
     "text": [
      "+--------+---------------------------+-------------------------+------------------------+---------------------------+---------------------------+\n",
      "|postcode|persons_earners_2018-19_sum|mean_earnings_2018-19_avg|sum_earnings_2018-19_sum|median_earnings_2018-19_avg|med_age_earners_2018-19_avg|\n",
      "+--------+---------------------------+-------------------------+------------------------+---------------------------+---------------------------+\n",
      "|    0200|                      552.0|                  19479.0|             1.0752338E7|                    10433.0|                       23.0|\n",
      "|    0800|                     5632.0|                  74682.0|            4.20609031E8|                    57789.0|                       33.0|\n",
      "|    0801|                     5632.0|                  74682.0|            4.20609031E8|                    57789.0|                       33.0|\n",
      "|    0804|                     1810.0|                  88303.0|            1.59828824E8|                    71724.0|                       40.0|\n",
      "|    0810|                    21932.0|        69868.83333333333|           1.574969237E9|         60190.166666666664|         39.583333333333336|\n",
      "|    0811|                     2344.0|                  67459.0|            1.58124305E8|                    53870.0|                       39.0|\n",
      "|    0812|                    11443.0|                  70373.0|            8.01236575E8|                    61972.6|                       42.0|\n",
      "|    0813|                      334.0|                  44246.0|             1.4778057E7|                    34613.0|                       36.0|\n",
      "|    0814|                     2614.0|                  83448.0|            2.18131899E8|                    66004.0|                       38.0|\n",
      "|    0815|                     2344.0|                  67459.0|            1.58124305E8|                    53870.0|                       39.0|\n",
      "|    0820|                    23453.0|        77045.90909090909|           1.854671661E9|                    64147.0|          39.27272727272727|\n",
      "|    0821|                     3027.0|                  73384.0|            2.22134648E8|                    60886.0|                       39.0|\n",
      "|    0822|                    28057.0|                57779.125|           1.851297021E9|                  49161.625|                    39.9375|\n",
      "|    0828|                      749.0|                  76836.0|             5.7550377E7|                    62943.0|                       42.0|\n",
      "|    0829|                     2938.0|                  80226.0|            2.35703839E8|                    73293.0|                       38.0|\n",
      "|    0830|                    16478.0|                69863.875|             1.1903255E9|                   65781.25|                       36.0|\n",
      "|    0831|                     2997.0|                  76254.0|             2.2853271E8|                    70438.0|                       37.0|\n",
      "|    0832|                    15026.0|                  74344.0|           1.124183073E9|                    69432.8|                       36.8|\n",
      "|    0834|                     2091.0|                  70984.0|            1.48427325E8|                    62214.0|                       44.0|\n",
      "|    0835|                     4608.0|                  72946.0|            3.36969731E8|                    65204.0|                       43.0|\n",
      "+--------+---------------------------+-------------------------+------------------------+---------------------------+---------------------------+\n",
      "only showing top 20 rows\n",
      "\n"
     ]
    }
   ],
   "source": [
    "agg_by_postcode_income.show()"
   ],
   "metadata": {
    "collapsed": false,
    "pycharm": {
     "name": "#%%\n"
    }
   }
  },
  {
   "cell_type": "code",
   "execution_count": 40,
   "outputs": [],
   "source": [
    "import sys\n",
    "sys.path.append('../../scripts/')"
   ],
   "metadata": {
    "collapsed": false,
    "pycharm": {
     "name": "#%%\n"
    }
   }
  },
  {
   "cell_type": "code",
   "execution_count": 43,
   "outputs": [
    {
     "ename": "ModuleNotFoundError",
     "evalue": "No module named 'nltk'",
     "output_type": "error",
     "traceback": [
      "\u001B[0;31m---------------------------------------------------------------------------\u001B[0m",
      "\u001B[0;31mModuleNotFoundError\u001B[0m                       Traceback (most recent call last)",
      "Input \u001B[0;32mIn [43]\u001B[0m, in \u001B[0;36m<cell line: 1>\u001B[0;34m()\u001B[0m\n\u001B[0;32m----> 1\u001B[0m \u001B[38;5;28;01mimport\u001B[39;00m \u001B[38;5;21;01metl\u001B[39;00m\n",
      "File \u001B[0;32m/mnt/d/.2022sem2/ADS/.assignments/working_dir/generic-buy-now-pay-later-project-group-56-bnlp/notebooks/personal_nb/../../scripts/etl.py:9\u001B[0m, in \u001B[0;36m<module>\u001B[0;34m\u001B[0m\n\u001B[1;32m      7\u001B[0m \u001B[38;5;28;01mfrom\u001B[39;00m \u001B[38;5;21;01mpyspark\u001B[39;00m\u001B[38;5;21;01m.\u001B[39;00m\u001B[38;5;21;01msql\u001B[39;00m \u001B[38;5;28;01mimport\u001B[39;00m SparkSession, functions \u001B[38;5;28;01mas\u001B[39;00m F\n\u001B[1;32m      8\u001B[0m \u001B[38;5;28;01mimport\u001B[39;00m \u001B[38;5;21;01mpandas\u001B[39;00m \u001B[38;5;28;01mas\u001B[39;00m \u001B[38;5;21;01mpd\u001B[39;00m\n\u001B[0;32m----> 9\u001B[0m \u001B[38;5;28;01mimport\u001B[39;00m \u001B[38;5;21;01mnltk\u001B[39;00m\n\u001B[1;32m     10\u001B[0m nltk\u001B[38;5;241m.\u001B[39mdownload(\u001B[38;5;124m'\u001B[39m\u001B[38;5;124mpunkt\u001B[39m\u001B[38;5;124m'\u001B[39m)\n\u001B[1;32m     11\u001B[0m nltk\u001B[38;5;241m.\u001B[39mdownload(\u001B[38;5;124m'\u001B[39m\u001B[38;5;124mwordnet\u001B[39m\u001B[38;5;124m'\u001B[39m)\n",
      "\u001B[0;31mModuleNotFoundError\u001B[0m: No module named 'nltk'"
     ]
    }
   ],
   "source": [
    "#import etl\n",
    "#from etl import preprocess_population"
   ],
   "metadata": {
    "collapsed": false,
    "pycharm": {
     "name": "#%%\n"
    }
   }
  },
  {
   "cell_type": "code",
   "execution_count": 98,
   "outputs": [],
   "source": [
    "# Anuj population code from ETL\n",
    "population = spark.read.option(\"header\", True).csv('../../data/tables/population_data.csv')"
   ],
   "metadata": {
    "collapsed": false,
    "pycharm": {
     "name": "#%%\n"
    }
   }
  },
  {
   "cell_type": "code",
   "execution_count": 99,
   "outputs": [],
   "source": [
    "from pyspark.sql.types import LongType, IntegerType\n",
    "def population_preprocess(data):\n",
    "\n",
    "    cols_to_keep = ['sa2_maincode_2016', 'sa2_name_2016', 'erp_2021']\n",
    "    population_df = data.select(*cols_to_keep)\n",
    "\n",
    "    population_df = population_df \\\n",
    "                    .withColumn(\"sa2_maincode_2016\", F.col(\"sa2_maincode_2016\").cast(LongType())) \\\n",
    "                    .withColumn(\"erp_2021\", F.col('erp_2021').cast(IntegerType()))\n",
    "\n",
    "    population_df = population_df \\\n",
    "                    .withColumnRenamed('sa2_name_2016', 'suburb') \\\n",
    "                    .withColumnRenamed('erp_2021', 'estimated_region_population_2021')\n",
    "\n",
    "    return population_df"
   ],
   "metadata": {
    "collapsed": false,
    "pycharm": {
     "name": "#%%\n"
    }
   }
  },
  {
   "cell_type": "code",
   "execution_count": 100,
   "outputs": [],
   "source": [
    "population = population_preprocess(population)"
   ],
   "metadata": {
    "collapsed": false,
    "pycharm": {
     "name": "#%%\n"
    }
   }
  },
  {
   "cell_type": "code",
   "execution_count": 101,
   "outputs": [
    {
     "name": "stdout",
     "output_type": "stream",
     "text": [
      "Before linking rows (population):  2292\n",
      "Before linking rows (postcode links):  18442\n"
     ]
    },
    {
     "data": {
      "text/plain": "+-----------------+--------------------+--------------------------------+\n|sa2_maincode_2016|              suburb|estimated_region_population_2021|\n+-----------------+--------------------+--------------------------------+\n|        101021007|           Braidwood|                            4360|\n|        101021008|             Karabar|                            8374|\n|        101021009|          Queanbeyan|                           11401|\n|        101031013|             Bombala|                            2411|\n|        101041020|Bega-Eden Hinterland|                            8996|\n+-----------------+--------------------+--------------------------------+",
      "text/html": "<table border='1'>\n<tr><th>sa2_maincode_2016</th><th>suburb</th><th>estimated_region_population_2021</th></tr>\n<tr><td>101021007</td><td>Braidwood</td><td>4360</td></tr>\n<tr><td>101021008</td><td>Karabar</td><td>8374</td></tr>\n<tr><td>101021009</td><td>Queanbeyan</td><td>11401</td></tr>\n<tr><td>101031013</td><td>Bombala</td><td>2411</td></tr>\n<tr><td>101041020</td><td>Bega-Eden Hinterland</td><td>8996</td></tr>\n</table>\n"
     },
     "execution_count": 101,
     "metadata": {},
     "output_type": "execute_result"
    }
   ],
   "source": [
    "print(\"Before linking rows (population): \" , population.count())\n",
    "print(\"Before linking rows (postcode links): \" , link.count())\n",
    "#population.head(5)\n",
    "population.limit(5)"
   ],
   "metadata": {
    "collapsed": false,
    "pycharm": {
     "name": "#%%\n"
    }
   }
  },
  {
   "cell_type": "code",
   "execution_count": 69,
   "outputs": [
    {
     "data": {
      "text/plain": "+--------+-----------------+\n|postcode|SA2_MAINCODE_2016|\n+--------+-----------------+\n|    0200|        801051049|\n|    0200|        801051049|\n|    0800|        701011002|\n|    0800|        701011002|\n|    0801|        701011002|\n+--------+-----------------+",
      "text/html": "<table border='1'>\n<tr><th>postcode</th><th>SA2_MAINCODE_2016</th></tr>\n<tr><td>0200</td><td>801051049</td></tr>\n<tr><td>0200</td><td>801051049</td></tr>\n<tr><td>0800</td><td>701011002</td></tr>\n<tr><td>0800</td><td>701011002</td></tr>\n<tr><td>0801</td><td>701011002</td></tr>\n</table>\n"
     },
     "execution_count": 69,
     "metadata": {},
     "output_type": "execute_result"
    }
   ],
   "source": [
    "link.limit(5)"
   ],
   "metadata": {
    "collapsed": false,
    "pycharm": {
     "name": "#%%\n"
    }
   }
  },
  {
   "cell_type": "code",
   "execution_count": 144,
   "outputs": [
    {
     "data": {
      "text/plain": "+--------+---------+\n|postcode| sa2_code|\n+--------+---------+\n|    0200|801051049|\n|    0800|701011002|\n|    0801|701011002|\n|    0804|701011007|\n|    0810|701021013|\n+--------+---------+",
      "text/html": "<table border='1'>\n<tr><th>postcode</th><th>sa2_code</th></tr>\n<tr><td>0200</td><td>801051049</td></tr>\n<tr><td>0800</td><td>701011002</td></tr>\n<tr><td>0801</td><td>701011002</td></tr>\n<tr><td>0804</td><td>701011007</td></tr>\n<tr><td>0810</td><td>701021013</td></tr>\n</table>\n"
     },
     "execution_count": 144,
     "metadata": {},
     "output_type": "execute_result"
    }
   ],
   "source": [
    "link = link.distinct()\n",
    "link = link.withColumnRenamed('SA2_MAINCODE_2016', 'sa2_code')\n",
    "link.orderBy('postcode').limit(5)"
   ],
   "metadata": {
    "collapsed": false,
    "pycharm": {
     "name": "#%%\n"
    }
   }
  },
  {
   "cell_type": "code",
   "execution_count": 145,
   "outputs": [
    {
     "name": "stdout",
     "output_type": "stream",
     "text": [
      "Distinct SA2 Codes: (link) 2222\n",
      "Distinct postcodes (link):  3167\n",
      "Distinct entries: (link) 5588\n",
      "Distinct SA2 Codes: (population) 2292\n"
     ]
    }
   ],
   "source": [
    "# investigate distincts\n",
    "print(\"Distinct SA2 Codes: (link)\", link.select('sa2_code').distinct().count())\n",
    "print(\"Distinct postcodes (link): \", link.select('postcode').distinct().count())\n",
    "print(\"Distinct entries: (link)\", link.distinct().count())\n",
    "\n",
    "print(\"Distinct SA2 Codes: (population)\", population.select('sa2_maincode_2016').distinct().count())\n",
    "#print(\"Distinct postcodes (link): \", link.select('postcode').distinct().count())\n",
    "#print(\"Distinct entries: (link)\", link.select('postcode').distinct().count())\n"
   ],
   "metadata": {
    "collapsed": false,
    "pycharm": {
     "name": "#%%\n"
    }
   }
  },
  {
   "cell_type": "code",
   "execution_count": 113,
   "outputs": [
    {
     "data": {
      "text/plain": "2292"
     },
     "execution_count": 113,
     "metadata": {},
     "output_type": "execute_result"
    }
   ],
   "source": [
    "population.count()\n",
    "#population.distinct().count()"
   ],
   "metadata": {
    "collapsed": false,
    "pycharm": {
     "name": "#%%\n"
    }
   }
  },
  {
   "cell_type": "code",
   "execution_count": 151,
   "outputs": [],
   "source": [
    "#population_joined = population.join(link, population['sa2_maincode_2016'] == link['SA2_MAINCODE_2016'], \"inner\")\n",
    "population_joined = population.join(link, population['sa2_maincode_2016'] == link['sa2_code'], \"inner\").distinct()"
   ],
   "metadata": {
    "collapsed": false,
    "pycharm": {
     "name": "#%%\n"
    }
   }
  },
  {
   "cell_type": "code",
   "execution_count": 155,
   "outputs": [
    {
     "name": "stderr",
     "output_type": "stream",
     "text": [
      "                                                                                \r"
     ]
    },
    {
     "name": "stdout",
     "output_type": "stream",
     "text": [
      "5492\n"
     ]
    },
    {
     "data": {
      "text/plain": "+-----------------+----------------+--------------------------------+--------+---------+\n|sa2_maincode_2016|          suburb|estimated_region_population_2021|postcode| sa2_code|\n+-----------------+----------------+--------------------------------+--------+---------+\n|        801051049|           Acton|                            2161|    0200|801051049|\n|        701011002|     Darwin City|                            7088|    0800|701011002|\n|        701011002|     Darwin City|                            7088|    0801|701011002|\n|        701011007|           Parap|                            2827|    0804|701011007|\n|        701021021|      Lyons (NT)|                            6892|    0810|701021021|\n|        701021023|         Millner|                            2427|    0810|701021023|\n|        701021024|            Moil|                            1997|    0810|701021024|\n|        701021013|Brinkin - Nakara|                            3154|    0810|701021013|\n|        701021016|   Coconut Grove|                            3064|    0810|701021016|\n|        701021010|           Alawa|                            2081|    0810|701021010|\n|        701021025|      Nightcliff|                            3719|    0810|701021025|\n|        701021029|         Wanguri|                            1858|    0810|701021029|\n|        701021026|     Rapid Creek|                            3359|    0810|701021026|\n|        701021028|         Wagaman|                            2174|    0810|701021028|\n|        701021027|            Tiwi|                            2461|    0810|701021027|\n|        701021018|         Jingili|                            1821|    0810|701021018|\n|        701021013|Brinkin - Nakara|                            3154|    0811|701021013|\n|        701021030|          Wulagi|                            2373|    0812|701021030|\n|        701021014|   Buffalo Creek|                               0|    0812|701021014|\n|        701021019|          Karama|                            4753|    0812|701021019|\n+-----------------+----------------+--------------------------------+--------+---------+",
      "text/html": "<table border='1'>\n<tr><th>sa2_maincode_2016</th><th>suburb</th><th>estimated_region_population_2021</th><th>postcode</th><th>sa2_code</th></tr>\n<tr><td>801051049</td><td>Acton</td><td>2161</td><td>0200</td><td>801051049</td></tr>\n<tr><td>701011002</td><td>Darwin City</td><td>7088</td><td>0800</td><td>701011002</td></tr>\n<tr><td>701011002</td><td>Darwin City</td><td>7088</td><td>0801</td><td>701011002</td></tr>\n<tr><td>701011007</td><td>Parap</td><td>2827</td><td>0804</td><td>701011007</td></tr>\n<tr><td>701021021</td><td>Lyons (NT)</td><td>6892</td><td>0810</td><td>701021021</td></tr>\n<tr><td>701021023</td><td>Millner</td><td>2427</td><td>0810</td><td>701021023</td></tr>\n<tr><td>701021024</td><td>Moil</td><td>1997</td><td>0810</td><td>701021024</td></tr>\n<tr><td>701021013</td><td>Brinkin - Nakara</td><td>3154</td><td>0810</td><td>701021013</td></tr>\n<tr><td>701021016</td><td>Coconut Grove</td><td>3064</td><td>0810</td><td>701021016</td></tr>\n<tr><td>701021010</td><td>Alawa</td><td>2081</td><td>0810</td><td>701021010</td></tr>\n<tr><td>701021025</td><td>Nightcliff</td><td>3719</td><td>0810</td><td>701021025</td></tr>\n<tr><td>701021029</td><td>Wanguri</td><td>1858</td><td>0810</td><td>701021029</td></tr>\n<tr><td>701021026</td><td>Rapid Creek</td><td>3359</td><td>0810</td><td>701021026</td></tr>\n<tr><td>701021028</td><td>Wagaman</td><td>2174</td><td>0810</td><td>701021028</td></tr>\n<tr><td>701021027</td><td>Tiwi</td><td>2461</td><td>0810</td><td>701021027</td></tr>\n<tr><td>701021018</td><td>Jingili</td><td>1821</td><td>0810</td><td>701021018</td></tr>\n<tr><td>701021013</td><td>Brinkin - Nakara</td><td>3154</td><td>0811</td><td>701021013</td></tr>\n<tr><td>701021030</td><td>Wulagi</td><td>2373</td><td>0812</td><td>701021030</td></tr>\n<tr><td>701021014</td><td>Buffalo Creek</td><td>0</td><td>0812</td><td>701021014</td></tr>\n<tr><td>701021019</td><td>Karama</td><td>4753</td><td>0812</td><td>701021019</td></tr>\n</table>\n"
     },
     "execution_count": 155,
     "metadata": {},
     "output_type": "execute_result"
    }
   ],
   "source": [
    "print(population_joined.count())\n",
    "population_joined.orderBy('postcode').orderBy('postcode').limit(20)"
   ],
   "metadata": {
    "collapsed": false,
    "pycharm": {
     "name": "#%%\n"
    }
   }
  },
  {
   "cell_type": "code",
   "execution_count": 156,
   "outputs": [
    {
     "name": "stderr",
     "output_type": "stream",
     "text": [
      "                                                                                \r"
     ]
    },
    {
     "name": "stdout",
     "output_type": "stream",
     "text": [
      "distinct postcodes =  3165\n",
      "distinct sa2_codes =  2221\n"
     ]
    },
    {
     "name": "stderr",
     "output_type": "stream",
     "text": [
      "                                                                                \r"
     ]
    }
   ],
   "source": [
    "print(\"distinct postcodes = \", population_joined.select('postcode').distinct().count())\n",
    "print(\"distinct sa2_codes = \", population_joined.select('sa2_code').distinct().count())\n",
    "\n",
    "#population_joined.na.drop().count()"
   ],
   "metadata": {
    "collapsed": false,
    "pycharm": {
     "name": "#%%\n"
    }
   }
  },
  {
   "cell_type": "code",
   "execution_count": 157,
   "outputs": [],
   "source": [
    "agg_by_postcode_population = population_joined \\\n",
    "        .groupBy('postcode') \\\n",
    "        .agg(\n",
    "        F.sum('estimated_region_population_2021').alias('estimated_region_population_2021_sum'),\n",
    "        ) \\\n",
    "        .orderBy('postcode')"
   ],
   "metadata": {
    "collapsed": false,
    "pycharm": {
     "name": "#%%\n"
    }
   }
  },
  {
   "cell_type": "code",
   "execution_count": 160,
   "outputs": [
    {
     "name": "stderr",
     "output_type": "stream",
     "text": [
      "                                                                                \r"
     ]
    },
    {
     "data": {
      "text/plain": "+--------+------------------------------------+\n|postcode|estimated_region_population_2021_sum|\n+--------+------------------------------------+\n|    0200|                                2161|\n|    0800|                                7088|\n|    0801|                                7088|\n|    0804|                                2827|\n|    0810|                               35007|\n|    0811|                                3154|\n|    0812|                               18442|\n|    0813|                                2848|\n|    0814|                                3719|\n|    0815|                                3154|\n+--------+------------------------------------+",
      "text/html": "<table border='1'>\n<tr><th>postcode</th><th>estimated_region_population_2021_sum</th></tr>\n<tr><td>0200</td><td>2161</td></tr>\n<tr><td>0800</td><td>7088</td></tr>\n<tr><td>0801</td><td>7088</td></tr>\n<tr><td>0804</td><td>2827</td></tr>\n<tr><td>0810</td><td>35007</td></tr>\n<tr><td>0811</td><td>3154</td></tr>\n<tr><td>0812</td><td>18442</td></tr>\n<tr><td>0813</td><td>2848</td></tr>\n<tr><td>0814</td><td>3719</td></tr>\n<tr><td>0815</td><td>3154</td></tr>\n</table>\n"
     },
     "execution_count": 160,
     "metadata": {},
     "output_type": "execute_result"
    }
   ],
   "source": [
    "agg_by_postcode_population.limit(10)"
   ],
   "metadata": {
    "collapsed": false,
    "pycharm": {
     "name": "#%%\n"
    }
   }
  },
  {
   "cell_type": "code",
   "execution_count": null,
   "outputs": [],
   "source": [],
   "metadata": {
    "collapsed": false,
    "pycharm": {
     "name": "#%%\n"
    }
   }
  }
 ],
 "metadata": {
  "kernelspec": {
   "display_name": "Python 3",
   "language": "python",
   "name": "python3"
  },
  "language_info": {
   "codemirror_mode": {
    "name": "ipython",
    "version": 2
   },
   "file_extension": ".py",
   "mimetype": "text/x-python",
   "name": "python",
   "nbconvert_exporter": "python",
   "pygments_lexer": "ipython2",
   "version": "2.7.6"
  }
 },
 "nbformat": 4,
 "nbformat_minor": 0
}