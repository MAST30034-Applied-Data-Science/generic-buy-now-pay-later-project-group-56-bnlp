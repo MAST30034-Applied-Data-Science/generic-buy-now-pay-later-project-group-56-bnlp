{
 "cells": [
  {
   "cell_type": "code",
   "execution_count": 7,
   "metadata": {
    "collapsed": true,
    "pycharm": {
     "name": "#%%\n"
    }
   },
   "outputs": [],
   "source": [
    "from pyspark.sql import SparkSession, functions as F\n",
    "\n",
    "# Create a spark session\n",
    "spark = (\n",
    "    SparkSession.builder.appName(\"BNPL External Data-set\")\n",
    "    .config(\"spark.sql.repl.eagerEval.enabled\", True)\n",
    "    .config(\"spark.sql.parquet.cacheMetadata\", \"true\")\n",
    "    .config(\"spark.driver.memory\", \"4g\")\n",
    "    .config(\"spark.sql.session.timeZone\", \"Etc/UTC\")\n",
    "    .getOrCreate()\n",
    ")"
   ]
  },
  {
   "cell_type": "code",
   "execution_count": 8,
   "outputs": [],
   "source": [
    "# Load income by SA2 df\n",
    "income_by_sa2 = spark.read.parquet('../../data/tables/income_by_sa2.parquet')"
   ],
   "metadata": {
    "collapsed": false,
    "pycharm": {
     "name": "#%%\n"
    }
   }
  },
  {
   "cell_type": "code",
   "execution_count": 9,
   "outputs": [],
   "source": [
    "transactions = spark.read.parquet('../../data/curated/process_data.parquet')"
   ],
   "metadata": {
    "collapsed": false,
    "pycharm": {
     "name": "#%%\n"
    }
   }
  },
  {
   "cell_type": "code",
   "execution_count": 10,
   "outputs": [
    {
     "name": "stderr",
     "output_type": "stream",
     "text": [
      "                                                                                \r"
     ]
    },
    {
     "data": {
      "text/plain": "2288"
     },
     "execution_count": 10,
     "metadata": {},
     "output_type": "execute_result"
    }
   ],
   "source": [
    "#income_by_sa2.select('SA2').distinct().count()\n",
    "#income_by_sa2.columns"
   ],
   "metadata": {
    "collapsed": false,
    "pycharm": {
     "name": "#%%\n"
    }
   }
  },
  {
   "cell_type": "markdown",
   "source": [
    "Only getting 2288 distinct SA2 district's from the ABS data set -> some must be missing?"
   ],
   "metadata": {
    "collapsed": false,
    "pycharm": {
     "name": "#%% md\n"
    }
   }
  },
  {
   "cell_type": "code",
   "execution_count": 11,
   "outputs": [],
   "source": [
    "# read in postcode linking file\n",
    "postcodes = spark.read.options(header=True).csv('../../data/tables/external_datasets/postcode_data.csv')"
   ],
   "metadata": {
    "collapsed": false,
    "pycharm": {
     "name": "#%%\n"
    }
   }
  },
  {
   "cell_type": "code",
   "execution_count": 13,
   "outputs": [],
   "source": [
    "postcodes_feature_subset = ['postcode', 'SA2_MAINCODE_2016', 'locality', 'lat', 'long']\n",
    "postcodes = postcodes.select(*postcodes_feature_subset)"
   ],
   "metadata": {
    "collapsed": false,
    "pycharm": {
     "name": "#%%\n"
    }
   }
  },
  {
   "cell_type": "code",
   "execution_count": 14,
   "outputs": [
    {
     "data": {
      "text/plain": "+--------+-----------------+--------------------+----------+---------+\n|postcode|SA2_MAINCODE_2016|            locality|       lat|     long|\n+--------+-----------------+--------------------+----------+---------+\n|    0200|        801051049|                 ANU|  -35.2777|  149.119|\n|    0200|        801051049|Australian Nation...|  -35.2777| 149.1189|\n|    0800|        701011002|              DARWIN|-12.458684|130.83668|\n+--------+-----------------+--------------------+----------+---------+",
      "text/html": "<table border='1'>\n<tr><th>postcode</th><th>SA2_MAINCODE_2016</th><th>locality</th><th>lat</th><th>long</th></tr>\n<tr><td>0200</td><td>801051049</td><td>ANU</td><td>-35.2777</td><td>149.119</td></tr>\n<tr><td>0200</td><td>801051049</td><td>Australian Nation...</td><td>-35.2777</td><td>149.1189</td></tr>\n<tr><td>0800</td><td>701011002</td><td>DARWIN</td><td>-12.458684</td><td>130.83668</td></tr>\n</table>\n"
     },
     "execution_count": 14,
     "metadata": {},
     "output_type": "execute_result"
    }
   ],
   "source": [
    "postcodes.limit(3)"
   ],
   "metadata": {
    "collapsed": false,
    "pycharm": {
     "name": "#%%\n"
    }
   }
  },
  {
   "cell_type": "markdown",
   "source": [
    "Make a subset just for linking"
   ],
   "metadata": {
    "collapsed": false,
    "pycharm": {
     "name": "#%% md\n"
    }
   }
  },
  {
   "cell_type": "code",
   "execution_count": 15,
   "outputs": [
    {
     "data": {
      "text/plain": "+--------+-----------------+\n|postcode|SA2_MAINCODE_2016|\n+--------+-----------------+\n|    0200|        801051049|\n|    0200|        801051049|\n|    0800|        701011002|\n+--------+-----------------+",
      "text/html": "<table border='1'>\n<tr><th>postcode</th><th>SA2_MAINCODE_2016</th></tr>\n<tr><td>0200</td><td>801051049</td></tr>\n<tr><td>0200</td><td>801051049</td></tr>\n<tr><td>0800</td><td>701011002</td></tr>\n</table>\n"
     },
     "execution_count": 15,
     "metadata": {},
     "output_type": "execute_result"
    }
   ],
   "source": [
    "link_set =  ['postcode', 'SA2_MAINCODE_2016']\n",
    "link = postcodes.select(*link_set)\n",
    "link.limit(3)"
   ],
   "metadata": {
    "collapsed": false,
    "pycharm": {
     "name": "#%%\n"
    }
   }
  },
  {
   "cell_type": "code",
   "execution_count": 16,
   "outputs": [
    {
     "name": "stderr",
     "output_type": "stream",
     "text": [
      "                                                                                \r"
     ]
    },
    {
     "name": "stdout",
     "output_type": "stream",
     "text": [
      "Distinct postcodes:  3167\n"
     ]
    },
    {
     "name": "stderr",
     "output_type": "stream",
     "text": [
      "[Stage 17:==========================================>           (156 + 9) / 200]\r"
     ]
    },
    {
     "name": "stdout",
     "output_type": "stream",
     "text": [
      "Distinct SA2 regions:  2222\n"
     ]
    },
    {
     "name": "stderr",
     "output_type": "stream",
     "text": [
      "                                                                                \r"
     ]
    }
   ],
   "source": [
    "# descriptive statistics\n",
    "print(\"Distinct postcodes: \", link.select('postcode').distinct().count())\n",
    "print(\"Distinct SA2 regions: \", link.select('SA2_MAINCODE_2016').distinct().count())"
   ],
   "metadata": {
    "collapsed": false,
    "pycharm": {
     "name": "#%%\n"
    }
   }
  },
  {
   "cell_type": "markdown",
   "source": [
    "Again -> this is less than the officially reported number of ~ 2310, might have to look into using geopandas and closest centroids..."
   ],
   "metadata": {
    "collapsed": false,
    "pycharm": {
     "name": "#%% md\n"
    }
   }
  },
  {
   "cell_type": "markdown",
   "source": [
    "#### Take the income dataset; match sa2 to postcodes; aggregate across postcodes for final set"
   ],
   "metadata": {
    "collapsed": false,
    "pycharm": {
     "name": "#%% md\n"
    }
   }
  },
  {
   "cell_type": "code",
   "execution_count": 17,
   "outputs": [
    {
     "name": "stdout",
     "output_type": "stream",
     "text": [
      "root\n",
      " |-- postcode: string (nullable = true)\n",
      " |-- SA2_MAINCODE_2016: string (nullable = true)\n",
      "\n"
     ]
    }
   ],
   "source": [
    "link.printSchema()"
   ],
   "metadata": {
    "collapsed": false,
    "pycharm": {
     "name": "#%%\n"
    }
   }
  },
  {
   "cell_type": "code",
   "execution_count": 18,
   "outputs": [
    {
     "name": "stdout",
     "output_type": "stream",
     "text": [
      "root\n",
      " |-- SA2: string (nullable = true)\n",
      " |-- SA2_NAME: string (nullable = true)\n",
      " |-- persons_earners_2014-15: string (nullable = true)\n",
      " |-- persons_earners_2015-16: string (nullable = true)\n",
      " |-- persons_earners_2016-17: string (nullable = true)\n",
      " |-- persons_earners_2017-18: string (nullable = true)\n",
      " |-- persons_earners_2018-19: string (nullable = true)\n",
      " |-- med_age_earners_2014-15: string (nullable = true)\n",
      " |-- med_age_earners_2015-16: string (nullable = true)\n",
      " |-- med_age_earners_2016-17: string (nullable = true)\n",
      " |-- med_age_earners_2017-18: string (nullable = true)\n",
      " |-- med_age_earners_2018-19: string (nullable = true)\n",
      " |-- sum_earnings_2014-15: string (nullable = true)\n",
      " |-- sum_earnings_2015-16: string (nullable = true)\n",
      " |-- sum_earnings_2016-17: string (nullable = true)\n",
      " |-- sum_earnings_2017-18: string (nullable = true)\n",
      " |-- sum_earnings_2018-19: string (nullable = true)\n",
      " |-- median_earnings_2014-15: string (nullable = true)\n",
      " |-- median_earnings_2015-16: string (nullable = true)\n",
      " |-- median_earnings_2016-17: string (nullable = true)\n",
      " |-- median_earnings_2017-18: string (nullable = true)\n",
      " |-- median_earnings_2018-19: string (nullable = true)\n",
      " |-- mean_earnings_2014-15: string (nullable = true)\n",
      " |-- mean_earnings_2015-16: string (nullable = true)\n",
      " |-- mean_earnings_2016-17: string (nullable = true)\n",
      " |-- mean_earnings_2017-18: string (nullable = true)\n",
      " |-- mean_earnings_2018-19: string (nullable = true)\n",
      "\n"
     ]
    }
   ],
   "source": [
    "income_by_sa2.printSchema()"
   ],
   "metadata": {
    "collapsed": false,
    "pycharm": {
     "name": "#%%\n"
    }
   }
  },
  {
   "cell_type": "code",
   "execution_count": 19,
   "outputs": [
    {
     "name": "stderr",
     "output_type": "stream",
     "text": [
      "22/09/08 22:26:56 WARN package: Truncated the string representation of a plan since it was too large. This behavior can be adjusted by setting 'spark.sql.debug.maxToStringFields'.\n"
     ]
    },
    {
     "data": {
      "text/plain": "+---------+----------+-----------------------+-----------------------+-----------------------+-----------------------+-----------------------+-----------------------+-----------------------+-----------------------+-----------------------+-----------------------+--------------------+--------------------+--------------------+--------------------+--------------------+-----------------------+-----------------------+-----------------------+-----------------------+-----------------------+---------------------+---------------------+---------------------+---------------------+---------------------+\n|      SA2|  SA2_NAME|persons_earners_2014-15|persons_earners_2015-16|persons_earners_2016-17|persons_earners_2017-18|persons_earners_2018-19|med_age_earners_2014-15|med_age_earners_2015-16|med_age_earners_2016-17|med_age_earners_2017-18|med_age_earners_2018-19|sum_earnings_2014-15|sum_earnings_2015-16|sum_earnings_2016-17|sum_earnings_2017-18|sum_earnings_2018-19|median_earnings_2014-15|median_earnings_2015-16|median_earnings_2016-17|median_earnings_2017-18|median_earnings_2018-19|mean_earnings_2014-15|mean_earnings_2015-16|mean_earnings_2016-17|mean_earnings_2017-18|mean_earnings_2018-19|\n+---------+----------+-----------------------+-----------------------+-----------------------+-----------------------+-----------------------+-----------------------+-----------------------+-----------------------+-----------------------+-----------------------+--------------------+--------------------+--------------------+--------------------+--------------------+-----------------------+-----------------------+-----------------------+-----------------------+-----------------------+---------------------+---------------------+---------------------+---------------------+---------------------+\n|101021007| Braidwood|                   2133|                   2153|                   2262|                   2315|                   2361|                     50|                     50|                     50|                     51|                     51|           101830606|           109961530|           115564780|           119439615|           120763285|                  38093|                  39716|                  41288|                  42003|                  41593|                47741|                51074|                51090|                51594|                51149|\n|101021008|   Karabar|                   4866|                   4937|                   4988|                   5059|                   5100|                     43|                     42|                     42|                     42|                     42|           289762288|           301618607|           311923113|           322715297|           338308979|                  54942|                  55870|                  57880|                  59295|                  61777|                59548|                61093|                62535|                63790|                66335|\n|101021009|Queanbeyan|                   6194|                   6419|                   6486|                   6595|                   6697|                     40|                     39|                     39|                     39|                     39|           367366063|           390044004|           395374979|           414579067|           441160946|                  54716|                  54999|                  55376|                  57848|                  60119|                59310|                60764|                60958|                62863|                65874|\n+---------+----------+-----------------------+-----------------------+-----------------------+-----------------------+-----------------------+-----------------------+-----------------------+-----------------------+-----------------------+-----------------------+--------------------+--------------------+--------------------+--------------------+--------------------+-----------------------+-----------------------+-----------------------+-----------------------+-----------------------+---------------------+---------------------+---------------------+---------------------+---------------------+",
      "text/html": "<table border='1'>\n<tr><th>SA2</th><th>SA2_NAME</th><th>persons_earners_2014-15</th><th>persons_earners_2015-16</th><th>persons_earners_2016-17</th><th>persons_earners_2017-18</th><th>persons_earners_2018-19</th><th>med_age_earners_2014-15</th><th>med_age_earners_2015-16</th><th>med_age_earners_2016-17</th><th>med_age_earners_2017-18</th><th>med_age_earners_2018-19</th><th>sum_earnings_2014-15</th><th>sum_earnings_2015-16</th><th>sum_earnings_2016-17</th><th>sum_earnings_2017-18</th><th>sum_earnings_2018-19</th><th>median_earnings_2014-15</th><th>median_earnings_2015-16</th><th>median_earnings_2016-17</th><th>median_earnings_2017-18</th><th>median_earnings_2018-19</th><th>mean_earnings_2014-15</th><th>mean_earnings_2015-16</th><th>mean_earnings_2016-17</th><th>mean_earnings_2017-18</th><th>mean_earnings_2018-19</th></tr>\n<tr><td>101021007</td><td>Braidwood</td><td>2133</td><td>2153</td><td>2262</td><td>2315</td><td>2361</td><td>50</td><td>50</td><td>50</td><td>51</td><td>51</td><td>101830606</td><td>109961530</td><td>115564780</td><td>119439615</td><td>120763285</td><td>38093</td><td>39716</td><td>41288</td><td>42003</td><td>41593</td><td>47741</td><td>51074</td><td>51090</td><td>51594</td><td>51149</td></tr>\n<tr><td>101021008</td><td>Karabar</td><td>4866</td><td>4937</td><td>4988</td><td>5059</td><td>5100</td><td>43</td><td>42</td><td>42</td><td>42</td><td>42</td><td>289762288</td><td>301618607</td><td>311923113</td><td>322715297</td><td>338308979</td><td>54942</td><td>55870</td><td>57880</td><td>59295</td><td>61777</td><td>59548</td><td>61093</td><td>62535</td><td>63790</td><td>66335</td></tr>\n<tr><td>101021009</td><td>Queanbeyan</td><td>6194</td><td>6419</td><td>6486</td><td>6595</td><td>6697</td><td>40</td><td>39</td><td>39</td><td>39</td><td>39</td><td>367366063</td><td>390044004</td><td>395374979</td><td>414579067</td><td>441160946</td><td>54716</td><td>54999</td><td>55376</td><td>57848</td><td>60119</td><td>59310</td><td>60764</td><td>60958</td><td>62863</td><td>65874</td></tr>\n</table>\n"
     },
     "execution_count": 19,
     "metadata": {},
     "output_type": "execute_result"
    }
   ],
   "source": [
    "income_by_sa2.limit(3)"
   ],
   "metadata": {
    "collapsed": false,
    "pycharm": {
     "name": "#%%\n"
    }
   }
  },
  {
   "cell_type": "code",
   "execution_count": 20,
   "outputs": [
    {
     "data": {
      "text/plain": "+--------+-----------------+\n|postcode|SA2_MAINCODE_2016|\n+--------+-----------------+\n|    0200|        801051049|\n|    0200|        801051049|\n|    0800|        701011002|\n+--------+-----------------+",
      "text/html": "<table border='1'>\n<tr><th>postcode</th><th>SA2_MAINCODE_2016</th></tr>\n<tr><td>0200</td><td>801051049</td></tr>\n<tr><td>0200</td><td>801051049</td></tr>\n<tr><td>0800</td><td>701011002</td></tr>\n</table>\n"
     },
     "execution_count": 20,
     "metadata": {},
     "output_type": "execute_result"
    }
   ],
   "source": [
    "link.limit(3)"
   ],
   "metadata": {
    "collapsed": false,
    "pycharm": {
     "name": "#%%\n"
    }
   }
  },
  {
   "cell_type": "code",
   "execution_count": 31,
   "outputs": [
    {
     "name": "stderr",
     "output_type": "stream",
     "text": [
      "                                                                                \r"
     ]
    },
    {
     "data": {
      "text/plain": "+--------+---------+\n|postcode| sa2_code|\n+--------+---------+\n|    0200|801051049|\n|    0800|701011002|\n|    0801|701011002|\n|    0804|701011007|\n|    0810|701021021|\n|    0810|701021013|\n|    0810|701021023|\n+--------+---------+",
      "text/html": "<table border='1'>\n<tr><th>postcode</th><th>sa2_code</th></tr>\n<tr><td>0200</td><td>801051049</td></tr>\n<tr><td>0800</td><td>701011002</td></tr>\n<tr><td>0801</td><td>701011002</td></tr>\n<tr><td>0804</td><td>701011007</td></tr>\n<tr><td>0810</td><td>701021021</td></tr>\n<tr><td>0810</td><td>701021023</td></tr>\n<tr><td>0810</td><td>701021029</td></tr>\n</table>\n"
     },
     "execution_count": 31,
     "metadata": {},
     "output_type": "execute_result"
    }
   ],
   "source": [
    "link = link.distinct()\n",
    "link = link.withColumnRenamed('SA2_MAINCODE_2016', 'sa2_code')\n",
    "link.orderBy('postcode').limit(7)"
   ],
   "metadata": {
    "collapsed": false,
    "pycharm": {
     "name": "#%%\n"
    }
   }
  },
  {
   "cell_type": "code",
   "execution_count": 56,
   "outputs": [
    {
     "name": "stdout",
     "output_type": "stream",
     "text": [
      "5487\n"
     ]
    },
    {
     "data": {
      "text/plain": "+--------+---------+\n|postcode| sa2_code|\n+--------+---------+\n|    0200|801051049|\n|    0800|701011002|\n|    0801|701011002|\n|    0804|701011007|\n|    0810|701021021|\n|    0810|701021023|\n|    0810|701021029|\n+--------+---------+",
      "text/html": "<table border='1'>\n<tr><th>postcode</th><th>sa2_code</th></tr>\n<tr><td>0200</td><td>801051049</td></tr>\n<tr><td>0800</td><td>701011002</td></tr>\n<tr><td>0801</td><td>701011002</td></tr>\n<tr><td>0804</td><td>701011007</td></tr>\n<tr><td>0810</td><td>701021021</td></tr>\n<tr><td>0810</td><td>701021023</td></tr>\n<tr><td>0810</td><td>701021029</td></tr>\n</table>\n"
     },
     "execution_count": 56,
     "metadata": {},
     "output_type": "execute_result"
    }
   ],
   "source": [
    "inc_joined = link.join(income_by_sa2, link.sa2_code == income_by_sa2.SA2, \"left\").na.drop().distinct()\n",
    "#inc_joined = link.join(income_by_sa2, link.SA2_MAINCODE_2016 == income_by_sa2.SA2, \"left\").distinct()\n",
    "print(inc_joined.count())\n",
    "inc_joined.select(['postcode', 'sa2_code']).orderBy('postcode').limit(7)\n",
    "\n",
    "# end up with 5588 rows\n",
    "# therefore there a lot of postcodes with SA2's > 1 || SA2's with postcodes > 1"
   ],
   "metadata": {
    "collapsed": false,
    "pycharm": {
     "name": "#%%\n"
    }
   }
  },
  {
   "cell_type": "code",
   "execution_count": 33,
   "outputs": [
    {
     "name": "stderr",
     "output_type": "stream",
     "text": [
      "                                                                                \r"
     ]
    },
    {
     "data": {
      "text/plain": "2218"
     },
     "execution_count": 33,
     "metadata": {},
     "output_type": "execute_result"
    }
   ],
   "source": [
    "#inc_joined.select('SA2').distinct().count()\n",
    "#inc_joined.select('postcode').distinct().count()"
   ],
   "metadata": {
    "collapsed": false,
    "pycharm": {
     "name": "#%%\n"
    }
   }
  },
  {
   "cell_type": "code",
   "execution_count": 17,
   "outputs": [],
   "source": [
    "from pyspark.sql import functions as F"
   ],
   "metadata": {
    "collapsed": false,
    "pycharm": {
     "name": "#%%\n"
    }
   }
  },
  {
   "cell_type": "code",
   "execution_count": 18,
   "outputs": [],
   "source": [
    "#inc_cols = inc_joined.columns"
   ],
   "metadata": {
    "collapsed": false,
    "pycharm": {
     "name": "#%%\n"
    }
   }
  },
  {
   "cell_type": "code",
   "execution_count": 19,
   "outputs": [
    {
     "data": {
      "text/plain": "3167"
     },
     "execution_count": 19,
     "metadata": {},
     "output_type": "execute_result"
    }
   ],
   "source": [
    "# num of distinct postcodes\n",
    "inc_joined.select('postcode').distinct().count()"
   ],
   "metadata": {
    "collapsed": false,
    "pycharm": {
     "name": "#%%\n"
    }
   }
  },
  {
   "cell_type": "code",
   "execution_count": 34,
   "outputs": [],
   "source": [
    "agg_by_postcode_income = inc_joined \\\n",
    "    .groupBy('postcode') \\\n",
    "    .agg(\n",
    "    F.sum('persons_earners_2018-19').alias('persons_earners_2018-19_sum'),\n",
    "    F.mean('mean_earnings_2018-19').alias('mean_earnings_2018-19_avg'),\n",
    "    F.sum('sum_earnings_2018-19').alias('sum_earnings_2018-19_sum'),\n",
    "    F.mean('median_earnings_2018-19').alias('median_earnings_2018-19_avg'),\n",
    "    F.mean('med_age_earners_2018-19').alias('med_age_earners_2018-19_avg')\n",
    "    #F.percentile_approx('median_earnings_2018-19', 0.5).alias('median_earnings_2018-19_med'),\n",
    "    #F.percentile_approx('med_age_earners_2018-19', 0.5).alias('med_age_earners_2018-19_med')\n",
    ") \\\n",
    "    .orderBy('postcode')"
   ],
   "metadata": {
    "collapsed": false,
    "pycharm": {
     "name": "#%%\n"
    }
   }
  },
  {
   "cell_type": "code",
   "execution_count": 35,
   "outputs": [
    {
     "name": "stderr",
     "output_type": "stream",
     "text": [
      "[Stage 81:=================================================>    (185 + 8) / 200]\r"
     ]
    },
    {
     "name": "stdout",
     "output_type": "stream",
     "text": [
      "+--------+---------------------------+-------------------------+------------------------+---------------------------+---------------------------+\n",
      "|postcode|persons_earners_2018-19_sum|mean_earnings_2018-19_avg|sum_earnings_2018-19_sum|median_earnings_2018-19_avg|med_age_earners_2018-19_avg|\n",
      "+--------+---------------------------+-------------------------+------------------------+---------------------------+---------------------------+\n",
      "|    0200|                      552.0|                  19479.0|             1.0752338E7|                    10433.0|                       23.0|\n",
      "|    0800|                     5632.0|                  74682.0|            4.20609031E8|                    57789.0|                       33.0|\n",
      "|    0801|                     5632.0|                  74682.0|            4.20609031E8|                    57789.0|                       33.0|\n",
      "|    0804|                     1810.0|                  88303.0|            1.59828824E8|                    71724.0|                       40.0|\n",
      "|    0810|                    21932.0|        69868.83333333333|           1.574969237E9|         60190.166666666664|         39.583333333333336|\n",
      "|    0811|                     2344.0|                  67459.0|            1.58124305E8|                    53870.0|                       39.0|\n",
      "|    0812|                    11443.0|                  70373.0|            8.01236575E8|                    61972.6|                       42.0|\n",
      "|    0813|                      334.0|                  44246.0|             1.4778057E7|                    34613.0|                       36.0|\n",
      "|    0814|                     2614.0|                  83448.0|            2.18131899E8|                    66004.0|                       38.0|\n",
      "|    0815|                     2344.0|                  67459.0|            1.58124305E8|                    53870.0|                       39.0|\n",
      "|    0820|                    23453.0|        77045.90909090909|           1.854671661E9|                    64147.0|          39.27272727272727|\n",
      "|    0821|                     3027.0|                  73384.0|            2.22134648E8|                    60886.0|                       39.0|\n",
      "|    0822|                    28057.0|                57779.125|           1.851297021E9|                  49161.625|                    39.9375|\n",
      "|    0828|                      749.0|                  76836.0|             5.7550377E7|                    62943.0|                       42.0|\n",
      "|    0829|                     2938.0|                  80226.0|            2.35703839E8|                    73293.0|                       38.0|\n",
      "|    0830|                    16478.0|                69863.875|             1.1903255E9|                   65781.25|                       36.0|\n",
      "|    0831|                     2997.0|                  76254.0|             2.2853271E8|                    70438.0|                       37.0|\n",
      "|    0832|                    15026.0|                  74344.0|           1.124183073E9|                    69432.8|                       36.8|\n",
      "|    0834|                     2091.0|                  70984.0|            1.48427325E8|                    62214.0|                       44.0|\n",
      "|    0835|                     4608.0|                  72946.0|            3.36969731E8|                    65204.0|                       43.0|\n",
      "+--------+---------------------------+-------------------------+------------------------+---------------------------+---------------------------+\n",
      "only showing top 20 rows\n",
      "\n"
     ]
    },
    {
     "name": "stderr",
     "output_type": "stream",
     "text": [
      "                                                                                \r"
     ]
    }
   ],
   "source": [
    "agg_by_postcode_income.show()"
   ],
   "metadata": {
    "collapsed": false,
    "pycharm": {
     "name": "#%%\n"
    }
   }
  },
  {
   "cell_type": "code",
   "execution_count": 37,
   "outputs": [],
   "source": [
    "#import sys\n",
    "#sys.path.append('../../scripts/')\n",
    "#from etl import preprocess_population"
   ],
   "metadata": {
    "collapsed": false,
    "pycharm": {
     "name": "#%%\n"
    }
   }
  },
  {
   "cell_type": "code",
   "execution_count": null,
   "outputs": [],
   "source": [],
   "metadata": {
    "collapsed": false,
    "pycharm": {
     "name": "#%%\n",
     "is_executing": true
    }
   }
  },
  {
   "cell_type": "code",
   "execution_count": 38,
   "outputs": [],
   "source": [
    "# Anuj population code from ETL --> should be able to just import this # ignore the hack\n",
    "population = spark.read.option(\"header\", True).csv('../../data/tables/population_data.csv')"
   ],
   "metadata": {
    "collapsed": false,
    "pycharm": {
     "name": "#%%\n"
    }
   }
  },
  {
   "cell_type": "code",
   "execution_count": 39,
   "outputs": [],
   "source": [
    "from pyspark.sql.types import LongType, IntegerType\n",
    "def population_preprocess(data):\n",
    "\n",
    "    cols_to_keep = ['sa2_maincode_2016', 'sa2_name_2016', 'erp_2021']\n",
    "    population_df = data.select(*cols_to_keep)\n",
    "\n",
    "    population_df = population_df \\\n",
    "                    .withColumn(\"sa2_maincode_2016\", F.col(\"sa2_maincode_2016\").cast(LongType())) \\\n",
    "                    .withColumn(\"erp_2021\", F.col('erp_2021').cast(IntegerType()))\n",
    "\n",
    "    population_df = population_df \\\n",
    "                    .withColumnRenamed('sa2_name_2016', 'suburb') \\\n",
    "                    .withColumnRenamed('erp_2021', 'estimated_region_population_2021')\n",
    "\n",
    "    return population_df"
   ],
   "metadata": {
    "collapsed": false,
    "pycharm": {
     "name": "#%%\n"
    }
   }
  },
  {
   "cell_type": "code",
   "execution_count": 40,
   "outputs": [],
   "source": [
    "population = population_preprocess(population)"
   ],
   "metadata": {
    "collapsed": false,
    "pycharm": {
     "name": "#%%\n"
    }
   }
  },
  {
   "cell_type": "code",
   "execution_count": 78,
   "outputs": [
    {
     "name": "stdout",
     "output_type": "stream",
     "text": [
      "Before linking rows (population):  2292\n"
     ]
    },
    {
     "name": "stderr",
     "output_type": "stream",
     "text": [
      "                                                                                \r"
     ]
    },
    {
     "name": "stdout",
     "output_type": "stream",
     "text": [
      "Before linking rows (postcode links):  5588\n"
     ]
    },
    {
     "data": {
      "text/plain": "+-----------------+--------------------+--------------------------------+\n|sa2_maincode_2016|              suburb|estimated_region_population_2021|\n+-----------------+--------------------+--------------------------------+\n|        212031301|     Cranbourne East|                           60489|\n|        213051365|             Tarneit|                           52866|\n|        116021312|Riverstone - Mars...|                           48063|\n|        504031059|          Ellenbrook|                           47743|\n|        206041122|           Melbourne|                           47192|\n+-----------------+--------------------+--------------------------------+",
      "text/html": "<table border='1'>\n<tr><th>sa2_maincode_2016</th><th>suburb</th><th>estimated_region_population_2021</th></tr>\n<tr><td>212031301</td><td>Cranbourne East</td><td>60489</td></tr>\n<tr><td>213051365</td><td>Tarneit</td><td>52866</td></tr>\n<tr><td>116021312</td><td>Riverstone - Mars...</td><td>48063</td></tr>\n<tr><td>504031059</td><td>Ellenbrook</td><td>47743</td></tr>\n<tr><td>206041122</td><td>Melbourne</td><td>47192</td></tr>\n</table>\n"
     },
     "execution_count": 78,
     "metadata": {},
     "output_type": "execute_result"
    }
   ],
   "source": [
    "print(\"Before linking rows (population): \" , population.count())\n",
    "print(\"Before linking rows (postcode links): \" , link.count())\n",
    "#population.head(5)\n",
    "population.orderBy(F.col('estimated_region_population_2021').desc()).limit(5)"
   ],
   "metadata": {
    "collapsed": false,
    "pycharm": {
     "name": "#%%\n"
    }
   }
  },
  {
   "cell_type": "code",
   "execution_count": 69,
   "outputs": [
    {
     "data": {
      "text/plain": "+--------+-----------------+\n|postcode|SA2_MAINCODE_2016|\n+--------+-----------------+\n|    0200|        801051049|\n|    0200|        801051049|\n|    0800|        701011002|\n|    0800|        701011002|\n|    0801|        701011002|\n+--------+-----------------+",
      "text/html": "<table border='1'>\n<tr><th>postcode</th><th>SA2_MAINCODE_2016</th></tr>\n<tr><td>0200</td><td>801051049</td></tr>\n<tr><td>0200</td><td>801051049</td></tr>\n<tr><td>0800</td><td>701011002</td></tr>\n<tr><td>0800</td><td>701011002</td></tr>\n<tr><td>0801</td><td>701011002</td></tr>\n</table>\n"
     },
     "execution_count": 69,
     "metadata": {},
     "output_type": "execute_result"
    }
   ],
   "source": [
    "link.limit(5)"
   ],
   "metadata": {
    "collapsed": false,
    "pycharm": {
     "name": "#%%\n"
    }
   }
  },
  {
   "cell_type": "code",
   "execution_count": 42,
   "outputs": [
    {
     "name": "stderr",
     "output_type": "stream",
     "text": [
      "                                                                                \r"
     ]
    },
    {
     "name": "stdout",
     "output_type": "stream",
     "text": [
      "Distinct SA2 Codes: (link) 2222\n",
      "Distinct postcodes (link):  3167\n",
      "Distinct entries: (link) 5588\n",
      "Distinct SA2 Codes: (population) 2292\n"
     ]
    }
   ],
   "source": [
    "# investigate\n",
    "print(\"Distinct SA2 Codes: (link)\", link.select('sa2_code').distinct().count())\n",
    "print(\"Distinct postcodes (link): \", link.select('postcode').distinct().count())\n",
    "print(\"Distinct entries: (link)\", link.distinct().count())\n",
    "\n",
    "print(\"Distinct SA2 Codes: (population)\", population.select('sa2_maincode_2016').distinct().count())\n",
    "#print(\"Distinct postcodes (link): \", link.select('postcode').distinct().count())\n",
    "#print(\"Distinct entries: (link)\", link.select('postcode').distinct().count())\n"
   ],
   "metadata": {
    "collapsed": false,
    "pycharm": {
     "name": "#%%\n"
    }
   }
  },
  {
   "cell_type": "code",
   "execution_count": 54,
   "outputs": [],
   "source": [
    "population_joined = population.join(link, population['sa2_maincode_2016'] == link['sa2_code'], \"left\").na.drop().distinct()\n",
    "#population_joined = population.join(link, population['sa2_maincode_2016'] == link['sa2_code'], \"inner\").distinct()"
   ],
   "metadata": {
    "collapsed": false,
    "pycharm": {
     "name": "#%%\n"
    }
   }
  },
  {
   "cell_type": "code",
   "execution_count": 80,
   "outputs": [
    {
     "name": "stdout",
     "output_type": "stream",
     "text": [
      "5492\n"
     ]
    },
    {
     "data": {
      "text/plain": "+-----------------+--------------------+--------------------------------+--------+---------+\n|sa2_maincode_2016|              suburb|estimated_region_population_2021|postcode| sa2_code|\n+-----------------+--------------------+--------------------------------+--------+---------+\n|        203031050|Ocean Grove - Bar...|                           30630|    3221|203031050|\n|        203021038|     Corio - Norlane|                           27375|    3221|203021038|\n|        203031051|       Portarlington|                            9040|    3221|203031051|\n|        203021039|             Geelong|                           13778|    3221|203021039|\n|        203011034|         Bannockburn|                            7725|    3221|203011034|\n|        203021045|    Newcomb - Moolap|                           14938|    3221|203021045|\n|        203021042|             Highton|                           24126|    3221|203021042|\n|        203021043|                Lara|                           21289|    3221|203021043|\n|        217031476|               Otway|                            3661|    3221|217031476|\n|        203021047|North Geelong - B...|                           15586|    3221|203021047|\n|        203021040|Geelong West - Ha...|                           21398|    3221|203021040|\n|        203011036|          Winchelsea|                            6262|    3221|203011036|\n+-----------------+--------------------+--------------------------------+--------+---------+",
      "text/html": "<table border='1'>\n<tr><th>sa2_maincode_2016</th><th>suburb</th><th>estimated_region_population_2021</th><th>postcode</th><th>sa2_code</th></tr>\n<tr><td>203031050</td><td>Ocean Grove - Bar...</td><td>30630</td><td>3221</td><td>203031050</td></tr>\n<tr><td>203021038</td><td>Corio - Norlane</td><td>27375</td><td>3221</td><td>203021038</td></tr>\n<tr><td>203031051</td><td>Portarlington</td><td>9040</td><td>3221</td><td>203031051</td></tr>\n<tr><td>203021039</td><td>Geelong</td><td>13778</td><td>3221</td><td>203021039</td></tr>\n<tr><td>203011034</td><td>Bannockburn</td><td>7725</td><td>3221</td><td>203011034</td></tr>\n<tr><td>203021045</td><td>Newcomb - Moolap</td><td>14938</td><td>3221</td><td>203021045</td></tr>\n<tr><td>203021042</td><td>Highton</td><td>24126</td><td>3221</td><td>203021042</td></tr>\n<tr><td>203021043</td><td>Lara</td><td>21289</td><td>3221</td><td>203021043</td></tr>\n<tr><td>217031476</td><td>Otway</td><td>3661</td><td>3221</td><td>217031476</td></tr>\n<tr><td>203021047</td><td>North Geelong - B...</td><td>15586</td><td>3221</td><td>203021047</td></tr>\n<tr><td>203021040</td><td>Geelong West - Ha...</td><td>21398</td><td>3221</td><td>203021040</td></tr>\n<tr><td>203011036</td><td>Winchelsea</td><td>6262</td><td>3221</td><td>203011036</td></tr>\n</table>\n"
     },
     "execution_count": 80,
     "metadata": {},
     "output_type": "execute_result"
    }
   ],
   "source": [
    "print(population_joined.count())\n",
    "population_joined.orderBy('postcode').orderBy('postcode').limit(20)\n",
    "#population_joined.where(population_joined['postcode'] == '3221') # check that some numbers look right"
   ],
   "metadata": {
    "collapsed": false,
    "pycharm": {
     "name": "#%%\n"
    }
   }
  },
  {
   "cell_type": "code",
   "execution_count": 57,
   "outputs": [
    {
     "name": "stdout",
     "output_type": "stream",
     "text": [
      "distinct postcodes =  3165\n",
      "distinct sa2_codes =  2221\n"
     ]
    }
   ],
   "source": [
    "print(\"distinct postcodes = \", population_joined.select('postcode').distinct().count())\n",
    "print(\"distinct sa2_codes = \", population_joined.select('sa2_code').distinct().count())\n",
    "#population_joined.na.drop().count()"
   ],
   "metadata": {
    "collapsed": false,
    "pycharm": {
     "name": "#%%\n"
    }
   }
  },
  {
   "cell_type": "markdown",
   "source": [],
   "metadata": {
    "collapsed": false,
    "pycharm": {
     "name": "#%% md\n"
    }
   }
  },
  {
   "cell_type": "code",
   "execution_count": 58,
   "outputs": [],
   "source": [
    "agg_by_postcode_population = population_joined \\\n",
    "        .groupBy('postcode') \\\n",
    "        .agg(\n",
    "        F.sum('estimated_region_population_2021').alias('estimated_region_population_2021_sum'),\n",
    "        ) \\\n",
    "        .orderBy('postcode')"
   ],
   "metadata": {
    "collapsed": false,
    "pycharm": {
     "name": "#%%\n"
    }
   }
  },
  {
   "cell_type": "code",
   "execution_count": 59,
   "outputs": [
    {
     "name": "stderr",
     "output_type": "stream",
     "text": [
      "                                                                                \r"
     ]
    },
    {
     "data": {
      "text/plain": "+--------+------------------------------------+\n|postcode|estimated_region_population_2021_sum|\n+--------+------------------------------------+\n|    0200|                                2161|\n|    0800|                                7088|\n|    0801|                                7088|\n|    0804|                                2827|\n|    0810|                               35007|\n|    0811|                                3154|\n|    0812|                               18442|\n|    0813|                                2848|\n|    0814|                                3719|\n|    0815|                                3154|\n+--------+------------------------------------+",
      "text/html": "<table border='1'>\n<tr><th>postcode</th><th>estimated_region_population_2021_sum</th></tr>\n<tr><td>0200</td><td>2161</td></tr>\n<tr><td>0800</td><td>7088</td></tr>\n<tr><td>0801</td><td>7088</td></tr>\n<tr><td>0804</td><td>2827</td></tr>\n<tr><td>0810</td><td>35007</td></tr>\n<tr><td>0811</td><td>3154</td></tr>\n<tr><td>0812</td><td>18442</td></tr>\n<tr><td>0813</td><td>2848</td></tr>\n<tr><td>0814</td><td>3719</td></tr>\n<tr><td>0815</td><td>3154</td></tr>\n</table>\n"
     },
     "execution_count": 59,
     "metadata": {},
     "output_type": "execute_result"
    }
   ],
   "source": [
    "agg_by_postcode_population.limit(10)"
   ],
   "metadata": {
    "collapsed": false,
    "pycharm": {
     "name": "#%%\n"
    }
   }
  },
  {
   "cell_type": "markdown",
   "source": [
    "Check schema types"
   ],
   "metadata": {
    "collapsed": false,
    "pycharm": {
     "name": "#%% md\n"
    }
   }
  },
  {
   "cell_type": "code",
   "execution_count": 60,
   "outputs": [
    {
     "name": "stdout",
     "output_type": "stream",
     "text": [
      "root\n",
      " |-- merchant_abn: long (nullable = true)\n",
      " |-- consumer_id: long (nullable = true)\n",
      " |-- user_id: long (nullable = true)\n",
      " |-- dollar_value: double (nullable = true)\n",
      " |-- order_id: string (nullable = true)\n",
      " |-- order_datetime: date (nullable = true)\n",
      " |-- state: string (nullable = true)\n",
      " |-- postcode: string (nullable = true)\n",
      " |-- gender: string (nullable = true)\n",
      " |-- merchant_name: string (nullable = true)\n",
      " |-- tag: string (nullable = true)\n",
      " |-- revenue: string (nullable = true)\n",
      " |-- rate: string (nullable = true)\n",
      " |-- category: string (nullable = true)\n",
      "\n"
     ]
    }
   ],
   "source": [
    "transactions.printSchema()"
   ],
   "metadata": {
    "collapsed": false,
    "pycharm": {
     "name": "#%%\n"
    }
   }
  },
  {
   "cell_type": "code",
   "execution_count": 61,
   "outputs": [
    {
     "name": "stderr",
     "output_type": "stream",
     "text": [
      "                                                                                \r"
     ]
    },
    {
     "data": {
      "text/plain": "8151372"
     },
     "execution_count": 61,
     "metadata": {},
     "output_type": "execute_result"
    }
   ],
   "source": [
    "transactions.count()"
   ],
   "metadata": {
    "collapsed": false,
    "pycharm": {
     "name": "#%%\n"
    }
   }
  },
  {
   "cell_type": "code",
   "execution_count": 66,
   "outputs": [],
   "source": [
    "# rename postcode cols before joining\n",
    "agg_by_postcode_population = agg_by_postcode_population.withColumnRenamed('postcode', 'postcode_pset')\n",
    "agg_by_postcode_income = agg_by_postcode_income.withColumnRenamed('postcode', 'postcode_iset')"
   ],
   "metadata": {
    "collapsed": false,
    "pycharm": {
     "name": "#%%\n"
    }
   }
  },
  {
   "cell_type": "code",
   "execution_count": 67,
   "outputs": [],
   "source": [
    "# merge with transactions ->\n",
    "transactions_ = transactions\\\n",
    "    .join(agg_by_postcode_population, transactions['postcode'] == agg_by_postcode_population['postcode_pset'], how='left')\\\n",
    "    .drop('postcode_pset')\\\n",
    "    .join(agg_by_postcode_income, transactions['postcode'] == agg_by_postcode_income['postcode_iset'], how='left')\\\n",
    "    .drop('postcode_iset')"
   ],
   "metadata": {
    "collapsed": false,
    "pycharm": {
     "name": "#%%\n"
    }
   }
  },
  {
   "cell_type": "code",
   "execution_count": 76,
   "outputs": [
    {
     "name": "stderr",
     "output_type": "stream",
     "text": [
      "                                                                                \r"
     ]
    },
    {
     "data": {
      "text/plain": "+------------+-----------+-------+------------+--------------------+--------------+-----+--------+------+--------------------+--------------------+-------+----+--------------------+------------------------------------+---------------------------+-------------------------+------------------------+---------------------------+---------------------------+\n|merchant_abn|consumer_id|user_id|dollar_value|            order_id|order_datetime|state|postcode|gender|       merchant_name|                 tag|revenue|rate|            category|estimated_region_population_2021_sum|persons_earners_2018-19_sum|mean_earnings_2018-19_avg|sum_earnings_2018-19_sum|median_earnings_2018-19_avg|med_age_earners_2018-19_avg|\n+------------+-----------+-------+------------+--------------------+--------------+-----+--------+------+--------------------+--------------------+-------+----+--------------------+------------------------------------+---------------------------+-------------------------+------------------------+---------------------------+---------------------------+\n| 15912561882|     888074|  15727|      512.09|95a7d4b7-0588-4de...|    2021-04-16|  VIC|    3221|Female|Nullam Nisl Insti...|          shoe shops|      b|3.72|retail_and_wholes...|                              195808|                   105712.0|       59923.416666666664|           6.519140918E9|                   49029.75|         44.333333333333336|\n| 24852446429|     922827|    788|       24.53|1490a482-783d-4c9...|    2021-07-01|  VIC|    3221|Female|      Erat Vitae LLP|florists supplies...|      c|2.94|retail_and_wholes...|                              195808|                   105712.0|       59923.416666666664|           6.519140918E9|                   49029.75|         44.333333333333336|\n| 24852446429|     922827|    788|       34.25|9a24a9af-7946-449...|    2021-06-22|  VIC|    3221|Female|      Erat Vitae LLP|florists supplies...|      c|2.94|retail_and_wholes...|                              195808|                   105712.0|       59923.416666666664|           6.519140918E9|                   49029.75|         44.333333333333336|\n| 22900076341|     888074|  15727|       39.03|5b39362d-2c82-49f...|    2022-02-26|  VIC|    3221|Female|    In Consequat LLC|computer programm...|      c|2.47|info_media_and_te...|                              195808|                   105712.0|       59923.416666666664|           6.519140918E9|                   49029.75|         44.333333333333336|\n| 24852446429|     922827|    788|       24.48|af53ba5e-50ff-427...|    2021-08-25|  VIC|    3221|Female|      Erat Vitae LLP|florists supplies...|      c|2.94|retail_and_wholes...|                              195808|                   105712.0|       59923.416666666664|           6.519140918E9|                   49029.75|         44.333333333333336|\n+------------+-----------+-------+------------+--------------------+--------------+-----+--------+------+--------------------+--------------------+-------+----+--------------------+------------------------------------+---------------------------+-------------------------+------------------------+---------------------------+---------------------------+",
      "text/html": "<table border='1'>\n<tr><th>merchant_abn</th><th>consumer_id</th><th>user_id</th><th>dollar_value</th><th>order_id</th><th>order_datetime</th><th>state</th><th>postcode</th><th>gender</th><th>merchant_name</th><th>tag</th><th>revenue</th><th>rate</th><th>category</th><th>estimated_region_population_2021_sum</th><th>persons_earners_2018-19_sum</th><th>mean_earnings_2018-19_avg</th><th>sum_earnings_2018-19_sum</th><th>median_earnings_2018-19_avg</th><th>med_age_earners_2018-19_avg</th></tr>\n<tr><td>15912561882</td><td>888074</td><td>15727</td><td>512.09</td><td>95a7d4b7-0588-4de...</td><td>2021-04-16</td><td>VIC</td><td>3221</td><td>Female</td><td>Nullam Nisl Insti...</td><td>shoe shops</td><td>b</td><td>3.72</td><td>retail_and_wholes...</td><td>195808</td><td>105712.0</td><td>59923.416666666664</td><td>6.519140918E9</td><td>49029.75</td><td>44.333333333333336</td></tr>\n<tr><td>24852446429</td><td>922827</td><td>788</td><td>24.53</td><td>1490a482-783d-4c9...</td><td>2021-07-01</td><td>VIC</td><td>3221</td><td>Female</td><td>Erat Vitae LLP</td><td>florists supplies...</td><td>c</td><td>2.94</td><td>retail_and_wholes...</td><td>195808</td><td>105712.0</td><td>59923.416666666664</td><td>6.519140918E9</td><td>49029.75</td><td>44.333333333333336</td></tr>\n<tr><td>24852446429</td><td>922827</td><td>788</td><td>34.25</td><td>9a24a9af-7946-449...</td><td>2021-06-22</td><td>VIC</td><td>3221</td><td>Female</td><td>Erat Vitae LLP</td><td>florists supplies...</td><td>c</td><td>2.94</td><td>retail_and_wholes...</td><td>195808</td><td>105712.0</td><td>59923.416666666664</td><td>6.519140918E9</td><td>49029.75</td><td>44.333333333333336</td></tr>\n<tr><td>22900076341</td><td>888074</td><td>15727</td><td>39.03</td><td>5b39362d-2c82-49f...</td><td>2022-02-26</td><td>VIC</td><td>3221</td><td>Female</td><td>In Consequat LLC</td><td>computer programm...</td><td>c</td><td>2.47</td><td>info_media_and_te...</td><td>195808</td><td>105712.0</td><td>59923.416666666664</td><td>6.519140918E9</td><td>49029.75</td><td>44.333333333333336</td></tr>\n<tr><td>24852446429</td><td>922827</td><td>788</td><td>24.48</td><td>af53ba5e-50ff-427...</td><td>2021-08-25</td><td>VIC</td><td>3221</td><td>Female</td><td>Erat Vitae LLP</td><td>florists supplies...</td><td>c</td><td>2.94</td><td>retail_and_wholes...</td><td>195808</td><td>105712.0</td><td>59923.416666666664</td><td>6.519140918E9</td><td>49029.75</td><td>44.333333333333336</td></tr>\n</table>\n"
     },
     "execution_count": 76,
     "metadata": {},
     "output_type": "execute_result"
    }
   ],
   "source": [
    "#transactions_.orderBy(F.col('estimated_region_population_2021_sum').desc()).limit(5)\n",
    "transactions_.orderBy(F.col('estimated_region_population_2021_sum').asc_nulls_last()).limit(5)\n",
    "transactions_.orderBy(F.col('estimated_region_population_2021_sum').asc_nulls_first()).limit(5)"
   ],
   "metadata": {
    "collapsed": false,
    "pycharm": {
     "name": "#%%\n"
    }
   }
  },
  {
   "cell_type": "code",
   "execution_count": 73,
   "outputs": [
    {
     "name": "stderr",
     "output_type": "stream",
     "text": [
      "                                                                                \r"
     ]
    },
    {
     "data": {
      "text/plain": "8151372"
     },
     "execution_count": 73,
     "metadata": {},
     "output_type": "execute_result"
    }
   ],
   "source": [
    "transactions_.count()"
   ],
   "metadata": {
    "collapsed": false,
    "pycharm": {
     "name": "#%%\n"
    }
   }
  },
  {
   "cell_type": "code",
   "execution_count": 74,
   "outputs": [
    {
     "name": "stderr",
     "output_type": "stream",
     "text": [
      "                                                                                \r"
     ]
    },
    {
     "data": {
      "text/plain": "7688993"
     },
     "execution_count": 74,
     "metadata": {},
     "output_type": "execute_result"
    }
   ],
   "source": [
    "transactions_.na.drop().count()"
   ],
   "metadata": {
    "collapsed": false,
    "pycharm": {
     "name": "#%%\n"
    }
   }
  },
  {
   "cell_type": "code",
   "execution_count": 81,
   "outputs": [
    {
     "name": "stderr",
     "output_type": "stream",
     "text": [
      "                                                                                \r"
     ]
    },
    {
     "data": {
      "text/plain": "3165"
     },
     "execution_count": 81,
     "metadata": {},
     "output_type": "execute_result"
    }
   ],
   "source": [
    "transactions_.select('postcode').distinct().count()"
   ],
   "metadata": {
    "collapsed": false,
    "pycharm": {
     "name": "#%%\n"
    }
   }
  },
  {
   "cell_type": "code",
   "execution_count": null,
   "outputs": [],
   "source": [
    "from pyspark.sql.functions import col, isnan, when, count"
   ],
   "metadata": {
    "collapsed": false,
    "pycharm": {
     "name": "#%%\n",
     "is_executing": true
    }
   }
  },
  {
   "cell_type": "code",
   "execution_count": 90,
   "outputs": [],
   "source": [
    "post_merge_df_check_nulls = transactions_.drop('order_datetime')"
   ],
   "metadata": {
    "collapsed": false,
    "pycharm": {
     "name": "#%%\n"
    }
   }
  },
  {
   "cell_type": "code",
   "execution_count": 93,
   "outputs": [],
   "source": [
    "def check_nulls(df):\n",
    "    df2 = df.select([count(when(col(c).contains('None') | \\\n",
    "                            col(c).contains('NULL') | \\\n",
    "                            col(c).contains('null') | \\\n",
    "                            (col(c) == '' ) | \\\n",
    "                            col(c).isNull() | \\\n",
    "                            isnan(c), c\n",
    "                                )).alias(c)\n",
    "                     for c in df.columns])\n",
    "    return df2\n"
   ],
   "metadata": {
    "collapsed": false,
    "pycharm": {
     "name": "#%%\n"
    }
   }
  },
  {
   "cell_type": "code",
   "execution_count": 94,
   "outputs": [],
   "source": [
    "post_merge_nulls_counts = check_nulls(post_merge_df_check_nulls)"
   ],
   "metadata": {
    "collapsed": false,
    "pycharm": {
     "name": "#%%\n"
    }
   }
  },
  {
   "cell_type": "code",
   "execution_count": 95,
   "outputs": [
    {
     "name": "stderr",
     "output_type": "stream",
     "text": [
      "                                                                                \r"
     ]
    },
    {
     "data": {
      "text/plain": "+------------+-----------+-------+------------+--------+-----+--------+------+-------------+------+-------+------+--------+------------------------------------+---------------------------+-------------------------+------------------------+---------------------------+---------------------------+\n|merchant_abn|consumer_id|user_id|dollar_value|order_id|state|postcode|gender|merchant_name|   tag|revenue|  rate|category|estimated_region_population_2021_sum|persons_earners_2018-19_sum|mean_earnings_2018-19_avg|sum_earnings_2018-19_sum|median_earnings_2018-19_avg|med_age_earners_2018-19_avg|\n+------------+-----------+-------+------------+--------+-----+--------+------+-------------+------+-------+------+--------+------------------------------------+---------------------------+-------------------------+------------------------+---------------------------+---------------------------+\n|           0|          0|      0|           0|       0|    0|       0|     0|       333642|333642| 333642|333642|  333642|                              122762|                     134264|                   134264|                  134264|                     134264|                     134264|\n+------------+-----------+-------+------------+--------+-----+--------+------+-------------+------+-------+------+--------+------------------------------------+---------------------------+-------------------------+------------------------+---------------------------+---------------------------+",
      "text/html": "<table border='1'>\n<tr><th>merchant_abn</th><th>consumer_id</th><th>user_id</th><th>dollar_value</th><th>order_id</th><th>state</th><th>postcode</th><th>gender</th><th>merchant_name</th><th>tag</th><th>revenue</th><th>rate</th><th>category</th><th>estimated_region_population_2021_sum</th><th>persons_earners_2018-19_sum</th><th>mean_earnings_2018-19_avg</th><th>sum_earnings_2018-19_sum</th><th>median_earnings_2018-19_avg</th><th>med_age_earners_2018-19_avg</th></tr>\n<tr><td>0</td><td>0</td><td>0</td><td>0</td><td>0</td><td>0</td><td>0</td><td>0</td><td>333642</td><td>333642</td><td>333642</td><td>333642</td><td>333642</td><td>122762</td><td>134264</td><td>134264</td><td>134264</td><td>134264</td><td>134264</td></tr>\n</table>\n"
     },
     "execution_count": 95,
     "metadata": {},
     "output_type": "execute_result"
    }
   ],
   "source": [
    "post_merge_nulls_counts.limit(5)"
   ],
   "metadata": {
    "collapsed": false,
    "pycharm": {
     "name": "#%%\n"
    }
   }
  },
  {
   "cell_type": "code",
   "execution_count": 91,
   "outputs": [],
   "source": [
    "check_transactions_null = transactions.drop('order_datetime')\n",
    "\n"
   ],
   "metadata": {
    "collapsed": false,
    "pycharm": {
     "name": "#%%\n"
    }
   }
  },
  {
   "cell_type": "code",
   "execution_count": 88,
   "outputs": [],
   "source": [
    "check_res = check_nulls(check_transactions_null)"
   ],
   "metadata": {
    "collapsed": false,
    "pycharm": {
     "name": "#%%\n"
    }
   }
  },
  {
   "cell_type": "code",
   "execution_count": 89,
   "outputs": [
    {
     "name": "stderr",
     "output_type": "stream",
     "text": [
      "                                                                                \r"
     ]
    },
    {
     "data": {
      "text/plain": "+------------+-----------+-------+------------+--------+-----+--------+------+-------------+------+-------+------+--------+\n|merchant_abn|consumer_id|user_id|dollar_value|order_id|state|postcode|gender|merchant_name|   tag|revenue|  rate|category|\n+------------+-----------+-------+------------+--------+-----+--------+------+-------------+------+-------+------+--------+\n|           0|          0|      0|           0|       0|    0|       0|     0|       333642|333642| 333642|333642|  333642|\n+------------+-----------+-------+------------+--------+-----+--------+------+-------------+------+-------+------+--------+",
      "text/html": "<table border='1'>\n<tr><th>merchant_abn</th><th>consumer_id</th><th>user_id</th><th>dollar_value</th><th>order_id</th><th>state</th><th>postcode</th><th>gender</th><th>merchant_name</th><th>tag</th><th>revenue</th><th>rate</th><th>category</th></tr>\n<tr><td>0</td><td>0</td><td>0</td><td>0</td><td>0</td><td>0</td><td>0</td><td>0</td><td>333642</td><td>333642</td><td>333642</td><td>333642</td><td>333642</td></tr>\n</table>\n"
     },
     "execution_count": 89,
     "metadata": {},
     "output_type": "execute_result"
    }
   ],
   "source": [
    "check_res.limit(5)"
   ],
   "metadata": {
    "collapsed": false,
    "pycharm": {
     "name": "#%%\n"
    }
   }
  },
  {
   "cell_type": "code",
   "execution_count": null,
   "outputs": [],
   "source": [],
   "metadata": {
    "collapsed": false,
    "pycharm": {
     "name": "#%%\n"
    }
   }
  }
 ],
 "metadata": {
  "kernelspec": {
   "display_name": "Python 3",
   "language": "python",
   "name": "python3"
  },
  "language_info": {
   "codemirror_mode": {
    "name": "ipython",
    "version": 2
   },
   "file_extension": ".py",
   "mimetype": "text/x-python",
   "name": "python",
   "nbconvert_exporter": "python",
   "pygments_lexer": "ipython2",
   "version": "2.7.6"
  }
 },
 "nbformat": 4,
 "nbformat_minor": 0
}