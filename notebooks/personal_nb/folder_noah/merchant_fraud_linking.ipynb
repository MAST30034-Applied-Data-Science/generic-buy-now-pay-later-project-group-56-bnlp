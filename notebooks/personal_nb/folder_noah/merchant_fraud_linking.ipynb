{
 "cells": [
  {
   "cell_type": "code",
   "execution_count": 1,
   "metadata": {
    "collapsed": true,
    "pycharm": {
     "name": "#%%\n"
    }
   },
   "outputs": [
    {
     "name": "stderr",
     "output_type": "stream",
     "text": [
      "22/09/14 17:54:36 WARN Utils: Your hostname, LAPTOP-VAB0S7AL resolves to a loopback address: 127.0.1.1; using 172.31.190.2 instead (on interface eth0)\n",
      "22/09/14 17:54:36 WARN Utils: Set SPARK_LOCAL_IP if you need to bind to another address\n",
      "WARNING: An illegal reflective access operation has occurred\n",
      "WARNING: Illegal reflective access by org.apache.spark.unsafe.Platform (file:/home/noahs/miniconda3/lib/python3.8/site-packages/pyspark/jars/spark-unsafe_2.12-3.1.2.jar) to constructor java.nio.DirectByteBuffer(long,int)\n",
      "WARNING: Please consider reporting this to the maintainers of org.apache.spark.unsafe.Platform\n",
      "WARNING: Use --illegal-access=warn to enable warnings of further illegal reflective access operations\n",
      "WARNING: All illegal access operations will be denied in a future release\n",
      "22/09/14 17:54:39 WARN NativeCodeLoader: Unable to load native-hadoop library for your platform... using builtin-java classes where applicable\n",
      "Using Spark's default log4j profile: org/apache/spark/log4j-defaults.properties\n",
      "Setting default log level to \"WARN\".\n",
      "To adjust logging level use sc.setLogLevel(newLevel). For SparkR, use setLogLevel(newLevel).\n"
     ]
    }
   ],
   "source": [
    "from pyspark.sql import SparkSession, functions as F\n",
    "\n",
    "# Create a spark session\n",
    "spark = (\n",
    "    SparkSession.builder.appName(\"BNPL_Merchant_Linking\")\n",
    "    .config(\"spark.sql.repl.eagerEval.enabled\", True)\n",
    "    .config(\"spark.sql.parquet.cacheMetadata\", \"true\")\n",
    "    .config(\"spark.driver.memory\", \"4g\")\n",
    "    .config(\"spark.sql.session.timeZone\", \"Etc/UTC\")\n",
    "    .getOrCreate()\n",
    ")"
   ]
  },
  {
   "cell_type": "code",
   "execution_count": 2,
   "outputs": [
    {
     "name": "stderr",
     "output_type": "stream",
     "text": [
      "                                                                                \r"
     ]
    }
   ],
   "source": [
    "master = spark.read.parquet('../../../data/curated/process_data.parquet')"
   ],
   "metadata": {
    "collapsed": false,
    "pycharm": {
     "name": "#%%\n"
    }
   }
  },
  {
   "cell_type": "code",
   "execution_count": 3,
   "outputs": [
    {
     "name": "stderr",
     "output_type": "stream",
     "text": [
      "                                                                                \r"
     ]
    },
    {
     "data": {
      "text/plain": "7817432"
     },
     "execution_count": 3,
     "metadata": {},
     "output_type": "execute_result"
    }
   ],
   "source": [
    "master.count()"
   ],
   "metadata": {
    "collapsed": false,
    "pycharm": {
     "name": "#%%\n"
    }
   }
  },
  {
   "cell_type": "code",
   "execution_count": 4,
   "outputs": [],
   "source": [
    "#DATA_PATH = '../data/tables/external_datasets/'\n",
    "DATA_PATH = '../../../data/tables/'\n",
    "MERCHANT_PATH = 'merchant_fraud_probability.csv'\n",
    "\n",
    "\n",
    "def read_merchant_data():\n",
    "    merchant_fraud = spark.read.option(\"header\", True) \\\n",
    "        .csv(DATA_PATH + MERCHANT_PATH)\n",
    "    return merchant_fraud"
   ],
   "metadata": {
    "collapsed": false,
    "pycharm": {
     "name": "#%%\n"
    }
   }
  },
  {
   "cell_type": "code",
   "execution_count": 5,
   "outputs": [],
   "source": [
    "fmerchant_sdf = read_merchant_data()"
   ],
   "metadata": {
    "collapsed": false,
    "pycharm": {
     "name": "#%%\n"
    }
   }
  },
  {
   "cell_type": "code",
   "execution_count": 6,
   "outputs": [
    {
     "name": "stdout",
     "output_type": "stream",
     "text": [
      "+------------+--------------+------------------+\n",
      "|merchant_abn|order_datetime| fraud_probability|\n",
      "+------------+--------------+------------------+\n",
      "| 19492220327|    2021-11-28|44.403658647495355|\n",
      "| 31334588839|    2021-10-02| 42.75530083865367|\n",
      "| 19492220327|    2021-12-22|38.867790051131095|\n",
      "| 82999039227|    2021-12-19|  94.1347004808891|\n",
      "| 90918180829|    2021-09-02| 43.32551731714902|\n",
      "| 31334588839|    2021-12-26| 38.36165958070444|\n",
      "| 23686790459|    2021-12-10|  79.4543441508535|\n",
      "| 14827550074|    2021-11-26| 46.45775596795885|\n",
      "| 31334588839|    2021-11-26| 36.20971272078342|\n",
      "| 19492220327|    2021-12-18|33.819672154331755|\n",
      "| 31334588839|    2021-11-29|35.386213297375505|\n",
      "| 14827550074|    2021-12-05| 43.85519494291279|\n",
      "| 19492220327|    2021-11-18|32.193139919494016|\n",
      "| 93260930990|    2021-11-30| 37.87197154172081|\n",
      "| 90918180829|    2021-09-16| 36.62001350882694|\n",
      "| 83199298021|    2022-02-27|26.025158824861773|\n",
      "| 83199298021|    2022-02-17| 25.77998392496447|\n",
      "| 94311056026|    2021-12-16| 30.85150199484772|\n",
      "| 97217894162|    2022-01-21| 34.94582650821017|\n",
      "| 43083074133|    2021-12-18| 48.66890735193894|\n",
      "+------------+--------------+------------------+\n",
      "only showing top 20 rows\n",
      "\n"
     ]
    }
   ],
   "source": [
    "fmerchant_sdf.show()"
   ],
   "metadata": {
    "collapsed": false,
    "pycharm": {
     "name": "#%%\n"
    }
   }
  },
  {
   "cell_type": "code",
   "execution_count": 7,
   "outputs": [
    {
     "name": "stdout",
     "output_type": "stream",
     "text": [
      "root\n",
      " |-- merchant_abn: string (nullable = true)\n",
      " |-- order_datetime: string (nullable = true)\n",
      " |-- fraud_probability: string (nullable = true)\n",
      "\n"
     ]
    }
   ],
   "source": [
    "fmerchant_sdf.printSchema()"
   ],
   "metadata": {
    "collapsed": false,
    "pycharm": {
     "name": "#%%\n"
    }
   }
  },
  {
   "cell_type": "code",
   "execution_count": 9,
   "outputs": [],
   "source": [
    "#master = master.withColumn(\"rate\", F.col(\"rate\").cast(\"double\"))\n",
    "\n",
    "\n",
    "\n"
   ],
   "metadata": {
    "collapsed": false,
    "pycharm": {
     "name": "#%%\n"
    }
   }
  },
  {
   "cell_type": "code",
   "execution_count": 10,
   "outputs": [
    {
     "name": "stdout",
     "output_type": "stream",
     "text": [
      "root\n",
      " |-- merchant_abn: string (nullable = true)\n",
      " |-- order_datetime: string (nullable = true)\n",
      " |-- fraud_probability: string (nullable = true)\n",
      "\n"
     ]
    }
   ],
   "source": [
    "fmerchant_sdf.printSchema()"
   ],
   "metadata": {
    "collapsed": false,
    "pycharm": {
     "name": "#%%\n"
    }
   }
  },
  {
   "cell_type": "code",
   "execution_count": 11,
   "outputs": [
    {
     "name": "stdout",
     "output_type": "stream",
     "text": [
      "+------------+--------------+------------------+\n",
      "|merchant_abn|order_datetime| fraud_probability|\n",
      "+------------+--------------+------------------+\n",
      "| 19492220327|    2021-11-28|44.403658647495355|\n",
      "| 31334588839|    2021-10-02| 42.75530083865367|\n",
      "| 19492220327|    2021-12-22|38.867790051131095|\n",
      "| 82999039227|    2021-12-19|  94.1347004808891|\n",
      "| 90918180829|    2021-09-02| 43.32551731714902|\n",
      "| 31334588839|    2021-12-26| 38.36165958070444|\n",
      "| 23686790459|    2021-12-10|  79.4543441508535|\n",
      "| 14827550074|    2021-11-26| 46.45775596795885|\n",
      "| 31334588839|    2021-11-26| 36.20971272078342|\n",
      "| 19492220327|    2021-12-18|33.819672154331755|\n",
      "| 31334588839|    2021-11-29|35.386213297375505|\n",
      "| 14827550074|    2021-12-05| 43.85519494291279|\n",
      "| 19492220327|    2021-11-18|32.193139919494016|\n",
      "| 93260930990|    2021-11-30| 37.87197154172081|\n",
      "| 90918180829|    2021-09-16| 36.62001350882694|\n",
      "| 83199298021|    2022-02-27|26.025158824861773|\n",
      "| 83199298021|    2022-02-17| 25.77998392496447|\n",
      "| 94311056026|    2021-12-16| 30.85150199484772|\n",
      "| 97217894162|    2022-01-21| 34.94582650821017|\n",
      "| 43083074133|    2021-12-18| 48.66890735193894|\n",
      "+------------+--------------+------------------+\n",
      "only showing top 20 rows\n",
      "\n"
     ]
    }
   ],
   "source": [
    "fmerchant_sdf.show()"
   ],
   "metadata": {
    "collapsed": false,
    "pycharm": {
     "name": "#%%\n"
    }
   }
  },
  {
   "cell_type": "code",
   "execution_count": 12,
   "outputs": [],
   "source": [
    "def cast_to_types(merchant_sdf):\n",
    "    merchant_sdf = merchant_sdf.withColumn(\"order_datetime_m\", F.to_date(\"order_datetime\")) \\\n",
    "        .withColumn('fraud_probability', merchant_sdf['fraud_probability'].cast('double') / 100) \\\n",
    "        .drop('order_datetime') \\\n",
    "        .withColumnRenamed('merchant_abn', 'merchant_abn_m')\n",
    "\n",
    "    return merchant_sdf"
   ],
   "metadata": {
    "collapsed": false,
    "pycharm": {
     "name": "#%%\n"
    }
   }
  },
  {
   "cell_type": "code",
   "execution_count": 13,
   "outputs": [],
   "source": [
    "def get_merchant_data():\n",
    "    fm_sdf = read_merchant_data()\n",
    "    fm_sdf = cast_to_types(fm_sdf)\n",
    "    return fm_sdf"
   ],
   "metadata": {
    "collapsed": false,
    "pycharm": {
     "name": "#%%\n"
    }
   }
  },
  {
   "cell_type": "code",
   "execution_count": 46,
   "outputs": [
    {
     "name": "stdout",
     "output_type": "stream",
     "text": [
      "root\n",
      " |-- merchant_abn: long (nullable = true)\n",
      " |-- consumer_id: long (nullable = true)\n",
      " |-- user_id: long (nullable = true)\n",
      " |-- dollar_value: double (nullable = true)\n",
      " |-- order_id: string (nullable = true)\n",
      " |-- order_datetime: date (nullable = true)\n",
      " |-- state: string (nullable = true)\n",
      " |-- postcode: string (nullable = true)\n",
      " |-- gender: string (nullable = true)\n",
      " |-- merchant_name: string (nullable = true)\n",
      " |-- tag: string (nullable = true)\n",
      " |-- revenue: string (nullable = true)\n",
      " |-- rate: double (nullable = true)\n",
      " |-- category: string (nullable = true)\n",
      " |-- estimated_region_population_2021_sum: long (nullable = true)\n",
      " |-- persons_earners_2018-19_sum: double (nullable = true)\n",
      " |-- mean_earnings_2018-19_avg: double (nullable = true)\n",
      " |-- sum_earnings_2018-19_sum: double (nullable = true)\n",
      " |-- median_earnings_2018-19_avg: double (nullable = true)\n",
      " |-- med_age_earners_2018-19_avg: double (nullable = true)\n",
      "\n"
     ]
    }
   ],
   "source": [
    "master.printSchema()"
   ],
   "metadata": {
    "collapsed": false,
    "pycharm": {
     "name": "#%%\n"
    }
   }
  },
  {
   "cell_type": "code",
   "execution_count": 47,
   "outputs": [
    {
     "name": "stdout",
     "output_type": "stream",
     "text": [
      "-RECORD 0----------------------------------------------------\n",
      " merchant_abn                         | 38700038932          \n",
      " consumer_id                          | 409073               \n",
      " user_id                              | 1124                 \n",
      " dollar_value                         | 2155.27              \n",
      " order_id                             | 35059fb9-44b0-446... \n",
      " order_datetime                       | 2021-11-25           \n",
      " state                                | NSW                  \n",
      " postcode                             | 1020                 \n",
      " gender                               | Male                 \n",
      " merchant_name                        | Etiam Bibendum In... \n",
      " tag                                  | tent and awning s... \n",
      " revenue                              | a                    \n",
      " rate                                 | 6.31                 \n",
      " category                             | retail_and_wholes... \n",
      " estimated_region_population_2021_sum | 31499                \n",
      " persons_earners_2018-19_sum          | 28552.0              \n",
      " mean_earnings_2018-19_avg            | 70738.0              \n",
      " sum_earnings_2018-19_sum             | 2.01971729E9         \n",
      " median_earnings_2018-19_avg          | 28339.0              \n",
      " med_age_earners_2018-19_avg          | 31.0                 \n",
      "only showing top 1 row\n",
      "\n"
     ]
    }
   ],
   "source": [
    "master.show(1, vertical=True)"
   ],
   "metadata": {
    "collapsed": false,
    "pycharm": {
     "name": "#%%\n"
    }
   }
  },
  {
   "cell_type": "code",
   "execution_count": 17,
   "outputs": [],
   "source": [
    "# join based on abn & datetime\n",
    "\n",
    "fm_sdf = get_merchant_data()\n",
    "condition = [fm_sdf['order_datetime_m'] == master['order_datetime'], fm_sdf['merchant_abn_m'] == master['merchant_abn']]\n",
    "master_new = master.join(fm_sdf, condition, 'left')\n"
   ],
   "metadata": {
    "collapsed": false,
    "pycharm": {
     "name": "#%%\n"
    }
   }
  },
  {
   "cell_type": "code",
   "execution_count": 18,
   "outputs": [
    {
     "name": "stdout",
     "output_type": "stream",
     "text": [
      "+------------+-----------+-------+------------+--------------------+--------------+-----+--------+-----------+--------------------+--------------------+-------+----+--------------------+------------------------------------+---------------------------+-------------------------+------------------------+---------------------------+---------------------------+--------------+-----------------+----------------+\n",
      "|merchant_abn|consumer_id|user_id|dollar_value|            order_id|order_datetime|state|postcode|     gender|       merchant_name|                 tag|revenue|rate|            category|estimated_region_population_2021_sum|persons_earners_2018-19_sum|mean_earnings_2018-19_avg|sum_earnings_2018-19_sum|median_earnings_2018-19_avg|med_age_earners_2018-19_avg|merchant_abn_m|fraud_probability|order_datetime_m|\n",
      "+------------+-----------+-------+------------+--------------------+--------------+-----+--------+-----------+--------------------+--------------------+-------+----+--------------------+------------------------------------+---------------------------+-------------------------+------------------------+---------------------------+---------------------------+--------------+-----------------+----------------+\n",
      "| 38700038932|     409073|   1124|     2155.27|35059fb9-44b0-446...|    2021-11-25|  NSW|    1020|       Male|Etiam Bibendum In...|tent and awning s...|      a|6.31|retail_and_wholes...|                               31499|                    28552.0|                  70738.0|            2.01971729E9|                    28339.0|                       31.0|          null|             null|            null|\n",
      "| 38700038932|     409073|   1124|      2645.0|5109c9f6-a8fd-408...|    2022-02-02|  NSW|    1020|       Male|Etiam Bibendum In...|tent and awning s...|      a|6.31|retail_and_wholes...|                               31499|                    28552.0|                  70738.0|            2.01971729E9|                    28339.0|                       31.0|          null|             null|            null|\n",
      "| 48723861274|     517686|   4016|       369.1|07120f52-86ab-489...|    2021-05-19|  NSW|    1020|       Male|        Metus Eu LLP|computer programm...|      c|1.96|info_media_and_te...|                               31499|                    28552.0|                  70738.0|            2.01971729E9|                    28339.0|                       31.0|          null|             null|            null|\n",
      "| 59128133246|     517686|   4016|       17.29|29f730ef-3c32-4f2...|    2021-12-10|  NSW|    1020|       Male|Ut Tincidunt Foun...|opticians, optica...|      a| 6.3|retail_and_wholes...|                               31499|                    28552.0|                  70738.0|            2.01971729E9|                    28339.0|                       31.0|          null|             null|            null|\n",
      "| 10648956813|     222250|   6099|       45.86|c2b0eb61-8669-4a4...|    2021-12-10|  NSW|    1020|       Male|Proin Nisl Institute|computers, comput...|      a|6.66|retail_and_wholes...|                               31499|                    28552.0|                  70738.0|            2.01971729E9|                    28339.0|                       31.0|          null|             null|            null|\n",
      "| 10648956813|     409073|   1124|       33.82|0c697c51-64ef-4da...|    2021-10-20|  NSW|    1020|       Male|Proin Nisl Institute|computers, comput...|      a|6.66|retail_and_wholes...|                               31499|                    28552.0|                  70738.0|            2.01971729E9|                    28339.0|                       31.0|          null|             null|            null|\n",
      "| 11944993446|     222250|   6099|      169.62|3e124d5e-c9d2-43b...|    2021-11-19|  NSW|    1020|       Male| Tincidunt Dui Corp.|gift, card, novel...|      a| 6.6|retail_and_wholes...|                               31499|                    28552.0|                  70738.0|            2.01971729E9|                    28339.0|                       31.0|          null|             null|            null|\n",
      "| 11944993446|     367818|  14120|       15.13|65d59e61-ca08-487...|    2021-05-12|  NSW|    1020|Undisclosed| Tincidunt Dui Corp.|gift, card, novel...|      a| 6.6|retail_and_wholes...|                               31499|                    28552.0|                  70738.0|            2.01971729E9|                    28339.0|                       31.0|          null|             null|            null|\n",
      "| 46331355995|     517686|   4016|     1631.98|5911c1a6-e633-4d7...|    2021-09-09|  NSW|    1020|       Male|Duis Risus Corpor...|tent and awning s...|      a|6.27|retail_and_wholes...|                               31499|                    28552.0|                  70738.0|            2.01971729E9|                    28339.0|                       31.0|          null|             null|            null|\n",
      "| 62170730910|     409073|   1124|       62.73|65c77487-cafd-4af...|    2021-07-02|  NSW|    1020|       Male|Volutpat Nunc Sit...|gift, card, novel...|      b| 3.8|retail_and_wholes...|                               31499|                    28552.0|                  70738.0|            2.01971729E9|                    28339.0|                       31.0|          null|             null|            null|\n",
      "| 86662713230|     517686|   4016|        6.68|25afcc48-9b4a-4da...|    2021-11-29|  NSW|    1020|       Male|Vestibulum Accums...|watch, clock, and...|      a|6.41|retail_and_wholes...|                               31499|                    28552.0|                  70738.0|            2.01971729E9|                    28339.0|                       31.0|          null|             null|            null|\n",
      "| 86662713230|     517686|   4016|       56.63|4db6c4ec-06e9-463...|    2021-11-16|  NSW|    1020|       Male|Vestibulum Accums...|watch, clock, and...|      a|6.41|retail_and_wholes...|                               31499|                    28552.0|                  70738.0|            2.01971729E9|                    28339.0|                       31.0|          null|             null|            null|\n",
      "| 90568944804|     222250|   6099|      295.41|3324db13-31f0-4e3...|    2021-06-12|  NSW|    1020|       Male|   Diam Eu Dolor LLC|tent and awning s...|      b| 4.1|retail_and_wholes...|                               31499|                    28552.0|                  70738.0|            2.01971729E9|                    28339.0|                       31.0|          null|             null|            null|\n",
      "| 43719937438|     367818|  14120|       26.85|0200fe45-0c60-4a5...|    2021-08-08|  NSW|    1020|Undisclosed|Class Aptent Taci...|cable, satellite,...|      b|5.01|info_media_and_te...|                               31499|                    28552.0|                  70738.0|            2.01971729E9|                    28339.0|                       31.0|          null|             null|            null|\n",
      "| 46877655150|     367818|  14120|      240.83|068c45e1-8ce7-4a7...|    2021-08-10|  NSW|    1020|Undisclosed|Vivamus Molestie ...|books, periodical...|      b|4.97|info_media_and_te...|                               31499|                    28552.0|                  70738.0|            2.01971729E9|                    28339.0|                       31.0|          null|             null|            null|\n",
      "| 98518649381|     222250|   6099|      334.19|c725ad62-38cb-4da...|    2021-12-17|  NSW|    1020|       Male|Nullam Scelerisqu...|lawn and garden s...|      a|6.14|retail_and_wholes...|                               31499|                    28552.0|                  70738.0|            2.01971729E9|                    28339.0|                       31.0|          null|             null|            null|\n",
      "| 98518649381|     517686|   4016|     1106.98|24f92a91-38dc-46d...|    2021-11-29|  NSW|    1020|       Male|Nullam Scelerisqu...|lawn and garden s...|      a|6.14|retail_and_wholes...|                               31499|                    28552.0|                  70738.0|            2.01971729E9|                    28339.0|                       31.0|          null|             null|            null|\n",
      "| 35927874515|     517686|   4016|        89.8|6fe0a546-4706-46b...|    2021-12-21|  NSW|    1020|       Male|Ac Orci Ut Indust...|          shoe shops|      a|5.85|retail_and_wholes...|                               31499|                    28552.0|                  70738.0|            2.01971729E9|                    28339.0|                       31.0|          null|             null|            null|\n",
      "| 97159474697|     222250|   6099|      471.89|0f0926c0-95df-42b...|    2021-05-10|  NSW|    1020|       Male|     Sodales Limited|lawn and garden s...|      a|5.84|retail_and_wholes...|                               31499|                    28552.0|                  70738.0|            2.01971729E9|                    28339.0|                       31.0|          null|             null|            null|\n",
      "| 47484801038|     222250|   6099|      453.77|36135fa0-15d9-42d...|    2021-07-21|  NSW|    1020|       Male| Risus A Corporation|artist supply and...|      b| 4.3|retail_and_wholes...|                               31499|                    28552.0|                  70738.0|            2.01971729E9|                    28339.0|                       31.0|          null|             null|            null|\n",
      "+------------+-----------+-------+------------+--------------------+--------------+-----+--------+-----------+--------------------+--------------------+-------+----+--------------------+------------------------------------+---------------------------+-------------------------+------------------------+---------------------------+---------------------------+--------------+-----------------+----------------+\n",
      "only showing top 20 rows\n",
      "\n"
     ]
    }
   ],
   "source": [
    "master_new.show()"
   ],
   "metadata": {
    "collapsed": false,
    "pycharm": {
     "name": "#%%\n"
    }
   }
  },
  {
   "cell_type": "code",
   "execution_count": 20,
   "outputs": [
    {
     "name": "stdout",
     "output_type": "stream",
     "text": [
      "+-----------------+\n",
      "|fraud_probability|\n",
      "+-----------------+\n",
      "|             null|\n",
      "|             null|\n",
      "|             null|\n",
      "|             null|\n",
      "|             null|\n",
      "|             null|\n",
      "|             null|\n",
      "|             null|\n",
      "|             null|\n",
      "|             null|\n",
      "|             null|\n",
      "|             null|\n",
      "|             null|\n",
      "|             null|\n",
      "|             null|\n",
      "|             null|\n",
      "|             null|\n",
      "|             null|\n",
      "|             null|\n",
      "|             null|\n",
      "+-----------------+\n",
      "only showing top 20 rows\n",
      "\n"
     ]
    }
   ],
   "source": [
    "master_new.select('fraud_probability').show()"
   ],
   "metadata": {
    "collapsed": false,
    "pycharm": {
     "name": "#%%\n"
    }
   }
  },
  {
   "cell_type": "code",
   "execution_count": 21,
   "outputs": [
    {
     "name": "stderr",
     "output_type": "stream",
     "text": [
      "                                                                                \r"
     ]
    },
    {
     "data": {
      "text/plain": "7817432"
     },
     "execution_count": 21,
     "metadata": {},
     "output_type": "execute_result"
    }
   ],
   "source": [
    "master_new.count()"
   ],
   "metadata": {
    "collapsed": false,
    "pycharm": {
     "name": "#%%\n"
    }
   }
  },
  {
   "cell_type": "code",
   "execution_count": 22,
   "outputs": [
    {
     "name": "stderr",
     "output_type": "stream",
     "text": [
      "                                                                                \r"
     ]
    },
    {
     "data": {
      "text/plain": "4003"
     },
     "execution_count": 22,
     "metadata": {},
     "output_type": "execute_result"
    }
   ],
   "source": [
    "master_new.select('fraud_probability').na.drop().count()"
   ],
   "metadata": {
    "collapsed": false,
    "pycharm": {
     "name": "#%%\n"
    }
   }
  },
  {
   "cell_type": "code",
   "execution_count": 23,
   "outputs": [
    {
     "name": "stdout",
     "output_type": "stream",
     "text": [
      "+-------------------+\n",
      "|  fraud_probability|\n",
      "+-------------------+\n",
      "| 0.2910241891640991|\n",
      "|0.29539473036230746|\n",
      "|0.29520113582407653|\n",
      "|0.28337370196230055|\n",
      "| 0.2908815811960701|\n",
      "| 0.2900590700983104|\n",
      "| 0.2758235777292768|\n",
      "|0.28583030842180734|\n",
      "|0.29520113582407653|\n",
      "| 0.3787197154172081|\n",
      "| 0.2908815811960701|\n",
      "| 0.3057903215900633|\n",
      "|0.31343502316867783|\n",
      "|0.28956947892226464|\n",
      "| 0.3057903215900633|\n",
      "| 0.2900590700983104|\n",
      "|0.29555244690425014|\n",
      "|0.28504479048104586|\n",
      "|0.28504479048104586|\n",
      "|0.28504479048104586|\n",
      "+-------------------+\n",
      "only showing top 20 rows\n",
      "\n"
     ]
    }
   ],
   "source": [
    "master_new.select('fraud_probability').na.drop().show()"
   ],
   "metadata": {
    "collapsed": false,
    "pycharm": {
     "name": "#%%\n"
    }
   }
  },
  {
   "cell_type": "code",
   "execution_count": null,
   "outputs": [],
   "source": [
    "# only 4003 entries that arent null"
   ],
   "metadata": {
    "collapsed": false,
    "pycharm": {
     "name": "#%%\n"
    }
   }
  }
 ],
 "metadata": {
  "kernelspec": {
   "display_name": "Python 3",
   "language": "python",
   "name": "python3"
  },
  "language_info": {
   "codemirror_mode": {
    "name": "ipython",
    "version": 2
   },
   "file_extension": ".py",
   "mimetype": "text/x-python",
   "name": "python",
   "nbconvert_exporter": "python",
   "pygments_lexer": "ipython2",
   "version": "2.7.6"
  }
 },
 "nbformat": 4,
 "nbformat_minor": 0
}