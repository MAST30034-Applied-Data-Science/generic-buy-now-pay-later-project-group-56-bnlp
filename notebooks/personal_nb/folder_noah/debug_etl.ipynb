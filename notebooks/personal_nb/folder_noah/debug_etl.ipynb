{
 "cells": [
  {
   "cell_type": "code",
   "execution_count": 1,
   "metadata": {
    "collapsed": true,
    "pycharm": {
     "name": "#%%\n"
    }
   },
   "outputs": [],
   "source": [
    "from pyspark.sql import SparkSession, Window, functions as F"
   ]
  },
  {
   "cell_type": "code",
   "execution_count": 3,
   "outputs": [],
   "source": [
    "# Create a spark session\n",
    "spark = (\n",
    "    SparkSession.builder.appName(\"Debug_etl\")\n",
    "    .config(\"spark.sql.repl.eagerEval.enabled\", True)\n",
    "    .config(\"spark.sql.parquet.cacheMetadata\", \"true\")\n",
    "    .config(\"spark.driver.memory\", \"4g\")\n",
    "    .config(\"spark.sql.session.timeZone\", \"Etc/UTC\")\n",
    "    .getOrCreate()\n",
    ")"
   ],
   "metadata": {
    "collapsed": false,
    "pycharm": {
     "name": "#%%\n"
    }
   }
  },
  {
   "cell_type": "code",
   "execution_count": 14,
   "outputs": [],
   "source": [
    "master = spark.read.parquet('../../../data/curated/process_data.parquet').select(['merchant_abn', 'order_datetime', 'user_id', 'merchant_fraud_probability', 'user_fraud_probability'])"
   ],
   "metadata": {
    "collapsed": false,
    "pycharm": {
     "name": "#%%\n"
    }
   }
  },
  {
   "cell_type": "code",
   "execution_count": 5,
   "outputs": [],
   "source": [
    "consumer = spark.read.csv('../../../data/tables/consumer_fraud_probability.csv', inferSchema=True, header=True)"
   ],
   "metadata": {
    "collapsed": false,
    "pycharm": {
     "name": "#%%\n"
    }
   }
  },
  {
   "cell_type": "code",
   "execution_count": 6,
   "outputs": [],
   "source": [
    "merchant = spark.read.csv('../../../data/tables/merchant_fraud_probability.csv', inferSchema=True, header=True)"
   ],
   "metadata": {
    "collapsed": false,
    "pycharm": {
     "name": "#%%\n"
    }
   }
  },
  {
   "cell_type": "markdown",
   "source": [
    "Check distinct counts in consumer fraud probability (user_id + order_datetime) csv"
   ],
   "metadata": {
    "collapsed": false,
    "pycharm": {
     "name": "#%% md\n"
    }
   }
  },
  {
   "cell_type": "code",
   "execution_count": 8,
   "outputs": [
    {
     "name": "stderr",
     "output_type": "stream",
     "text": [
      "                                                                                \r"
     ]
    },
    {
     "data": {
      "text/plain": "34765"
     },
     "execution_count": 8,
     "metadata": {},
     "output_type": "execute_result"
    }
   ],
   "source": [
    "#consumer.printSchema()\n",
    "consumer.select(['user_id', 'order_datetime']).distinct().count()"
   ],
   "metadata": {
    "collapsed": false,
    "pycharm": {
     "name": "#%%\n"
    }
   }
  },
  {
   "cell_type": "markdown",
   "source": [
    "In the consumer fraud probabilites dataset we have:\n",
    "* 34765 distinct user_id/order_datetime combinations"
   ],
   "metadata": {
    "collapsed": false,
    "pycharm": {
     "name": "#%% md\n"
    }
   }
  },
  {
   "cell_type": "code",
   "execution_count": 9,
   "outputs": [
    {
     "name": "stdout",
     "output_type": "stream",
     "text": [
      "+-------+--------------+\n",
      "|user_id|order_datetime|\n",
      "+-------+--------------+\n",
      "|   5515|    2021-10-09|\n",
      "|   7137|    2021-09-06|\n",
      "|  16142|    2021-11-12|\n",
      "|  21664|    2021-12-25|\n",
      "|   7745|    2021-10-08|\n",
      "|   4790|    2021-10-13|\n",
      "|  19806|    2021-09-23|\n",
      "|   7790|    2021-11-01|\n",
      "|  15718|    2021-05-07|\n",
      "|  17456|    2021-11-15|\n",
      "+-------+--------------+\n",
      "only showing top 10 rows\n",
      "\n"
     ]
    }
   ],
   "source": [
    "consumer.select(['user_id', 'order_datetime']).distinct().show(10)"
   ],
   "metadata": {
    "collapsed": false,
    "pycharm": {
     "name": "#%%\n"
    }
   }
  },
  {
   "cell_type": "markdown",
   "source": [
    "Do the same for merchant fraud probability (merchant_abn + order_datetime)"
   ],
   "metadata": {
    "collapsed": false,
    "pycharm": {
     "name": "#%% md\n"
    }
   }
  },
  {
   "cell_type": "code",
   "execution_count": 11,
   "outputs": [
    {
     "name": "stderr",
     "output_type": "stream",
     "text": [
      "                                                                                \r"
     ]
    },
    {
     "data": {
      "text/plain": "114"
     },
     "execution_count": 11,
     "metadata": {},
     "output_type": "execute_result"
    }
   ],
   "source": [
    "#merchant.printSchema()\n",
    "merchant.select(['merchant_abn', 'order_datetime']).distinct().count()"
   ],
   "metadata": {
    "collapsed": false,
    "pycharm": {
     "name": "#%%\n"
    }
   }
  },
  {
   "cell_type": "markdown",
   "source": [
    "In the merchant fraud probability set we have:\n",
    "* 114 distinct merchant_abn/order_datetime combinations"
   ],
   "metadata": {
    "collapsed": false,
    "pycharm": {
     "name": "#%% md\n"
    }
   }
  },
  {
   "cell_type": "code",
   "execution_count": 12,
   "outputs": [
    {
     "name": "stdout",
     "output_type": "stream",
     "text": [
      "+------------+--------------+\n",
      "|merchant_abn|order_datetime|\n",
      "+------------+--------------+\n",
      "| 31334588839|    2021-12-26|\n",
      "| 27093785141|    2021-11-27|\n",
      "| 31334588839|    2021-10-02|\n",
      "| 80518954462|    2021-11-27|\n",
      "| 79827781481|    2021-11-29|\n",
      "| 11470993597|    2021-09-28|\n",
      "| 23686790459|    2021-12-10|\n",
      "| 19492220327|    2021-11-18|\n",
      "| 90918180829|    2022-02-05|\n",
      "| 31334588839|    2021-12-10|\n",
      "+------------+--------------+\n",
      "only showing top 10 rows\n",
      "\n"
     ]
    }
   ],
   "source": [
    "merchant.select(['merchant_abn', 'order_datetime']).distinct().show(10)"
   ],
   "metadata": {
    "collapsed": false,
    "pycharm": {
     "name": "#%%\n"
    }
   }
  },
  {
   "cell_type": "markdown",
   "source": [
    "Compare with master when:\n",
    "* Ufp is not null\n",
    "* Mfp is not null"
   ],
   "metadata": {
    "collapsed": false,
    "pycharm": {
     "name": "#%% md\n"
    }
   }
  },
  {
   "cell_type": "markdown",
   "source": [
    "Get the processed_data where there are fraud probabilities"
   ],
   "metadata": {
    "collapsed": false,
    "pycharm": {
     "name": "#%% md\n"
    }
   }
  },
  {
   "cell_type": "code",
   "execution_count": 15,
   "outputs": [],
   "source": [
    "# get the master data set with probabilities\n",
    "ufp_exists = master.na.drop(subset=['user_fraud_probability'])\n",
    "mfp_exists = master.na.drop(subset=['merchant_fraud_probability'])\n"
   ],
   "metadata": {
    "collapsed": false,
    "pycharm": {
     "name": "#%%\n"
    }
   }
  },
  {
   "cell_type": "code",
   "execution_count": 16,
   "outputs": [
    {
     "name": "stderr",
     "output_type": "stream",
     "text": [
      "                                                                                \r"
     ]
    },
    {
     "data": {
      "text/plain": "7097756"
     },
     "execution_count": 16,
     "metadata": {},
     "output_type": "execute_result"
    }
   ],
   "source": [
    "ufp_exists.select(['user_id', 'order_datetime']).distinct().count()"
   ],
   "metadata": {
    "collapsed": false,
    "pycharm": {
     "name": "#%%\n"
    }
   }
  },
  {
   "cell_type": "markdown",
   "source": [
    "From the set, where user_fraud_probability is not null we have:\n",
    "* 7,097,756 unique user_id/order_datetime combinations\n",
    "\n",
    "How can this be possible when we only have ~34,000 distinct user_id/order_datetime combinations from the consumer fraud file?"
   ],
   "metadata": {
    "collapsed": false,
    "pycharm": {
     "name": "#%% md\n"
    }
   }
  },
  {
   "cell_type": "code",
   "execution_count": 17,
   "outputs": [
    {
     "name": "stderr",
     "output_type": "stream",
     "text": [
      "                                                                                \r"
     ]
    },
    {
     "data": {
      "text/plain": "13614156"
     },
     "execution_count": 17,
     "metadata": {},
     "output_type": "execute_result"
    }
   ],
   "source": [
    "master.count()"
   ],
   "metadata": {
    "collapsed": false,
    "pycharm": {
     "name": "#%%\n"
    }
   }
  },
  {
   "cell_type": "code",
   "execution_count": 25,
   "outputs": [
    {
     "name": "stderr",
     "output_type": "stream",
     "text": [
      "[Stage 36:=========================================>               (8 + 3) / 11]\r"
     ]
    },
    {
     "name": "stdout",
     "output_type": "stream",
     "text": [
      "+------------+--------------+-------+--------------------------+----------------------+\n",
      "|merchant_abn|order_datetime|user_id|merchant_fraud_probability|user_fraud_probability|\n",
      "+------------+--------------+-------+--------------------------+----------------------+\n",
      "| 92773401740|    2021-10-17|   2780|                      null|                  0.08|\n",
      "| 70172340121|    2022-08-19|  13529|                      null|                  0.08|\n",
      "| 57757792876|    2021-11-08|   4711|                      null|                  0.08|\n",
      "| 24852446429|    2021-11-08|   4711|                      null|                  0.08|\n",
      "| 72472909171|    2021-11-03|   6245|                      null|                  0.08|\n",
      "| 46987545043|    2021-11-03|   6245|                      null|                  0.08|\n",
      "| 48465277903|    2021-11-03|   6245|                      null|                  0.08|\n",
      "| 83412691377|    2022-03-22|  13529|                      null|                  0.08|\n",
      "| 11944993446|    2022-10-17|  13529|                      null|                  0.08|\n",
      "| 62170730910|    2022-06-18|  13529|                      null|                  0.08|\n",
      "| 62170730910|    2022-05-18|  13529|                      null|                  0.08|\n",
      "| 86662713230|    2021-11-21|  13529|                      null|                  0.08|\n",
      "| 86662713230|    2022-05-06|  13529|                      null|                  0.08|\n",
      "| 90568944804|    2022-07-02|  13529|       0.30671428571428505|                  0.08|\n",
      "| 35927874515|    2022-05-22|  13529|                      null|                  0.08|\n",
      "| 58729395250|    2022-01-26|  13529|                      null|                  0.08|\n",
      "| 62191208634|    2021-09-12|  13529|                      null|                  0.08|\n",
      "| 66257020651|    2022-01-19|  13529|                      null|                  0.08|\n",
      "| 70088042348|    2022-02-02|  13529|                      null|                  0.08|\n",
      "| 17496459532|    2022-05-22|  13529|                      null|                  0.08|\n",
      "+------------+--------------+-------+--------------------------+----------------------+\n",
      "only showing top 20 rows\n",
      "\n"
     ]
    },
    {
     "name": "stderr",
     "output_type": "stream",
     "text": [
      "                                                                                \r"
     ]
    }
   ],
   "source": [
    "ufp_exists.orderBy(F.asc_nulls_first('user_fraud_probability')).show(20)"
   ],
   "metadata": {
    "collapsed": false,
    "pycharm": {
     "name": "#%%\n"
    }
   }
  },
  {
   "cell_type": "markdown",
   "source": [
    "Investigate merchant fraud"
   ],
   "metadata": {
    "collapsed": false,
    "pycharm": {
     "name": "#%% md\n"
    }
   }
  },
  {
   "cell_type": "code",
   "execution_count": 19,
   "outputs": [
    {
     "name": "stderr",
     "output_type": "stream",
     "text": [
      "                                                                                \r"
     ]
    },
    {
     "data": {
      "text/plain": "16983"
     },
     "execution_count": 19,
     "metadata": {},
     "output_type": "execute_result"
    }
   ],
   "source": [
    "mfp_exists.select(['merchant_abn', 'order_datetime']).distinct().count()"
   ],
   "metadata": {
    "collapsed": false,
    "pycharm": {
     "name": "#%%\n"
    }
   }
  },
  {
   "cell_type": "markdown",
   "source": [
    "This shouldn't be 16983 -> it should only be 114?"
   ],
   "metadata": {
    "collapsed": false,
    "pycharm": {
     "name": "#%% md\n"
    }
   }
  },
  {
   "cell_type": "code",
   "execution_count": 20,
   "outputs": [
    {
     "name": "stderr",
     "output_type": "stream",
     "text": [
      "[Stage 31:=========================================>               (8 + 3) / 11]\r"
     ]
    },
    {
     "name": "stdout",
     "output_type": "stream",
     "text": [
      "+------------+--------------+-------+--------------------------+----------------------+\n",
      "|merchant_abn|order_datetime|user_id|merchant_fraud_probability|user_fraud_probability|\n",
      "+------------+--------------+-------+--------------------------+----------------------+\n",
      "| 67264251405|    2021-10-19|  22239|                      0.18|                  0.95|\n",
      "| 83199298021|    2021-12-14|   5450|                      0.23|                  0.21|\n",
      "| 83199298021|    2021-12-14|   1050|                      0.23|                  0.29|\n",
      "| 83199298021|    2021-12-14|    587|                      0.23|                  0.66|\n",
      "| 83199298021|    2022-01-04|   5554|                      0.24|                  0.74|\n",
      "| 83199298021|    2022-01-04|   6509|                      0.24|                  0.39|\n",
      "| 83199298021|    2021-12-30|  15790|                      0.24|                  0.72|\n",
      "| 83199298021|    2021-12-30|  15496|                      0.24|                   0.2|\n",
      "| 19492220327|    2022-01-29|  12323|                      0.25|                  0.35|\n",
      "| 15043504837|    2021-10-08|  10941|                      0.25|                  0.42|\n",
      "+------------+--------------+-------+--------------------------+----------------------+\n",
      "only showing top 10 rows\n",
      "\n"
     ]
    },
    {
     "name": "stderr",
     "output_type": "stream",
     "text": [
      "                                                                                \r"
     ]
    }
   ],
   "source": [
    "mfp_exists.orderBy(F.asc_nulls_first('merchant_fraud_probability')).show(10)"
   ],
   "metadata": {
    "collapsed": false,
    "pycharm": {
     "name": "#%%\n"
    }
   }
  },
  {
   "cell_type": "code",
   "execution_count": 21,
   "outputs": [
    {
     "name": "stderr",
     "output_type": "stream",
     "text": [
      "[Stage 32:=========================================>               (8 + 3) / 11]\r"
     ]
    },
    {
     "name": "stdout",
     "output_type": "stream",
     "text": [
      "+------------+--------------+\n",
      "|merchant_abn|order_datetime|\n",
      "+------------+--------------+\n",
      "| 93558142492|    2021-12-27|\n",
      "| 94493496784|    2022-09-27|\n",
      "| 48534649627|    2021-12-26|\n",
      "| 94493496784|    2021-09-20|\n",
      "| 94493496784|    2022-01-10|\n",
      "| 94493496784|    2021-07-11|\n",
      "| 79827781481|    2022-02-02|\n",
      "| 18158387243|    2022-10-06|\n",
      "| 21439773999|    2021-05-17|\n",
      "| 80518954462|    2021-08-13|\n",
      "+------------+--------------+\n",
      "only showing top 10 rows\n",
      "\n"
     ]
    },
    {
     "name": "stderr",
     "output_type": "stream",
     "text": [
      "                                                                                \r"
     ]
    }
   ],
   "source": [
    "mfp_exists.select(['merchant_abn', 'order_datetime']).distinct().show(10)"
   ],
   "metadata": {
    "collapsed": false,
    "pycharm": {
     "name": "#%%\n"
    }
   }
  },
  {
   "cell_type": "markdown",
   "source": [
    "Investigate abn for 18158387243 -> example to understand what is going on"
   ],
   "metadata": {
    "collapsed": false,
    "pycharm": {
     "name": "#%% md\n"
    }
   }
  },
  {
   "cell_type": "code",
   "execution_count": 22,
   "outputs": [
    {
     "name": "stdout",
     "output_type": "stream",
     "text": [
      "+------------+--------------+------------------+\n",
      "|merchant_abn|order_datetime| fraud_probability|\n",
      "+------------+--------------+------------------+\n",
      "| 18158387243|    2021-11-26|29.102418916409913|\n",
      "| 18158387243|    2021-11-29|28.956947892226466|\n",
      "+------------+--------------+------------------+\n",
      "\n"
     ]
    }
   ],
   "source": [
    "# e.g. merchant abn = 18158387243\n",
    "\n",
    "merchant.where(merchant['merchant_abn'] == 18158387243).show(10)"
   ],
   "metadata": {
    "collapsed": false,
    "pycharm": {
     "name": "#%%\n"
    }
   }
  },
  {
   "cell_type": "markdown",
   "source": [
    "We have two dates in the merchant file"
   ],
   "metadata": {
    "collapsed": false,
    "pycharm": {
     "name": "#%% md\n"
    }
   }
  },
  {
   "cell_type": "code",
   "execution_count": 23,
   "outputs": [
    {
     "name": "stdout",
     "output_type": "stream",
     "text": [
      "root\n",
      " |-- merchant_abn: long (nullable = true)\n",
      " |-- order_datetime: date (nullable = true)\n",
      " |-- user_id: long (nullable = true)\n",
      " |-- merchant_fraud_probability: double (nullable = true)\n",
      " |-- user_fraud_probability: double (nullable = true)\n",
      "\n"
     ]
    }
   ],
   "source": [
    "master.printSchema()"
   ],
   "metadata": {
    "collapsed": false,
    "pycharm": {
     "name": "#%%\n"
    }
   }
  },
  {
   "cell_type": "code",
   "execution_count": 24,
   "outputs": [
    {
     "name": "stdout",
     "output_type": "stream",
     "text": [
      "+------------+--------------+-------+--------------------------+----------------------+\n",
      "|merchant_abn|order_datetime|user_id|merchant_fraud_probability|user_fraud_probability|\n",
      "+------------+--------------+-------+--------------------------+----------------------+\n",
      "| 18158387243|    2021-05-18|    183|        0.2899999999999993|                 0.098|\n",
      "| 18158387243|    2022-07-28|    837|        0.2899999999999993|   0.10333333333333333|\n",
      "| 18158387243|    2022-02-02|   1032|        0.2899999999999993|                  null|\n",
      "| 18158387243|    2021-05-11|   1142|        0.2899999999999993|                  null|\n",
      "| 18158387243|    2021-09-14|   1142|        0.2899999999999993|                  null|\n",
      "| 18158387243|    2022-09-06|   1634|        0.2899999999999993|                   0.1|\n",
      "| 18158387243|    2021-12-10|   2375|        0.2899999999999993|    0.1366666666666667|\n",
      "| 18158387243|    2022-06-07|   2375|        0.2899999999999993|    0.1366666666666667|\n",
      "| 18158387243|    2022-02-08|   2446|        0.2899999999999993|   0.11000000000000001|\n",
      "| 18158387243|    2022-08-28|   2446|        0.2899999999999993|   0.11000000000000001|\n",
      "+------------+--------------+-------+--------------------------+----------------------+\n",
      "only showing top 10 rows\n",
      "\n"
     ]
    }
   ],
   "source": [
    "master.where(master['merchant_abn'] == 18158387243).show(10)"
   ],
   "metadata": {
    "collapsed": false,
    "pycharm": {
     "name": "#%%\n"
    }
   }
  },
  {
   "cell_type": "markdown",
   "source": [
    "We have multiple dates that aren't included in the merchant fraud file but have merchant fraud probabilities.\n",
    "\n",
    "Something is wrong with the join...\n",
    "\n",
    "Datetime is being ignored it looks like"
   ],
   "metadata": {
    "collapsed": false,
    "pycharm": {
     "name": "#%% md\n"
    }
   }
  },
  {
   "cell_type": "markdown",
   "source": [
    "Investigate user: 12323"
   ],
   "metadata": {
    "collapsed": false,
    "pycharm": {
     "name": "#%% md\n"
    }
   }
  },
  {
   "cell_type": "code",
   "execution_count": 26,
   "outputs": [
    {
     "name": "stdout",
     "output_type": "stream",
     "text": [
      "+-------+--------------+-----------------+\n",
      "|user_id|order_datetime|fraud_probability|\n",
      "+-------+--------------+-----------------+\n",
      "|  12323|    2022-01-29|34.76753477952562|\n",
      "|  12323|    2021-11-30|9.217917220764651|\n",
      "+-------+--------------+-----------------+\n",
      "\n"
     ]
    }
   ],
   "source": [
    "# e.g. merchant abn = 18158387243\n",
    "\n",
    "consumer.where(consumer['user_id'] == 12323).show(10)"
   ],
   "metadata": {
    "collapsed": false,
    "pycharm": {
     "name": "#%%\n"
    }
   }
  },
  {
   "cell_type": "markdown",
   "source": [
    "We have 2 dates"
   ],
   "metadata": {
    "collapsed": false,
    "pycharm": {
     "name": "#%% md\n"
    }
   }
  },
  {
   "cell_type": "code",
   "execution_count": 30,
   "outputs": [
    {
     "name": "stderr",
     "output_type": "stream",
     "text": [
      "[Stage 40:=========>                                                (1 + 5) / 6]\r"
     ]
    },
    {
     "name": "stdout",
     "output_type": "stream",
     "text": [
      "+------------+--------------+-------+--------------------------+----------------------+\n",
      "|merchant_abn|order_datetime|user_id|merchant_fraud_probability|user_fraud_probability|\n",
      "+------------+--------------+-------+--------------------------+----------------------+\n",
      "| 48723861274|    2022-02-20|  12323|                      null|    0.2633333333333333|\n",
      "| 10648956813|    2021-03-19|  12323|                      null|    0.2633333333333333|\n",
      "| 10648956813|    2022-02-14|  12323|                      null|    0.2633333333333333|\n",
      "| 10648956813|    2021-05-27|  12323|                      null|    0.2633333333333333|\n",
      "| 18303734841|    2021-11-28|  12323|                      null|    0.2633333333333333|\n",
      "| 45899477665|    2022-06-17|  12323|                      null|    0.2633333333333333|\n",
      "| 90568944804|    2021-04-03|  12323|       0.30671428571428505|    0.2633333333333333|\n",
      "| 46877655150|    2022-06-27|  12323|                      null|    0.2633333333333333|\n",
      "| 45480771376|    2021-10-24|  12323|                      null|    0.2633333333333333|\n",
      "| 62191208634|    2021-03-05|  12323|                      null|    0.2633333333333333|\n",
      "+------------+--------------+-------+--------------------------+----------------------+\n",
      "only showing top 10 rows\n",
      "\n"
     ]
    },
    {
     "name": "stderr",
     "output_type": "stream",
     "text": [
      "                                                                                \r"
     ]
    }
   ],
   "source": [
    "master.where(master['user_id'] == 12323).show(10)"
   ],
   "metadata": {
    "collapsed": false,
    "pycharm": {
     "name": "#%%\n"
    }
   }
  },
  {
   "cell_type": "markdown",
   "source": [
    "Again, we've got lots more dates than in the user fraud probability file, yet they have fraud probabilities"
   ],
   "metadata": {
    "collapsed": false,
    "pycharm": {
     "name": "#%% md\n"
    }
   }
  },
  {
   "cell_type": "code",
   "execution_count": null,
   "outputs": [],
   "source": [],
   "metadata": {
    "collapsed": false,
    "pycharm": {
     "name": "#%%\n"
    }
   }
  }
 ],
 "metadata": {
  "kernelspec": {
   "display_name": "Python 3",
   "language": "python",
   "name": "python3"
  },
  "language_info": {
   "codemirror_mode": {
    "name": "ipython",
    "version": 2
   },
   "file_extension": ".py",
   "mimetype": "text/x-python",
   "name": "python",
   "nbconvert_exporter": "python",
   "pygments_lexer": "ipython2",
   "version": "2.7.6"
  }
 },
 "nbformat": 4,
 "nbformat_minor": 0
}