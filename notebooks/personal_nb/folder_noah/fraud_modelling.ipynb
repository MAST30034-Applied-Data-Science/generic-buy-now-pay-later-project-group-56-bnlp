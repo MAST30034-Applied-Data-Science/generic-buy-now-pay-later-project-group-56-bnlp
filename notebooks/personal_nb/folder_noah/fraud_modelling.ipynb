{
 "cells": [
  {
   "cell_type": "code",
   "execution_count": 626,
   "outputs": [],
   "source": [
    "import math\n",
    "\n",
    "import pandas as pd\n",
    "from pyspark.sql import SparkSession, functions as F\n",
    "from pyspark.ml.feature import StringIndexer, OneHotEncoder, VectorAssembler, VectorIndexer\n",
    "from pyspark.ml.regression import GBTRegressor\n",
    "from pyspark.ml.evaluation import RegressionEvaluator\n",
    "import time"
   ],
   "metadata": {
    "collapsed": false,
    "pycharm": {
     "name": "#%%\n"
    }
   }
  },
  {
   "cell_type": "code",
   "execution_count": 627,
   "metadata": {
    "collapsed": true,
    "pycharm": {
     "name": "#%%\n"
    }
   },
   "outputs": [],
   "source": [
    "# Create a spark session\n",
    "spark = (\n",
    "    SparkSession.builder.appName(\"K-Means clustering test\")\n",
    "    .config(\"spark.sql.repl.eagerEval.enabled\", True)\n",
    "    .config(\"spark.sql.parquet.cacheMetadata\", \"true\")\n",
    "    .config(\"spark.driver.memory\", \"4g\")\n",
    "    .config(\"spark.sql.session.timeZone\", \"Etc/UTC\")\n",
    "    .getOrCreate()\n",
    ")"
   ]
  },
  {
   "cell_type": "code",
   "execution_count": 628,
   "outputs": [],
   "source": [
    "# these are our predictors\n",
    "base_features = {'merchant_abn',\n",
    "                 'consumer_id',\n",
    "                 'dollar_value',\n",
    "                 'postcode',\n",
    "                 'gender',\n",
    "                 'revenue',\n",
    "                 'rate',\n",
    "                 'tag'}\n",
    "\n",
    "# TODO: address the target feature -> merchant fraud probability ting\n",
    "#{'merchant_fraud_probability', 'user_fraud_probability'}\n",
    "target_features = {'user_fraud_probability'}\n",
    "\n",
    "subset = base_features.union(target_features)"
   ],
   "metadata": {
    "collapsed": false,
    "pycharm": {
     "name": "#%%\n"
    }
   }
  },
  {
   "cell_type": "code",
   "execution_count": 629,
   "outputs": [],
   "source": [
    "debug = 1"
   ],
   "metadata": {
    "collapsed": false,
    "pycharm": {
     "name": "#%%\n"
    }
   }
  },
  {
   "cell_type": "code",
   "execution_count": 630,
   "outputs": [],
   "source": [
    "#raw = spark.read.parquet('../../../data/curated/process_data.parquet').select(*subset)\n",
    "raw = spark.read.parquet('../../../data/curated/process_data.parquet').select(*subset).sample(fraction=0.01, seed=56, withReplacement=False)"
   ],
   "metadata": {
    "collapsed": false,
    "pycharm": {
     "name": "#%%\n"
    }
   }
  },
  {
   "cell_type": "code",
   "execution_count": 631,
   "outputs": [
    {
     "data": {
      "text/plain": "+-----------+--------+------------+-------+----------------------+------+------------+----+--------------------+\n|consumer_id|postcode|merchant_abn|revenue|user_fraud_probability|gender|dollar_value|rate|                 tag|\n+-----------+--------+------------+-------+----------------------+------+------------+----+--------------------+\n|     133032|    3043| 14492521225|      c|                 0.098|Female|       28.52| 2.5|tent and awning s...|\n|     133032|    3043| 63300242141|      c|                 0.098|Female|       10.36|1.62|digital goods: bo...|\n|     133032|    3043| 96491286698|      b|                 0.098|Female|      520.01|4.87|furniture, home f...|\n|     133032|    3043| 95574756848|      a|                 0.098|Female|      272.45|6.15|opticians, optica...|\n|     133032|    3043| 79417999332|      b|                 0.098|Female|       84.34|4.95|gift, card, novel...|\n+-----------+--------+------------+-------+----------------------+------+------------+----+--------------------+",
      "text/html": "<table border='1'>\n<tr><th>consumer_id</th><th>postcode</th><th>merchant_abn</th><th>revenue</th><th>user_fraud_probability</th><th>gender</th><th>dollar_value</th><th>rate</th><th>tag</th></tr>\n<tr><td>133032</td><td>3043</td><td>14492521225</td><td>c</td><td>0.098</td><td>Female</td><td>28.52</td><td>2.5</td><td>tent and awning s...</td></tr>\n<tr><td>133032</td><td>3043</td><td>63300242141</td><td>c</td><td>0.098</td><td>Female</td><td>10.36</td><td>1.62</td><td>digital goods: bo...</td></tr>\n<tr><td>133032</td><td>3043</td><td>96491286698</td><td>b</td><td>0.098</td><td>Female</td><td>520.01</td><td>4.87</td><td>furniture, home f...</td></tr>\n<tr><td>133032</td><td>3043</td><td>95574756848</td><td>a</td><td>0.098</td><td>Female</td><td>272.45</td><td>6.15</td><td>opticians, optica...</td></tr>\n<tr><td>133032</td><td>3043</td><td>79417999332</td><td>b</td><td>0.098</td><td>Female</td><td>84.34</td><td>4.95</td><td>gift, card, novel...</td></tr>\n</table>\n"
     },
     "execution_count": 631,
     "metadata": {},
     "output_type": "execute_result"
    }
   ],
   "source": [
    "# try transforming dollar_value by log transform\n",
    "import numpy as np\n",
    "\n",
    "#raw = raw.withColumn('dollar_value', (F.log('dollar_value')))\n",
    "\n",
    "# cube root?\n",
    "#raw = raw.withColumn('user_fraud_probability', (F.log('user_fraud_probability')))\n",
    "\n",
    "# 5 categories -> revenue bands should be clumped together -> they relate to take rate\n",
    "\n",
    "raw.limit(5)"
   ],
   "metadata": {
    "collapsed": false,
    "pycharm": {
     "name": "#%%\n"
    }
   }
  },
  {
   "cell_type": "code",
   "execution_count": 632,
   "outputs": [
    {
     "data": {
      "text/plain": "+-----------+--------+------------+-------+----------------------+------+------------+----+--------------------+\n|consumer_id|postcode|merchant_abn|revenue|user_fraud_probability|gender|dollar_value|rate|                 tag|\n+-----------+--------+------------+-------+----------------------+------+------------+----+--------------------+\n|     133032|    3043| 14492521225|      c|                 0.098|Female|       28.52| 2.5|tent and awning s...|\n|     133032|    3043| 63300242141|      c|                 0.098|Female|       10.36|1.62|digital goods: bo...|\n|     133032|    3043| 96491286698|      b|                 0.098|Female|      520.01|4.87|furniture, home f...|\n|     133032|    3043| 95574756848|      a|                 0.098|Female|      272.45|6.15|opticians, optica...|\n|     133032|    3043| 79417999332|      b|                 0.098|Female|       84.34|4.95|gift, card, novel...|\n|     133032|    3043| 17488304283|      a|                 0.098|Female|        94.4|6.18|cable, satellite,...|\n|    1217036|    4213| 68004106739|      a|   0.26666666666666666|  Male|      124.74|5.61|cable, satellite,...|\n|    1217036|    4213| 82368304209|      a|   0.26666666666666666|  Male|     6471.84|5.55|             telecom|\n|    1217036|    4213| 71674475255|      b|   0.26666666666666666|  Male|       193.4|3.81|opticians, optica...|\n|    1217036|    4213| 96161947306|      b|   0.26666666666666666|  Male|        7.75|4.52|          shoe shops|\n|    1217036|    4213| 84703983173|      c|   0.26666666666666666|  Male|      232.85|2.31|computer programm...|\n|    1217036|    4213| 49322182190|      a|   0.26666666666666666|  Male|       88.36|6.35|watch, clock, and...|\n|     257277|    6155| 61845622676|      c|                  null|Female|       22.96|2.48|gift, card, novel...|\n|     257277|    6155| 84445217729|      a|                  null|Female|       44.33|6.85|opticians, optica...|\n|     257277|    6155| 49212265466|      b|                  null|Female|      269.35| 4.5|florists supplies...|\n|     257277|    6155| 11237511112|      c|                  null|Female|      299.96|2.11|opticians, optica...|\n|     315047|    3225| 70172340121|      b|                  0.12|Female|       37.45|3.29|gift, card, novel...|\n|     496193|    6701| 11944993446|      a|   0.09000000000000001|Female|       82.37| 6.6|gift, card, novel...|\n|     496193|    6701| 66030670083|      b|   0.09000000000000001|Female|      625.06|3.58|books, periodical...|\n|     496193|    6701| 24070342853|      b|   0.09000000000000001|Female|      108.63|4.41|          shoe shops|\n+-----------+--------+------------+-------+----------------------+------+------------+----+--------------------+\nonly showing top 20 rows",
      "text/html": "<table border='1'>\n<tr><th>consumer_id</th><th>postcode</th><th>merchant_abn</th><th>revenue</th><th>user_fraud_probability</th><th>gender</th><th>dollar_value</th><th>rate</th><th>tag</th></tr>\n<tr><td>133032</td><td>3043</td><td>14492521225</td><td>c</td><td>0.098</td><td>Female</td><td>28.52</td><td>2.5</td><td>tent and awning s...</td></tr>\n<tr><td>133032</td><td>3043</td><td>63300242141</td><td>c</td><td>0.098</td><td>Female</td><td>10.36</td><td>1.62</td><td>digital goods: bo...</td></tr>\n<tr><td>133032</td><td>3043</td><td>96491286698</td><td>b</td><td>0.098</td><td>Female</td><td>520.01</td><td>4.87</td><td>furniture, home f...</td></tr>\n<tr><td>133032</td><td>3043</td><td>95574756848</td><td>a</td><td>0.098</td><td>Female</td><td>272.45</td><td>6.15</td><td>opticians, optica...</td></tr>\n<tr><td>133032</td><td>3043</td><td>79417999332</td><td>b</td><td>0.098</td><td>Female</td><td>84.34</td><td>4.95</td><td>gift, card, novel...</td></tr>\n<tr><td>133032</td><td>3043</td><td>17488304283</td><td>a</td><td>0.098</td><td>Female</td><td>94.4</td><td>6.18</td><td>cable, satellite,...</td></tr>\n<tr><td>1217036</td><td>4213</td><td>68004106739</td><td>a</td><td>0.26666666666666666</td><td>Male</td><td>124.74</td><td>5.61</td><td>cable, satellite,...</td></tr>\n<tr><td>1217036</td><td>4213</td><td>82368304209</td><td>a</td><td>0.26666666666666666</td><td>Male</td><td>6471.84</td><td>5.55</td><td>telecom</td></tr>\n<tr><td>1217036</td><td>4213</td><td>71674475255</td><td>b</td><td>0.26666666666666666</td><td>Male</td><td>193.4</td><td>3.81</td><td>opticians, optica...</td></tr>\n<tr><td>1217036</td><td>4213</td><td>96161947306</td><td>b</td><td>0.26666666666666666</td><td>Male</td><td>7.75</td><td>4.52</td><td>shoe shops</td></tr>\n<tr><td>1217036</td><td>4213</td><td>84703983173</td><td>c</td><td>0.26666666666666666</td><td>Male</td><td>232.85</td><td>2.31</td><td>computer programm...</td></tr>\n<tr><td>1217036</td><td>4213</td><td>49322182190</td><td>a</td><td>0.26666666666666666</td><td>Male</td><td>88.36</td><td>6.35</td><td>watch, clock, and...</td></tr>\n<tr><td>257277</td><td>6155</td><td>61845622676</td><td>c</td><td>null</td><td>Female</td><td>22.96</td><td>2.48</td><td>gift, card, novel...</td></tr>\n<tr><td>257277</td><td>6155</td><td>84445217729</td><td>a</td><td>null</td><td>Female</td><td>44.33</td><td>6.85</td><td>opticians, optica...</td></tr>\n<tr><td>257277</td><td>6155</td><td>49212265466</td><td>b</td><td>null</td><td>Female</td><td>269.35</td><td>4.5</td><td>florists supplies...</td></tr>\n<tr><td>257277</td><td>6155</td><td>11237511112</td><td>c</td><td>null</td><td>Female</td><td>299.96</td><td>2.11</td><td>opticians, optica...</td></tr>\n<tr><td>315047</td><td>3225</td><td>70172340121</td><td>b</td><td>0.12</td><td>Female</td><td>37.45</td><td>3.29</td><td>gift, card, novel...</td></tr>\n<tr><td>496193</td><td>6701</td><td>11944993446</td><td>a</td><td>0.09000000000000001</td><td>Female</td><td>82.37</td><td>6.6</td><td>gift, card, novel...</td></tr>\n<tr><td>496193</td><td>6701</td><td>66030670083</td><td>b</td><td>0.09000000000000001</td><td>Female</td><td>625.06</td><td>3.58</td><td>books, periodical...</td></tr>\n<tr><td>496193</td><td>6701</td><td>24070342853</td><td>b</td><td>0.09000000000000001</td><td>Female</td><td>108.63</td><td>4.41</td><td>shoe shops</td></tr>\n</table>\nonly showing top 20 rows\n"
     },
     "execution_count": 632,
     "metadata": {},
     "output_type": "execute_result"
    }
   ],
   "source": [
    "# Make bins for fraud probabilities\n",
    "# look at individual merchant/tag distributions\n",
    "raw"
   ],
   "metadata": {
    "collapsed": false,
    "pycharm": {
     "name": "#%%\n"
    }
   }
  },
  {
   "cell_type": "code",
   "execution_count": 633,
   "outputs": [
    {
     "name": "stderr",
     "output_type": "stream",
     "text": [
      "                                                                                \r"
     ]
    },
    {
     "data": {
      "text/plain": "136622"
     },
     "execution_count": 633,
     "metadata": {},
     "output_type": "execute_result"
    }
   ],
   "source": [
    "raw.count() #13614156"
   ],
   "metadata": {
    "collapsed": false,
    "pycharm": {
     "name": "#%%\n"
    }
   }
  },
  {
   "cell_type": "code",
   "execution_count": 634,
   "outputs": [],
   "source": [
    "# drop missing user fraud rows\n",
    "data = raw.na.drop(subset=['user_fraud_probability'])"
   ],
   "metadata": {
    "collapsed": false,
    "pycharm": {
     "name": "#%%\n"
    }
   }
  },
  {
   "cell_type": "code",
   "execution_count": 635,
   "outputs": [
    {
     "name": "stderr",
     "output_type": "stream",
     "text": [
      "                                                                                \r"
     ]
    },
    {
     "data": {
      "text/plain": "110825"
     },
     "execution_count": 635,
     "metadata": {},
     "output_type": "execute_result"
    }
   ],
   "source": [
    "data.count() #11032855 -> 2 mil or so records gone...seems less than expected"
   ],
   "metadata": {
    "collapsed": false,
    "pycharm": {
     "name": "#%%\n"
    }
   }
  },
  {
   "cell_type": "code",
   "execution_count": 636,
   "outputs": [],
   "source": [
    "# just making sets so its easier to understand...kinda lol\n",
    "categorical_cols = {'gender', 'revenue', 'tag'}\n",
    "indexed_cols = {x + '_numeric' for x in categorical_cols}\n",
    "number_cols = base_features.difference(categorical_cols)"
   ],
   "metadata": {
    "collapsed": false,
    "pycharm": {
     "name": "#%%\n"
    }
   }
  },
  {
   "cell_type": "code",
   "execution_count": 637,
   "outputs": [],
   "source": [
    "# just making sets so its easier to understand...kinda lol\n",
    "#categorical_cols = {'gender', 'revenue', 'tag', 'postcode', 'merchant_abn', 'consumer_id'}\n",
    "#indexed_cols = {x + '_numeric' for x in categorical_cols}\n",
    "#number_cols = base_features.difference(categorical_cols)"
   ],
   "metadata": {
    "collapsed": false,
    "pycharm": {
     "name": "#%%\n"
    }
   }
  },
  {
   "cell_type": "markdown",
   "source": [
    "Index"
   ],
   "metadata": {
    "collapsed": false,
    "pycharm": {
     "name": "#%% md\n"
    }
   }
  },
  {
   "cell_type": "code",
   "execution_count": 638,
   "outputs": [
    {
     "name": "stderr",
     "output_type": "stream",
     "text": [
      "                                                                                \r"
     ]
    }
   ],
   "source": [
    "indexer = StringIndexer(inputCols=list(categorical_cols),\n",
    "                        outputCols=list(indexed_cols)).fit(data)"
   ],
   "metadata": {
    "collapsed": false,
    "pycharm": {
     "name": "#%%\n"
    }
   }
  },
  {
   "cell_type": "code",
   "execution_count": 639,
   "outputs": [],
   "source": [
    "df_indexed = indexer.transform(data)"
   ],
   "metadata": {
    "collapsed": false,
    "pycharm": {
     "name": "#%%\n"
    }
   }
  },
  {
   "cell_type": "markdown",
   "source": [
    "Vector Index other features"
   ],
   "metadata": {
    "collapsed": false,
    "pycharm": {
     "name": "#%% md\n"
    }
   }
  },
  {
   "cell_type": "code",
   "execution_count": 640,
   "outputs": [],
   "source": [
    "#vindexer = VectorIndexer(inputCols=list(categorical_cols),\n",
    "#                        outputCols=list(indexed_cols)).fit(data)"
   ],
   "metadata": {
    "collapsed": false,
    "pycharm": {
     "name": "#%%\n"
    }
   }
  },
  {
   "cell_type": "code",
   "execution_count": 641,
   "outputs": [],
   "source": [
    "#df_indexed ="
   ],
   "metadata": {
    "collapsed": false,
    "pycharm": {
     "name": "#%%\n"
    }
   }
  },
  {
   "cell_type": "markdown",
   "source": [
    "Vector Assemble"
   ],
   "metadata": {
    "collapsed": false,
    "pycharm": {
     "name": "#%% md\n"
    }
   }
  },
  {
   "cell_type": "code",
   "execution_count": 642,
   "outputs": [],
   "source": [
    "assembler = VectorAssembler(inputCols=list(indexed_cols.union(number_cols)),\n",
    "                            outputCol='features')"
   ],
   "metadata": {
    "collapsed": false,
    "pycharm": {
     "name": "#%%\n"
    }
   }
  },
  {
   "cell_type": "code",
   "execution_count": 643,
   "outputs": [],
   "source": [
    "assembled_df = assembler.transform(df_indexed)"
   ],
   "metadata": {
    "collapsed": false,
    "pycharm": {
     "name": "#%%\n"
    }
   }
  },
  {
   "cell_type": "markdown",
   "source": [
    "Scale ## Look into RobustScaling"
   ],
   "metadata": {
    "collapsed": false,
    "pycharm": {
     "name": "#%% md\n"
    }
   }
  },
  {
   "cell_type": "code",
   "execution_count": 644,
   "outputs": [],
   "source": [
    "from pyspark.ml.feature import StandardScaler, RobustScaler"
   ],
   "metadata": {
    "collapsed": false,
    "pycharm": {
     "name": "#%%\n"
    }
   }
  },
  {
   "cell_type": "code",
   "execution_count": 645,
   "outputs": [
    {
     "name": "stderr",
     "output_type": "stream",
     "text": [
      "                                                                                \r"
     ]
    }
   ],
   "source": [
    "# standardizing the feature vector\n",
    "#scale = StandardScaler(inputCol='features',outputCol='features_std').fit(assembled_df)\n",
    "scale = RobustScaler(inputCol='features',outputCol='features_std').fit(assembled_df)\n",
    "scaled_df = scale.transform(assembled_df)"
   ],
   "metadata": {
    "collapsed": false,
    "pycharm": {
     "name": "#%%\n"
    }
   }
  },
  {
   "cell_type": "markdown",
   "source": [
    "Repartition ?"
   ],
   "metadata": {
    "collapsed": false,
    "pycharm": {
     "name": "#%% md\n"
    }
   }
  },
  {
   "cell_type": "code",
   "execution_count": 646,
   "outputs": [],
   "source": [
    "#scaled_df = scaled_df.repartition(100)"
   ],
   "metadata": {
    "collapsed": false,
    "pycharm": {
     "name": "#%%\n"
    }
   }
  },
  {
   "cell_type": "markdown",
   "source": [
    "Train"
   ],
   "metadata": {
    "collapsed": false,
    "pycharm": {
     "name": "#%% md\n"
    }
   }
  },
  {
   "cell_type": "code",
   "execution_count": 647,
   "outputs": [],
   "source": [
    "(trainingData, testData) = scaled_df.randomSplit([0.7, 0.3])"
   ],
   "metadata": {
    "collapsed": false,
    "pycharm": {
     "name": "#%%\n"
    }
   }
  },
  {
   "cell_type": "code",
   "execution_count": 648,
   "outputs": [],
   "source": [
    "gbt = GBTRegressor(labelCol='user_fraud_probability',\n",
    "                   featuresCol=\"features_std\",\n",
    "                   maxIter=15,\n",
    "                   maxDepth=10,\n",
    "                   seed=8439048371454442624,\n",
    "                   lossType='absolute')\n",
    "\n",
    "# maxdepth 10 -> max iter -> 50 : 2 mins on 1%\n",
    "# depth 15 iter 50 ->"
   ],
   "metadata": {
    "collapsed": false,
    "pycharm": {
     "name": "#%%\n"
    }
   }
  },
  {
   "cell_type": "code",
   "execution_count": 649,
   "outputs": [
    {
     "name": "stderr",
     "output_type": "stream",
     "text": [
      "22/10/03 18:00:24 WARN DAGScheduler: Broadcasting large task binary with size 1000.5 KiB\n",
      "22/10/03 18:00:25 WARN DAGScheduler: Broadcasting large task binary with size 1008.0 KiB\n",
      "22/10/03 18:00:25 WARN DAGScheduler: Broadcasting large task binary with size 1008.5 KiB\n",
      "22/10/03 18:00:25 WARN DAGScheduler: Broadcasting large task binary with size 1009.2 KiB\n",
      "22/10/03 18:00:25 WARN DAGScheduler: Broadcasting large task binary with size 1010.2 KiB\n",
      "22/10/03 18:00:25 WARN DAGScheduler: Broadcasting large task binary with size 1012.5 KiB\n",
      "22/10/03 18:00:25 WARN DAGScheduler: Broadcasting large task binary with size 1017.1 KiB\n",
      "22/10/03 18:00:25 WARN DAGScheduler: Broadcasting large task binary with size 1026.3 KiB\n",
      "22/10/03 18:00:25 WARN DAGScheduler: Broadcasting large task binary with size 1044.5 KiB\n",
      "22/10/03 18:00:26 WARN DAGScheduler: Broadcasting large task binary with size 1078.1 KiB\n",
      "22/10/03 18:00:26 WARN DAGScheduler: Broadcasting large task binary with size 1137.9 KiB\n",
      "22/10/03 18:00:26 WARN DAGScheduler: Broadcasting large task binary with size 1142.1 KiB\n",
      "22/10/03 18:00:26 WARN DAGScheduler: Broadcasting large task binary with size 1142.6 KiB\n",
      "22/10/03 18:00:26 WARN DAGScheduler: Broadcasting large task binary with size 1143.3 KiB\n",
      "22/10/03 18:00:26 WARN DAGScheduler: Broadcasting large task binary with size 1144.3 KiB\n",
      "22/10/03 18:00:26 WARN DAGScheduler: Broadcasting large task binary with size 1146.6 KiB\n",
      "22/10/03 18:00:27 WARN DAGScheduler: Broadcasting large task binary with size 1151.2 KiB\n",
      "22/10/03 18:00:27 WARN DAGScheduler: Broadcasting large task binary with size 1160.4 KiB\n",
      "22/10/03 18:00:27 WARN DAGScheduler: Broadcasting large task binary with size 1178.7 KiB\n",
      "22/10/03 18:00:27 WARN DAGScheduler: Broadcasting large task binary with size 1212.6 KiB\n",
      "22/10/03 18:00:27 WARN DAGScheduler: Broadcasting large task binary with size 1272.9 KiB\n",
      "22/10/03 18:00:27 WARN DAGScheduler: Broadcasting large task binary with size 1278.2 KiB\n",
      "22/10/03 18:00:28 WARN DAGScheduler: Broadcasting large task binary with size 1278.7 KiB\n",
      "22/10/03 18:00:28 WARN DAGScheduler: Broadcasting large task binary with size 1279.4 KiB\n",
      "22/10/03 18:00:28 WARN DAGScheduler: Broadcasting large task binary with size 1280.4 KiB\n",
      "22/10/03 18:00:28 WARN DAGScheduler: Broadcasting large task binary with size 1282.7 KiB\n",
      "22/10/03 18:00:28 WARN DAGScheduler: Broadcasting large task binary with size 1287.3 KiB\n",
      "22/10/03 18:00:28 WARN DAGScheduler: Broadcasting large task binary with size 1296.4 KiB\n",
      "22/10/03 18:00:28 WARN DAGScheduler: Broadcasting large task binary with size 1313.5 KiB\n",
      "22/10/03 18:00:28 WARN DAGScheduler: Broadcasting large task binary with size 1345.3 KiB\n",
      "22/10/03 18:00:29 WARN DAGScheduler: Broadcasting large task binary with size 1402.7 KiB\n",
      "22/10/03 18:00:29 WARN DAGScheduler: Broadcasting large task binary with size 1409.4 KiB\n",
      "22/10/03 18:00:29 WARN DAGScheduler: Broadcasting large task binary with size 1409.8 KiB\n",
      "22/10/03 18:00:29 WARN DAGScheduler: Broadcasting large task binary with size 1410.6 KiB\n",
      "22/10/03 18:00:29 WARN DAGScheduler: Broadcasting large task binary with size 1411.6 KiB\n",
      "22/10/03 18:00:29 WARN DAGScheduler: Broadcasting large task binary with size 1413.9 KiB\n",
      "22/10/03 18:00:29 WARN DAGScheduler: Broadcasting large task binary with size 1418.5 KiB\n",
      "22/10/03 18:00:30 WARN DAGScheduler: Broadcasting large task binary with size 1427.7 KiB\n",
      "22/10/03 18:00:30 WARN DAGScheduler: Broadcasting large task binary with size 1445.5 KiB\n",
      "22/10/03 18:00:30 WARN DAGScheduler: Broadcasting large task binary with size 1476.8 KiB\n",
      "22/10/03 18:00:30 WARN DAGScheduler: Broadcasting large task binary with size 1528.2 KiB\n",
      "22/10/03 18:00:30 WARN DAGScheduler: Broadcasting large task binary with size 1528.2 KiB\n",
      "22/10/03 18:00:30 WARN DAGScheduler: Broadcasting large task binary with size 1528.7 KiB\n",
      "22/10/03 18:00:30 WARN DAGScheduler: Broadcasting large task binary with size 1529.4 KiB\n",
      "22/10/03 18:00:31 WARN DAGScheduler: Broadcasting large task binary with size 1530.5 KiB\n",
      "22/10/03 18:00:31 WARN DAGScheduler: Broadcasting large task binary with size 1532.8 KiB\n",
      "22/10/03 18:00:31 WARN DAGScheduler: Broadcasting large task binary with size 1537.3 KiB\n",
      "22/10/03 18:00:31 WARN DAGScheduler: Broadcasting large task binary with size 1545.8 KiB\n",
      "22/10/03 18:00:31 WARN DAGScheduler: Broadcasting large task binary with size 1560.9 KiB\n",
      "22/10/03 18:00:31 WARN DAGScheduler: Broadcasting large task binary with size 1585.0 KiB\n",
      "22/10/03 18:00:31 WARN DAGScheduler: Broadcasting large task binary with size 1622.7 KiB\n",
      "22/10/03 18:00:31 WARN DAGScheduler: Broadcasting large task binary with size 1619.1 KiB\n",
      "22/10/03 18:00:32 WARN DAGScheduler: Broadcasting large task binary with size 1619.6 KiB\n",
      "22/10/03 18:00:32 WARN DAGScheduler: Broadcasting large task binary with size 1620.3 KiB\n",
      "22/10/03 18:00:32 WARN DAGScheduler: Broadcasting large task binary with size 1621.3 KiB\n",
      "22/10/03 18:00:32 WARN DAGScheduler: Broadcasting large task binary with size 1623.6 KiB\n",
      "22/10/03 18:00:32 WARN DAGScheduler: Broadcasting large task binary with size 1628.2 KiB\n",
      "22/10/03 18:00:32 WARN DAGScheduler: Broadcasting large task binary with size 1636.7 KiB\n",
      "22/10/03 18:00:32 WARN DAGScheduler: Broadcasting large task binary with size 1652.3 KiB\n",
      "22/10/03 18:00:33 WARN DAGScheduler: Broadcasting large task binary with size 1679.6 KiB\n",
      "22/10/03 18:00:33 WARN DAGScheduler: Broadcasting large task binary with size 1727.2 KiB\n",
      "22/10/03 18:00:33 WARN DAGScheduler: Broadcasting large task binary with size 1728.1 KiB\n",
      "22/10/03 18:00:33 WARN DAGScheduler: Broadcasting large task binary with size 1728.6 KiB\n",
      "22/10/03 18:00:33 WARN DAGScheduler: Broadcasting large task binary with size 1729.3 KiB\n",
      "22/10/03 18:00:33 WARN DAGScheduler: Broadcasting large task binary with size 1730.3 KiB\n",
      "22/10/03 18:00:33 WARN DAGScheduler: Broadcasting large task binary with size 1732.6 KiB\n",
      "22/10/03 18:00:33 WARN DAGScheduler: Broadcasting large task binary with size 1736.6 KiB\n",
      "22/10/03 18:00:34 WARN DAGScheduler: Broadcasting large task binary with size 1744.2 KiB\n",
      "22/10/03 18:00:34 WARN DAGScheduler: Broadcasting large task binary with size 1757.4 KiB\n",
      "22/10/03 18:00:34 WARN DAGScheduler: Broadcasting large task binary with size 1779.5 KiB\n",
      "22/10/03 18:00:34 WARN DAGScheduler: Broadcasting large task binary with size 1816.6 KiB\n",
      "22/10/03 18:00:34 WARN DAGScheduler: Broadcasting large task binary with size 1816.5 KiB\n",
      "22/10/03 18:00:34 WARN DAGScheduler: Broadcasting large task binary with size 1817.0 KiB\n",
      "22/10/03 18:00:34 WARN DAGScheduler: Broadcasting large task binary with size 1817.7 KiB\n",
      "22/10/03 18:00:34 WARN DAGScheduler: Broadcasting large task binary with size 1818.7 KiB\n",
      "22/10/03 18:00:34 WARN DAGScheduler: Broadcasting large task binary with size 1821.1 KiB\n",
      "22/10/03 18:00:35 WARN DAGScheduler: Broadcasting large task binary with size 1825.7 KiB\n",
      "22/10/03 18:00:35 WARN DAGScheduler: Broadcasting large task binary with size 1834.8 KiB\n",
      "22/10/03 18:00:35 WARN DAGScheduler: Broadcasting large task binary with size 1851.6 KiB\n",
      "22/10/03 18:00:35 WARN DAGScheduler: Broadcasting large task binary with size 1879.3 KiB\n",
      "22/10/03 18:00:35 WARN DAGScheduler: Broadcasting large task binary with size 1923.5 KiB\n",
      "[Stage 8538:========================================>              (8 + 3) / 11]\r"
     ]
    },
    {
     "name": "stdout",
     "output_type": "stream",
     "text": [
      "fitting model took 33.907386779785156 seconds on 77530 rows\n"
     ]
    },
    {
     "name": "stderr",
     "output_type": "stream",
     "text": [
      "                                                                                \r"
     ]
    }
   ],
   "source": [
    "start = time.time()\n",
    "model = gbt.fit(trainingData)\n",
    "print('fitting model took {0} seconds on {1} rows'.format(time.time()-start,\n",
    "                                                         trainingData.count()))"
   ],
   "metadata": {
    "collapsed": false,
    "pycharm": {
     "name": "#%%\n"
    }
   }
  },
  {
   "cell_type": "markdown",
   "source": [
    "Trying SVM"
   ],
   "metadata": {
    "collapsed": false,
    "pycharm": {
     "name": "#%% md\n"
    }
   }
  },
  {
   "cell_type": "code",
   "execution_count": 650,
   "outputs": [],
   "source": [
    "# from pyspark.ml.regression import RandomForestRegressor\n",
    "# fm_model = RandomForestRegressor(labelCol='user_fraud_probability',\n",
    "#                    featuresCol=\"features_std\",\n",
    "#                    maxDepth=20,\n",
    "#                    seed=8439048371454442624)"
   ],
   "metadata": {
    "collapsed": false,
    "pycharm": {
     "name": "#%%\n"
    }
   }
  },
  {
   "cell_type": "code",
   "execution_count": 651,
   "outputs": [],
   "source": [
    "# start = time.time()\n",
    "# model = fm_model.fit(trainingData)\n",
    "# print('fitting model took {0} seconds on {1} rows'.format(time.time()-start,\n",
    "#                                                          trainingData.count()))"
   ],
   "metadata": {
    "collapsed": false,
    "pycharm": {
     "name": "#%%\n"
    }
   }
  },
  {
   "cell_type": "markdown",
   "source": [
    "Get Predictions"
   ],
   "metadata": {
    "collapsed": false,
    "pycharm": {
     "name": "#%% md\n"
    }
   }
  },
  {
   "cell_type": "code",
   "execution_count": 652,
   "outputs": [],
   "source": [
    "#predictions = fm_model.transform(testData)\n",
    "predictions = model.transform(testData)"
   ],
   "metadata": {
    "collapsed": false,
    "pycharm": {
     "name": "#%%\n"
    }
   }
  },
  {
   "cell_type": "code",
   "execution_count": 653,
   "outputs": [
    {
     "name": "stderr",
     "output_type": "stream",
     "text": [
      "[Stage 8540:>                                                       (0 + 1) / 1]\r"
     ]
    },
    {
     "name": "stdout",
     "output_type": "stream",
     "text": [
      "+--------------------+----------------------+--------------------+\n",
      "|          prediction|user_fraud_probability|            features|\n",
      "+--------------------+----------------------+--------------------+\n",
      "| 0.17002962762423207|   0.09000000000000001|[226.0,6.22043989...|\n",
      "|  0.6028440576410505|   0.16666666666666666|[711.0,1.55604555...|\n",
      "|-0.01744088165434...|   0.11666666666666665|[2002.0,4.3186523...|\n",
      "| 0.17179836046509342|   0.11666666666666665|[2002.0,6.4403598...|\n",
      "| 0.12854892714787877|                   0.5|[2092.0,2.0985347...|\n",
      "+--------------------+----------------------+--------------------+\n",
      "only showing top 5 rows\n",
      "\n"
     ]
    },
    {
     "name": "stderr",
     "output_type": "stream",
     "text": [
      "                                                                                \r"
     ]
    }
   ],
   "source": [
    "# show some of dem\n",
    "predictions.select(\"prediction\", \"user_fraud_probability\", \"features\").show(5)"
   ],
   "metadata": {
    "collapsed": false,
    "pycharm": {
     "name": "#%%\n"
    }
   }
  },
  {
   "cell_type": "markdown",
   "source": [
    "Evaluate"
   ],
   "metadata": {
    "collapsed": false,
    "pycharm": {
     "name": "#%% md\n"
    }
   }
  },
  {
   "cell_type": "code",
   "execution_count": 654,
   "outputs": [
    {
     "name": "stderr",
     "output_type": "stream",
     "text": [
      "                                                                                \r"
     ]
    },
    {
     "data": {
      "text/plain": "+-------+--------------------+----------------------+\n|summary|          prediction|user_fraud_probability|\n+-------+--------------------+----------------------+\n|  count|               33295|                 33295|\n|   mean| 0.13931348024536744|    0.1527515752661847|\n| stddev| 0.06949013753459096|   0.08980320108471007|\n|    min|-0.32845186188156195|                  0.08|\n|    max|  0.9099235713410538|                  0.95|\n+-------+--------------------+----------------------+",
      "text/html": "<table border='1'>\n<tr><th>summary</th><th>prediction</th><th>user_fraud_probability</th></tr>\n<tr><td>count</td><td>33295</td><td>33295</td></tr>\n<tr><td>mean</td><td>0.13931348024536744</td><td>0.1527515752661847</td></tr>\n<tr><td>stddev</td><td>0.06949013753459096</td><td>0.08980320108471007</td></tr>\n<tr><td>min</td><td>-0.32845186188156195</td><td>0.08</td></tr>\n<tr><td>max</td><td>0.9099235713410538</td><td>0.95</td></tr>\n</table>\n"
     },
     "execution_count": 654,
     "metadata": {},
     "output_type": "execute_result"
    }
   ],
   "source": [
    "predictions.select(['prediction', 'user_fraud_probability']).describe()"
   ],
   "metadata": {
    "collapsed": false,
    "pycharm": {
     "name": "#%%\n"
    }
   }
  },
  {
   "cell_type": "code",
   "execution_count": 655,
   "outputs": [],
   "source": [
    "# we have an issue -> it is not predicting tail end fraud probabilities..."
   ],
   "metadata": {
    "collapsed": false,
    "pycharm": {
     "name": "#%%\n"
    }
   }
  },
  {
   "cell_type": "code",
   "execution_count": 656,
   "outputs": [
    {
     "name": "stderr",
     "output_type": "stream",
     "text": [
      "[Stage 8545:========================================>              (8 + 3) / 11]\r"
     ]
    },
    {
     "name": "stdout",
     "output_type": "stream",
     "text": [
      "Root Mean Squared Error (RMSE) on test data = 0.110481\n",
      "Mean Average Error (MAE) on test data = 0.0731813\n"
     ]
    },
    {
     "name": "stderr",
     "output_type": "stream",
     "text": [
      "                                                                                \r"
     ]
    }
   ],
   "source": [
    "rmse_evaluator = RegressionEvaluator(\n",
    "    labelCol=\"user_fraud_probability\",\n",
    "    predictionCol=\"prediction\",\n",
    "    metricName=\"rmse\")\n",
    "rmse = rmse_evaluator.evaluate(predictions)\n",
    "\n",
    "mae_evaluator = RegressionEvaluator(\n",
    "    labelCol=\"user_fraud_probability\",\n",
    "    predictionCol=\"prediction\",\n",
    "    metricName=\"mae\")\n",
    "mae = mae_evaluator.evaluate(predictions)\n",
    "\n",
    "print(\"Root Mean Squared Error (RMSE) on test data = %g\" % rmse)\n",
    "print(\"Mean Average Error (MAE) on test data = %g\" % mae)\n"
   ],
   "metadata": {
    "collapsed": false,
    "pycharm": {
     "name": "#%%\n"
    }
   }
  },
  {
   "cell_type": "code",
   "execution_count": 657,
   "outputs": [],
   "source": [
    "#predictions = predictions.withColumn('user_fraud_probability_un',\n",
    "#                     (F.exp('user_fraud_probability'))) \\\n",
    "#         .withColumn('prediction_un', (F.exp('prediction')))"
   ],
   "metadata": {
    "collapsed": false,
    "pycharm": {
     "name": "#%%\n"
    }
   }
  },
  {
   "cell_type": "code",
   "execution_count": 688,
   "outputs": [
    {
     "name": "stderr",
     "output_type": "stream",
     "text": [
      "                                                                                \r"
     ]
    }
   ],
   "source": [
    "#res = predictions.select(['prediction_un', 'user_fraud_probability_un']).toPandas()\n",
    "res = predictions.select(['prediction', 'user_fraud_probability']).toPandas()"
   ],
   "metadata": {
    "collapsed": false,
    "pycharm": {
     "name": "#%%\n"
    }
   }
  },
  {
   "cell_type": "code",
   "execution_count": 689,
   "outputs": [],
   "source": [
    "#trues = predictions.select('user_fraud_probability').toPandas()"
   ],
   "metadata": {
    "collapsed": false,
    "pycharm": {
     "name": "#%%\n"
    }
   }
  },
  {
   "cell_type": "code",
   "execution_count": 690,
   "outputs": [],
   "source": [
    "#res = predictions.select(['user_fraud_probability', 'prediction']).toPandas()"
   ],
   "metadata": {
    "collapsed": false,
    "pycharm": {
     "name": "#%%\n"
    }
   }
  },
  {
   "cell_type": "code",
   "execution_count": 691,
   "outputs": [],
   "source": [
    "import seaborn as sns"
   ],
   "metadata": {
    "collapsed": false,
    "pycharm": {
     "name": "#%%\n"
    }
   }
  },
  {
   "cell_type": "code",
   "execution_count": 692,
   "outputs": [],
   "source": [
    "#sns.boxplot(preds['prediction'])"
   ],
   "metadata": {
    "collapsed": false,
    "pycharm": {
     "name": "#%%\n"
    }
   }
  },
  {
   "cell_type": "code",
   "execution_count": 693,
   "outputs": [],
   "source": [
    "#sns.boxplot(trues['user_fraud_probability'])"
   ],
   "metadata": {
    "collapsed": false,
    "pycharm": {
     "name": "#%%\n"
    }
   }
  },
  {
   "cell_type": "code",
   "execution_count": 694,
   "outputs": [
    {
     "data": {
      "text/plain": "<AxesSubplot:>"
     },
     "execution_count": 694,
     "metadata": {},
     "output_type": "execute_result"
    },
    {
     "data": {
      "text/plain": "<Figure size 432x288 with 1 Axes>",
      "image/png": "[encoded data removed]"
     },
     "metadata": {},
     "output_type": "display_data"
    }
   ],
   "source": [
    "sns.boxplot(data=res)"
   ],
   "metadata": {
    "collapsed": false,
    "pycharm": {
     "name": "#%%\n"
    }
   }
  },
  {
   "cell_type": "code",
   "execution_count": 665,
   "outputs": [],
   "source": [
    "#model.getSeed()"
   ],
   "metadata": {
    "collapsed": false,
    "pycharm": {
     "name": "#%%\n"
    }
   }
  },
  {
   "cell_type": "markdown",
   "source": [
    "Inspect feature importances"
   ],
   "metadata": {
    "collapsed": false,
    "pycharm": {
     "name": "#%% md\n"
    }
   }
  },
  {
   "cell_type": "code",
   "execution_count": 666,
   "outputs": [],
   "source": [
    "#Source: timlrx.com/blog/feature-selection-using-feature-importance-score-creating-a-pyspark-estimator\n",
    "#import pandas as pd\n",
    "def extract_feature_imp(featureImp, dataset, featuresCol):\n",
    "    list_extract = []\n",
    "    for i in dataset.schema[featuresCol].metadata[\"ml_attr\"][\"attrs\"]:\n",
    "        list_extract = list_extract + dataset.schema[featuresCol].metadata[\"ml_attr\"][\"attrs\"][i]\n",
    "    varlist = pd.DataFrame(list_extract)\n",
    "    varlist['score'] = varlist['idx'].apply(lambda x: featureImp[x])\n",
    "    return(varlist.sort_values('score', ascending = False))"
   ],
   "metadata": {
    "collapsed": false,
    "pycharm": {
     "name": "#%%\n"
    }
   }
  },
  {
   "cell_type": "code",
   "execution_count": 667,
   "outputs": [],
   "source": [
    "#extract_feature_imp(model.featureImportances, predictions, \"features\").round(decimals=4).head(10)"
   ],
   "metadata": {
    "collapsed": false,
    "pycharm": {
     "name": "#%%\n"
    }
   }
  },
  {
   "cell_type": "code",
   "execution_count": 668,
   "outputs": [
    {
     "data": {
      "text/plain": "       prediction_un  user_fraud_probability_un\n0           1.185340                   1.094174\n1           1.827308                   1.181360\n2           0.982710                   1.123745\n3           1.187438                   1.123745\n4           1.137177                   1.648721\n...              ...                        ...\n33290       1.208212                   1.112563\n33291       1.081066                   1.112563\n33292       1.351839                   1.150274\n33293       1.204424                   1.150274\n33294       1.065515                   1.209250\n\n[33295 rows x 2 columns]",
      "text/html": "<div>\n<style scoped>\n    .dataframe tbody tr th:only-of-type {\n        vertical-align: middle;\n    }\n\n    .dataframe tbody tr th {\n        vertical-align: top;\n    }\n\n    .dataframe thead th {\n        text-align: right;\n    }\n</style>\n<table border=\"1\" class=\"dataframe\">\n  <thead>\n    <tr style=\"text-align: right;\">\n      <th></th>\n      <th>prediction_un</th>\n      <th>user_fraud_probability_un</th>\n    </tr>\n  </thead>\n  <tbody>\n    <tr>\n      <th>0</th>\n      <td>1.185340</td>\n      <td>1.094174</td>\n    </tr>\n    <tr>\n      <th>1</th>\n      <td>1.827308</td>\n      <td>1.181360</td>\n    </tr>\n    <tr>\n      <th>2</th>\n      <td>0.982710</td>\n      <td>1.123745</td>\n    </tr>\n    <tr>\n      <th>3</th>\n      <td>1.187438</td>\n      <td>1.123745</td>\n    </tr>\n    <tr>\n      <th>4</th>\n      <td>1.137177</td>\n      <td>1.648721</td>\n    </tr>\n    <tr>\n      <th>...</th>\n      <td>...</td>\n      <td>...</td>\n    </tr>\n    <tr>\n      <th>33290</th>\n      <td>1.208212</td>\n      <td>1.112563</td>\n    </tr>\n    <tr>\n      <th>33291</th>\n      <td>1.081066</td>\n      <td>1.112563</td>\n    </tr>\n    <tr>\n      <th>33292</th>\n      <td>1.351839</td>\n      <td>1.150274</td>\n    </tr>\n    <tr>\n      <th>33293</th>\n      <td>1.204424</td>\n      <td>1.150274</td>\n    </tr>\n    <tr>\n      <th>33294</th>\n      <td>1.065515</td>\n      <td>1.209250</td>\n    </tr>\n  </tbody>\n</table>\n<p>33295 rows × 2 columns</p>\n</div>"
     },
     "execution_count": 668,
     "metadata": {},
     "output_type": "execute_result"
    }
   ],
   "source": [
    "res"
   ],
   "metadata": {
    "collapsed": false,
    "pycharm": {
     "name": "#%%\n"
    }
   }
  },
  {
   "cell_type": "code",
   "execution_count": 669,
   "outputs": [
    {
     "data": {
      "text/plain": "33295"
     },
     "execution_count": 669,
     "metadata": {},
     "output_type": "execute_result"
    }
   ],
   "source": [
    "(res['prediction_un'] > 0.5).sum()"
   ],
   "metadata": {
    "collapsed": false,
    "pycharm": {
     "name": "#%%\n"
    }
   }
  },
  {
   "cell_type": "code",
   "execution_count": 670,
   "outputs": [
    {
     "data": {
      "text/plain": "33295"
     },
     "execution_count": 670,
     "metadata": {},
     "output_type": "execute_result"
    }
   ],
   "source": [
    "(res['user_fraud_probability_un'] > 0.5).sum()"
   ],
   "metadata": {
    "collapsed": false,
    "pycharm": {
     "name": "#%%\n"
    }
   }
  },
  {
   "cell_type": "code",
   "execution_count": 670,
   "outputs": [],
   "source": [],
   "metadata": {
    "collapsed": false,
    "pycharm": {
     "name": "#%%\n"
    }
   }
  },
  {
   "cell_type": "markdown",
   "source": [
    "The problem is the imbalanced dataset -> solutions?\n",
    "* Undersample\n",
    "* Oversample\n",
    "\n",
    "Lets try undersampling"
   ],
   "metadata": {
    "collapsed": false,
    "pycharm": {
     "name": "#%% md\n"
    }
   }
  },
  {
   "cell_type": "code",
   "execution_count": 671,
   "outputs": [
    {
     "data": {
      "text/plain": "+-----------+--------+------------+-------+----------------------+------+------------+----+--------------------+\n|consumer_id|postcode|merchant_abn|revenue|user_fraud_probability|gender|dollar_value|rate|                 tag|\n+-----------+--------+------------+-------+----------------------+------+------------+----+--------------------+\n|     133032|    3043| 14492521225|      c|                 0.098|Female|       28.52| 2.5|tent and awning s...|\n|     133032|    3043| 63300242141|      c|                 0.098|Female|       10.36|1.62|digital goods: bo...|\n|     133032|    3043| 96491286698|      b|                 0.098|Female|      520.01|4.87|furniture, home f...|\n|     133032|    3043| 95574756848|      a|                 0.098|Female|      272.45|6.15|opticians, optica...|\n|     133032|    3043| 79417999332|      b|                 0.098|Female|       84.34|4.95|gift, card, novel...|\n+-----------+--------+------------+-------+----------------------+------+------------+----+--------------------+",
      "text/html": "<table border='1'>\n<tr><th>consumer_id</th><th>postcode</th><th>merchant_abn</th><th>revenue</th><th>user_fraud_probability</th><th>gender</th><th>dollar_value</th><th>rate</th><th>tag</th></tr>\n<tr><td>133032</td><td>3043</td><td>14492521225</td><td>c</td><td>0.098</td><td>Female</td><td>28.52</td><td>2.5</td><td>tent and awning s...</td></tr>\n<tr><td>133032</td><td>3043</td><td>63300242141</td><td>c</td><td>0.098</td><td>Female</td><td>10.36</td><td>1.62</td><td>digital goods: bo...</td></tr>\n<tr><td>133032</td><td>3043</td><td>96491286698</td><td>b</td><td>0.098</td><td>Female</td><td>520.01</td><td>4.87</td><td>furniture, home f...</td></tr>\n<tr><td>133032</td><td>3043</td><td>95574756848</td><td>a</td><td>0.098</td><td>Female</td><td>272.45</td><td>6.15</td><td>opticians, optica...</td></tr>\n<tr><td>133032</td><td>3043</td><td>79417999332</td><td>b</td><td>0.098</td><td>Female</td><td>84.34</td><td>4.95</td><td>gift, card, novel...</td></tr>\n</table>\n"
     },
     "execution_count": 671,
     "metadata": {},
     "output_type": "execute_result"
    }
   ],
   "source": [
    "data.limit(5)"
   ],
   "metadata": {
    "collapsed": false,
    "pycharm": {
     "name": "#%%\n"
    }
   }
  },
  {
   "cell_type": "code",
   "execution_count": 672,
   "outputs": [
    {
     "name": "stderr",
     "output_type": "stream",
     "text": [
      "                                                                                \r"
     ]
    }
   ],
   "source": [
    "ufp_dst = data.select('user_fraud_probability').toPandas()"
   ],
   "metadata": {
    "collapsed": false,
    "pycharm": {
     "name": "#%%\n"
    }
   }
  },
  {
   "cell_type": "code",
   "execution_count": 673,
   "outputs": [
    {
     "name": "stderr",
     "output_type": "stream",
     "text": [
      "/home/noahs/miniconda3/lib/python3.8/site-packages/seaborn/_decorators.py:36: FutureWarning: Pass the following variable as a keyword arg: x. From version 0.12, the only valid positional argument will be `data`, and passing other arguments without an explicit keyword will result in an error or misinterpretation.\n",
      "  warnings.warn(\n"
     ]
    },
    {
     "data": {
      "text/plain": "<AxesSubplot:xlabel='user_fraud_probability'>"
     },
     "execution_count": 673,
     "metadata": {},
     "output_type": "execute_result"
    },
    {
     "data": {
      "text/plain": "<Figure size 432x288 with 1 Axes>",
      "image/png": "[encoded data removed]"
     },
     "metadata": {},
     "output_type": "display_data"
    }
   ],
   "source": [
    "sns.boxplot(ufp_dst['user_fraud_probability'])"
   ],
   "metadata": {
    "collapsed": false,
    "pycharm": {
     "name": "#%%\n"
    }
   }
  },
  {
   "cell_type": "code",
   "execution_count": 674,
   "outputs": [],
   "source": [
    "from pyspark.ml.feature import QuantileDiscretizer"
   ],
   "metadata": {
    "collapsed": false,
    "pycharm": {
     "name": "#%%\n"
    }
   }
  },
  {
   "cell_type": "code",
   "execution_count": 675,
   "outputs": [
    {
     "name": "stderr",
     "output_type": "stream",
     "text": [
      "                                                                                \r"
     ]
    }
   ],
   "source": [
    "steps = QuantileDiscretizer(numBuckets=10,\n",
    "                            inputCol='user_fraud_probability',\n",
    "                            outputCol='ufp_disretized').fit(data)"
   ],
   "metadata": {
    "collapsed": false,
    "pycharm": {
     "name": "#%%\n"
    }
   }
  },
  {
   "cell_type": "code",
   "execution_count": 676,
   "outputs": [],
   "source": [
    "df_discretized = steps.transform(data)"
   ],
   "metadata": {
    "collapsed": false,
    "pycharm": {
     "name": "#%%\n"
    }
   }
  },
  {
   "cell_type": "code",
   "execution_count": 677,
   "outputs": [
    {
     "data": {
      "text/plain": "+-----------+--------+------------+-------+----------------------+------+------------+----+--------------------+--------------+\n|consumer_id|postcode|merchant_abn|revenue|user_fraud_probability|gender|dollar_value|rate|                 tag|ufp_disretized|\n+-----------+--------+------------+-------+----------------------+------+------------+----+--------------------+--------------+\n|     133032|    3043| 14492521225|      c|                 0.098|Female|       28.52| 2.5|tent and awning s...|           1.0|\n|     133032|    3043| 63300242141|      c|                 0.098|Female|       10.36|1.62|digital goods: bo...|           1.0|\n|     133032|    3043| 96491286698|      b|                 0.098|Female|      520.01|4.87|furniture, home f...|           1.0|\n|     133032|    3043| 95574756848|      a|                 0.098|Female|      272.45|6.15|opticians, optica...|           1.0|\n|     133032|    3043| 79417999332|      b|                 0.098|Female|       84.34|4.95|gift, card, novel...|           1.0|\n+-----------+--------+------------+-------+----------------------+------+------------+----+--------------------+--------------+",
      "text/html": "<table border='1'>\n<tr><th>consumer_id</th><th>postcode</th><th>merchant_abn</th><th>revenue</th><th>user_fraud_probability</th><th>gender</th><th>dollar_value</th><th>rate</th><th>tag</th><th>ufp_disretized</th></tr>\n<tr><td>133032</td><td>3043</td><td>14492521225</td><td>c</td><td>0.098</td><td>Female</td><td>28.52</td><td>2.5</td><td>tent and awning s...</td><td>1.0</td></tr>\n<tr><td>133032</td><td>3043</td><td>63300242141</td><td>c</td><td>0.098</td><td>Female</td><td>10.36</td><td>1.62</td><td>digital goods: bo...</td><td>1.0</td></tr>\n<tr><td>133032</td><td>3043</td><td>96491286698</td><td>b</td><td>0.098</td><td>Female</td><td>520.01</td><td>4.87</td><td>furniture, home f...</td><td>1.0</td></tr>\n<tr><td>133032</td><td>3043</td><td>95574756848</td><td>a</td><td>0.098</td><td>Female</td><td>272.45</td><td>6.15</td><td>opticians, optica...</td><td>1.0</td></tr>\n<tr><td>133032</td><td>3043</td><td>79417999332</td><td>b</td><td>0.098</td><td>Female</td><td>84.34</td><td>4.95</td><td>gift, card, novel...</td><td>1.0</td></tr>\n</table>\n"
     },
     "execution_count": 677,
     "metadata": {},
     "output_type": "execute_result"
    }
   ],
   "source": [
    "df_discretized.limit(5)"
   ],
   "metadata": {
    "collapsed": false,
    "pycharm": {
     "name": "#%%\n"
    }
   }
  },
  {
   "cell_type": "code",
   "execution_count": 678,
   "outputs": [],
   "source": [
    "ff = df_discretized.select(['user_fraud_probability', 'ufp_disretized'])"
   ],
   "metadata": {
    "collapsed": false,
    "pycharm": {
     "name": "#%%\n"
    }
   }
  },
  {
   "cell_type": "code",
   "execution_count": 679,
   "outputs": [
    {
     "name": "stderr",
     "output_type": "stream",
     "text": [
      "                                                                                \r"
     ]
    },
    {
     "data": {
      "text/plain": "+--------------+-----+\n|ufp_disretized|count|\n+--------------+-----+\n|           8.0|11604|\n|           0.0| 4112|\n|           7.0|10317|\n|           1.0|16067|\n|           4.0|10630|\n|           3.0|11383|\n|           2.0|12611|\n|           6.0|10896|\n|           5.0|11596|\n|           9.0|11609|\n+--------------+-----+",
      "text/html": "<table border='1'>\n<tr><th>ufp_disretized</th><th>count</th></tr>\n<tr><td>8.0</td><td>11604</td></tr>\n<tr><td>0.0</td><td>4112</td></tr>\n<tr><td>7.0</td><td>10317</td></tr>\n<tr><td>1.0</td><td>16067</td></tr>\n<tr><td>4.0</td><td>10630</td></tr>\n<tr><td>3.0</td><td>11383</td></tr>\n<tr><td>2.0</td><td>12611</td></tr>\n<tr><td>6.0</td><td>10896</td></tr>\n<tr><td>5.0</td><td>11596</td></tr>\n<tr><td>9.0</td><td>11609</td></tr>\n</table>\n"
     },
     "execution_count": 679,
     "metadata": {},
     "output_type": "execute_result"
    }
   ],
   "source": [
    "ff.select('ufp_disretized').groupby('ufp_disretized').count()"
   ],
   "metadata": {
    "collapsed": false,
    "pycharm": {
     "name": "#%%\n"
    }
   }
  },
  {
   "cell_type": "code",
   "execution_count": 680,
   "outputs": [],
   "source": [
    "numBins = 10"
   ],
   "metadata": {
    "collapsed": false,
    "pycharm": {
     "name": "#%%\n"
    }
   }
  },
  {
   "cell_type": "code",
   "execution_count": 698,
   "outputs": [
    {
     "name": "stdout",
     "output_type": "stream",
     "text": [
      "{0: 0.1, 1: 0.1, 2: 0.1, 3: 0.1, 4: 0.1, 5: 0.1, 6: 0.1, 7: 0.1, 8: 0.1, 9: 0.1}\n"
     ]
    }
   ],
   "source": [
    "fracs = {x : 1 / numBins for x in range(0,numBins)}\n",
    "print(fracs)\n",
    "#fracs2 = {0: 0.1, 1: 0.1, 2: 0.1, 3: 0.1, 4: 0.1, 5: 0.1, 6: 0.1, 7: 0.1, 8: 0.1, 9: 0.4, 10: 0.5}"
   ],
   "metadata": {
    "collapsed": false,
    "pycharm": {
     "name": "#%%\n"
    }
   }
  },
  {
   "cell_type": "code",
   "execution_count": 699,
   "outputs": [],
   "source": [
    "#subsample = df_discretized.sampleBy('ufp_disretized', fractions = fracs2, seed=56)\n",
    "subsample = df_discretized.sampleBy('ufp_disretized', fractions = fracs, seed=56)"
   ],
   "metadata": {
    "collapsed": false,
    "pycharm": {
     "name": "#%%\n"
    }
   }
  },
  {
   "cell_type": "code",
   "execution_count": 700,
   "outputs": [
    {
     "name": "stderr",
     "output_type": "stream",
     "text": [
      "                                                                                \r"
     ]
    }
   ],
   "source": [
    "gg = subsample.select(['user_fraud_probability', 'ufp_disretized']).toPandas()"
   ],
   "metadata": {
    "collapsed": false,
    "pycharm": {
     "name": "#%%\n"
    }
   }
  },
  {
   "cell_type": "code",
   "execution_count": 701,
   "outputs": [
    {
     "name": "stderr",
     "output_type": "stream",
     "text": [
      "/home/noahs/miniconda3/lib/python3.8/site-packages/seaborn/_decorators.py:36: FutureWarning: Pass the following variable as a keyword arg: x. From version 0.12, the only valid positional argument will be `data`, and passing other arguments without an explicit keyword will result in an error or misinterpretation.\n",
      "  warnings.warn(\n"
     ]
    },
    {
     "data": {
      "text/plain": "<AxesSubplot:xlabel='user_fraud_probability'>"
     },
     "execution_count": 701,
     "metadata": {},
     "output_type": "execute_result"
    },
    {
     "data": {
      "text/plain": "<Figure size 432x288 with 1 Axes>",
      "image/png": "[encoded data removed]"
     },
     "metadata": {},
     "output_type": "display_data"
    }
   ],
   "source": [
    "sns.boxplot(gg['user_fraud_probability'])"
   ],
   "metadata": {
    "collapsed": false,
    "pycharm": {
     "name": "#%%\n"
    }
   }
  },
  {
   "cell_type": "code",
   "execution_count": 702,
   "outputs": [
    {
     "data": {
      "text/plain": "<AxesSubplot:xlabel='ufp_disretized', ylabel='user_fraud_probability'>"
     },
     "execution_count": 702,
     "metadata": {},
     "output_type": "execute_result"
    },
    {
     "data": {
      "text/plain": "<Figure size 432x288 with 1 Axes>",
      "image/png": "[encoded data removed]"
     },
     "metadata": {},
     "output_type": "display_data"
    }
   ],
   "source": [
    "sns.scatterplot(x='ufp_disretized', y='user_fraud_probability', data=gg)\n",
    "#sns.scatterplot(gg)"
   ],
   "metadata": {
    "collapsed": false,
    "pycharm": {
     "name": "#%%\n"
    }
   }
  },
  {
   "cell_type": "code",
   "execution_count": 703,
   "outputs": [
    {
     "name": "stderr",
     "output_type": "stream",
     "text": [
      "                                                                                \r"
     ]
    },
    {
     "data": {
      "text/plain": "11132"
     },
     "execution_count": 703,
     "metadata": {},
     "output_type": "execute_result"
    }
   ],
   "source": [
    "subsample.count()"
   ],
   "metadata": {
    "collapsed": false,
    "pycharm": {
     "name": "#%%\n"
    }
   }
  },
  {
   "cell_type": "code",
   "execution_count": 711,
   "outputs": [
    {
     "name": "stderr",
     "output_type": "stream",
     "text": [
      "                                                                                \r"
     ]
    },
    {
     "data": {
      "text/plain": "+--------------+-----+\n|ufp_disretized|count|\n+--------------+-----+\n|           8.0| 1165|\n|           0.0|  417|\n|           7.0| 1049|\n|           1.0| 1600|\n|           4.0| 1077|\n|           3.0| 1126|\n|           2.0| 1239|\n|           6.0| 1102|\n|           5.0| 1182|\n|           9.0| 1175|\n+--------------+-----+",
      "text/html": "<table border='1'>\n<tr><th>ufp_disretized</th><th>count</th></tr>\n<tr><td>8.0</td><td>1165</td></tr>\n<tr><td>0.0</td><td>417</td></tr>\n<tr><td>7.0</td><td>1049</td></tr>\n<tr><td>1.0</td><td>1600</td></tr>\n<tr><td>4.0</td><td>1077</td></tr>\n<tr><td>3.0</td><td>1126</td></tr>\n<tr><td>2.0</td><td>1239</td></tr>\n<tr><td>6.0</td><td>1102</td></tr>\n<tr><td>5.0</td><td>1182</td></tr>\n<tr><td>9.0</td><td>1175</td></tr>\n</table>\n"
     },
     "execution_count": 711,
     "metadata": {},
     "output_type": "execute_result"
    }
   ],
   "source": [
    "subsample.groupby('ufp_disretized').count()"
   ],
   "metadata": {
    "collapsed": false,
    "pycharm": {
     "name": "#%%\n"
    }
   }
  },
  {
   "cell_type": "code",
   "execution_count": 704,
   "outputs": [
    {
     "name": "stderr",
     "output_type": "stream",
     "text": [
      "                                                                                \r"
     ]
    },
    {
     "data": {
      "text/plain": "110825"
     },
     "execution_count": 704,
     "metadata": {},
     "output_type": "execute_result"
    }
   ],
   "source": [
    "df_discretized.count()"
   ],
   "metadata": {
    "collapsed": false,
    "pycharm": {
     "name": "#%%\n"
    }
   }
  },
  {
   "cell_type": "code",
   "execution_count": 706,
   "outputs": [],
   "source": [
    "last_bin = gg[gg['ufp_disretized'] == 9]"
   ],
   "metadata": {
    "collapsed": false,
    "pycharm": {
     "name": "#%%\n"
    }
   }
  },
  {
   "cell_type": "code",
   "execution_count": 707,
   "outputs": [
    {
     "data": {
      "text/plain": "       user_fraud_probability  ufp_disretized\ncount             1175.000000          1175.0\nmean                 0.372677             9.0\nstd                  0.136660             0.0\nmin                  0.240000             9.0\n25%                  0.270000             9.0\n50%                  0.325000             9.0\n75%                  0.435625             9.0\nmax                  0.930000             9.0",
      "text/html": "<div>\n<style scoped>\n    .dataframe tbody tr th:only-of-type {\n        vertical-align: middle;\n    }\n\n    .dataframe tbody tr th {\n        vertical-align: top;\n    }\n\n    .dataframe thead th {\n        text-align: right;\n    }\n</style>\n<table border=\"1\" class=\"dataframe\">\n  <thead>\n    <tr style=\"text-align: right;\">\n      <th></th>\n      <th>user_fraud_probability</th>\n      <th>ufp_disretized</th>\n    </tr>\n  </thead>\n  <tbody>\n    <tr>\n      <th>count</th>\n      <td>1175.000000</td>\n      <td>1175.0</td>\n    </tr>\n    <tr>\n      <th>mean</th>\n      <td>0.372677</td>\n      <td>9.0</td>\n    </tr>\n    <tr>\n      <th>std</th>\n      <td>0.136660</td>\n      <td>0.0</td>\n    </tr>\n    <tr>\n      <th>min</th>\n      <td>0.240000</td>\n      <td>9.0</td>\n    </tr>\n    <tr>\n      <th>25%</th>\n      <td>0.270000</td>\n      <td>9.0</td>\n    </tr>\n    <tr>\n      <th>50%</th>\n      <td>0.325000</td>\n      <td>9.0</td>\n    </tr>\n    <tr>\n      <th>75%</th>\n      <td>0.435625</td>\n      <td>9.0</td>\n    </tr>\n    <tr>\n      <th>max</th>\n      <td>0.930000</td>\n      <td>9.0</td>\n    </tr>\n  </tbody>\n</table>\n</div>"
     },
     "execution_count": 707,
     "metadata": {},
     "output_type": "execute_result"
    }
   ],
   "source": [
    "last_bin.describe()"
   ],
   "metadata": {
    "collapsed": false,
    "pycharm": {
     "name": "#%%\n"
    }
   }
  },
  {
   "cell_type": "code",
   "execution_count": 709,
   "outputs": [
    {
     "name": "stderr",
     "output_type": "stream",
     "text": [
      "/home/noahs/miniconda3/lib/python3.8/site-packages/seaborn/_decorators.py:36: FutureWarning: Pass the following variable as a keyword arg: x. From version 0.12, the only valid positional argument will be `data`, and passing other arguments without an explicit keyword will result in an error or misinterpretation.\n",
      "  warnings.warn(\n"
     ]
    },
    {
     "data": {
      "text/plain": "<AxesSubplot:xlabel='user_fraud_probability'>"
     },
     "execution_count": 709,
     "metadata": {},
     "output_type": "execute_result"
    },
    {
     "data": {
      "text/plain": "<Figure size 432x288 with 1 Axes>",
      "image/png": "[encoded data removed]"
     },
     "metadata": {},
     "output_type": "display_data"
    }
   ],
   "source": [
    "sns.boxplot(last_bin['user_fraud_probability'])"
   ],
   "metadata": {
    "collapsed": false,
    "pycharm": {
     "name": "#%%\n"
    }
   }
  },
  {
   "cell_type": "code",
   "execution_count": 714,
   "outputs": [],
   "source": [
    "bin5 = gg[gg['ufp_disretized'] == 5]"
   ],
   "metadata": {
    "collapsed": false,
    "pycharm": {
     "name": "#%%\n"
    }
   }
  },
  {
   "cell_type": "code",
   "execution_count": 715,
   "outputs": [
    {
     "name": "stderr",
     "output_type": "stream",
     "text": [
      "/home/noahs/miniconda3/lib/python3.8/site-packages/seaborn/_decorators.py:36: FutureWarning: Pass the following variable as a keyword arg: x. From version 0.12, the only valid positional argument will be `data`, and passing other arguments without an explicit keyword will result in an error or misinterpretation.\n",
      "  warnings.warn(\n"
     ]
    },
    {
     "data": {
      "text/plain": "<AxesSubplot:xlabel='user_fraud_probability'>"
     },
     "execution_count": 715,
     "metadata": {},
     "output_type": "execute_result"
    },
    {
     "data": {
      "text/plain": "<Figure size 432x288 with 1 Axes>",
      "image/png": "[encoded data removed]"
     },
     "metadata": {},
     "output_type": "display_data"
    }
   ],
   "source": [
    "sns.boxplot(bin5['user_fraud_probability'])"
   ],
   "metadata": {
    "collapsed": false,
    "pycharm": {
     "name": "#%%\n"
    }
   }
  },
  {
   "cell_type": "code",
   "execution_count": 716,
   "outputs": [],
   "source": [
    "import matplotlib.pyplot as plt"
   ],
   "metadata": {
    "collapsed": false,
    "pycharm": {
     "name": "#%%\n"
    }
   }
  },
  {
   "cell_type": "code",
   "execution_count": 719,
   "outputs": [
    {
     "ename": "TypeError",
     "evalue": "'Column' object is not callable",
     "output_type": "error",
     "traceback": [
      "\u001B[0;31m---------------------------------------------------------------------------\u001B[0m",
      "\u001B[0;31mTypeError\u001B[0m                                 Traceback (most recent call last)",
      "Input \u001B[0;32mIn [719]\u001B[0m, in \u001B[0;36m<cell line: 1>\u001B[0;34m()\u001B[0m\n\u001B[0;32m----> 1\u001B[0m \u001B[43mplt\u001B[49m\u001B[38;5;241;43m.\u001B[39;49m\u001B[43mhist\u001B[49m\u001B[43m(\u001B[49m\u001B[43mx\u001B[49m\u001B[38;5;241;43m=\u001B[39;49m\u001B[43mff\u001B[49m\u001B[43m[\u001B[49m\u001B[38;5;124;43m'\u001B[39;49m\u001B[38;5;124;43muser_fraud_probability\u001B[39;49m\u001B[38;5;124;43m'\u001B[39;49m\u001B[43m]\u001B[49m\u001B[43m)\u001B[49m\n",
      "File \u001B[0;32m~/miniconda3/lib/python3.8/site-packages/matplotlib/pyplot.py:2590\u001B[0m, in \u001B[0;36mhist\u001B[0;34m(x, bins, range, density, weights, cumulative, bottom, histtype, align, orientation, rwidth, log, color, label, stacked, data, **kwargs)\u001B[0m\n\u001B[1;32m   2584\u001B[0m \u001B[38;5;129m@_copy_docstring_and_deprecators\u001B[39m(Axes\u001B[38;5;241m.\u001B[39mhist)\n\u001B[1;32m   2585\u001B[0m \u001B[38;5;28;01mdef\u001B[39;00m \u001B[38;5;21mhist\u001B[39m(\n\u001B[1;32m   2586\u001B[0m         x, bins\u001B[38;5;241m=\u001B[39m\u001B[38;5;28;01mNone\u001B[39;00m, \u001B[38;5;28mrange\u001B[39m\u001B[38;5;241m=\u001B[39m\u001B[38;5;28;01mNone\u001B[39;00m, density\u001B[38;5;241m=\u001B[39m\u001B[38;5;28;01mFalse\u001B[39;00m, weights\u001B[38;5;241m=\u001B[39m\u001B[38;5;28;01mNone\u001B[39;00m,\n\u001B[1;32m   2587\u001B[0m         cumulative\u001B[38;5;241m=\u001B[39m\u001B[38;5;28;01mFalse\u001B[39;00m, bottom\u001B[38;5;241m=\u001B[39m\u001B[38;5;28;01mNone\u001B[39;00m, histtype\u001B[38;5;241m=\u001B[39m\u001B[38;5;124m'\u001B[39m\u001B[38;5;124mbar\u001B[39m\u001B[38;5;124m'\u001B[39m, align\u001B[38;5;241m=\u001B[39m\u001B[38;5;124m'\u001B[39m\u001B[38;5;124mmid\u001B[39m\u001B[38;5;124m'\u001B[39m,\n\u001B[1;32m   2588\u001B[0m         orientation\u001B[38;5;241m=\u001B[39m\u001B[38;5;124m'\u001B[39m\u001B[38;5;124mvertical\u001B[39m\u001B[38;5;124m'\u001B[39m, rwidth\u001B[38;5;241m=\u001B[39m\u001B[38;5;28;01mNone\u001B[39;00m, log\u001B[38;5;241m=\u001B[39m\u001B[38;5;28;01mFalse\u001B[39;00m, color\u001B[38;5;241m=\u001B[39m\u001B[38;5;28;01mNone\u001B[39;00m,\n\u001B[1;32m   2589\u001B[0m         label\u001B[38;5;241m=\u001B[39m\u001B[38;5;28;01mNone\u001B[39;00m, stacked\u001B[38;5;241m=\u001B[39m\u001B[38;5;28;01mFalse\u001B[39;00m, \u001B[38;5;241m*\u001B[39m, data\u001B[38;5;241m=\u001B[39m\u001B[38;5;28;01mNone\u001B[39;00m, \u001B[38;5;241m*\u001B[39m\u001B[38;5;241m*\u001B[39mkwargs):\n\u001B[0;32m-> 2590\u001B[0m     \u001B[38;5;28;01mreturn\u001B[39;00m \u001B[43mgca\u001B[49m\u001B[43m(\u001B[49m\u001B[43m)\u001B[49m\u001B[38;5;241;43m.\u001B[39;49m\u001B[43mhist\u001B[49m\u001B[43m(\u001B[49m\n\u001B[1;32m   2591\u001B[0m \u001B[43m        \u001B[49m\u001B[43mx\u001B[49m\u001B[43m,\u001B[49m\u001B[43m \u001B[49m\u001B[43mbins\u001B[49m\u001B[38;5;241;43m=\u001B[39;49m\u001B[43mbins\u001B[49m\u001B[43m,\u001B[49m\u001B[43m \u001B[49m\u001B[38;5;28;43mrange\u001B[39;49m\u001B[38;5;241;43m=\u001B[39;49m\u001B[38;5;28;43mrange\u001B[39;49m\u001B[43m,\u001B[49m\u001B[43m \u001B[49m\u001B[43mdensity\u001B[49m\u001B[38;5;241;43m=\u001B[39;49m\u001B[43mdensity\u001B[49m\u001B[43m,\u001B[49m\u001B[43m \u001B[49m\u001B[43mweights\u001B[49m\u001B[38;5;241;43m=\u001B[39;49m\u001B[43mweights\u001B[49m\u001B[43m,\u001B[49m\n\u001B[1;32m   2592\u001B[0m \u001B[43m        \u001B[49m\u001B[43mcumulative\u001B[49m\u001B[38;5;241;43m=\u001B[39;49m\u001B[43mcumulative\u001B[49m\u001B[43m,\u001B[49m\u001B[43m \u001B[49m\u001B[43mbottom\u001B[49m\u001B[38;5;241;43m=\u001B[39;49m\u001B[43mbottom\u001B[49m\u001B[43m,\u001B[49m\u001B[43m \u001B[49m\u001B[43mhisttype\u001B[49m\u001B[38;5;241;43m=\u001B[39;49m\u001B[43mhisttype\u001B[49m\u001B[43m,\u001B[49m\n\u001B[1;32m   2593\u001B[0m \u001B[43m        \u001B[49m\u001B[43malign\u001B[49m\u001B[38;5;241;43m=\u001B[39;49m\u001B[43malign\u001B[49m\u001B[43m,\u001B[49m\u001B[43m \u001B[49m\u001B[43morientation\u001B[49m\u001B[38;5;241;43m=\u001B[39;49m\u001B[43morientation\u001B[49m\u001B[43m,\u001B[49m\u001B[43m \u001B[49m\u001B[43mrwidth\u001B[49m\u001B[38;5;241;43m=\u001B[39;49m\u001B[43mrwidth\u001B[49m\u001B[43m,\u001B[49m\u001B[43m \u001B[49m\u001B[43mlog\u001B[49m\u001B[38;5;241;43m=\u001B[39;49m\u001B[43mlog\u001B[49m\u001B[43m,\u001B[49m\n\u001B[1;32m   2594\u001B[0m \u001B[43m        \u001B[49m\u001B[43mcolor\u001B[49m\u001B[38;5;241;43m=\u001B[39;49m\u001B[43mcolor\u001B[49m\u001B[43m,\u001B[49m\u001B[43m \u001B[49m\u001B[43mlabel\u001B[49m\u001B[38;5;241;43m=\u001B[39;49m\u001B[43mlabel\u001B[49m\u001B[43m,\u001B[49m\u001B[43m \u001B[49m\u001B[43mstacked\u001B[49m\u001B[38;5;241;43m=\u001B[39;49m\u001B[43mstacked\u001B[49m\u001B[43m,\u001B[49m\n\u001B[1;32m   2595\u001B[0m \u001B[43m        \u001B[49m\u001B[38;5;241;43m*\u001B[39;49m\u001B[38;5;241;43m*\u001B[39;49m\u001B[43m(\u001B[49m\u001B[43m{\u001B[49m\u001B[38;5;124;43m\"\u001B[39;49m\u001B[38;5;124;43mdata\u001B[39;49m\u001B[38;5;124;43m\"\u001B[39;49m\u001B[43m:\u001B[49m\u001B[43m \u001B[49m\u001B[43mdata\u001B[49m\u001B[43m}\u001B[49m\u001B[43m \u001B[49m\u001B[38;5;28;43;01mif\u001B[39;49;00m\u001B[43m \u001B[49m\u001B[43mdata\u001B[49m\u001B[43m \u001B[49m\u001B[38;5;129;43;01mis\u001B[39;49;00m\u001B[43m \u001B[49m\u001B[38;5;129;43;01mnot\u001B[39;49;00m\u001B[43m \u001B[49m\u001B[38;5;28;43;01mNone\u001B[39;49;00m\u001B[43m \u001B[49m\u001B[38;5;28;43;01melse\u001B[39;49;00m\u001B[43m \u001B[49m\u001B[43m{\u001B[49m\u001B[43m}\u001B[49m\u001B[43m)\u001B[49m\u001B[43m,\u001B[49m\u001B[43m \u001B[49m\u001B[38;5;241;43m*\u001B[39;49m\u001B[38;5;241;43m*\u001B[39;49m\u001B[43mkwargs\u001B[49m\u001B[43m)\u001B[49m\n",
      "File \u001B[0;32m~/miniconda3/lib/python3.8/site-packages/matplotlib/__init__.py:1412\u001B[0m, in \u001B[0;36m_preprocess_data.<locals>.inner\u001B[0;34m(ax, data, *args, **kwargs)\u001B[0m\n\u001B[1;32m   1409\u001B[0m \u001B[38;5;129m@functools\u001B[39m\u001B[38;5;241m.\u001B[39mwraps(func)\n\u001B[1;32m   1410\u001B[0m \u001B[38;5;28;01mdef\u001B[39;00m \u001B[38;5;21minner\u001B[39m(ax, \u001B[38;5;241m*\u001B[39margs, data\u001B[38;5;241m=\u001B[39m\u001B[38;5;28;01mNone\u001B[39;00m, \u001B[38;5;241m*\u001B[39m\u001B[38;5;241m*\u001B[39mkwargs):\n\u001B[1;32m   1411\u001B[0m     \u001B[38;5;28;01mif\u001B[39;00m data \u001B[38;5;129;01mis\u001B[39;00m \u001B[38;5;28;01mNone\u001B[39;00m:\n\u001B[0;32m-> 1412\u001B[0m         \u001B[38;5;28;01mreturn\u001B[39;00m \u001B[43mfunc\u001B[49m\u001B[43m(\u001B[49m\u001B[43max\u001B[49m\u001B[43m,\u001B[49m\u001B[43m \u001B[49m\u001B[38;5;241;43m*\u001B[39;49m\u001B[38;5;28;43mmap\u001B[39;49m\u001B[43m(\u001B[49m\u001B[43msanitize_sequence\u001B[49m\u001B[43m,\u001B[49m\u001B[43m \u001B[49m\u001B[43margs\u001B[49m\u001B[43m)\u001B[49m\u001B[43m,\u001B[49m\u001B[43m \u001B[49m\u001B[38;5;241;43m*\u001B[39;49m\u001B[38;5;241;43m*\u001B[39;49m\u001B[43mkwargs\u001B[49m\u001B[43m)\u001B[49m\n\u001B[1;32m   1414\u001B[0m     bound \u001B[38;5;241m=\u001B[39m new_sig\u001B[38;5;241m.\u001B[39mbind(ax, \u001B[38;5;241m*\u001B[39margs, \u001B[38;5;241m*\u001B[39m\u001B[38;5;241m*\u001B[39mkwargs)\n\u001B[1;32m   1415\u001B[0m     auto_label \u001B[38;5;241m=\u001B[39m (bound\u001B[38;5;241m.\u001B[39marguments\u001B[38;5;241m.\u001B[39mget(label_namer)\n\u001B[1;32m   1416\u001B[0m                   \u001B[38;5;129;01mor\u001B[39;00m bound\u001B[38;5;241m.\u001B[39mkwargs\u001B[38;5;241m.\u001B[39mget(label_namer))\n",
      "File \u001B[0;32m~/miniconda3/lib/python3.8/site-packages/matplotlib/axes/_axes.py:6552\u001B[0m, in \u001B[0;36mAxes.hist\u001B[0;34m(self, x, bins, range, density, weights, cumulative, bottom, histtype, align, orientation, rwidth, log, color, label, stacked, **kwargs)\u001B[0m\n\u001B[1;32m   6549\u001B[0m     stacked \u001B[38;5;241m=\u001B[39m \u001B[38;5;28;01mTrue\u001B[39;00m\n\u001B[1;32m   6551\u001B[0m \u001B[38;5;66;03m# Massage 'x' for processing.\u001B[39;00m\n\u001B[0;32m-> 6552\u001B[0m x \u001B[38;5;241m=\u001B[39m \u001B[43mcbook\u001B[49m\u001B[38;5;241;43m.\u001B[39;49m\u001B[43m_reshape_2D\u001B[49m\u001B[43m(\u001B[49m\u001B[43mx\u001B[49m\u001B[43m,\u001B[49m\u001B[43m \u001B[49m\u001B[38;5;124;43m'\u001B[39;49m\u001B[38;5;124;43mx\u001B[39;49m\u001B[38;5;124;43m'\u001B[39;49m\u001B[43m)\u001B[49m\n\u001B[1;32m   6553\u001B[0m nx \u001B[38;5;241m=\u001B[39m \u001B[38;5;28mlen\u001B[39m(x)  \u001B[38;5;66;03m# number of datasets\u001B[39;00m\n\u001B[1;32m   6555\u001B[0m \u001B[38;5;66;03m# Process unit information.  _process_unit_info sets the unit and\u001B[39;00m\n\u001B[1;32m   6556\u001B[0m \u001B[38;5;66;03m# converts the first dataset; then we convert each following dataset\u001B[39;00m\n\u001B[1;32m   6557\u001B[0m \u001B[38;5;66;03m# one at a time.\u001B[39;00m\n",
      "File \u001B[0;32m~/miniconda3/lib/python3.8/site-packages/matplotlib/cbook/__init__.py:1360\u001B[0m, in \u001B[0;36m_reshape_2D\u001B[0;34m(X, name)\u001B[0m\n\u001B[1;32m   1358\u001B[0m \u001B[38;5;66;03m# unpack if we have a values or to_numpy method.\u001B[39;00m\n\u001B[1;32m   1359\u001B[0m \u001B[38;5;28;01mtry\u001B[39;00m:\n\u001B[0;32m-> 1360\u001B[0m     X \u001B[38;5;241m=\u001B[39m \u001B[43mX\u001B[49m\u001B[38;5;241;43m.\u001B[39;49m\u001B[43mto_numpy\u001B[49m\u001B[43m(\u001B[49m\u001B[43m)\u001B[49m\n\u001B[1;32m   1361\u001B[0m \u001B[38;5;28;01mexcept\u001B[39;00m \u001B[38;5;167;01mAttributeError\u001B[39;00m:\n\u001B[1;32m   1362\u001B[0m     \u001B[38;5;28;01mtry\u001B[39;00m:\n",
      "\u001B[0;31mTypeError\u001B[0m: 'Column' object is not callable"
     ]
    },
    {
     "data": {
      "text/plain": "<Figure size 432x288 with 1 Axes>",
      "image/png": "[encoded data removed]"
     },
     "metadata": {},
     "output_type": "display_data"
    }
   ],
   "source": [
    "plt.hist(x=ff['user_fraud_probability'])"
   ],
   "metadata": {
    "collapsed": false,
    "pycharm": {
     "name": "#%%\n"
    }
   }
  },
  {
   "cell_type": "code",
   "execution_count": 722,
   "outputs": [
    {
     "name": "stderr",
     "output_type": "stream",
     "text": [
      "                                                                                \r"
     ]
    },
    {
     "data": {
      "text/plain": "110825"
     },
     "execution_count": 722,
     "metadata": {},
     "output_type": "execute_result"
    }
   ],
   "source": [
    "ff.select('user_fraud_probability').count()"
   ],
   "metadata": {
    "collapsed": false,
    "pycharm": {
     "name": "#%%\n"
    }
   }
  },
  {
   "cell_type": "code",
   "execution_count": 723,
   "outputs": [
    {
     "name": "stderr",
     "output_type": "stream",
     "text": [
      "                                                                                \r"
     ]
    }
   ],
   "source": [
    "fraud_probs = ff.toPandas()"
   ],
   "metadata": {
    "collapsed": false,
    "pycharm": {
     "name": "#%%\n"
    }
   }
  },
  {
   "cell_type": "code",
   "execution_count": 726,
   "outputs": [
    {
     "data": {
      "text/plain": "(array([3.5780e+03, 1.4610e+04, 1.4438e+04, 1.2089e+04, 1.0693e+04,\n        8.4440e+03, 7.1970e+03, 2.9660e+03, 5.6140e+03, 3.9680e+03,\n        3.4860e+03, 2.7830e+03, 2.3280e+03, 2.0430e+03, 2.0790e+03,\n        4.6500e+02, 1.2330e+03, 1.1120e+03, 1.0550e+03, 8.9700e+02,\n        8.3200e+02, 7.3000e+02, 5.6300e+02, 2.1400e+02, 5.0300e+02,\n        4.7300e+02, 3.4200e+02, 3.4700e+02, 3.4600e+02, 3.4600e+02,\n        9.4000e+01, 2.8700e+02, 1.9100e+02, 2.9900e+02, 2.7300e+02,\n        2.0300e+02, 1.6800e+02, 2.0600e+02, 3.9000e+01, 2.0000e+02,\n        2.1700e+02, 1.4700e+02, 1.7600e+02, 2.0400e+02, 1.2400e+02,\n        1.6800e+02, 9.0000e+00, 1.1200e+02, 1.1800e+02, 9.8000e+01,\n        1.6700e+02, 1.4200e+02, 1.0200e+02, 0.0000e+00, 5.9000e+01,\n        7.4000e+01, 5.9000e+01, 6.4000e+01, 8.1000e+01, 7.2000e+01,\n        5.3000e+01, 0.0000e+00, 8.8000e+01, 6.8000e+01, 3.8000e+01,\n        5.0000e+01, 5.9000e+01, 5.6000e+01, 7.5000e+01, 0.0000e+00,\n        2.1000e+01, 3.8000e+01, 2.7000e+01, 1.5000e+01, 1.3000e+01,\n        1.2000e+01, 0.0000e+00, 3.4000e+01, 3.8000e+01, 1.0000e+01,\n        1.4000e+01, 1.9000e+01, 4.1000e+01, 1.6000e+01, 0.0000e+00,\n        2.2000e+01, 3.9000e+01, 6.0000e+00, 5.0000e+00, 5.0000e+00,\n        0.0000e+00, 4.0000e+00, 0.0000e+00, 0.0000e+00, 7.0000e+00,\n        1.0000e+01, 0.0000e+00, 1.1000e+01, 0.0000e+00, 4.0000e+00]),\n array([0.08  , 0.0887, 0.0974, 0.1061, 0.1148, 0.1235, 0.1322, 0.1409,\n        0.1496, 0.1583, 0.167 , 0.1757, 0.1844, 0.1931, 0.2018, 0.2105,\n        0.2192, 0.2279, 0.2366, 0.2453, 0.254 , 0.2627, 0.2714, 0.2801,\n        0.2888, 0.2975, 0.3062, 0.3149, 0.3236, 0.3323, 0.341 , 0.3497,\n        0.3584, 0.3671, 0.3758, 0.3845, 0.3932, 0.4019, 0.4106, 0.4193,\n        0.428 , 0.4367, 0.4454, 0.4541, 0.4628, 0.4715, 0.4802, 0.4889,\n        0.4976, 0.5063, 0.515 , 0.5237, 0.5324, 0.5411, 0.5498, 0.5585,\n        0.5672, 0.5759, 0.5846, 0.5933, 0.602 , 0.6107, 0.6194, 0.6281,\n        0.6368, 0.6455, 0.6542, 0.6629, 0.6716, 0.6803, 0.689 , 0.6977,\n        0.7064, 0.7151, 0.7238, 0.7325, 0.7412, 0.7499, 0.7586, 0.7673,\n        0.776 , 0.7847, 0.7934, 0.8021, 0.8108, 0.8195, 0.8282, 0.8369,\n        0.8456, 0.8543, 0.863 , 0.8717, 0.8804, 0.8891, 0.8978, 0.9065,\n        0.9152, 0.9239, 0.9326, 0.9413, 0.95  ]),\n <BarContainer object of 100 artists>)"
     },
     "execution_count": 726,
     "metadata": {},
     "output_type": "execute_result"
    },
    {
     "data": {
      "text/plain": "<Figure size 432x288 with 1 Axes>",
      "image/png": "[encoded data removed]"
     },
     "metadata": {},
     "output_type": "display_data"
    }
   ],
   "source": [
    "plt.hist(x=fraud_probs['user_fraud_probability'], bins=100)"
   ],
   "metadata": {
    "collapsed": false,
    "pycharm": {
     "name": "#%%\n"
    }
   }
  },
  {
   "cell_type": "code",
   "execution_count": 727,
   "outputs": [],
   "source": [
    "import numpy as np"
   ],
   "metadata": {
    "collapsed": false,
    "pycharm": {
     "name": "#%%\n"
    }
   }
  },
  {
   "cell_type": "code",
   "execution_count": 741,
   "outputs": [
    {
     "data": {
      "text/plain": "(array([3.5780e+03, 1.4610e+04, 1.4438e+04, 1.2089e+04, 1.0693e+04,\n        8.4440e+03, 7.1970e+03, 2.9660e+03, 5.6140e+03, 3.9680e+03,\n        3.4860e+03, 2.7830e+03, 2.3280e+03, 2.0430e+03, 2.0790e+03,\n        4.6500e+02, 1.2330e+03, 1.1120e+03, 1.0550e+03, 8.9700e+02,\n        8.3200e+02, 7.3000e+02, 5.6300e+02, 2.1400e+02, 5.0300e+02,\n        4.7300e+02, 3.4200e+02, 3.4700e+02, 3.4600e+02, 3.4600e+02,\n        9.4000e+01, 2.8700e+02, 1.9100e+02, 2.9900e+02, 2.7300e+02,\n        2.0300e+02, 1.6800e+02, 2.0600e+02, 3.9000e+01, 2.0000e+02,\n        2.1700e+02, 1.4700e+02, 1.7600e+02, 2.0400e+02, 1.2400e+02,\n        1.6800e+02, 9.0000e+00, 1.1200e+02, 1.1800e+02, 9.8000e+01,\n        1.6700e+02, 1.4200e+02, 1.0200e+02, 0.0000e+00, 5.9000e+01,\n        7.4000e+01, 5.9000e+01, 6.4000e+01, 8.1000e+01, 7.2000e+01,\n        5.3000e+01, 0.0000e+00, 8.8000e+01, 6.8000e+01, 3.8000e+01,\n        5.0000e+01, 5.9000e+01, 5.6000e+01, 7.5000e+01, 0.0000e+00,\n        2.1000e+01, 3.8000e+01, 2.7000e+01, 1.5000e+01, 1.3000e+01,\n        1.2000e+01, 0.0000e+00, 3.4000e+01, 3.8000e+01, 1.0000e+01,\n        1.4000e+01, 1.9000e+01, 4.1000e+01, 1.6000e+01, 0.0000e+00,\n        2.2000e+01, 3.9000e+01, 6.0000e+00, 5.0000e+00, 5.0000e+00,\n        0.0000e+00, 4.0000e+00, 0.0000e+00, 0.0000e+00, 7.0000e+00,\n        1.0000e+01, 0.0000e+00, 1.1000e+01, 0.0000e+00, 4.0000e+00]),\n array([0.08  , 0.0887, 0.0974, 0.1061, 0.1148, 0.1235, 0.1322, 0.1409,\n        0.1496, 0.1583, 0.167 , 0.1757, 0.1844, 0.1931, 0.2018, 0.2105,\n        0.2192, 0.2279, 0.2366, 0.2453, 0.254 , 0.2627, 0.2714, 0.2801,\n        0.2888, 0.2975, 0.3062, 0.3149, 0.3236, 0.3323, 0.341 , 0.3497,\n        0.3584, 0.3671, 0.3758, 0.3845, 0.3932, 0.4019, 0.4106, 0.4193,\n        0.428 , 0.4367, 0.4454, 0.4541, 0.4628, 0.4715, 0.4802, 0.4889,\n        0.4976, 0.5063, 0.515 , 0.5237, 0.5324, 0.5411, 0.5498, 0.5585,\n        0.5672, 0.5759, 0.5846, 0.5933, 0.602 , 0.6107, 0.6194, 0.6281,\n        0.6368, 0.6455, 0.6542, 0.6629, 0.6716, 0.6803, 0.689 , 0.6977,\n        0.7064, 0.7151, 0.7238, 0.7325, 0.7412, 0.7499, 0.7586, 0.7673,\n        0.776 , 0.7847, 0.7934, 0.8021, 0.8108, 0.8195, 0.8282, 0.8369,\n        0.8456, 0.8543, 0.863 , 0.8717, 0.8804, 0.8891, 0.8978, 0.9065,\n        0.9152, 0.9239, 0.9326, 0.9413, 0.95  ]),\n <BarContainer object of 100 artists>)"
     },
     "execution_count": 741,
     "metadata": {},
     "output_type": "execute_result"
    },
    {
     "data": {
      "text/plain": "<Figure size 432x288 with 1 Axes>",
      "image/png": "[encoded data removed]"
     },
     "metadata": {},
     "output_type": "display_data"
    }
   ],
   "source": [
    "plt.hist(x=(fraud_probs['user_fraud_probability']), bins=100)"
   ],
   "metadata": {
    "collapsed": false,
    "pycharm": {
     "name": "#%%\n"
    }
   }
  },
  {
   "cell_type": "code",
   "execution_count": 738,
   "outputs": [],
   "source": [
    "s = np.log(fraud_probs['user_fraud_probability'])"
   ],
   "metadata": {
    "collapsed": false,
    "pycharm": {
     "name": "#%%\n"
    }
   }
  },
  {
   "cell_type": "code",
   "execution_count": 739,
   "outputs": [
    {
     "data": {
      "text/plain": "0        -2.322788\n1        -2.322788\n2        -2.322788\n3        -2.322788\n4        -2.322788\n            ...   \n110820   -1.714798\n110821   -1.714798\n110822   -1.714798\n110823   -1.714798\n110824   -1.714798\nName: user_fraud_probability, Length: 110825, dtype: float64"
     },
     "execution_count": 739,
     "metadata": {},
     "output_type": "execute_result"
    }
   ],
   "source": [
    "s"
   ],
   "metadata": {
    "collapsed": false,
    "pycharm": {
     "name": "#%%\n"
    }
   }
  },
  {
   "cell_type": "code",
   "execution_count": 737,
   "outputs": [
    {
     "data": {
      "text/plain": "<AxesSubplot:xlabel='user_fraud_probability', ylabel='Count'>"
     },
     "execution_count": 737,
     "metadata": {},
     "output_type": "execute_result"
    },
    {
     "data": {
      "text/plain": "<Figure size 432x288 with 1 Axes>",
      "image/png": "[encoded data removed]"
     },
     "metadata": {},
     "output_type": "display_data"
    }
   ],
   "source": [
    "sns.histplot(fraud_probs['user_fraud_probability'])"
   ],
   "metadata": {
    "collapsed": false,
    "pycharm": {
     "name": "#%%\n"
    }
   }
  },
  {
   "cell_type": "code",
   "execution_count": 749,
   "outputs": [],
   "source": [
    "dist_names = ['weibull_min','norm', 'weibull_max','beta', 'invgauss',\n",
    "              'uniform','gamma','expon', 'lognorm' ,'pearson3','triang']\n",
    "import scipy.stats as stats"
   ],
   "metadata": {
    "collapsed": false,
    "pycharm": {
     "name": "#%%\n"
    }
   }
  },
  {
   "cell_type": "code",
   "execution_count": 744,
   "outputs": [],
   "source": [
    "# def get_best_distribution(data, dist_names):\n",
    "#     dist_results = []\n",
    "#     params = {}\n",
    "#     for dist_name in dist_names:\n",
    "#         dist = getattr(st, dist_name)\n",
    "#         param = dist.fit(data)\n",
    "#\n",
    "#         params[dist_name] = param\n",
    "#         # Applying the Kolmogorov-Smirnov test\n",
    "#         D, p = st.kstest(data, dist_name, args=param)\n",
    "#         print(\"p value for \"+dist_name+\" = \"+str(p))\n",
    "#         dist_results.append((dist_name, p))\n",
    "#\n",
    "#     # select the best fitted distribution\n",
    "#     best_dist, best_p = (max(dist_results, key=lambda item: item[1]))\n",
    "#     # store the name of the best fit and its p value\n",
    "#\n",
    "#     print(\"Best fitting distribution: \"+str(best_dist))\n",
    "#     print(\"Best p value: \"+ str(best_p))\n",
    "#     print(\"Parameters for the best fit: \"+ str(params[best_dist]))\n",
    "#\n",
    "#     return best_dist, best_p, params[best_dist]"
   ],
   "metadata": {
    "collapsed": false,
    "pycharm": {
     "name": "#%%\n"
    }
   }
  },
  {
   "cell_type": "code",
   "execution_count": null,
   "outputs": [],
   "source": [
    "#get_best_distribution(np.array(fraud_probs['user_fraud_probability']), dist_names)"
   ],
   "metadata": {
    "collapsed": false,
    "pycharm": {
     "name": "#%%\n",
     "is_executing": true
    }
   }
  },
  {
   "cell_type": "code",
   "execution_count": 751,
   "outputs": [
    {
     "data": {
      "text/plain": "<AxesSubplot:xlabel='user_fraud_probability', ylabel='Count'>"
     },
     "execution_count": 751,
     "metadata": {},
     "output_type": "execute_result"
    },
    {
     "data": {
      "text/plain": "<Figure size 432x288 with 1 Axes>",
      "image/png": "[encoded data removed]"
     },
     "metadata": {},
     "output_type": "display_data"
    }
   ],
   "source": [
    "sns.histplot(fraud_probs['user_fraud_probability'], bins=100, kde=True)"
   ],
   "metadata": {
    "collapsed": false,
    "pycharm": {
     "name": "#%%\n"
    }
   }
  },
  {
   "cell_type": "code",
   "execution_count": 752,
   "outputs": [],
   "source": [
    "from fitter import Fitter, get_common_distributions, get_distributions"
   ],
   "metadata": {
    "collapsed": false,
    "pycharm": {
     "name": "#%%\n"
    }
   }
  },
  {
   "cell_type": "code",
   "execution_count": 753,
   "outputs": [],
   "source": [
    "up = np.array(fraud_probs['user_fraud_probability'])"
   ],
   "metadata": {
    "collapsed": false,
    "pycharm": {
     "name": "#%%\n"
    }
   }
  },
  {
   "cell_type": "code",
   "execution_count": 755,
   "outputs": [
    {
     "data": {
      "text/plain": "<AxesSubplot:ylabel='Count'>"
     },
     "execution_count": 755,
     "metadata": {},
     "output_type": "execute_result"
    },
    {
     "data": {
      "text/plain": "<Figure size 432x288 with 1 Axes>",
      "image/png": "[encoded data removed]"
     },
     "metadata": {},
     "output_type": "display_data"
    }
   ],
   "source": [
    "sns.histplot(up, bins=200)"
   ],
   "metadata": {
    "collapsed": false,
    "pycharm": {
     "name": "#%%\n"
    }
   }
  },
  {
   "cell_type": "code",
   "execution_count": 756,
   "outputs": [],
   "source": [
    "f = Fitter(up,\n",
    "           distributions=['gamma',\n",
    "                          'lognorm',\n",
    "                          \"beta\",\n",
    "                          \"burr\",\n",
    "                          \"norm\"])"
   ],
   "metadata": {
    "collapsed": false,
    "pycharm": {
     "name": "#%%\n"
    }
   }
  },
  {
   "cell_type": "code",
   "execution_count": 757,
   "outputs": [
    {
     "name": "stderr",
     "output_type": "stream",
     "text": [
      "Fitting 5 distributions: 100%|██████████| 5/5 [00:04<00:00,  1.03it/s]\n"
     ]
    }
   ],
   "source": [
    "f.fit()"
   ],
   "metadata": {
    "collapsed": false,
    "pycharm": {
     "name": "#%%\n"
    }
   }
  },
  {
   "cell_type": "code",
   "execution_count": 758,
   "outputs": [
    {
     "data": {
      "text/plain": "         sumsquare_error          aic            bic  kl_div  ks_statistic  \\\nburr           25.100264   419.311679 -930088.843478     inf      0.050609   \nlognorm        45.366120   465.396669 -864504.559667     inf      0.058028   \nbeta          461.216452   431.851898 -607478.477354     inf      0.249021   \nnorm          464.577336  1985.089971 -606697.055150     inf      0.215457   \ngamma         504.466038   620.183291 -597556.509235     inf      0.262267   \n\n             ks_pvalue  \nburr     3.977520e-247  \nlognorm   0.000000e+00  \nbeta      0.000000e+00  \nnorm      0.000000e+00  \ngamma     0.000000e+00  ",
      "text/html": "<div>\n<style scoped>\n    .dataframe tbody tr th:only-of-type {\n        vertical-align: middle;\n    }\n\n    .dataframe tbody tr th {\n        vertical-align: top;\n    }\n\n    .dataframe thead th {\n        text-align: right;\n    }\n</style>\n<table border=\"1\" class=\"dataframe\">\n  <thead>\n    <tr style=\"text-align: right;\">\n      <th></th>\n      <th>sumsquare_error</th>\n      <th>aic</th>\n      <th>bic</th>\n      <th>kl_div</th>\n      <th>ks_statistic</th>\n      <th>ks_pvalue</th>\n    </tr>\n  </thead>\n  <tbody>\n    <tr>\n      <th>burr</th>\n      <td>25.100264</td>\n      <td>419.311679</td>\n      <td>-930088.843478</td>\n      <td>inf</td>\n      <td>0.050609</td>\n      <td>3.977520e-247</td>\n    </tr>\n    <tr>\n      <th>lognorm</th>\n      <td>45.366120</td>\n      <td>465.396669</td>\n      <td>-864504.559667</td>\n      <td>inf</td>\n      <td>0.058028</td>\n      <td>0.000000e+00</td>\n    </tr>\n    <tr>\n      <th>beta</th>\n      <td>461.216452</td>\n      <td>431.851898</td>\n      <td>-607478.477354</td>\n      <td>inf</td>\n      <td>0.249021</td>\n      <td>0.000000e+00</td>\n    </tr>\n    <tr>\n      <th>norm</th>\n      <td>464.577336</td>\n      <td>1985.089971</td>\n      <td>-606697.055150</td>\n      <td>inf</td>\n      <td>0.215457</td>\n      <td>0.000000e+00</td>\n    </tr>\n    <tr>\n      <th>gamma</th>\n      <td>504.466038</td>\n      <td>620.183291</td>\n      <td>-597556.509235</td>\n      <td>inf</td>\n      <td>0.262267</td>\n      <td>0.000000e+00</td>\n    </tr>\n  </tbody>\n</table>\n</div>"
     },
     "execution_count": 758,
     "metadata": {},
     "output_type": "execute_result"
    },
    {
     "data": {
      "text/plain": "<Figure size 432x288 with 1 Axes>",
      "image/png": "[encoded data removed]"
     },
     "metadata": {},
     "output_type": "display_data"
    }
   ],
   "source": [
    "f.summary()"
   ],
   "metadata": {
    "collapsed": false,
    "pycharm": {
     "name": "#%%\n"
    }
   }
  },
  {
   "cell_type": "code",
   "execution_count": 759,
   "outputs": [
    {
     "data": {
      "text/plain": "{'burr': {'c': 1.8852205014674808,\n  'd': 37.43686166879287,\n  'loc': 0.05739301821206806,\n  'scale': 0.008002279248216827}}"
     },
     "execution_count": 759,
     "metadata": {},
     "output_type": "execute_result"
    }
   ],
   "source": [
    "f.get_best(method='sumsquare_error')"
   ],
   "metadata": {
    "collapsed": false,
    "pycharm": {
     "name": "#%%\n"
    }
   }
  },
  {
   "cell_type": "code",
   "execution_count": 761,
   "outputs": [
    {
     "data": {
      "text/plain": "         sumsquare_error         aic            bic  kl_div  ks_statistic  \\\nburr           25.100264  419.311679 -930088.843478     inf      0.050609   \nlognorm        45.366120  465.396669 -864504.559667     inf      0.058028   \n\n             ks_pvalue  \nburr     3.977520e-247  \nlognorm   0.000000e+00  ",
      "text/html": "<div>\n<style scoped>\n    .dataframe tbody tr th:only-of-type {\n        vertical-align: middle;\n    }\n\n    .dataframe tbody tr th {\n        vertical-align: top;\n    }\n\n    .dataframe thead th {\n        text-align: right;\n    }\n</style>\n<table border=\"1\" class=\"dataframe\">\n  <thead>\n    <tr style=\"text-align: right;\">\n      <th></th>\n      <th>sumsquare_error</th>\n      <th>aic</th>\n      <th>bic</th>\n      <th>kl_div</th>\n      <th>ks_statistic</th>\n      <th>ks_pvalue</th>\n    </tr>\n  </thead>\n  <tbody>\n    <tr>\n      <th>burr</th>\n      <td>25.100264</td>\n      <td>419.311679</td>\n      <td>-930088.843478</td>\n      <td>inf</td>\n      <td>0.050609</td>\n      <td>3.977520e-247</td>\n    </tr>\n    <tr>\n      <th>lognorm</th>\n      <td>45.366120</td>\n      <td>465.396669</td>\n      <td>-864504.559667</td>\n      <td>inf</td>\n      <td>0.058028</td>\n      <td>0.000000e+00</td>\n    </tr>\n  </tbody>\n</table>\n</div>"
     },
     "execution_count": 761,
     "metadata": {},
     "output_type": "execute_result"
    },
    {
     "data": {
      "text/plain": "<Figure size 432x288 with 1 Axes>",
      "image/png": "[encoded data removed]"
     },
     "metadata": {},
     "output_type": "display_data"
    }
   ],
   "source": [
    "f.summary(Nbest=2, lw=1, plot=True, method='sumsquare_error', clf=True)"
   ],
   "metadata": {
    "collapsed": false,
    "pycharm": {
     "name": "#%%\n"
    }
   }
  },
  {
   "cell_type": "code",
   "execution_count": null,
   "outputs": [],
   "source": [],
   "metadata": {
    "collapsed": false,
    "pycharm": {
     "name": "#%%\n"
    }
   }
  }
 ],
 "metadata": {
  "kernelspec": {
   "display_name": "Python 3",
   "language": "python",
   "name": "python3"
  },
  "language_info": {
   "codemirror_mode": {
    "name": "ipython",
    "version": 2
   },
   "file_extension": ".py",
   "mimetype": "text/x-python",
   "name": "python",
   "nbconvert_exporter": "python",
   "pygments_lexer": "ipython2",
   "version": "2.7.6"
  }
 },
 "nbformat": 4,
 "nbformat_minor": 0
}