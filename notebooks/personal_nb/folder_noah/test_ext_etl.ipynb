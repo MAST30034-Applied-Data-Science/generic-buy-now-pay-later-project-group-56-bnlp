{
 "cells": [
  {
   "cell_type": "code",
   "execution_count": 1,
   "metadata": {
    "collapsed": true,
    "pycharm": {
     "name": "#%%\n"
    }
   },
   "outputs": [],
   "source": [
    "import sys\n",
    "sys.path.append('../../../scripts/')"
   ]
  },
  {
   "cell_type": "code",
   "execution_count": 2,
   "outputs": [
    {
     "name": "stderr",
     "output_type": "stream",
     "text": [
      "22/09/12 13:22:09 WARN Utils: Your hostname, LAPTOP-VAB0S7AL resolves to a loopback address: 127.0.1.1; using 172.31.185.122 instead (on interface eth0)\n",
      "22/09/12 13:22:09 WARN Utils: Set SPARK_LOCAL_IP if you need to bind to another address\n",
      "WARNING: An illegal reflective access operation has occurred\n",
      "WARNING: Illegal reflective access by org.apache.spark.unsafe.Platform (file:/home/noahs/miniconda3/lib/python3.8/site-packages/pyspark/jars/spark-unsafe_2.12-3.1.2.jar) to constructor java.nio.DirectByteBuffer(long,int)\n",
      "WARNING: Please consider reporting this to the maintainers of org.apache.spark.unsafe.Platform\n",
      "WARNING: Use --illegal-access=warn to enable warnings of further illegal reflective access operations\n",
      "WARNING: All illegal access operations will be denied in a future release\n",
      "22/09/12 13:22:11 WARN NativeCodeLoader: Unable to load native-hadoop library for your platform... using builtin-java classes where applicable\n",
      "Using Spark's default log4j profile: org/apache/spark/log4j-defaults.properties\n",
      "Setting default log level to \"WARN\".\n",
      "To adjust logging level use sc.setLogLevel(newLevel). For SparkR, use setLogLevel(newLevel).\n",
      "22/09/12 13:22:12 WARN Utils: Service 'SparkUI' could not bind on port 4040. Attempting port 4041.\n"
     ]
    }
   ],
   "source": [
    "from etl_ext_datasets_funcs import etl_income, etl_population, join_ext_with_master"
   ],
   "metadata": {
    "collapsed": false,
    "pycharm": {
     "name": "#%%\n"
    }
   }
  },
  {
   "cell_type": "code",
   "execution_count": 3,
   "outputs": [
    {
     "ename": "AnalysisException",
     "evalue": "Path does not exist: file:/mnt/c/Users/noahs/OneDrive/Documents/GitHub/Github2.0/generic-buy-now-pay-later-project-group-56-bnlp/notebooks/personal_nb/data/tables/external_datasets/population_data.csv",
     "output_type": "error",
     "traceback": [
      "\u001B[0;31m---------------------------------------------------------------------------\u001B[0m",
      "\u001B[0;31mAnalysisException\u001B[0m                         Traceback (most recent call last)",
      "Input \u001B[0;32mIn [3]\u001B[0m, in \u001B[0;36m<cell line: 2>\u001B[0;34m()\u001B[0m\n\u001B[1;32m      1\u001B[0m \u001B[38;5;66;03m#pop_sdf = read_population()\u001B[39;00m\n\u001B[0;32m----> 2\u001B[0m pop_sdf \u001B[38;5;241m=\u001B[39m \u001B[43metl_population\u001B[49m\u001B[43m(\u001B[49m\u001B[43m)\u001B[49m\n",
      "File \u001B[0;32m/mnt/c/Users/noahs/OneDrive/Documents/GitHub/Github2.0/generic-buy-now-pay-later-project-group-56-bnlp/notebooks/personal_nb/folder_noah/../../../scripts/etl_ext_datasets_funcs.py:116\u001B[0m, in \u001B[0;36metl_population\u001B[0;34m()\u001B[0m\n\u001B[1;32m    114\u001B[0m \u001B[38;5;28;01mdef\u001B[39;00m \u001B[38;5;21metl_population\u001B[39m():\n\u001B[1;32m    115\u001B[0m     \u001B[38;5;66;03m# read in the population/postcode data from file\u001B[39;00m\n\u001B[0;32m--> 116\u001B[0m     pop_sdf \u001B[38;5;241m=\u001B[39m \u001B[43mread_population\u001B[49m\u001B[43m(\u001B[49m\u001B[43m)\u001B[49m\n\u001B[1;32m    117\u001B[0m     postcodes \u001B[38;5;241m=\u001B[39m read_postcodes()\n\u001B[1;32m    119\u001B[0m     \u001B[38;5;66;03m# use ANUJ's script to preprocess the df\u001B[39;00m\n",
      "File \u001B[0;32m/mnt/c/Users/noahs/OneDrive/Documents/GitHub/Github2.0/generic-buy-now-pay-later-project-group-56-bnlp/notebooks/personal_nb/folder_noah/../../../scripts/etl_ext_datasets_funcs.py:83\u001B[0m, in \u001B[0;36mread_population\u001B[0;34m()\u001B[0m\n\u001B[1;32m     82\u001B[0m \u001B[38;5;28;01mdef\u001B[39;00m \u001B[38;5;21mread_population\u001B[39m():\n\u001B[0;32m---> 83\u001B[0m     population \u001B[38;5;241m=\u001B[39m \u001B[43mspark\u001B[49m\u001B[38;5;241;43m.\u001B[39;49m\u001B[43mread\u001B[49m\u001B[38;5;241;43m.\u001B[39;49m\u001B[43moption\u001B[49m\u001B[43m(\u001B[49m\u001B[38;5;124;43m\"\u001B[39;49m\u001B[38;5;124;43mheader\u001B[39;49m\u001B[38;5;124;43m\"\u001B[39;49m\u001B[43m,\u001B[49m\u001B[43m \u001B[49m\u001B[38;5;28;43;01mTrue\u001B[39;49;00m\u001B[43m)\u001B[49m\u001B[38;5;241;43m.\u001B[39;49m\u001B[43mcsv\u001B[49m\u001B[43m(\u001B[49m\u001B[43mDATA_PATH\u001B[49m\u001B[43m \u001B[49m\u001B[38;5;241;43m+\u001B[39;49m\u001B[43m \u001B[49m\u001B[43mPOPULATION_PATH\u001B[49m\u001B[43m)\u001B[49m\n\u001B[1;32m     84\u001B[0m     \u001B[38;5;28;01mreturn\u001B[39;00m population\n",
      "File \u001B[0;32m~/miniconda3/lib/python3.8/site-packages/pyspark/sql/readwriter.py:737\u001B[0m, in \u001B[0;36mDataFrameReader.csv\u001B[0;34m(self, path, schema, sep, encoding, quote, escape, comment, header, inferSchema, ignoreLeadingWhiteSpace, ignoreTrailingWhiteSpace, nullValue, nanValue, positiveInf, negativeInf, dateFormat, timestampFormat, maxColumns, maxCharsPerColumn, maxMalformedLogPerPartition, mode, columnNameOfCorruptRecord, multiLine, charToEscapeQuoteEscaping, samplingRatio, enforceSchema, emptyValue, locale, lineSep, pathGlobFilter, recursiveFileLookup, modifiedBefore, modifiedAfter, unescapedQuoteHandling)\u001B[0m\n\u001B[1;32m    735\u001B[0m     path \u001B[38;5;241m=\u001B[39m [path]\n\u001B[1;32m    736\u001B[0m \u001B[38;5;28;01mif\u001B[39;00m \u001B[38;5;28mtype\u001B[39m(path) \u001B[38;5;241m==\u001B[39m \u001B[38;5;28mlist\u001B[39m:\n\u001B[0;32m--> 737\u001B[0m     \u001B[38;5;28;01mreturn\u001B[39;00m \u001B[38;5;28mself\u001B[39m\u001B[38;5;241m.\u001B[39m_df(\u001B[38;5;28;43mself\u001B[39;49m\u001B[38;5;241;43m.\u001B[39;49m\u001B[43m_jreader\u001B[49m\u001B[38;5;241;43m.\u001B[39;49m\u001B[43mcsv\u001B[49m\u001B[43m(\u001B[49m\u001B[38;5;28;43mself\u001B[39;49m\u001B[38;5;241;43m.\u001B[39;49m\u001B[43m_spark\u001B[49m\u001B[38;5;241;43m.\u001B[39;49m\u001B[43m_sc\u001B[49m\u001B[38;5;241;43m.\u001B[39;49m\u001B[43m_jvm\u001B[49m\u001B[38;5;241;43m.\u001B[39;49m\u001B[43mPythonUtils\u001B[49m\u001B[38;5;241;43m.\u001B[39;49m\u001B[43mtoSeq\u001B[49m\u001B[43m(\u001B[49m\u001B[43mpath\u001B[49m\u001B[43m)\u001B[49m\u001B[43m)\u001B[49m)\n\u001B[1;32m    738\u001B[0m \u001B[38;5;28;01melif\u001B[39;00m \u001B[38;5;28misinstance\u001B[39m(path, RDD):\n\u001B[1;32m    739\u001B[0m     \u001B[38;5;28;01mdef\u001B[39;00m \u001B[38;5;21mfunc\u001B[39m(iterator):\n",
      "File \u001B[0;32m~/miniconda3/lib/python3.8/site-packages/py4j/java_gateway.py:1309\u001B[0m, in \u001B[0;36mJavaMember.__call__\u001B[0;34m(self, *args)\u001B[0m\n\u001B[1;32m   1303\u001B[0m command \u001B[38;5;241m=\u001B[39m proto\u001B[38;5;241m.\u001B[39mCALL_COMMAND_NAME \u001B[38;5;241m+\u001B[39m\\\n\u001B[1;32m   1304\u001B[0m     \u001B[38;5;28mself\u001B[39m\u001B[38;5;241m.\u001B[39mcommand_header \u001B[38;5;241m+\u001B[39m\\\n\u001B[1;32m   1305\u001B[0m     args_command \u001B[38;5;241m+\u001B[39m\\\n\u001B[1;32m   1306\u001B[0m     proto\u001B[38;5;241m.\u001B[39mEND_COMMAND_PART\n\u001B[1;32m   1308\u001B[0m answer \u001B[38;5;241m=\u001B[39m \u001B[38;5;28mself\u001B[39m\u001B[38;5;241m.\u001B[39mgateway_client\u001B[38;5;241m.\u001B[39msend_command(command)\n\u001B[0;32m-> 1309\u001B[0m return_value \u001B[38;5;241m=\u001B[39m \u001B[43mget_return_value\u001B[49m\u001B[43m(\u001B[49m\n\u001B[1;32m   1310\u001B[0m \u001B[43m    \u001B[49m\u001B[43manswer\u001B[49m\u001B[43m,\u001B[49m\u001B[43m \u001B[49m\u001B[38;5;28;43mself\u001B[39;49m\u001B[38;5;241;43m.\u001B[39;49m\u001B[43mgateway_client\u001B[49m\u001B[43m,\u001B[49m\u001B[43m \u001B[49m\u001B[38;5;28;43mself\u001B[39;49m\u001B[38;5;241;43m.\u001B[39;49m\u001B[43mtarget_id\u001B[49m\u001B[43m,\u001B[49m\u001B[43m \u001B[49m\u001B[38;5;28;43mself\u001B[39;49m\u001B[38;5;241;43m.\u001B[39;49m\u001B[43mname\u001B[49m\u001B[43m)\u001B[49m\n\u001B[1;32m   1312\u001B[0m \u001B[38;5;28;01mfor\u001B[39;00m temp_arg \u001B[38;5;129;01min\u001B[39;00m temp_args:\n\u001B[1;32m   1313\u001B[0m     temp_arg\u001B[38;5;241m.\u001B[39m_detach()\n",
      "File \u001B[0;32m~/miniconda3/lib/python3.8/site-packages/pyspark/sql/utils.py:117\u001B[0m, in \u001B[0;36mcapture_sql_exception.<locals>.deco\u001B[0;34m(*a, **kw)\u001B[0m\n\u001B[1;32m    113\u001B[0m converted \u001B[38;5;241m=\u001B[39m convert_exception(e\u001B[38;5;241m.\u001B[39mjava_exception)\n\u001B[1;32m    114\u001B[0m \u001B[38;5;28;01mif\u001B[39;00m \u001B[38;5;129;01mnot\u001B[39;00m \u001B[38;5;28misinstance\u001B[39m(converted, UnknownException):\n\u001B[1;32m    115\u001B[0m     \u001B[38;5;66;03m# Hide where the exception came from that shows a non-Pythonic\u001B[39;00m\n\u001B[1;32m    116\u001B[0m     \u001B[38;5;66;03m# JVM exception message.\u001B[39;00m\n\u001B[0;32m--> 117\u001B[0m     \u001B[38;5;28;01mraise\u001B[39;00m converted \u001B[38;5;28;01mfrom\u001B[39;00m \u001B[38;5;28mNone\u001B[39m\n\u001B[1;32m    118\u001B[0m \u001B[38;5;28;01melse\u001B[39;00m:\n\u001B[1;32m    119\u001B[0m     \u001B[38;5;28;01mraise\u001B[39;00m\n",
      "\u001B[0;31mAnalysisException\u001B[0m: Path does not exist: file:/mnt/c/Users/noahs/OneDrive/Documents/GitHub/Github2.0/generic-buy-now-pay-later-project-group-56-bnlp/notebooks/personal_nb/data/tables/external_datasets/population_data.csv"
     ]
    }
   ],
   "source": [
    "#pop_sdf = read_population()\n",
    "pop_sdf = etl_population()"
   ],
   "metadata": {
    "collapsed": false,
    "pycharm": {
     "name": "#%%\n"
    }
   }
  },
  {
   "cell_type": "code",
   "execution_count": null,
   "outputs": [],
   "source": [
    "pop_sdf.limit(5)"
   ],
   "metadata": {
    "collapsed": false,
    "pycharm": {
     "name": "#%%\n"
    }
   }
  },
  {
   "cell_type": "code",
   "execution_count": null,
   "outputs": [],
   "source": [
    "income_sdf = etl_income()"
   ],
   "metadata": {
    "collapsed": false,
    "pycharm": {
     "name": "#%%\n"
    }
   }
  },
  {
   "cell_type": "code",
   "execution_count": null,
   "outputs": [],
   "source": [
    "income_sdf.limit(5)"
   ],
   "metadata": {
    "collapsed": false,
    "pycharm": {
     "name": "#%%\n"
    }
   }
  },
  {
   "cell_type": "markdown",
   "source": [
    "Join external datasets with master"
   ],
   "metadata": {
    "collapsed": false,
    "pycharm": {
     "name": "#%% md\n"
    }
   }
  },
  {
   "cell_type": "code",
   "execution_count": 6,
   "outputs": [],
   "source": [
    "from pyspark.sql import SparkSession, functions as F\n",
    "\n",
    "# Create a spark session\n",
    "spark = (\n",
    "    SparkSession.builder.appName(\"BNPL External Data-set\")\n",
    "    .config(\"spark.sql.repl.eagerEval.enabled\", True)\n",
    "    .config(\"spark.sql.parquet.cacheMetadata\", \"true\")\n",
    "    .config(\"spark.driver.memory\", \"4g\")\n",
    "    .config(\"spark.sql.session.timeZone\", \"Etc/UTC\")\n",
    "    .getOrCreate()\n",
    ")"
   ],
   "metadata": {
    "collapsed": false,
    "pycharm": {
     "name": "#%%\n"
    }
   }
  },
  {
   "cell_type": "code",
   "execution_count": 7,
   "outputs": [],
   "source": [
    "transactions = spark.read.parquet('../../../data/curated/process_data.parquet')"
   ],
   "metadata": {
    "collapsed": false,
    "pycharm": {
     "name": "#%%\n"
    }
   }
  },
  {
   "cell_type": "code",
   "execution_count": 8,
   "outputs": [
    {
     "name": "stderr",
     "output_type": "stream",
     "text": [
      "                                                                                \r"
     ]
    },
    {
     "data": {
      "text/plain": "7817432"
     },
     "execution_count": 8,
     "metadata": {},
     "output_type": "execute_result"
    }
   ],
   "source": [
    "transactions.count()"
   ],
   "metadata": {
    "collapsed": false,
    "pycharm": {
     "name": "#%%\n"
    }
   }
  },
  {
   "cell_type": "code",
   "execution_count": null,
   "outputs": [],
   "source": [
    "from pyspark.sql import functions as F"
   ],
   "metadata": {
    "collapsed": false,
    "pycharm": {
     "name": "#%%\n"
    }
   }
  },
  {
   "cell_type": "code",
   "execution_count": 10,
   "outputs": [
    {
     "name": "stderr",
     "output_type": "stream",
     "text": [
      "                                                                                \r"
     ]
    },
    {
     "data": {
      "text/plain": "+------------+-----------+-------+------------+--------------------+--------------+-----+--------+------+--------------------+--------------------+-------+----+--------------------+------------------------------------+---------------------------+-------------------------+------------------------+---------------------------+---------------------------+\n|merchant_abn|consumer_id|user_id|dollar_value|            order_id|order_datetime|state|postcode|gender|       merchant_name|                 tag|revenue|rate|            category|estimated_region_population_2021_sum|persons_earners_2018-19_sum|mean_earnings_2018-19_avg|sum_earnings_2018-19_sum|median_earnings_2018-19_avg|med_age_earners_2018-19_avg|\n+------------+-----------+-------+------------+--------------------+--------------+-----+--------+------+--------------------+--------------------+-------+----+--------------------+------------------------------------+---------------------------+-------------------------+------------------------+---------------------------+---------------------------+\n| 19839532017|     515722|  17272|       157.0|992f8c23-e969-4ac...|    2021-08-12|  NSW|    1001|  Male|Pellentesque Habi...|cable, satellite,...|      b|4.94|info_media_and_te...|                               31499|                    28552.0|                  70738.0|            2.01971729E9|                    28339.0|                       31.0|\n| 29216160692|     165642|  15387|       47.84|1d722c2a-6d32-446...|    2021-10-04|  NSW|    1001|  Male|    Class Aptent LLC|lawn and garden s...|      a| 5.6|retail_and_wholes...|                               31499|                    28552.0|                  70738.0|            2.01971729E9|                    28339.0|                       31.0|\n| 29216160692|    1285981|  17857|      167.38|bf1e74ef-849c-44c...|    2021-12-05|  NSW|    1001|Female|    Class Aptent LLC|lawn and garden s...|      a| 5.6|retail_and_wholes...|                               31499|                    28552.0|                  70738.0|            2.01971729E9|                    28339.0|                       31.0|\n| 38700038932|       1719|   5574|      1421.5|6cb5f6ee-9645-469...|    2021-06-14|  NSW|    1001|Female|Etiam Bibendum In...|tent and awning s...|      a|6.31|retail_and_wholes...|                               31499|                    28552.0|                  70738.0|            2.01971729E9|                    28339.0|                       31.0|\n| 41956465747|     165642|  15387|       217.5|2f133153-cade-46b...|    2021-04-15|  NSW|    1001|  Male|       Pede Cras LLP|motor vehicle sup...|      b|3.79|retail_and_wholes...|                               31499|                    28552.0|                  70738.0|            2.01971729E9|                    28339.0|                       31.0|\n| 73256306726|     799882|   3840|      311.41|b05f1792-9abe-4a3...|    2021-08-20|  NSW|    1001|Female|              Id LLP|health and beauty...|      b|4.81|              others|                               31499|                    28552.0|                  70738.0|            2.01971729E9|                    28339.0|                       31.0|\n| 73256306726|     799882|   3840|      205.87|951d7ffd-8d18-4c2...|    2021-11-25|  NSW|    1001|Female|              Id LLP|health and beauty...|      b|4.81|              others|                               31499|                    28552.0|                  70738.0|            2.01971729E9|                    28339.0|                       31.0|\n| 73256306726|       4460|  16821|      863.22|4c256f4c-645e-415...|    2021-08-07|  NSW|    1001|  Male|              Id LLP|health and beauty...|      b|4.81|              others|                               31499|                    28552.0|                  70738.0|            2.01971729E9|                    28339.0|                       31.0|\n| 83412691377|    1498612|  20021|       25.89|15d3240a-096d-4c2...|    2021-03-30|  NSW|    1001|  Male|Suspendisse Sagit...|watch, clock, and...|      c|2.94|retail_and_wholes...|                               31499|                    28552.0|                  70738.0|            2.01971729E9|                    28339.0|                       31.0|\n| 20497101151|    1040201|  15327|      290.09|2fee25b2-bd3e-4ae...|    2021-12-09|  NSW|    1001|  Male|Arcu Vestibulum A...|             telecom|      b|4.04|info_media_and_te...|                               31499|                    28552.0|                  70738.0|            2.01971729E9|                    28339.0|                       31.0|\n+------------+-----------+-------+------------+--------------------+--------------+-----+--------+------+--------------------+--------------------+-------+----+--------------------+------------------------------------+---------------------------+-------------------------+------------------------+---------------------------+---------------------------+",
      "text/html": "<table border='1'>\n<tr><th>merchant_abn</th><th>consumer_id</th><th>user_id</th><th>dollar_value</th><th>order_id</th><th>order_datetime</th><th>state</th><th>postcode</th><th>gender</th><th>merchant_name</th><th>tag</th><th>revenue</th><th>rate</th><th>category</th><th>estimated_region_population_2021_sum</th><th>persons_earners_2018-19_sum</th><th>mean_earnings_2018-19_avg</th><th>sum_earnings_2018-19_sum</th><th>median_earnings_2018-19_avg</th><th>med_age_earners_2018-19_avg</th></tr>\n<tr><td>19839532017</td><td>515722</td><td>17272</td><td>157.0</td><td>992f8c23-e969-4ac...</td><td>2021-08-12</td><td>NSW</td><td>1001</td><td>Male</td><td>Pellentesque Habi...</td><td>cable, satellite,...</td><td>b</td><td>4.94</td><td>info_media_and_te...</td><td>31499</td><td>28552.0</td><td>70738.0</td><td>2.01971729E9</td><td>28339.0</td><td>31.0</td></tr>\n<tr><td>29216160692</td><td>165642</td><td>15387</td><td>47.84</td><td>1d722c2a-6d32-446...</td><td>2021-10-04</td><td>NSW</td><td>1001</td><td>Male</td><td>Class Aptent LLC</td><td>lawn and garden s...</td><td>a</td><td>5.6</td><td>retail_and_wholes...</td><td>31499</td><td>28552.0</td><td>70738.0</td><td>2.01971729E9</td><td>28339.0</td><td>31.0</td></tr>\n<tr><td>29216160692</td><td>1285981</td><td>17857</td><td>167.38</td><td>bf1e74ef-849c-44c...</td><td>2021-12-05</td><td>NSW</td><td>1001</td><td>Female</td><td>Class Aptent LLC</td><td>lawn and garden s...</td><td>a</td><td>5.6</td><td>retail_and_wholes...</td><td>31499</td><td>28552.0</td><td>70738.0</td><td>2.01971729E9</td><td>28339.0</td><td>31.0</td></tr>\n<tr><td>38700038932</td><td>1719</td><td>5574</td><td>1421.5</td><td>6cb5f6ee-9645-469...</td><td>2021-06-14</td><td>NSW</td><td>1001</td><td>Female</td><td>Etiam Bibendum In...</td><td>tent and awning s...</td><td>a</td><td>6.31</td><td>retail_and_wholes...</td><td>31499</td><td>28552.0</td><td>70738.0</td><td>2.01971729E9</td><td>28339.0</td><td>31.0</td></tr>\n<tr><td>41956465747</td><td>165642</td><td>15387</td><td>217.5</td><td>2f133153-cade-46b...</td><td>2021-04-15</td><td>NSW</td><td>1001</td><td>Male</td><td>Pede Cras LLP</td><td>motor vehicle sup...</td><td>b</td><td>3.79</td><td>retail_and_wholes...</td><td>31499</td><td>28552.0</td><td>70738.0</td><td>2.01971729E9</td><td>28339.0</td><td>31.0</td></tr>\n<tr><td>73256306726</td><td>799882</td><td>3840</td><td>311.41</td><td>b05f1792-9abe-4a3...</td><td>2021-08-20</td><td>NSW</td><td>1001</td><td>Female</td><td>Id LLP</td><td>health and beauty...</td><td>b</td><td>4.81</td><td>others</td><td>31499</td><td>28552.0</td><td>70738.0</td><td>2.01971729E9</td><td>28339.0</td><td>31.0</td></tr>\n<tr><td>73256306726</td><td>799882</td><td>3840</td><td>205.87</td><td>951d7ffd-8d18-4c2...</td><td>2021-11-25</td><td>NSW</td><td>1001</td><td>Female</td><td>Id LLP</td><td>health and beauty...</td><td>b</td><td>4.81</td><td>others</td><td>31499</td><td>28552.0</td><td>70738.0</td><td>2.01971729E9</td><td>28339.0</td><td>31.0</td></tr>\n<tr><td>73256306726</td><td>4460</td><td>16821</td><td>863.22</td><td>4c256f4c-645e-415...</td><td>2021-08-07</td><td>NSW</td><td>1001</td><td>Male</td><td>Id LLP</td><td>health and beauty...</td><td>b</td><td>4.81</td><td>others</td><td>31499</td><td>28552.0</td><td>70738.0</td><td>2.01971729E9</td><td>28339.0</td><td>31.0</td></tr>\n<tr><td>83412691377</td><td>1498612</td><td>20021</td><td>25.89</td><td>15d3240a-096d-4c2...</td><td>2021-03-30</td><td>NSW</td><td>1001</td><td>Male</td><td>Suspendisse Sagit...</td><td>watch, clock, and...</td><td>c</td><td>2.94</td><td>retail_and_wholes...</td><td>31499</td><td>28552.0</td><td>70738.0</td><td>2.01971729E9</td><td>28339.0</td><td>31.0</td></tr>\n<tr><td>20497101151</td><td>1040201</td><td>15327</td><td>290.09</td><td>2fee25b2-bd3e-4ae...</td><td>2021-12-09</td><td>NSW</td><td>1001</td><td>Male</td><td>Arcu Vestibulum A...</td><td>telecom</td><td>b</td><td>4.04</td><td>info_media_and_te...</td><td>31499</td><td>28552.0</td><td>70738.0</td><td>2.01971729E9</td><td>28339.0</td><td>31.0</td></tr>\n</table>\n"
     },
     "execution_count": 10,
     "metadata": {},
     "output_type": "execute_result"
    }
   ],
   "source": [
    "transactions.orderBy(F.asc_nulls_first('postcode')).limit(10)"
   ],
   "metadata": {
    "collapsed": false,
    "pycharm": {
     "name": "#%%\n"
    }
   }
  },
  {
   "cell_type": "code",
   "execution_count": 11,
   "outputs": [
    {
     "ename": "NameError",
     "evalue": "name 'income_sdf' is not defined",
     "output_type": "error",
     "traceback": [
      "\u001B[0;31m---------------------------------------------------------------------------\u001B[0m",
      "\u001B[0;31mNameError\u001B[0m                                 Traceback (most recent call last)",
      "Input \u001B[0;32mIn [11]\u001B[0m, in \u001B[0;36m<cell line: 1>\u001B[0;34m()\u001B[0m\n\u001B[0;32m----> 1\u001B[0m transactions_j \u001B[38;5;241m=\u001B[39m join_ext_with_master(\u001B[43mincome_sdf\u001B[49m, pop_sdf, transactions)\n",
      "\u001B[0;31mNameError\u001B[0m: name 'income_sdf' is not defined"
     ]
    }
   ],
   "source": [
    "transactions_j = join_ext_with_master(income_sdf, pop_sdf, transactions)"
   ],
   "metadata": {
    "collapsed": false,
    "pycharm": {
     "name": "#%%\n"
    }
   }
  },
  {
   "cell_type": "code",
   "execution_count": null,
   "outputs": [],
   "source": [
    "transactions_j.limit(5)"
   ],
   "metadata": {
    "collapsed": false,
    "pycharm": {
     "name": "#%%\n"
    }
   }
  },
  {
   "cell_type": "code",
   "execution_count": 12,
   "outputs": [
    {
     "name": "stderr",
     "output_type": "stream",
     "text": [
      "                                                                                \r"
     ]
    },
    {
     "data": {
      "text/plain": "8151372"
     },
     "execution_count": 12,
     "metadata": {},
     "output_type": "execute_result"
    }
   ],
   "source": [
    "transactions_j.count()"
   ],
   "metadata": {
    "collapsed": false,
    "pycharm": {
     "name": "#%%\n"
    }
   }
  },
  {
   "cell_type": "code",
   "execution_count": null,
   "outputs": [],
   "source": [
    "ff = spark.read\n",
    "\n"
   ],
   "metadata": {
    "collapsed": false,
    "pycharm": {
     "name": "#%%\n"
    }
   }
  }
 ],
 "metadata": {
  "kernelspec": {
   "display_name": "Python 3",
   "language": "python",
   "name": "python3"
  },
  "language_info": {
   "codemirror_mode": {
    "name": "ipython",
    "version": 2
   },
   "file_extension": ".py",
   "mimetype": "text/x-python",
   "name": "python",
   "nbconvert_exporter": "python",
   "pygments_lexer": "ipython2",
   "version": "2.7.6"
  }
 },
 "nbformat": 4,
 "nbformat_minor": 0
}