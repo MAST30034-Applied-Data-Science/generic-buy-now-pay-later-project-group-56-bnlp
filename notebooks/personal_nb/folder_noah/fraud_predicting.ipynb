{
 "cells": [
  {
   "cell_type": "code",
   "execution_count": 57,
   "id": "2995df53",
   "metadata": {
    "pycharm": {
     "name": "#%%\n"
    }
   },
   "outputs": [],
   "source": [
    "import pandas as pd\n",
    "from pyspark.sql import SparkSession, functions as F\n",
    "from pyspark.ml.regression import GBTRegressor\n",
    "from pyspark.ml.evaluation import RegressionEvaluator\n",
    "import seaborn as sns\n",
    "import numpy as np"
   ]
  },
  {
   "cell_type": "code",
   "execution_count": 58,
   "id": "063650a8",
   "metadata": {
    "pycharm": {
     "name": "#%%\n"
    }
   },
   "outputs": [],
   "source": [
    "# Create a spark session\n",
    "spark = (\n",
    "    SparkSession.builder.appName(\"Predict fraud probabilities\")\n",
    "    .config(\"spark.sql.repl.eagerEval.enabled\", True)\n",
    "    .config(\"spark.sql.parquet.cacheMetadata\", \"true\")\n",
    "    .config(\"spark.driver.memory\", \"8g\")\n",
    "    .config(\"spark.sql.session.timeZone\", \"Etc/UTC\")\n",
    "    .getOrCreate()\n",
    ")"
   ]
  },
  {
   "cell_type": "code",
   "execution_count": 59,
   "id": "2173dff9",
   "metadata": {
    "pycharm": {
     "name": "#%%\n"
    }
   },
   "outputs": [
    {
     "name": "stdout",
     "output_type": "stream",
     "text": [
      "root\n",
      " |-- merchant_abn: long (nullable = true)\n",
      " |-- consumer_id: long (nullable = true)\n",
      " |-- user_id: long (nullable = true)\n",
      " |-- dollar_value: double (nullable = true)\n",
      " |-- order_id: string (nullable = true)\n",
      " |-- order_datetime: date (nullable = true)\n",
      " |-- state: string (nullable = true)\n",
      " |-- postcode: integer (nullable = true)\n",
      " |-- gender: string (nullable = true)\n",
      " |-- merchant_name: string (nullable = true)\n",
      " |-- tag: string (nullable = true)\n",
      " |-- revenue: string (nullable = true)\n",
      " |-- rate: double (nullable = true)\n",
      " |-- category: string (nullable = true)\n",
      " |-- subcategory: string (nullable = true)\n",
      " |-- merchant_fraud_probability: double (nullable = true)\n",
      " |-- user_fraud_probability: double (nullable = true)\n",
      " |-- estimated_region_population_2021_sum: long (nullable = true)\n",
      " |-- persons_earners_2018-19_sum: double (nullable = true)\n",
      " |-- mean_earnings_2018-19_avg: double (nullable = true)\n",
      " |-- sum_earnings_2018-19_sum: double (nullable = true)\n",
      " |-- median_earnings_2018-19_avg: double (nullable = true)\n",
      " |-- med_age_earners_2018-19_avg: double (nullable = true)\n",
      " |-- merchant_fraud_prediction: double (nullable = true)\n",
      " |-- user_fraud_prediction: double (nullable = true)\n",
      " |-- isfraud: integer (nullable = true)\n",
      "\n"
     ]
    }
   ],
   "source": [
    "spark.read.parquet('../../../data/curated/process_data.parquet').printSchema()"
   ]
  },
  {
   "cell_type": "code",
   "execution_count": 4,
   "id": "4dc2c0b8",
   "metadata": {
    "pycharm": {
     "name": "#%%\n"
    }
   },
   "outputs": [
    {
     "name": "stdout",
     "output_type": "stream",
     "text": [
      "{'rate', 'merchant_fraud_probability', 'user_fraud_probability', 'revenue', 'dollar_value', 'gender'}\n"
     ]
    }
   ],
   "source": [
    "# these are our predictors\n",
    "base_features = {'dollar_value',\n",
    "                 'gender',\n",
    "                 'revenue',\n",
    "                 'rate'}\n",
    "\n",
    "#user_feature = {'user_fraud_probability'}\n",
    "#merchant_feature = {'merchant_fraud_probability'}\n",
    "\n",
    "target_features = {'user_fraud_probability', 'merchant_fraud_probability'}\n",
    "\n",
    "\n",
    "subset = base_features.union(target_features)\n",
    "print(subset)"
   ]
  },
  {
   "cell_type": "code",
   "execution_count": 5,
   "id": "de3c6b89",
   "metadata": {
    "pycharm": {
     "name": "#%%\n"
    }
   },
   "outputs": [
    {
     "name": "stderr",
     "output_type": "stream",
     "text": [
      "                                                                                \r"
     ]
    }
   ],
   "source": [
    "data = spark.read.parquet('../../../data/curated/process_data.parquet').select(*subset)\n",
    "#user_data = data.na.drop(subset=['user_fraud_probab\n",
    "# ility'])\n",
    "#merchant_data = data.na.drop(subset=['merchant_fraud_probability'])"
   ]
  },
  {
   "cell_type": "code",
   "execution_count": 6,
   "id": "ad058ea3",
   "metadata": {
    "pycharm": {
     "name": "#%%\n"
    }
   },
   "outputs": [],
   "source": [
    "def get_weights(df1, label, n):\n",
    "\n",
    "    # drop rows with missing label\n",
    "    df = df1.na.drop(subset=[label]).toPandas()\n",
    "\n",
    "    # find bins\n",
    "    df['bin'] = pd.cut(df[label], n)\n",
    "\n",
    "    # get weights and create mapper\n",
    "    d = df.groupby('bin').count()[label].map(np.log)\n",
    "    d = d.sum() / d\n",
    "    mapper = d.to_dict()\n",
    "\n",
    "    # create weights col mapped from bins\n",
    "    df['weights'] = df['bin'].map(lambda x: mapper[x])\n",
    "\n",
    "    weighted_df = spark.createDataFrame(df.drop('bin', axis=1))\n",
    "\n",
    "    return weighted_df\n"
   ]
  },
  {
   "cell_type": "code",
   "execution_count": 7,
   "id": "8765ec26",
   "metadata": {
    "pycharm": {
     "name": "#%%\n"
    }
   },
   "outputs": [
    {
     "name": "stderr",
     "output_type": "stream",
     "text": [
      "                                                                                \r"
     ]
    }
   ],
   "source": [
    "ud = get_weights(data, 'user_fraud_probability', 10)"
   ]
  },
  {
   "cell_type": "code",
   "execution_count": 8,
   "outputs": [
    {
     "name": "stderr",
     "output_type": "stream",
     "text": [
      "                                                                                \r"
     ]
    }
   ],
   "source": [
    "md = get_weights(data, 'merchant_fraud_probability', 5)"
   ],
   "metadata": {
    "collapsed": false,
    "pycharm": {
     "name": "#%%\n"
    }
   }
  },
  {
   "cell_type": "code",
   "execution_count": 9,
   "outputs": [
    {
     "data": {
      "text/plain": "+------+--------------------------+----------------------+-------+------------+------+------------------+\n|  rate|merchant_fraud_probability|user_fraud_probability|revenue|dollar_value|gender|           weights|\n+------+--------------------------+----------------------+-------+------------+------+------------------+\n|0.0273|                       0.3|                   NaN|      c|      727.31|  Male|2.5125695633550493|\n| 0.061|                      0.29|                   NaN|      a|      315.11|  Male|2.5125695633550493|\n|0.0273|                       0.3|                   NaN|      c|      179.11|  Male|2.5125695633550493|\n|0.0664|                      0.28|                   NaN|      a|       31.93|Female|2.5125695633550493|\n|0.0555|                      0.29|                   NaN|      a|      857.35|Female|2.5125695633550493|\n|0.0176|                      0.29|                   NaN|      c|      376.61|  Male|2.5125695633550493|\n|0.0273|                       0.3|                   NaN|      c|      462.39|  Male|2.5125695633550493|\n|0.0273|                       0.3|                   NaN|      c|       35.23|  Male|2.5125695633550493|\n|0.0419|                       0.3|                  0.52|      b|    30489.85|Female|2.5125695633550493|\n| 0.061|                      0.29|                   NaN|      a|      230.97|Female|2.5125695633550493|\n+------+--------------------------+----------------------+-------+------------+------+------------------+",
      "text/html": "<table border='1'>\n<tr><th>rate</th><th>merchant_fraud_probability</th><th>user_fraud_probability</th><th>revenue</th><th>dollar_value</th><th>gender</th><th>weights</th></tr>\n<tr><td>0.0273</td><td>0.3</td><td>NaN</td><td>c</td><td>727.31</td><td>Male</td><td>2.5125695633550493</td></tr>\n<tr><td>0.061</td><td>0.29</td><td>NaN</td><td>a</td><td>315.11</td><td>Male</td><td>2.5125695633550493</td></tr>\n<tr><td>0.0273</td><td>0.3</td><td>NaN</td><td>c</td><td>179.11</td><td>Male</td><td>2.5125695633550493</td></tr>\n<tr><td>0.0664</td><td>0.28</td><td>NaN</td><td>a</td><td>31.93</td><td>Female</td><td>2.5125695633550493</td></tr>\n<tr><td>0.0555</td><td>0.29</td><td>NaN</td><td>a</td><td>857.35</td><td>Female</td><td>2.5125695633550493</td></tr>\n<tr><td>0.0176</td><td>0.29</td><td>NaN</td><td>c</td><td>376.61</td><td>Male</td><td>2.5125695633550493</td></tr>\n<tr><td>0.0273</td><td>0.3</td><td>NaN</td><td>c</td><td>462.39</td><td>Male</td><td>2.5125695633550493</td></tr>\n<tr><td>0.0273</td><td>0.3</td><td>NaN</td><td>c</td><td>35.23</td><td>Male</td><td>2.5125695633550493</td></tr>\n<tr><td>0.0419</td><td>0.3</td><td>0.52</td><td>b</td><td>30489.85</td><td>Female</td><td>2.5125695633550493</td></tr>\n<tr><td>0.061</td><td>0.29</td><td>NaN</td><td>a</td><td>230.97</td><td>Female</td><td>2.5125695633550493</td></tr>\n</table>\n"
     },
     "execution_count": 9,
     "metadata": {},
     "output_type": "execute_result"
    }
   ],
   "source": [
    "md.limit(10)"
   ],
   "metadata": {
    "collapsed": false,
    "pycharm": {
     "name": "#%%\n"
    }
   }
  },
  {
   "cell_type": "code",
   "execution_count": 10,
   "outputs": [],
   "source": [
    "def get_dummy(df,categoricalCols,continuousCols,labelCol=None, master=False):\n",
    "\n",
    "    from pyspark.ml import Pipeline\n",
    "    from pyspark.ml.feature import StringIndexer, OneHotEncoder, VectorAssembler\n",
    "\n",
    "    new_cols = {}\n",
    "\n",
    "    indexers = [ StringIndexer(inputCol=c, outputCol=\"{0}_indexed\".format(c))\n",
    "                 for c in categoricalCols ]\n",
    "\n",
    "\n",
    "\n",
    "    # default setting: dropLast=True\n",
    "    encoders = [ OneHotEncoder(inputCol=indexer.getOutputCol(),\n",
    "                               outputCol=\"{0}_encoded\".format(indexer.getOutputCol()))\n",
    "                 for indexer in indexers ]\n",
    "\n",
    "    assembler = VectorAssembler(inputCols=[encoder.getOutputCol() for encoder in encoders]\n",
    "                                          + continuousCols, outputCol=\"features\")\n",
    "\n",
    "    pipeline = Pipeline(stages=indexers + encoders + [assembler])\n",
    "\n",
    "    model=pipeline.fit(df)\n",
    "    data_ = model.transform(df)\n",
    "\n",
    "    if master:\n",
    "\n",
    "        for indexer in indexers:\n",
    "            data_ = data_.drop(indexer.getOutputCol())\n",
    "\n",
    "        for encoder in encoders:\n",
    "            data_ = data_.drop(encoder.getOutputCol())\n",
    "\n",
    "        return data_\n",
    "\n",
    "    else:\n",
    "        return data_.select('features',labelCol, 'weights')\n",
    "\n"
   ],
   "metadata": {
    "collapsed": false,
    "pycharm": {
     "name": "#%%\n"
    }
   }
  },
  {
   "cell_type": "code",
   "execution_count": 11,
   "id": "05652c0a",
   "metadata": {
    "pycharm": {
     "name": "#%%\n"
    }
   },
   "outputs": [],
   "source": [
    "# now we want to vectorize\n",
    "categorical_cols = {'gender','revenue'}\n",
    "continous_cols = {'dollar_value', 'rate'}"
   ]
  },
  {
   "cell_type": "code",
   "execution_count": 12,
   "id": "f1685b1d",
   "metadata": {
    "pycharm": {
     "name": "#%%\n"
    }
   },
   "outputs": [
    {
     "name": "stderr",
     "output_type": "stream",
     "text": [
      "                                                                                \r"
     ]
    }
   ],
   "source": [
    "ud_v = get_dummy(ud, list(categorical_cols), list(continous_cols), labelCol='user_fraud_probability')\n",
    "md_v = get_dummy(md, list(categorical_cols), list(continous_cols), labelCol='merchant_fraud_probability')"
   ]
  },
  {
   "cell_type": "code",
   "execution_count": 13,
   "id": "1f0fb2b2",
   "metadata": {
    "pycharm": {
     "name": "#%%\n"
    }
   },
   "outputs": [
    {
     "name": "stdout",
     "output_type": "stream",
     "text": [
      "+--------------------+--------------------------+------------------+\n",
      "|            features|merchant_fraud_probability|           weights|\n",
      "+--------------------+--------------------------+------------------+\n",
      "|(8,[2,5,6,7],[1.0...|                       0.3|2.5125695633550493|\n",
      "|(8,[0,5,6,7],[1.0...|                      0.29|2.5125695633550493|\n",
      "|(8,[2,5,6,7],[1.0...|                       0.3|2.5125695633550493|\n",
      "|(8,[0,4,6,7],[1.0...|                      0.28|2.5125695633550493|\n",
      "|(8,[0,4,6,7],[1.0...|                      0.29|2.5125695633550493|\n",
      "|(8,[2,5,6,7],[1.0...|                      0.29|2.5125695633550493|\n",
      "|(8,[2,5,6,7],[1.0...|                       0.3|2.5125695633550493|\n",
      "|(8,[2,5,6,7],[1.0...|                       0.3|2.5125695633550493|\n",
      "|(8,[1,4,6,7],[1.0...|                       0.3|2.5125695633550493|\n",
      "|(8,[0,4,6,7],[1.0...|                      0.29|2.5125695633550493|\n",
      "+--------------------+--------------------------+------------------+\n",
      "only showing top 10 rows\n",
      "\n"
     ]
    }
   ],
   "source": [
    "md_v.show(10)\n",
    "#md_v.orderBy(F.desc('weights'))"
   ]
  },
  {
   "cell_type": "code",
   "execution_count": 14,
   "id": "ccd4415a",
   "metadata": {
    "pycharm": {
     "name": "#%%\n"
    }
   },
   "outputs": [],
   "source": [
    "gbt_uf = GBTRegressor(labelCol='user_fraud_probability',\n",
    "                   featuresCol=\"features\",\n",
    "                   maxIter=20,\n",
    "                   maxDepth=10,\n",
    "                   seed=56,\n",
    "                   lossType='squared',\n",
    "                   weightCol='weights',\n",
    "                   predictionCol='user_fraud_prediction')"
   ]
  },
  {
   "cell_type": "code",
   "execution_count": 15,
   "id": "bc7dd9e8",
   "metadata": {
    "pycharm": {
     "name": "#%%\n"
    }
   },
   "outputs": [],
   "source": [
    "gbt_mf = GBTRegressor(labelCol='merchant_fraud_probability',\n",
    "                   featuresCol=\"features\",\n",
    "                   maxIter=20,\n",
    "                   maxDepth=10,\n",
    "                   seed=56,\n",
    "                   lossType='squared',\n",
    "                   weightCol='weights',\n",
    "                   predictionCol='merchant_fraud_prediction')"
   ]
  },
  {
   "cell_type": "code",
   "execution_count": 16,
   "id": "637e3290",
   "metadata": {
    "pycharm": {
     "name": "#%%\n"
    }
   },
   "outputs": [],
   "source": [
    "(ufTrainData, ufTestData) = ud_v.randomSplit([0.7, 0.3])\n",
    "(mfTrainData, mfTestData) = md_v.randomSplit([0.7, 0.3])"
   ]
  },
  {
   "cell_type": "markdown",
   "source": [
    "Fit the models"
   ],
   "metadata": {
    "collapsed": false,
    "pycharm": {
     "name": "#%% md\n"
    }
   }
  },
  {
   "cell_type": "code",
   "execution_count": 17,
   "id": "a4151dc1",
   "metadata": {
    "pycharm": {
     "name": "#%%\n"
    }
   },
   "outputs": [
    {
     "name": "stderr",
     "output_type": "stream",
     "text": [
      "22/10/06 21:46:35 WARN DAGScheduler: Broadcasting large task binary with size 1006.1 KiB\n",
      "22/10/06 21:46:35 WARN DAGScheduler: Broadcasting large task binary with size 1036.2 KiB\n",
      "22/10/06 21:46:35 WARN DAGScheduler: Broadcasting large task binary with size 1029.6 KiB\n",
      "22/10/06 21:46:35 WARN DAGScheduler: Broadcasting large task binary with size 1030.1 KiB\n",
      "22/10/06 21:46:35 WARN DAGScheduler: Broadcasting large task binary with size 1030.8 KiB\n",
      "22/10/06 21:46:36 WARN DAGScheduler: Broadcasting large task binary with size 1031.8 KiB\n",
      "22/10/06 21:46:36 WARN DAGScheduler: Broadcasting large task binary with size 1034.2 KiB\n",
      "22/10/06 21:46:36 WARN DAGScheduler: Broadcasting large task binary with size 1038.8 KiB\n",
      "22/10/06 21:46:36 WARN DAGScheduler: Broadcasting large task binary with size 1046.2 KiB\n",
      "22/10/06 21:46:36 WARN DAGScheduler: Broadcasting large task binary with size 1057.7 KiB\n",
      "22/10/06 21:46:36 WARN DAGScheduler: Broadcasting large task binary with size 1077.1 KiB\n",
      "22/10/06 21:46:36 WARN DAGScheduler: Broadcasting large task binary with size 1108.8 KiB\n",
      "22/10/06 21:46:36 WARN DAGScheduler: Broadcasting large task binary with size 1102.8 KiB\n",
      "22/10/06 21:46:36 WARN DAGScheduler: Broadcasting large task binary with size 1103.2 KiB\n",
      "22/10/06 21:46:37 WARN DAGScheduler: Broadcasting large task binary with size 1104.0 KiB\n",
      "22/10/06 21:46:37 WARN DAGScheduler: Broadcasting large task binary with size 1105.0 KiB\n",
      "22/10/06 21:46:37 WARN DAGScheduler: Broadcasting large task binary with size 1107.4 KiB\n",
      "22/10/06 21:46:37 WARN DAGScheduler: Broadcasting large task binary with size 1112.1 KiB\n",
      "22/10/06 21:46:37 WARN DAGScheduler: Broadcasting large task binary with size 1121.4 KiB\n",
      "22/10/06 21:46:37 WARN DAGScheduler: Broadcasting large task binary with size 1136.6 KiB\n",
      "22/10/06 21:46:37 WARN DAGScheduler: Broadcasting large task binary with size 1157.7 KiB\n",
      "22/10/06 21:46:37 WARN DAGScheduler: Broadcasting large task binary with size 1185.9 KiB\n",
      "22/10/06 21:46:37 WARN DAGScheduler: Broadcasting large task binary with size 1170.5 KiB\n",
      "22/10/06 21:46:37 WARN DAGScheduler: Broadcasting large task binary with size 1170.9 KiB\n",
      "22/10/06 21:46:38 WARN DAGScheduler: Broadcasting large task binary with size 1171.7 KiB\n",
      "22/10/06 21:46:38 WARN DAGScheduler: Broadcasting large task binary with size 1172.7 KiB\n",
      "22/10/06 21:46:38 WARN DAGScheduler: Broadcasting large task binary with size 1175.1 KiB\n",
      "22/10/06 21:46:38 WARN DAGScheduler: Broadcasting large task binary with size 1179.7 KiB\n",
      "22/10/06 21:46:38 WARN DAGScheduler: Broadcasting large task binary with size 1188.9 KiB\n",
      "22/10/06 21:46:38 WARN DAGScheduler: Broadcasting large task binary with size 1205.6 KiB\n",
      "22/10/06 21:46:38 WARN DAGScheduler: Broadcasting large task binary with size 1233.0 KiB\n",
      "22/10/06 21:46:38 WARN DAGScheduler: Broadcasting large task binary with size 1271.5 KiB\n",
      "22/10/06 21:46:38 WARN DAGScheduler: Broadcasting large task binary with size 1258.6 KiB\n",
      "22/10/06 21:46:38 WARN DAGScheduler: Broadcasting large task binary with size 1259.0 KiB\n",
      "22/10/06 21:46:39 WARN DAGScheduler: Broadcasting large task binary with size 1259.8 KiB\n",
      "22/10/06 21:46:39 WARN DAGScheduler: Broadcasting large task binary with size 1260.8 KiB\n",
      "22/10/06 21:46:39 WARN DAGScheduler: Broadcasting large task binary with size 1263.1 KiB\n",
      "22/10/06 21:46:39 WARN DAGScheduler: Broadcasting large task binary with size 1267.6 KiB\n",
      "22/10/06 21:46:39 WARN DAGScheduler: Broadcasting large task binary with size 1275.1 KiB\n",
      "22/10/06 21:46:39 WARN DAGScheduler: Broadcasting large task binary with size 1285.8 KiB\n",
      "22/10/06 21:46:39 WARN DAGScheduler: Broadcasting large task binary with size 1298.9 KiB\n",
      "22/10/06 21:46:39 WARN DAGScheduler: Broadcasting large task binary with size 1316.1 KiB\n",
      "22/10/06 21:46:39 WARN DAGScheduler: Broadcasting large task binary with size 1306.2 KiB\n",
      "22/10/06 21:46:39 WARN DAGScheduler: Broadcasting large task binary with size 1306.7 KiB\n",
      "22/10/06 21:46:40 WARN DAGScheduler: Broadcasting large task binary with size 1307.4 KiB\n",
      "22/10/06 21:46:40 WARN DAGScheduler: Broadcasting large task binary with size 1308.5 KiB\n",
      "22/10/06 21:46:40 WARN DAGScheduler: Broadcasting large task binary with size 1310.8 KiB\n",
      "22/10/06 21:46:40 WARN DAGScheduler: Broadcasting large task binary with size 1315.5 KiB\n",
      "22/10/06 21:46:40 WARN DAGScheduler: Broadcasting large task binary with size 1325.0 KiB\n",
      "22/10/06 21:46:40 WARN DAGScheduler: Broadcasting large task binary with size 1342.9 KiB\n",
      "22/10/06 21:46:40 WARN DAGScheduler: Broadcasting large task binary with size 1373.7 KiB\n",
      "22/10/06 21:46:40 WARN DAGScheduler: Broadcasting large task binary with size 1421.5 KiB\n",
      "22/10/06 21:46:40 WARN DAGScheduler: Broadcasting large task binary with size 1411.2 KiB\n",
      "22/10/06 21:46:41 WARN DAGScheduler: Broadcasting large task binary with size 1411.6 KiB\n",
      "22/10/06 21:46:41 WARN DAGScheduler: Broadcasting large task binary with size 1412.4 KiB\n",
      "22/10/06 21:46:41 WARN DAGScheduler: Broadcasting large task binary with size 1413.4 KiB\n",
      "22/10/06 21:46:41 WARN DAGScheduler: Broadcasting large task binary with size 1415.7 KiB\n",
      "22/10/06 21:46:41 WARN DAGScheduler: Broadcasting large task binary with size 1420.4 KiB\n",
      "22/10/06 21:46:41 WARN DAGScheduler: Broadcasting large task binary with size 1429.9 KiB\n",
      "22/10/06 21:46:41 WARN DAGScheduler: Broadcasting large task binary with size 1447.7 KiB\n",
      "22/10/06 21:46:41 WARN DAGScheduler: Broadcasting large task binary with size 1476.5 KiB\n",
      "22/10/06 21:46:41 WARN DAGScheduler: Broadcasting large task binary with size 1517.0 KiB\n",
      "22/10/06 21:46:42 WARN DAGScheduler: Broadcasting large task binary with size 1504.0 KiB\n",
      "22/10/06 21:46:42 WARN DAGScheduler: Broadcasting large task binary with size 1504.5 KiB\n",
      "22/10/06 21:46:42 WARN DAGScheduler: Broadcasting large task binary with size 1505.2 KiB\n",
      "22/10/06 21:46:42 WARN DAGScheduler: Broadcasting large task binary with size 1506.3 KiB\n",
      "22/10/06 21:46:42 WARN DAGScheduler: Broadcasting large task binary with size 1508.6 KiB\n",
      "22/10/06 21:46:42 WARN DAGScheduler: Broadcasting large task binary with size 1513.2 KiB\n",
      "22/10/06 21:46:42 WARN DAGScheduler: Broadcasting large task binary with size 1522.6 KiB\n",
      "22/10/06 21:46:43 WARN DAGScheduler: Broadcasting large task binary with size 1538.5 KiB\n",
      "22/10/06 21:46:43 WARN DAGScheduler: Broadcasting large task binary with size 1563.3 KiB\n",
      "22/10/06 21:46:43 WARN DAGScheduler: Broadcasting large task binary with size 1600.8 KiB\n",
      "22/10/06 21:46:43 WARN DAGScheduler: Broadcasting large task binary with size 1586.2 KiB\n",
      "22/10/06 21:46:43 WARN DAGScheduler: Broadcasting large task binary with size 1586.7 KiB\n",
      "22/10/06 21:46:43 WARN DAGScheduler: Broadcasting large task binary with size 1587.4 KiB\n",
      "22/10/06 21:46:43 WARN DAGScheduler: Broadcasting large task binary with size 1588.4 KiB\n",
      "22/10/06 21:46:43 WARN DAGScheduler: Broadcasting large task binary with size 1590.7 KiB\n",
      "22/10/06 21:46:44 WARN DAGScheduler: Broadcasting large task binary with size 1595.5 KiB\n",
      "22/10/06 21:46:44 WARN DAGScheduler: Broadcasting large task binary with size 1605.2 KiB\n",
      "22/10/06 21:46:44 WARN DAGScheduler: Broadcasting large task binary with size 1622.6 KiB\n",
      "22/10/06 21:46:44 WARN DAGScheduler: Broadcasting large task binary with size 1650.8 KiB\n",
      "22/10/06 21:46:44 WARN DAGScheduler: Broadcasting large task binary with size 1695.2 KiB\n",
      "22/10/06 21:46:44 WARN DAGScheduler: Broadcasting large task binary with size 1685.7 KiB\n",
      "22/10/06 21:46:44 WARN DAGScheduler: Broadcasting large task binary with size 1686.1 KiB\n",
      "22/10/06 21:46:44 WARN DAGScheduler: Broadcasting large task binary with size 1686.9 KiB\n",
      "22/10/06 21:46:44 WARN DAGScheduler: Broadcasting large task binary with size 1687.9 KiB\n",
      "22/10/06 21:46:45 WARN DAGScheduler: Broadcasting large task binary with size 1690.3 KiB\n",
      "22/10/06 21:46:45 WARN DAGScheduler: Broadcasting large task binary with size 1694.7 KiB\n",
      "22/10/06 21:46:45 WARN DAGScheduler: Broadcasting large task binary with size 1702.2 KiB\n",
      "22/10/06 21:46:45 WARN DAGScheduler: Broadcasting large task binary with size 1713.8 KiB\n",
      "22/10/06 21:46:45 WARN DAGScheduler: Broadcasting large task binary with size 1730.4 KiB\n",
      "22/10/06 21:46:45 WARN DAGScheduler: Broadcasting large task binary with size 1753.9 KiB\n"
     ]
    }
   ],
   "source": [
    "uf_model = gbt_uf.fit(ufTrainData)"
   ]
  },
  {
   "cell_type": "code",
   "execution_count": 18,
   "outputs": [],
   "source": [
    "mf_model = gbt_mf.fit(mfTrainData)"
   ],
   "metadata": {
    "collapsed": false,
    "pycharm": {
     "name": "#%%\n"
    }
   }
  },
  {
   "cell_type": "markdown",
   "source": [
    "Evaluate model on training data"
   ],
   "metadata": {
    "collapsed": false,
    "pycharm": {
     "name": "#%% md\n"
    }
   }
  },
  {
   "cell_type": "code",
   "execution_count": 19,
   "id": "c44ec064",
   "metadata": {
    "pycharm": {
     "name": "#%%\n"
    }
   },
   "outputs": [],
   "source": [
    "uf_predictions = uf_model.transform(ufTrainData)"
   ]
  },
  {
   "cell_type": "code",
   "execution_count": 20,
   "outputs": [],
   "source": [
    "mf_predictions = mf_model.transform(mfTrainData)"
   ],
   "metadata": {
    "collapsed": false,
    "pycharm": {
     "name": "#%%\n"
    }
   }
  },
  {
   "cell_type": "code",
   "execution_count": 21,
   "outputs": [],
   "source": [
    "#mf_predictions"
   ],
   "metadata": {
    "collapsed": false,
    "pycharm": {
     "name": "#%%\n"
    }
   }
  },
  {
   "cell_type": "code",
   "execution_count": 22,
   "outputs": [
    {
     "name": "stderr",
     "output_type": "stream",
     "text": [
      "22/10/06 21:46:58 WARN BLAS: Failed to load implementation from: com.github.fommil.netlib.NativeSystemBLAS\n",
      "22/10/06 21:46:58 WARN BLAS: Failed to load implementation from: com.github.fommil.netlib.NativeRefBLAS\n",
      "                                                                                \r"
     ]
    }
   ],
   "source": [
    "uf_res = uf_predictions.select(['user_fraud_prediction', 'user_fraud_probability']).toPandas()\n",
    "mf_res = mf_predictions.select(['merchant_fraud_prediction', 'merchant_fraud_probability']).toPandas()"
   ],
   "metadata": {
    "collapsed": false,
    "pycharm": {
     "name": "#%%\n"
    }
   }
  },
  {
   "cell_type": "markdown",
   "source": [
    "User fraud predictions on training data"
   ],
   "metadata": {
    "collapsed": false,
    "pycharm": {
     "name": "#%% md\n"
    }
   }
  },
  {
   "cell_type": "code",
   "execution_count": 23,
   "outputs": [
    {
     "data": {
      "text/plain": "<AxesSubplot:>"
     },
     "execution_count": 23,
     "metadata": {},
     "output_type": "execute_result"
    },
    {
     "data": {
      "text/plain": "<Figure size 432x288 with 1 Axes>",
      "image/png": "[encoded data removed]"
     },
     "metadata": {},
     "output_type": "display_data"
    }
   ],
   "source": [
    "sns.boxplot(data=uf_res)"
   ],
   "metadata": {
    "collapsed": false,
    "pycharm": {
     "name": "#%%\n"
    }
   }
  },
  {
   "cell_type": "code",
   "execution_count": 24,
   "outputs": [
    {
     "data": {
      "text/plain": "<AxesSubplot:xlabel='user_fraud_prediction', ylabel='Count'>"
     },
     "execution_count": 24,
     "metadata": {},
     "output_type": "execute_result"
    },
    {
     "data": {
      "text/plain": "<Figure size 432x288 with 1 Axes>",
      "image/png": "[encoded data removed]"
     },
     "metadata": {},
     "output_type": "display_data"
    }
   ],
   "source": [
    "sns.histplot(x='user_fraud_prediction', data=uf_res, kde=True, bins=50)"
   ],
   "metadata": {
    "collapsed": false,
    "pycharm": {
     "name": "#%%\n"
    }
   }
  },
  {
   "cell_type": "code",
   "execution_count": 25,
   "outputs": [
    {
     "data": {
      "text/plain": "<AxesSubplot:xlabel='user_fraud_probability', ylabel='Count'>"
     },
     "execution_count": 25,
     "metadata": {},
     "output_type": "execute_result"
    },
    {
     "data": {
      "text/plain": "<Figure size 432x288 with 1 Axes>",
      "image/png": "[encoded data removed]"
     },
     "metadata": {},
     "output_type": "display_data"
    }
   ],
   "source": [
    "sns.histplot(uf_res['user_fraud_probability'], kde=True, bins=50)"
   ],
   "metadata": {
    "collapsed": false,
    "pycharm": {
     "name": "#%%\n"
    }
   }
  },
  {
   "cell_type": "markdown",
   "source": [
    "User fraud predctions on test data"
   ],
   "metadata": {
    "collapsed": false,
    "pycharm": {
     "name": "#%% md\n"
    }
   }
  },
  {
   "cell_type": "code",
   "execution_count": 26,
   "outputs": [],
   "source": [
    "uf_pred_test = uf_model.transform(ufTestData)\n",
    "\n",
    "uf_res_test = uf_pred_test.select(['user_fraud_prediction', 'user_fraud_probability']).toPandas()"
   ],
   "metadata": {
    "collapsed": false,
    "pycharm": {
     "name": "#%%\n"
    }
   }
  },
  {
   "cell_type": "code",
   "execution_count": 27,
   "outputs": [
    {
     "data": {
      "text/plain": "<AxesSubplot:>"
     },
     "execution_count": 27,
     "metadata": {},
     "output_type": "execute_result"
    },
    {
     "data": {
      "text/plain": "<Figure size 432x288 with 1 Axes>",
      "image/png": "[encoded data removed]"
     },
     "metadata": {},
     "output_type": "display_data"
    }
   ],
   "source": [
    "sns.boxplot(data=uf_res_test)"
   ],
   "metadata": {
    "collapsed": false,
    "pycharm": {
     "name": "#%%\n"
    }
   }
  },
  {
   "cell_type": "code",
   "execution_count": 28,
   "outputs": [
    {
     "data": {
      "text/plain": "<AxesSubplot:xlabel='user_fraud_prediction', ylabel='Count'>"
     },
     "execution_count": 28,
     "metadata": {},
     "output_type": "execute_result"
    },
    {
     "data": {
      "text/plain": "<Figure size 432x288 with 1 Axes>",
      "image/png": "[encoded data removed]"
     },
     "metadata": {},
     "output_type": "display_data"
    }
   ],
   "source": [
    "sns.histplot(x='user_fraud_prediction', data=uf_res_test, kde=True, bins=50)"
   ],
   "metadata": {
    "collapsed": false,
    "pycharm": {
     "name": "#%%\n"
    }
   }
  },
  {
   "cell_type": "code",
   "execution_count": 29,
   "outputs": [
    {
     "data": {
      "text/plain": "<AxesSubplot:xlabel='user_fraud_probability', ylabel='Count'>"
     },
     "execution_count": 29,
     "metadata": {},
     "output_type": "execute_result"
    },
    {
     "data": {
      "text/plain": "<Figure size 432x288 with 1 Axes>",
      "image/png": "[encoded data removed]"
     },
     "metadata": {},
     "output_type": "display_data"
    }
   ],
   "source": [
    "sns.histplot(uf_res_test['user_fraud_probability'], kde=True, bins=50)"
   ],
   "metadata": {
    "collapsed": false,
    "pycharm": {
     "name": "#%%\n"
    }
   }
  },
  {
   "cell_type": "markdown",
   "source": [
    "Merchant fraud predictions on training data"
   ],
   "metadata": {
    "collapsed": false,
    "pycharm": {
     "name": "#%% md\n"
    }
   }
  },
  {
   "cell_type": "code",
   "execution_count": 30,
   "outputs": [
    {
     "data": {
      "text/plain": "<AxesSubplot:>"
     },
     "execution_count": 30,
     "metadata": {},
     "output_type": "execute_result"
    },
    {
     "data": {
      "text/plain": "<Figure size 432x288 with 1 Axes>",
      "image/png": "[encoded data removed]"
     },
     "metadata": {},
     "output_type": "display_data"
    }
   ],
   "source": [
    "sns.boxplot(data=mf_res)"
   ],
   "metadata": {
    "collapsed": false,
    "pycharm": {
     "name": "#%%\n"
    }
   }
  },
  {
   "cell_type": "code",
   "execution_count": 31,
   "outputs": [
    {
     "data": {
      "text/plain": "<AxesSubplot:xlabel='merchant_fraud_prediction', ylabel='Count'>"
     },
     "execution_count": 31,
     "metadata": {},
     "output_type": "execute_result"
    },
    {
     "data": {
      "text/plain": "<Figure size 432x288 with 1 Axes>",
      "image/png": "[encoded data removed]"
     },
     "metadata": {},
     "output_type": "display_data"
    }
   ],
   "source": [
    "sns.histplot(x='merchant_fraud_prediction', data=mf_res    , kde=True, bins=50)"
   ],
   "metadata": {
    "collapsed": false,
    "pycharm": {
     "name": "#%%\n"
    }
   }
  },
  {
   "cell_type": "code",
   "execution_count": 32,
   "outputs": [
    {
     "data": {
      "text/plain": "<AxesSubplot:xlabel='merchant_fraud_probability', ylabel='Count'>"
     },
     "execution_count": 32,
     "metadata": {},
     "output_type": "execute_result"
    },
    {
     "data": {
      "text/plain": "<Figure size 432x288 with 1 Axes>",
      "image/png": "[encoded data removed]"
     },
     "metadata": {},
     "output_type": "display_data"
    }
   ],
   "source": [
    "sns.histplot(mf_res['merchant_fraud_probability'], kde=True, bins=50)"
   ],
   "metadata": {
    "collapsed": false,
    "pycharm": {
     "name": "#%%\n"
    }
   }
  },
  {
   "cell_type": "markdown",
   "source": [
    "Merchant fraud predictions on test data"
   ],
   "metadata": {
    "collapsed": false,
    "pycharm": {
     "name": "#%% md\n"
    }
   }
  },
  {
   "cell_type": "code",
   "execution_count": 33,
   "outputs": [],
   "source": [
    "mf_pred_test = mf_model.transform(mfTestData)\n",
    "mf_res_test = mf_pred_test.select(['merchant_fraud_prediction', 'merchant_fraud_probability']).toPandas()\n"
   ],
   "metadata": {
    "collapsed": false,
    "pycharm": {
     "name": "#%%\n"
    }
   }
  },
  {
   "cell_type": "code",
   "execution_count": 34,
   "outputs": [
    {
     "data": {
      "text/plain": "<AxesSubplot:>"
     },
     "execution_count": 34,
     "metadata": {},
     "output_type": "execute_result"
    },
    {
     "data": {
      "text/plain": "<Figure size 432x288 with 1 Axes>",
      "image/png": "[encoded data removed]"
     },
     "metadata": {},
     "output_type": "display_data"
    }
   ],
   "source": [
    "sns.boxplot(data=mf_res_test)"
   ],
   "metadata": {
    "collapsed": false,
    "pycharm": {
     "name": "#%%\n"
    }
   }
  },
  {
   "cell_type": "code",
   "execution_count": 35,
   "outputs": [
    {
     "data": {
      "text/plain": "<AxesSubplot:xlabel='merchant_fraud_prediction', ylabel='Count'>"
     },
     "execution_count": 35,
     "metadata": {},
     "output_type": "execute_result"
    },
    {
     "data": {
      "text/plain": "<Figure size 432x288 with 1 Axes>",
      "image/png": "[encoded data removed]"
     },
     "metadata": {},
     "output_type": "display_data"
    }
   ],
   "source": [
    "sns.histplot(x='merchant_fraud_prediction', data=mf_res_test, kde=True, bins=50)"
   ],
   "metadata": {
    "collapsed": false,
    "pycharm": {
     "name": "#%%\n"
    }
   }
  },
  {
   "cell_type": "code",
   "execution_count": 36,
   "outputs": [
    {
     "data": {
      "text/plain": "<AxesSubplot:xlabel='merchant_fraud_probability', ylabel='Count'>"
     },
     "execution_count": 36,
     "metadata": {},
     "output_type": "execute_result"
    },
    {
     "data": {
      "text/plain": "<Figure size 432x288 with 1 Axes>",
      "image/png": "[encoded data removed]"
     },
     "metadata": {},
     "output_type": "display_data"
    }
   ],
   "source": [
    "sns.histplot(x='merchant_fraud_probability', data=mf_res_test, kde=True, bins=50)"
   ],
   "metadata": {
    "collapsed": false,
    "pycharm": {
     "name": "#%%\n"
    }
   }
  },
  {
   "cell_type": "markdown",
   "source": [
    "TODO:\n",
    "* Add RMSE / AMSE calculations\n",
    "* Apply to entire dataset"
   ],
   "metadata": {
    "collapsed": false,
    "pycharm": {
     "name": "#%% md\n"
    }
   }
  },
  {
   "cell_type": "code",
   "execution_count": 37,
   "outputs": [],
   "source": [
    "#master = spark.read.parquet('../../../data/curated/process_data.parquet').select(*subset).sample(fraction=0.05, withReplacement=False)\n",
    "\n",
    "#master = spark.read.parquet('../../../data/curated/process_data.parquet').sample(fraction=0.05, withReplacement=False)\n",
    "master = spark.read.parquet('../../../data/curated/process_data.parquet')\n"
   ],
   "metadata": {
    "collapsed": false,
    "pycharm": {
     "name": "#%%\n"
    }
   }
  },
  {
   "cell_type": "code",
   "execution_count": 38,
   "outputs": [
    {
     "name": "stderr",
     "output_type": "stream",
     "text": [
      "[Stage 833:======================================>                 (9 + 4) / 13]\r"
     ]
    },
    {
     "name": "stdout",
     "output_type": "stream",
     "text": [
      "Took 0 seconds for 1 rows 11.744890213012695 13614156\n"
     ]
    },
    {
     "name": "stderr",
     "output_type": "stream",
     "text": [
      "                                                                                \r"
     ]
    }
   ],
   "source": [
    "import time\n",
    "\n",
    "\n",
    "# vectorize master\n",
    "start = time.time()\n",
    "master_v = get_dummy(master,\n",
    "                     continuousCols=list(continous_cols),\n",
    "                     categoricalCols=list(categorical_cols),\n",
    "                     master=True)\n",
    "\n",
    "print(\"Took {} seconds for {} rows\".format(time.time() - start, master.count()))\n",
    "\n",
    "#master_v.limit(5)\n",
    "\n",
    "# DROP INDEXED\n",
    "# DROP ENCODED"
   ],
   "metadata": {
    "collapsed": false,
    "pycharm": {
     "name": "#%%\n"
    }
   }
  },
  {
   "cell_type": "code",
   "execution_count": 39,
   "outputs": [],
   "source": [
    "# predict user probs from feature column\n",
    "master_fitted = mf_model.transform(master_v)\n",
    "master_fitted = uf_model.transform(master_fitted)"
   ],
   "metadata": {
    "collapsed": false,
    "pycharm": {
     "name": "#%%\n"
    }
   }
  },
  {
   "cell_type": "code",
   "execution_count": 40,
   "outputs": [
    {
     "name": "stderr",
     "output_type": "stream",
     "text": [
      "22/10/06 21:47:23 WARN package: Truncated the string representation of a plan since it was too large. This behavior can be adjusted by setting 'spark.sql.debug.maxToStringFields'.\n",
      "                                                                                \r"
     ]
    },
    {
     "data": {
      "text/plain": "+------------+-----------+-------+------------+--------------------+--------------+-----+--------+------+--------------------+--------------------+-------+------+--------------------+--------------------+--------------------------+----------------------+------------------------------------+---------------------------+-------------------------+------------------------+---------------------------+---------------------------+--------------------+-------------------------+---------------------+\n|merchant_abn|consumer_id|user_id|dollar_value|            order_id|order_datetime|state|postcode|gender|       merchant_name|                 tag|revenue|  rate|            category|         subcategory|merchant_fraud_probability|user_fraud_probability|estimated_region_population_2021_sum|persons_earners_2018-19_sum|mean_earnings_2018-19_avg|sum_earnings_2018-19_sum|median_earnings_2018-19_avg|med_age_earners_2018-19_avg|            features|merchant_fraud_prediction|user_fraud_prediction|\n+------------+-----------+-------+------------+--------------------+--------------+-----+--------+------+--------------------+--------------------+-------+------+--------------------+--------------------+--------------------------+----------------------+------------------------------------+---------------------------+-------------------------+------------------------+---------------------------+---------------------------+--------------------+-------------------------+---------------------+\n| 45466221547|     408558|  23807|       10.37|00006afe-5648-4c0...|    2022-07-09|  NSW|    2256|Female|              Eu LLC|computers, comput...|      b|0.0349|retail_and_wholes...|household_goods_r...|                      null|                  null|                               51060|                    26619.0|                 58455.75|           1.528352959E9|                   47194.75|                       47.0|(8,[1,5,6,7],[1.0...|       0.3005225374117386|  0.21449423227354517|\n| 19054547079|     273574|  18856|       99.31|0001533f-1a2a-4a5...|    2021-12-14|   WA|    6315|  Male|Tincidunt Adipisc...|gift, card, novel...|      a|0.0665|retail_and_wholes...|   department_stores|                      null|                  null|                                9243|                     6039.0|                  70715.5|            4.26666905E8|                    54874.5|                       47.5|(8,[0,4,6,7],[1.0...|      0.28560216337207733|   0.1686003888259078|\n| 86406618443|     274589|  13937|       77.58|00015481-01ff-4ac...|    2021-09-25|  QLD|    4072|  Male|Tincidunt Pede Ac...|digital goods: bo...|      a|0.0656|retail_and_wholes...|household_goods_r...|                      null|                  null|                               13782|                     5674.0|                  82025.0|            4.65407055E8|                    41999.0|                       37.0|(8,[0,4,6,7],[1.0...|      0.28521397093565876|  0.19712927609203165|\n| 94493496784|     224491|    998|      107.99|00015bab-8017-462...|    2021-10-14|  VIC|    3622|  Male|Dictum Phasellus ...|gift, card, novel...|      a|0.0565|retail_and_wholes...|   department_stores|                      null|                  null|                               29955|                    17488.0|       50043.333333333336|            8.95900632E8|                    44093.0|         46.666666666666664|(8,[0,4,6,7],[1.0...|       0.3099259683941991|   0.1649414825012848|\n| 32605756719|     180184|  22990|      162.61|00015d52-5218-45d...|    2021-11-30|  NSW|    2345|  Male|In Ornare Industries|digital goods: bo...|      a|0.0657|retail_and_wholes...|household_goods_r...|                      null|                  null|                               19200|                    10646.0|                  49642.0|            5.28493249E8|                    44459.0|                       47.0|(8,[0,4,6,7],[1.0...|      0.28154613634402376|   0.1491242600470761|\n| 94493496784|    1473258|   6094|      274.26|00022380-b555-425...|    2021-09-17|  NSW|    2749|  Male|Dictum Phasellus ...|gift, card, novel...|      a|0.0565|retail_and_wholes...|   department_stores|                      null|                  null|                               30951|                    16425.0|                  66170.0|            1.08684316E9|                    59472.0|                       37.0|(8,[0,4,6,7],[1.0...|       0.3100445399353023|  0.13544993185266635|\n| 59162205130|     384848|  13087|      303.79|0002a2b0-ea7a-486...|    2021-10-16|   WA|    6308|Female|     Ante Dictum LLC|motor vehicle sup...|      c|0.0147|retail_and_wholes...|    others_retailing|                      null|                  null|                                7955|                     5168.0|                  73714.0|            3.82063955E8|                    55999.5|                       48.0|(8,[2,5,6,7],[1.0...|      0.29004468424319346|   0.1670436017777142|\n| 39542524740|    1110560|   4222|       22.82|0003871c-0bd8-4d9...|    2022-04-22|  QLD|    4427|Female|Urna Ut Tincidunt...|digital goods: bo...|      a|0.0651|retail_and_wholes...|household_goods_r...|                      null|                  null|                               10141|                     5496.0|                  43917.5|             2.4142693E8|                    40509.0|                       45.0|(8,[0,5,6,7],[1.0...|       0.2833963309104175|  0.14783854065551355|\n| 49891706470|     635993|  18782|        8.39|00044c69-43c0-442...|    2022-06-16|  QLD|    4475|  Male|Non Vestibulum In...|tent and awning s...|      a| 0.058|retail_and_wholes...|   department_stores|                      null|                  null|                                2630|                     1402.0|                  43196.0|             6.0561087E7|                    43349.0|                       46.0|(8,[0,4,6,7],[1.0...|        0.649987351902079|    0.147112698049168|\n| 38090089066|    1347759|  22405|       347.4|0007a624-475d-45e...|    2022-05-17|  VIC|    3294|  Male|Interdum Feugiat ...|furniture, home f...|      b|0.0324|retail_and_wholes...|household_goods_r...|                      null|                  null|                                6026|                     3748.0|                  55594.0|             2.0836768E8|                    45499.0|                       50.0|(8,[1,4,6,7],[1.0...|       0.3103784222236628|   0.1594107681660512|\n+------------+-----------+-------+------------+--------------------+--------------+-----+--------+------+--------------------+--------------------+-------+------+--------------------+--------------------+--------------------------+----------------------+------------------------------------+---------------------------+-------------------------+------------------------+---------------------------+---------------------------+--------------------+-------------------------+---------------------+",
      "text/html": "<table border='1'>\n<tr><th>merchant_abn</th><th>consumer_id</th><th>user_id</th><th>dollar_value</th><th>order_id</th><th>order_datetime</th><th>state</th><th>postcode</th><th>gender</th><th>merchant_name</th><th>tag</th><th>revenue</th><th>rate</th><th>category</th><th>subcategory</th><th>merchant_fraud_probability</th><th>user_fraud_probability</th><th>estimated_region_population_2021_sum</th><th>persons_earners_2018-19_sum</th><th>mean_earnings_2018-19_avg</th><th>sum_earnings_2018-19_sum</th><th>median_earnings_2018-19_avg</th><th>med_age_earners_2018-19_avg</th><th>features</th><th>merchant_fraud_prediction</th><th>user_fraud_prediction</th></tr>\n<tr><td>45466221547</td><td>408558</td><td>23807</td><td>10.37</td><td>00006afe-5648-4c0...</td><td>2022-07-09</td><td>NSW</td><td>2256</td><td>Female</td><td>Eu LLC</td><td>computers, comput...</td><td>b</td><td>0.0349</td><td>retail_and_wholes...</td><td>household_goods_r...</td><td>null</td><td>null</td><td>51060</td><td>26619.0</td><td>58455.75</td><td>1.528352959E9</td><td>47194.75</td><td>47.0</td><td>(8,[1,5,6,7],[1.0...</td><td>0.3005225374117386</td><td>0.21449423227354517</td></tr>\n<tr><td>19054547079</td><td>273574</td><td>18856</td><td>99.31</td><td>0001533f-1a2a-4a5...</td><td>2021-12-14</td><td>WA</td><td>6315</td><td>Male</td><td>Tincidunt Adipisc...</td><td>gift, card, novel...</td><td>a</td><td>0.0665</td><td>retail_and_wholes...</td><td>department_stores</td><td>null</td><td>null</td><td>9243</td><td>6039.0</td><td>70715.5</td><td>4.26666905E8</td><td>54874.5</td><td>47.5</td><td>(8,[0,4,6,7],[1.0...</td><td>0.28560216337207733</td><td>0.1686003888259078</td></tr>\n<tr><td>86406618443</td><td>274589</td><td>13937</td><td>77.58</td><td>00015481-01ff-4ac...</td><td>2021-09-25</td><td>QLD</td><td>4072</td><td>Male</td><td>Tincidunt Pede Ac...</td><td>digital goods: bo...</td><td>a</td><td>0.0656</td><td>retail_and_wholes...</td><td>household_goods_r...</td><td>null</td><td>null</td><td>13782</td><td>5674.0</td><td>82025.0</td><td>4.65407055E8</td><td>41999.0</td><td>37.0</td><td>(8,[0,4,6,7],[1.0...</td><td>0.28521397093565876</td><td>0.19712927609203165</td></tr>\n<tr><td>94493496784</td><td>224491</td><td>998</td><td>107.99</td><td>00015bab-8017-462...</td><td>2021-10-14</td><td>VIC</td><td>3622</td><td>Male</td><td>Dictum Phasellus ...</td><td>gift, card, novel...</td><td>a</td><td>0.0565</td><td>retail_and_wholes...</td><td>department_stores</td><td>null</td><td>null</td><td>29955</td><td>17488.0</td><td>50043.333333333336</td><td>8.95900632E8</td><td>44093.0</td><td>46.666666666666664</td><td>(8,[0,4,6,7],[1.0...</td><td>0.3099259683941991</td><td>0.1649414825012848</td></tr>\n<tr><td>32605756719</td><td>180184</td><td>22990</td><td>162.61</td><td>00015d52-5218-45d...</td><td>2021-11-30</td><td>NSW</td><td>2345</td><td>Male</td><td>In Ornare Industries</td><td>digital goods: bo...</td><td>a</td><td>0.0657</td><td>retail_and_wholes...</td><td>household_goods_r...</td><td>null</td><td>null</td><td>19200</td><td>10646.0</td><td>49642.0</td><td>5.28493249E8</td><td>44459.0</td><td>47.0</td><td>(8,[0,4,6,7],[1.0...</td><td>0.28154613634402376</td><td>0.1491242600470761</td></tr>\n<tr><td>94493496784</td><td>1473258</td><td>6094</td><td>274.26</td><td>00022380-b555-425...</td><td>2021-09-17</td><td>NSW</td><td>2749</td><td>Male</td><td>Dictum Phasellus ...</td><td>gift, card, novel...</td><td>a</td><td>0.0565</td><td>retail_and_wholes...</td><td>department_stores</td><td>null</td><td>null</td><td>30951</td><td>16425.0</td><td>66170.0</td><td>1.08684316E9</td><td>59472.0</td><td>37.0</td><td>(8,[0,4,6,7],[1.0...</td><td>0.3100445399353023</td><td>0.13544993185266635</td></tr>\n<tr><td>59162205130</td><td>384848</td><td>13087</td><td>303.79</td><td>0002a2b0-ea7a-486...</td><td>2021-10-16</td><td>WA</td><td>6308</td><td>Female</td><td>Ante Dictum LLC</td><td>motor vehicle sup...</td><td>c</td><td>0.0147</td><td>retail_and_wholes...</td><td>others_retailing</td><td>null</td><td>null</td><td>7955</td><td>5168.0</td><td>73714.0</td><td>3.82063955E8</td><td>55999.5</td><td>48.0</td><td>(8,[2,5,6,7],[1.0...</td><td>0.29004468424319346</td><td>0.1670436017777142</td></tr>\n<tr><td>39542524740</td><td>1110560</td><td>4222</td><td>22.82</td><td>0003871c-0bd8-4d9...</td><td>2022-04-22</td><td>QLD</td><td>4427</td><td>Female</td><td>Urna Ut Tincidunt...</td><td>digital goods: bo...</td><td>a</td><td>0.0651</td><td>retail_and_wholes...</td><td>household_goods_r...</td><td>null</td><td>null</td><td>10141</td><td>5496.0</td><td>43917.5</td><td>2.4142693E8</td><td>40509.0</td><td>45.0</td><td>(8,[0,5,6,7],[1.0...</td><td>0.2833963309104175</td><td>0.14783854065551355</td></tr>\n<tr><td>49891706470</td><td>635993</td><td>18782</td><td>8.39</td><td>00044c69-43c0-442...</td><td>2022-06-16</td><td>QLD</td><td>4475</td><td>Male</td><td>Non Vestibulum In...</td><td>tent and awning s...</td><td>a</td><td>0.058</td><td>retail_and_wholes...</td><td>department_stores</td><td>null</td><td>null</td><td>2630</td><td>1402.0</td><td>43196.0</td><td>6.0561087E7</td><td>43349.0</td><td>46.0</td><td>(8,[0,4,6,7],[1.0...</td><td>0.649987351902079</td><td>0.147112698049168</td></tr>\n<tr><td>38090089066</td><td>1347759</td><td>22405</td><td>347.4</td><td>0007a624-475d-45e...</td><td>2022-05-17</td><td>VIC</td><td>3294</td><td>Male</td><td>Interdum Feugiat ...</td><td>furniture, home f...</td><td>b</td><td>0.0324</td><td>retail_and_wholes...</td><td>household_goods_r...</td><td>null</td><td>null</td><td>6026</td><td>3748.0</td><td>55594.0</td><td>2.0836768E8</td><td>45499.0</td><td>50.0</td><td>(8,[1,4,6,7],[1.0...</td><td>0.3103784222236628</td><td>0.1594107681660512</td></tr>\n</table>\n"
     },
     "execution_count": 40,
     "metadata": {},
     "output_type": "execute_result"
    }
   ],
   "source": [
    "master_fitted.limit(10)"
   ],
   "metadata": {
    "collapsed": false,
    "pycharm": {
     "name": "#%%\n"
    }
   }
  },
  {
   "cell_type": "code",
   "execution_count": 41,
   "outputs": [],
   "source": [
    "# drop features column\n",
    "master_final = master_fitted.drop('features')"
   ],
   "metadata": {
    "collapsed": false,
    "pycharm": {
     "name": "#%%\n"
    }
   }
  },
  {
   "cell_type": "code",
   "execution_count": 42,
   "outputs": [],
   "source": [
    "#master_final.limit(10)"
   ],
   "metadata": {
    "collapsed": false,
    "pycharm": {
     "name": "#%%\n"
    }
   }
  },
  {
   "cell_type": "code",
   "execution_count": 43,
   "outputs": [],
   "source": [
    "# add outliers column for user and merchant"
   ],
   "metadata": {
    "collapsed": false,
    "pycharm": {
     "name": "#%%\n"
    }
   }
  },
  {
   "cell_type": "code",
   "execution_count": 44,
   "outputs": [],
   "source": [
    "#master_final.printSchema()"
   ],
   "metadata": {
    "collapsed": false,
    "pycharm": {
     "name": "#%%\n"
    }
   }
  },
  {
   "cell_type": "code",
   "execution_count": 45,
   "outputs": [],
   "source": [
    "#master_final.orderBy(F.desc('user_fraud_prediction')).limit(10)\n",
    "#master_final.orderBy(F.desc('merchant_fraud_prediction')).limit(10)"
   ],
   "metadata": {
    "collapsed": false,
    "pycharm": {
     "name": "#%%\n"
    }
   }
  },
  {
   "cell_type": "code",
   "execution_count": 46,
   "outputs": [],
   "source": [
    "cols = [\"user_fraud_prediction\", \"merchant_fraud_prediction\"]"
   ],
   "metadata": {
    "collapsed": false,
    "pycharm": {
     "name": "#%%\n"
    }
   }
  },
  {
   "cell_type": "code",
   "execution_count": 47,
   "outputs": [
    {
     "name": "stderr",
     "output_type": "stream",
     "text": [
      "                                                                                \r"
     ]
    }
   ],
   "source": [
    "bounds = {\n",
    "    c: dict(\n",
    "        zip([\"q1\", \"q3\"], master_final.approxQuantile(c, [0.25, 0.75], 0.01))\n",
    "    )\n",
    "    for c in cols\n",
    "}\n",
    "\n",
    "for c in bounds:\n",
    "    iqr = bounds[c]['q3'] - bounds[c]['q1']\n",
    "    bounds[c]['lower'] = bounds[c]['q1'] - (iqr * 1.5)\n",
    "    bounds[c]['upper'] = bounds[c]['q3'] + (iqr * 1.5)"
   ],
   "metadata": {
    "collapsed": false,
    "pycharm": {
     "name": "#%%\n"
    }
   }
  },
  {
   "cell_type": "code",
   "execution_count": 48,
   "outputs": [
    {
     "data": {
      "text/plain": "{'user_fraud_prediction': {'q1': 0.1420700661820841,\n  'q3': 0.17085187468200433,\n  'lower': 0.09889735343220374,\n  'upper': 0.21402458743188468},\n 'merchant_fraud_prediction': {'q1': 0.2852929290914983,\n  'q3': 0.3236965016054774,\n  'lower': 0.22768757032052958,\n  'upper': 0.3813018603764461}}"
     },
     "execution_count": 48,
     "metadata": {},
     "output_type": "execute_result"
    }
   ],
   "source": [
    "bounds"
   ],
   "metadata": {
    "collapsed": false,
    "pycharm": {
     "name": "#%%\n"
    }
   }
  },
  {
   "cell_type": "code",
   "execution_count": 49,
   "outputs": [],
   "source": [
    "# add outlier col to master"
   ],
   "metadata": {
    "collapsed": false,
    "pycharm": {
     "name": "#%%\n"
    }
   }
  },
  {
   "cell_type": "code",
   "execution_count": 50,
   "outputs": [],
   "source": [
    "master_wfraud_col = master_final.select(\n",
    "    \"*\",\n",
    "    *[\n",
    "        F.when(\n",
    "            F.col(c).between(bounds[c]['lower'], bounds[c]['upper']),\n",
    "            0\n",
    "        ).otherwise(1).alias(c+\"_out\")\n",
    "        for c in cols\n",
    "    ]\n",
    ")\n",
    "\n",
    "master_wfraud_col = master_wfraud_col.select(\n",
    "    \"*\",\n",
    "    *[\n",
    "        F.when(\n",
    "            (F.col('user_fraud_prediction_out') != 1) | (F.col('merchant_fraud_prediction_out') != 1),\n",
    "            0\n",
    "        ).otherwise(1).alias('isfraud')\n",
    "    ]\n",
    ")\n",
    "\n",
    "# drop unneeded cols\n",
    "master_wfraud_col = master_wfraud_col.drop(*['user_fraud_prediction_out', 'merchant_fraud_prediction_out'])\n"
   ],
   "metadata": {
    "collapsed": false,
    "pycharm": {
     "name": "#%%\n"
    }
   }
  },
  {
   "cell_type": "code",
   "execution_count": 51,
   "outputs": [],
   "source": [
    "#master_wfraud_col.limit(10)"
   ],
   "metadata": {
    "collapsed": false,
    "pycharm": {
     "name": "#%%\n"
    }
   }
  },
  {
   "cell_type": "code",
   "execution_count": 52,
   "outputs": [],
   "source": [
    "#master_wfraud_col.where(master_wfraud_col['user_fraud_prediction_out'] > 0).count()"
   ],
   "metadata": {
    "collapsed": false,
    "pycharm": {
     "name": "#%%\n"
    }
   }
  },
  {
   "cell_type": "code",
   "execution_count": 53,
   "outputs": [
    {
     "name": "stderr",
     "output_type": "stream",
     "text": [
      "                                                                                \r"
     ]
    },
    {
     "data": {
      "text/plain": "119036"
     },
     "execution_count": 53,
     "metadata": {},
     "output_type": "execute_result"
    }
   ],
   "source": [
    "# these are the fraudulent values\n",
    "master_wfraud_col.where(master_wfraud_col['isfraud'] > 0).count()"
   ],
   "metadata": {
    "collapsed": false,
    "pycharm": {
     "name": "#%%\n"
    }
   }
  },
  {
   "cell_type": "code",
   "execution_count": 54,
   "outputs": [
    {
     "name": "stderr",
     "output_type": "stream",
     "text": [
      "                                                                                \r"
     ]
    },
    {
     "data": {
      "text/plain": "13614156"
     },
     "execution_count": 54,
     "metadata": {},
     "output_type": "execute_result"
    }
   ],
   "source": [
    "master_wfraud_col.count()"
   ],
   "metadata": {
    "collapsed": false,
    "pycharm": {
     "name": "#%%\n"
    }
   }
  },
  {
   "cell_type": "code",
   "execution_count": 55,
   "outputs": [
    {
     "name": "stderr",
     "output_type": "stream",
     "text": [
      "                                                                                \r"
     ]
    },
    {
     "data": {
      "text/plain": "13495120"
     },
     "execution_count": 55,
     "metadata": {},
     "output_type": "execute_result"
    }
   ],
   "source": [
    "master_ = master_wfraud_col.where(master_wfraud_col['isfraud'] == 0)\n",
    "master_.count()"
   ],
   "metadata": {
    "collapsed": false,
    "pycharm": {
     "name": "#%%\n"
    }
   }
  },
  {
   "cell_type": "markdown",
   "source": [],
   "metadata": {
    "collapsed": false,
    "pycharm": {
     "name": "#%% md\n"
    }
   }
  }
 ],
 "metadata": {
  "kernelspec": {
   "display_name": "Python 3 (ipykernel)",
   "language": "python",
   "name": "python3"
  },
  "language_info": {
   "codemirror_mode": {
    "name": "ipython",
    "version": 3
   },
   "file_extension": ".py",
   "mimetype": "text/x-python",
   "name": "python",
   "nbconvert_exporter": "python",
   "pygments_lexer": "ipython3",
   "version": "3.8.13"
  }
 },
 "nbformat": 4,
 "nbformat_minor": 5
}