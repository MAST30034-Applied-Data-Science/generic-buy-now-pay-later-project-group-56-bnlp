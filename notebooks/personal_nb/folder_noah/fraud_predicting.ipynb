{
 "cells": [
  {
   "cell_type": "code",
   "execution_count": 1,
   "id": "2995df53",
   "metadata": {
    "pycharm": {
     "name": "#%%\n"
    }
   },
   "outputs": [],
   "source": [
    "import pandas as pd\n",
    "from pyspark.sql import SparkSession, functions as F\n",
    "from pyspark.ml.regression import GBTRegressor\n",
    "from pyspark.ml.evaluation import RegressionEvaluator\n",
    "import seaborn as sns\n",
    "import numpy as np"
   ]
  },
  {
   "cell_type": "code",
   "execution_count": 2,
   "id": "063650a8",
   "metadata": {
    "pycharm": {
     "name": "#%%\n"
    }
   },
   "outputs": [
    {
     "name": "stdout",
     "output_type": "stream",
     "text": [
      "22/10/09 15:24:24 WARN Utils: Your hostname, Shromanns-MacBook-Pro.local resolves to a loopback address: 127.0.0.1; using 10.12.131.179 instead (on interface en0)\n",
      "22/10/09 15:24:24 WARN Utils: Set SPARK_LOCAL_IP if you need to bind to another address\n"
     ]
    },
    {
     "name": "stderr",
     "output_type": "stream",
     "text": [
      "Setting default log level to \"WARN\".\n",
      "To adjust logging level use sc.setLogLevel(newLevel). For SparkR, use setLogLevel(newLevel).\n"
     ]
    },
    {
     "name": "stdout",
     "output_type": "stream",
     "text": [
      "22/10/09 15:24:25 WARN NativeCodeLoader: Unable to load native-hadoop library for your platform... using builtin-java classes where applicable\n"
     ]
    }
   ],
   "source": [
    "# Create a spark session\n",
    "spark = (\n",
    "    SparkSession.builder.appName(\"Predict fraud probabilities\")\n",
    "    .config(\"spark.sql.repl.eagerEval.enabled\", True)\n",
    "    .config(\"spark.sql.parquet.cacheMetadata\", \"true\")\n",
    "    .config(\"spark.driver.memory\", \"8g\")\n",
    "    .config(\"spark.sql.session.timeZone\", \"Etc/UTC\")\n",
    "    .getOrCreate()\n",
    ")"
   ]
  },
  {
   "cell_type": "code",
   "execution_count": 3,
   "id": "2173dff9",
   "metadata": {
    "pycharm": {
     "name": "#%%\n"
    }
   },
   "outputs": [
    {
     "name": "stderr",
     "output_type": "stream",
     "text": [
      "                                                                                \r"
     ]
    },
    {
     "name": "stdout",
     "output_type": "stream",
     "text": [
      "root\n",
      " |-- merchant_abn: long (nullable = true)\n",
      " |-- consumer_id: long (nullable = true)\n",
      " |-- user_id: long (nullable = true)\n",
      " |-- dollar_value: double (nullable = true)\n",
      " |-- order_id: string (nullable = true)\n",
      " |-- order_datetime: date (nullable = true)\n",
      " |-- state: string (nullable = true)\n",
      " |-- postcode: integer (nullable = true)\n",
      " |-- gender: string (nullable = true)\n",
      " |-- merchant_name: string (nullable = true)\n",
      " |-- tag: string (nullable = true)\n",
      " |-- revenue: string (nullable = true)\n",
      " |-- rate: double (nullable = true)\n",
      " |-- category: string (nullable = true)\n",
      " |-- subcategory: string (nullable = true)\n",
      " |-- merchant_fraud_probability: double (nullable = true)\n",
      " |-- user_fraud_probability: double (nullable = true)\n",
      " |-- estimated_region_population_2021_sum: long (nullable = true)\n",
      " |-- persons_earners_2018-19_sum: double (nullable = true)\n",
      " |-- mean_earnings_2018-19_avg: double (nullable = true)\n",
      " |-- sum_earnings_2018-19_sum: double (nullable = true)\n",
      " |-- median_earnings_2018-19_avg: double (nullable = true)\n",
      " |-- med_age_earners_2018-19_avg: double (nullable = true)\n",
      " |-- merchant_fraud_prediction: double (nullable = true)\n",
      " |-- user_fraud_prediction: double (nullable = true)\n",
      "\n"
     ]
    }
   ],
   "source": [
    "spark.read.parquet('../../../data/curated/process_data.parquet').printSchema()"
   ]
  },
  {
   "cell_type": "code",
   "execution_count": 4,
   "id": "4dc2c0b8",
   "metadata": {
    "pycharm": {
     "name": "#%%\n"
    }
   },
   "outputs": [
    {
     "name": "stdout",
     "output_type": "stream",
     "text": [
      "{'rate', 'dollar_value', 'revenue', 'merchant_fraud_probability', 'gender', 'user_fraud_probability'}\n"
     ]
    }
   ],
   "source": [
    "# these are our predictors\n",
    "base_features = {'dollar_value',\n",
    "                 'gender',\n",
    "                 'revenue',\n",
    "                 'rate'}\n",
    "\n",
    "#user_feature = {'user_fraud_probability'}\n",
    "#merchant_feature = {'merchant_fraud_probability'}\n",
    "\n",
    "target_features = {'user_fraud_probability', 'merchant_fraud_probability'}\n",
    "\n",
    "\n",
    "subset = base_features.union(target_features)\n",
    "print(subset)"
   ]
  },
  {
   "cell_type": "code",
   "execution_count": 5,
   "id": "de3c6b89",
   "metadata": {
    "pycharm": {
     "name": "#%%\n"
    }
   },
   "outputs": [],
   "source": [
    "data = spark.read.parquet('../../../data/curated/process_data.parquet').select(*subset)\n",
    "#user_data = data.na.drop(subset=['user_fraud_probab\n",
    "# ility'])\n",
    "#merchant_data = data.na.drop(subset=['merchant_fraud_probability'])"
   ]
  },
  {
   "cell_type": "code",
   "execution_count": 6,
   "id": "ad058ea3",
   "metadata": {
    "pycharm": {
     "name": "#%%\n"
    }
   },
   "outputs": [],
   "source": [
    "def get_weights(df1, label, n):\n",
    "\n",
    "    # drop rows with missing label\n",
    "    df = df1.na.drop(subset=[label]).toPandas()\n",
    "\n",
    "    # find bins\n",
    "    df['bin'] = pd.cut(df[label], n)\n",
    "\n",
    "    # get weights and create mapper\n",
    "    d = df.groupby('bin').count()[label].map(np.log)\n",
    "    d = d.sum() / d\n",
    "    mapper = d.to_dict()\n",
    "\n",
    "    # create weights col mapped from bins\n",
    "    df['weights'] = df['bin'].map(lambda x: mapper[x])\n",
    "\n",
    "    weighted_df = spark.createDataFrame(df.drop('bin', axis=1))\n",
    "\n",
    "    return weighted_df\n"
   ]
  },
  {
   "cell_type": "code",
   "execution_count": 7,
   "id": "8765ec26",
   "metadata": {
    "pycharm": {
     "name": "#%%\n"
    }
   },
   "outputs": [
    {
     "name": "stderr",
     "output_type": "stream",
     "text": [
      "                                                                                \r"
     ]
    }
   ],
   "source": [
    "ud = get_weights(data, 'user_fraud_probability', 10)"
   ]
  },
  {
   "cell_type": "code",
   "execution_count": 8,
   "metadata": {
    "collapsed": false,
    "pycharm": {
     "name": "#%%\n"
    }
   },
   "outputs": [
    {
     "name": "stderr",
     "output_type": "stream",
     "text": [
      "                                                                                \r"
     ]
    }
   ],
   "source": [
    "md = get_weights(data, 'merchant_fraud_probability', 5)"
   ]
  },
  {
   "cell_type": "code",
   "execution_count": 9,
   "metadata": {
    "collapsed": false,
    "pycharm": {
     "name": "#%%\n"
    }
   },
   "outputs": [
    {
     "name": "stderr",
     "output_type": "stream",
     "text": [
      "                                                                                \r"
     ]
    },
    {
     "data": {
      "text/html": [
       "<table border='1'>\n",
       "<tr><th>rate</th><th>dollar_value</th><th>revenue</th><th>merchant_fraud_probability</th><th>gender</th><th>user_fraud_probability</th><th>weights</th></tr>\n",
       "<tr><td>0.0465</td><td>169.88</td><td>b</td><td>0.3</td><td>Male</td><td>0.08</td><td>2.584837324122583</td></tr>\n",
       "<tr><td>0.0341</td><td>151.79</td><td>b</td><td>0.31</td><td>Male</td><td>NaN</td><td>2.584837324122583</td></tr>\n",
       "<tr><td>0.0341</td><td>449.27</td><td>b</td><td>0.31</td><td>Male</td><td>NaN</td><td>2.584837324122583</td></tr>\n",
       "<tr><td>0.0203</td><td>392.99</td><td>c</td><td>0.29</td><td>Female</td><td>NaN</td><td>2.584837324122583</td></tr>\n",
       "<tr><td>0.0664</td><td>39.63</td><td>a</td><td>0.28</td><td>Male</td><td>NaN</td><td>2.584837324122583</td></tr>\n",
       "<tr><td>0.0176</td><td>246.29</td><td>c</td><td>0.28</td><td>Female</td><td>NaN</td><td>2.584837324122583</td></tr>\n",
       "<tr><td>0.0565</td><td>87.97</td><td>a</td><td>0.31</td><td>Male</td><td>NaN</td><td>2.584837324122583</td></tr>\n",
       "<tr><td>0.0176</td><td>144.65</td><td>c</td><td>0.29</td><td>Undisclosed</td><td>NaN</td><td>2.584837324122583</td></tr>\n",
       "<tr><td>0.0664</td><td>306.38</td><td>a</td><td>0.28</td><td>Female</td><td>NaN</td><td>2.584837324122583</td></tr>\n",
       "<tr><td>0.0664</td><td>10.78</td><td>a</td><td>0.28</td><td>Male</td><td>NaN</td><td>2.584837324122583</td></tr>\n",
       "</table>\n"
      ],
      "text/plain": [
       "+------+------------+-------+--------------------------+-----------+----------------------+-----------------+\n",
       "|  rate|dollar_value|revenue|merchant_fraud_probability|     gender|user_fraud_probability|          weights|\n",
       "+------+------------+-------+--------------------------+-----------+----------------------+-----------------+\n",
       "|0.0465|      169.88|      b|                       0.3|       Male|                  0.08|2.584837324122583|\n",
       "|0.0341|      151.79|      b|                      0.31|       Male|                   NaN|2.584837324122583|\n",
       "|0.0341|      449.27|      b|                      0.31|       Male|                   NaN|2.584837324122583|\n",
       "|0.0203|      392.99|      c|                      0.29|     Female|                   NaN|2.584837324122583|\n",
       "|0.0664|       39.63|      a|                      0.28|       Male|                   NaN|2.584837324122583|\n",
       "|0.0176|      246.29|      c|                      0.28|     Female|                   NaN|2.584837324122583|\n",
       "|0.0565|       87.97|      a|                      0.31|       Male|                   NaN|2.584837324122583|\n",
       "|0.0176|      144.65|      c|                      0.29|Undisclosed|                   NaN|2.584837324122583|\n",
       "|0.0664|      306.38|      a|                      0.28|     Female|                   NaN|2.584837324122583|\n",
       "|0.0664|       10.78|      a|                      0.28|       Male|                   NaN|2.584837324122583|\n",
       "+------+------------+-------+--------------------------+-----------+----------------------+-----------------+"
      ]
     },
     "execution_count": 9,
     "metadata": {},
     "output_type": "execute_result"
    }
   ],
   "source": [
    "md.limit(10)"
   ]
  },
  {
   "cell_type": "code",
   "execution_count": 10,
   "metadata": {
    "collapsed": false,
    "pycharm": {
     "name": "#%%\n"
    }
   },
   "outputs": [],
   "source": [
    "def get_dummy(df,categoricalCols,continuousCols,labelCol=None, master=False):\n",
    "\n",
    "    from pyspark.ml import Pipeline\n",
    "    from pyspark.ml.feature import StringIndexer, OneHotEncoder, VectorAssembler\n",
    "\n",
    "    new_cols = {}\n",
    "\n",
    "    indexers = [ StringIndexer(inputCol=c, outputCol=\"{0}_indexed\".format(c))\n",
    "                 for c in categoricalCols ]\n",
    "\n",
    "\n",
    "\n",
    "    # default setting: dropLast=True\n",
    "    encoders = [ OneHotEncoder(inputCol=indexer.getOutputCol(),\n",
    "                               outputCol=\"{0}_encoded\".format(indexer.getOutputCol()))\n",
    "                 for indexer in indexers ]\n",
    "\n",
    "    assembler = VectorAssembler(inputCols=[encoder.getOutputCol() for encoder in encoders]\n",
    "                                          + continuousCols, outputCol=\"features\")\n",
    "\n",
    "    pipeline = Pipeline(stages=indexers + encoders + [assembler])\n",
    "\n",
    "    model=pipeline.fit(df)\n",
    "    data_ = model.transform(df)\n",
    "\n",
    "    if master:\n",
    "\n",
    "        for indexer in indexers:\n",
    "            data_ = data_.drop(indexer.getOutputCol())\n",
    "\n",
    "        for encoder in encoders:\n",
    "            data_ = data_.drop(encoder.getOutputCol())\n",
    "\n",
    "        return data_\n",
    "\n",
    "    else:\n",
    "        return data_.select('features',labelCol, 'weights')\n",
    "\n"
   ]
  },
  {
   "cell_type": "code",
   "execution_count": 11,
   "id": "05652c0a",
   "metadata": {
    "pycharm": {
     "name": "#%%\n"
    }
   },
   "outputs": [],
   "source": [
    "# now we want to vectorize\n",
    "categorical_cols = {'gender','revenue'}\n",
    "continous_cols = {'dollar_value', 'rate'}"
   ]
  },
  {
   "cell_type": "code",
   "execution_count": 12,
   "id": "f1685b1d",
   "metadata": {
    "pycharm": {
     "name": "#%%\n"
    }
   },
   "outputs": [],
   "source": [
    "ud_v = get_dummy(ud, list(categorical_cols), list(continous_cols), labelCol='user_fraud_probability')\n",
    "md_v = get_dummy(md, list(categorical_cols), list(continous_cols), labelCol='merchant_fraud_probability')"
   ]
  },
  {
   "cell_type": "code",
   "execution_count": 13,
   "id": "1f0fb2b2",
   "metadata": {
    "pycharm": {
     "name": "#%%\n"
    }
   },
   "outputs": [
    {
     "name": "stdout",
     "output_type": "stream",
     "text": [
      "+--------------------+--------------------------+-----------------+\n",
      "|            features|merchant_fraud_probability|          weights|\n",
      "+--------------------+--------------------------+-----------------+\n",
      "|(8,[1,5,6,7],[1.0...|                       0.3|2.584837324122583|\n",
      "|(8,[1,5,6,7],[1.0...|                      0.31|2.584837324122583|\n",
      "|(8,[1,5,6,7],[1.0...|                      0.31|2.584837324122583|\n",
      "|(8,[2,4,6,7],[1.0...|                      0.29|2.584837324122583|\n",
      "|(8,[0,5,6,7],[1.0...|                      0.28|2.584837324122583|\n",
      "|(8,[2,4,6,7],[1.0...|                      0.28|2.584837324122583|\n",
      "|(8,[0,5,6,7],[1.0...|                      0.31|2.584837324122583|\n",
      "|(8,[2,6,7],[1.0,0...|                      0.29|2.584837324122583|\n",
      "|(8,[0,4,6,7],[1.0...|                      0.28|2.584837324122583|\n",
      "|(8,[0,5,6,7],[1.0...|                      0.28|2.584837324122583|\n",
      "+--------------------+--------------------------+-----------------+\n",
      "only showing top 10 rows\n",
      "\n"
     ]
    }
   ],
   "source": [
    "md_v.show(10)\n",
    "#md_v.orderBy(F.desc('weights'))"
   ]
  },
  {
   "cell_type": "code",
   "execution_count": 14,
   "id": "ccd4415a",
   "metadata": {
    "pycharm": {
     "name": "#%%\n"
    }
   },
   "outputs": [],
   "source": [
    "gbt_uf = GBTRegressor(labelCol='user_fraud_probability',\n",
    "                   featuresCol=\"features\",\n",
    "                   maxIter=20,\n",
    "                   maxDepth=10,\n",
    "                   seed=56,\n",
    "                   lossType='squared',\n",
    "                   weightCol='weights',\n",
    "                   predictionCol='user_fraud_prediction')"
   ]
  },
  {
   "cell_type": "code",
   "execution_count": 15,
   "id": "bc7dd9e8",
   "metadata": {
    "pycharm": {
     "name": "#%%\n"
    }
   },
   "outputs": [],
   "source": [
    "gbt_mf = GBTRegressor(labelCol='merchant_fraud_probability',\n",
    "                   featuresCol=\"features\",\n",
    "                   maxIter=20,\n",
    "                   maxDepth=10,\n",
    "                   seed=56,\n",
    "                   lossType='squared',\n",
    "                   weightCol='weights',\n",
    "                   predictionCol='merchant_fraud_prediction')"
   ]
  },
  {
   "cell_type": "code",
   "execution_count": 16,
   "id": "637e3290",
   "metadata": {
    "pycharm": {
     "name": "#%%\n"
    }
   },
   "outputs": [],
   "source": [
    "(ufTrainData, ufTestData) = ud_v.randomSplit([0.7, 0.3])\n",
    "(mfTrainData, mfTestData) = md_v.randomSplit([0.7, 0.3])"
   ]
  },
  {
   "cell_type": "markdown",
   "metadata": {
    "collapsed": false,
    "pycharm": {
     "name": "#%% md\n"
    }
   },
   "source": [
    "Fit the models"
   ]
  },
  {
   "cell_type": "code",
   "execution_count": 17,
   "id": "a4151dc1",
   "metadata": {
    "pycharm": {
     "name": "#%%\n"
    }
   },
   "outputs": [
    {
     "name": "stderr",
     "output_type": "stream",
     "text": [
      "                                                                                \r"
     ]
    },
    {
     "name": "stdout",
     "output_type": "stream",
     "text": [
      "22/10/09 15:25:03 WARN DAGScheduler: Broadcasting large task binary with size 1015.5 KiB\n",
      "22/10/09 15:25:03 WARN DAGScheduler: Broadcasting large task binary with size 1006.4 KiB\n",
      "22/10/09 15:25:03 WARN DAGScheduler: Broadcasting large task binary with size 1006.9 KiB\n",
      "22/10/09 15:25:04 WARN DAGScheduler: Broadcasting large task binary with size 1007.6 KiB\n",
      "22/10/09 15:25:04 WARN DAGScheduler: Broadcasting large task binary with size 1008.6 KiB\n",
      "22/10/09 15:25:04 WARN DAGScheduler: Broadcasting large task binary with size 1011.0 KiB\n",
      "22/10/09 15:25:04 WARN DAGScheduler: Broadcasting large task binary with size 1015.7 KiB\n",
      "22/10/09 15:25:04 WARN DAGScheduler: Broadcasting large task binary with size 1024.0 KiB\n",
      "22/10/09 15:25:04 WARN DAGScheduler: Broadcasting large task binary with size 1038.6 KiB\n",
      "22/10/09 15:25:04 WARN DAGScheduler: Broadcasting large task binary with size 1064.0 KiB\n",
      "22/10/09 15:25:04 WARN DAGScheduler: Broadcasting large task binary with size 1101.5 KiB\n",
      "22/10/09 15:25:04 WARN DAGScheduler: Broadcasting large task binary with size 1090.1 KiB\n",
      "22/10/09 15:25:05 WARN DAGScheduler: Broadcasting large task binary with size 1090.6 KiB\n",
      "22/10/09 15:25:05 WARN DAGScheduler: Broadcasting large task binary with size 1091.3 KiB\n",
      "22/10/09 15:25:05 WARN DAGScheduler: Broadcasting large task binary with size 1092.3 KiB\n",
      "22/10/09 15:25:05 WARN DAGScheduler: Broadcasting large task binary with size 1094.7 KiB\n",
      "22/10/09 15:25:05 WARN DAGScheduler: Broadcasting large task binary with size 1099.4 KiB\n",
      "22/10/09 15:25:05 WARN DAGScheduler: Broadcasting large task binary with size 1107.8 KiB\n",
      "22/10/09 15:25:05 WARN DAGScheduler: Broadcasting large task binary with size 1122.4 KiB\n",
      "22/10/09 15:25:05 WARN DAGScheduler: Broadcasting large task binary with size 1148.0 KiB\n",
      "22/10/09 15:25:05 WARN DAGScheduler: Broadcasting large task binary with size 1185.8 KiB\n",
      "22/10/09 15:25:05 WARN DAGScheduler: Broadcasting large task binary with size 1175.2 KiB\n",
      "22/10/09 15:25:06 WARN DAGScheduler: Broadcasting large task binary with size 1175.7 KiB\n",
      "22/10/09 15:25:06 WARN DAGScheduler: Broadcasting large task binary with size 1176.4 KiB\n",
      "22/10/09 15:25:06 WARN DAGScheduler: Broadcasting large task binary with size 1177.4 KiB\n",
      "22/10/09 15:25:06 WARN DAGScheduler: Broadcasting large task binary with size 1179.8 KiB\n",
      "22/10/09 15:25:06 WARN DAGScheduler: Broadcasting large task binary with size 1184.0 KiB\n",
      "22/10/09 15:25:06 WARN DAGScheduler: Broadcasting large task binary with size 1190.9 KiB\n",
      "22/10/09 15:25:06 WARN DAGScheduler: Broadcasting large task binary with size 1202.3 KiB\n",
      "22/10/09 15:25:06 WARN DAGScheduler: Broadcasting large task binary with size 1219.0 KiB\n",
      "22/10/09 15:25:06 WARN DAGScheduler: Broadcasting large task binary with size 1240.7 KiB\n",
      "22/10/09 15:25:07 WARN DAGScheduler: Broadcasting large task binary with size 1229.9 KiB\n",
      "22/10/09 15:25:07 WARN DAGScheduler: Broadcasting large task binary with size 1230.4 KiB\n",
      "22/10/09 15:25:07 WARN DAGScheduler: Broadcasting large task binary with size 1231.1 KiB\n",
      "22/10/09 15:25:07 WARN DAGScheduler: Broadcasting large task binary with size 1232.1 KiB\n",
      "22/10/09 15:25:07 WARN DAGScheduler: Broadcasting large task binary with size 1234.4 KiB\n",
      "22/10/09 15:25:07 WARN DAGScheduler: Broadcasting large task binary with size 1239.1 KiB\n",
      "22/10/09 15:25:07 WARN DAGScheduler: Broadcasting large task binary with size 1248.0 KiB\n",
      "22/10/09 15:25:07 WARN DAGScheduler: Broadcasting large task binary with size 1264.8 KiB\n",
      "22/10/09 15:25:07 WARN DAGScheduler: Broadcasting large task binary with size 1295.4 KiB\n",
      "22/10/09 15:25:07 WARN DAGScheduler: Broadcasting large task binary with size 1343.8 KiB\n",
      "22/10/09 15:25:08 WARN DAGScheduler: Broadcasting large task binary with size 1333.5 KiB\n",
      "22/10/09 15:25:08 WARN DAGScheduler: Broadcasting large task binary with size 1334.0 KiB\n",
      "22/10/09 15:25:08 WARN DAGScheduler: Broadcasting large task binary with size 1334.8 KiB\n",
      "22/10/09 15:25:08 WARN DAGScheduler: Broadcasting large task binary with size 1335.8 KiB\n",
      "22/10/09 15:25:08 WARN DAGScheduler: Broadcasting large task binary with size 1338.2 KiB\n",
      "22/10/09 15:25:08 WARN DAGScheduler: Broadcasting large task binary with size 1342.8 KiB\n",
      "22/10/09 15:25:08 WARN DAGScheduler: Broadcasting large task binary with size 1352.0 KiB\n",
      "22/10/09 15:25:08 WARN DAGScheduler: Broadcasting large task binary with size 1369.5 KiB\n",
      "22/10/09 15:25:08 WARN DAGScheduler: Broadcasting large task binary with size 1399.4 KiB\n",
      "22/10/09 15:25:09 WARN DAGScheduler: Broadcasting large task binary with size 1443.3 KiB\n",
      "22/10/09 15:25:09 WARN DAGScheduler: Broadcasting large task binary with size 1429.1 KiB\n",
      "22/10/09 15:25:09 WARN DAGScheduler: Broadcasting large task binary with size 1429.6 KiB\n",
      "22/10/09 15:25:09 WARN DAGScheduler: Broadcasting large task binary with size 1430.3 KiB\n",
      "22/10/09 15:25:09 WARN DAGScheduler: Broadcasting large task binary with size 1431.4 KiB\n",
      "22/10/09 15:25:09 WARN DAGScheduler: Broadcasting large task binary with size 1433.7 KiB\n",
      "22/10/09 15:25:09 WARN DAGScheduler: Broadcasting large task binary with size 1438.4 KiB\n",
      "22/10/09 15:25:09 WARN DAGScheduler: Broadcasting large task binary with size 1446.3 KiB\n",
      "22/10/09 15:25:10 WARN DAGScheduler: Broadcasting large task binary with size 1458.2 KiB\n",
      "22/10/09 15:25:10 WARN DAGScheduler: Broadcasting large task binary with size 1474.3 KiB\n",
      "22/10/09 15:25:10 WARN DAGScheduler: Broadcasting large task binary with size 1498.1 KiB\n",
      "22/10/09 15:25:10 WARN DAGScheduler: Broadcasting large task binary with size 1489.0 KiB\n",
      "22/10/09 15:25:10 WARN DAGScheduler: Broadcasting large task binary with size 1489.5 KiB\n",
      "22/10/09 15:25:10 WARN DAGScheduler: Broadcasting large task binary with size 1490.2 KiB\n",
      "22/10/09 15:25:10 WARN DAGScheduler: Broadcasting large task binary with size 1491.3 KiB\n",
      "22/10/09 15:25:10 WARN DAGScheduler: Broadcasting large task binary with size 1493.6 KiB\n",
      "22/10/09 15:25:10 WARN DAGScheduler: Broadcasting large task binary with size 1498.3 KiB\n",
      "22/10/09 15:25:11 WARN DAGScheduler: Broadcasting large task binary with size 1507.3 KiB\n",
      "22/10/09 15:25:11 WARN DAGScheduler: Broadcasting large task binary with size 1522.3 KiB\n",
      "22/10/09 15:25:11 WARN DAGScheduler: Broadcasting large task binary with size 1546.0 KiB\n",
      "22/10/09 15:25:11 WARN DAGScheduler: Broadcasting large task binary with size 1585.2 KiB\n",
      "22/10/09 15:25:11 WARN DAGScheduler: Broadcasting large task binary with size 1578.4 KiB\n",
      "22/10/09 15:25:11 WARN DAGScheduler: Broadcasting large task binary with size 1578.9 KiB\n",
      "22/10/09 15:25:11 WARN DAGScheduler: Broadcasting large task binary with size 1579.6 KiB\n",
      "22/10/09 15:25:11 WARN DAGScheduler: Broadcasting large task binary with size 1580.6 KiB\n",
      "22/10/09 15:25:11 WARN DAGScheduler: Broadcasting large task binary with size 1583.1 KiB\n",
      "22/10/09 15:25:12 WARN DAGScheduler: Broadcasting large task binary with size 1587.6 KiB\n",
      "22/10/09 15:25:12 WARN DAGScheduler: Broadcasting large task binary with size 1595.1 KiB\n",
      "22/10/09 15:25:12 WARN DAGScheduler: Broadcasting large task binary with size 1607.9 KiB\n",
      "22/10/09 15:25:12 WARN DAGScheduler: Broadcasting large task binary with size 1629.5 KiB\n",
      "22/10/09 15:25:12 WARN DAGScheduler: Broadcasting large task binary with size 1663.9 KiB\n",
      "22/10/09 15:25:12 WARN DAGScheduler: Broadcasting large task binary with size 1656.7 KiB\n",
      "22/10/09 15:25:12 WARN DAGScheduler: Broadcasting large task binary with size 1657.2 KiB\n",
      "22/10/09 15:25:12 WARN DAGScheduler: Broadcasting large task binary with size 1657.9 KiB\n",
      "22/10/09 15:25:13 WARN DAGScheduler: Broadcasting large task binary with size 1658.9 KiB\n",
      "22/10/09 15:25:13 WARN DAGScheduler: Broadcasting large task binary with size 1661.3 KiB\n",
      "22/10/09 15:25:13 WARN DAGScheduler: Broadcasting large task binary with size 1666.0 KiB\n",
      "22/10/09 15:25:13 WARN DAGScheduler: Broadcasting large task binary with size 1675.3 KiB\n",
      "22/10/09 15:25:13 WARN DAGScheduler: Broadcasting large task binary with size 1693.4 KiB\n",
      "22/10/09 15:25:13 WARN DAGScheduler: Broadcasting large task binary with size 1721.7 KiB\n",
      "22/10/09 15:25:13 WARN DAGScheduler: Broadcasting large task binary with size 1758.3 KiB\n"
     ]
    }
   ],
   "source": [
    "uf_model = gbt_uf.fit(ufTrainData)"
   ]
  },
  {
   "cell_type": "code",
   "execution_count": 18,
   "metadata": {
    "collapsed": false,
    "pycharm": {
     "name": "#%%\n"
    }
   },
   "outputs": [],
   "source": [
    "mf_model = gbt_mf.fit(mfTrainData)"
   ]
  },
  {
   "cell_type": "markdown",
   "metadata": {
    "collapsed": false,
    "pycharm": {
     "name": "#%% md\n"
    }
   },
   "source": [
    "Evaluate model on training data"
   ]
  },
  {
   "cell_type": "code",
   "execution_count": 19,
   "id": "c44ec064",
   "metadata": {
    "pycharm": {
     "name": "#%%\n"
    }
   },
   "outputs": [],
   "source": [
    "uf_predictions = uf_model.transform(ufTrainData)"
   ]
  },
  {
   "cell_type": "code",
   "execution_count": 20,
   "metadata": {
    "collapsed": false,
    "pycharm": {
     "name": "#%%\n"
    }
   },
   "outputs": [],
   "source": [
    "mf_predictions = mf_model.transform(mfTrainData)"
   ]
  },
  {
   "cell_type": "code",
   "execution_count": 21,
   "metadata": {
    "collapsed": false,
    "pycharm": {
     "name": "#%%\n"
    }
   },
   "outputs": [],
   "source": [
    "#mf_predictions"
   ]
  },
  {
   "cell_type": "code",
   "execution_count": 22,
   "metadata": {
    "collapsed": false,
    "pycharm": {
     "name": "#%%\n"
    }
   },
   "outputs": [
    {
     "name": "stdout",
     "output_type": "stream",
     "text": [
      "22/10/09 15:25:27 WARN InstanceBuilder$NativeBLAS: Failed to load implementation from:dev.ludovic.netlib.blas.JNIBLAS\n",
      "22/10/09 15:25:27 WARN InstanceBuilder$NativeBLAS: Failed to load implementation from:dev.ludovic.netlib.blas.ForeignLinkerBLAS\n",
      "22/10/09 15:25:27 WARN InstanceBuilder$JavaBLAS: Failed to load implementation from:dev.ludovic.netlib.blas.VectorBLAS\n"
     ]
    },
    {
     "name": "stderr",
     "output_type": "stream",
     "text": [
      "                                                                                \r"
     ]
    }
   ],
   "source": [
    "uf_res = uf_predictions.select(['user_fraud_prediction', 'user_fraud_probability']).toPandas()\n",
    "mf_res = mf_predictions.select(['merchant_fraud_prediction', 'merchant_fraud_probability']).toPandas()"
   ]
  },
  {
   "cell_type": "markdown",
   "metadata": {
    "collapsed": false,
    "pycharm": {
     "name": "#%% md\n"
    }
   },
   "source": [
    "User fraud predictions on training data"
   ]
  },
  {
   "cell_type": "code",
   "execution_count": 23,
   "metadata": {
    "collapsed": false,
    "pycharm": {
     "name": "#%%\n"
    }
   },
   "outputs": [
    {
     "data": {
      "text/plain": [
       "<AxesSubplot:>"
      ]
     },
     "execution_count": 23,
     "metadata": {},
     "output_type": "execute_result"
    },
    {
     "data": {
      "image/png": "[encoded data removed]",
      "text/plain": [
       "<Figure size 432x288 with 1 Axes>"
      ]
     },
     "metadata": {
      "needs_background": "light"
     },
     "output_type": "display_data"
    }
   ],
   "source": [
    "sns.boxplot(data=uf_res)"
   ]
  },
  {
   "cell_type": "code",
   "execution_count": 24,
   "metadata": {
    "collapsed": false,
    "pycharm": {
     "name": "#%%\n"
    }
   },
   "outputs": [
    {
     "data": {
      "text/plain": [
       "<AxesSubplot:xlabel='user_fraud_prediction', ylabel='Count'>"
      ]
     },
     "execution_count": 24,
     "metadata": {},
     "output_type": "execute_result"
    },
    {
     "data": {
      "image/png": "[encoded data removed]",
      "text/plain": [
       "<Figure size 432x288 with 1 Axes>"
      ]
     },
     "metadata": {
      "needs_background": "light"
     },
     "output_type": "display_data"
    }
   ],
   "source": [
    "sns.histplot(x='user_fraud_prediction', data=uf_res, kde=True, bins=50)"
   ]
  },
  {
   "cell_type": "code",
   "execution_count": 25,
   "metadata": {
    "collapsed": false,
    "pycharm": {
     "name": "#%%\n"
    }
   },
   "outputs": [
    {
     "data": {
      "text/plain": [
       "<AxesSubplot:xlabel='user_fraud_probability', ylabel='Count'>"
      ]
     },
     "execution_count": 25,
     "metadata": {},
     "output_type": "execute_result"
    },
    {
     "data": {
      "image/png": "[encoded data removed]",
      "text/plain": [
       "<Figure size 432x288 with 1 Axes>"
      ]
     },
     "metadata": {
      "needs_background": "light"
     },
     "output_type": "display_data"
    }
   ],
   "source": [
    "sns.histplot(uf_res['user_fraud_probability'], kde=True, bins=50)"
   ]
  },
  {
   "cell_type": "markdown",
   "metadata": {
    "collapsed": false,
    "pycharm": {
     "name": "#%% md\n"
    }
   },
   "source": [
    "User fraud predctions on test data"
   ]
  },
  {
   "cell_type": "code",
   "execution_count": 26,
   "metadata": {
    "collapsed": false,
    "pycharm": {
     "name": "#%%\n"
    }
   },
   "outputs": [],
   "source": [
    "uf_pred_test = uf_model.transform(ufTestData)\n",
    "\n",
    "uf_res_test = uf_pred_test.select(['user_fraud_prediction', 'user_fraud_probability']).toPandas()"
   ]
  },
  {
   "cell_type": "code",
   "execution_count": 27,
   "metadata": {
    "collapsed": false,
    "pycharm": {
     "name": "#%%\n"
    }
   },
   "outputs": [
    {
     "data": {
      "text/plain": [
       "<AxesSubplot:>"
      ]
     },
     "execution_count": 27,
     "metadata": {},
     "output_type": "execute_result"
    },
    {
     "data": {
      "image/png": "[encoded data removed]",
      "text/plain": [
       "<Figure size 432x288 with 1 Axes>"
      ]
     },
     "metadata": {
      "needs_background": "light"
     },
     "output_type": "display_data"
    }
   ],
   "source": [
    "sns.boxplot(data=uf_res_test)"
   ]
  },
  {
   "cell_type": "code",
   "execution_count": 28,
   "metadata": {
    "collapsed": false,
    "pycharm": {
     "name": "#%%\n"
    }
   },
   "outputs": [
    {
     "data": {
      "text/plain": [
       "<AxesSubplot:xlabel='user_fraud_prediction', ylabel='Count'>"
      ]
     },
     "execution_count": 28,
     "metadata": {},
     "output_type": "execute_result"
    },
    {
     "data": {
      "image/png": "[encoded data removed]",
      "text/plain": [
       "<Figure size 432x288 with 1 Axes>"
      ]
     },
     "metadata": {
      "needs_background": "light"
     },
     "output_type": "display_data"
    }
   ],
   "source": [
    "sns.histplot(x='user_fraud_prediction', data=uf_res_test, kde=True, bins=50)"
   ]
  },
  {
   "cell_type": "code",
   "execution_count": 29,
   "metadata": {
    "collapsed": false,
    "pycharm": {
     "name": "#%%\n"
    }
   },
   "outputs": [
    {
     "data": {
      "text/plain": [
       "<AxesSubplot:xlabel='user_fraud_probability', ylabel='Count'>"
      ]
     },
     "execution_count": 29,
     "metadata": {},
     "output_type": "execute_result"
    },
    {
     "data": {
      "image/png": "[encoded data removed]",
      "text/plain": [
       "<Figure size 432x288 with 1 Axes>"
      ]
     },
     "metadata": {
      "needs_background": "light"
     },
     "output_type": "display_data"
    }
   ],
   "source": [
    "sns.histplot(uf_res_test['user_fraud_probability'], kde=True, bins=50)"
   ]
  },
  {
   "cell_type": "markdown",
   "metadata": {
    "collapsed": false,
    "pycharm": {
     "name": "#%% md\n"
    }
   },
   "source": [
    "Merchant fraud predictions on training data"
   ]
  },
  {
   "cell_type": "code",
   "execution_count": 30,
   "metadata": {
    "collapsed": false,
    "pycharm": {
     "name": "#%%\n"
    }
   },
   "outputs": [
    {
     "data": {
      "text/plain": [
       "<AxesSubplot:>"
      ]
     },
     "execution_count": 30,
     "metadata": {},
     "output_type": "execute_result"
    },
    {
     "data": {
      "image/png": "[encoded data removed]",
      "text/plain": [
       "<Figure size 432x288 with 1 Axes>"
      ]
     },
     "metadata": {
      "needs_background": "light"
     },
     "output_type": "display_data"
    }
   ],
   "source": [
    "sns.boxplot(data=mf_res)"
   ]
  },
  {
   "cell_type": "code",
   "execution_count": 31,
   "metadata": {
    "collapsed": false,
    "pycharm": {
     "name": "#%%\n"
    }
   },
   "outputs": [
    {
     "data": {
      "text/plain": [
       "<AxesSubplot:xlabel='merchant_fraud_prediction', ylabel='Count'>"
      ]
     },
     "execution_count": 31,
     "metadata": {},
     "output_type": "execute_result"
    },
    {
     "data": {
      "image/png": "[encoded data removed]",
      "text/plain": [
       "<Figure size 432x288 with 1 Axes>"
      ]
     },
     "metadata": {
      "needs_background": "light"
     },
     "output_type": "display_data"
    }
   ],
   "source": [
    "sns.histplot(x='merchant_fraud_prediction', data=mf_res    , kde=True, bins=50)"
   ]
  },
  {
   "cell_type": "code",
   "execution_count": 32,
   "metadata": {
    "collapsed": false,
    "pycharm": {
     "name": "#%%\n"
    }
   },
   "outputs": [
    {
     "data": {
      "text/plain": [
       "<AxesSubplot:xlabel='merchant_fraud_probability', ylabel='Count'>"
      ]
     },
     "execution_count": 32,
     "metadata": {},
     "output_type": "execute_result"
    },
    {
     "data": {
      "image/png": "[encoded data removed]",
      "text/plain": [
       "<Figure size 432x288 with 1 Axes>"
      ]
     },
     "metadata": {
      "needs_background": "light"
     },
     "output_type": "display_data"
    }
   ],
   "source": [
    "sns.histplot(mf_res['merchant_fraud_probability'], kde=True, bins=50)"
   ]
  },
  {
   "cell_type": "markdown",
   "metadata": {
    "collapsed": false,
    "pycharm": {
     "name": "#%% md\n"
    }
   },
   "source": [
    "Merchant fraud predictions on test data"
   ]
  },
  {
   "cell_type": "code",
   "execution_count": 33,
   "metadata": {
    "collapsed": false,
    "pycharm": {
     "name": "#%%\n"
    }
   },
   "outputs": [],
   "source": [
    "mf_pred_test = mf_model.transform(mfTestData)\n",
    "mf_res_test = mf_pred_test.select(['merchant_fraud_prediction', 'merchant_fraud_probability']).toPandas()\n"
   ]
  },
  {
   "cell_type": "code",
   "execution_count": 34,
   "metadata": {
    "collapsed": false,
    "pycharm": {
     "name": "#%%\n"
    }
   },
   "outputs": [
    {
     "data": {
      "text/plain": [
       "<AxesSubplot:>"
      ]
     },
     "execution_count": 34,
     "metadata": {},
     "output_type": "execute_result"
    },
    {
     "data": {
      "image/png": "[encoded data removed]",
      "text/plain": [
       "<Figure size 432x288 with 1 Axes>"
      ]
     },
     "metadata": {
      "needs_background": "light"
     },
     "output_type": "display_data"
    }
   ],
   "source": [
    "sns.boxplot(data=mf_res_test)"
   ]
  },
  {
   "cell_type": "code",
   "execution_count": 35,
   "metadata": {
    "collapsed": false,
    "pycharm": {
     "name": "#%%\n"
    }
   },
   "outputs": [
    {
     "data": {
      "text/plain": [
       "<AxesSubplot:xlabel='merchant_fraud_prediction', ylabel='Count'>"
      ]
     },
     "execution_count": 35,
     "metadata": {},
     "output_type": "execute_result"
    },
    {
     "data": {
      "image/png": "[encoded data removed]",
      "text/plain": [
       "<Figure size 432x288 with 1 Axes>"
      ]
     },
     "metadata": {
      "needs_background": "light"
     },
     "output_type": "display_data"
    }
   ],
   "source": [
    "sns.histplot(x='merchant_fraud_prediction', data=mf_res_test, kde=True, bins=50)"
   ]
  },
  {
   "cell_type": "code",
   "execution_count": 36,
   "metadata": {
    "collapsed": false,
    "pycharm": {
     "name": "#%%\n"
    }
   },
   "outputs": [
    {
     "data": {
      "text/plain": [
       "<AxesSubplot:xlabel='merchant_fraud_probability', ylabel='Count'>"
      ]
     },
     "execution_count": 36,
     "metadata": {},
     "output_type": "execute_result"
    },
    {
     "data": {
      "image/png": "[encoded data removed]",
      "text/plain": [
       "<Figure size 432x288 with 1 Axes>"
      ]
     },
     "metadata": {
      "needs_background": "light"
     },
     "output_type": "display_data"
    }
   ],
   "source": [
    "sns.histplot(x='merchant_fraud_probability', data=mf_res_test, kde=True, bins=50)"
   ]
  },
  {
   "cell_type": "markdown",
   "metadata": {
    "collapsed": false,
    "pycharm": {
     "name": "#%% md\n"
    }
   },
   "source": [
    "TODO:\n",
    "* Add RMSE / AMSE calculations\n",
    "* Apply to entire dataset"
   ]
  },
  {
   "cell_type": "code",
   "execution_count": 37,
   "metadata": {
    "collapsed": false,
    "pycharm": {
     "name": "#%%\n"
    }
   },
   "outputs": [],
   "source": [
    "#master = spark.read.parquet('../../../data/curated/process_data.parquet').select(*subset).sample(fraction=0.05, withReplacement=False)\n",
    "\n",
    "#master = spark.read.parquet('../../../data/curated/process_data.parquet').sample(fraction=0.05, withReplacement=False)\n",
    "master = spark.read.parquet('../../../data/curated/process_data.parquet')\n"
   ]
  },
  {
   "cell_type": "code",
   "execution_count": 38,
   "metadata": {
    "collapsed": false,
    "pycharm": {
     "name": "#%%\n"
    }
   },
   "outputs": [
    {
     "name": "stderr",
     "output_type": "stream",
     "text": [
      "                                                                                \r"
     ]
    },
    {
     "name": "stdout",
     "output_type": "stream",
     "text": [
      "Took 2.2497498989105225 seconds for 13520627 rows\n"
     ]
    }
   ],
   "source": [
    "import time\n",
    "\n",
    "\n",
    "# vectorize master\n",
    "start = time.time()\n",
    "master_v = get_dummy(master,\n",
    "                     continuousCols=list(continous_cols),\n",
    "                     categoricalCols=list(categorical_cols),\n",
    "                     master=True)\n",
    "\n",
    "print(\"Took {} seconds for {} rows\".format(time.time() - start, master.count()))\n",
    "\n",
    "#master_v.limit(5)\n",
    "\n",
    "# DROP INDEXED\n",
    "# DROP ENCODED"
   ]
  },
  {
   "cell_type": "code",
   "execution_count": 39,
   "metadata": {
    "collapsed": false,
    "pycharm": {
     "name": "#%%\n"
    }
   },
   "outputs": [
    {
     "ename": "IllegalArgumentException",
     "evalue": "requirement failed: Column merchant_fraud_prediction already exists.",
     "output_type": "error",
     "traceback": [
      "\u001b[0;31m---------------------------------------------------------------------------\u001b[0m",
      "\u001b[0;31mIllegalArgumentException\u001b[0m                  Traceback (most recent call last)",
      "\u001b[0;32m/var/folders/4b/ktzlv7s51cj18fqc3hscsqz80000gn/T/ipykernel_16349/1888517749.py\u001b[0m in \u001b[0;36m<module>\u001b[0;34m\u001b[0m\n\u001b[1;32m      1\u001b[0m \u001b[0;31m# predict user probs from feature column\u001b[0m\u001b[0;34m\u001b[0m\u001b[0;34m\u001b[0m\u001b[0m\n\u001b[0;32m----> 2\u001b[0;31m \u001b[0mmaster_fitted\u001b[0m \u001b[0;34m=\u001b[0m \u001b[0mmf_model\u001b[0m\u001b[0;34m.\u001b[0m\u001b[0mtransform\u001b[0m\u001b[0;34m(\u001b[0m\u001b[0mmaster_v\u001b[0m\u001b[0;34m)\u001b[0m\u001b[0;34m\u001b[0m\u001b[0;34m\u001b[0m\u001b[0m\n\u001b[0m\u001b[1;32m      3\u001b[0m \u001b[0mmaster_fitted\u001b[0m \u001b[0;34m=\u001b[0m \u001b[0muf_model\u001b[0m\u001b[0;34m.\u001b[0m\u001b[0mtransform\u001b[0m\u001b[0;34m(\u001b[0m\u001b[0mmaster_fitted\u001b[0m\u001b[0;34m)\u001b[0m\u001b[0;34m\u001b[0m\u001b[0;34m\u001b[0m\u001b[0m\n",
      "\u001b[0;32m/usr/local/lib/python3.9/site-packages/pyspark/ml/base.py\u001b[0m in \u001b[0;36mtransform\u001b[0;34m(self, dataset, params)\u001b[0m\n\u001b[1;32m    260\u001b[0m                 \u001b[0;32mreturn\u001b[0m \u001b[0mself\u001b[0m\u001b[0;34m.\u001b[0m\u001b[0mcopy\u001b[0m\u001b[0;34m(\u001b[0m\u001b[0mparams\u001b[0m\u001b[0;34m)\u001b[0m\u001b[0;34m.\u001b[0m\u001b[0m_transform\u001b[0m\u001b[0;34m(\u001b[0m\u001b[0mdataset\u001b[0m\u001b[0;34m)\u001b[0m\u001b[0;34m\u001b[0m\u001b[0;34m\u001b[0m\u001b[0m\n\u001b[1;32m    261\u001b[0m             \u001b[0;32melse\u001b[0m\u001b[0;34m:\u001b[0m\u001b[0;34m\u001b[0m\u001b[0;34m\u001b[0m\u001b[0m\n\u001b[0;32m--> 262\u001b[0;31m                 \u001b[0;32mreturn\u001b[0m \u001b[0mself\u001b[0m\u001b[0;34m.\u001b[0m\u001b[0m_transform\u001b[0m\u001b[0;34m(\u001b[0m\u001b[0mdataset\u001b[0m\u001b[0;34m)\u001b[0m\u001b[0;34m\u001b[0m\u001b[0;34m\u001b[0m\u001b[0m\n\u001b[0m\u001b[1;32m    263\u001b[0m         \u001b[0;32melse\u001b[0m\u001b[0;34m:\u001b[0m\u001b[0;34m\u001b[0m\u001b[0;34m\u001b[0m\u001b[0m\n\u001b[1;32m    264\u001b[0m             \u001b[0;32mraise\u001b[0m \u001b[0mTypeError\u001b[0m\u001b[0;34m(\u001b[0m\u001b[0;34m\"Params must be a param map but got %s.\"\u001b[0m \u001b[0;34m%\u001b[0m \u001b[0mtype\u001b[0m\u001b[0;34m(\u001b[0m\u001b[0mparams\u001b[0m\u001b[0;34m)\u001b[0m\u001b[0;34m)\u001b[0m\u001b[0;34m\u001b[0m\u001b[0;34m\u001b[0m\u001b[0m\n",
      "\u001b[0;32m/usr/local/lib/python3.9/site-packages/pyspark/ml/wrapper.py\u001b[0m in \u001b[0;36m_transform\u001b[0;34m(self, dataset)\u001b[0m\n\u001b[1;32m    394\u001b[0m \u001b[0;34m\u001b[0m\u001b[0m\n\u001b[1;32m    395\u001b[0m         \u001b[0mself\u001b[0m\u001b[0;34m.\u001b[0m\u001b[0m_transfer_params_to_java\u001b[0m\u001b[0;34m(\u001b[0m\u001b[0;34m)\u001b[0m\u001b[0;34m\u001b[0m\u001b[0;34m\u001b[0m\u001b[0m\n\u001b[0;32m--> 396\u001b[0;31m         \u001b[0;32mreturn\u001b[0m \u001b[0mDataFrame\u001b[0m\u001b[0;34m(\u001b[0m\u001b[0mself\u001b[0m\u001b[0;34m.\u001b[0m\u001b[0m_java_obj\u001b[0m\u001b[0;34m.\u001b[0m\u001b[0mtransform\u001b[0m\u001b[0;34m(\u001b[0m\u001b[0mdataset\u001b[0m\u001b[0;34m.\u001b[0m\u001b[0m_jdf\u001b[0m\u001b[0;34m)\u001b[0m\u001b[0;34m,\u001b[0m \u001b[0mdataset\u001b[0m\u001b[0;34m.\u001b[0m\u001b[0msparkSession\u001b[0m\u001b[0;34m)\u001b[0m\u001b[0;34m\u001b[0m\u001b[0;34m\u001b[0m\u001b[0m\n\u001b[0m\u001b[1;32m    397\u001b[0m \u001b[0;34m\u001b[0m\u001b[0m\n\u001b[1;32m    398\u001b[0m \u001b[0;34m\u001b[0m\u001b[0m\n",
      "\u001b[0;32m/usr/local/lib/python3.9/site-packages/py4j/java_gateway.py\u001b[0m in \u001b[0;36m__call__\u001b[0;34m(self, *args)\u001b[0m\n\u001b[1;32m   1319\u001b[0m \u001b[0;34m\u001b[0m\u001b[0m\n\u001b[1;32m   1320\u001b[0m         \u001b[0manswer\u001b[0m \u001b[0;34m=\u001b[0m \u001b[0mself\u001b[0m\u001b[0;34m.\u001b[0m\u001b[0mgateway_client\u001b[0m\u001b[0;34m.\u001b[0m\u001b[0msend_command\u001b[0m\u001b[0;34m(\u001b[0m\u001b[0mcommand\u001b[0m\u001b[0;34m)\u001b[0m\u001b[0;34m\u001b[0m\u001b[0;34m\u001b[0m\u001b[0m\n\u001b[0;32m-> 1321\u001b[0;31m         return_value = get_return_value(\n\u001b[0m\u001b[1;32m   1322\u001b[0m             answer, self.gateway_client, self.target_id, self.name)\n\u001b[1;32m   1323\u001b[0m \u001b[0;34m\u001b[0m\u001b[0m\n",
      "\u001b[0;32m/usr/local/lib/python3.9/site-packages/pyspark/sql/utils.py\u001b[0m in \u001b[0;36mdeco\u001b[0;34m(*a, **kw)\u001b[0m\n\u001b[1;32m    194\u001b[0m                 \u001b[0;31m# Hide where the exception came from that shows a non-Pythonic\u001b[0m\u001b[0;34m\u001b[0m\u001b[0;34m\u001b[0m\u001b[0m\n\u001b[1;32m    195\u001b[0m                 \u001b[0;31m# JVM exception message.\u001b[0m\u001b[0;34m\u001b[0m\u001b[0;34m\u001b[0m\u001b[0m\n\u001b[0;32m--> 196\u001b[0;31m                 \u001b[0;32mraise\u001b[0m \u001b[0mconverted\u001b[0m \u001b[0;32mfrom\u001b[0m \u001b[0;32mNone\u001b[0m\u001b[0;34m\u001b[0m\u001b[0;34m\u001b[0m\u001b[0m\n\u001b[0m\u001b[1;32m    197\u001b[0m             \u001b[0;32melse\u001b[0m\u001b[0;34m:\u001b[0m\u001b[0;34m\u001b[0m\u001b[0;34m\u001b[0m\u001b[0m\n\u001b[1;32m    198\u001b[0m                 \u001b[0;32mraise\u001b[0m\u001b[0;34m\u001b[0m\u001b[0;34m\u001b[0m\u001b[0m\n",
      "\u001b[0;31mIllegalArgumentException\u001b[0m: requirement failed: Column merchant_fraud_prediction already exists."
     ]
    }
   ],
   "source": [
    "# predict user probs from feature column\n",
    "master_fitted = mf_model.transform(master_v)\n",
    "master_fitted = uf_model.transform(master_fitted)"
   ]
  },
  {
   "cell_type": "code",
   "execution_count": null,
   "metadata": {
    "collapsed": false,
    "pycharm": {
     "name": "#%%\n"
    }
   },
   "outputs": [
    {
     "name": "stderr",
     "output_type": "stream",
     "text": [
      "22/10/06 21:47:23 WARN package: Truncated the string representation of a plan since it was too large. This behavior can be adjusted by setting 'spark.sql.debug.maxToStringFields'.\n",
      "                                                                                \r"
     ]
    },
    {
     "data": {
      "text/html": [
       "<table border='1'>\n",
       "<tr><th>merchant_abn</th><th>consumer_id</th><th>user_id</th><th>dollar_value</th><th>order_id</th><th>order_datetime</th><th>state</th><th>postcode</th><th>gender</th><th>merchant_name</th><th>tag</th><th>revenue</th><th>rate</th><th>category</th><th>subcategory</th><th>merchant_fraud_probability</th><th>user_fraud_probability</th><th>estimated_region_population_2021_sum</th><th>persons_earners_2018-19_sum</th><th>mean_earnings_2018-19_avg</th><th>sum_earnings_2018-19_sum</th><th>median_earnings_2018-19_avg</th><th>med_age_earners_2018-19_avg</th><th>features</th><th>merchant_fraud_prediction</th><th>user_fraud_prediction</th></tr>\n",
       "<tr><td>45466221547</td><td>408558</td><td>23807</td><td>10.37</td><td>00006afe-5648-4c0...</td><td>2022-07-09</td><td>NSW</td><td>2256</td><td>Female</td><td>Eu LLC</td><td>computers, comput...</td><td>b</td><td>0.0349</td><td>retail_and_wholes...</td><td>household_goods_r...</td><td>null</td><td>null</td><td>51060</td><td>26619.0</td><td>58455.75</td><td>1.528352959E9</td><td>47194.75</td><td>47.0</td><td>(8,[1,5,6,7],[1.0...</td><td>0.3005225374117386</td><td>0.21449423227354517</td></tr>\n",
       "<tr><td>19054547079</td><td>273574</td><td>18856</td><td>99.31</td><td>0001533f-1a2a-4a5...</td><td>2021-12-14</td><td>WA</td><td>6315</td><td>Male</td><td>Tincidunt Adipisc...</td><td>gift, card, novel...</td><td>a</td><td>0.0665</td><td>retail_and_wholes...</td><td>department_stores</td><td>null</td><td>null</td><td>9243</td><td>6039.0</td><td>70715.5</td><td>4.26666905E8</td><td>54874.5</td><td>47.5</td><td>(8,[0,4,6,7],[1.0...</td><td>0.28560216337207733</td><td>0.1686003888259078</td></tr>\n",
       "<tr><td>86406618443</td><td>274589</td><td>13937</td><td>77.58</td><td>00015481-01ff-4ac...</td><td>2021-09-25</td><td>QLD</td><td>4072</td><td>Male</td><td>Tincidunt Pede Ac...</td><td>digital goods: bo...</td><td>a</td><td>0.0656</td><td>retail_and_wholes...</td><td>household_goods_r...</td><td>null</td><td>null</td><td>13782</td><td>5674.0</td><td>82025.0</td><td>4.65407055E8</td><td>41999.0</td><td>37.0</td><td>(8,[0,4,6,7],[1.0...</td><td>0.28521397093565876</td><td>0.19712927609203165</td></tr>\n",
       "<tr><td>94493496784</td><td>224491</td><td>998</td><td>107.99</td><td>00015bab-8017-462...</td><td>2021-10-14</td><td>VIC</td><td>3622</td><td>Male</td><td>Dictum Phasellus ...</td><td>gift, card, novel...</td><td>a</td><td>0.0565</td><td>retail_and_wholes...</td><td>department_stores</td><td>null</td><td>null</td><td>29955</td><td>17488.0</td><td>50043.333333333336</td><td>8.95900632E8</td><td>44093.0</td><td>46.666666666666664</td><td>(8,[0,4,6,7],[1.0...</td><td>0.3099259683941991</td><td>0.1649414825012848</td></tr>\n",
       "<tr><td>32605756719</td><td>180184</td><td>22990</td><td>162.61</td><td>00015d52-5218-45d...</td><td>2021-11-30</td><td>NSW</td><td>2345</td><td>Male</td><td>In Ornare Industries</td><td>digital goods: bo...</td><td>a</td><td>0.0657</td><td>retail_and_wholes...</td><td>household_goods_r...</td><td>null</td><td>null</td><td>19200</td><td>10646.0</td><td>49642.0</td><td>5.28493249E8</td><td>44459.0</td><td>47.0</td><td>(8,[0,4,6,7],[1.0...</td><td>0.28154613634402376</td><td>0.1491242600470761</td></tr>\n",
       "<tr><td>94493496784</td><td>1473258</td><td>6094</td><td>274.26</td><td>00022380-b555-425...</td><td>2021-09-17</td><td>NSW</td><td>2749</td><td>Male</td><td>Dictum Phasellus ...</td><td>gift, card, novel...</td><td>a</td><td>0.0565</td><td>retail_and_wholes...</td><td>department_stores</td><td>null</td><td>null</td><td>30951</td><td>16425.0</td><td>66170.0</td><td>1.08684316E9</td><td>59472.0</td><td>37.0</td><td>(8,[0,4,6,7],[1.0...</td><td>0.3100445399353023</td><td>0.13544993185266635</td></tr>\n",
       "<tr><td>59162205130</td><td>384848</td><td>13087</td><td>303.79</td><td>0002a2b0-ea7a-486...</td><td>2021-10-16</td><td>WA</td><td>6308</td><td>Female</td><td>Ante Dictum LLC</td><td>motor vehicle sup...</td><td>c</td><td>0.0147</td><td>retail_and_wholes...</td><td>others_retailing</td><td>null</td><td>null</td><td>7955</td><td>5168.0</td><td>73714.0</td><td>3.82063955E8</td><td>55999.5</td><td>48.0</td><td>(8,[2,5,6,7],[1.0...</td><td>0.29004468424319346</td><td>0.1670436017777142</td></tr>\n",
       "<tr><td>39542524740</td><td>1110560</td><td>4222</td><td>22.82</td><td>0003871c-0bd8-4d9...</td><td>2022-04-22</td><td>QLD</td><td>4427</td><td>Female</td><td>Urna Ut Tincidunt...</td><td>digital goods: bo...</td><td>a</td><td>0.0651</td><td>retail_and_wholes...</td><td>household_goods_r...</td><td>null</td><td>null</td><td>10141</td><td>5496.0</td><td>43917.5</td><td>2.4142693E8</td><td>40509.0</td><td>45.0</td><td>(8,[0,5,6,7],[1.0...</td><td>0.2833963309104175</td><td>0.14783854065551355</td></tr>\n",
       "<tr><td>49891706470</td><td>635993</td><td>18782</td><td>8.39</td><td>00044c69-43c0-442...</td><td>2022-06-16</td><td>QLD</td><td>4475</td><td>Male</td><td>Non Vestibulum In...</td><td>tent and awning s...</td><td>a</td><td>0.058</td><td>retail_and_wholes...</td><td>department_stores</td><td>null</td><td>null</td><td>2630</td><td>1402.0</td><td>43196.0</td><td>6.0561087E7</td><td>43349.0</td><td>46.0</td><td>(8,[0,4,6,7],[1.0...</td><td>0.649987351902079</td><td>0.147112698049168</td></tr>\n",
       "<tr><td>38090089066</td><td>1347759</td><td>22405</td><td>347.4</td><td>0007a624-475d-45e...</td><td>2022-05-17</td><td>VIC</td><td>3294</td><td>Male</td><td>Interdum Feugiat ...</td><td>furniture, home f...</td><td>b</td><td>0.0324</td><td>retail_and_wholes...</td><td>household_goods_r...</td><td>null</td><td>null</td><td>6026</td><td>3748.0</td><td>55594.0</td><td>2.0836768E8</td><td>45499.0</td><td>50.0</td><td>(8,[1,4,6,7],[1.0...</td><td>0.3103784222236628</td><td>0.1594107681660512</td></tr>\n",
       "</table>\n"
      ],
      "text/plain": [
       "+------------+-----------+-------+------------+--------------------+--------------+-----+--------+------+--------------------+--------------------+-------+------+--------------------+--------------------+--------------------------+----------------------+------------------------------------+---------------------------+-------------------------+------------------------+---------------------------+---------------------------+--------------------+-------------------------+---------------------+\n",
       "|merchant_abn|consumer_id|user_id|dollar_value|            order_id|order_datetime|state|postcode|gender|       merchant_name|                 tag|revenue|  rate|            category|         subcategory|merchant_fraud_probability|user_fraud_probability|estimated_region_population_2021_sum|persons_earners_2018-19_sum|mean_earnings_2018-19_avg|sum_earnings_2018-19_sum|median_earnings_2018-19_avg|med_age_earners_2018-19_avg|            features|merchant_fraud_prediction|user_fraud_prediction|\n",
       "+------------+-----------+-------+------------+--------------------+--------------+-----+--------+------+--------------------+--------------------+-------+------+--------------------+--------------------+--------------------------+----------------------+------------------------------------+---------------------------+-------------------------+------------------------+---------------------------+---------------------------+--------------------+-------------------------+---------------------+\n",
       "| 45466221547|     408558|  23807|       10.37|00006afe-5648-4c0...|    2022-07-09|  NSW|    2256|Female|              Eu LLC|computers, comput...|      b|0.0349|retail_and_wholes...|household_goods_r...|                      null|                  null|                               51060|                    26619.0|                 58455.75|           1.528352959E9|                   47194.75|                       47.0|(8,[1,5,6,7],[1.0...|       0.3005225374117386|  0.21449423227354517|\n",
       "| 19054547079|     273574|  18856|       99.31|0001533f-1a2a-4a5...|    2021-12-14|   WA|    6315|  Male|Tincidunt Adipisc...|gift, card, novel...|      a|0.0665|retail_and_wholes...|   department_stores|                      null|                  null|                                9243|                     6039.0|                  70715.5|            4.26666905E8|                    54874.5|                       47.5|(8,[0,4,6,7],[1.0...|      0.28560216337207733|   0.1686003888259078|\n",
       "| 86406618443|     274589|  13937|       77.58|00015481-01ff-4ac...|    2021-09-25|  QLD|    4072|  Male|Tincidunt Pede Ac...|digital goods: bo...|      a|0.0656|retail_and_wholes...|household_goods_r...|                      null|                  null|                               13782|                     5674.0|                  82025.0|            4.65407055E8|                    41999.0|                       37.0|(8,[0,4,6,7],[1.0...|      0.28521397093565876|  0.19712927609203165|\n",
       "| 94493496784|     224491|    998|      107.99|00015bab-8017-462...|    2021-10-14|  VIC|    3622|  Male|Dictum Phasellus ...|gift, card, novel...|      a|0.0565|retail_and_wholes...|   department_stores|                      null|                  null|                               29955|                    17488.0|       50043.333333333336|            8.95900632E8|                    44093.0|         46.666666666666664|(8,[0,4,6,7],[1.0...|       0.3099259683941991|   0.1649414825012848|\n",
       "| 32605756719|     180184|  22990|      162.61|00015d52-5218-45d...|    2021-11-30|  NSW|    2345|  Male|In Ornare Industries|digital goods: bo...|      a|0.0657|retail_and_wholes...|household_goods_r...|                      null|                  null|                               19200|                    10646.0|                  49642.0|            5.28493249E8|                    44459.0|                       47.0|(8,[0,4,6,7],[1.0...|      0.28154613634402376|   0.1491242600470761|\n",
       "| 94493496784|    1473258|   6094|      274.26|00022380-b555-425...|    2021-09-17|  NSW|    2749|  Male|Dictum Phasellus ...|gift, card, novel...|      a|0.0565|retail_and_wholes...|   department_stores|                      null|                  null|                               30951|                    16425.0|                  66170.0|            1.08684316E9|                    59472.0|                       37.0|(8,[0,4,6,7],[1.0...|       0.3100445399353023|  0.13544993185266635|\n",
       "| 59162205130|     384848|  13087|      303.79|0002a2b0-ea7a-486...|    2021-10-16|   WA|    6308|Female|     Ante Dictum LLC|motor vehicle sup...|      c|0.0147|retail_and_wholes...|    others_retailing|                      null|                  null|                                7955|                     5168.0|                  73714.0|            3.82063955E8|                    55999.5|                       48.0|(8,[2,5,6,7],[1.0...|      0.29004468424319346|   0.1670436017777142|\n",
       "| 39542524740|    1110560|   4222|       22.82|0003871c-0bd8-4d9...|    2022-04-22|  QLD|    4427|Female|Urna Ut Tincidunt...|digital goods: bo...|      a|0.0651|retail_and_wholes...|household_goods_r...|                      null|                  null|                               10141|                     5496.0|                  43917.5|             2.4142693E8|                    40509.0|                       45.0|(8,[0,5,6,7],[1.0...|       0.2833963309104175|  0.14783854065551355|\n",
       "| 49891706470|     635993|  18782|        8.39|00044c69-43c0-442...|    2022-06-16|  QLD|    4475|  Male|Non Vestibulum In...|tent and awning s...|      a| 0.058|retail_and_wholes...|   department_stores|                      null|                  null|                                2630|                     1402.0|                  43196.0|             6.0561087E7|                    43349.0|                       46.0|(8,[0,4,6,7],[1.0...|        0.649987351902079|    0.147112698049168|\n",
       "| 38090089066|    1347759|  22405|       347.4|0007a624-475d-45e...|    2022-05-17|  VIC|    3294|  Male|Interdum Feugiat ...|furniture, home f...|      b|0.0324|retail_and_wholes...|household_goods_r...|                      null|                  null|                                6026|                     3748.0|                  55594.0|             2.0836768E8|                    45499.0|                       50.0|(8,[1,4,6,7],[1.0...|       0.3103784222236628|   0.1594107681660512|\n",
       "+------------+-----------+-------+------------+--------------------+--------------+-----+--------+------+--------------------+--------------------+-------+------+--------------------+--------------------+--------------------------+----------------------+------------------------------------+---------------------------+-------------------------+------------------------+---------------------------+---------------------------+--------------------+-------------------------+---------------------+"
      ]
     },
     "execution_count": 40,
     "metadata": {},
     "output_type": "execute_result"
    }
   ],
   "source": [
    "master_fitted.limit(10)"
   ]
  },
  {
   "cell_type": "code",
   "execution_count": null,
   "metadata": {
    "collapsed": false,
    "pycharm": {
     "name": "#%%\n"
    }
   },
   "outputs": [],
   "source": [
    "# drop features column\n",
    "master_final = master_fitted.drop('features')"
   ]
  },
  {
   "cell_type": "code",
   "execution_count": null,
   "metadata": {
    "collapsed": false,
    "pycharm": {
     "name": "#%%\n"
    }
   },
   "outputs": [],
   "source": [
    "#master_final.limit(10)"
   ]
  },
  {
   "cell_type": "code",
   "execution_count": null,
   "metadata": {
    "collapsed": false,
    "pycharm": {
     "name": "#%%\n"
    }
   },
   "outputs": [],
   "source": [
    "# add outliers column for user and merchant"
   ]
  },
  {
   "cell_type": "code",
   "execution_count": null,
   "metadata": {
    "collapsed": false,
    "pycharm": {
     "name": "#%%\n"
    }
   },
   "outputs": [],
   "source": [
    "#master_final.printSchema()"
   ]
  },
  {
   "cell_type": "code",
   "execution_count": null,
   "metadata": {
    "collapsed": false,
    "pycharm": {
     "name": "#%%\n"
    }
   },
   "outputs": [],
   "source": [
    "#master_final.orderBy(F.desc('user_fraud_prediction')).limit(10)\n",
    "#master_final.orderBy(F.desc('merchant_fraud_prediction')).limit(10)"
   ]
  },
  {
   "cell_type": "code",
   "execution_count": null,
   "metadata": {
    "collapsed": false,
    "pycharm": {
     "name": "#%%\n"
    }
   },
   "outputs": [],
   "source": [
    "cols = [\"user_fraud_prediction\", \"merchant_fraud_prediction\"]"
   ]
  },
  {
   "cell_type": "code",
   "execution_count": null,
   "metadata": {
    "collapsed": false,
    "pycharm": {
     "name": "#%%\n"
    }
   },
   "outputs": [
    {
     "name": "stderr",
     "output_type": "stream",
     "text": [
      "                                                                                \r"
     ]
    }
   ],
   "source": [
    "bounds = {\n",
    "    c: dict(\n",
    "        zip([\"q1\", \"q3\"], master_final.approxQuantile(c, [0.25, 0.75], 0.01))\n",
    "    )\n",
    "    for c in cols\n",
    "}\n",
    "\n",
    "for c in bounds:\n",
    "    iqr = bounds[c]['q3'] - bounds[c]['q1']\n",
    "    bounds[c]['lower'] = bounds[c]['q1'] - (iqr * 1.5)\n",
    "    bounds[c]['upper'] = bounds[c]['q3'] + (iqr * 1.5)"
   ]
  },
  {
   "cell_type": "code",
   "execution_count": null,
   "metadata": {
    "collapsed": false,
    "pycharm": {
     "name": "#%%\n"
    }
   },
   "outputs": [
    {
     "data": {
      "text/plain": [
       "{'user_fraud_prediction': {'q1': 0.1420700661820841,\n",
       "  'q3': 0.17085187468200433,\n",
       "  'lower': 0.09889735343220374,\n",
       "  'upper': 0.21402458743188468},\n",
       " 'merchant_fraud_prediction': {'q1': 0.2852929290914983,\n",
       "  'q3': 0.3236965016054774,\n",
       "  'lower': 0.22768757032052958,\n",
       "  'upper': 0.3813018603764461}}"
      ]
     },
     "execution_count": 48,
     "metadata": {},
     "output_type": "execute_result"
    }
   ],
   "source": [
    "bounds"
   ]
  },
  {
   "cell_type": "code",
   "execution_count": null,
   "metadata": {
    "collapsed": false,
    "pycharm": {
     "name": "#%%\n"
    }
   },
   "outputs": [],
   "source": [
    "# add outlier col to master"
   ]
  },
  {
   "cell_type": "code",
   "execution_count": null,
   "metadata": {
    "collapsed": false,
    "pycharm": {
     "name": "#%%\n"
    }
   },
   "outputs": [],
   "source": [
    "master_wfraud_col = master_final.select(\n",
    "    \"*\",\n",
    "    *[\n",
    "        F.when(\n",
    "            F.col(c).between(bounds[c]['lower'], bounds[c]['upper']),\n",
    "            0\n",
    "        ).otherwise(1).alias(c+\"_out\")\n",
    "        for c in cols\n",
    "    ]\n",
    ")\n",
    "\n",
    "master_wfraud_col = master_wfraud_col.select(\n",
    "    \"*\",\n",
    "    *[\n",
    "        F.when(\n",
    "            (F.col('user_fraud_prediction_out') != 1) | (F.col('merchant_fraud_prediction_out') != 1),\n",
    "            0\n",
    "        ).otherwise(1).alias('isfraud')\n",
    "    ]\n",
    ")\n",
    "\n",
    "# drop unneeded cols\n",
    "master_wfraud_col = master_wfraud_col.drop(*['user_fraud_prediction_out', 'merchant_fraud_prediction_out'])\n"
   ]
  },
  {
   "cell_type": "code",
   "execution_count": null,
   "metadata": {
    "collapsed": false,
    "pycharm": {
     "name": "#%%\n"
    }
   },
   "outputs": [],
   "source": [
    "#master_wfraud_col.limit(10)"
   ]
  },
  {
   "cell_type": "code",
   "execution_count": null,
   "metadata": {
    "collapsed": false,
    "pycharm": {
     "name": "#%%\n"
    }
   },
   "outputs": [],
   "source": [
    "#master_wfraud_col.where(master_wfraud_col['user_fraud_prediction_out'] > 0).count()"
   ]
  },
  {
   "cell_type": "code",
   "execution_count": null,
   "metadata": {
    "collapsed": false,
    "pycharm": {
     "name": "#%%\n"
    }
   },
   "outputs": [
    {
     "name": "stderr",
     "output_type": "stream",
     "text": [
      "                                                                                \r"
     ]
    },
    {
     "data": {
      "text/plain": [
       "119036"
      ]
     },
     "execution_count": 53,
     "metadata": {},
     "output_type": "execute_result"
    }
   ],
   "source": [
    "# these are the fraudulent values\n",
    "master_wfraud_col.where(master_wfraud_col['isfraud'] > 0).count()"
   ]
  },
  {
   "cell_type": "code",
   "execution_count": null,
   "metadata": {
    "collapsed": false,
    "pycharm": {
     "name": "#%%\n"
    }
   },
   "outputs": [
    {
     "name": "stderr",
     "output_type": "stream",
     "text": [
      "                                                                                \r"
     ]
    },
    {
     "data": {
      "text/plain": [
       "13614156"
      ]
     },
     "execution_count": 54,
     "metadata": {},
     "output_type": "execute_result"
    }
   ],
   "source": [
    "master_wfraud_col.count()"
   ]
  },
  {
   "cell_type": "code",
   "execution_count": null,
   "metadata": {
    "collapsed": false,
    "pycharm": {
     "name": "#%%\n"
    }
   },
   "outputs": [
    {
     "name": "stderr",
     "output_type": "stream",
     "text": [
      "                                                                                \r"
     ]
    },
    {
     "data": {
      "text/plain": [
       "13495120"
      ]
     },
     "execution_count": 55,
     "metadata": {},
     "output_type": "execute_result"
    }
   ],
   "source": [
    "master_ = master_wfraud_col.where(master_wfraud_col['isfraud'] == 0)\n",
    "master_.count()"
   ]
  },
  {
   "cell_type": "markdown",
   "metadata": {
    "collapsed": false,
    "pycharm": {
     "name": "#%% md\n"
    }
   },
   "source": []
  }
 ],
 "metadata": {
  "kernelspec": {
   "display_name": "Python 3.9.7 64-bit",
   "language": "python",
   "name": "python3"
  },
  "language_info": {
   "codemirror_mode": {
    "name": "ipython",
    "version": 3
   },
   "file_extension": ".py",
   "mimetype": "text/x-python",
   "name": "python",
   "nbconvert_exporter": "python",
   "pygments_lexer": "ipython3",
   "version": "3.9.7"
  },
  "vscode": {
   "interpreter": {
    "hash": "aee8b7b246df8f9039afb4144a1f6fd8d2ca17a180786b69acc140d282b71a49"
   }
  }
 },
 "nbformat": 4,
 "nbformat_minor": 5
}
