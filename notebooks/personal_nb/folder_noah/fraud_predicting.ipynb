{
 "cells": [
  {
   "cell_type": "code",
   "execution_count": 147,
   "id": "2995df53",
   "metadata": {
    "pycharm": {
     "name": "#%%\n"
    }
   },
   "outputs": [],
   "source": [
    "import pandas as pd\n",
    "from pyspark.sql import SparkSession, functions as F\n",
    "from pyspark.ml.regression import GBTRegressor\n",
    "from pyspark.ml.evaluation import RegressionEvaluator\n",
    "import seaborn as sns\n",
    "import numpy as np"
   ]
  },
  {
   "cell_type": "code",
   "execution_count": 148,
   "id": "063650a8",
   "metadata": {
    "pycharm": {
     "name": "#%%\n"
    }
   },
   "outputs": [],
   "source": [
    "# Create a spark session\n",
    "spark = (\n",
    "    SparkSession.builder.appName(\"Predict fraud probabilities\")\n",
    "    .config(\"spark.sql.repl.eagerEval.enabled\", True)\n",
    "    .config(\"spark.sql.parquet.cacheMetadata\", \"true\")\n",
    "    .config(\"spark.driver.memory\", \"8g\")\n",
    "    .config(\"spark.sql.session.timeZone\", \"Etc/UTC\")\n",
    "    .getOrCreate()\n",
    ")"
   ]
  },
  {
   "cell_type": "code",
   "execution_count": 149,
   "id": "2173dff9",
   "metadata": {
    "pycharm": {
     "name": "#%%\n"
    }
   },
   "outputs": [],
   "source": [
    "#spark.read.parquet('../../../data/curated/process_data.parquet').printSchema()"
   ]
  },
  {
   "cell_type": "code",
   "execution_count": 150,
   "id": "4dc2c0b8",
   "metadata": {
    "pycharm": {
     "name": "#%%\n"
    }
   },
   "outputs": [
    {
     "name": "stdout",
     "output_type": "stream",
     "text": [
      "{'rate', 'dollar_value', 'merchant_fraud_probability', 'gender', 'user_fraud_probability', 'revenue'}\n"
     ]
    }
   ],
   "source": [
    "# these are our predictors\n",
    "base_features = {'dollar_value',\n",
    "                 'gender',\n",
    "                 'revenue',\n",
    "                 'rate'}\n",
    "\n",
    "#user_feature = {'user_fraud_probability'}\n",
    "#merchant_feature = {'merchant_fraud_probability'}\n",
    "\n",
    "target_features = {'user_fraud_probability', 'merchant_fraud_probability'}\n",
    "\n",
    "\n",
    "subset = base_features.union(target_features)\n",
    "print(subset)"
   ]
  },
  {
   "cell_type": "code",
   "execution_count": 151,
   "id": "de3c6b89",
   "metadata": {
    "pycharm": {
     "name": "#%%\n"
    }
   },
   "outputs": [],
   "source": [
    "data = spark.read.parquet('../../../data/curated/process_data.parquet').select(*subset)\n",
    "#user_data = data.na.drop(subset=['user_fraud_probab\n",
    "# ility'])\n",
    "#merchant_data = data.na.drop(subset=['merchant_fraud_probability'])"
   ]
  },
  {
   "cell_type": "code",
   "execution_count": 152,
   "id": "ad058ea3",
   "metadata": {
    "pycharm": {
     "name": "#%%\n"
    }
   },
   "outputs": [],
   "source": [
    "def get_weights(df1, label, n):\n",
    "\n",
    "    # drop rows with missing label\n",
    "    df = df1.na.drop(subset=[label]).toPandas()\n",
    "\n",
    "    # find bins\n",
    "    df['bin'] = pd.cut(df[label], n)\n",
    "\n",
    "    # get weights and create mapper\n",
    "    d = df.groupby('bin').count()[label].map(np.log)\n",
    "    d = d.sum() / d\n",
    "    mapper = d.to_dict()\n",
    "\n",
    "    # create weights col mapped from bins\n",
    "    df['weights'] = df['bin'].map(lambda x: mapper[x])\n",
    "\n",
    "    weighted_df = spark.createDataFrame(df.drop('bin', axis=1))\n",
    "\n",
    "    return weighted_df\n"
   ]
  },
  {
   "cell_type": "code",
   "execution_count": 153,
   "id": "8765ec26",
   "metadata": {
    "pycharm": {
     "name": "#%%\n"
    }
   },
   "outputs": [
    {
     "name": "stderr",
     "output_type": "stream",
     "text": [
      "                                                                                \r"
     ]
    }
   ],
   "source": [
    "ud = get_weights(data, 'user_fraud_probability', 10)"
   ]
  },
  {
   "cell_type": "code",
   "execution_count": 154,
   "outputs": [
    {
     "name": "stderr",
     "output_type": "stream",
     "text": [
      "                                                                                \r"
     ]
    }
   ],
   "source": [
    "md = get_weights(data, 'merchant_fraud_probability', 5)"
   ],
   "metadata": {
    "collapsed": false,
    "pycharm": {
     "name": "#%%\n"
    }
   }
  },
  {
   "cell_type": "code",
   "execution_count": 155,
   "outputs": [
    {
     "data": {
      "text/plain": "+------+------------+--------------------------+------+----------------------+-------+------------------+\n|  rate|dollar_value|merchant_fraud_probability|gender|user_fraud_probability|revenue|           weights|\n+------+------------+--------------------------+------+----------------------+-------+------------------+\n|0.0273|      727.31|                       0.3|  Male|                   NaN|      c|2.5125695633550493|\n| 0.061|      315.11|                      0.29|  Male|                   NaN|      a|2.5125695633550493|\n|0.0273|      179.11|                       0.3|  Male|                   NaN|      c|2.5125695633550493|\n|0.0664|       31.93|                      0.28|Female|                   NaN|      a|2.5125695633550493|\n|0.0555|      857.35|                      0.29|Female|                   NaN|      a|2.5125695633550493|\n|0.0176|      376.61|                      0.29|  Male|                   NaN|      c|2.5125695633550493|\n|0.0273|      462.39|                       0.3|  Male|                   NaN|      c|2.5125695633550493|\n|0.0273|       35.23|                       0.3|  Male|                   NaN|      c|2.5125695633550493|\n|0.0419|    30489.85|                       0.3|Female|                  0.52|      b|2.5125695633550493|\n| 0.061|      230.97|                      0.29|Female|                   NaN|      a|2.5125695633550493|\n+------+------------+--------------------------+------+----------------------+-------+------------------+",
      "text/html": "<table border='1'>\n<tr><th>rate</th><th>dollar_value</th><th>merchant_fraud_probability</th><th>gender</th><th>user_fraud_probability</th><th>revenue</th><th>weights</th></tr>\n<tr><td>0.0273</td><td>727.31</td><td>0.3</td><td>Male</td><td>NaN</td><td>c</td><td>2.5125695633550493</td></tr>\n<tr><td>0.061</td><td>315.11</td><td>0.29</td><td>Male</td><td>NaN</td><td>a</td><td>2.5125695633550493</td></tr>\n<tr><td>0.0273</td><td>179.11</td><td>0.3</td><td>Male</td><td>NaN</td><td>c</td><td>2.5125695633550493</td></tr>\n<tr><td>0.0664</td><td>31.93</td><td>0.28</td><td>Female</td><td>NaN</td><td>a</td><td>2.5125695633550493</td></tr>\n<tr><td>0.0555</td><td>857.35</td><td>0.29</td><td>Female</td><td>NaN</td><td>a</td><td>2.5125695633550493</td></tr>\n<tr><td>0.0176</td><td>376.61</td><td>0.29</td><td>Male</td><td>NaN</td><td>c</td><td>2.5125695633550493</td></tr>\n<tr><td>0.0273</td><td>462.39</td><td>0.3</td><td>Male</td><td>NaN</td><td>c</td><td>2.5125695633550493</td></tr>\n<tr><td>0.0273</td><td>35.23</td><td>0.3</td><td>Male</td><td>NaN</td><td>c</td><td>2.5125695633550493</td></tr>\n<tr><td>0.0419</td><td>30489.85</td><td>0.3</td><td>Female</td><td>0.52</td><td>b</td><td>2.5125695633550493</td></tr>\n<tr><td>0.061</td><td>230.97</td><td>0.29</td><td>Female</td><td>NaN</td><td>a</td><td>2.5125695633550493</td></tr>\n</table>\n"
     },
     "execution_count": 155,
     "metadata": {},
     "output_type": "execute_result"
    }
   ],
   "source": [
    "md.limit(10)"
   ],
   "metadata": {
    "collapsed": false,
    "pycharm": {
     "name": "#%%\n"
    }
   }
  },
  {
   "cell_type": "code",
   "execution_count": 156,
   "outputs": [],
   "source": [
    "def get_dummy(df,categoricalCols,continuousCols,labelCol):\n",
    "\n",
    "    from pyspark.ml import Pipeline\n",
    "    from pyspark.ml.feature import StringIndexer, OneHotEncoder, VectorAssembler\n",
    "\n",
    "    indexers = [ StringIndexer(inputCol=c, outputCol=\"{0}_indexed\".format(c))\n",
    "                 for c in categoricalCols ]\n",
    "\n",
    "    # default setting: dropLast=True\n",
    "    encoders = [ OneHotEncoder(inputCol=indexer.getOutputCol(),\n",
    "                               outputCol=\"{0}_encoded\".format(indexer.getOutputCol()))\n",
    "                 for indexer in indexers ]\n",
    "\n",
    "    assembler = VectorAssembler(inputCols=[encoder.getOutputCol() for encoder in encoders]\n",
    "                                          + continuousCols, outputCol=\"features\")\n",
    "\n",
    "    pipeline = Pipeline(stages=indexers + encoders + [assembler])\n",
    "\n",
    "    model=pipeline.fit(df)\n",
    "    data_ = model.transform(df)\n",
    "\n",
    "    return data_.select('features',labelCol, 'weights')"
   ],
   "metadata": {
    "collapsed": false,
    "pycharm": {
     "name": "#%%\n"
    }
   }
  },
  {
   "cell_type": "code",
   "execution_count": 157,
   "id": "05652c0a",
   "metadata": {
    "pycharm": {
     "name": "#%%\n"
    }
   },
   "outputs": [],
   "source": [
    "# now we want to vectorize\n",
    "categorical_cols = {'gender','revenue'}\n",
    "continous_cols = {'dollar_value', 'rate'}"
   ]
  },
  {
   "cell_type": "code",
   "execution_count": 158,
   "id": "f1685b1d",
   "metadata": {
    "pycharm": {
     "name": "#%%\n"
    }
   },
   "outputs": [],
   "source": [
    "ud_v = get_dummy(ud, list(categorical_cols), list(continous_cols), labelCol='user_fraud_probability')\n",
    "md_v = get_dummy(md, list(categorical_cols), list(continous_cols), labelCol='merchant_fraud_probability')"
   ]
  },
  {
   "cell_type": "code",
   "execution_count": 159,
   "id": "1f0fb2b2",
   "metadata": {
    "pycharm": {
     "name": "#%%\n"
    }
   },
   "outputs": [
    {
     "name": "stdout",
     "output_type": "stream",
     "text": [
      "+--------------------+--------------------------+------------------+\n",
      "|            features|merchant_fraud_probability|           weights|\n",
      "+--------------------+--------------------------+------------------+\n",
      "|(8,[1,4,6,7],[1.0...|                       0.3|2.5125695633550493|\n",
      "|(8,[1,2,6,7],[1.0...|                      0.29|2.5125695633550493|\n",
      "|(8,[1,4,6,7],[1.0...|                       0.3|2.5125695633550493|\n",
      "|(8,[0,2,6,7],[1.0...|                      0.28|2.5125695633550493|\n",
      "|(8,[0,2,6,7],[1.0...|                      0.29|2.5125695633550493|\n",
      "|(8,[1,4,6,7],[1.0...|                      0.29|2.5125695633550493|\n",
      "|(8,[1,4,6,7],[1.0...|                       0.3|2.5125695633550493|\n",
      "|(8,[1,4,6,7],[1.0...|                       0.3|2.5125695633550493|\n",
      "|(8,[0,3,6,7],[1.0...|                       0.3|2.5125695633550493|\n",
      "|(8,[0,2,6,7],[1.0...|                      0.29|2.5125695633550493|\n",
      "+--------------------+--------------------------+------------------+\n",
      "only showing top 10 rows\n",
      "\n"
     ]
    }
   ],
   "source": [
    "md_v.show(10)\n",
    "#md_v.orderBy(F.desc('weights'))"
   ]
  },
  {
   "cell_type": "code",
   "execution_count": 160,
   "id": "ccd4415a",
   "metadata": {
    "pycharm": {
     "name": "#%%\n"
    }
   },
   "outputs": [],
   "source": [
    "gbt_uf = GBTRegressor(labelCol='user_fraud_probability',\n",
    "                   featuresCol=\"features\",\n",
    "                   maxIter=20,\n",
    "                   maxDepth=10,\n",
    "                   seed=56,\n",
    "                   lossType='squared',\n",
    "                   weightCol='weights',\n",
    "                   predictionCol='user_fraud_prediction')"
   ]
  },
  {
   "cell_type": "code",
   "execution_count": 161,
   "id": "bc7dd9e8",
   "metadata": {
    "pycharm": {
     "name": "#%%\n"
    }
   },
   "outputs": [],
   "source": [
    "gbt_mf = GBTRegressor(labelCol='merchant_fraud_probability',\n",
    "                   featuresCol=\"features\",\n",
    "                   maxIter=20,\n",
    "                   maxDepth=10,\n",
    "                   seed=56,\n",
    "                   lossType='squared',\n",
    "                   weightCol='weights',\n",
    "                   predictionCol='merchant_fraud_prediction')"
   ]
  },
  {
   "cell_type": "code",
   "execution_count": 162,
   "id": "637e3290",
   "metadata": {
    "pycharm": {
     "name": "#%%\n"
    }
   },
   "outputs": [],
   "source": [
    "(ufTrainData, ufTestData) = ud_v.randomSplit([0.7, 0.3])\n",
    "(mfTrainData, mfTestData) = md_v.randomSplit([0.7, 0.3])"
   ]
  },
  {
   "cell_type": "markdown",
   "source": [
    "Fit the models"
   ],
   "metadata": {
    "collapsed": false,
    "pycharm": {
     "name": "#%% md\n"
    }
   }
  },
  {
   "cell_type": "code",
   "execution_count": 163,
   "id": "a4151dc1",
   "metadata": {
    "pycharm": {
     "name": "#%%\n"
    }
   },
   "outputs": [
    {
     "name": "stderr",
     "output_type": "stream",
     "text": [
      "22/10/06 16:13:24 WARN DAGScheduler: Broadcasting large task binary with size 1023.5 KiB\n",
      "22/10/06 16:13:24 WARN DAGScheduler: Broadcasting large task binary with size 1016.5 KiB\n",
      "22/10/06 16:13:24 WARN DAGScheduler: Broadcasting large task binary with size 1017.0 KiB\n",
      "22/10/06 16:13:24 WARN DAGScheduler: Broadcasting large task binary with size 1017.7 KiB\n",
      "22/10/06 16:13:24 WARN DAGScheduler: Broadcasting large task binary with size 1018.7 KiB\n",
      "22/10/06 16:13:24 WARN DAGScheduler: Broadcasting large task binary with size 1021.0 KiB\n",
      "22/10/06 16:13:25 WARN DAGScheduler: Broadcasting large task binary with size 1025.9 KiB\n",
      "22/10/06 16:13:25 WARN DAGScheduler: Broadcasting large task binary with size 1035.3 KiB\n",
      "22/10/06 16:13:25 WARN DAGScheduler: Broadcasting large task binary with size 1049.9 KiB\n",
      "22/10/06 16:13:25 WARN DAGScheduler: Broadcasting large task binary with size 1070.2 KiB\n",
      "22/10/06 16:13:26 WARN DAGScheduler: Broadcasting large task binary with size 1099.3 KiB\n",
      "22/10/06 16:13:26 WARN DAGScheduler: Broadcasting large task binary with size 1086.9 KiB\n",
      "22/10/06 16:13:26 WARN DAGScheduler: Broadcasting large task binary with size 1087.4 KiB\n",
      "22/10/06 16:13:26 WARN DAGScheduler: Broadcasting large task binary with size 1088.1 KiB\n",
      "22/10/06 16:13:26 WARN DAGScheduler: Broadcasting large task binary with size 1089.2 KiB\n",
      "22/10/06 16:13:26 WARN DAGScheduler: Broadcasting large task binary with size 1091.5 KiB\n",
      "22/10/06 16:13:26 WARN DAGScheduler: Broadcasting large task binary with size 1096.0 KiB\n",
      "22/10/06 16:13:26 WARN DAGScheduler: Broadcasting large task binary with size 1103.5 KiB\n",
      "22/10/06 16:13:26 WARN DAGScheduler: Broadcasting large task binary with size 1115.4 KiB\n",
      "22/10/06 16:13:26 WARN DAGScheduler: Broadcasting large task binary with size 1135.9 KiB\n",
      "22/10/06 16:13:26 WARN DAGScheduler: Broadcasting large task binary with size 1165.5 KiB\n",
      "22/10/06 16:13:27 WARN DAGScheduler: Broadcasting large task binary with size 1155.7 KiB\n",
      "22/10/06 16:13:27 WARN DAGScheduler: Broadcasting large task binary with size 1156.2 KiB\n",
      "22/10/06 16:13:27 WARN DAGScheduler: Broadcasting large task binary with size 1157.0 KiB\n",
      "22/10/06 16:13:27 WARN DAGScheduler: Broadcasting large task binary with size 1158.1 KiB\n",
      "22/10/06 16:13:27 WARN DAGScheduler: Broadcasting large task binary with size 1160.4 KiB\n",
      "22/10/06 16:13:27 WARN DAGScheduler: Broadcasting large task binary with size 1164.9 KiB\n",
      "22/10/06 16:13:27 WARN DAGScheduler: Broadcasting large task binary with size 1172.5 KiB\n",
      "22/10/06 16:13:27 WARN DAGScheduler: Broadcasting large task binary with size 1183.5 KiB\n",
      "22/10/06 16:13:27 WARN DAGScheduler: Broadcasting large task binary with size 1200.6 KiB\n",
      "22/10/06 16:13:28 WARN DAGScheduler: Broadcasting large task binary with size 1225.3 KiB\n",
      "22/10/06 16:13:28 WARN DAGScheduler: Broadcasting large task binary with size 1215.3 KiB\n",
      "22/10/06 16:13:28 WARN DAGScheduler: Broadcasting large task binary with size 1215.8 KiB\n",
      "22/10/06 16:13:28 WARN DAGScheduler: Broadcasting large task binary with size 1216.5 KiB\n",
      "22/10/06 16:13:28 WARN DAGScheduler: Broadcasting large task binary with size 1217.5 KiB\n",
      "22/10/06 16:13:28 WARN DAGScheduler: Broadcasting large task binary with size 1219.8 KiB\n",
      "22/10/06 16:13:28 WARN DAGScheduler: Broadcasting large task binary with size 1224.7 KiB\n",
      "22/10/06 16:13:28 WARN DAGScheduler: Broadcasting large task binary with size 1234.3 KiB\n",
      "22/10/06 16:13:28 WARN DAGScheduler: Broadcasting large task binary with size 1249.8 KiB\n",
      "22/10/06 16:13:28 WARN DAGScheduler: Broadcasting large task binary with size 1268.8 KiB\n",
      "22/10/06 16:13:29 WARN DAGScheduler: Broadcasting large task binary with size 1294.9 KiB\n",
      "22/10/06 16:13:29 WARN DAGScheduler: Broadcasting large task binary with size 1279.5 KiB\n",
      "22/10/06 16:13:29 WARN DAGScheduler: Broadcasting large task binary with size 1279.9 KiB\n",
      "22/10/06 16:13:29 WARN DAGScheduler: Broadcasting large task binary with size 1280.7 KiB\n",
      "22/10/06 16:13:29 WARN DAGScheduler: Broadcasting large task binary with size 1281.7 KiB\n",
      "22/10/06 16:13:29 WARN DAGScheduler: Broadcasting large task binary with size 1284.0 KiB\n",
      "22/10/06 16:13:29 WARN DAGScheduler: Broadcasting large task binary with size 1288.8 KiB\n",
      "22/10/06 16:13:29 WARN DAGScheduler: Broadcasting large task binary with size 1298.5 KiB\n",
      "22/10/06 16:13:29 WARN DAGScheduler: Broadcasting large task binary with size 1315.5 KiB\n",
      "22/10/06 16:13:29 WARN DAGScheduler: Broadcasting large task binary with size 1339.9 KiB\n",
      "22/10/06 16:13:29 WARN DAGScheduler: Broadcasting large task binary with size 1375.7 KiB\n",
      "22/10/06 16:13:30 WARN DAGScheduler: Broadcasting large task binary with size 1362.8 KiB\n",
      "22/10/06 16:13:30 WARN DAGScheduler: Broadcasting large task binary with size 1363.3 KiB\n",
      "22/10/06 16:13:30 WARN DAGScheduler: Broadcasting large task binary with size 1364.0 KiB\n",
      "22/10/06 16:13:30 WARN DAGScheduler: Broadcasting large task binary with size 1365.0 KiB\n",
      "22/10/06 16:13:30 WARN DAGScheduler: Broadcasting large task binary with size 1367.3 KiB\n",
      "22/10/06 16:13:30 WARN DAGScheduler: Broadcasting large task binary with size 1372.0 KiB\n",
      "22/10/06 16:13:30 WARN DAGScheduler: Broadcasting large task binary with size 1380.9 KiB\n",
      "22/10/06 16:13:30 WARN DAGScheduler: Broadcasting large task binary with size 1397.3 KiB\n",
      "22/10/06 16:13:30 WARN DAGScheduler: Broadcasting large task binary with size 1427.0 KiB\n",
      "22/10/06 16:13:30 WARN DAGScheduler: Broadcasting large task binary with size 1476.2 KiB\n"
     ]
    }
   ],
   "source": [
    "uf_model = gbt_uf.fit(ufTrainData)"
   ]
  },
  {
   "cell_type": "code",
   "execution_count": 164,
   "outputs": [],
   "source": [
    "mf_model = gbt_mf.fit(mfTrainData)"
   ],
   "metadata": {
    "collapsed": false,
    "pycharm": {
     "name": "#%%\n"
    }
   }
  },
  {
   "cell_type": "markdown",
   "source": [
    "Evaluate model on training data"
   ],
   "metadata": {
    "collapsed": false,
    "pycharm": {
     "name": "#%% md\n"
    }
   }
  },
  {
   "cell_type": "code",
   "execution_count": 165,
   "id": "c44ec064",
   "metadata": {
    "pycharm": {
     "name": "#%%\n"
    }
   },
   "outputs": [],
   "source": [
    "uf_predictions = uf_model.transform(ufTrainData)"
   ]
  },
  {
   "cell_type": "code",
   "execution_count": 166,
   "outputs": [],
   "source": [
    "mf_predictions = mf_model.transform(mfTrainData)"
   ],
   "metadata": {
    "collapsed": false,
    "pycharm": {
     "name": "#%%\n"
    }
   }
  },
  {
   "cell_type": "code",
   "execution_count": 124,
   "outputs": [],
   "source": [
    "#mf_predictions"
   ],
   "metadata": {
    "collapsed": false,
    "pycharm": {
     "name": "#%%\n"
    }
   }
  },
  {
   "cell_type": "code",
   "execution_count": 167,
   "outputs": [],
   "source": [
    "uf_res = uf_predictions.select(['user_fraud_prediction', 'user_fraud_probability']).toPandas()\n",
    "mf_res = mf_predictions.select(['merchant_fraud_prediction', 'merchant_fraud_probability']).toPandas()"
   ],
   "metadata": {
    "collapsed": false,
    "pycharm": {
     "name": "#%%\n"
    }
   }
  },
  {
   "cell_type": "markdown",
   "source": [
    "User fraud predictions on training data"
   ],
   "metadata": {
    "collapsed": false,
    "pycharm": {
     "name": "#%% md\n"
    }
   }
  },
  {
   "cell_type": "code",
   "execution_count": 168,
   "outputs": [
    {
     "data": {
      "text/plain": "<AxesSubplot:>"
     },
     "execution_count": 168,
     "metadata": {},
     "output_type": "execute_result"
    },
    {
     "data": {
      "text/plain": "<Figure size 432x288 with 1 Axes>",
      "image/png": "[encoded data removed]"
     },
     "metadata": {},
     "output_type": "display_data"
    }
   ],
   "source": [
    "sns.boxplot(data=uf_res)"
   ],
   "metadata": {
    "collapsed": false,
    "pycharm": {
     "name": "#%%\n"
    }
   }
  },
  {
   "cell_type": "code",
   "execution_count": 169,
   "outputs": [
    {
     "data": {
      "text/plain": "<AxesSubplot:xlabel='user_fraud_prediction', ylabel='Count'>"
     },
     "execution_count": 169,
     "metadata": {},
     "output_type": "execute_result"
    },
    {
     "data": {
      "text/plain": "<Figure size 432x288 with 1 Axes>",
      "image/png": "[encoded data removed]"
     },
     "metadata": {},
     "output_type": "display_data"
    }
   ],
   "source": [
    "sns.histplot(x='user_fraud_prediction', data=uf_res, kde=True, bins=50)"
   ],
   "metadata": {
    "collapsed": false,
    "pycharm": {
     "name": "#%%\n"
    }
   }
  },
  {
   "cell_type": "code",
   "execution_count": 170,
   "outputs": [
    {
     "data": {
      "text/plain": "<AxesSubplot:xlabel='user_fraud_probability', ylabel='Count'>"
     },
     "execution_count": 170,
     "metadata": {},
     "output_type": "execute_result"
    },
    {
     "data": {
      "text/plain": "<Figure size 432x288 with 1 Axes>",
      "image/png": "[encoded data removed]"
     },
     "metadata": {},
     "output_type": "display_data"
    }
   ],
   "source": [
    "sns.histplot(uf_res['user_fraud_probability'], kde=True, bins=50)"
   ],
   "metadata": {
    "collapsed": false,
    "pycharm": {
     "name": "#%%\n"
    }
   }
  },
  {
   "cell_type": "markdown",
   "source": [
    "User fraud predctions on test data"
   ],
   "metadata": {
    "collapsed": false,
    "pycharm": {
     "name": "#%% md\n"
    }
   }
  },
  {
   "cell_type": "code",
   "execution_count": 172,
   "outputs": [],
   "source": [
    "uf_pred_test = uf_model.transform(ufTestData)\n",
    "\n",
    "uf_res_test = uf_pred_test.select(['user_fraud_prediction', 'user_fraud_probability']).toPandas()"
   ],
   "metadata": {
    "collapsed": false,
    "pycharm": {
     "name": "#%%\n"
    }
   }
  },
  {
   "cell_type": "code",
   "execution_count": 173,
   "outputs": [
    {
     "data": {
      "text/plain": "<AxesSubplot:>"
     },
     "execution_count": 173,
     "metadata": {},
     "output_type": "execute_result"
    },
    {
     "data": {
      "text/plain": "<Figure size 432x288 with 1 Axes>",
      "image/png": "[encoded data removed]"
     },
     "metadata": {},
     "output_type": "display_data"
    }
   ],
   "source": [
    "sns.boxplot(data=uf_res_test)"
   ],
   "metadata": {
    "collapsed": false,
    "pycharm": {
     "name": "#%%\n"
    }
   }
  },
  {
   "cell_type": "code",
   "execution_count": 174,
   "outputs": [
    {
     "data": {
      "text/plain": "<AxesSubplot:xlabel='user_fraud_prediction', ylabel='Count'>"
     },
     "execution_count": 174,
     "metadata": {},
     "output_type": "execute_result"
    },
    {
     "data": {
      "text/plain": "<Figure size 432x288 with 1 Axes>",
      "image/png": "[encoded data removed]"
     },
     "metadata": {},
     "output_type": "display_data"
    }
   ],
   "source": [
    "sns.histplot(x='user_fraud_prediction', data=uf_res_test, kde=True, bins=50)"
   ],
   "metadata": {
    "collapsed": false,
    "pycharm": {
     "name": "#%%\n"
    }
   }
  },
  {
   "cell_type": "code",
   "execution_count": 175,
   "outputs": [
    {
     "data": {
      "text/plain": "<AxesSubplot:xlabel='user_fraud_probability', ylabel='Count'>"
     },
     "execution_count": 175,
     "metadata": {},
     "output_type": "execute_result"
    },
    {
     "data": {
      "text/plain": "<Figure size 432x288 with 1 Axes>",
      "image/png": "[encoded data removed]"
     },
     "metadata": {},
     "output_type": "display_data"
    }
   ],
   "source": [
    "sns.histplot(uf_res_test['user_fraud_probability'], kde=True, bins=50)"
   ],
   "metadata": {
    "collapsed": false,
    "pycharm": {
     "name": "#%%\n"
    }
   }
  },
  {
   "cell_type": "markdown",
   "source": [
    "Merchant fraud predictions on training data"
   ],
   "metadata": {
    "collapsed": false,
    "pycharm": {
     "name": "#%% md\n"
    }
   }
  },
  {
   "cell_type": "code",
   "execution_count": 176,
   "outputs": [
    {
     "data": {
      "text/plain": "<AxesSubplot:>"
     },
     "execution_count": 176,
     "metadata": {},
     "output_type": "execute_result"
    },
    {
     "data": {
      "text/plain": "<Figure size 432x288 with 1 Axes>",
      "image/png": "[encoded data removed]"
     },
     "metadata": {},
     "output_type": "display_data"
    }
   ],
   "source": [
    "sns.boxplot(data=mf_res)"
   ],
   "metadata": {
    "collapsed": false,
    "pycharm": {
     "name": "#%%\n"
    }
   }
  },
  {
   "cell_type": "code",
   "execution_count": 177,
   "outputs": [
    {
     "data": {
      "text/plain": "<AxesSubplot:xlabel='merchant_fraud_prediction', ylabel='Count'>"
     },
     "execution_count": 177,
     "metadata": {},
     "output_type": "execute_result"
    },
    {
     "data": {
      "text/plain": "<Figure size 432x288 with 1 Axes>",
      "image/png": "[encoded data removed]"
     },
     "metadata": {},
     "output_type": "display_data"
    }
   ],
   "source": [
    "sns.histplot(x='merchant_fraud_prediction', data=mf_res    , kde=True, bins=50)"
   ],
   "metadata": {
    "collapsed": false,
    "pycharm": {
     "name": "#%%\n"
    }
   }
  },
  {
   "cell_type": "code",
   "execution_count": 178,
   "outputs": [
    {
     "data": {
      "text/plain": "<AxesSubplot:xlabel='merchant_fraud_probability', ylabel='Count'>"
     },
     "execution_count": 178,
     "metadata": {},
     "output_type": "execute_result"
    },
    {
     "data": {
      "text/plain": "<Figure size 432x288 with 1 Axes>",
      "image/png": "[encoded data removed]"
     },
     "metadata": {},
     "output_type": "display_data"
    }
   ],
   "source": [
    "sns.histplot(mf_res['merchant_fraud_probability'], kde=True, bins=50)"
   ],
   "metadata": {
    "collapsed": false,
    "pycharm": {
     "name": "#%%\n"
    }
   }
  },
  {
   "cell_type": "markdown",
   "source": [
    "Merchant fraud predictions on test data"
   ],
   "metadata": {
    "collapsed": false,
    "pycharm": {
     "name": "#%% md\n"
    }
   }
  },
  {
   "cell_type": "code",
   "execution_count": 179,
   "outputs": [],
   "source": [
    "mf_pred_test = mf_model.transform(mfTestData)\n",
    "mf_res_test = mf_pred_test.select(['merchant_fraud_prediction', 'merchant_fraud_probability']).toPandas()\n"
   ],
   "metadata": {
    "collapsed": false,
    "pycharm": {
     "name": "#%%\n"
    }
   }
  },
  {
   "cell_type": "code",
   "execution_count": 180,
   "outputs": [
    {
     "data": {
      "text/plain": "<AxesSubplot:>"
     },
     "execution_count": 180,
     "metadata": {},
     "output_type": "execute_result"
    },
    {
     "data": {
      "text/plain": "<Figure size 432x288 with 1 Axes>",
      "image/png": "[encoded data removed]"
     },
     "metadata": {},
     "output_type": "display_data"
    }
   ],
   "source": [
    "sns.boxplot(data=mf_res_test)"
   ],
   "metadata": {
    "collapsed": false,
    "pycharm": {
     "name": "#%%\n"
    }
   }
  },
  {
   "cell_type": "code",
   "execution_count": 181,
   "outputs": [
    {
     "data": {
      "text/plain": "<AxesSubplot:xlabel='merchant_fraud_prediction', ylabel='Count'>"
     },
     "execution_count": 181,
     "metadata": {},
     "output_type": "execute_result"
    },
    {
     "data": {
      "text/plain": "<Figure size 432x288 with 1 Axes>",
      "image/png": "[encoded data removed]"
     },
     "metadata": {},
     "output_type": "display_data"
    }
   ],
   "source": [
    "sns.histplot(x='merchant_fraud_prediction', data=mf_res_test, kde=True, bins=50)"
   ],
   "metadata": {
    "collapsed": false,
    "pycharm": {
     "name": "#%%\n"
    }
   }
  },
  {
   "cell_type": "code",
   "execution_count": 182,
   "outputs": [
    {
     "data": {
      "text/plain": "<AxesSubplot:xlabel='merchant_fraud_probability', ylabel='Count'>"
     },
     "execution_count": 182,
     "metadata": {},
     "output_type": "execute_result"
    },
    {
     "data": {
      "text/plain": "<Figure size 432x288 with 1 Axes>",
      "image/png": "[encoded data removed]"
     },
     "metadata": {},
     "output_type": "display_data"
    }
   ],
   "source": [
    "sns.histplot(x='merchant_fraud_probability', data=mf_res_test, kde=True, bins=50)"
   ],
   "metadata": {
    "collapsed": false,
    "pycharm": {
     "name": "#%%\n"
    }
   }
  },
  {
   "cell_type": "markdown",
   "source": [
    "TODO:\n",
    "* Add RMSE / AMSE calculations\n",
    "* Apply to entire dataset"
   ],
   "metadata": {
    "collapsed": false,
    "pycharm": {
     "name": "#%% md\n"
    }
   }
  },
  {
   "cell_type": "code",
   "execution_count": null,
   "outputs": [],
   "source": [],
   "metadata": {
    "collapsed": false,
    "pycharm": {
     "name": "#%%\n"
    }
   }
  },
  {
   "cell_type": "code",
   "execution_count": 133,
   "outputs": [],
   "source": [
    "# apply to entire dataset\n",
    "\n",
    "# now I have to vectorize the entire dataset... ->\n",
    "# -> then apply the model.transform"
   ],
   "metadata": {
    "collapsed": false,
    "pycharm": {
     "name": "#%%\n"
    }
   }
  },
  {
   "cell_type": "code",
   "execution_count": null,
   "outputs": [],
   "source": [
    "#o_res ="
   ],
   "metadata": {
    "collapsed": false,
    "pycharm": {
     "name": "#%%\n"
    }
   }
  }
 ],
 "metadata": {
  "kernelspec": {
   "display_name": "Python 3 (ipykernel)",
   "language": "python",
   "name": "python3"
  },
  "language_info": {
   "codemirror_mode": {
    "name": "ipython",
    "version": 3
   },
   "file_extension": ".py",
   "mimetype": "text/x-python",
   "name": "python",
   "nbconvert_exporter": "python",
   "pygments_lexer": "ipython3",
   "version": "3.8.13"
  }
 },
 "nbformat": 4,
 "nbformat_minor": 5
}