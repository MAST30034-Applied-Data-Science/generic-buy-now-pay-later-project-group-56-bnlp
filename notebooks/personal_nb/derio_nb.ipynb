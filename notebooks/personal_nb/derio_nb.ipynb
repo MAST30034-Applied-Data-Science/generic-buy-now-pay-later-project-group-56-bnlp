{
 "cells": [
  {
   "cell_type": "code",
   "execution_count": 3,
   "metadata": {},
   "outputs": [
    {
     "name": "stdout",
     "output_type": "stream",
     "text": [
      "22/09/06 22:27:54 WARN Utils: Your hostname, LAPTOP-03OFAS5P resolves to a loopback address: 127.0.1.1; using 172.19.167.2 instead (on interface eth0)\n",
      "22/09/06 22:27:54 WARN Utils: Set SPARK_LOCAL_IP if you need to bind to another address\n"
     ]
    },
    {
     "name": "stderr",
     "output_type": "stream",
     "text": [
      "Setting default log level to \"WARN\".\n",
      "To adjust logging level use sc.setLogLevel(newLevel). For SparkR, use setLogLevel(newLevel).\n"
     ]
    },
    {
     "name": "stdout",
     "output_type": "stream",
     "text": [
      "22/09/06 22:27:56 WARN NativeCodeLoader: Unable to load native-hadoop library for your platform... using builtin-java classes where applicable\n"
     ]
    }
   ],
   "source": [
    "from pyspark.sql import SparkSession, functions as F\n",
    "\n",
    "# Create a spark session\n",
    "spark = (\n",
    "    SparkSession.builder.appName(\"BNPL Project\")\n",
    "    .config(\"spark.sql.repl.eagerEval.enabled\", True) \n",
    "    .config(\"spark.sql.parquet.cacheMetadata\", \"true\")\n",
    "    .config(\"spark.driver.memory\", \"4g\")\n",
    "    .config(\"spark.sql.session.timeZone\", \"Etc/UTC\")\n",
    "    .getOrCreate()\n",
    ")"
   ]
  },
  {
   "cell_type": "code",
   "execution_count": 30,
   "metadata": {},
   "outputs": [],
   "source": [
    "#Read data\n",
    "sdf = spark.read.parquet(\"../../data/curated/process_data.parquet/\")"
   ]
  },
  {
   "cell_type": "code",
   "execution_count": 17,
   "metadata": {},
   "outputs": [
    {
     "name": "stdout",
     "output_type": "stream",
     "text": [
      "-RECORD 0------------------------------\n",
      " merchant_abn   | 32709545238          \n",
      " consumer_id    | 561                  \n",
      " user_id        | 14108                \n",
      " dollar_value   | 361.79               \n",
      " order_id       | 7f2cbe00-1d8c-49b... \n",
      " order_datetime | 2021-08-21           \n",
      " state          | NSW                  \n",
      " postcode       | 2293                 \n",
      " gender         | Male                 \n",
      " merchant_name  | Tempor Est Founda... \n",
      " tag            | stationery, offic... \n",
      " revenue        | c                    \n",
      " rate           | 3.04                 \n",
      " category       | retail_and_wholes... \n",
      "only showing top 1 row\n",
      "\n"
     ]
    },
    {
     "name": "stderr",
     "output_type": "stream",
     "text": [
      "                                                                                \r"
     ]
    }
   ],
   "source": [
    "sdf.show(1, vertical=True)"
   ]
  },
  {
   "cell_type": "markdown",
   "metadata": {},
   "source": [
    "## Null Values:\n",
    "\n",
    "Check for null/invalid values for the following columns:\n",
    "1. merchant_abn, consumer_id and user_id should be integers that are greater than 0.\n",
    "2. Dollar value should be positive (>0)\n",
    "3. order_id, order_datetime, state, merchant name, tag should not be null.\n",
    "4. postcode should be between 200 and 9944 inclusive.\n",
    "5. gender should be \"Female\", \"Male\" or \"Undisclosed\".\n",
    "6. revenue should be \"a\", \"b\", \"c\", \"d\" or \"e\".\n",
    "7. rate should be between 0 and 100."
   ]
  },
  {
   "cell_type": "code",
   "execution_count": 31,
   "metadata": {},
   "outputs": [
    {
     "name": "stderr",
     "output_type": "stream",
     "text": [
      "                                                                                \r"
     ]
    }
   ],
   "source": [
    "initial = sdf.count()\n",
    "\n",
    "#1\n",
    "sdf = sdf.filter(F.col('merchant_abn') > 0)\n",
    "sdf = sdf.filter(F.col('consumer_id') > 0)\n",
    "sdf = sdf.filter(F.col('user_id') > 0)\n",
    "count1 = sdf.count()\n",
    "\n",
    "#2\n",
    "sdf = sdf.filter(F.col('dollar_value') > 0)\n",
    "count2 = sdf.count()\n",
    "\n",
    "#3\n",
    "sdf = sdf.filter(F.col('order_id').isNotNull())\n",
    "sdf = sdf.filter(F.col('order_datetime').isNotNull())\n",
    "sdf = sdf.filter(F.col('state').isNotNull())\n",
    "sdf = sdf.filter(F.col('merchant_name').isNotNull())\n",
    "sdf = sdf.filter(F.col('tag').isNotNull())\n",
    "count3 = sdf.count()\n",
    "\n",
    "#4\n",
    "sdf = sdf.filter(F.col('postcode').cast(\"integer\") > 200)\n",
    "sdf = sdf.filter(F.col('postcode').cast(\"integer\") < 9944)\n",
    "count4 = sdf.count()\n",
    "\n",
    "#5\n",
    "sdf = sdf.filter((F.col(\"gender\") == \"Male\")|(F.col(\"gender\") == \"Female\")|(F.col(\"gender\") == \"Undisclosed\"))\n",
    "count5 = sdf.count()\n",
    "\n",
    "#6\n",
    "sdf = sdf.filter((F.col(\"revenue\") == \"a\")|(F.col(\"revenue\") == \"b\")|(F.col(\"revenue\") == \"c\")|\n",
    "    (F.col(\"revenue\") == \"d\")|(F.col(\"revenue\") == \"e\"))\n",
    "count6 = sdf.count()\n",
    "\n",
    "#7\n",
    "sdf = sdf.withColumn(\"rate\", F.col(\"rate\").cast(\"double\"))\n",
    "sdf = sdf.filter((F.col(\"rate\") >= 0)&(F.col(\"rate\") <= 100))\n",
    "count7 = sdf.count()"
   ]
  },
  {
   "cell_type": "code",
   "execution_count": 36,
   "metadata": {},
   "outputs": [
    {
     "name": "stdout",
     "output_type": "stream",
     "text": [
      "initial count:  3643266\n",
      "after step 1:  3643266\n",
      "after step 2:  3643129\n",
      "after step 3:  3493902\n",
      "after step 4:  3492711\n",
      "after step 5:  3492711\n",
      "after step 6:  3492711\n",
      "after step 7:  3492711\n",
      "total NULL/invalid instances:  150555\n"
     ]
    }
   ],
   "source": [
    "print(\"initial count: \", initial)\n",
    "print(\"after step 1: \", count1)\n",
    "print(\"after step 2: \", count2)\n",
    "print(\"after step 3: \", count3)\n",
    "print(\"after step 4: \", count4)\n",
    "print(\"after step 5: \", count5)\n",
    "print(\"after step 6: \", count6)\n",
    "print(\"after step 7: \", count7)\n",
    "print(\"total NULL/invalid instances: \", initial-count7)"
   ]
  },
  {
   "cell_type": "markdown",
   "metadata": {},
   "source": [
    "The result shows that some instances are removed in steps 2, 3 and 4. There are 150555 null/invalid values in total. Since the number of invalid/null instances is small compared to the size of the entire dataset (around 4.3% of the entire dataset), we can simply remove them without imputations."
   ]
  },
  {
   "cell_type": "markdown",
   "metadata": {},
   "source": [
    "## Missing Values:\n",
    "\n",
    "Check for missing values:"
   ]
  },
  {
   "cell_type": "code",
   "execution_count": 40,
   "metadata": {},
   "outputs": [
    {
     "name": "stdout",
     "output_type": "stream",
     "text": [
      "0\n",
      "0\n",
      "0\n",
      "0\n",
      "0\n"
     ]
    }
   ],
   "source": [
    "print(sdf.filter(F.col('order_id') == \"\").count())\n",
    "print(sdf.filter(F.col('order_datetime') == \"\").count())\n",
    "print(sdf.filter(F.col('state') == \"\").count())\n",
    "print(sdf.filter(F.col('merchant_name') == \"\").count())\n",
    "print(sdf.filter(F.col('tag') == \"\").count())"
   ]
  },
  {
   "cell_type": "markdown",
   "metadata": {},
   "source": [
    "There are no missing values."
   ]
  },
  {
   "cell_type": "markdown",
   "metadata": {},
   "source": [
    "## Outliers\n",
    "\n",
    "Check for outliers in the dollar_value."
   ]
  },
  {
   "cell_type": "code",
   "execution_count": 41,
   "metadata": {},
   "outputs": [
    {
     "name": "stderr",
     "output_type": "stream",
     "text": [
      "                                                                                \r"
     ]
    },
    {
     "data": {
      "text/html": [
       "<table border='1'>\n",
       "<tr><th>summary</th><th>dollar_value</th></tr>\n",
       "<tr><td>count</td><td>3492711</td></tr>\n",
       "<tr><td>mean</td><td>158.6165965177199</td></tr>\n",
       "<tr><td>stddev</td><td>467.7023897547347</td></tr>\n",
       "<tr><td>min</td><td>0.01</td></tr>\n",
       "<tr><td>max</td><td>105193.89</td></tr>\n",
       "</table>\n"
      ],
      "text/plain": [
       "+-------+-----------------+\n",
       "|summary|     dollar_value|\n",
       "+-------+-----------------+\n",
       "|  count|          3492711|\n",
       "|   mean|158.6165965177199|\n",
       "| stddev|467.7023897547347|\n",
       "|    min|             0.01|\n",
       "|    max|        105193.89|\n",
       "+-------+-----------------+"
      ]
     },
     "execution_count": 41,
     "metadata": {},
     "output_type": "execute_result"
    }
   ],
   "source": [
    "sdf.describe(\"dollar_value\")"
   ]
  },
  {
   "cell_type": "markdown",
   "metadata": {},
   "source": [
    "We can consider dollar values that are outside the range (mean-3\\*stddev, mean+3\\*stddev) as outliers."
   ]
  },
  {
   "cell_type": "code",
   "execution_count": 43,
   "metadata": {},
   "outputs": [
    {
     "name": "stderr",
     "output_type": "stream",
     "text": [
      "[Stage 170:==================================================>      (8 + 1) / 9]\r"
     ]
    },
    {
     "name": "stdout",
     "output_type": "stream",
     "text": [
      "32094\n"
     ]
    },
    {
     "name": "stderr",
     "output_type": "stream",
     "text": [
      "                                                                                \r"
     ]
    }
   ],
   "source": [
    "print(sdf.filter(F.col('dollar_value') > (158.6165965177199 + 3 * 467.7023897547347)).count())"
   ]
  },
  {
   "cell_type": "markdown",
   "metadata": {},
   "source": [
    "There are 32094 outliers, which is not a significant amount. We can remove these instances.\n",
    "\n",
    "Plot the distribution of the dollar_value before and after removal of the outliers."
   ]
  },
  {
   "cell_type": "code",
   "execution_count": 44,
   "metadata": {},
   "outputs": [
    {
     "name": "stderr",
     "output_type": "stream",
     "text": [
      "                                                                                \r"
     ]
    }
   ],
   "source": [
    "# set bin size\n",
    "binsize = 100\n",
    "dict = {}\n",
    "\n",
    "# count number of instances for each bin\n",
    "for i in range(1,16):\n",
    "    count = sdf.filter(((i-1)*binsize < F.col('dollar_value')) & (F.col('dollar_value') <= i*binsize)).count()\n",
    "    dict[str((i-1)*binsize)+\"-\"+str(i*binsize)] = count\n",
    "\n",
    "# count number of instances for the remaining bin\n",
    "sumval = sum(dict.values())\n",
    "dict['>1500'] = sdf.count() - sumval"
   ]
  },
  {
   "cell_type": "code",
   "execution_count": 45,
   "metadata": {},
   "outputs": [
    {
     "data": {
      "text/plain": [
       "<function matplotlib.pyplot.show(close=None, block=None)>"
      ]
     },
     "execution_count": 45,
     "metadata": {},
     "output_type": "execute_result"
    },
    {
     "data": {
      "image/png": "[encoded data removed]",
      "text/plain": [
       "<Figure size 432x288 with 1 Axes>"
      ]
     },
     "metadata": {
      "needs_background": "light"
     },
     "output_type": "display_data"
    }
   ],
   "source": [
    "import pandas as pd\n",
    "import matplotlib.pyplot as plt\n",
    "\n",
    "# plot the graph and add labels and a title\n",
    "fig, ax = plt.subplots()\n",
    "ax = pd.Series(dict).plot.bar()\n",
    "ax.set_xlabel(\"Dollar value\")\n",
    "ax.set_ylabel(\"Frequency\")\n",
    "ax.set_title(\"Distribution of dollar value\")\n",
    "\n",
    "# show plot\n",
    "plt.show"
   ]
  },
  {
   "cell_type": "code",
   "execution_count": 46,
   "metadata": {},
   "outputs": [],
   "source": [
    "#Remove outliers\n",
    "sdf = sdf.filter(F.col('dollar_value') <= (158.6165965177199 + 3 * 467.7023897547347))"
   ]
  },
  {
   "cell_type": "code",
   "execution_count": 47,
   "metadata": {},
   "outputs": [
    {
     "name": "stderr",
     "output_type": "stream",
     "text": [
      "                                                                                \r"
     ]
    }
   ],
   "source": [
    "# set bin size\n",
    "binsize = 100\n",
    "dict = {}\n",
    "\n",
    "# count number of instances for each bin\n",
    "for i in range(1,16):\n",
    "    count = sdf.filter(((i-1)*binsize < F.col('dollar_value')) & (F.col('dollar_value') <= i*binsize)).count()\n",
    "    dict[str((i-1)*binsize)+\"-\"+str(i*binsize)] = count\n",
    "\n",
    "# count number of instances for the remaining bin\n",
    "sumval = sum(dict.values())\n",
    "dict['>1500'] = sdf.count() - sumval"
   ]
  },
  {
   "cell_type": "code",
   "execution_count": 48,
   "metadata": {},
   "outputs": [
    {
     "data": {
      "text/plain": [
       "<function matplotlib.pyplot.show(close=None, block=None)>"
      ]
     },
     "execution_count": 48,
     "metadata": {},
     "output_type": "execute_result"
    },
    {
     "data": {
      "image/png": "[encoded data removed]",
      "text/plain": [
       "<Figure size 432x288 with 1 Axes>"
      ]
     },
     "metadata": {
      "needs_background": "light"
     },
     "output_type": "display_data"
    }
   ],
   "source": [
    "# plot the graph and add labels and a title\n",
    "fig, ax = plt.subplots()\n",
    "ax = pd.Series(dict).plot.bar()\n",
    "ax.set_xlabel(\"Dollar value\")\n",
    "ax.set_ylabel(\"Frequency\")\n",
    "ax.set_title(\"Distribution of dollar value\")\n",
    "\n",
    "# show plot\n",
    "plt.show"
   ]
  },
  {
   "cell_type": "markdown",
   "metadata": {},
   "source": [
    "It can be seen that the distribution of dollar_value does not change at all other than the extremely large values."
   ]
  }
 ],
 "metadata": {
  "kernelspec": {
   "display_name": "Python 3.8.10 64-bit",
   "language": "python",
   "name": "python3"
  },
  "language_info": {
   "codemirror_mode": {
    "name": "ipython",
    "version": 3
   },
   "file_extension": ".py",
   "mimetype": "text/x-python",
   "name": "python",
   "nbconvert_exporter": "python",
   "pygments_lexer": "ipython3",
   "version": "3.8.10"
  },
  "orig_nbformat": 4,
  "vscode": {
   "interpreter": {
    "hash": "916dbcbb3f70747c44a77c7bcd40155683ae19c65e1c03b4aa3499c5328201f1"
   }
  }
 },
 "nbformat": 4,
 "nbformat_minor": 2
}
