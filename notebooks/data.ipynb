{
 "cells": [
  {
   "cell_type": "markdown",
   "metadata": {},
   "source": [
    "Start spark session."
   ]
  },
  {
   "cell_type": "code",
   "execution_count": 18,
   "metadata": {},
   "outputs": [
    {
     "name": "stdout",
     "output_type": "stream",
     "text": [
      "22/09/01 13:25:50 WARN SparkSession: Using an existing Spark session; only runtime SQL configurations will take effect.\n"
     ]
    }
   ],
   "source": [
    "from pyspark.sql import SparkSession, functions as F\n",
    "\n",
    "# Create a spark session\n",
    "spark = (\n",
    "    SparkSession.builder.appName(\"BNPL Preprocess\")\n",
    "    .config(\"spark.sql.repl.eagerEval.enabled\", True) \n",
    "    .config(\"spark.sql.parquet.cacheMetadata\", \"true\")\n",
    "    .config(\"spark.driver.memory\", \"4g\")\n",
    "    .config(\"spark.sql.session.timeZone\", \"Etc/UTC\")\n",
    "    .getOrCreate()\n",
    ")"
   ]
  },
  {
   "cell_type": "markdown",
   "metadata": {},
   "source": [
    "Merchants data:"
   ]
  },
  {
   "cell_type": "code",
   "execution_count": 2,
   "metadata": {},
   "outputs": [
    {
     "name": "stderr",
     "output_type": "stream",
     "text": [
      "                                                                                \r"
     ]
    },
    {
     "name": "stdout",
     "output_type": "stream",
     "text": [
      "-RECORD 0-----------------------------\n",
      " merchant_name | Felis Limited        \n",
      " tags          | ((furniture, home... \n",
      " merchant_abn  | 10023283211          \n",
      "-RECORD 1-----------------------------\n",
      " merchant_name | Arcu Ac Orci Corp... \n",
      " tags          | ([cable, satellit... \n",
      " merchant_abn  | 10142254217          \n",
      "only showing top 2 rows\n",
      "\n"
     ]
    },
    {
     "data": {
      "text/plain": [
       "4026"
      ]
     },
     "execution_count": 2,
     "metadata": {},
     "output_type": "execute_result"
    }
   ],
   "source": [
    "merchants = spark.read.parquet(\"../data/tables/tbl_merchants.parquet\")\n",
    "merchants = merchants.withColumnRenamed(\"name\", \"merchant_name\")\n",
    "merchants.show(2, vertical=True)\n",
    "merchants.count()"
   ]
  },
  {
   "cell_type": "markdown",
   "metadata": {},
   "source": [
    "An example of an instance of the \"tag\" column."
   ]
  },
  {
   "cell_type": "code",
   "execution_count": 3,
   "metadata": {},
   "outputs": [
    {
     "data": {
      "text/plain": [
       "'((furniture, home furnishings and equipment shops, and manufacturers, except appliances), (e), (take rate: 0.18))'"
      ]
     },
     "execution_count": 3,
     "metadata": {},
     "output_type": "execute_result"
    }
   ],
   "source": [
    "merchants.collect()[0][1]"
   ]
  },
  {
   "cell_type": "code",
   "execution_count": 24,
   "metadata": {},
   "outputs": [
    {
     "name": "stdout",
     "output_type": "stream",
     "text": [
      "+----------------------------------------------------------------------------------------------------------+\n",
      "|tags                                                                                                      |\n",
      "+----------------------------------------------------------------------------------------------------------+\n",
      "|[(florists supplies, nursery stock, and flOwers), (a), (take rate: 6.04)]                                 |\n",
      "|((boOks, periodicals, and newspapers), (b), (take rate: 4.40))                                            |\n",
      "|[(computer programming , Data processing, and integrated systems desigN services), (c), (take rate: 1.43)]|\n",
      "|((tent and awning shops), (b), (take rate: 4.32))                                                         |\n",
      "+----------------------------------------------------------------------------------------------------------+\n",
      "\n"
     ]
    }
   ],
   "source": [
    "merchants.where(F.col('merchant_name').isin(['A Felis Ullamcorper Corporation', 'A Felis Ullamcorper Industries', 'A Felis Ullamcorper LLP', 'A Felis Company'])).select('tags').show(truncate=False)"
   ]
  },
  {
   "cell_type": "markdown",
   "metadata": {},
   "source": [
    "Extract revenue level and take rate from the \"tags\" column."
   ]
  },
  {
   "cell_type": "code",
   "execution_count": 29,
   "metadata": {},
   "outputs": [
    {
     "name": "stdout",
     "output_type": "stream",
     "text": [
      "-RECORD 0--------------------------------------------------------------------------------------------------------------------------\n",
      " merchant_name | Felis Limited                                                                                                     \n",
      " tags          | ((furniture, home furnishings and equipment shops, and manufacturers, except appliances), (e), (take rate: 0.18)) \n",
      " merchant_abn  | 10023283211                                                                                                       \n",
      " tag           | ((furniture, home furnishings and equipment shops, and manufacturers, except appliances                           \n",
      " revenue_level | e                                                                                                                 \n",
      " take_rate     | 0.18                                                                                                              \n",
      "-RECORD 1--------------------------------------------------------------------------------------------------------------------------\n",
      " merchant_name | Arcu Ac Orci Corporation                                                                                          \n",
      " tags          | ([cable, satellite, and otHer pay television and radio services], [b], [take rate: 4.22])                         \n",
      " merchant_abn  | 10142254217                                                                                                       \n",
      " tag           | ([cable, satellite, and otHer pay television and radio services                                                   \n",
      " revenue_level | b                                                                                                                 \n",
      " take_rate     | 4.22                                                                                                              \n",
      "-RECORD 2--------------------------------------------------------------------------------------------------------------------------\n",
      " merchant_name | Nunc Sed Company                                                                                                  \n",
      " tags          | ([jewelry, watch, clock, and silverware shops], [b], [take rate: 4.40])                                           \n",
      " merchant_abn  | 10165489824                                                                                                       \n",
      " tag           | ([jewelry, watch, clock, and silverware shops                                                                     \n",
      " revenue_level | b                                                                                                                 \n",
      " take_rate     | 4.40                                                                                                              \n",
      "-RECORD 3--------------------------------------------------------------------------------------------------------------------------\n",
      " merchant_name | Ultricies Dignissim Lacus Foundation                                                                              \n",
      " tags          | ([wAtch, clock, and jewelry repair shops], [b], [take rate: 3.29])                                                \n",
      " merchant_abn  | 10187291046                                                                                                       \n",
      " tag           | ([wAtch, clock, and jewelry repair shops                                                                          \n",
      " revenue_level | b                                                                                                                 \n",
      " take_rate     | 3.29                                                                                                              \n",
      "-RECORD 4--------------------------------------------------------------------------------------------------------------------------\n",
      " merchant_name | Enim Condimentum PC                                                                                               \n",
      " tags          | ([music shops - musical instruments, pianos, and sheet music], [a], [take rate: 6.33])                            \n",
      " merchant_abn  | 10192359162                                                                                                       \n",
      " tag           | ([music shops - musical instruments, pianos, and sheet music                                                      \n",
      " revenue_level | a                                                                                                                 \n",
      " take_rate     | 6.33                                                                                                              \n",
      "-RECORD 5--------------------------------------------------------------------------------------------------------------------------\n",
      " merchant_name | Fusce Company                                                                                                     \n",
      " tags          | [(gift, card, novelty, and souvenir shops), (a), (take rate: 6.34)]                                               \n",
      " merchant_abn  | 10206519221                                                                                                       \n",
      " tag           | [(gift, card, novelty, and souvenir shops                                                                         \n",
      " revenue_level | a                                                                                                                 \n",
      " take_rate     | 6.34                                                                                                              \n",
      "-RECORD 6--------------------------------------------------------------------------------------------------------------------------\n",
      " merchant_name | Aliquam Enim Incorporated                                                                                         \n",
      " tags          | [(computers, comPUter peripheral equipment, and softwAre), (b), (take rate: 4.32)]                                \n",
      " merchant_abn  | 10255988167                                                                                                       \n",
      " tag           | [(computers, comPUter peripheral equipment, and softwAre                                                          \n",
      " revenue_level | b                                                                                                                 \n",
      " take_rate     | 4.32                                                                                                              \n",
      "-RECORD 7--------------------------------------------------------------------------------------------------------------------------\n",
      " merchant_name | Ipsum Primis Ltd                                                                                                  \n",
      " tags          | [[watch, clock, and jewelry repair shops], [c], [take rate: 2.39]]                                                \n",
      " merchant_abn  | 10264435225                                                                                                       \n",
      " tag           | [[watch, clock, and jewelry repair shops                                                                          \n",
      " revenue_level | c                                                                                                                 \n",
      " take_rate     | 2.39                                                                                                              \n",
      "-RECORD 8--------------------------------------------------------------------------------------------------------------------------\n",
      " merchant_name | Pede Ultrices Industries                                                                                          \n",
      " tags          | ([computer programming , data processing, and integrated systems design services], [a], [take rate: 5.71])        \n",
      " merchant_abn  | 10279061213                                                                                                       \n",
      " tag           | ([computer programming , data processing, and integrated systems design services                                  \n",
      " revenue_level | a                                                                                                                 \n",
      " take_rate     | 5.71                                                                                                              \n",
      "-RECORD 9--------------------------------------------------------------------------------------------------------------------------\n",
      " merchant_name | Nunc Inc.                                                                                                         \n",
      " tags          | [(furniture, home furnishings and equipment shopS, and manufacturers, except appliances), (a), (take rate: 6.61)] \n",
      " merchant_abn  | 10323485998                                                                                                       \n",
      " tag           | [(furniture, home furnishings and equipment shopS, and manufacturers, except appliances                           \n",
      " revenue_level | a                                                                                                                 \n",
      " take_rate     | 6.61                                                                                                              \n",
      "-RECORD 10-------------------------------------------------------------------------------------------------------------------------\n",
      " merchant_name | Facilisis Facilisis Corp.                                                                                         \n",
      " tags          | ([computers, computer peripheral equipment, and software], [a], [take rate: 6.34])                                \n",
      " merchant_abn  | 10342410215                                                                                                       \n",
      " tag           | ([computers, computer peripheral equipment, and software                                                          \n",
      " revenue_level | a                                                                                                                 \n",
      " take_rate     | 6.34                                                                                                              \n",
      "-RECORD 11-------------------------------------------------------------------------------------------------------------------------\n",
      " merchant_name | Odio Institute                                                                                                    \n",
      " tags          | ((equipment, tool, furniture, and appliance  rent al and leAsing), (b), (take rate: 3.57))                        \n",
      " merchant_abn  | 10346855916                                                                                                       \n",
      " tag           | ((equipment, tool, furniture, and appliance  rent al and leAsing                                                  \n",
      " revenue_level | b                                                                                                                 \n",
      " take_rate     | 3.57                                                                                                              \n",
      "-RECORD 12-------------------------------------------------------------------------------------------------------------------------\n",
      " merchant_name | Rutrum Justo Ltd                                                                                                  \n",
      " tags          | ([music shops - musical instruments, pianos, and sheet music], [b], [take rate: 3.63])                            \n",
      " merchant_abn  | 10364012396                                                                                                       \n",
      " tag           | ([music shops - musical instruments, pianos, and sheet music                                                      \n",
      " revenue_level | b                                                                                                                 \n",
      " take_rate     | 3.63                                                                                                              \n",
      "-RECORD 13-------------------------------------------------------------------------------------------------------------------------\n",
      " merchant_name | Tellus Foundation                                                                                                 \n",
      " tags          | [[artist supply and craft  shops], [b], [take rate: 3.17]]                                                        \n",
      " merchant_abn  | 10385011947                                                                                                       \n",
      " tag           | [[artist supply and craft  shops                                                                                  \n",
      " revenue_level | b                                                                                                                 \n",
      " take_rate     | 3.17                                                                                                              \n",
      "-RECORD 14-------------------------------------------------------------------------------------------------------------------------\n",
      " merchant_name | Sed Et Company                                                                                                    \n",
      " tags          | ([florists supplies, nursery stock, and flowers], [a], [take rate: 6.61])                                         \n",
      " merchant_abn  | 10385163239                                                                                                       \n",
      " tag           | ([florists supplies, nursery stock, and flowers                                                                   \n",
      " revenue_level | a                                                                                                                 \n",
      " take_rate     | 6.61                                                                                                              \n",
      "-RECORD 15-------------------------------------------------------------------------------------------------------------------------\n",
      " merchant_name | Id Ltd                                                                                                            \n",
      " tags          | ([computers, computer peripheral  equipment, and software], [a], [take rate: 5.54])                               \n",
      " merchant_abn  | 10385250025                                                                                                       \n",
      " tag           | ([computers, computer peripheral  equipment, and software                                                         \n",
      " revenue_level | a                                                                                                                 \n",
      " take_rate     | 5.54                                                                                                              \n",
      "-RECORD 16-------------------------------------------------------------------------------------------------------------------------\n",
      " merchant_name | Consequat Foundation                                                                                              \n",
      " tags          | [[antique shops - sales, repairs, and restoration serVices], [a], [take rate: 6.93]]                              \n",
      " merchant_abn  | 10404542215                                                                                                       \n",
      " tag           | [[antique shops - sales, repairs, and restoration serVices                                                        \n",
      " revenue_level | a                                                                                                                 \n",
      " take_rate     | 6.93                                                                                                              \n",
      "-RECORD 17-------------------------------------------------------------------------------------------------------------------------\n",
      " merchant_name | Sit Amet Nulla Corp.                                                                                              \n",
      " tags          | [[motor vehicle supplies and new parts], [b], [take rate: 4.97]]                                                  \n",
      " merchant_abn  | 10430380319                                                                                                       \n",
      " tag           | [[motor vehicle supplies and new parts                                                                            \n",
      " revenue_level | b                                                                                                                 \n",
      " take_rate     | 4.97                                                                                                              \n",
      "-RECORD 18-------------------------------------------------------------------------------------------------------------------------\n",
      " merchant_name | Massa Vestibulum Foundation                                                                                       \n",
      " tags          | [(moTor vehicle supplies and new parts), (a), (take rate: 5.77)]                                                  \n",
      " merchant_abn  | 10441711491                                                                                                       \n",
      " tag           | [(moTor vehicle supplies and new parts                                                                            \n",
      " revenue_level | a                                                                                                                 \n",
      " take_rate     | 5.77                                                                                                              \n",
      "-RECORD 19-------------------------------------------------------------------------------------------------------------------------\n",
      " merchant_name | Ut Consulting                                                                                                     \n",
      " tags          | ([gift, card, novelty, and souvenir shops], [c], [take rate: 2.95])                                               \n",
      " merchant_abn  | 10462560289                                                                                                       \n",
      " tag           | ([gift, card, novelty, and souvenir shops                                                                         \n",
      " revenue_level | c                                                                                                                 \n",
      " take_rate     | 2.95                                                                                                              \n",
      "only showing top 20 rows\n",
      "\n"
     ]
    }
   ],
   "source": [
    "from pyspark.sql import functions as F\n",
    "\n",
    "tag_pattern = \"(\\],\\s\\[)|(\\),\\s\\()\"\n",
    "\n",
    "merchants = merchants.withColumn(\"tag\", F.split(\"tags\", pattern = tag_pattern).getItem(0))\n",
    "merchants = merchants.withColumn(\"revenue_level\", F.split(\"tags\", pattern = tag_pattern).getItem(1))\n",
    "merchants = merchants.withColumn(\"take_rate\", F.split(\"tags\", pattern = tag_pattern).getItem(2))\n",
    "merchants = merchants.withColumn(\"take_rate\", F.substring(\"take_rate\", 12, 4))\n",
    "merchants.show(20, vertical=True, truncate=False)"
   ]
  },
  {
   "cell_type": "markdown",
   "metadata": {},
   "source": [
    "Consumer data:"
   ]
  },
  {
   "cell_type": "code",
   "execution_count": 26,
   "metadata": {},
   "outputs": [
    {
     "name": "stdout",
     "output_type": "stream",
     "text": [
      "-RECORD 0-----------------------------\n",
      " consumer_name | Yolanda Williams     \n",
      " address       | 413 Haney Gardens... \n",
      " state         | WA                   \n",
      " postcode      | 6935                 \n",
      " gender        | Female               \n",
      " consumer_id   | 1195503              \n",
      "-RECORD 1-----------------------------\n",
      " consumer_name | Mary Smith           \n",
      " address       | 3764 Amber Oval      \n",
      " state         | NSW                  \n",
      " postcode      | 2782                 \n",
      " gender        | Female               \n",
      " consumer_id   | 179208               \n",
      "-RECORD 2-----------------------------\n",
      " consumer_name | Jill Jones MD        \n",
      " address       | 40693 Henry Greens   \n",
      " state         | NT                   \n",
      " postcode      | 862                  \n",
      " gender        | Female               \n",
      " consumer_id   | 1194530              \n",
      "only showing top 3 rows\n",
      "\n"
     ]
    },
    {
     "data": {
      "text/plain": [
       "499999"
      ]
     },
     "execution_count": 26,
     "metadata": {},
     "output_type": "execute_result"
    }
   ],
   "source": [
    "consumer = spark.read.option(\"delimiter\", \"|\").option(\"header\", \"true\").csv(\"../data/tables/tbl_consumer.csv\")\n",
    "consumer = consumer.withColumnRenamed(\"name\", \"consumer_name\")\n",
    "consumer.show(3, vertical=True)\n",
    "consumer.count()"
   ]
  },
  {
   "cell_type": "markdown",
   "metadata": {},
   "source": [
    "Consumer user details:"
   ]
  },
  {
   "cell_type": "code",
   "execution_count": 27,
   "metadata": {},
   "outputs": [
    {
     "name": "stdout",
     "output_type": "stream",
     "text": [
      "-RECORD 0--------------\n",
      " user_id     | 1       \n",
      " consumer_id | 1195503 \n",
      "only showing top 1 row\n",
      "\n"
     ]
    }
   ],
   "source": [
    "userdetails = spark.read.parquet(\"../data/tables/consumer_user_details.parquet\")\n",
    "userdetails.show(1, vertical=True)"
   ]
  },
  {
   "cell_type": "markdown",
   "metadata": {},
   "source": [
    "Transactions:"
   ]
  },
  {
   "cell_type": "code",
   "execution_count": 28,
   "metadata": {},
   "outputs": [
    {
     "name": "stdout",
     "output_type": "stream",
     "text": [
      "-RECORD 0------------------------------\n",
      " user_id        | 18478                \n",
      " merchant_abn   | 62191208634          \n",
      " dollar_value   | 63.255848959735246   \n",
      " order_id       | 949a63c8-29f7-4ab... \n",
      " order_datetime | 2021-08-20           \n",
      "-RECORD 1------------------------------\n",
      " user_id        | 2                    \n",
      " merchant_abn   | 15549624934          \n",
      " dollar_value   | 130.3505283105634    \n",
      " order_id       | 6a84c3cf-612a-457... \n",
      " order_datetime | 2021-08-20           \n",
      "only showing top 2 rows\n",
      "\n"
     ]
    },
    {
     "data": {
      "text/plain": [
       "3643266"
      ]
     },
     "execution_count": 28,
     "metadata": {},
     "output_type": "execute_result"
    },
    {
     "name": "stdout",
     "output_type": "stream",
     "text": [
      "22/09/01 13:50:37 WARN HeartbeatReceiver: Removing executor driver with no recent heartbeats: 1213226 ms exceeds timeout 120000 ms\n",
      "22/09/01 13:50:37 WARN SparkContext: Killing executors is not supported by current scheduler.\n"
     ]
    }
   ],
   "source": [
    "transactions = spark.read.parquet(\"../data/tables/transactions_20210228_20210827_snapshot/\")\n",
    "transactions.show(2, vertical = True)\n",
    "transactions.count()"
   ]
  },
  {
   "cell_type": "markdown",
   "metadata": {},
   "source": [
    "1. Use consumer user details to find the consumer_id for each transaction.\n",
    "2. Use consumer_id to join transaction data and consumer data.\n",
    "3. Use merchant_abn to join transaction data and merchant data."
   ]
  },
  {
   "cell_type": "code",
   "execution_count": 65,
   "metadata": {},
   "outputs": [
    {
     "name": "stderr",
     "output_type": "stream",
     "text": [
      "                                                                                \r"
     ]
    },
    {
     "name": "stdout",
     "output_type": "stream",
     "text": [
      "-RECORD 0------------------------------\n",
      " merchant_abn   | 45629217853          \n",
      " consumer_id    | 1398491              \n",
      " user_id        | 18480                \n",
      " dollar_value   | 54.49576549280132    \n",
      " order_id       | 09b58b8c-904c-454... \n",
      " order_datetime | 2021-06-18           \n",
      " consumer_name  | John Fischer         \n",
      " address        | 4770 Mayer Passag... \n",
      " state          | QLD                  \n",
      " postcode       | 4887                 \n",
      " gender         | Male                 \n",
      " merchant_name  | Lacus Consulting     \n",
      " tags           | [[gift, Card, nov... \n",
      " revenue_level  | a                    \n",
      " take_rate      | 6.98                 \n",
      "-RECORD 1------------------------------\n",
      " merchant_abn   | 41663117354          \n",
      " consumer_id    | 1398491              \n",
      " user_id        | 18480                \n",
      " dollar_value   | 57.271896789115075   \n",
      " order_id       | c9740db1-9cbb-4a5... \n",
      " order_datetime | 2021-06-11           \n",
      " consumer_name  | John Fischer         \n",
      " address        | 4770 Mayer Passag... \n",
      " state          | QLD                  \n",
      " postcode       | 4887                 \n",
      " gender         | Male                 \n",
      " merchant_name  | Litora Torquent I... \n",
      " tags           | ((watch, clock, a... \n",
      " revenue_level  | a                    \n",
      " take_rate      | 6.91                 \n",
      "only showing top 2 rows\n",
      "\n"
     ]
    },
    {
     "name": "stderr",
     "output_type": "stream",
     "text": [
      "                                                                                \r"
     ]
    },
    {
     "data": {
      "text/plain": [
       "3643266"
      ]
     },
     "execution_count": 65,
     "metadata": {},
     "output_type": "execute_result"
    }
   ],
   "source": [
    "transactions = transactions.join(userdetails, on=\"user_id\", how=\"left\")\n",
    "transactions = transactions.join(consumer, on=\"consumer_id\", how=\"left\")\n",
    "transactions = transactions.join(merchants, on=\"merchant_abn\", how=\"left\")\n",
    "transactions.show(2, vertical = True)\n",
    "transactions.count()"
   ]
  },
  {
   "cell_type": "markdown",
   "metadata": {},
   "source": [
    "Group transactions by merchant name, and show merchants with highest and lowest total sales."
   ]
  },
  {
   "cell_type": "code",
   "execution_count": 66,
   "metadata": {},
   "outputs": [
    {
     "name": "stderr",
     "output_type": "stream",
     "text": [
      "                                                                                \r"
     ]
    },
    {
     "data": {
      "text/html": [
       "<div>\n",
       "<style scoped>\n",
       "    .dataframe tbody tr th:only-of-type {\n",
       "        vertical-align: middle;\n",
       "    }\n",
       "\n",
       "    .dataframe tbody tr th {\n",
       "        vertical-align: top;\n",
       "    }\n",
       "\n",
       "    .dataframe thead th {\n",
       "        text-align: right;\n",
       "    }\n",
       "</style>\n",
       "<table border=\"1\" class=\"dataframe\">\n",
       "  <thead>\n",
       "    <tr style=\"text-align: right;\">\n",
       "      <th></th>\n",
       "      <th>merchant_name</th>\n",
       "      <th>sum(dollar_value)</th>\n",
       "    </tr>\n",
       "  </thead>\n",
       "  <tbody>\n",
       "    <tr>\n",
       "      <th>801</th>\n",
       "      <td>None</td>\n",
       "      <td>5.162072e+07</td>\n",
       "    </tr>\n",
       "    <tr>\n",
       "      <th>2742</th>\n",
       "      <td>Arcu Morbi Institute</td>\n",
       "      <td>2.586773e+06</td>\n",
       "    </tr>\n",
       "    <tr>\n",
       "      <th>1076</th>\n",
       "      <td>Amet Risus Inc.</td>\n",
       "      <td>2.569946e+06</td>\n",
       "    </tr>\n",
       "    <tr>\n",
       "      <th>1811</th>\n",
       "      <td>Lacus Aliquam Corporation</td>\n",
       "      <td>2.506652e+06</td>\n",
       "    </tr>\n",
       "    <tr>\n",
       "      <th>2531</th>\n",
       "      <td>Placerat Orci Institute</td>\n",
       "      <td>2.505284e+06</td>\n",
       "    </tr>\n",
       "    <tr>\n",
       "      <th>...</th>\n",
       "      <td>...</td>\n",
       "      <td>...</td>\n",
       "    </tr>\n",
       "    <tr>\n",
       "      <th>336</th>\n",
       "      <td>Malesuada Fames Limited</td>\n",
       "      <td>4.010094e+02</td>\n",
       "    </tr>\n",
       "    <tr>\n",
       "      <th>822</th>\n",
       "      <td>Ac Orci Ut Foundation</td>\n",
       "      <td>3.840798e+02</td>\n",
       "    </tr>\n",
       "    <tr>\n",
       "      <th>3980</th>\n",
       "      <td>Magna Praesent Interdum Industries</td>\n",
       "      <td>3.396543e+02</td>\n",
       "    </tr>\n",
       "    <tr>\n",
       "      <th>3949</th>\n",
       "      <td>Fringilla Mi Lacinia Incorporated</td>\n",
       "      <td>3.296614e+02</td>\n",
       "    </tr>\n",
       "    <tr>\n",
       "      <th>3964</th>\n",
       "      <td>Massa Vestibulum Ltd</td>\n",
       "      <td>3.197081e+02</td>\n",
       "    </tr>\n",
       "  </tbody>\n",
       "</table>\n",
       "<p>3982 rows × 2 columns</p>\n",
       "</div>"
      ],
      "text/plain": [
       "                           merchant_name  sum(dollar_value)\n",
       "801                                 None       5.162072e+07\n",
       "2742                Arcu Morbi Institute       2.586773e+06\n",
       "1076                     Amet Risus Inc.       2.569946e+06\n",
       "1811           Lacus Aliquam Corporation       2.506652e+06\n",
       "2531             Placerat Orci Institute       2.505284e+06\n",
       "...                                  ...                ...\n",
       "336              Malesuada Fames Limited       4.010094e+02\n",
       "822                Ac Orci Ut Foundation       3.840798e+02\n",
       "3980  Magna Praesent Interdum Industries       3.396543e+02\n",
       "3949   Fringilla Mi Lacinia Incorporated       3.296614e+02\n",
       "3964                Massa Vestibulum Ltd       3.197081e+02\n",
       "\n",
       "[3982 rows x 2 columns]"
      ]
     },
     "execution_count": 66,
     "metadata": {},
     "output_type": "execute_result"
    }
   ],
   "source": [
    "import pandas as pd\n",
    "\n",
    "df = transactions.groupBy(\"merchant_name\").sum(\"dollar_value\").toPandas()\n",
    "df = df.sort_values(by = \"sum(dollar_value)\", ascending = False)\n",
    "df"
   ]
  }
 ],
 "metadata": {
  "kernelspec": {
   "display_name": "Python 3.9.7 64-bit",
   "language": "python",
   "name": "python3"
  },
  "language_info": {
   "codemirror_mode": {
    "name": "ipython",
    "version": 3
   },
   "file_extension": ".py",
   "mimetype": "text/x-python",
   "name": "python",
   "nbconvert_exporter": "python",
   "pygments_lexer": "ipython3",
   "version": "3.9.7"
  },
  "orig_nbformat": 4,
  "vscode": {
   "interpreter": {
    "hash": "aee8b7b246df8f9039afb4144a1f6fd8d2ca17a180786b69acc140d282b71a49"
   }
  }
 },
 "nbformat": 4,
 "nbformat_minor": 2
}
