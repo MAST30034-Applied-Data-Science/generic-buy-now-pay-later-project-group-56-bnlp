{
 "cells": [
  {
   "cell_type": "markdown",
   "metadata": {},
   "source": [
    "# Summary of the Project"
   ]
  },
  {
   "cell_type": "code",
   "execution_count": 1,
   "metadata": {},
   "outputs": [
    {
     "name": "stdout",
     "output_type": "stream",
     "text": [
      "22/10/09 00:17:24 WARN Utils: Your hostname, LAPTOP-03OFAS5P resolves to a loopback address: 127.0.1.1; using 172.23.225.94 instead (on interface eth0)\n",
      "22/10/09 00:17:24 WARN Utils: Set SPARK_LOCAL_IP if you need to bind to another address\n"
     ]
    },
    {
     "name": "stderr",
     "output_type": "stream",
     "text": [
      "Setting default log level to \"WARN\".\n",
      "To adjust logging level use sc.setLogLevel(newLevel). For SparkR, use setLogLevel(newLevel).\n"
     ]
    },
    {
     "name": "stdout",
     "output_type": "stream",
     "text": [
      "22/10/09 00:17:26 WARN NativeCodeLoader: Unable to load native-hadoop library for your platform... using builtin-java classes where applicable\n"
     ]
    }
   ],
   "source": [
    "from pyspark.sql import SparkSession, functions as F\n",
    "import pandas as pd\n",
    "\n",
    "# Create a spark session\n",
    "spark = (\n",
    "    SparkSession.builder.appName(\"BNPL Project\")\n",
    "    .config(\"spark.sql.repl.eagerEval.enabled\", True) \n",
    "    .config(\"spark.sql.parquet.cacheMetadata\", \"true\")\n",
    "    .config(\"spark.driver.memory\", \"4g\")\n",
    "    .config(\"spark.sql.session.timeZone\", \"Etc/UTC\")\n",
    "    .getOrCreate()\n",
    ")"
   ]
  },
  {
   "cell_type": "markdown",
   "metadata": {},
   "source": [
    "## ETL Script\n",
    "\n",
    "The ETL script will carry out all the preprocessing, category assignment and incorporation of the external dataset. It will output a single parquet file \"process_data.parquet\"."
   ]
  },
  {
   "cell_type": "code",
   "execution_count": 2,
   "metadata": {},
   "outputs": [
    {
     "name": "stderr",
     "output_type": "stream",
     "text": [
      "                                                                                \r"
     ]
    }
   ],
   "source": [
    "# Read output file of ETL script\n",
    "sdf = spark.read.parquet(\"../data/curated/process_data.parquet/\")"
   ]
  },
  {
   "cell_type": "markdown",
   "metadata": {},
   "source": [
    "A sample instance of the combined dataset is shown below:"
   ]
  },
  {
   "cell_type": "code",
   "execution_count": 3,
   "metadata": {},
   "outputs": [
    {
     "name": "stderr",
     "output_type": "stream",
     "text": [
      "[Stage 1:>                                                          (0 + 1) / 1]\r"
     ]
    },
    {
     "name": "stdout",
     "output_type": "stream",
     "text": [
      "-RECORD 0----------------------------------------------------\n",
      " merchant_abn                         | 31585975447          \n",
      " consumer_id                          | 1656                 \n",
      " user_id                              | 8913                 \n",
      " dollar_value                         | 51.28                \n",
      " order_id                             | 00001f53-b987-4b4... \n",
      " order_datetime                       | 2021-07-24           \n",
      " state                                | NSW                  \n",
      " postcode                             | 1163                 \n",
      " gender                               | Male                 \n",
      " merchant_name                        | Dolor Dapibus Gra... \n",
      " tag                                  | digital goods: bo... \n",
      " revenue                              | b                    \n",
      " rate                                 | 0.0312               \n",
      " category                             | retail_and_wholes... \n",
      " subcategory                          | household_goods_r... \n",
      " merchant_fraud_probability           | null                 \n",
      " user_fraud_probability               | null                 \n",
      " estimated_region_population_2021_sum | 31499                \n",
      " persons_earners_2018-19_sum          | 28552.0              \n",
      " mean_earnings_2018-19_avg            | 70738.0              \n",
      " sum_earnings_2018-19_sum             | 2.01971729E9         \n",
      " median_earnings_2018-19_avg          | 28339.0              \n",
      " med_age_earners_2018-19_avg          | 31.0                 \n",
      " merchant_fraud_prediction            | 0.3855406406331606   \n",
      " user_fraud_prediction                | 0.20071648838359127  \n",
      "only showing top 1 row\n",
      "\n"
     ]
    },
    {
     "name": "stderr",
     "output_type": "stream",
     "text": [
      "                                                                                \r"
     ]
    }
   ],
   "source": [
    "# show an instance of the dataset\n",
    "sdf.show(1, vertical=True)"
   ]
  },
  {
   "cell_type": "markdown",
   "metadata": {},
   "source": [
    "## Categories of the merchants\n",
    "\n",
    "The merchants is divided into 5 different categories based on their tags:\n",
    "1. Rental Hiring and Real Estate\n",
    "2. Retail and Wholesale Trade\n",
    "3. Agriculture\n",
    "4. Arts and Recreation\n",
    "5. Info, Media and Telecommunications\n",
    "\n",
    "This is done to be able to rank merchants from different industries separately.\n",
    "The number of merchants and transactions for each category is shown below."
   ]
  },
  {
   "cell_type": "code",
   "execution_count": 4,
   "metadata": {},
   "outputs": [
    {
     "name": "stderr",
     "output_type": "stream",
     "text": [
      "                                                                                \r"
     ]
    },
    {
     "data": {
      "text/html": [
       "<div>\n",
       "<style scoped>\n",
       "    .dataframe tbody tr th:only-of-type {\n",
       "        vertical-align: middle;\n",
       "    }\n",
       "\n",
       "    .dataframe tbody tr th {\n",
       "        vertical-align: top;\n",
       "    }\n",
       "\n",
       "    .dataframe thead th {\n",
       "        text-align: right;\n",
       "    }\n",
       "</style>\n",
       "<table border=\"1\" class=\"dataframe\">\n",
       "  <thead>\n",
       "    <tr style=\"text-align: right;\">\n",
       "      <th></th>\n",
       "      <th>category</th>\n",
       "      <th>number of transactions</th>\n",
       "      <th>number of merchants</th>\n",
       "    </tr>\n",
       "  </thead>\n",
       "  <tbody>\n",
       "    <tr>\n",
       "      <th>0</th>\n",
       "      <td>retail_and_wholesale_trade</td>\n",
       "      <td>11321695</td>\n",
       "      <td>2956</td>\n",
       "    </tr>\n",
       "    <tr>\n",
       "      <th>1</th>\n",
       "      <td>rental_hiring_and_real_estate</td>\n",
       "      <td>34040</td>\n",
       "      <td>134</td>\n",
       "    </tr>\n",
       "    <tr>\n",
       "      <th>2</th>\n",
       "      <td>arts_and_recreation</td>\n",
       "      <td>20101</td>\n",
       "      <td>112</td>\n",
       "    </tr>\n",
       "    <tr>\n",
       "      <th>3</th>\n",
       "      <td>others</td>\n",
       "      <td>244335</td>\n",
       "      <td>164</td>\n",
       "    </tr>\n",
       "    <tr>\n",
       "      <th>4</th>\n",
       "      <td>info_media_and_telecommunications</td>\n",
       "      <td>1886393</td>\n",
       "      <td>655</td>\n",
       "    </tr>\n",
       "  </tbody>\n",
       "</table>\n",
       "</div>"
      ],
      "text/plain": [
       "                            category  number of transactions  \\\n",
       "0         retail_and_wholesale_trade                11321695   \n",
       "1      rental_hiring_and_real_estate                   34040   \n",
       "2                arts_and_recreation                   20101   \n",
       "3                             others                  244335   \n",
       "4  info_media_and_telecommunications                 1886393   \n",
       "\n",
       "   number of merchants  \n",
       "0                 2956  \n",
       "1                  134  \n",
       "2                  112  \n",
       "3                  164  \n",
       "4                  655  "
      ]
     },
     "execution_count": 4,
     "metadata": {},
     "output_type": "execute_result"
    }
   ],
   "source": [
    "# calculate number of transactions per category\n",
    "transactionpd = sdf.groupBy(\"category\").count().toPandas()\n",
    "\n",
    "# calculate number of merchants per category\n",
    "merchantpd = sdf.groupBy(\"category\").agg(F.countDistinct(\"merchant_abn\")).toPandas()\n",
    "\n",
    "# format and show table\n",
    "df = transactionpd.merge(merchantpd, on=\"category\")\n",
    "df = df.rename(columns = {\"count\": \"number of transactions\", \"count(merchant_abn)\": \"number of merchants\"})\n",
    "df"
   ]
  },
  {
   "cell_type": "markdown",
   "metadata": {},
   "source": [
    "## Fraud Data\n",
    "\n",
    "To identify fraudulent transactions, Gradient-Boosted Tree Regression is used. The user and merchant fraud probabilities given is used to predict the fraud probabilities of the remaining transactions. After predicting, the outliers of user fraud probabilities and merchant fraud probabilities are identified. Transactions with user and merchant fraud probabilities which are both considered as outliers will be considered fraudulent. They are then removed from the dataset.\n",
    "\n",
    "This fraud detection model is included in the ETL script."
   ]
  },
  {
   "cell_type": "markdown",
   "metadata": {},
   "source": [
    "## Outlier Analysis\n",
    "\n",
    "Outlier analysis is done on the dollar value of each transaction.\n",
    "\n",
    "To ensure that transactions of similar scale are compared, the largest merchant category, retail and wholesale trade,is further divided into 5 subcategories.\n",
    "\n",
    "Visualisations of outliers can be seen in detail in \"Transaction_Analysis.ipynb\"."
   ]
  },
  {
   "cell_type": "markdown",
   "metadata": {},
   "source": [
    "## Ranking\n",
    "\n",
    "After outlier analysis and detection of fraud transactions, the dataset is now ready for ranking.\n",
    "\n",
    "To rank the merchants, the expected revenue of each merchant is calculated. This is done by summing up the dollar value of all non-fraud transactions of a merchant, and then multiplying it by the merchant's take rate.\n",
    "\n",
    "In addition, the standard deviation of the dollar value of all the transactions of each merchant is calculated. It is the multiplied by the take rate. This will measure the risk of the transactions of each merchant. A high standard deviation means that their sales are highly varied and therefore a partnership with this particular merchant may be risky.\n",
    "\n",
    "Finally, the number of transactions of each merchant is also used to rank them.\n",
    "\n",
    "The merchants are ranked by number of transactions in descending order, expected revenue in descending order, and standard deviation/risk in ascending order.\n",
    "\n",
    "This ranking method is chosen because the main goal of the BNPL firm would be to maximise its profits while reducing risk. This can be done by choosing the highest ranking merchants.\n",
    "\n",
    "The ranking system gives the following ranking of merchants in each category:"
   ]
  },
  {
   "cell_type": "code",
   "execution_count": 5,
   "metadata": {},
   "outputs": [
    {
     "name": "stderr",
     "output_type": "stream",
     "text": [
      "                                                                                \r"
     ]
    },
    {
     "data": {
      "text/html": [
       "<div>\n",
       "<style scoped>\n",
       "    .dataframe tbody tr th:only-of-type {\n",
       "        vertical-align: middle;\n",
       "    }\n",
       "\n",
       "    .dataframe tbody tr th {\n",
       "        vertical-align: top;\n",
       "    }\n",
       "\n",
       "    .dataframe thead th {\n",
       "        text-align: right;\n",
       "    }\n",
       "</style>\n",
       "<table border=\"1\" class=\"dataframe\">\n",
       "  <thead>\n",
       "    <tr style=\"text-align: right;\">\n",
       "      <th></th>\n",
       "      <th>retail_and_wholesale_trade</th>\n",
       "      <th>rental_hiring_and_real_estate</th>\n",
       "      <th>arts_and_recreation</th>\n",
       "      <th>info_media_and_telecommunications</th>\n",
       "      <th>others</th>\n",
       "    </tr>\n",
       "  </thead>\n",
       "  <tbody>\n",
       "    <tr>\n",
       "      <th>0</th>\n",
       "      <td>Erat Vitae LLP</td>\n",
       "      <td>Quis Massa Mauris Corporation</td>\n",
       "      <td>Magna Sed Industries</td>\n",
       "      <td>Mauris Non Institute</td>\n",
       "      <td>Nec Tellus Ltd</td>\n",
       "    </tr>\n",
       "    <tr>\n",
       "      <th>1</th>\n",
       "      <td>Leo In Consulting</td>\n",
       "      <td>Quam A Felis Incorporated</td>\n",
       "      <td>Ac Urna Consulting</td>\n",
       "      <td>Euismod In Corp.</td>\n",
       "      <td>Tempus Eu Ligula Limited</td>\n",
       "    </tr>\n",
       "    <tr>\n",
       "      <th>2</th>\n",
       "      <td>Pede Nonummy Corp.</td>\n",
       "      <td>Vel Lectus Cum LLC</td>\n",
       "      <td>Mi Consulting</td>\n",
       "      <td>Feugiat Sed Nec Institute</td>\n",
       "      <td>Sed Nec Inc.</td>\n",
       "    </tr>\n",
       "    <tr>\n",
       "      <th>3</th>\n",
       "      <td>Non Vestibulum Industries</td>\n",
       "      <td>Iaculis Enim Corp.</td>\n",
       "      <td>Lorem LLP</td>\n",
       "      <td>Amet Consulting</td>\n",
       "      <td>Natoque Consulting</td>\n",
       "    </tr>\n",
       "    <tr>\n",
       "      <th>4</th>\n",
       "      <td>Suspendisse Dui Corporation</td>\n",
       "      <td>Leo Morbi Limited</td>\n",
       "      <td>Volutpat Ornare Facilisis Associates</td>\n",
       "      <td>Arcu Sed Eu Incorporated</td>\n",
       "      <td>Gravida Praesent Corp.</td>\n",
       "    </tr>\n",
       "    <tr>\n",
       "      <th>5</th>\n",
       "      <td>Lacus Consulting</td>\n",
       "      <td>Laoreet Inc.</td>\n",
       "      <td>Ligula Tortor Incorporated</td>\n",
       "      <td>Eleifend PC</td>\n",
       "      <td>Mauris Sagittis Corp.</td>\n",
       "    </tr>\n",
       "    <tr>\n",
       "      <th>6</th>\n",
       "      <td>Est Nunc Consulting</td>\n",
       "      <td>Massa Limited</td>\n",
       "      <td>Nullam Scelerisque Ltd</td>\n",
       "      <td>Posuere Cubilia Curae Corporation</td>\n",
       "      <td>Nisl Elementum Ltd</td>\n",
       "    </tr>\n",
       "    <tr>\n",
       "      <th>7</th>\n",
       "      <td>Lorem Ipsum Sodales Industries</td>\n",
       "      <td>Mi Eleifend Company</td>\n",
       "      <td>Massa LLP</td>\n",
       "      <td>At Sem Corp.</td>\n",
       "      <td>Molestie Arcu Corporation</td>\n",
       "    </tr>\n",
       "    <tr>\n",
       "      <th>8</th>\n",
       "      <td>Ipsum Dolor Sit Corporation</td>\n",
       "      <td>Fermentum Institute</td>\n",
       "      <td>Non Cursus LLP</td>\n",
       "      <td>Et Nunc Consulting</td>\n",
       "      <td>Feugiat Lorem Incorporated</td>\n",
       "    </tr>\n",
       "    <tr>\n",
       "      <th>9</th>\n",
       "      <td>Vehicula Pellentesque Corporation</td>\n",
       "      <td>Morbi Non Corp.</td>\n",
       "      <td>Mollis Duis Sit Foundation</td>\n",
       "      <td>Suspendisse Incorporated</td>\n",
       "      <td>Risus Odio Auctor Foundation</td>\n",
       "    </tr>\n",
       "  </tbody>\n",
       "</table>\n",
       "</div>"
      ],
      "text/plain": [
       "          retail_and_wholesale_trade  rental_hiring_and_real_estate  \\\n",
       "0                     Erat Vitae LLP  Quis Massa Mauris Corporation   \n",
       "1                  Leo In Consulting      Quam A Felis Incorporated   \n",
       "2                 Pede Nonummy Corp.             Vel Lectus Cum LLC   \n",
       "3          Non Vestibulum Industries             Iaculis Enim Corp.   \n",
       "4        Suspendisse Dui Corporation              Leo Morbi Limited   \n",
       "5                   Lacus Consulting                   Laoreet Inc.   \n",
       "6                Est Nunc Consulting                  Massa Limited   \n",
       "7     Lorem Ipsum Sodales Industries            Mi Eleifend Company   \n",
       "8        Ipsum Dolor Sit Corporation            Fermentum Institute   \n",
       "9  Vehicula Pellentesque Corporation                Morbi Non Corp.   \n",
       "\n",
       "                    arts_and_recreation  info_media_and_telecommunications  \\\n",
       "0                  Magna Sed Industries               Mauris Non Institute   \n",
       "1                    Ac Urna Consulting                   Euismod In Corp.   \n",
       "2                         Mi Consulting          Feugiat Sed Nec Institute   \n",
       "3                             Lorem LLP                    Amet Consulting   \n",
       "4  Volutpat Ornare Facilisis Associates           Arcu Sed Eu Incorporated   \n",
       "5            Ligula Tortor Incorporated                        Eleifend PC   \n",
       "6                Nullam Scelerisque Ltd  Posuere Cubilia Curae Corporation   \n",
       "7                             Massa LLP                       At Sem Corp.   \n",
       "8                        Non Cursus LLP                 Et Nunc Consulting   \n",
       "9            Mollis Duis Sit Foundation           Suspendisse Incorporated   \n",
       "\n",
       "                         others  \n",
       "0                Nec Tellus Ltd  \n",
       "1      Tempus Eu Ligula Limited  \n",
       "2                  Sed Nec Inc.  \n",
       "3            Natoque Consulting  \n",
       "4        Gravida Praesent Corp.  \n",
       "5         Mauris Sagittis Corp.  \n",
       "6            Nisl Elementum Ltd  \n",
       "7     Molestie Arcu Corporation  \n",
       "8    Feugiat Lorem Incorporated  \n",
       "9  Risus Odio Auctor Foundation  "
      ]
     },
     "execution_count": 5,
     "metadata": {},
     "output_type": "execute_result"
    }
   ],
   "source": [
    "def topNmerchants(sdf, categories, N):\n",
    "    merchants = {}\n",
    "    income_total = {}\n",
    "    income_risk = {}\n",
    "    counts = {}\n",
    "\n",
    "    for category in categories:\n",
    "        tdf = sdf.where(F.col('category') == category)\n",
    "        tdf = tdf.groupBy('merchant_name').agg(\n",
    "            F.sum('dollar_value').alias('income_total'),\n",
    "            F.stddev('dollar_value').alias('income_deviation'),\n",
    "            F.mean('rate').alias('rate'),\n",
    "            F.count('merchant_name').alias('count_merchant'))\\\n",
    "        .withColumn('income_total', F.col('income_total') * F.col('rate'))\\\n",
    "        .withColumn('income_deviation', F.col('income_deviation') * F.col('rate'))\\\n",
    "        .orderBy(F.col('count_merchant').desc(), F.col('income_total').desc(), F.col('income_deviation').asc())\\\n",
    "        \n",
    "        tdf = tdf.limit(N)\n",
    "\n",
    "        merchants[category] = tdf.select('merchant_name').toPandas()['merchant_name'].to_list()\n",
    "        \n",
    "        # assuming that all income is Normally distributed\n",
    "        income_total[category] = tdf.agg({'income_total': 'sum'}).first()['sum(income_total)']\n",
    "        income_risk[category] = tdf.agg({'income_deviation': 'sum'}).first()['sum(income_deviation)']\n",
    "        counts[category] = tdf.agg({'count_merchant': 'sum'}).first()['sum(count_merchant)']\n",
    "\n",
    "    return pd.DataFrame(merchants), income_total, income_risk, counts\n",
    "\n",
    "categories = ['retail_and_wholesale_trade', 'rental_hiring_and_real_estate', 'arts_and_recreation', 'info_media_and_telecommunications', 'others']\n",
    "\n",
    "merchants, total, risk, counts = topNmerchants(sdf, categories, N=10)\n",
    "merchants"
   ]
  },
  {
   "cell_type": "markdown",
   "metadata": {},
   "source": [
    "## Additional Insights\n",
    "\n",
    "There are some notable merchants that might be worth considering."
   ]
  },
  {
   "cell_type": "code",
   "execution_count": 6,
   "metadata": {},
   "outputs": [
    {
     "name": "stderr",
     "output_type": "stream",
     "text": [
      "                                                                                \r"
     ]
    }
   ],
   "source": [
    "# number of transactions for each merchant\n",
    "numtransaction = sdf.groupBy(\"merchant_name\").count().toPandas()\n",
    "\n",
    "# total dollar value for each merchant\n",
    "dollarvalue = sdf.groupBy(\"merchant_name\").sum(\"dollar_value\").toPandas()\n",
    "\n",
    "# number of different customers for each merchant\n",
    "numconsumer = sdf.groupBy(\"merchant_name\").agg(F.countDistinct(\"consumer_id\")).toPandas()\n",
    "\n",
    "# mean dollar value of transaction for each merchant\n",
    "meandollarvalue = sdf.groupBy(\"merchant_name\").mean(\"dollar_value\").toPandas()\n",
    "\n",
    "# mean merchant fraud probability of each merchant\n",
    "meanfraud = sdf.groupBy(\"merchant_name\").mean(\"merchant_fraud_probability\").toPandas()\n",
    "meanfraud[\"avg(merchant_fraud_probability)\"] = meanfraud[\"avg(merchant_fraud_probability)\"].fillna(0)\n",
    "\n",
    "# join all dataframes\n",
    "merchantdf = numtransaction.merge(dollarvalue, on=\"merchant_name\")\n",
    "merchantdf = merchantdf.merge(numconsumer, on=\"merchant_name\")\n",
    "merchantdf = merchantdf.merge(meandollarvalue, on=\"merchant_name\")\n",
    "merchantdf = merchantdf.merge(meanfraud, on=\"merchant_name\")"
   ]
  },
  {
   "cell_type": "markdown",
   "metadata": {},
   "source": [
    "1. There are some merchants with only a few transactions\n",
    "\n",
    "The firm might want to exclude these merchants due to lack of information.\n",
    "The table below shows merchants with only one transaction."
   ]
  },
  {
   "cell_type": "code",
   "execution_count": 7,
   "metadata": {},
   "outputs": [
    {
     "data": {
      "text/html": [
       "<div>\n",
       "<style scoped>\n",
       "    .dataframe tbody tr th:only-of-type {\n",
       "        vertical-align: middle;\n",
       "    }\n",
       "\n",
       "    .dataframe tbody tr th {\n",
       "        vertical-align: top;\n",
       "    }\n",
       "\n",
       "    .dataframe thead th {\n",
       "        text-align: right;\n",
       "    }\n",
       "</style>\n",
       "<table border=\"1\" class=\"dataframe\">\n",
       "  <thead>\n",
       "    <tr style=\"text-align: right;\">\n",
       "      <th></th>\n",
       "      <th>merchant_name</th>\n",
       "      <th>count</th>\n",
       "    </tr>\n",
       "  </thead>\n",
       "  <tbody>\n",
       "    <tr>\n",
       "      <th>316</th>\n",
       "      <td>Felis Ltd</td>\n",
       "      <td>1</td>\n",
       "    </tr>\n",
       "    <tr>\n",
       "      <th>3923</th>\n",
       "      <td>Iaculis Quis LLC</td>\n",
       "      <td>1</td>\n",
       "    </tr>\n",
       "    <tr>\n",
       "      <th>3982</th>\n",
       "      <td>Elit Dictum Eu Foundation</td>\n",
       "      <td>1</td>\n",
       "    </tr>\n",
       "    <tr>\n",
       "      <th>4005</th>\n",
       "      <td>Phasellus LLP</td>\n",
       "      <td>1</td>\n",
       "    </tr>\n",
       "    <tr>\n",
       "      <th>4016</th>\n",
       "      <td>Sem Corporation</td>\n",
       "      <td>1</td>\n",
       "    </tr>\n",
       "    <tr>\n",
       "      <th>4018</th>\n",
       "      <td>Curae Foundation</td>\n",
       "      <td>1</td>\n",
       "    </tr>\n",
       "  </tbody>\n",
       "</table>\n",
       "</div>"
      ],
      "text/plain": [
       "                  merchant_name  count\n",
       "316                   Felis Ltd      1\n",
       "3923           Iaculis Quis LLC      1\n",
       "3982  Elit Dictum Eu Foundation      1\n",
       "4005              Phasellus LLP      1\n",
       "4016            Sem Corporation      1\n",
       "4018           Curae Foundation      1"
      ]
     },
     "execution_count": 7,
     "metadata": {},
     "output_type": "execute_result"
    }
   ],
   "source": [
    "merchantdf.loc[merchantdf[\"count\"] == 1][[\"merchant_name\", \"count\"]]"
   ]
  },
  {
   "cell_type": "markdown",
   "metadata": {},
   "source": [
    "2. There are some merchants with a very small consumer base\n",
    "\n",
    "No matter how high the dollar value is, this is not ideal. Having only one or two customer means that the merchant is definitely not doing well. Therefore the firm might want to exclude these merchants from consideration. The table below shows merchants with only one customer."
   ]
  },
  {
   "cell_type": "code",
   "execution_count": 8,
   "metadata": {},
   "outputs": [
    {
     "data": {
      "text/html": [
       "<div>\n",
       "<style scoped>\n",
       "    .dataframe tbody tr th:only-of-type {\n",
       "        vertical-align: middle;\n",
       "    }\n",
       "\n",
       "    .dataframe tbody tr th {\n",
       "        vertical-align: top;\n",
       "    }\n",
       "\n",
       "    .dataframe thead th {\n",
       "        text-align: right;\n",
       "    }\n",
       "</style>\n",
       "<table border=\"1\" class=\"dataframe\">\n",
       "  <thead>\n",
       "    <tr style=\"text-align: right;\">\n",
       "      <th></th>\n",
       "      <th>merchant_name</th>\n",
       "      <th>count(consumer_id)</th>\n",
       "    </tr>\n",
       "  </thead>\n",
       "  <tbody>\n",
       "    <tr>\n",
       "      <th>316</th>\n",
       "      <td>Felis Ltd</td>\n",
       "      <td>1</td>\n",
       "    </tr>\n",
       "    <tr>\n",
       "      <th>3923</th>\n",
       "      <td>Iaculis Quis LLC</td>\n",
       "      <td>1</td>\n",
       "    </tr>\n",
       "    <tr>\n",
       "      <th>3982</th>\n",
       "      <td>Elit Dictum Eu Foundation</td>\n",
       "      <td>1</td>\n",
       "    </tr>\n",
       "    <tr>\n",
       "      <th>4005</th>\n",
       "      <td>Phasellus LLP</td>\n",
       "      <td>1</td>\n",
       "    </tr>\n",
       "    <tr>\n",
       "      <th>4016</th>\n",
       "      <td>Sem Corporation</td>\n",
       "      <td>1</td>\n",
       "    </tr>\n",
       "    <tr>\n",
       "      <th>4018</th>\n",
       "      <td>Curae Foundation</td>\n",
       "      <td>1</td>\n",
       "    </tr>\n",
       "  </tbody>\n",
       "</table>\n",
       "</div>"
      ],
      "text/plain": [
       "                  merchant_name  count(consumer_id)\n",
       "316                   Felis Ltd                   1\n",
       "3923           Iaculis Quis LLC                   1\n",
       "3982  Elit Dictum Eu Foundation                   1\n",
       "4005              Phasellus LLP                   1\n",
       "4016            Sem Corporation                   1\n",
       "4018           Curae Foundation                   1"
      ]
     },
     "execution_count": 8,
     "metadata": {},
     "output_type": "execute_result"
    }
   ],
   "source": [
    "merchantdf.loc[merchantdf[\"count(consumer_id)\"] == 1][[\"merchant_name\", \"count(consumer_id)\"]]"
   ]
  },
  {
   "cell_type": "markdown",
   "metadata": {},
   "source": [
    "3. Merchant with high mean merchant fraud probability\n",
    "\n",
    "The firm might want to completely remove these merchants from the ranking, instead of removing their fraud transactions, since the merchant is deemed to be untrustworthy. The table shows the 5 merchants with the highest fraud probability."
   ]
  },
  {
   "cell_type": "code",
   "execution_count": 9,
   "metadata": {},
   "outputs": [
    {
     "data": {
      "text/html": [
       "<div>\n",
       "<style scoped>\n",
       "    .dataframe tbody tr th:only-of-type {\n",
       "        vertical-align: middle;\n",
       "    }\n",
       "\n",
       "    .dataframe tbody tr th {\n",
       "        vertical-align: top;\n",
       "    }\n",
       "\n",
       "    .dataframe thead th {\n",
       "        text-align: right;\n",
       "    }\n",
       "</style>\n",
       "<table border=\"1\" class=\"dataframe\">\n",
       "  <thead>\n",
       "    <tr style=\"text-align: right;\">\n",
       "      <th></th>\n",
       "      <th>merchant_name</th>\n",
       "      <th>avg(merchant_fraud_probability)</th>\n",
       "    </tr>\n",
       "  </thead>\n",
       "  <tbody>\n",
       "    <tr>\n",
       "      <th>218</th>\n",
       "      <td>Ut Industries</td>\n",
       "      <td>0.73</td>\n",
       "    </tr>\n",
       "    <tr>\n",
       "      <th>3127</th>\n",
       "      <td>Mi Eleifend Egestas LLP</td>\n",
       "      <td>0.71</td>\n",
       "    </tr>\n",
       "    <tr>\n",
       "      <th>1804</th>\n",
       "      <td>Nullam Enim Sed Incorporated</td>\n",
       "      <td>0.69</td>\n",
       "    </tr>\n",
       "    <tr>\n",
       "      <th>1412</th>\n",
       "      <td>Tincidunt Nibh LLP</td>\n",
       "      <td>0.68</td>\n",
       "    </tr>\n",
       "    <tr>\n",
       "      <th>403</th>\n",
       "      <td>Nec Limited</td>\n",
       "      <td>0.68</td>\n",
       "    </tr>\n",
       "  </tbody>\n",
       "</table>\n",
       "</div>"
      ],
      "text/plain": [
       "                     merchant_name  avg(merchant_fraud_probability)\n",
       "218                  Ut Industries                             0.73\n",
       "3127       Mi Eleifend Egestas LLP                             0.71\n",
       "1804  Nullam Enim Sed Incorporated                             0.69\n",
       "1412            Tincidunt Nibh LLP                             0.68\n",
       "403                    Nec Limited                             0.68"
      ]
     },
     "execution_count": 9,
     "metadata": {},
     "output_type": "execute_result"
    }
   ],
   "source": [
    "merchantdf.sort_values(by = \"avg(merchant_fraud_probability)\", inplace = True, ascending = False)\n",
    "merchantdf.head(5)[[\"merchant_name\", \"avg(merchant_fraud_probability)\"]]"
   ]
  },
  {
   "cell_type": "markdown",
   "metadata": {},
   "source": [
    "In conclusion, the firm should consider whether the merchants stated above should be excluded from consideration. The decision will depend on whether the firm is willing to take on riskier partnerships in exchange for a possibility of a higher revenue."
   ]
  },
  {
   "cell_type": "markdown",
   "metadata": {},
   "source": [
    "## Conclusion and Recommendations\n",
    "\n",
    "The firm should use the ranking of merchants as a guide when selecting merchants to be partnered in the BNPL program. If the firm wants to have partners from a varied set of industries, they can use the ranking of merchants in the 5 different categories to identify the best subset of merchants from each of the 5."
   ]
  }
 ],
 "metadata": {
  "kernelspec": {
   "display_name": "Python 3.8.10 64-bit",
   "language": "python",
   "name": "python3"
  },
  "language_info": {
   "codemirror_mode": {
    "name": "ipython",
    "version": 3
   },
   "file_extension": ".py",
   "mimetype": "text/x-python",
   "name": "python",
   "nbconvert_exporter": "python",
   "pygments_lexer": "ipython3",
   "version": "3.8.10"
  },
  "orig_nbformat": 4,
  "vscode": {
   "interpreter": {
    "hash": "916dbcbb3f70747c44a77c7bcd40155683ae19c65e1c03b4aa3499c5328201f1"
   }
  }
 },
 "nbformat": 4,
 "nbformat_minor": 2
}
