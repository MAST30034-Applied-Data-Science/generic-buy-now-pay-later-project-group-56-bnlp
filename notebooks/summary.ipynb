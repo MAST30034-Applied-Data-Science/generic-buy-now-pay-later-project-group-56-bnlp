{
 "cells": [
  {
   "cell_type": "markdown",
   "metadata": {},
   "source": [
    "# Summary of the Project"
   ]
  },
  {
   "cell_type": "code",
   "execution_count": 3,
   "metadata": {},
   "outputs": [],
   "source": [
    "from pyspark.sql import SparkSession, functions as F\n",
    "import pandas as pd\n",
    "\n",
    "# Create a spark session\n",
    "spark = (\n",
    "    SparkSession.builder.appName(\"BNPL Project\")\n",
    "    .config(\"spark.sql.repl.eagerEval.enabled\", True) \n",
    "    .config(\"spark.sql.parquet.cacheMetadata\", \"true\")\n",
    "    .config(\"spark.driver.memory\", \"4g\")\n",
    "    .config(\"spark.sql.session.timeZone\", \"Etc/UTC\")\n",
    "    .getOrCreate()\n",
    ")"
   ]
  },
  {
   "cell_type": "markdown",
   "metadata": {},
   "source": [
    "## ETL Script\n",
    "\n",
    "The ETL script will carry out all the preprocessing, category assignment and incorporation of the external dataset. It will output a single parquet file \"process_data.parquet\"."
   ]
  },
  {
   "cell_type": "code",
   "execution_count": 4,
   "metadata": {},
   "outputs": [
    {
     "name": "stderr",
     "output_type": "stream",
     "text": [
      "                                                                                \r"
     ]
    }
   ],
   "source": [
    "# Read output file of ETL script\n",
    "sdf = spark.read.parquet(\"../data/curated/process_data.parquet/\")"
   ]
  },
  {
   "cell_type": "markdown",
   "metadata": {},
   "source": [
    "A sample instance of the combined dataset is shown below:"
   ]
  },
  {
   "cell_type": "code",
   "execution_count": 5,
   "metadata": {},
   "outputs": [
    {
     "name": "stderr",
     "output_type": "stream",
     "text": [
      "[Stage 1:>                                                          (0 + 1) / 1]\r"
     ]
    },
    {
     "name": "stdout",
     "output_type": "stream",
     "text": [
      "-RECORD 0----------------------------------------------------\n",
      " merchant_abn                         | 27093785141          \n",
      " consumer_id                          | 1195503              \n",
      " user_id                              | 1                    \n",
      " dollar_value                         | 366.23               \n",
      " order_id                             | a8514aae-18fb-454... \n",
      " order_datetime                       | 2021-11-17           \n",
      " state                                | WA                   \n",
      " postcode                             | 6935                 \n",
      " gender                               | Female               \n",
      " merchant_name                        | Placerat Orci Ins... \n",
      " tag                                  | stationery, offic... \n",
      " revenue                              | c                    \n",
      " rate                                 | 2.73                 \n",
      " category                             | retail_and_wholes... \n",
      " subcategory                          | others_retailing     \n",
      " merchant_fraud_probability           | 0.29407407407407304  \n",
      " user_fraud_probability               | 0.1                  \n",
      " estimated_region_population_2021_sum | 10636                \n",
      " persons_earners_2018-19_sum          | 5795.0               \n",
      " mean_earnings_2018-19_avg            | 62144.0              \n",
      " sum_earnings_2018-19_sum             | 3.60125906E8         \n",
      " median_earnings_2018-19_avg          | 52618.0              \n",
      " med_age_earners_2018-19_avg          | 41.0                 \n",
      "only showing top 1 row\n",
      "\n"
     ]
    },
    {
     "name": "stderr",
     "output_type": "stream",
     "text": [
      "                                                                                \r"
     ]
    }
   ],
   "source": [
    "# show an instance of the dataset\n",
    "sdf.show(1, vertical=True)"
   ]
  },
  {
   "cell_type": "markdown",
   "metadata": {},
   "source": [
    "## Categories of the merchants\n",
    "\n",
    "The merchants is divided into 5 different categories based on their tags:\n",
    "1. Rental Hiring and Real Estate\n",
    "2. Retail and Wholesale Trade\n",
    "3. Agriculture\n",
    "4. Arts and Recreation\n",
    "5. Info, Media and Telecommunications\n",
    "\n",
    "This is done to be able to rank merchants from different industries separately.\n",
    "The number of merchants and transactions for each category is shown below."
   ]
  },
  {
   "cell_type": "code",
   "execution_count": 11,
   "metadata": {},
   "outputs": [
    {
     "name": "stderr",
     "output_type": "stream",
     "text": [
      "                                                                                \r"
     ]
    },
    {
     "data": {
      "text/html": [
       "<div>\n",
       "<style scoped>\n",
       "    .dataframe tbody tr th:only-of-type {\n",
       "        vertical-align: middle;\n",
       "    }\n",
       "\n",
       "    .dataframe tbody tr th {\n",
       "        vertical-align: top;\n",
       "    }\n",
       "\n",
       "    .dataframe thead th {\n",
       "        text-align: right;\n",
       "    }\n",
       "</style>\n",
       "<table border=\"1\" class=\"dataframe\">\n",
       "  <thead>\n",
       "    <tr style=\"text-align: right;\">\n",
       "      <th></th>\n",
       "      <th>category</th>\n",
       "      <th>number of transactions</th>\n",
       "      <th>number of merchants</th>\n",
       "    </tr>\n",
       "  </thead>\n",
       "  <tbody>\n",
       "    <tr>\n",
       "      <th>0</th>\n",
       "      <td>retail_and_wholesale_trade</td>\n",
       "      <td>11406032</td>\n",
       "      <td>2961</td>\n",
       "    </tr>\n",
       "    <tr>\n",
       "      <th>1</th>\n",
       "      <td>rental_hiring_and_real_estate</td>\n",
       "      <td>36695</td>\n",
       "      <td>134</td>\n",
       "    </tr>\n",
       "    <tr>\n",
       "      <th>2</th>\n",
       "      <td>arts_and_recreation</td>\n",
       "      <td>21218</td>\n",
       "      <td>112</td>\n",
       "    </tr>\n",
       "    <tr>\n",
       "      <th>3</th>\n",
       "      <td>others</td>\n",
       "      <td>245753</td>\n",
       "      <td>164</td>\n",
       "    </tr>\n",
       "    <tr>\n",
       "      <th>4</th>\n",
       "      <td>info_media_and_telecommunications</td>\n",
       "      <td>1904458</td>\n",
       "      <td>655</td>\n",
       "    </tr>\n",
       "  </tbody>\n",
       "</table>\n",
       "</div>"
      ],
      "text/plain": [
       "                            category  number of transactions  \\\n",
       "0         retail_and_wholesale_trade                11406032   \n",
       "1      rental_hiring_and_real_estate                   36695   \n",
       "2                arts_and_recreation                   21218   \n",
       "3                             others                  245753   \n",
       "4  info_media_and_telecommunications                 1904458   \n",
       "\n",
       "   number of merchants  \n",
       "0                 2961  \n",
       "1                  134  \n",
       "2                  112  \n",
       "3                  164  \n",
       "4                  655  "
      ]
     },
     "execution_count": 11,
     "metadata": {},
     "output_type": "execute_result"
    }
   ],
   "source": [
    "# calculate number of transactions per category\n",
    "transactionpd = sdf.groupBy(\"category\").count().toPandas()\n",
    "\n",
    "# calculate number of merchants per category\n",
    "merchantpd = sdf.groupBy(\"category\").agg(F.countDistinct(\"merchant_abn\")).toPandas()\n",
    "\n",
    "# format and show table\n",
    "df = transactionpd.merge(merchantpd, on=\"category\")\n",
    "df = df.rename(columns = {\"count\": \"number of transactions\", \"count(merchant_abn)\": \"number of merchants\"})\n",
    "df"
   ]
  },
  {
   "cell_type": "markdown",
   "metadata": {},
   "source": [
    "## Outlier Analysis\n",
    "\n",
    "Outlier analysis is done on the dollar value of each transaction.\n",
    "\n",
    "To ensure that transactions of similar scale are compared, the largest merchant category, retail and wholesale trade,is further divided into 5 subcategories."
   ]
  },
  {
   "cell_type": "markdown",
   "metadata": {},
   "source": [
    "## Fraud Data"
   ]
  },
  {
   "cell_type": "code",
   "execution_count": null,
   "metadata": {},
   "outputs": [],
   "source": []
  },
  {
   "cell_type": "markdown",
   "metadata": {},
   "source": [
    "## Ranking\n",
    "\n",
    "After outlier analysis and detection of fraud transactions, the dataset is now ready for ranking.\n",
    "\n",
    "To rank the merchants, the expected revenue of each merchant is calculated. This is done by summing up the dollar value of all non-fraud transactions of a merchant, and then multiplying it by the merchant's take rate.\n",
    "\n",
    "This ranking method is chosen because the main goal of the BNPL firm would be to maximise its profits. This can be done by choosing the highest ranking merchants.\n",
    "\n",
    "The ranking system gives the following results:"
   ]
  },
  {
   "cell_type": "code",
   "execution_count": null,
   "metadata": {},
   "outputs": [],
   "source": []
  },
  {
   "cell_type": "markdown",
   "metadata": {},
   "source": [
    "## Additional Insights\n",
    "\n",
    "There are some notable merchants that might be worth considering."
   ]
  },
  {
   "cell_type": "code",
   "execution_count": 26,
   "metadata": {},
   "outputs": [
    {
     "name": "stderr",
     "output_type": "stream",
     "text": [
      "                                                                                \r"
     ]
    }
   ],
   "source": [
    "# number of transactions for each merchant\n",
    "numtransaction = sdf.groupBy(\"merchant_name\").count().toPandas()\n",
    "\n",
    "# total dollar value for each merchant\n",
    "dollarvalue = sdf.groupBy(\"merchant_name\").sum(\"dollar_value\").toPandas()\n",
    "\n",
    "# number of different customers for each merchant\n",
    "numconsumer = sdf.groupBy(\"merchant_name\").agg(F.countDistinct(\"consumer_id\")).toPandas()\n",
    "\n",
    "# mean dollar value of transaction for each merchant\n",
    "meandollarvalue = sdf.groupBy(\"merchant_name\").mean(\"dollar_value\").toPandas()\n",
    "\n",
    "# mean merchant fraud probability of each merchant\n",
    "meanfraud = sdf.groupBy(\"merchant_name\").mean(\"merchant_fraud_probability\").toPandas()\n",
    "meanfraud[\"avg(merchant_fraud_probability)\"] = meanfraud[\"avg(merchant_fraud_probability)\"].fillna(0)\n",
    "\n",
    "# join all dataframes\n",
    "merchantdf = numtransaction.merge(dollarvalue, on=\"merchant_name\")\n",
    "merchantdf = merchantdf.merge(numconsumer, on=\"merchant_name\")\n",
    "merchantdf = merchantdf.merge(meandollarvalue, on=\"merchant_name\")\n",
    "merchantdf = merchantdf.merge(meanfraud, on=\"merchant_name\")"
   ]
  },
  {
   "cell_type": "markdown",
   "metadata": {},
   "source": [
    "1. There are some merchants with only a few transactions\n",
    "\n",
    "The firm might want to exclude these merchants due to lack of information.\n",
    "The table below shows merchants with only one transaction."
   ]
  },
  {
   "cell_type": "code",
   "execution_count": 27,
   "metadata": {},
   "outputs": [
    {
     "data": {
      "text/html": [
       "<div>\n",
       "<style scoped>\n",
       "    .dataframe tbody tr th:only-of-type {\n",
       "        vertical-align: middle;\n",
       "    }\n",
       "\n",
       "    .dataframe tbody tr th {\n",
       "        vertical-align: top;\n",
       "    }\n",
       "\n",
       "    .dataframe thead th {\n",
       "        text-align: right;\n",
       "    }\n",
       "</style>\n",
       "<table border=\"1\" class=\"dataframe\">\n",
       "  <thead>\n",
       "    <tr style=\"text-align: right;\">\n",
       "      <th></th>\n",
       "      <th>merchant_name</th>\n",
       "      <th>count</th>\n",
       "    </tr>\n",
       "  </thead>\n",
       "  <tbody>\n",
       "    <tr>\n",
       "      <th>3987</th>\n",
       "      <td>Aenean Gravida Institute</td>\n",
       "      <td>1</td>\n",
       "    </tr>\n",
       "    <tr>\n",
       "      <th>3993</th>\n",
       "      <td>Elit Dictum Eu Foundation</td>\n",
       "      <td>1</td>\n",
       "    </tr>\n",
       "    <tr>\n",
       "      <th>4006</th>\n",
       "      <td>Consequat Foundation</td>\n",
       "      <td>1</td>\n",
       "    </tr>\n",
       "    <tr>\n",
       "      <th>4007</th>\n",
       "      <td>Phasellus LLP</td>\n",
       "      <td>1</td>\n",
       "    </tr>\n",
       "    <tr>\n",
       "      <th>4016</th>\n",
       "      <td>Curae Foundation</td>\n",
       "      <td>1</td>\n",
       "    </tr>\n",
       "    <tr>\n",
       "      <th>4021</th>\n",
       "      <td>Aliquam Eu Institute</td>\n",
       "      <td>1</td>\n",
       "    </tr>\n",
       "    <tr>\n",
       "      <th>4024</th>\n",
       "      <td>Lobortis Nisi Associates</td>\n",
       "      <td>1</td>\n",
       "    </tr>\n",
       "  </tbody>\n",
       "</table>\n",
       "</div>"
      ],
      "text/plain": [
       "                  merchant_name  count\n",
       "3987   Aenean Gravida Institute      1\n",
       "3993  Elit Dictum Eu Foundation      1\n",
       "4006       Consequat Foundation      1\n",
       "4007              Phasellus LLP      1\n",
       "4016           Curae Foundation      1\n",
       "4021       Aliquam Eu Institute      1\n",
       "4024   Lobortis Nisi Associates      1"
      ]
     },
     "execution_count": 27,
     "metadata": {},
     "output_type": "execute_result"
    }
   ],
   "source": [
    "merchantdf.loc[merchantdf[\"count\"] == 1][[\"merchant_name\", \"count\"]]"
   ]
  },
  {
   "cell_type": "markdown",
   "metadata": {},
   "source": [
    "2. There are some merchants with a very small consumer base\n",
    "\n",
    "No matter how high the dollar value is, this is not ideal. Having only one or two customer means that the merchant is definitely not doing well. Therefore the firm might want to exclude these merchants from consideration. The table below shows merchants with only one customer. The merchants are the same as those above."
   ]
  },
  {
   "cell_type": "code",
   "execution_count": 28,
   "metadata": {},
   "outputs": [
    {
     "data": {
      "text/html": [
       "<div>\n",
       "<style scoped>\n",
       "    .dataframe tbody tr th:only-of-type {\n",
       "        vertical-align: middle;\n",
       "    }\n",
       "\n",
       "    .dataframe tbody tr th {\n",
       "        vertical-align: top;\n",
       "    }\n",
       "\n",
       "    .dataframe thead th {\n",
       "        text-align: right;\n",
       "    }\n",
       "</style>\n",
       "<table border=\"1\" class=\"dataframe\">\n",
       "  <thead>\n",
       "    <tr style=\"text-align: right;\">\n",
       "      <th></th>\n",
       "      <th>merchant_name</th>\n",
       "      <th>count(consumer_id)</th>\n",
       "    </tr>\n",
       "  </thead>\n",
       "  <tbody>\n",
       "    <tr>\n",
       "      <th>3987</th>\n",
       "      <td>Aenean Gravida Institute</td>\n",
       "      <td>1</td>\n",
       "    </tr>\n",
       "    <tr>\n",
       "      <th>3993</th>\n",
       "      <td>Elit Dictum Eu Foundation</td>\n",
       "      <td>1</td>\n",
       "    </tr>\n",
       "    <tr>\n",
       "      <th>4006</th>\n",
       "      <td>Consequat Foundation</td>\n",
       "      <td>1</td>\n",
       "    </tr>\n",
       "    <tr>\n",
       "      <th>4007</th>\n",
       "      <td>Phasellus LLP</td>\n",
       "      <td>1</td>\n",
       "    </tr>\n",
       "    <tr>\n",
       "      <th>4016</th>\n",
       "      <td>Curae Foundation</td>\n",
       "      <td>1</td>\n",
       "    </tr>\n",
       "    <tr>\n",
       "      <th>4021</th>\n",
       "      <td>Aliquam Eu Institute</td>\n",
       "      <td>1</td>\n",
       "    </tr>\n",
       "    <tr>\n",
       "      <th>4024</th>\n",
       "      <td>Lobortis Nisi Associates</td>\n",
       "      <td>1</td>\n",
       "    </tr>\n",
       "  </tbody>\n",
       "</table>\n",
       "</div>"
      ],
      "text/plain": [
       "                  merchant_name  count(consumer_id)\n",
       "3987   Aenean Gravida Institute                   1\n",
       "3993  Elit Dictum Eu Foundation                   1\n",
       "4006       Consequat Foundation                   1\n",
       "4007              Phasellus LLP                   1\n",
       "4016           Curae Foundation                   1\n",
       "4021       Aliquam Eu Institute                   1\n",
       "4024   Lobortis Nisi Associates                   1"
      ]
     },
     "execution_count": 28,
     "metadata": {},
     "output_type": "execute_result"
    }
   ],
   "source": [
    "merchantdf.loc[merchantdf[\"count(consumer_id)\"] == 1][[\"merchant_name\", \"count(consumer_id)\"]]"
   ]
  },
  {
   "cell_type": "markdown",
   "metadata": {},
   "source": [
    "3. Merchant with high mean merchant fraud probability\n",
    "\n",
    "The firm might want to completely remove these merchants from the ranking, instead of removing their fraud transactions, since the merchant is deemed to be untrustworthy. The table shows the 5 merchants with the highest fraud probability."
   ]
  },
  {
   "cell_type": "code",
   "execution_count": 29,
   "metadata": {},
   "outputs": [
    {
     "data": {
      "text/html": [
       "<div>\n",
       "<style scoped>\n",
       "    .dataframe tbody tr th:only-of-type {\n",
       "        vertical-align: middle;\n",
       "    }\n",
       "\n",
       "    .dataframe tbody tr th {\n",
       "        vertical-align: top;\n",
       "    }\n",
       "\n",
       "    .dataframe thead th {\n",
       "        text-align: right;\n",
       "    }\n",
       "</style>\n",
       "<table border=\"1\" class=\"dataframe\">\n",
       "  <thead>\n",
       "    <tr style=\"text-align: right;\">\n",
       "      <th></th>\n",
       "      <th>merchant_name</th>\n",
       "      <th>avg(merchant_fraud_probability)</th>\n",
       "    </tr>\n",
       "  </thead>\n",
       "  <tbody>\n",
       "    <tr>\n",
       "      <th>1361</th>\n",
       "      <td>Tempus Mauris Ltd</td>\n",
       "      <td>0.91</td>\n",
       "    </tr>\n",
       "    <tr>\n",
       "      <th>911</th>\n",
       "      <td>Ut Corporation</td>\n",
       "      <td>0.90</td>\n",
       "    </tr>\n",
       "    <tr>\n",
       "      <th>91</th>\n",
       "      <td>Duis At Inc.</td>\n",
       "      <td>0.81</td>\n",
       "    </tr>\n",
       "    <tr>\n",
       "      <th>222</th>\n",
       "      <td>Ut Industries</td>\n",
       "      <td>0.73</td>\n",
       "    </tr>\n",
       "    <tr>\n",
       "      <th>3145</th>\n",
       "      <td>Mi Eleifend Egestas LLP</td>\n",
       "      <td>0.71</td>\n",
       "    </tr>\n",
       "  </tbody>\n",
       "</table>\n",
       "</div>"
      ],
      "text/plain": [
       "                merchant_name  avg(merchant_fraud_probability)\n",
       "1361        Tempus Mauris Ltd                             0.91\n",
       "911            Ut Corporation                             0.90\n",
       "91               Duis At Inc.                             0.81\n",
       "222             Ut Industries                             0.73\n",
       "3145  Mi Eleifend Egestas LLP                             0.71"
      ]
     },
     "execution_count": 29,
     "metadata": {},
     "output_type": "execute_result"
    }
   ],
   "source": [
    "merchantdf.sort_values(by = \"avg(merchant_fraud_probability)\", inplace = True, ascending = False)\n",
    "merchantdf.head(5)[[\"merchant_name\", \"avg(merchant_fraud_probability)\"]]"
   ]
  },
  {
   "cell_type": "markdown",
   "metadata": {},
   "source": [
    "In conclusion, the firm should consider whether the merchants stated above should be excluded from consideration. The decision will depend on whether the firm is willing to take on riskier partnerships in exchange for a possibility of a higher revenue."
   ]
  }
 ],
 "metadata": {
  "kernelspec": {
   "display_name": "Python 3.9.7 64-bit",
   "language": "python",
   "name": "python3"
  },
  "language_info": {
   "codemirror_mode": {
    "name": "ipython",
    "version": 3
   },
   "file_extension": ".py",
   "mimetype": "text/x-python",
   "name": "python",
   "nbconvert_exporter": "python",
   "pygments_lexer": "ipython3",
   "version": "3.9.7"
  },
  "orig_nbformat": 4,
  "vscode": {
   "interpreter": {
    "hash": "aee8b7b246df8f9039afb4144a1f6fd8d2ca17a180786b69acc140d282b71a49"
   }
  }
 },
 "nbformat": 4,
 "nbformat_minor": 2
}
