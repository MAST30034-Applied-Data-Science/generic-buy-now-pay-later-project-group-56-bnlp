{
 "cells": [
  {
   "cell_type": "markdown",
   "metadata": {},
   "source": [
    "## **Introduction**\n",
    "Here we build our ranking system. We only consider `income_total` which is `rate` * `dollar_value`  as it is a strong indicator for Merchant Performance. \n",
    "\n",
    "**Assumption**: `dollar_value` is *Normally Distributed*\n",
    "\n",
    "Let's load the data after removing fraud transactions."
   ]
  },
  {
   "cell_type": "code",
   "execution_count": 3,
   "metadata": {},
   "outputs": [
    {
     "name": "stdout",
     "output_type": "stream",
     "text": [
      "22/10/09 00:34:59 WARN Utils: Your hostname, Shromanns-MacBook-Pro.local resolves to a loopback address: 127.0.0.1; using 192.168.1.110 instead (on interface en0)\n",
      "22/10/09 00:34:59 WARN Utils: Set SPARK_LOCAL_IP if you need to bind to another address\n"
     ]
    },
    {
     "name": "stderr",
     "output_type": "stream",
     "text": [
      "Setting default log level to \"WARN\".\n",
      "To adjust logging level use sc.setLogLevel(newLevel). For SparkR, use setLogLevel(newLevel).\n"
     ]
    },
    {
     "name": "stdout",
     "output_type": "stream",
     "text": [
      "22/10/09 00:35:00 WARN NativeCodeLoader: Unable to load native-hadoop library for your platform... using builtin-java classes where applicable\n"
     ]
    },
    {
     "name": "stderr",
     "output_type": "stream",
     "text": [
      "                                                                                \r"
     ]
    },
    {
     "data": {
      "text/html": [
       "<table border='1'>\n",
       "<tr><th>merchant_name</th><th>user_id</th><th>dollar_value</th><th>order_datetime</th><th>rate</th><th>category</th><th>subcategory</th><th>estimated_region_population_2021_sum</th><th>persons_earners_2018-19_sum</th><th>mean_earnings_2018-19_avg</th><th>sum_earnings_2018-19_sum</th><th>median_earnings_2018-19_avg</th><th>med_age_earners_2018-19_avg</th></tr>\n",
       "<tr><td>Dolor Dapibus Gra...</td><td>8913</td><td>51.28</td><td>2021-07-24</td><td>0.0312</td><td>retail_and_wholes...</td><td>household_goods_r...</td><td>31499</td><td>28552.0</td><td>70738.0</td><td>2.01971729E9</td><td>28339.0</td><td>31.0</td></tr>\n",
       "<tr><td>Lorem Foundation</td><td>15797</td><td>5.84</td><td>2021-11-26</td><td>0.0655</td><td>retail_and_wholes...</td><td>household_goods_r...</td><td>3266</td><td>2023.0</td><td>60415.0</td><td>1.22219664E8</td><td>49925.0</td><td>48.0</td></tr>\n",
       "<tr><td>Euismod Urna Inst...</td><td>4694</td><td>0.36</td><td>2022-05-07</td><td>0.0505</td><td>retail_and_wholes...</td><td>department_stores</td><td>22545</td><td>14289.0</td><td>84223.0</td><td>1.203458028E9</td><td>54884.0</td><td>47.0</td></tr>\n",
       "<tr><td>Mauris Inc.</td><td>3260</td><td>5.72</td><td>2022-04-18</td><td>0.0294</td><td>info_media_and_te...</td><td>null</td><td>43353</td><td>25261.0</td><td>82029.0</td><td>1.628989984E9</td><td>54081.0</td><td>44.333333333333336</td></tr>\n",
       "<tr><td>Lobortis Ultrices...</td><td>15618</td><td>69.08</td><td>2022-08-13</td><td>0.0631</td><td>retail_and_wholes...</td><td>department_stores</td><td>37268</td><td>22626.0</td><td>57968.333333333336</td><td>1.310262977E9</td><td>53277.333333333336</td><td>44.0</td></tr>\n",
       "<tr><td>Imperdiet Non LLC</td><td>22134</td><td>129.51</td><td>2021-10-11</td><td>0.0684</td><td>info_media_and_te...</td><td>null</td><td>7482</td><td>4086.0</td><td>43661.0</td><td>1.77649122E8</td><td>39343.5</td><td>46.0</td></tr>\n",
       "<tr><td>Eget Venenatis A ...</td><td>8914</td><td>313.78</td><td>2021-04-25</td><td>0.0687</td><td>retail_and_wholes...</td><td>department_stores</td><td>97517</td><td>50162.0</td><td>63845.8</td><td>3.1775621E9</td><td>55556.4</td><td>39.0</td></tr>\n",
       "<tr><td>Non Vestibulum In...</td><td>1604</td><td>21.55</td><td>2021-05-13</td><td>0.058</td><td>retail_and_wholes...</td><td>department_stores</td><td>4296</td><td>2344.0</td><td>51198.0</td><td>1.20007795E8</td><td>43117.0</td><td>48.0</td></tr>\n",
       "<tr><td>Lobortis Ultrices...</td><td>2786</td><td>60.47</td><td>2022-08-14</td><td>0.0631</td><td>retail_and_wholes...</td><td>department_stores</td><td>8448</td><td>4341.0</td><td>54531.0</td><td>2.36717978E8</td><td>46601.0</td><td>45.0</td></tr>\n",
       "<tr><td>Lobortis Ultrices...</td><td>21018</td><td>56.28</td><td>2021-12-27</td><td>0.0631</td><td>retail_and_wholes...</td><td>department_stores</td><td>14916</td><td>7568.0</td><td>54270.0</td><td>4.23766641E8</td><td>50905.666666666664</td><td>40.666666666666664</td></tr>\n",
       "</table>\n"
      ],
      "text/plain": [
       "+--------------------+-------+------------+--------------+------+--------------------+--------------------+------------------------------------+---------------------------+-------------------------+------------------------+---------------------------+---------------------------+\n",
       "|       merchant_name|user_id|dollar_value|order_datetime|  rate|            category|         subcategory|estimated_region_population_2021_sum|persons_earners_2018-19_sum|mean_earnings_2018-19_avg|sum_earnings_2018-19_sum|median_earnings_2018-19_avg|med_age_earners_2018-19_avg|\n",
       "+--------------------+-------+------------+--------------+------+--------------------+--------------------+------------------------------------+---------------------------+-------------------------+------------------------+---------------------------+---------------------------+\n",
       "|Dolor Dapibus Gra...|   8913|       51.28|    2021-07-24|0.0312|retail_and_wholes...|household_goods_r...|                               31499|                    28552.0|                  70738.0|            2.01971729E9|                    28339.0|                       31.0|\n",
       "|    Lorem Foundation|  15797|        5.84|    2021-11-26|0.0655|retail_and_wholes...|household_goods_r...|                                3266|                     2023.0|                  60415.0|            1.22219664E8|                    49925.0|                       48.0|\n",
       "|Euismod Urna Inst...|   4694|        0.36|    2022-05-07|0.0505|retail_and_wholes...|   department_stores|                               22545|                    14289.0|                  84223.0|           1.203458028E9|                    54884.0|                       47.0|\n",
       "|         Mauris Inc.|   3260|        5.72|    2022-04-18|0.0294|info_media_and_te...|                null|                               43353|                    25261.0|                  82029.0|           1.628989984E9|                    54081.0|         44.333333333333336|\n",
       "|Lobortis Ultrices...|  15618|       69.08|    2022-08-13|0.0631|retail_and_wholes...|   department_stores|                               37268|                    22626.0|       57968.333333333336|           1.310262977E9|         53277.333333333336|                       44.0|\n",
       "|   Imperdiet Non LLC|  22134|      129.51|    2021-10-11|0.0684|info_media_and_te...|                null|                                7482|                     4086.0|                  43661.0|            1.77649122E8|                    39343.5|                       46.0|\n",
       "|Eget Venenatis A ...|   8914|      313.78|    2021-04-25|0.0687|retail_and_wholes...|   department_stores|                               97517|                    50162.0|                  63845.8|             3.1775621E9|                    55556.4|                       39.0|\n",
       "|Non Vestibulum In...|   1604|       21.55|    2021-05-13| 0.058|retail_and_wholes...|   department_stores|                                4296|                     2344.0|                  51198.0|            1.20007795E8|                    43117.0|                       48.0|\n",
       "|Lobortis Ultrices...|   2786|       60.47|    2022-08-14|0.0631|retail_and_wholes...|   department_stores|                                8448|                     4341.0|                  54531.0|            2.36717978E8|                    46601.0|                       45.0|\n",
       "|Lobortis Ultrices...|  21018|       56.28|    2021-12-27|0.0631|retail_and_wholes...|   department_stores|                               14916|                     7568.0|                  54270.0|            4.23766641E8|         50905.666666666664|         40.666666666666664|\n",
       "+--------------------+-------+------------+--------------+------+--------------------+--------------------+------------------------------------+---------------------------+-------------------------+------------------------+---------------------------+---------------------------+"
      ]
     },
     "execution_count": 3,
     "metadata": {},
     "output_type": "execute_result"
    }
   ],
   "source": [
    "from pyspark.sql import SparkSession, functions as F\n",
    "import pandas as pd\n",
    "\n",
    "# Create a spark session\n",
    "spark = (\n",
    "    SparkSession.builder.appName(\"BNPL Project\")\n",
    "    .config(\"spark.sql.repl.eagerEval.enabled\", True) \n",
    "    .config(\"spark.sql.parquet.cacheMetadata\", \"true\")\n",
    "    .config(\"spark.driver.memory\", \"4g\")\n",
    "    .config(\"spark.sql.session.timeZone\", \"Etc/UTC\")\n",
    "    .getOrCreate()\n",
    ")\n",
    "\n",
    "sdf = spark.read.parquet(\"../data/curated/process_data.parquet/\")\n",
    "\n",
    "cols = ['merchant_name', 'user_id', 'dollar_value', 'order_datetime', 'rate', 'category', 'subcategory', 'estimated_region_population_2021_sum',\t'persons_earners_2018-19_sum', 'mean_earnings_2018-19_avg', 'sum_earnings_2018-19_sum',\t'median_earnings_2018-19_avg', 'med_age_earners_2018-19_avg']\n",
    "sdf = sdf.select(cols)\n",
    "\n",
    "sdf.limit(10)"
   ]
  },
  {
   "cell_type": "markdown",
   "metadata": {},
   "source": [
    "### 1. **Identify** Merchants with the greatest gross and lowest volatility in income and the greatest evidence of performance\n",
    "We will order the dataset in decreasing value in sum of `total_income` and number of instances and increasing value in `number of instances` per merchant.\n",
    "This is because we want to identify the the wealthiest merchant to partner with, hence the sum of `total_income`; yet also making sure they earn income on a consistent basis, hence the standard deviation of `total_income` and finally have enough evidence to support their claims, hence the `number of instances`."
   ]
  },
  {
   "cell_type": "code",
   "execution_count": 4,
   "metadata": {},
   "outputs": [
    {
     "name": "stderr",
     "output_type": "stream",
     "text": [
      "                                                                                \r"
     ]
    },
    {
     "data": {
      "text/html": [
       "<table border='1'>\n",
       "<tr><th>merchant_name</th><th>income_total</th><th>income_deviation</th><th>rate</th><th>count_merchant</th></tr>\n",
       "<tr><td>Erat Vitae LLP</td><td>255744.1228860645</td><td>0.6226536011043045</td><td>0.029400000000007417</td><td>289513</td></tr>\n",
       "<tr><td>Leo In Consulting</td><td>613410.486442027</td><td>1.5931132977937763</td><td>0.06430000000000283</td><td>272674</td></tr>\n",
       "<tr><td>Pede Nonummy Corp.</td><td>215914.1209939455</td><td>0.4297217319521723</td><td>0.028599999999992777</td><td>260780</td></tr>\n",
       "<tr><td>Non Vestibulum In...</td><td>405304.2824599577</td><td>0.8686670077990107</td><td>0.05799999999999398</td><td>243520</td></tr>\n",
       "<tr><td>Suspendisse Dui C...</td><td>206349.6233179613</td><td>0.8804237642008537</td><td>0.029299999999994514</td><td>234397</td></tr>\n",
       "<tr><td>Lacus Consulting</td><td>585975.3666878997</td><td>2.563138949123425</td><td>0.06979999999998802</td><td>228219</td></tr>\n",
       "<tr><td>Est Nunc Consulting</td><td>535420.132484091</td><td>1.4298403330446474</td><td>0.060100000000010194</td><td>215963</td></tr>\n",
       "<tr><td>Lorem Ipsum Sodal...</td><td>404176.7518500285</td><td>1.159906434919491</td><td>0.04470000000000315</td><td>200913</td></tr>\n",
       "<tr><td>Ipsum Dolor Sit C...</td><td>106133.55576602311</td><td>0.5410840739271985</td><td>0.014700000000003183</td><td>196816</td></tr>\n",
       "<tr><td>Vehicula Pellente...</td><td>285260.53175996774</td><td>1.5744092874763471</td><td>0.06479999999999268</td><td>181841</td></tr>\n",
       "<tr><td>Placerat Eget Ven...</td><td>212449.64405003347</td><td>0.9557664631557532</td><td>0.030500000000004815</td><td>180824</td></tr>\n",
       "<tr><td>Mauris Non Institute</td><td>575026.0092899798</td><td>3.355073032852449</td><td>0.06099999999999779</td><td>120624</td></tr>\n",
       "<tr><td>Lobortis Ultrices...</td><td>559913.80276603</td><td>2.6244704684791995</td><td>0.06310000000000343</td><td>113541</td></tr>\n",
       "<tr><td>Nullam Consulting</td><td>451904.946444086</td><td>3.1426202633077285</td><td>0.06330000000001205</td><td>101791</td></tr>\n",
       "<tr><td>Phasellus At Company</td><td>451756.970280048</td><td>2.8687394923898606</td><td>0.04950000000000524</td><td>99226</td></tr>\n",
       "<tr><td>Dictum Phasellus ...</td><td>515033.4164851049</td><td>3.293324445514841</td><td>0.056500000000011485</td><td>99176</td></tr>\n",
       "<tr><td>Ultricies Digniss...</td><td>376464.87236396025</td><td>1.5864039550422104</td><td>0.04689999999999509</td><td>90705</td></tr>\n",
       "<tr><td>Orci In Consequat...</td><td>623617.3677570462</td><td>4.203807054726122</td><td>0.06610000000000485</td><td>85780</td></tr>\n",
       "<tr><td>Euismod Urna Inst...</td><td>54714.83402999952</td><td>0.70210821882138</td><td>0.050499999999999566</td><td>78335</td></tr>\n",
       "<tr><td>Suspendisse Ac As...</td><td>337488.9689199826</td><td>2.856199098591569</td><td>0.046999999999997634</td><td>68240</td></tr>\n",
       "</table>\n",
       "only showing top 20 rows\n"
      ],
      "text/plain": [
       "+--------------------+------------------+------------------+--------------------+--------------+\n",
       "|       merchant_name|      income_total|  income_deviation|                rate|count_merchant|\n",
       "+--------------------+------------------+------------------+--------------------+--------------+\n",
       "|      Erat Vitae LLP| 255744.1228860645|0.6226536011043045|0.029400000000007417|        289513|\n",
       "|   Leo In Consulting|  613410.486442027|1.5931132977937763| 0.06430000000000283|        272674|\n",
       "|  Pede Nonummy Corp.| 215914.1209939455|0.4297217319521723|0.028599999999992777|        260780|\n",
       "|Non Vestibulum In...| 405304.2824599577|0.8686670077990107| 0.05799999999999398|        243520|\n",
       "|Suspendisse Dui C...| 206349.6233179613|0.8804237642008537|0.029299999999994514|        234397|\n",
       "|    Lacus Consulting| 585975.3666878997| 2.563138949123425| 0.06979999999998802|        228219|\n",
       "| Est Nunc Consulting|  535420.132484091|1.4298403330446474|0.060100000000010194|        215963|\n",
       "|Lorem Ipsum Sodal...| 404176.7518500285| 1.159906434919491| 0.04470000000000315|        200913|\n",
       "|Ipsum Dolor Sit C...|106133.55576602311|0.5410840739271985|0.014700000000003183|        196816|\n",
       "|Vehicula Pellente...|285260.53175996774|1.5744092874763471| 0.06479999999999268|        181841|\n",
       "|Placerat Eget Ven...|212449.64405003347|0.9557664631557532|0.030500000000004815|        180824|\n",
       "|Mauris Non Institute| 575026.0092899798| 3.355073032852449| 0.06099999999999779|        120624|\n",
       "|Lobortis Ultrices...|   559913.80276603|2.6244704684791995| 0.06310000000000343|        113541|\n",
       "|   Nullam Consulting|  451904.946444086|3.1426202633077285| 0.06330000000001205|        101791|\n",
       "|Phasellus At Company|  451756.970280048|2.8687394923898606| 0.04950000000000524|         99226|\n",
       "|Dictum Phasellus ...| 515033.4164851049| 3.293324445514841|0.056500000000011485|         99176|\n",
       "|Ultricies Digniss...|376464.87236396025|1.5864039550422104| 0.04689999999999509|         90705|\n",
       "|Orci In Consequat...| 623617.3677570462| 4.203807054726122| 0.06610000000000485|         85780|\n",
       "|Euismod Urna Inst...| 54714.83402999952|  0.70210821882138|0.050499999999999566|         78335|\n",
       "|Suspendisse Ac As...| 337488.9689199826| 2.856199098591569|0.046999999999997634|         68240|\n",
       "+--------------------+------------------+------------------+--------------------+--------------+\n",
       "only showing top 20 rows"
      ]
     },
     "execution_count": 4,
     "metadata": {},
     "output_type": "execute_result"
    }
   ],
   "source": [
    "fullSdf = sdf.groupBy('merchant_name').agg(\n",
    "        F.sum('dollar_value').alias('income_total'),\n",
    "        F.stddev('dollar_value').alias('income_deviation'),\n",
    "        F.mean('rate').alias('rate'),\n",
    "        F.count('merchant_name').alias('count_merchant'))\\\n",
    "    .withColumn('income_total', F.col('income_total') * F.col('rate'))\\\n",
    "    .withColumn('income_deviation', F.col('income_deviation') * F.col('rate'))\\\n",
    "    .orderBy(F.col('count_merchant').desc(), F.col('income_total').desc(), F.col('income_deviation').asc())\n",
    "\n",
    "fullSdf"
   ]
  },
  {
   "cell_type": "code",
   "execution_count": 5,
   "metadata": {},
   "outputs": [
    {
     "name": "stderr",
     "output_type": "stream",
     "text": [
      "                                                                                \r"
     ]
    }
   ],
   "source": [
    "days = sdf.select('order_datetime').distinct().count()"
   ]
  },
  {
   "cell_type": "markdown",
   "metadata": {},
   "source": [
    "### 2. **Ranking** Merchants by Categories"
   ]
  },
  {
   "cell_type": "code",
   "execution_count": 16,
   "metadata": {},
   "outputs": [],
   "source": [
    "def topNmerchants(sdf, categories, N):\n",
    "    merchants = {}\n",
    "    income_total = {}\n",
    "    income_risk = {}\n",
    "    counts = {}\n",
    "\n",
    "    for category in categories:\n",
    "        tdf = sdf.where(F.col('category') == category)\n",
    "        tdf = tdf.groupBy('merchant_name').agg(\n",
    "            F.sum('dollar_value').alias('income_total'),\n",
    "            F.stddev('dollar_value').alias('income_deviation'),\n",
    "            F.mean('rate').alias('rate'),\n",
    "            F.count('merchant_name').alias('count_merchant'))\\\n",
    "        .withColumn('income_total', F.col('income_total') * F.col('rate'))\\\n",
    "        .withColumn('income_deviation', F.col('income_deviation') * F.col('rate'))\\\n",
    "        .orderBy(F.col('count_merchant').desc(), F.col('income_total').desc(), F.col('income_deviation').asc())\\\n",
    "        \n",
    "        tdf = tdf.limit(N)\n",
    "\n",
    "        merchants[category] = tdf.select('merchant_name').toPandas()['merchant_name'].to_list()\n",
    "        \n",
    "        # assuming that all income is Normally distributed\n",
    "        income_total[category] = tdf.agg({'income_total': 'sum'}).first()['sum(income_total)']\n",
    "        income_risk[category] = tdf.agg({'income_deviation': 'sum'}).first()['sum(income_deviation)']\n",
    "        counts[category] = tdf.agg({'count_merchant': 'sum'}).first()['sum(count_merchant)']\n",
    "\n",
    "    return pd.DataFrame(merchants), income_total, income_risk, counts"
   ]
  },
  {
   "cell_type": "code",
   "execution_count": 17,
   "metadata": {},
   "outputs": [],
   "source": [
    "categories = ['retail_and_wholesale_trade', 'rental_hiring_and_real_estate', 'arts_and_recreation', 'info_media_and_telecommunications', 'others']"
   ]
  },
  {
   "cell_type": "markdown",
   "metadata": {},
   "source": [
    "We see that the top 10 merchants per category is as shown below"
   ]
  },
  {
   "cell_type": "code",
   "execution_count": 18,
   "metadata": {},
   "outputs": [
    {
     "name": "stderr",
     "output_type": "stream",
     "text": [
      "                                                                                \r"
     ]
    },
    {
     "data": {
      "text/html": [
       "<div>\n",
       "<style scoped>\n",
       "    .dataframe tbody tr th:only-of-type {\n",
       "        vertical-align: middle;\n",
       "    }\n",
       "\n",
       "    .dataframe tbody tr th {\n",
       "        vertical-align: top;\n",
       "    }\n",
       "\n",
       "    .dataframe thead th {\n",
       "        text-align: right;\n",
       "    }\n",
       "</style>\n",
       "<table border=\"1\" class=\"dataframe\">\n",
       "  <thead>\n",
       "    <tr style=\"text-align: right;\">\n",
       "      <th></th>\n",
       "      <th>retail_and_wholesale_trade</th>\n",
       "      <th>rental_hiring_and_real_estate</th>\n",
       "      <th>arts_and_recreation</th>\n",
       "      <th>info_media_and_telecommunications</th>\n",
       "      <th>others</th>\n",
       "    </tr>\n",
       "  </thead>\n",
       "  <tbody>\n",
       "    <tr>\n",
       "      <th>0</th>\n",
       "      <td>Erat Vitae LLP</td>\n",
       "      <td>Quis Massa Mauris Corporation</td>\n",
       "      <td>Ac Urna Consulting</td>\n",
       "      <td>Mauris Non Institute</td>\n",
       "      <td>Nec Tellus Ltd</td>\n",
       "    </tr>\n",
       "    <tr>\n",
       "      <th>1</th>\n",
       "      <td>Leo In Consulting</td>\n",
       "      <td>Quam A Felis Incorporated</td>\n",
       "      <td>Magna Sed Industries</td>\n",
       "      <td>Euismod In Corp.</td>\n",
       "      <td>Tempus Eu Ligula Limited</td>\n",
       "    </tr>\n",
       "    <tr>\n",
       "      <th>2</th>\n",
       "      <td>Pede Nonummy Corp.</td>\n",
       "      <td>Vel Lectus Cum LLC</td>\n",
       "      <td>Mi Consulting</td>\n",
       "      <td>Feugiat Sed Nec Institute</td>\n",
       "      <td>Sed Nec Inc.</td>\n",
       "    </tr>\n",
       "    <tr>\n",
       "      <th>3</th>\n",
       "      <td>Non Vestibulum Industries</td>\n",
       "      <td>Mi Eleifend Company</td>\n",
       "      <td>Lorem LLP</td>\n",
       "      <td>Amet Consulting</td>\n",
       "      <td>Natoque Consulting</td>\n",
       "    </tr>\n",
       "    <tr>\n",
       "      <th>4</th>\n",
       "      <td>Suspendisse Dui Corporation</td>\n",
       "      <td>Iaculis Enim Corp.</td>\n",
       "      <td>Volutpat Ornare Facilisis Associates</td>\n",
       "      <td>Arcu Sed Eu Incorporated</td>\n",
       "      <td>Gravida Praesent Corp.</td>\n",
       "    </tr>\n",
       "    <tr>\n",
       "      <th>5</th>\n",
       "      <td>Lacus Consulting</td>\n",
       "      <td>Leo Morbi Limited</td>\n",
       "      <td>Ligula Tortor Incorporated</td>\n",
       "      <td>Eleifend PC</td>\n",
       "      <td>Mauris Sagittis Corp.</td>\n",
       "    </tr>\n",
       "    <tr>\n",
       "      <th>6</th>\n",
       "      <td>Est Nunc Consulting</td>\n",
       "      <td>Laoreet Inc.</td>\n",
       "      <td>Nullam Scelerisque Ltd</td>\n",
       "      <td>Posuere Cubilia Curae Corporation</td>\n",
       "      <td>Nisl Elementum Ltd</td>\n",
       "    </tr>\n",
       "    <tr>\n",
       "      <th>7</th>\n",
       "      <td>Lorem Ipsum Sodales Industries</td>\n",
       "      <td>Massa Limited</td>\n",
       "      <td>Massa LLP</td>\n",
       "      <td>At Sem Corp.</td>\n",
       "      <td>Molestie Arcu Corporation</td>\n",
       "    </tr>\n",
       "    <tr>\n",
       "      <th>8</th>\n",
       "      <td>Ipsum Dolor Sit Corporation</td>\n",
       "      <td>Fermentum Institute</td>\n",
       "      <td>Non Cursus LLP</td>\n",
       "      <td>Et Nunc Consulting</td>\n",
       "      <td>Feugiat Lorem Incorporated</td>\n",
       "    </tr>\n",
       "    <tr>\n",
       "      <th>9</th>\n",
       "      <td>Vehicula Pellentesque Corporation</td>\n",
       "      <td>Morbi Non Corp.</td>\n",
       "      <td>Mollis Duis Sit Foundation</td>\n",
       "      <td>Suspendisse Incorporated</td>\n",
       "      <td>Risus Odio Auctor Foundation</td>\n",
       "    </tr>\n",
       "  </tbody>\n",
       "</table>\n",
       "</div>"
      ],
      "text/plain": [
       "          retail_and_wholesale_trade  rental_hiring_and_real_estate  \\\n",
       "0                     Erat Vitae LLP  Quis Massa Mauris Corporation   \n",
       "1                  Leo In Consulting      Quam A Felis Incorporated   \n",
       "2                 Pede Nonummy Corp.             Vel Lectus Cum LLC   \n",
       "3          Non Vestibulum Industries            Mi Eleifend Company   \n",
       "4        Suspendisse Dui Corporation             Iaculis Enim Corp.   \n",
       "5                   Lacus Consulting              Leo Morbi Limited   \n",
       "6                Est Nunc Consulting                   Laoreet Inc.   \n",
       "7     Lorem Ipsum Sodales Industries                  Massa Limited   \n",
       "8        Ipsum Dolor Sit Corporation            Fermentum Institute   \n",
       "9  Vehicula Pellentesque Corporation                Morbi Non Corp.   \n",
       "\n",
       "                    arts_and_recreation  info_media_and_telecommunications  \\\n",
       "0                    Ac Urna Consulting               Mauris Non Institute   \n",
       "1                  Magna Sed Industries                   Euismod In Corp.   \n",
       "2                         Mi Consulting          Feugiat Sed Nec Institute   \n",
       "3                             Lorem LLP                    Amet Consulting   \n",
       "4  Volutpat Ornare Facilisis Associates           Arcu Sed Eu Incorporated   \n",
       "5            Ligula Tortor Incorporated                        Eleifend PC   \n",
       "6                Nullam Scelerisque Ltd  Posuere Cubilia Curae Corporation   \n",
       "7                             Massa LLP                       At Sem Corp.   \n",
       "8                        Non Cursus LLP                 Et Nunc Consulting   \n",
       "9            Mollis Duis Sit Foundation           Suspendisse Incorporated   \n",
       "\n",
       "                         others  \n",
       "0                Nec Tellus Ltd  \n",
       "1      Tempus Eu Ligula Limited  \n",
       "2                  Sed Nec Inc.  \n",
       "3            Natoque Consulting  \n",
       "4        Gravida Praesent Corp.  \n",
       "5         Mauris Sagittis Corp.  \n",
       "6            Nisl Elementum Ltd  \n",
       "7     Molestie Arcu Corporation  \n",
       "8    Feugiat Lorem Incorporated  \n",
       "9  Risus Odio Auctor Foundation  "
      ]
     },
     "execution_count": 18,
     "metadata": {},
     "output_type": "execute_result"
    }
   ],
   "source": [
    "merchants, total, risk, counts = topNmerchants(sdf, categories, N=10)\n",
    "merchants"
   ]
  },
  {
   "cell_type": "markdown",
   "metadata": {},
   "source": [
    "### a. **Total** revenue made by each category"
   ]
  },
  {
   "cell_type": "code",
   "execution_count": 20,
   "metadata": {},
   "outputs": [
    {
     "data": {
      "text/plain": [
       "{'retail_and_wholesale_trade': 3613688.9746479657,\n",
       " 'rental_hiring_and_real_estate': 351859.06383600016,\n",
       " 'arts_and_recreation': 878824.603607,\n",
       " 'info_media_and_telecommunications': 2282460.32927698,\n",
       " 'others': 705908.5849809962}"
      ]
     },
     "execution_count": 20,
     "metadata": {},
     "output_type": "execute_result"
    }
   ],
   "source": [
    "total"
   ]
  },
  {
   "cell_type": "markdown",
   "metadata": {},
   "source": [
    "### b. **Risk** in revenue per category (standard deviation)"
   ]
  },
  {
   "cell_type": "code",
   "execution_count": 21,
   "metadata": {},
   "outputs": [
    {
     "data": {
      "text/plain": [
       "{'retail_and_wholesale_trade': 11.66295848134123,\n",
       " 'rental_hiring_and_real_estate': 322.02846931549146,\n",
       " 'arts_and_recreation': 650.0662699383139,\n",
       " 'info_media_and_telecommunications': 38.42206648478936,\n",
       " 'others': 58.94039668372187}"
      ]
     },
     "execution_count": 21,
     "metadata": {},
     "output_type": "execute_result"
    }
   ],
   "source": [
    "risk"
   ]
  },
  {
   "cell_type": "markdown",
   "metadata": {},
   "source": [
    "### c. **Number** of Instances per category"
   ]
  },
  {
   "cell_type": "code",
   "execution_count": 22,
   "metadata": {},
   "outputs": [
    {
     "data": {
      "text/plain": [
       "{'retail_and_wholesale_trade': 2324636,\n",
       " 'rental_hiring_and_real_estate': 18007,\n",
       " 'arts_and_recreation': 12123,\n",
       " 'info_media_and_telecommunications': 449654,\n",
       " 'others': 92071}"
      ]
     },
     "execution_count": 22,
     "metadata": {},
     "output_type": "execute_result"
    }
   ],
   "source": [
    "counts"
   ]
  },
  {
   "cell_type": "markdown",
   "metadata": {},
   "source": [
    "## **Review**\n",
    "From our selection of merchants from all categories, we can calculate our long term daily average merchant income to be as follows with 3 standard deviations.\n",
    "\n",
    "Since `dollar_value` is assumed to be *Normally Distributed*, the distribution of the `total_income` per category is also *Normally Distributed* with its paramters being the sum of the selected merchant's `dollar_value`.\n",
    "\n",
    "$$\n",
    "m_1 \\sim N(\\mu_{1}, \\sigma^2_{1}), \\dots, m_{10} \\sim N(\\mu_{10}, \\sigma^2_{10}) \\\\\n",
    "\\implies \\sum_{i=1}^{10}m_i \\sim N\\left(\\sum_{i=1}^{10} \\mu_i, \\sum_{i=1}^{10} \\sigma^2_i\\right)\n",
    "$$\n",
    "\n",
    "We use this to find the daily average income and our 3 standard deviations as found below,"
   ]
  },
  {
   "cell_type": "code",
   "execution_count": 23,
   "metadata": {},
   "outputs": [
    {
     "name": "stdout",
     "output_type": "stream",
     "text": [
      "Average Daily Income:\n",
      "(12919.964019581239 <- 3 std - | 12925.316099585712 | - 3 std -> 12930.668179590186)\n"
     ]
    }
   ],
   "source": [
    "mu = sum(total.values()) / days\n",
    "sigma = sum(risk.values()) / days\n",
    "\n",
    "print('Average Daily Income:')\n",
    "print(f'({mu - (3 * sigma)} <- 3 std - | {mu} | - 3 std -> {mu + (3 * sigma)})')"
   ]
  },
  {
   "cell_type": "markdown",
   "metadata": {},
   "source": [
    "As seen above, the merchants make about $12925 a day; with $12919 as lower and $12930 upper bound."
   ]
  }
 ],
 "metadata": {
  "kernelspec": {
   "display_name": "Python 3.9.7 64-bit",
   "language": "python",
   "name": "python3"
  },
  "language_info": {
   "codemirror_mode": {
    "name": "ipython",
    "version": 3
   },
   "file_extension": ".py",
   "mimetype": "text/x-python",
   "name": "python",
   "nbconvert_exporter": "python",
   "pygments_lexer": "ipython3",
   "version": "3.9.7"
  },
  "orig_nbformat": 4,
  "vscode": {
   "interpreter": {
    "hash": "aee8b7b246df8f9039afb4144a1f6fd8d2ca17a180786b69acc140d282b71a49"
   }
  }
 },
 "nbformat": 4,
 "nbformat_minor": 2
}
