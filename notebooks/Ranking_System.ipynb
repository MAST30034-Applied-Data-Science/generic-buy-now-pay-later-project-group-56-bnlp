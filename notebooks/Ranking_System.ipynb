{
 "cells": [
  {
   "cell_type": "code",
   "execution_count": 1,
   "metadata": {},
   "outputs": [
    {
     "name": "stdout",
     "output_type": "stream",
     "text": [
      "22/10/06 16:23:19 WARN Utils: Your hostname, Shromanns-MacBook-Pro.local resolves to a loopback address: 127.0.0.1; using 10.12.144.226 instead (on interface en0)\n",
      "22/10/06 16:23:19 WARN Utils: Set SPARK_LOCAL_IP if you need to bind to another address\n"
     ]
    },
    {
     "name": "stderr",
     "output_type": "stream",
     "text": [
      "Setting default log level to \"WARN\".\n",
      "To adjust logging level use sc.setLogLevel(newLevel). For SparkR, use setLogLevel(newLevel).\n"
     ]
    },
    {
     "name": "stdout",
     "output_type": "stream",
     "text": [
      "22/10/06 16:23:19 WARN NativeCodeLoader: Unable to load native-hadoop library for your platform... using builtin-java classes where applicable\n",
      "22/10/06 16:23:20 WARN Utils: Service 'SparkUI' could not bind on port 4040. Attempting port 4041.\n"
     ]
    },
    {
     "name": "stderr",
     "output_type": "stream",
     "text": [
      "                                                                                \r"
     ]
    },
    {
     "data": {
      "text/html": [
       "<table border='1'>\n",
       "<tr><th>merchant_name</th><th>user_id</th><th>dollar_value</th><th>order_datetime</th><th>rate</th><th>category</th><th>subcategory</th><th>estimated_region_population_2021_sum</th><th>persons_earners_2018-19_sum</th><th>mean_earnings_2018-19_avg</th><th>sum_earnings_2018-19_sum</th><th>median_earnings_2018-19_avg</th><th>med_age_earners_2018-19_avg</th></tr>\n",
       "<tr><td>Placerat Orci Ins...</td><td>1</td><td>366.23</td><td>2021-11-17</td><td>0.0273</td><td>retail_and_wholes...</td><td>others_retailing</td><td>10636</td><td>5795.0</td><td>62144.0</td><td>3.60125906E8</td><td>52618.0</td><td>41.0</td></tr>\n",
       "<tr><td>Adipiscing Elit C...</td><td>1</td><td>113.59</td><td>2022-06-28</td><td>0.056600000000000004</td><td>info_media_and_te...</td><td>null</td><td>10636</td><td>5795.0</td><td>62144.0</td><td>3.60125906E8</td><td>52618.0</td><td>41.0</td></tr>\n",
       "<tr><td>Quam Curabitur Co...</td><td>1</td><td>587.4</td><td>2021-09-24</td><td>0.018600000000000002</td><td>retail_and_wholes...</td><td>department_stores</td><td>10636</td><td>5795.0</td><td>62144.0</td><td>3.60125906E8</td><td>52618.0</td><td>41.0</td></tr>\n",
       "<tr><td>Felis Institute</td><td>1</td><td>51.58</td><td>2021-11-26</td><td>0.0642</td><td>retail_and_wholes...</td><td>household_goods_r...</td><td>10636</td><td>5795.0</td><td>62144.0</td><td>3.60125906E8</td><td>52618.0</td><td>41.0</td></tr>\n",
       "<tr><td>Class Aptent Taci...</td><td>1</td><td>196.41</td><td>2022-05-22</td><td>0.0501</td><td>info_media_and_te...</td><td>null</td><td>10636</td><td>5795.0</td><td>62144.0</td><td>3.60125906E8</td><td>52618.0</td><td>41.0</td></tr>\n",
       "<tr><td>Augue Malesuada LLP</td><td>1</td><td>7.84</td><td>2022-08-10</td><td>0.0599</td><td>retail_and_wholes...</td><td>household_goods_r...</td><td>10636</td><td>5795.0</td><td>62144.0</td><td>3.60125906E8</td><td>52618.0</td><td>41.0</td></tr>\n",
       "<tr><td>Est Nunc Ullamcor...</td><td>1</td><td>100.22</td><td>2022-10-24</td><td>0.0572</td><td>retail_and_wholes...</td><td>household_goods_r...</td><td>10636</td><td>5795.0</td><td>62144.0</td><td>3.60125906E8</td><td>52618.0</td><td>41.0</td></tr>\n",
       "<tr><td>Iaculis Aliquet D...</td><td>1</td><td>115.82</td><td>2021-11-13</td><td>0.0176</td><td>retail_and_wholes...</td><td>food_retailing</td><td>10636</td><td>5795.0</td><td>62144.0</td><td>3.60125906E8</td><td>52618.0</td><td>41.0</td></tr>\n",
       "<tr><td>Iaculis Enim Corp.</td><td>1</td><td>18.5</td><td>2022-09-03</td><td>0.0381</td><td>rental_hiring_and...</td><td>null</td><td>10636</td><td>5795.0</td><td>62144.0</td><td>3.60125906E8</td><td>52618.0</td><td>41.0</td></tr>\n",
       "<tr><td>Iaculis Aliquet D...</td><td>1</td><td>63.88</td><td>2022-10-13</td><td>0.0176</td><td>retail_and_wholes...</td><td>food_retailing</td><td>10636</td><td>5795.0</td><td>62144.0</td><td>3.60125906E8</td><td>52618.0</td><td>41.0</td></tr>\n",
       "</table>\n"
      ],
      "text/plain": [
       "+--------------------+-------+------------+--------------+--------------------+--------------------+--------------------+------------------------------------+---------------------------+-------------------------+------------------------+---------------------------+---------------------------+\n",
       "|       merchant_name|user_id|dollar_value|order_datetime|                rate|            category|         subcategory|estimated_region_population_2021_sum|persons_earners_2018-19_sum|mean_earnings_2018-19_avg|sum_earnings_2018-19_sum|median_earnings_2018-19_avg|med_age_earners_2018-19_avg|\n",
       "+--------------------+-------+------------+--------------+--------------------+--------------------+--------------------+------------------------------------+---------------------------+-------------------------+------------------------+---------------------------+---------------------------+\n",
       "|Placerat Orci Ins...|      1|      366.23|    2021-11-17|              0.0273|retail_and_wholes...|    others_retailing|                               10636|                     5795.0|                  62144.0|            3.60125906E8|                    52618.0|                       41.0|\n",
       "|Adipiscing Elit C...|      1|      113.59|    2022-06-28|0.056600000000000004|info_media_and_te...|                null|                               10636|                     5795.0|                  62144.0|            3.60125906E8|                    52618.0|                       41.0|\n",
       "|Quam Curabitur Co...|      1|       587.4|    2021-09-24|0.018600000000000002|retail_and_wholes...|   department_stores|                               10636|                     5795.0|                  62144.0|            3.60125906E8|                    52618.0|                       41.0|\n",
       "|     Felis Institute|      1|       51.58|    2021-11-26|              0.0642|retail_and_wholes...|household_goods_r...|                               10636|                     5795.0|                  62144.0|            3.60125906E8|                    52618.0|                       41.0|\n",
       "|Class Aptent Taci...|      1|      196.41|    2022-05-22|              0.0501|info_media_and_te...|                null|                               10636|                     5795.0|                  62144.0|            3.60125906E8|                    52618.0|                       41.0|\n",
       "| Augue Malesuada LLP|      1|        7.84|    2022-08-10|              0.0599|retail_and_wholes...|household_goods_r...|                               10636|                     5795.0|                  62144.0|            3.60125906E8|                    52618.0|                       41.0|\n",
       "|Est Nunc Ullamcor...|      1|      100.22|    2022-10-24|              0.0572|retail_and_wholes...|household_goods_r...|                               10636|                     5795.0|                  62144.0|            3.60125906E8|                    52618.0|                       41.0|\n",
       "|Iaculis Aliquet D...|      1|      115.82|    2021-11-13|              0.0176|retail_and_wholes...|      food_retailing|                               10636|                     5795.0|                  62144.0|            3.60125906E8|                    52618.0|                       41.0|\n",
       "|  Iaculis Enim Corp.|      1|        18.5|    2022-09-03|              0.0381|rental_hiring_and...|                null|                               10636|                     5795.0|                  62144.0|            3.60125906E8|                    52618.0|                       41.0|\n",
       "|Iaculis Aliquet D...|      1|       63.88|    2022-10-13|              0.0176|retail_and_wholes...|      food_retailing|                               10636|                     5795.0|                  62144.0|            3.60125906E8|                    52618.0|                       41.0|\n",
       "+--------------------+-------+------------+--------------+--------------------+--------------------+--------------------+------------------------------------+---------------------------+-------------------------+------------------------+---------------------------+---------------------------+"
      ]
     },
     "execution_count": 1,
     "metadata": {},
     "output_type": "execute_result"
    }
   ],
   "source": [
    "from pyspark.sql import SparkSession, functions as F\n",
    "import pandas as pd\n",
    "\n",
    "# Create a spark session\n",
    "spark = (\n",
    "    SparkSession.builder.appName(\"BNPL Project\")\n",
    "    .config(\"spark.sql.repl.eagerEval.enabled\", True) \n",
    "    .config(\"spark.sql.parquet.cacheMetadata\", \"true\")\n",
    "    .config(\"spark.driver.memory\", \"4g\")\n",
    "    .config(\"spark.sql.session.timeZone\", \"Etc/UTC\")\n",
    "    .getOrCreate()\n",
    ")\n",
    "\n",
    "sdf = spark.read.parquet(\"../data/curated/process_data.parquet/\")\n",
    "\n",
    "cols = ['merchant_name', 'user_id', 'dollar_value', 'order_datetime', 'rate', 'category', 'subcategory', 'estimated_region_population_2021_sum',\t'persons_earners_2018-19_sum', 'mean_earnings_2018-19_avg', 'sum_earnings_2018-19_sum',\t'median_earnings_2018-19_avg', 'med_age_earners_2018-19_avg']\n",
    "sdf = sdf.select(cols)\n",
    "\n",
    "sdf = sdf.withColumn('rate', F.col('rate') / 100)\n",
    "\n",
    "sdf.limit(10)"
   ]
  },
  {
   "cell_type": "markdown",
   "metadata": {},
   "source": [
    "### 1. **Identify** Merchants with the greatest gross and lowest volatility in income and the greatest evidence of performance"
   ]
  },
  {
   "cell_type": "code",
   "execution_count": 2,
   "metadata": {},
   "outputs": [],
   "source": [
    "fullSdf = sdf.groupBy('merchant_name').agg(\n",
    "        F.sum('dollar_value').alias('income_total'),\n",
    "        F.stddev('dollar_value').alias('income_deviation'),\n",
    "        F.mean('rate').alias('rate'),\n",
    "        F.count('merchant_name').alias('count_merchant'))\\\n",
    "    .withColumn('income_total', F.col('income_total') * F.col('rate'))\\\n",
    "    .withColumn('income_deviation', F.col('income_deviation') * F.col('rate'))\\\n",
    "    .orderBy(F.col('count_merchant').desc(), F.col('income_total').desc(), F.col('income_deviation').asc())"
   ]
  },
  {
   "cell_type": "code",
   "execution_count": 3,
   "metadata": {},
   "outputs": [
    {
     "name": "stderr",
     "output_type": "stream",
     "text": [
      "                                                                                \r"
     ]
    }
   ],
   "source": [
    "days = sdf.select('order_datetime').distinct().count()"
   ]
  },
  {
   "cell_type": "markdown",
   "metadata": {},
   "source": [
    "### 2. **Ranking** Merchants by Categories"
   ]
  },
  {
   "cell_type": "code",
   "execution_count": 4,
   "metadata": {},
   "outputs": [],
   "source": [
    "def topNmerchants(sdf, categories, N):\n",
    "    merchants = {}\n",
    "    income_total = {}\n",
    "    income_risk = {}\n",
    "    counts = {}\n",
    "\n",
    "    for category in categories:\n",
    "        tdf = sdf.where(F.col('category') == category)\n",
    "        tdf = tdf.groupBy('merchant_name').agg(\n",
    "            F.sum('dollar_value').alias('income_total'),\n",
    "            F.stddev('dollar_value').alias('income_deviation'),\n",
    "            F.mean('rate').alias('rate'),\n",
    "            F.count('merchant_name').alias('count_merchant'))\\\n",
    "        .withColumn('income_total', F.col('income_total') * F.col('rate'))\\\n",
    "        .withColumn('income_deviation', F.col('income_deviation') * F.col('rate'))\\\n",
    "        .orderBy(F.col('count_merchant').desc(), F.col('income_total').desc(), F.col('income_deviation').asc())\\\n",
    "        \n",
    "        tdf = tdf.limit(N)\n",
    "\n",
    "        merchants[category] = tdf.select('merchant_name').toPandas()['merchant_name'].to_list()\n",
    "        \n",
    "        # assuming that all income is Normally distributed\n",
    "        income_total[category] = tdf.agg({'income_total': 'sum'}).first()['sum(income_total)']\n",
    "        income_risk[category] = tdf.agg({'income_deviation': 'sum'}).first()['sum(income_deviation)']\n",
    "        counts[category] = tdf.agg({'count_merchant': 'sum'}).first()['sum(count_merchant)']\n",
    "\n",
    "    return pd.DataFrame(merchants), income_total, income_risk, counts"
   ]
  },
  {
   "cell_type": "code",
   "execution_count": 5,
   "metadata": {},
   "outputs": [],
   "source": [
    "categories = ['retail_and_wholesale_trade', 'rental_hiring_and_real_estate', 'arts_and_recreation', 'info_media_and_telecommunications', 'others']"
   ]
  },
  {
   "cell_type": "code",
   "execution_count": 6,
   "metadata": {},
   "outputs": [
    {
     "name": "stderr",
     "output_type": "stream",
     "text": [
      "                                                                                \r"
     ]
    },
    {
     "data": {
      "text/html": [
       "<div>\n",
       "<style scoped>\n",
       "    .dataframe tbody tr th:only-of-type {\n",
       "        vertical-align: middle;\n",
       "    }\n",
       "\n",
       "    .dataframe tbody tr th {\n",
       "        vertical-align: top;\n",
       "    }\n",
       "\n",
       "    .dataframe thead th {\n",
       "        text-align: right;\n",
       "    }\n",
       "</style>\n",
       "<table border=\"1\" class=\"dataframe\">\n",
       "  <thead>\n",
       "    <tr style=\"text-align: right;\">\n",
       "      <th></th>\n",
       "      <th>retail_and_wholesale_trade</th>\n",
       "      <th>rental_hiring_and_real_estate</th>\n",
       "      <th>arts_and_recreation</th>\n",
       "      <th>info_media_and_telecommunications</th>\n",
       "      <th>others</th>\n",
       "    </tr>\n",
       "  </thead>\n",
       "  <tbody>\n",
       "    <tr>\n",
       "      <th>0</th>\n",
       "      <td>Erat Vitae LLP</td>\n",
       "      <td>Quis Massa Mauris Corporation</td>\n",
       "      <td>Magna Sed Industries</td>\n",
       "      <td>Mauris Non Institute</td>\n",
       "      <td>Nec Tellus Ltd</td>\n",
       "    </tr>\n",
       "    <tr>\n",
       "      <th>1</th>\n",
       "      <td>Leo In Consulting</td>\n",
       "      <td>Quam A Felis Incorporated</td>\n",
       "      <td>Ac Urna Consulting</td>\n",
       "      <td>Euismod In Corp.</td>\n",
       "      <td>Tempus Eu Ligula Limited</td>\n",
       "    </tr>\n",
       "    <tr>\n",
       "      <th>2</th>\n",
       "      <td>Pede Nonummy Corp.</td>\n",
       "      <td>Vel Lectus Cum LLC</td>\n",
       "      <td>Mi Consulting</td>\n",
       "      <td>Amet Consulting</td>\n",
       "      <td>Sed Nec Inc.</td>\n",
       "    </tr>\n",
       "    <tr>\n",
       "      <th>3</th>\n",
       "      <td>Non Vestibulum Industries</td>\n",
       "      <td>Mi Eleifend Company</td>\n",
       "      <td>Lorem LLP</td>\n",
       "      <td>Feugiat Sed Nec Institute</td>\n",
       "      <td>Natoque Consulting</td>\n",
       "    </tr>\n",
       "    <tr>\n",
       "      <th>4</th>\n",
       "      <td>Suspendisse Dui Corporation</td>\n",
       "      <td>Tellus Imperdiet Non Inc.</td>\n",
       "      <td>Volutpat Ornare Facilisis Associates</td>\n",
       "      <td>Arcu Sed Eu Incorporated</td>\n",
       "      <td>Gravida Praesent Corp.</td>\n",
       "    </tr>\n",
       "    <tr>\n",
       "      <th>5</th>\n",
       "      <td>Lacus Consulting</td>\n",
       "      <td>Iaculis Enim Corp.</td>\n",
       "      <td>Ligula Tortor Incorporated</td>\n",
       "      <td>Eleifend PC</td>\n",
       "      <td>Mauris Sagittis Corp.</td>\n",
       "    </tr>\n",
       "    <tr>\n",
       "      <th>6</th>\n",
       "      <td>Est Nunc Consulting</td>\n",
       "      <td>Leo Morbi Limited</td>\n",
       "      <td>Massa Suspendisse Corp.</td>\n",
       "      <td>Et Nunc Consulting</td>\n",
       "      <td>Nisl Elementum Ltd</td>\n",
       "    </tr>\n",
       "    <tr>\n",
       "      <th>7</th>\n",
       "      <td>Lorem Ipsum Sodales Industries</td>\n",
       "      <td>Laoreet Inc.</td>\n",
       "      <td>Turpis Nulla Foundation</td>\n",
       "      <td>Posuere Cubilia Curae Corporation</td>\n",
       "      <td>Molestie Arcu Corporation</td>\n",
       "    </tr>\n",
       "    <tr>\n",
       "      <th>8</th>\n",
       "      <td>Ipsum Dolor Sit Corporation</td>\n",
       "      <td>Massa Limited</td>\n",
       "      <td>Elit Curabitur Sed PC</td>\n",
       "      <td>At Sem Corp.</td>\n",
       "      <td>Feugiat Lorem Incorporated</td>\n",
       "    </tr>\n",
       "    <tr>\n",
       "      <th>9</th>\n",
       "      <td>Vehicula Pellentesque Corporation</td>\n",
       "      <td>Fermentum Institute</td>\n",
       "      <td>Nullam Scelerisque Ltd</td>\n",
       "      <td>Suspendisse Incorporated</td>\n",
       "      <td>Risus Odio Auctor Foundation</td>\n",
       "    </tr>\n",
       "  </tbody>\n",
       "</table>\n",
       "</div>"
      ],
      "text/plain": [
       "          retail_and_wholesale_trade  rental_hiring_and_real_estate  \\\n",
       "0                     Erat Vitae LLP  Quis Massa Mauris Corporation   \n",
       "1                  Leo In Consulting      Quam A Felis Incorporated   \n",
       "2                 Pede Nonummy Corp.             Vel Lectus Cum LLC   \n",
       "3          Non Vestibulum Industries            Mi Eleifend Company   \n",
       "4        Suspendisse Dui Corporation      Tellus Imperdiet Non Inc.   \n",
       "5                   Lacus Consulting             Iaculis Enim Corp.   \n",
       "6                Est Nunc Consulting              Leo Morbi Limited   \n",
       "7     Lorem Ipsum Sodales Industries                   Laoreet Inc.   \n",
       "8        Ipsum Dolor Sit Corporation                  Massa Limited   \n",
       "9  Vehicula Pellentesque Corporation            Fermentum Institute   \n",
       "\n",
       "                    arts_and_recreation  info_media_and_telecommunications  \\\n",
       "0                  Magna Sed Industries               Mauris Non Institute   \n",
       "1                    Ac Urna Consulting                   Euismod In Corp.   \n",
       "2                         Mi Consulting                    Amet Consulting   \n",
       "3                             Lorem LLP          Feugiat Sed Nec Institute   \n",
       "4  Volutpat Ornare Facilisis Associates           Arcu Sed Eu Incorporated   \n",
       "5            Ligula Tortor Incorporated                        Eleifend PC   \n",
       "6               Massa Suspendisse Corp.                 Et Nunc Consulting   \n",
       "7               Turpis Nulla Foundation  Posuere Cubilia Curae Corporation   \n",
       "8                 Elit Curabitur Sed PC                       At Sem Corp.   \n",
       "9                Nullam Scelerisque Ltd           Suspendisse Incorporated   \n",
       "\n",
       "                         others  \n",
       "0                Nec Tellus Ltd  \n",
       "1      Tempus Eu Ligula Limited  \n",
       "2                  Sed Nec Inc.  \n",
       "3            Natoque Consulting  \n",
       "4        Gravida Praesent Corp.  \n",
       "5         Mauris Sagittis Corp.  \n",
       "6            Nisl Elementum Ltd  \n",
       "7     Molestie Arcu Corporation  \n",
       "8    Feugiat Lorem Incorporated  \n",
       "9  Risus Odio Auctor Foundation  "
      ]
     },
     "execution_count": 6,
     "metadata": {},
     "output_type": "execute_result"
    }
   ],
   "source": [
    "merchants, total, risk, counts = topNmerchants(sdf, categories, N=10)\n",
    "merchants"
   ]
  },
  {
   "cell_type": "code",
   "execution_count": 57,
   "metadata": {},
   "outputs": [],
   "source": [
    "merchants.to_csv('./merchants.csv', sep=' ', index=False)"
   ]
  },
  {
   "cell_type": "code",
   "execution_count": 7,
   "metadata": {},
   "outputs": [
    {
     "data": {
      "text/plain": [
       "{'retail_and_wholesale_trade': 3624337.2294479636,\n",
       " 'rental_hiring_and_real_estate': 354135.0366890002,\n",
       " 'arts_and_recreation': 921992.9875999995,\n",
       " 'info_media_and_telecommunications': 2296922.6012689797,\n",
       " 'others': 707901.3082929963}"
      ]
     },
     "execution_count": 7,
     "metadata": {},
     "output_type": "execute_result"
    }
   ],
   "source": [
    "total"
   ]
  },
  {
   "cell_type": "code",
   "execution_count": 8,
   "metadata": {},
   "outputs": [
    {
     "data": {
      "text/plain": [
       "{'retail_and_wholesale_trade': 11.665155832760831,\n",
       " 'rental_hiring_and_real_estate': 303.35071177507166,\n",
       " 'arts_and_recreation': 540.7637435210465,\n",
       " 'info_media_and_telecommunications': 38.4802816812951,\n",
       " 'others': 58.81002537036933}"
      ]
     },
     "execution_count": 8,
     "metadata": {},
     "output_type": "execute_result"
    }
   ],
   "source": [
    "risk"
   ]
  },
  {
   "cell_type": "code",
   "execution_count": 9,
   "metadata": {},
   "outputs": [
    {
     "data": {
      "text/plain": [
       "{'retail_and_wholesale_trade': 2328642,\n",
       " 'rental_hiring_and_real_estate': 18540,\n",
       " 'arts_and_recreation': 12759,\n",
       " 'info_media_and_telecommunications': 454654,\n",
       " 'others': 92509}"
      ]
     },
     "execution_count": 9,
     "metadata": {},
     "output_type": "execute_result"
    }
   ],
   "source": [
    "counts"
   ]
  },
  {
   "cell_type": "code",
   "execution_count": 13,
   "metadata": {},
   "outputs": [
    {
     "name": "stdout",
     "output_type": "stream",
     "text": [
      "Average Daily Income:\n",
      "(13040.313454693725 <- 3 std - | 13045.031622605511 | - 3 std -> 13049.749790517297)\n"
     ]
    },
    {
     "name": "stdout",
     "output_type": "stream",
     "text": [
      "22/10/06 17:44:55 WARN HeartbeatReceiver: Removing executor driver with no recent heartbeats: 904418 ms exceeds timeout 120000 ms\n",
      "22/10/06 17:44:55 WARN SparkContext: Killing executors is not supported by current scheduler.\n"
     ]
    }
   ],
   "source": [
    "mu = sum(total.values()) / days\n",
    "sigma = sum(risk.values()) / days\n",
    "\n",
    "print('Average Daily Income:')\n",
    "print(f'({mu - (3 * sigma)} <- 3 std - | {mu} | - 3 std -> {mu + (3 * sigma)})')"
   ]
  }
 ],
 "metadata": {
  "kernelspec": {
   "display_name": "Python 3.9.7 64-bit",
   "language": "python",
   "name": "python3"
  },
  "language_info": {
   "codemirror_mode": {
    "name": "ipython",
    "version": 3
   },
   "file_extension": ".py",
   "mimetype": "text/x-python",
   "name": "python",
   "nbconvert_exporter": "python",
   "pygments_lexer": "ipython3",
   "version": "3.9.7"
  },
  "orig_nbformat": 4,
  "vscode": {
   "interpreter": {
    "hash": "aee8b7b246df8f9039afb4144a1f6fd8d2ca17a180786b69acc140d282b71a49"
   }
  }
 },
 "nbformat": 4,
 "nbformat_minor": 2
}
