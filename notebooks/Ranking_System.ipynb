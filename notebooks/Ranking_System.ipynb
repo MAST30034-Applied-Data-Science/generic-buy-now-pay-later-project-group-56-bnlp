{
 "cells": [
  {
   "cell_type": "code",
   "execution_count": 13,
   "metadata": {},
   "outputs": [
    {
     "data": {
      "text/html": [
       "<table border='1'>\n",
       "<tr><th>merchant_name</th><th>user_id</th><th>dollar_value</th><th>order_datetime</th><th>rate</th><th>category</th><th>subcategory</th><th>estimated_region_population_2021_sum</th><th>persons_earners_2018-19_sum</th><th>mean_earnings_2018-19_avg</th><th>sum_earnings_2018-19_sum</th><th>median_earnings_2018-19_avg</th><th>med_age_earners_2018-19_avg</th></tr>\n",
       "<tr><td>Dolor Dapibus Gra...</td><td>8913</td><td>51.28</td><td>2021-07-24</td><td>0.0312</td><td>retail_and_wholes...</td><td>household_goods_r...</td><td>31499</td><td>28552.0</td><td>70738.0</td><td>2.01971729E9</td><td>28339.0</td><td>31.0</td></tr>\n",
       "<tr><td>Lorem Foundation</td><td>15797</td><td>5.84</td><td>2021-11-26</td><td>0.0655</td><td>retail_and_wholes...</td><td>household_goods_r...</td><td>3266</td><td>2023.0</td><td>60415.0</td><td>1.22219664E8</td><td>49925.0</td><td>48.0</td></tr>\n",
       "<tr><td>Euismod Urna Inst...</td><td>4694</td><td>0.36</td><td>2022-05-07</td><td>0.0505</td><td>retail_and_wholes...</td><td>department_stores</td><td>22545</td><td>14289.0</td><td>84223.0</td><td>1.203458028E9</td><td>54884.0</td><td>47.0</td></tr>\n",
       "<tr><td>Mauris Inc.</td><td>3260</td><td>5.72</td><td>2022-04-18</td><td>0.0294</td><td>info_media_and_te...</td><td>null</td><td>43353</td><td>25261.0</td><td>82029.0</td><td>1.628989984E9</td><td>54081.0</td><td>44.333333333333336</td></tr>\n",
       "<tr><td>Lobortis Ultrices...</td><td>15618</td><td>69.08</td><td>2022-08-13</td><td>0.0631</td><td>retail_and_wholes...</td><td>department_stores</td><td>37268</td><td>22626.0</td><td>57968.333333333336</td><td>1.310262977E9</td><td>53277.333333333336</td><td>44.0</td></tr>\n",
       "<tr><td>Imperdiet Non LLC</td><td>22134</td><td>129.51</td><td>2021-10-11</td><td>0.0684</td><td>info_media_and_te...</td><td>null</td><td>7482</td><td>4086.0</td><td>43661.0</td><td>1.77649122E8</td><td>39343.5</td><td>46.0</td></tr>\n",
       "<tr><td>Eget Venenatis A ...</td><td>8914</td><td>313.78</td><td>2021-04-25</td><td>0.0687</td><td>retail_and_wholes...</td><td>department_stores</td><td>97517</td><td>50162.0</td><td>63845.8</td><td>3.1775621E9</td><td>55556.4</td><td>39.0</td></tr>\n",
       "<tr><td>Non Vestibulum In...</td><td>1604</td><td>21.55</td><td>2021-05-13</td><td>0.058</td><td>retail_and_wholes...</td><td>department_stores</td><td>4296</td><td>2344.0</td><td>51198.0</td><td>1.20007795E8</td><td>43117.0</td><td>48.0</td></tr>\n",
       "<tr><td>Lobortis Ultrices...</td><td>2786</td><td>60.47</td><td>2022-08-14</td><td>0.0631</td><td>retail_and_wholes...</td><td>department_stores</td><td>8448</td><td>4341.0</td><td>54531.0</td><td>2.36717978E8</td><td>46601.0</td><td>45.0</td></tr>\n",
       "<tr><td>Lobortis Ultrices...</td><td>21018</td><td>56.28</td><td>2021-12-27</td><td>0.0631</td><td>retail_and_wholes...</td><td>department_stores</td><td>14916</td><td>7568.0</td><td>54270.0</td><td>4.23766641E8</td><td>50905.666666666664</td><td>40.666666666666664</td></tr>\n",
       "</table>\n"
      ],
      "text/plain": [
       "+--------------------+-------+------------+--------------+------+--------------------+--------------------+------------------------------------+---------------------------+-------------------------+------------------------+---------------------------+---------------------------+\n",
       "|       merchant_name|user_id|dollar_value|order_datetime|  rate|            category|         subcategory|estimated_region_population_2021_sum|persons_earners_2018-19_sum|mean_earnings_2018-19_avg|sum_earnings_2018-19_sum|median_earnings_2018-19_avg|med_age_earners_2018-19_avg|\n",
       "+--------------------+-------+------------+--------------+------+--------------------+--------------------+------------------------------------+---------------------------+-------------------------+------------------------+---------------------------+---------------------------+\n",
       "|Dolor Dapibus Gra...|   8913|       51.28|    2021-07-24|0.0312|retail_and_wholes...|household_goods_r...|                               31499|                    28552.0|                  70738.0|            2.01971729E9|                    28339.0|                       31.0|\n",
       "|    Lorem Foundation|  15797|        5.84|    2021-11-26|0.0655|retail_and_wholes...|household_goods_r...|                                3266|                     2023.0|                  60415.0|            1.22219664E8|                    49925.0|                       48.0|\n",
       "|Euismod Urna Inst...|   4694|        0.36|    2022-05-07|0.0505|retail_and_wholes...|   department_stores|                               22545|                    14289.0|                  84223.0|           1.203458028E9|                    54884.0|                       47.0|\n",
       "|         Mauris Inc.|   3260|        5.72|    2022-04-18|0.0294|info_media_and_te...|                null|                               43353|                    25261.0|                  82029.0|           1.628989984E9|                    54081.0|         44.333333333333336|\n",
       "|Lobortis Ultrices...|  15618|       69.08|    2022-08-13|0.0631|retail_and_wholes...|   department_stores|                               37268|                    22626.0|       57968.333333333336|           1.310262977E9|         53277.333333333336|                       44.0|\n",
       "|   Imperdiet Non LLC|  22134|      129.51|    2021-10-11|0.0684|info_media_and_te...|                null|                                7482|                     4086.0|                  43661.0|            1.77649122E8|                    39343.5|                       46.0|\n",
       "|Eget Venenatis A ...|   8914|      313.78|    2021-04-25|0.0687|retail_and_wholes...|   department_stores|                               97517|                    50162.0|                  63845.8|             3.1775621E9|                    55556.4|                       39.0|\n",
       "|Non Vestibulum In...|   1604|       21.55|    2021-05-13| 0.058|retail_and_wholes...|   department_stores|                                4296|                     2344.0|                  51198.0|            1.20007795E8|                    43117.0|                       48.0|\n",
       "|Lobortis Ultrices...|   2786|       60.47|    2022-08-14|0.0631|retail_and_wholes...|   department_stores|                                8448|                     4341.0|                  54531.0|            2.36717978E8|                    46601.0|                       45.0|\n",
       "|Lobortis Ultrices...|  21018|       56.28|    2021-12-27|0.0631|retail_and_wholes...|   department_stores|                               14916|                     7568.0|                  54270.0|            4.23766641E8|         50905.666666666664|         40.666666666666664|\n",
       "+--------------------+-------+------------+--------------+------+--------------------+--------------------+------------------------------------+---------------------------+-------------------------+------------------------+---------------------------+---------------------------+"
      ]
     },
     "execution_count": 13,
     "metadata": {},
     "output_type": "execute_result"
    }
   ],
   "source": [
    "from pyspark.sql import SparkSession, functions as F\n",
    "import pandas as pd\n",
    "\n",
    "# Create a spark session\n",
    "spark = (\n",
    "    SparkSession.builder.appName(\"BNPL Project\")\n",
    "    .config(\"spark.sql.repl.eagerEval.enabled\", True) \n",
    "    .config(\"spark.sql.parquet.cacheMetadata\", \"true\")\n",
    "    .config(\"spark.driver.memory\", \"4g\")\n",
    "    .config(\"spark.sql.session.timeZone\", \"Etc/UTC\")\n",
    "    .getOrCreate()\n",
    ")\n",
    "\n",
    "sdf = spark.read.parquet(\"../data/curated/process_data.parquet/\")\n",
    "\n",
    "cols = ['merchant_name', 'user_id', 'dollar_value', 'order_datetime', 'rate', 'category', 'subcategory', 'estimated_region_population_2021_sum',\t'persons_earners_2018-19_sum', 'mean_earnings_2018-19_avg', 'sum_earnings_2018-19_sum',\t'median_earnings_2018-19_avg', 'med_age_earners_2018-19_avg']\n",
    "sdf = sdf.select(cols)\n",
    "\n",
    "sdf.limit(10)"
   ]
  },
  {
   "cell_type": "markdown",
   "metadata": {},
   "source": [
    "### 1. **Identify** Merchants with the greatest gross and lowest volatility in income and the greatest evidence of performance"
   ]
  },
  {
   "cell_type": "code",
   "execution_count": 14,
   "metadata": {},
   "outputs": [],
   "source": [
    "fullSdf = sdf.groupBy('merchant_name').agg(\n",
    "        F.sum('dollar_value').alias('income_total'),\n",
    "        F.stddev('dollar_value').alias('income_deviation'),\n",
    "        F.mean('rate').alias('rate'),\n",
    "        F.count('merchant_name').alias('count_merchant'))\\\n",
    "    .withColumn('income_total', F.col('income_total') * F.col('rate'))\\\n",
    "    .withColumn('income_deviation', F.col('income_deviation') * F.col('rate'))\\\n",
    "    .orderBy(F.col('count_merchant').desc(), F.col('income_total').desc(), F.col('income_deviation').asc())"
   ]
  },
  {
   "cell_type": "code",
   "execution_count": 15,
   "metadata": {},
   "outputs": [],
   "source": [
    "days = sdf.select('order_datetime').distinct().count()"
   ]
  },
  {
   "cell_type": "markdown",
   "metadata": {},
   "source": [
    "### 2. **Ranking** Merchants by Categories"
   ]
  },
  {
   "cell_type": "code",
   "execution_count": 16,
   "metadata": {},
   "outputs": [],
   "source": [
    "def topNmerchants(sdf, categories, N):\n",
    "    merchants = {}\n",
    "    income_total = {}\n",
    "    income_risk = {}\n",
    "    counts = {}\n",
    "\n",
    "    for category in categories:\n",
    "        tdf = sdf.where(F.col('category') == category)\n",
    "        tdf = tdf.groupBy('merchant_name').agg(\n",
    "            F.sum('dollar_value').alias('income_total'),\n",
    "            F.stddev('dollar_value').alias('income_deviation'),\n",
    "            F.mean('rate').alias('rate'),\n",
    "            F.count('merchant_name').alias('count_merchant'))\\\n",
    "        .withColumn('income_total', F.col('income_total') * F.col('rate'))\\\n",
    "        .withColumn('income_deviation', F.col('income_deviation') * F.col('rate'))\\\n",
    "        .orderBy(F.col('count_merchant').desc(), F.col('income_total').desc(), F.col('income_deviation').asc())\\\n",
    "        \n",
    "        tdf = tdf.limit(N)\n",
    "\n",
    "        merchants[category] = tdf.select('merchant_name').toPandas()['merchant_name'].to_list()\n",
    "        \n",
    "        # assuming that all income is Normally distributed\n",
    "        income_total[category] = tdf.agg({'income_total': 'sum'}).first()['sum(income_total)']\n",
    "        income_risk[category] = tdf.agg({'income_deviation': 'sum'}).first()['sum(income_deviation)']\n",
    "        counts[category] = tdf.agg({'count_merchant': 'sum'}).first()['sum(count_merchant)']\n",
    "\n",
    "    return pd.DataFrame(merchants), income_total, income_risk, counts"
   ]
  },
  {
   "cell_type": "code",
   "execution_count": 17,
   "metadata": {},
   "outputs": [],
   "source": [
    "categories = ['retail_and_wholesale_trade', 'rental_hiring_and_real_estate', 'arts_and_recreation', 'info_media_and_telecommunications', 'others']"
   ]
  },
  {
   "cell_type": "code",
   "execution_count": 18,
   "metadata": {},
   "outputs": [
    {
     "name": "stderr",
     "output_type": "stream",
     "text": [
      "                                                                                \r"
     ]
    },
    {
     "data": {
      "text/html": [
       "<div>\n",
       "<style scoped>\n",
       "    .dataframe tbody tr th:only-of-type {\n",
       "        vertical-align: middle;\n",
       "    }\n",
       "\n",
       "    .dataframe tbody tr th {\n",
       "        vertical-align: top;\n",
       "    }\n",
       "\n",
       "    .dataframe thead th {\n",
       "        text-align: right;\n",
       "    }\n",
       "</style>\n",
       "<table border=\"1\" class=\"dataframe\">\n",
       "  <thead>\n",
       "    <tr style=\"text-align: right;\">\n",
       "      <th></th>\n",
       "      <th>retail_and_wholesale_trade</th>\n",
       "      <th>rental_hiring_and_real_estate</th>\n",
       "      <th>arts_and_recreation</th>\n",
       "      <th>info_media_and_telecommunications</th>\n",
       "      <th>others</th>\n",
       "    </tr>\n",
       "  </thead>\n",
       "  <tbody>\n",
       "    <tr>\n",
       "      <th>0</th>\n",
       "      <td>Erat Vitae LLP</td>\n",
       "      <td>Quis Massa Mauris Corporation</td>\n",
       "      <td>Ac Urna Consulting</td>\n",
       "      <td>Mauris Non Institute</td>\n",
       "      <td>Nec Tellus Ltd</td>\n",
       "    </tr>\n",
       "    <tr>\n",
       "      <th>1</th>\n",
       "      <td>Leo In Consulting</td>\n",
       "      <td>Quam A Felis Incorporated</td>\n",
       "      <td>Magna Sed Industries</td>\n",
       "      <td>Euismod In Corp.</td>\n",
       "      <td>Tempus Eu Ligula Limited</td>\n",
       "    </tr>\n",
       "    <tr>\n",
       "      <th>2</th>\n",
       "      <td>Pede Nonummy Corp.</td>\n",
       "      <td>Vel Lectus Cum LLC</td>\n",
       "      <td>Mi Consulting</td>\n",
       "      <td>Feugiat Sed Nec Institute</td>\n",
       "      <td>Sed Nec Inc.</td>\n",
       "    </tr>\n",
       "    <tr>\n",
       "      <th>3</th>\n",
       "      <td>Non Vestibulum Industries</td>\n",
       "      <td>Mi Eleifend Company</td>\n",
       "      <td>Lorem LLP</td>\n",
       "      <td>Amet Consulting</td>\n",
       "      <td>Natoque Consulting</td>\n",
       "    </tr>\n",
       "    <tr>\n",
       "      <th>4</th>\n",
       "      <td>Suspendisse Dui Corporation</td>\n",
       "      <td>Iaculis Enim Corp.</td>\n",
       "      <td>Volutpat Ornare Facilisis Associates</td>\n",
       "      <td>Arcu Sed Eu Incorporated</td>\n",
       "      <td>Gravida Praesent Corp.</td>\n",
       "    </tr>\n",
       "    <tr>\n",
       "      <th>5</th>\n",
       "      <td>Lacus Consulting</td>\n",
       "      <td>Leo Morbi Limited</td>\n",
       "      <td>Ligula Tortor Incorporated</td>\n",
       "      <td>Eleifend PC</td>\n",
       "      <td>Mauris Sagittis Corp.</td>\n",
       "    </tr>\n",
       "    <tr>\n",
       "      <th>6</th>\n",
       "      <td>Est Nunc Consulting</td>\n",
       "      <td>Laoreet Inc.</td>\n",
       "      <td>Nullam Scelerisque Ltd</td>\n",
       "      <td>Posuere Cubilia Curae Corporation</td>\n",
       "      <td>Nisl Elementum Ltd</td>\n",
       "    </tr>\n",
       "    <tr>\n",
       "      <th>7</th>\n",
       "      <td>Lorem Ipsum Sodales Industries</td>\n",
       "      <td>Massa Limited</td>\n",
       "      <td>Massa LLP</td>\n",
       "      <td>At Sem Corp.</td>\n",
       "      <td>Molestie Arcu Corporation</td>\n",
       "    </tr>\n",
       "    <tr>\n",
       "      <th>8</th>\n",
       "      <td>Ipsum Dolor Sit Corporation</td>\n",
       "      <td>Fermentum Institute</td>\n",
       "      <td>Non Cursus LLP</td>\n",
       "      <td>Et Nunc Consulting</td>\n",
       "      <td>Feugiat Lorem Incorporated</td>\n",
       "    </tr>\n",
       "    <tr>\n",
       "      <th>9</th>\n",
       "      <td>Vehicula Pellentesque Corporation</td>\n",
       "      <td>Morbi Non Corp.</td>\n",
       "      <td>Mollis Duis Sit Foundation</td>\n",
       "      <td>Suspendisse Incorporated</td>\n",
       "      <td>Risus Odio Auctor Foundation</td>\n",
       "    </tr>\n",
       "  </tbody>\n",
       "</table>\n",
       "</div>"
      ],
      "text/plain": [
       "          retail_and_wholesale_trade  rental_hiring_and_real_estate  \\\n",
       "0                     Erat Vitae LLP  Quis Massa Mauris Corporation   \n",
       "1                  Leo In Consulting      Quam A Felis Incorporated   \n",
       "2                 Pede Nonummy Corp.             Vel Lectus Cum LLC   \n",
       "3          Non Vestibulum Industries            Mi Eleifend Company   \n",
       "4        Suspendisse Dui Corporation             Iaculis Enim Corp.   \n",
       "5                   Lacus Consulting              Leo Morbi Limited   \n",
       "6                Est Nunc Consulting                   Laoreet Inc.   \n",
       "7     Lorem Ipsum Sodales Industries                  Massa Limited   \n",
       "8        Ipsum Dolor Sit Corporation            Fermentum Institute   \n",
       "9  Vehicula Pellentesque Corporation                Morbi Non Corp.   \n",
       "\n",
       "                    arts_and_recreation  info_media_and_telecommunications  \\\n",
       "0                    Ac Urna Consulting               Mauris Non Institute   \n",
       "1                  Magna Sed Industries                   Euismod In Corp.   \n",
       "2                         Mi Consulting          Feugiat Sed Nec Institute   \n",
       "3                             Lorem LLP                    Amet Consulting   \n",
       "4  Volutpat Ornare Facilisis Associates           Arcu Sed Eu Incorporated   \n",
       "5            Ligula Tortor Incorporated                        Eleifend PC   \n",
       "6                Nullam Scelerisque Ltd  Posuere Cubilia Curae Corporation   \n",
       "7                             Massa LLP                       At Sem Corp.   \n",
       "8                        Non Cursus LLP                 Et Nunc Consulting   \n",
       "9            Mollis Duis Sit Foundation           Suspendisse Incorporated   \n",
       "\n",
       "                         others  \n",
       "0                Nec Tellus Ltd  \n",
       "1      Tempus Eu Ligula Limited  \n",
       "2                  Sed Nec Inc.  \n",
       "3            Natoque Consulting  \n",
       "4        Gravida Praesent Corp.  \n",
       "5         Mauris Sagittis Corp.  \n",
       "6            Nisl Elementum Ltd  \n",
       "7     Molestie Arcu Corporation  \n",
       "8    Feugiat Lorem Incorporated  \n",
       "9  Risus Odio Auctor Foundation  "
      ]
     },
     "execution_count": 18,
     "metadata": {},
     "output_type": "execute_result"
    }
   ],
   "source": [
    "merchants, total, risk, counts = topNmerchants(sdf, categories, N=10)\n",
    "merchants"
   ]
  },
  {
   "cell_type": "code",
   "execution_count": 19,
   "metadata": {},
   "outputs": [],
   "source": [
    "merchants.to_csv('./merchants.csv', sep=' ', index=False)"
   ]
  },
  {
   "cell_type": "code",
   "execution_count": 20,
   "metadata": {},
   "outputs": [
    {
     "data": {
      "text/plain": [
       "{'retail_and_wholesale_trade': 3613688.9746479657,\n",
       " 'rental_hiring_and_real_estate': 351859.06383600016,\n",
       " 'arts_and_recreation': 878824.603607,\n",
       " 'info_media_and_telecommunications': 2282460.32927698,\n",
       " 'others': 705908.5849809962}"
      ]
     },
     "execution_count": 20,
     "metadata": {},
     "output_type": "execute_result"
    }
   ],
   "source": [
    "total"
   ]
  },
  {
   "cell_type": "code",
   "execution_count": 21,
   "metadata": {},
   "outputs": [
    {
     "data": {
      "text/plain": [
       "{'retail_and_wholesale_trade': 11.66295848134123,\n",
       " 'rental_hiring_and_real_estate': 322.02846931549146,\n",
       " 'arts_and_recreation': 650.0662699383139,\n",
       " 'info_media_and_telecommunications': 38.42206648478936,\n",
       " 'others': 58.94039668372187}"
      ]
     },
     "execution_count": 21,
     "metadata": {},
     "output_type": "execute_result"
    }
   ],
   "source": [
    "risk"
   ]
  },
  {
   "cell_type": "code",
   "execution_count": 22,
   "metadata": {},
   "outputs": [
    {
     "data": {
      "text/plain": [
       "{'retail_and_wholesale_trade': 2324636,\n",
       " 'rental_hiring_and_real_estate': 18007,\n",
       " 'arts_and_recreation': 12123,\n",
       " 'info_media_and_telecommunications': 449654,\n",
       " 'others': 92071}"
      ]
     },
     "execution_count": 22,
     "metadata": {},
     "output_type": "execute_result"
    }
   ],
   "source": [
    "counts"
   ]
  },
  {
   "cell_type": "code",
   "execution_count": 23,
   "metadata": {},
   "outputs": [
    {
     "name": "stdout",
     "output_type": "stream",
     "text": [
      "Average Daily Income:\n",
      "(12919.964019581239 <- 3 std - | 12925.316099585712 | - 3 std -> 12930.668179590186)\n"
     ]
    }
   ],
   "source": [
    "mu = sum(total.values()) / days\n",
    "sigma = sum(risk.values()) / days\n",
    "\n",
    "print('Average Daily Income:')\n",
    "print(f'({mu - (3 * sigma)} <- 3 std - | {mu} | - 3 std -> {mu + (3 * sigma)})')"
   ]
  }
 ],
 "metadata": {
  "kernelspec": {
   "display_name": "Python 3.9.7 64-bit",
   "language": "python",
   "name": "python3"
  },
  "language_info": {
   "codemirror_mode": {
    "name": "ipython",
    "version": 3
   },
   "file_extension": ".py",
   "mimetype": "text/x-python",
   "name": "python",
   "nbconvert_exporter": "python",
   "pygments_lexer": "ipython3",
   "version": "3.9.7"
  },
  "orig_nbformat": 4,
  "vscode": {
   "interpreter": {
    "hash": "aee8b7b246df8f9039afb4144a1f6fd8d2ca17a180786b69acc140d282b71a49"
   }
  }
 },
 "nbformat": 4,
 "nbformat_minor": 2
}
