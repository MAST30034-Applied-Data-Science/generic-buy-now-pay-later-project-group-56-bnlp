{
 "cells": [
  {
   "cell_type": "code",
   "execution_count": 1,
   "metadata": {},
   "outputs": [],
   "source": [
    "# Importing pyspark libraries\n",
    "from pyspark.sql import SparkSession, functions as F\n",
    "from pyspark.sql.functions import mean\n",
    "from pyspark.sql.types import IntegerType\n",
    "\n",
    "# Importing model libraries\n",
    "from pyspark.ml.feature import (StringIndexer, OneHotEncoder, VectorAssembler)\n",
    "from pyspark.ml.feature import StandardScaler\n",
    "from pyspark.ml.clustering import KMeans\n",
    "from pyspark.ml.evaluation import ClusteringEvaluator"
   ]
  },
  {
   "cell_type": "code",
   "execution_count": 2,
   "metadata": {},
   "outputs": [
    {
     "name": "stdout",
     "output_type": "stream",
     "text": [
      "22/09/29 20:29:04 WARN Utils: Your hostname, Bhavleens-MacBook-Pro.local resolves to a loopback address: 127.0.0.1; using 192.168.1.7 instead (on interface en0)\n",
      "22/09/29 20:29:04 WARN Utils: Set SPARK_LOCAL_IP if you need to bind to another address\n"
     ]
    },
    {
     "name": "stderr",
     "output_type": "stream",
     "text": [
      "Setting default log level to \"WARN\".\n",
      "To adjust logging level use sc.setLogLevel(newLevel). For SparkR, use setLogLevel(newLevel).\n"
     ]
    },
    {
     "name": "stdout",
     "output_type": "stream",
     "text": [
      "22/09/29 20:29:05 WARN NativeCodeLoader: Unable to load native-hadoop library for your platform... using builtin-java classes where applicable\n"
     ]
    }
   ],
   "source": [
    "# Create a spark session\n",
    "spark = (\n",
    "    SparkSession.builder.appName(\"BNPL Project\")\n",
    "    .config(\"spark.sql.repl.eagerEval.enabled\", True) \n",
    "    .config(\"spark.sql.parquet.cacheMetadata\", \"true\")\n",
    "    .config(\"spark.driver.memory\", \"4g\")\n",
    "    .config(\"spark.sql.session.timeZone\", \"Etc/UTC\")\n",
    "    .getOrCreate()\n",
    ")"
   ]
  },
  {
   "cell_type": "markdown",
   "metadata": {},
   "source": [
    "## Loading Dataset"
   ]
  },
  {
   "cell_type": "code",
   "execution_count": 4,
   "metadata": {},
   "outputs": [
    {
     "name": "stderr",
     "output_type": "stream",
     "text": [
      "                                                                                \r"
     ]
    }
   ],
   "source": [
    "#Read data\n",
    "sdf = spark.read.parquet(\"../data/curated/part-00013-47f00a8c-554d-4703-b168-5eb79335c6d7-c000.snappy.parquet\")"
   ]
  },
  {
   "cell_type": "markdown",
   "metadata": {},
   "source": [
    "## Feature Selection"
   ]
  },
  {
   "cell_type": "code",
   "execution_count": 23,
   "metadata": {},
   "outputs": [],
   "source": [
    "# Selecting attributes\n",
    "sdf = sdf.withColumn('postcode', sdf[\"postcode\"].cast(IntegerType()))\n",
    "features = ['merchant_abn', 'consumer_id', 'dollar_value', 'postcode', 'gender', 'revenue', 'rate', \n",
    "            'category', 'merchant_fraud_probability', 'user_fraud_probability', \n",
    "            'estimated_region_population_2021_sum', 'mean_earnings_2018-19_avg']\n",
    "sdf = sdf.select(features)\n",
    "\n",
    "# Replacing Null vlue\n",
    "# For fraud probability -> 0\n",
    "# For income, population -> mean\n",
    "averages = sdf.agg({'estimated_region_population_2021_sum': 'mean', 'mean_earnings_2018-19_avg': 'mean'}).collect()\n",
    "avg = [averages[0][0], averages[0][1]]\n",
    "sdf = sdf.fillna(value= avg[0], subset=['estimated_region_population_2021_sum'])\n",
    "sdf = sdf.fillna(value= avg[1], subset=['mean_earnings_2018-19_avg'])\n",
    "sdf = sdf.fillna(value= 0, subset= ['merchant_fraud_probability', 'user_fraud_probability'])"
   ]
  },
  {
   "cell_type": "markdown",
   "metadata": {},
   "source": [
    "## Converting attributes to Feature vector"
   ]
  },
  {
   "cell_type": "markdown",
   "metadata": {},
   "source": [
    "### Category data to Numeric"
   ]
  },
  {
   "cell_type": "code",
   "execution_count": null,
   "metadata": {},
   "outputs": [],
   "source": [
    "# Discretion\n",
    "stringToNum = StringIndexer(inputCol= 'gender', outputCol= 'genderNum')\n",
    "output_data = stringToNum.fit(sdf).transform(sdf)\n",
    "\n",
    "stringToNum = StringIndexer(inputCol= 'revenue', outputCol= 'revenueNum')\n",
    "output_data = stringToNum.fit(output_data).transform(output_data)\n",
    "\n",
    "stringToNum = StringIndexer(inputCol= 'category', outputCol= 'categoryNum')\n",
    "output_data = stringToNum.fit(output_data).transform(output_data)"
   ]
  },
  {
   "cell_type": "markdown",
   "metadata": {},
   "source": [
    "### One hot encoding "
   ]
  },
  {
   "cell_type": "code",
   "execution_count": null,
   "metadata": {},
   "outputs": [],
   "source": [
    "# One hot encoding\n",
    "encoder = OneHotEncoder(inputCol= 'genderNum', outputCol = 'genderVec')\n",
    "onehotdata = encoder.fit(output_data).transform(output_data)\n",
    "\n",
    "encoder = OneHotEncoder(inputCol= 'revenueNum', outputCol = 'revenueVec')\n",
    "onehotdata = encoder.fit(onehotdata).transform(onehotdata)\n",
    "\n",
    "encoder = OneHotEncoder(inputCol= 'categoryNum', outputCol = 'categoryVec')\n",
    "onehotdata = encoder.fit(onehotdata).transform(onehotdata)"
   ]
  },
  {
   "cell_type": "markdown",
   "metadata": {},
   "source": [
    "### Converting to feature vector"
   ]
  },
  {
   "cell_type": "code",
   "execution_count": 24,
   "metadata": {},
   "outputs": [
    {
     "name": "stderr",
     "output_type": "stream",
     "text": [
      "                                                                                \r"
     ]
    }
   ],
   "source": [
    "# Converting to vector\n",
    "assembler1 = VectorAssembler(\n",
    "inputCols= ['merchant_abn', 'consumer_id', 'dollar_value', 'postcode', 'genderVec', 'revenueVec', 'rate', 'categoryVec', 'merchant_fraud_probability', 'user_fraud_probability'],\n",
    "outputCol='features')\n",
    "result = assembler1.transform(onehotdata)"
   ]
  },
  {
   "cell_type": "markdown",
   "metadata": {},
   "source": [
    "### Standardizing vector"
   ]
  },
  {
   "cell_type": "code",
   "execution_count": 25,
   "metadata": {},
   "outputs": [
    {
     "name": "stderr",
     "output_type": "stream",
     "text": [
      "                                                                                \r"
     ]
    }
   ],
   "source": [
    "# standardizing the feature vector\n",
    "scale = StandardScaler(inputCol='features',outputCol='standardized')\n",
    "data_scale = scale.fit(result)\n",
    "data_scale_output = data_scale.transform(result)"
   ]
  },
  {
   "cell_type": "markdown",
   "metadata": {},
   "source": [
    "## Training Kmeans Model"
   ]
  },
  {
   "cell_type": "markdown",
   "metadata": {},
   "source": [
    "### Choosing value of k using Elbow Method"
   ]
  },
  {
   "cell_type": "code",
   "execution_count": 49,
   "metadata": {},
   "outputs": [
    {
     "name": "stderr",
     "output_type": "stream",
     "text": [
      "                                                                                \r"
     ]
    }
   ],
   "source": [
    "import numpy as np\n",
    "cost = np.zeros(11)\n",
    "evaluator = ClusteringEvaluator(predictionCol='prediction', featuresCol='standardized', \\\n",
    "                                metricName='silhouette', distanceMeasure='squaredEuclidean')\n",
    "for k in range(2,11):\n",
    "    KMeans_algo=KMeans(featuresCol='standardized', k= k)\n",
    "    model = KMeans_algo.fit(data_scale_output)\n",
    "    predictions = model.transform(data_scale_output)\n",
    "    cost[k] = evaluator.evaluate(predictions) "
   ]
  },
  {
   "cell_type": "code",
   "execution_count": 51,
   "metadata": {},
   "outputs": [
    {
     "data": {
      "image/png": "[encoded data removed]",
      "text/plain": [
       "<Figure size 800x600 with 1 Axes>"
      ]
     },
     "metadata": {},
     "output_type": "display_data"
    }
   ],
   "source": [
    "import numpy as np\n",
    "import matplotlib.mlab as mlab\n",
    "import matplotlib.pyplot as plt\n",
    "import seaborn as sbs\n",
    "from matplotlib.ticker import MaxNLocator\n",
    "\n",
    "fig, ax = plt.subplots(1,1, figsize =(8,6))\n",
    "ax.plot(range(2,11),cost[2:])\n",
    "ax.set_xlabel('k')\n",
    "ax.set_ylabel('cost')\n",
    "ax.xaxis.set_major_locator(MaxNLocator(integer=True))\n",
    "plt.show()"
   ]
  },
  {
   "cell_type": "code",
   "execution_count": 47,
   "metadata": {},
   "outputs": [
    {
     "name": "stderr",
     "output_type": "stream",
     "text": [
      "                                                                                \r"
     ]
    },
    {
     "data": {
      "text/plain": [
       "0.330262172567472"
      ]
     },
     "execution_count": 47,
     "metadata": {},
     "output_type": "execute_result"
    }
   ],
   "source": [
    "KMeans_algo=KMeans(featuresCol='standardized', k= 6)\n",
    "KMeans_fit=KMeans_algo.fit(data_scale_output)\n",
    "output=KMeans_fit.transform(data_scale_output)  \n",
    "score=evaluator.evaluate(output)\n",
    "score"
   ]
  }
 ],
 "metadata": {
  "kernelspec": {
   "display_name": "Python 3.10.7 64-bit",
   "language": "python",
   "name": "python3"
  },
  "language_info": {
   "codemirror_mode": {
    "name": "ipython",
    "version": 3
   },
   "file_extension": ".py",
   "mimetype": "text/x-python",
   "name": "python",
   "nbconvert_exporter": "python",
   "pygments_lexer": "ipython3",
   "version": "3.10.7"
  },
  "orig_nbformat": 4,
  "vscode": {
   "interpreter": {
    "hash": "aee8b7b246df8f9039afb4144a1f6fd8d2ca17a180786b69acc140d282b71a49"
   }
  }
 },
 "nbformat": 4,
 "nbformat_minor": 2
}
