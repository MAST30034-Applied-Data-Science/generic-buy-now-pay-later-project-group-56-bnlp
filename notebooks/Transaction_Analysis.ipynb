{
 "cells": [
  {
   "cell_type": "markdown",
   "metadata": {},
   "source": [
    "## Transaction Data Visualisation"
   ]
  },
  {
   "cell_type": "code",
   "execution_count": 23,
   "metadata": {},
   "outputs": [],
   "source": [
    "from pyspark.sql import SparkSession, functions as F\n",
    "from pyspark.sql.functions import lit, when\n",
    "\n",
    "# Create a spark session\n",
    "spark = (\n",
    "    SparkSession.builder.appName(\"BNPL Project\")\n",
    "    .config(\"spark.sql.repl.eagerEval.enabled\", True) \n",
    "    .config(\"spark.sql.parquet.cacheMetadata\", \"true\")\n",
    "    .config(\"spark.driver.memory\", \"4g\")\n",
    "    .config(\"spark.sql.session.timeZone\", \"Etc/UTC\")\n",
    "    .getOrCreate()\n",
    ")"
   ]
  },
  {
   "cell_type": "markdown",
   "metadata": {},
   "source": [
    "### Load Dataset"
   ]
  },
  {
   "cell_type": "code",
   "execution_count": 41,
   "metadata": {},
   "outputs": [
    {
     "name": "stderr",
     "output_type": "stream",
     "text": [
      "                                                                                \r"
     ]
    },
    {
     "data": {
      "text/html": [
       "<table border='1'>\n",
       "<tr><th>merchant_abn</th><th>consumer_id</th><th>user_id</th><th>dollar_value</th><th>order_id</th><th>order_datetime</th><th>state</th><th>postcode</th><th>gender</th><th>merchant_name</th><th>tag</th><th>revenue</th><th>rate</th><th>category</th><th>subcategory</th><th>merchant_fraud_probability</th><th>user_fraud_probability</th><th>estimated_region_population_2021_sum</th><th>persons_earners_2018-19_sum</th><th>mean_earnings_2018-19_avg</th><th>sum_earnings_2018-19_sum</th><th>median_earnings_2018-19_avg</th><th>med_age_earners_2018-19_avg</th></tr>\n",
       "<tr><td>32709545238</td><td>561</td><td>14108</td><td>361.79</td><td>7f2cbe00-1d8c-49b...</td><td>2021-08-21</td><td>NSW</td><td>2293</td><td>Male</td><td>Tempor Est Founda...</td><td>stationery, offic...</td><td>c</td><td>3.04</td><td>retail_and_wholes...</td><td>others_retailing</td><td>null</td><td>null</td><td>9099</td><td>5350.0</td><td>66013.0</td><td>3.53171988E8</td><td>56552.0</td><td>38.0</td></tr>\n",
       "<tr><td>19839532017</td><td>561</td><td>14108</td><td>157.0</td><td>01a35e05-f763-4a1...</td><td>2021-08-21</td><td>NSW</td><td>2293</td><td>Male</td><td>Pellentesque Habi...</td><td>cable, satellite,...</td><td>b</td><td>4.94</td><td>info_media_and_te...</td><td>null</td><td>null</td><td>null</td><td>9099</td><td>5350.0</td><td>66013.0</td><td>3.53171988E8</td><td>56552.0</td><td>38.0</td></tr>\n",
       "<tr><td>14639489823</td><td>561</td><td>14108</td><td>217.71</td><td>21ea8392-7fc6-467...</td><td>2021-08-21</td><td>NSW</td><td>2293</td><td>Male</td><td>Auctor Mauris Inc...</td><td>furniture, home f...</td><td>a</td><td>6.36</td><td>retail_and_wholes...</td><td>household_goods_r...</td><td>null</td><td>null</td><td>9099</td><td>5350.0</td><td>66013.0</td><td>3.53171988E8</td><td>56552.0</td><td>38.0</td></tr>\n",
       "<tr><td>69666829657</td><td>561</td><td>14108</td><td>178.13</td><td>44a8f7af-113c-4e0...</td><td>2021-08-21</td><td>NSW</td><td>2293</td><td>Male</td><td>Sem Ut Institute</td><td>bicycle shops - s...</td><td>c</td><td>2.86</td><td>retail_and_wholes...</td><td>department_stores</td><td>null</td><td>null</td><td>9099</td><td>5350.0</td><td>66013.0</td><td>3.53171988E8</td><td>56552.0</td><td>38.0</td></tr>\n",
       "<tr><td>26148653604</td><td>561</td><td>14108</td><td>15.6</td><td>7a8996c8-220c-41d...</td><td>2021-08-21</td><td>NSW</td><td>2293</td><td>Male</td><td>Volutpat Nulla In...</td><td>furniture, home f...</td><td>a</td><td>6.59</td><td>retail_and_wholes...</td><td>household_goods_r...</td><td>null</td><td>null</td><td>9099</td><td>5350.0</td><td>66013.0</td><td>3.53171988E8</td><td>56552.0</td><td>38.0</td></tr>\n",
       "<tr><td>29521780474</td><td>561</td><td>14108</td><td>7.24</td><td>17838284-d80d-400...</td><td>2021-08-19</td><td>NSW</td><td>2293</td><td>Male</td><td>At Sem Corp.</td><td>cable, satellite,...</td><td>a</td><td>5.93</td><td>info_media_and_te...</td><td>null</td><td>null</td><td>null</td><td>9099</td><td>5350.0</td><td>66013.0</td><td>3.53171988E8</td><td>56552.0</td><td>38.0</td></tr>\n",
       "<tr><td>43186523025</td><td>561</td><td>14108</td><td>69.02</td><td>d59a5f33-b131-465...</td><td>2021-08-22</td><td>NSW</td><td>2293</td><td>Male</td><td>Lorem Ipsum Sodal...</td><td>florists supplies...</td><td>b</td><td>4.47</td><td>retail_and_wholes...</td><td>department_stores</td><td>null</td><td>null</td><td>9099</td><td>5350.0</td><td>66013.0</td><td>3.53171988E8</td><td>56552.0</td><td>38.0</td></tr>\n",
       "<tr><td>46804135891</td><td>561</td><td>14108</td><td>4.6</td><td>c53d22fe-e476-446...</td><td>2021-08-14</td><td>NSW</td><td>2293</td><td>Male</td><td>Suspendisse Dui C...</td><td>opticians, optica...</td><td>c</td><td>2.93</td><td>retail_and_wholes...</td><td>others_retailing</td><td>null</td><td>null</td><td>9099</td><td>5350.0</td><td>66013.0</td><td>3.53171988E8</td><td>56552.0</td><td>38.0</td></tr>\n",
       "<tr><td>93429143824</td><td>561</td><td>14108</td><td>64.55</td><td>9a398824-5d79-441...</td><td>2021-08-14</td><td>NSW</td><td>2293</td><td>Male</td><td>Fames Ac Associates</td><td>lawn and garden s...</td><td>c</td><td>1.64</td><td>retail_and_wholes...</td><td>food_retailing</td><td>null</td><td>null</td><td>9099</td><td>5350.0</td><td>66013.0</td><td>3.53171988E8</td><td>56552.0</td><td>38.0</td></tr>\n",
       "<tr><td>68216911708</td><td>561</td><td>14108</td><td>13.92</td><td>cae2549d-7585-47c...</td><td>2021-08-14</td><td>NSW</td><td>2293</td><td>Male</td><td>Placerat Eget Ven...</td><td>computers, comput...</td><td>c</td><td>3.05</td><td>retail_and_wholes...</td><td>household_goods_r...</td><td>null</td><td>null</td><td>9099</td><td>5350.0</td><td>66013.0</td><td>3.53171988E8</td><td>56552.0</td><td>38.0</td></tr>\n",
       "</table>\n"
      ],
      "text/plain": [
       "+------------+-----------+-------+------------+--------------------+--------------+-----+--------+------+--------------------+--------------------+-------+----+--------------------+--------------------+--------------------------+----------------------+------------------------------------+---------------------------+-------------------------+------------------------+---------------------------+---------------------------+\n",
       "|merchant_abn|consumer_id|user_id|dollar_value|            order_id|order_datetime|state|postcode|gender|       merchant_name|                 tag|revenue|rate|            category|         subcategory|merchant_fraud_probability|user_fraud_probability|estimated_region_population_2021_sum|persons_earners_2018-19_sum|mean_earnings_2018-19_avg|sum_earnings_2018-19_sum|median_earnings_2018-19_avg|med_age_earners_2018-19_avg|\n",
       "+------------+-----------+-------+------------+--------------------+--------------+-----+--------+------+--------------------+--------------------+-------+----+--------------------+--------------------+--------------------------+----------------------+------------------------------------+---------------------------+-------------------------+------------------------+---------------------------+---------------------------+\n",
       "| 32709545238|        561|  14108|      361.79|7f2cbe00-1d8c-49b...|    2021-08-21|  NSW|    2293|  Male|Tempor Est Founda...|stationery, offic...|      c|3.04|retail_and_wholes...|    others_retailing|                      null|                  null|                                9099|                     5350.0|                  66013.0|            3.53171988E8|                    56552.0|                       38.0|\n",
       "| 19839532017|        561|  14108|       157.0|01a35e05-f763-4a1...|    2021-08-21|  NSW|    2293|  Male|Pellentesque Habi...|cable, satellite,...|      b|4.94|info_media_and_te...|                null|                      null|                  null|                                9099|                     5350.0|                  66013.0|            3.53171988E8|                    56552.0|                       38.0|\n",
       "| 14639489823|        561|  14108|      217.71|21ea8392-7fc6-467...|    2021-08-21|  NSW|    2293|  Male|Auctor Mauris Inc...|furniture, home f...|      a|6.36|retail_and_wholes...|household_goods_r...|                      null|                  null|                                9099|                     5350.0|                  66013.0|            3.53171988E8|                    56552.0|                       38.0|\n",
       "| 69666829657|        561|  14108|      178.13|44a8f7af-113c-4e0...|    2021-08-21|  NSW|    2293|  Male|    Sem Ut Institute|bicycle shops - s...|      c|2.86|retail_and_wholes...|   department_stores|                      null|                  null|                                9099|                     5350.0|                  66013.0|            3.53171988E8|                    56552.0|                       38.0|\n",
       "| 26148653604|        561|  14108|        15.6|7a8996c8-220c-41d...|    2021-08-21|  NSW|    2293|  Male|Volutpat Nulla In...|furniture, home f...|      a|6.59|retail_and_wholes...|household_goods_r...|                      null|                  null|                                9099|                     5350.0|                  66013.0|            3.53171988E8|                    56552.0|                       38.0|\n",
       "| 29521780474|        561|  14108|        7.24|17838284-d80d-400...|    2021-08-19|  NSW|    2293|  Male|        At Sem Corp.|cable, satellite,...|      a|5.93|info_media_and_te...|                null|                      null|                  null|                                9099|                     5350.0|                  66013.0|            3.53171988E8|                    56552.0|                       38.0|\n",
       "| 43186523025|        561|  14108|       69.02|d59a5f33-b131-465...|    2021-08-22|  NSW|    2293|  Male|Lorem Ipsum Sodal...|florists supplies...|      b|4.47|retail_and_wholes...|   department_stores|                      null|                  null|                                9099|                     5350.0|                  66013.0|            3.53171988E8|                    56552.0|                       38.0|\n",
       "| 46804135891|        561|  14108|         4.6|c53d22fe-e476-446...|    2021-08-14|  NSW|    2293|  Male|Suspendisse Dui C...|opticians, optica...|      c|2.93|retail_and_wholes...|    others_retailing|                      null|                  null|                                9099|                     5350.0|                  66013.0|            3.53171988E8|                    56552.0|                       38.0|\n",
       "| 93429143824|        561|  14108|       64.55|9a398824-5d79-441...|    2021-08-14|  NSW|    2293|  Male| Fames Ac Associates|lawn and garden s...|      c|1.64|retail_and_wholes...|      food_retailing|                      null|                  null|                                9099|                     5350.0|                  66013.0|            3.53171988E8|                    56552.0|                       38.0|\n",
       "| 68216911708|        561|  14108|       13.92|cae2549d-7585-47c...|    2021-08-14|  NSW|    2293|  Male|Placerat Eget Ven...|computers, comput...|      c|3.05|retail_and_wholes...|household_goods_r...|                      null|                  null|                                9099|                     5350.0|                  66013.0|            3.53171988E8|                    56552.0|                       38.0|\n",
       "+------------+-----------+-------+------------+--------------------+--------------+-----+--------+------+--------------------+--------------------+-------+----+--------------------+--------------------+--------------------------+----------------------+------------------------------------+---------------------------+-------------------------+------------------------+---------------------------+---------------------------+"
      ]
     },
     "execution_count": 41,
     "metadata": {},
     "output_type": "execute_result"
    }
   ],
   "source": [
    "dataset = spark.read.parquet(\"../../data/curated/process_data.parquet/\")\n",
    "dataset.limit(10)\n"
   ]
  },
  {
   "cell_type": "markdown",
   "metadata": {},
   "source": [
    "## Outliers"
   ]
  },
  {
   "cell_type": "code",
   "execution_count": 42,
   "metadata": {},
   "outputs": [
    {
     "name": "stderr",
     "output_type": "stream",
     "text": [
      "                                                                                \r"
     ]
    }
   ],
   "source": [
    "category = dataset.select('category').distinct()\n",
    "for cat in category.collect():\n",
    "    subset = dataset.filter(F.col(\"category\") == cat[0])\n",
    "    if (cat == 'retail_and_wholesale_trade'):\n",
    "        subcategory = subset.select('subcategory').distinct()\n",
    "        for subcat in subcategory.collect():\n",
    "            sub = subset.filter(F.col(\"subcategory\") == subcat[0])\n",
    "            q3, q1 = sub.approxQuantile('dollar_value', [0.75, 0.25], 0) \n",
    "            iqr = q3 - q1\n",
    "            min = q1 - 1.5*iqr\n",
    "            max = q3 + 1.5*iqr\n",
    "\n",
    "            if ('isOutlier' in dataset.columns):\n",
    "                dataset = dataset.withColumn('isOutlier', \n",
    "                            when((dataset.subcategory == subcat[0]) & (dataset.dollar_value >= min) & (dataset.dollar_value <= max), lit('False'))\\\n",
    "                            .when((dataset.subcategory == subcat[0]), lit('True'))\n",
    "                            .otherwise(dataset.isOutlier))\n",
    "            else:\n",
    "                dataset = dataset.withColumn('isOutlier', \n",
    "                            when((dataset.subcategory == subcat[0]) & (dataset.dollar_value >= min) & (dataset.dollar_value <= max), lit('False'))\\\n",
    "                            .when((dataset.subcategory == subcat[0]), lit('True')))\n",
    "    else:\n",
    "        q3, q1 = subset.approxQuantile('dollar_value', [0.75, 0.25], 0) \n",
    "        iqr = q3 - q1\n",
    "        min = q1 - 1.5*iqr\n",
    "        max = q3 + 1.5*iqr\n",
    "\n",
    "        if ('isOutlier' in dataset.columns):\n",
    "            dataset = dataset.withColumn('isOutlier', \n",
    "                        when((dataset.category == cat[0]) & (dataset.dollar_value >= min) & (dataset.dollar_value <= max), lit('False'))\\\n",
    "                        .when((dataset.category == cat[0]), lit('True'))\n",
    "                        .otherwise(dataset.isOutlier))\n",
    "        else:\n",
    "            dataset = dataset.withColumn('isOutlier', \n",
    "                        when((dataset.category == cat[0]) & (dataset.dollar_value >= min) & (dataset.dollar_value <= max), lit('False'))\\\n",
    "                        .when((dataset.category == cat[0]), lit('True')))\n",
    "\n"
   ]
  },
  {
   "cell_type": "code",
   "execution_count": 43,
   "metadata": {},
   "outputs": [
    {
     "name": "stderr",
     "output_type": "stream",
     "text": [
      "                                                                                \r"
     ]
    },
    {
     "data": {
      "text/html": [
       "<table border='1'>\n",
       "<tr><th>merchant_abn</th><th>consumer_id</th><th>user_id</th><th>dollar_value</th><th>order_id</th><th>order_datetime</th><th>state</th><th>postcode</th><th>gender</th><th>merchant_name</th><th>tag</th><th>revenue</th><th>rate</th><th>category</th><th>subcategory</th><th>merchant_fraud_probability</th><th>user_fraud_probability</th><th>estimated_region_population_2021_sum</th><th>persons_earners_2018-19_sum</th><th>mean_earnings_2018-19_avg</th><th>sum_earnings_2018-19_sum</th><th>median_earnings_2018-19_avg</th><th>med_age_earners_2018-19_avg</th><th>isOutlier</th></tr>\n",
       "<tr><td>32709545238</td><td>561</td><td>14108</td><td>361.79</td><td>7f2cbe00-1d8c-49b...</td><td>2021-08-21</td><td>NSW</td><td>2293</td><td>Male</td><td>Tempor Est Founda...</td><td>stationery, offic...</td><td>c</td><td>3.04</td><td>retail_and_wholes...</td><td>others_retailing</td><td>null</td><td>null</td><td>9099</td><td>5350.0</td><td>66013.0</td><td>3.53171988E8</td><td>56552.0</td><td>38.0</td><td>True</td></tr>\n",
       "<tr><td>19839532017</td><td>561</td><td>14108</td><td>157.0</td><td>01a35e05-f763-4a1...</td><td>2021-08-21</td><td>NSW</td><td>2293</td><td>Male</td><td>Pellentesque Habi...</td><td>cable, satellite,...</td><td>b</td><td>4.94</td><td>info_media_and_te...</td><td>null</td><td>null</td><td>null</td><td>9099</td><td>5350.0</td><td>66013.0</td><td>3.53171988E8</td><td>56552.0</td><td>38.0</td><td>False</td></tr>\n",
       "</table>\n"
      ],
      "text/plain": [
       "+------------+-----------+-------+------------+--------------------+--------------+-----+--------+------+--------------------+--------------------+-------+----+--------------------+----------------+--------------------------+----------------------+------------------------------------+---------------------------+-------------------------+------------------------+---------------------------+---------------------------+---------+\n",
       "|merchant_abn|consumer_id|user_id|dollar_value|            order_id|order_datetime|state|postcode|gender|       merchant_name|                 tag|revenue|rate|            category|     subcategory|merchant_fraud_probability|user_fraud_probability|estimated_region_population_2021_sum|persons_earners_2018-19_sum|mean_earnings_2018-19_avg|sum_earnings_2018-19_sum|median_earnings_2018-19_avg|med_age_earners_2018-19_avg|isOutlier|\n",
       "+------------+-----------+-------+------------+--------------------+--------------+-----+--------+------+--------------------+--------------------+-------+----+--------------------+----------------+--------------------------+----------------------+------------------------------------+---------------------------+-------------------------+------------------------+---------------------------+---------------------------+---------+\n",
       "| 32709545238|        561|  14108|      361.79|7f2cbe00-1d8c-49b...|    2021-08-21|  NSW|    2293|  Male|Tempor Est Founda...|stationery, offic...|      c|3.04|retail_and_wholes...|others_retailing|                      null|                  null|                                9099|                     5350.0|                  66013.0|            3.53171988E8|                    56552.0|                       38.0|     True|\n",
       "| 19839532017|        561|  14108|       157.0|01a35e05-f763-4a1...|    2021-08-21|  NSW|    2293|  Male|Pellentesque Habi...|cable, satellite,...|      b|4.94|info_media_and_te...|            null|                      null|                  null|                                9099|                     5350.0|                  66013.0|            3.53171988E8|                    56552.0|                       38.0|    False|\n",
       "+------------+-----------+-------+------------+--------------------+--------------+-----+--------+------+--------------------+--------------------+-------+----+--------------------+----------------+--------------------------+----------------------+------------------------------------+---------------------------+-------------------------+------------------------+---------------------------+---------------------------+---------+"
      ]
     },
     "execution_count": 43,
     "metadata": {},
     "output_type": "execute_result"
    }
   ],
   "source": [
    "dataset.limit(2)"
   ]
  },
  {
   "cell_type": "markdown",
   "metadata": {},
   "source": [
    "## Distributions of Variables with and without Outliers"
   ]
  },
  {
   "cell_type": "code",
   "execution_count": 44,
   "metadata": {},
   "outputs": [],
   "source": [
    "dataset_wo_outliers = dataset.filter(F.col(\"isOutlier\") == 'False')"
   ]
  },
  {
   "cell_type": "markdown",
   "metadata": {},
   "source": [
    "## Relationship between Features"
   ]
  }
 ],
 "metadata": {
  "kernelspec": {
   "display_name": "Python 3.10.4 64-bit",
   "language": "python",
   "name": "python3"
  },
  "language_info": {
   "codemirror_mode": {
    "name": "ipython",
    "version": 3
   },
   "file_extension": ".py",
   "mimetype": "text/x-python",
   "name": "python",
   "nbconvert_exporter": "python",
   "pygments_lexer": "ipython3",
   "version": "3.10.4"
  },
  "orig_nbformat": 4,
  "vscode": {
   "interpreter": {
    "hash": "916dbcbb3f70747c44a77c7bcd40155683ae19c65e1c03b4aa3499c5328201f1"
   }
  }
 },
 "nbformat": 4,
 "nbformat_minor": 2
}
